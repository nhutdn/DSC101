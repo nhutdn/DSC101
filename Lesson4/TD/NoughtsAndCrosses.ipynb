{
 "cells": [
  {
   "cell_type": "markdown",
   "metadata": {},
   "source": [
    "# TD4 - Noughts and Crosses - Carô"
   ]
  },
  {
   "cell_type": "markdown",
   "metadata": {},
   "source": [
    "## Mô tả\n",
    "Trò chơi caro (Noughts and Crosses) được mô tả như sau: Có một bảng $m x n$. Hai người chơi lần lượt đánh kí hiệu của riêng mình (**X**) hoặc (**O**) vào một ô còn trống của bảng. Người đầu tiên đánh được kí hiệu của mình ở $k$ ô liên tiếp theo hàng ngang, cột dọc hoặc đường chéo là người thắng cuộc. Nếu tất cả các ô của bảng đều đã được điền mà không ai thực hiện được nhiệm vụ trên thì kết quả được xem là hoà.\n",
    "\n",
    "<img src=\"https://raw.githubusercontent.com/riduan91/DSC101/master/Lesson4/TD/Fig1.png\"/>\n",
    "<center>*Trong hình vẽ, $m = n = 3$. Nếu chọn $k = 3$, người có kí hiệu **X** thắng vì đánh được $k$ kí hiệu **X** liên tiếp trên một đường chéo.*</center>"
   ]
  },
  {
   "cell_type": "markdown",
   "metadata": {},
   "source": [
    "Trong TD này ta sẽ implement trò chơi này một cách đơn giản, theo các bước sau:\n",
    "\n",
    "-\tThiết lập một class Board để mô tả trạng thái của một bàn cờ\n",
    "\n",
    "-\tThiết lập một class Game để mô tả trạng thái của ván chơi\n",
    "\n",
    "-\tSau đó, tìm cách để xây dựng chiến thuật khi máy tính chơi với con người sao cho khả năng thắng cao. Ta cũng tìm cách implement chiến thuật sao cho tốn ít thời gian chạy của máy.\n",
    "\n",
    "Riêng ở phần cuối, trong phạm vi của TD ta cũng chỉ cần thực hiện cho các trường hợp $m, n, k$ nhỏ (khoảng bằng 5). \n",
    "\n",
    "Bạn cần viết code trong file <a href=\"https://raw.githubusercontent.com/riduan91/DSC101/master/Lesson4/TD/NoughtsAndCrosses.py\">NoughtsAndCrosses.py</a>. Trong file này, một số hàm đã được viết sẵn và một số khác đã được đặt tên sẵn. Bạn không sửa tên các hàm này và không thay đổi code đã viết, trừ trường hợp đổi syntax giữa Python 2 và Python 3. \n",
    "\n",
    "Bạn có thể viết các hàm phụ khác ngoài các hàm đã yêu cầu trong đề. Bạn có thể sử dụng các hàm từ thư viện khác miễn là hàm đó không trực tiếp trả lời câu hỏi trong bài.\n",
    "\n",
    "Để test, bạn có thể sử dụng file <a href=\"https://raw.githubusercontent.com/riduan91/DSC101/master/Lesson4/TD/TestNoughtsAndCrosses.py\">TestNoughtsAndCrosses.py</a>. Bạn không cần thay đổi nội dung file này trừ mục đích đổi syntax để tương thích với Python3.\n",
    "\n",
    "Để chạy từng test, trong Spyder, bạn chọn Run -> Configure và gõ tên test tương ứng với bài tập (test_1, test_2, test_3, …, tương tự như TD1, 2, 3)\n"
   ]
  },
  {
   "cell_type": "code",
   "execution_count": 1,
   "metadata": {
    "collapsed": true
   },
   "outputs": [],
   "source": [
    "from NoughtsAndCrosses_Solution import *"
   ]
  },
  {
   "cell_type": "markdown",
   "metadata": {},
   "source": [
    "## Phần 1. Mô tả bàn cờ - Class **Board**"
   ]
  },
  {
   "cell_type": "markdown",
   "metadata": {},
   "source": [
    "Một bàn cờ là một hình chữ nhật được chia thành m x n ô bằng nhau. Toạ độ được đánh số như sau:\n",
    "<center>\n",
    "(0,0)\t(0,1)\t(0,2)\t(0,3)   ...\n",
    "</center>\n",
    "<center>\n",
    "(1,0)\t(1,1)\t(1,2)\t(1,3)   ...\n",
    "</center>\n",
    "<center>\n",
    "(2,0)\t(2,1)\t(2,2)\t(2,3)   ...\n",
    "</center>\n",
    "<center>\n",
    "(3,0)\t(3,1)\t(3,2)\t(3,3)   ...\n",
    "</center>\n",
    "<center>\n",
    "...\n",
    "</center>\n",
    "theo quy ước: chỉ số hàng viết trước, chỉ số cột viết sau.\n",
    "\n",
    "Ta mô tả bàn cờ này bằng class **Board**. Một instance của class **Board**, tức một bàn cờ, được xác định bởi chiều cao, chiều rộng, và trạng thái của tất cả các ô của nó (đã được đánh dấu hay chưa). Ban đầu, tất cả các ô của bàn cờ đều trống. Do đó, hàm __init__ trong class được viết như sau:\n"
   ]
  },
  {
   "cell_type": "code",
   "execution_count": null,
   "metadata": {
    "collapsed": true
   },
   "outputs": [],
   "source": [
    "  def __init__(self, height, width):\n",
    "        \"\"\"\n",
    "            Create a board with defined height and width\n",
    "            Fill 0 (empty) to every cell of the board\n",
    "        \"\"\"\n",
    "        self.__height = height\n",
    "        self.__width = width\n",
    "        self.__cells = []\n",
    "        for i in range(height):\n",
    "            self.__cells.append([])\n",
    "            for j in range(width):\n",
    "                self.__cells[i].append(Board.EMPTY)"
   ]
  },
  {
   "cell_type": "markdown",
   "metadata": {},
   "source": [
    "Theo đó, tất cả các ô của bàn cờ sẽ được biểu diễn bởi một list **self.\\_\\_cells** của $m$ list con của $n$ số nguyên (**int**). Trong đó trạng thái trống của một ô sẽ được biểu diễn bởi số nguyên 0, tức hằng số **EMPTY** của class. Nếu sau này ô **(i, j)** được đánh bới người chơi 1 (kí hiệu là **X**) hay 2 (kí hiệu là **O**), **self.\\_\\_cells[i][j]** sẽ mang giá trị tương ứng 1 (**X**) hoặc 2 (**O**).\n",
    "\n",
    "Hàm **draw()** cho phép phác hoạ trạng thái của bàn cờ. Ví dụ ban đầu, bàn cờ rỗng, do đó khi in bàn cờ, ta có trạng thái sau:"
   ]
  },
  {
   "cell_type": "code",
   "execution_count": 2,
   "metadata": {
    "collapsed": false
   },
   "outputs": [
    {
     "name": "stdout",
     "output_type": "stream",
     "text": [
      "-----------\n",
      "| | | | | |\n",
      "-----------\n",
      "| | | | | |\n",
      "-----------\n",
      "| | | | | |\n",
      "-----------\n",
      "| | | | | |\n",
      "-----------\n",
      "| | | | | |\n",
      "-----------\n",
      "\n"
     ]
    }
   ],
   "source": [
    "board = Board(5, 5)\n",
    "print board.draw()"
   ]
  },
  {
   "cell_type": "markdown",
   "metadata": {},
   "source": [
    "Bây giờ ta viết code mô tả bàn cờ."
   ]
  },
  {
   "cell_type": "markdown",
   "metadata": {},
   "source": [
    "### Bài 1. Các getter, setter cơ bản của Board\n",
    "*Hãy viết các hàm sau trong class **Board**:*\n",
    "\n",
    "*-\t**getHeight()** : trả lại chiều cao $m$ của bảng*\n",
    "\n",
    "*-\t**getWidth()** : trả lại chiều rộng $n$ của bảng*\n",
    "\n",
    "*-\t**getBoardStatus()** : trả lại trạng thái của tất cả các ô, tức là một list m list con của n số nguyên 0, 1 hoặc 2.*\n",
    "\n",
    "*-\t**setBoardStatus(cells)** : nhận đối số **cells** là một list các list các int và gán nó cho **self.__cells***\n",
    "\n",
    "Đoạn code dưới đây giúp test hàm của bạn"
   ]
  },
  {
   "cell_type": "code",
   "execution_count": 9,
   "metadata": {
    "collapsed": false
   },
   "outputs": [
    {
     "name": "stdout",
     "output_type": "stream",
     "text": [
      "---------\n",
      "| | | | |\n",
      "---------\n",
      "| | | | |\n",
      "---------\n",
      "| | | | |\n",
      "---------\n",
      "| | | | |\n",
      "---------\n",
      "| | | | |\n",
      "---------\n",
      "\n",
      "5\n",
      "4\n",
      "[[0, 0, 0, 0], [0, 0, 0, 0], [0, 0, 0, 0], [0, 0, 0, 0], [0, 0, 0, 0]]\n"
     ]
    }
   ],
   "source": [
    "board = Board(5, 4)\n",
    "print(board.draw())\n",
    "print(board.getHeight())\n",
    "print(board.getWidth())\n",
    "print(board.getBoardStatus())"
   ]
  },
  {
   "cell_type": "code",
   "execution_count": 10,
   "metadata": {
    "collapsed": false
   },
   "outputs": [
    {
     "name": "stdout",
     "output_type": "stream",
     "text": [
      "---------\n",
      "| |O| | |\n",
      "---------\n",
      "| |X| |O|\n",
      "---------\n",
      "| |X|O| |\n",
      "---------\n",
      "| | |O|X|\n",
      "---------\n",
      "| | |X| |\n",
      "---------\n",
      "\n",
      "[[0, 2, 0, 0], [0, 1, 0, 2], [0, 1, 2, 0], [0, 0, 2, 1], [0, 0, 1, 0]]\n"
     ]
    }
   ],
   "source": [
    "board = Board(5, 4)\n",
    "board.setBoardStatus([[0, 2, 0, 0], [0, 1, 0, 2], [0, 1, 2, 0], [0, 0, 2, 1], [0, 0, 1, 0]])\n",
    "print(board.draw())\n",
    "print(board.getBoardStatus())"
   ]
  },
  {
   "cell_type": "markdown",
   "metadata": {},
   "source": [
    "### Bài 2. Làm việc với từng ô của bàn cờ\n",
    "\n",
    "Ta sẽ biểu diễn mỗi ô của bàn cờ bằng toạ độ của nó, một tuple **(i, j)** trong Python, trong đó **i** là chỉ số hàng, **j** là chỉ số cột.\n",
    "\n",
    "*Hãy viết các hàm sau:*\n",
    "\n",
    "*- **getCellStatus(cell)**: nhận đối số **cell** là toạ độ của ô và trả lại trạng thái của ô đó (một số nguyên 0, 1 hay 2)\n",
    "\n",
    "*- **isEmptyCell(cell)**: nhận đối số **cell** là toạ độ của ô và trả lại **True** nếu ô đó đang trống (tức có trạng thái 0) hay **False** nếu ô đó đã có người đánh (có trạng thái 1 hoặc 2). \n",
    "\n",
    "*- **mark(value, cell)** : nhận đối số **cell** là toạ độ của ô, value là một giá trị **EMPTY** = 0, **X** = 1 hay **O** = 2, và gán value cho trạng thái của ô đó.*\n",
    "\n",
    "*- **getEmptyCells()** : trả lại list toạ độ tất cả các ô trống trên bàn cờ. Kết quả cần có dạng một list các tuple, ví dụ [(1, 2), (1, 3)]**\n",
    "\n",
    "Đoạn code dưới đây giúp test hàm của bạn."
   ]
  },
  {
   "cell_type": "code",
   "execution_count": 30,
   "metadata": {
    "collapsed": false
   },
   "outputs": [
    {
     "data": {
      "text/plain": [
       "2"
      ]
     },
     "execution_count": 30,
     "metadata": {},
     "output_type": "execute_result"
    }
   ],
   "source": [
    "# Test setBoardStatus and getCellStatus\n",
    "board = Board(5, 5)\n",
    "board.setBoardStatus([[0,0,0,0,0], [0,1,0,0,0], [0,1,2,0,0], [0,2,0,0,0], [0,0,2,0,0]])\n",
    "board.getCellStatus((2, 2))"
   ]
  },
  {
   "cell_type": "code",
   "execution_count": 31,
   "metadata": {
    "collapsed": false
   },
   "outputs": [
    {
     "data": {
      "text/plain": [
       "True"
      ]
     },
     "execution_count": 31,
     "metadata": {},
     "output_type": "execute_result"
    }
   ],
   "source": [
    "# Then test isEmptyCell\n",
    "board.isEmptyCell((3, 2))"
   ]
  },
  {
   "cell_type": "code",
   "execution_count": 32,
   "metadata": {
    "collapsed": false
   },
   "outputs": [
    {
     "name": "stdout",
     "output_type": "stream",
     "text": [
      "-----------\n",
      "| | | | | |\n",
      "-----------\n",
      "| |X| | | |\n",
      "-----------\n",
      "| |X|O| | |\n",
      "-----------\n",
      "| |O| | | |\n",
      "-----------\n",
      "| | |O| | |\n",
      "-----------\n",
      "\n"
     ]
    }
   ],
   "source": [
    "print(board.draw())"
   ]
  },
  {
   "cell_type": "code",
   "execution_count": 33,
   "metadata": {
    "collapsed": false
   },
   "outputs": [
    {
     "name": "stdout",
     "output_type": "stream",
     "text": [
      "-----------\n",
      "| | | | | |\n",
      "-----------\n",
      "| |X|X| | |\n",
      "-----------\n",
      "| |X|O| | |\n",
      "-----------\n",
      "| |O| | | |\n",
      "-----------\n",
      "| | |O| | |\n",
      "-----------\n",
      "\n"
     ]
    }
   ],
   "source": [
    "# Then test mark\n",
    "board.mark(1, (1, 2))\n",
    "print(board.draw())"
   ]
  },
  {
   "cell_type": "code",
   "execution_count": 34,
   "metadata": {
    "collapsed": false
   },
   "outputs": [
    {
     "data": {
      "text/plain": [
       "[(0, 0),\n",
       " (0, 1),\n",
       " (0, 2),\n",
       " (0, 3),\n",
       " (0, 4),\n",
       " (1, 0),\n",
       " (1, 3),\n",
       " (1, 4),\n",
       " (2, 0),\n",
       " (2, 3),\n",
       " (2, 4),\n",
       " (3, 0),\n",
       " (3, 2),\n",
       " (3, 3),\n",
       " (3, 4),\n",
       " (4, 0),\n",
       " (4, 1),\n",
       " (4, 3),\n",
       " (4, 4)]"
      ]
     },
     "execution_count": 34,
     "metadata": {},
     "output_type": "execute_result"
    }
   ],
   "source": [
    "# Then test getEmptyCells\n",
    "board.getEmptyCells()"
   ]
  },
  {
   "cell_type": "markdown",
   "metadata": {},
   "source": [
    "### Bài 3. Tìm các lân cận của một ô trên bàn cờ\n",
    "Một ô **(x, y)** trên bàn cờ được gọi là lân cận của ô **(i, j)** nếu toạ độ của nó khác **(i, j)**,  **x** nằm trong **[i-1, i+1]** và **y** nằm trong **[j-1, j+1]**. Mỗi ô trên bàn cờ có tối thiểu 3 lân cận (trường hợp của các ô ở góc), tối đa 8 lân cận (trường hợp của các ô không ở biên).\n",
    "\n",
    "*Viết hàm **getNeighbors(cell)** nhận đối số **cell** là toạ độ của một ô **(i, j)** trên bàn cờ, và trả lại tất cả các lân cận của nó dưới dạng một list các tuple toạ độ.*\n",
    "\n",
    "Đoạn code dưới đây giúp test hàm của bạn."
   ]
  },
  {
   "cell_type": "code",
   "execution_count": 35,
   "metadata": {
    "collapsed": false
   },
   "outputs": [
    {
     "data": {
      "text/plain": [
       "[(1, 3), (2, 2), (1, 2), (3, 2), (3, 3), (2, 4), (1, 4), (3, 4)]"
      ]
     },
     "execution_count": 35,
     "metadata": {},
     "output_type": "execute_result"
    }
   ],
   "source": [
    "board = Board(5, 5)\n",
    "board.getNeighbors((2, 3))"
   ]
  },
  {
   "cell_type": "code",
   "execution_count": 36,
   "metadata": {
    "collapsed": false
   },
   "outputs": [
    {
     "data": {
      "text/plain": [
       "[(3, 3), (4, 2), (3, 2), (4, 4), (3, 4)]"
      ]
     },
     "execution_count": 36,
     "metadata": {},
     "output_type": "execute_result"
    }
   ],
   "source": [
    "board.getNeighbors((4, 3))"
   ]
  },
  {
   "cell_type": "markdown",
   "metadata": {},
   "source": [
    "## Phần 2 - Mô tả ván chơi - Class Game"
   ]
  },
  {
   "cell_type": "markdown",
   "metadata": {},
   "source": [
    "Một ván chơi được tiến hành như sau: Hai người chơi 1 (**X**) và 2 (**O**) thống nhất về kích thước bàn cờ, luật chơi (tức về $m, n, k$), và ai là người đi trước. Sau đó họ tiến hành đánh cờ lần lượt vào các ô trống cho đến khi xác định được người chiến thắng hoặc khi mọi ô của bàn cờ được đánh hết.\n",
    "\n",
    "Như vậy, các tham số cần cho thời điểm ban đầu:\n",
    "\n",
    "1.\t$m, n, k$ (khác nhau với các ván chơi khác nhau)\n",
    "\n",
    "2.\tNgười đánh trước là ai.\n",
    "\n",
    "Ở mỗi thời điểm (bất kì), trạng thái của một ván chơi sẽ hoàn toàn được xác định bởi các thông tin sau:\n",
    "\n",
    "1.\tTrạng thái của bàn cờ như thế nào (ô nào đang trống hay đang có kí hiệu gì)\n",
    "\n",
    "2.\tTrò chơi đã kết thúc chưa.\n",
    "\n",
    "3.\tNếu trò chơi đã kết thúc, ai là người thắng, hay kết quả là hoà.\n",
    "\n",
    "4.\tNếu trò chơi chưa kết thúc, ai có quyền đánh ở nước tiếp theo.\n",
    "\n",
    "Ta diễn dịch các thông tin này thành các attribute của các instance trong class **Game**. Ta viết hàm **\\_\\_init\\_\\_** như sau."
   ]
  },
  {
   "cell_type": "code",
   "execution_count": null,
   "metadata": {
    "collapsed": true
   },
   "outputs": [],
   "source": [
    "def __init__(self, height, width, firstTurn, winNumber):\n",
    "    \"\"\"\n",
    "    Begin a game and define which attributes are necessary to describe the game status at some moment\n",
    "    \"\"\"\n",
    "    self.__winNumber = winNumber\n",
    "    self.__board = Board(height, width)\n",
    "    self.__turn = firstTurn\n",
    "    self.__status = Game.ACTIVE\n",
    "    self.__winner = Game.NOWINNER "
   ]
  },
  {
   "cell_type": "markdown",
   "metadata": {},
   "source": [
    "Các tham số cần cho **thời điểm ban đầu** là $m, n, k$, người đi trước được chuyển thành **height**, **width**, **winNumber**, **firstTurn** trong phần tham số của **\\_\\_init\\_\\_**.\n",
    "\n",
    "Các tham số cần cho **mỗi thời điểm bất kì** ứng với các điểm 1, 2, 3, 4 nêu trên được mô tả thành các attribute **\\_\\_board**, **\\_\\_status**, **\\_\\_winner**, **\\_\\_turn** của class. Trong đó, **\\_\\_board** thuộc class **Board**, ban đầu là một bàn cờ trống; **\\_\\_turn** nhận giá trị 1 (**X**) hoặc 2 (**O**), ban đầu nhận giá trị **firstTurn** được cung cấp từ tham số; **\\_\\_status** nhận giá trị 1 (**ACTIVE**) hoặc 0 (**INACTIVE**), ban đầu **ACTIVE**; **\\_\\_winner** nhận giá trị 0 (**NOWINNER**, chưa có người thắng hoặc kết quả hoà), 1 (**X**) hoặc 2 (**O**), ban đầu là **NOWINNER**.\n",
    "\n",
    "k sẽ được sử dụng về sau, do đó ta cũng lưu k trong attribute **\\_\\_winNumber**. $m, n$ cũng được sử dụng về sau nhưng đã được lưu trong **\\_\\_board** (có thể gọi bằng **\\_\\_board.getHeight()**, **\\_\\_board.getWidth()**) nên không cần lưu bằng attribute riêng.\n",
    "\n",
    "Một hàm **draw** đã được viết sẵn để phác hoạ bàn cờ (tương tự phần 1).\n",
    "\n",
    "Bây giờ ta viết phần code cần cho một ván chơi."
   ]
  },
  {
   "cell_type": "markdown",
   "metadata": {},
   "source": [
    "### Bài 4. Các getter, setter cơ bản của Game\n",
    "Trong class **Game**:\n",
    "\n",
    "1.\tHãy viết hàm **getBoard()** trả lại một instance thuộc class **Board** mô tả bàn cờ tại một thời điểm bất kì.\n",
    "\n",
    "2.\tHãy viết hàm **isActive()** trả lại **True** nếu ván chơi chưa kết thúc và **False** nếu ván chơi đã kết thúc.\n",
    "\n",
    "3.\tHãy viết hàm **getTurn()** trả lại số nguyên 1 (**X**) hoặc 2 (**O**) cho biết ai có quyền đi nước tiếp theo nếu trò chơi vẫn tiếp diễn.\n",
    "\n",
    "4.\tHãy viết hàm **getWinner()** trả lại số nguyên 1 (**X**), 2 (**O**) cho biết người thắng, hoặc 0 (**NOWINNER**) nếu chưa có người thắng hay kết quả hoà.\n",
    "\n",
    "5.\tHãy viết hàm **deactivate()** để chuyển trạng thái của trò chơi thành kết thúc (**INACTIVE**). Sau khi thực hiện hàm này, nếu gọi lại **isActive()** thì kết quả là **False**. Bạn có thể raise error nếu trò chơi đã kết thúc mà hàm **deactivate()** vẫn được gọi (nếu muốn).\n",
    "\n",
    "6.\tHãy viết hàm **activate()** để chuyển trạng thái của trò chơi thành tiếp diễn (**ACTIVE**). Sau khi thực hiện hàm này, nếu gọi lại **isActive()** thì kết quả là **True**. Bạn có thể raise error nếu trò chơi đang tiếp diễn mà hàm **activate()** vẫn được gọi.\n",
    "\n",
    "7.\tHãy viết hàm **switchTurn()** để gán cho attribute **\\_\\_turn** giá trị **X** (1) nếu đang là **O** (2) và ngược lại.\n",
    "\n",
    "8.\tHãy viết hàm **declareWinner(player)** để tuyên bố người chơi **player** đã thắng (tức gán **player** cho **\\_\\_winner**).\n",
    "\n",
    "Các đoạn dưới đây giúp test 8 hàm trên (hay chạy lần lượt)"
   ]
  },
  {
   "cell_type": "code",
   "execution_count": 37,
   "metadata": {
    "collapsed": false
   },
   "outputs": [
    {
     "name": "stdout",
     "output_type": "stream",
     "text": [
      "-----------\n",
      "| | | | | |\n",
      "-----------\n",
      "| | | | | |\n",
      "-----------\n",
      "| | | | | |\n",
      "-----------\n",
      "| | | | | |\n",
      "-----------\n",
      "| | | | | |\n",
      "-----------\n",
      "\n"
     ]
    }
   ],
   "source": [
    "# Create a game on a 5x5 board, O (player 2) goes first, a player wins when he marks k = 4 consecutive signs\n",
    "game = Game(5, 5, 2, 4)\n",
    "game.draw()"
   ]
  },
  {
   "cell_type": "code",
   "execution_count": 41,
   "metadata": {
    "collapsed": false
   },
   "outputs": [
    {
     "data": {
      "text/plain": [
       "(5,\n",
       " 5,\n",
       " [[0, 0, 0, 0, 0],\n",
       "  [0, 0, 0, 0, 0],\n",
       "  [0, 0, 0, 0, 0],\n",
       "  [0, 0, 0, 0, 0],\n",
       "  [0, 0, 0, 0, 0]])"
      ]
     },
     "execution_count": 41,
     "metadata": {},
     "output_type": "execute_result"
    }
   ],
   "source": [
    "# Test getBoard\n",
    "game.getBoard().getWidth(), game.getBoard().getHeight(), game.getBoard().getBoardStatus()"
   ]
  },
  {
   "cell_type": "code",
   "execution_count": 42,
   "metadata": {
    "collapsed": false
   },
   "outputs": [
    {
     "data": {
      "text/plain": [
       "True"
      ]
     },
     "execution_count": 42,
     "metadata": {},
     "output_type": "execute_result"
    }
   ],
   "source": [
    "# Test isActve()\n",
    "game.isActive()"
   ]
  },
  {
   "cell_type": "code",
   "execution_count": 43,
   "metadata": {
    "collapsed": false
   },
   "outputs": [
    {
     "data": {
      "text/plain": [
       "2"
      ]
     },
     "execution_count": 43,
     "metadata": {},
     "output_type": "execute_result"
    }
   ],
   "source": [
    "# Test getTurn()\n",
    "game.getTurn()"
   ]
  },
  {
   "cell_type": "code",
   "execution_count": 44,
   "metadata": {
    "collapsed": false
   },
   "outputs": [
    {
     "data": {
      "text/plain": [
       "0"
      ]
     },
     "execution_count": 44,
     "metadata": {},
     "output_type": "execute_result"
    }
   ],
   "source": [
    "# Test getWinner()\n",
    "game.getWinner()"
   ]
  },
  {
   "cell_type": "code",
   "execution_count": 45,
   "metadata": {
    "collapsed": false
   },
   "outputs": [
    {
     "data": {
      "text/plain": [
       "False"
      ]
     },
     "execution_count": 45,
     "metadata": {},
     "output_type": "execute_result"
    }
   ],
   "source": [
    "# Test deactivate()\n",
    "game.deactivate()\n",
    "game.isActive()"
   ]
  },
  {
   "cell_type": "code",
   "execution_count": 46,
   "metadata": {
    "collapsed": false
   },
   "outputs": [
    {
     "data": {
      "text/plain": [
       "True"
      ]
     },
     "execution_count": 46,
     "metadata": {},
     "output_type": "execute_result"
    }
   ],
   "source": [
    "# Test activate()\n",
    "game.activate()\n",
    "game.isActive()"
   ]
  },
  {
   "cell_type": "code",
   "execution_count": 47,
   "metadata": {
    "collapsed": false
   },
   "outputs": [
    {
     "data": {
      "text/plain": [
       "1"
      ]
     },
     "execution_count": 47,
     "metadata": {},
     "output_type": "execute_result"
    }
   ],
   "source": [
    "# Test switchTurn()\n",
    "game.switchTurn()\n",
    "game.getTurn()"
   ]
  },
  {
   "cell_type": "code",
   "execution_count": 48,
   "metadata": {
    "collapsed": false
   },
   "outputs": [
    {
     "data": {
      "text/plain": [
       "2"
      ]
     },
     "execution_count": 48,
     "metadata": {},
     "output_type": "execute_result"
    }
   ],
   "source": [
    "# Test declareWinner()\n",
    "game.declareWinner(2)\n",
    "game.getWinner()"
   ]
  },
  {
   "cell_type": "markdown",
   "metadata": {},
   "source": [
    "### Bài 5. Đánh cờ\n",
    "Bây giờ ta viết hàm **mark** biểu diễn một nước cờ. Giả sử người chơi player muốn đánh kí hiệu của mình vào ô có toạ độ là **cell** (nhắc lại rằng toạ độ một ô được biểu diễn bởi 1 tuple **(i, j)** trong Python). \n",
    "\n",
    "Hãy viết hàm **mark(player, cell)** lấy đối số **player** là một số nguyên (người chơi **X** = 1 hoặc **O** = 2) và **cell** (toạ độ của ô muốn đánh), kiểm tra xem **player** có quyền đánh vào ô **cell** không. Nếu có, đánh kí hiệu của **player** vào ô **cell** của bàn cờ (bằng cách dùng hàm **mark** của class **Board** đã viết ở bài 2). Nếu không có quyền, hàm không làm gì cả hoặc báo lỗi. Bạn có thể dùng class GameError để báo lỗi nếu muốn.\n",
    "\n",
    "Gợi ý: Điều kiện của **player**, **cell** và các attribute của ván cờ hiện tại là gì để player có quyền đánh vào ô cell?\n",
    "\n",
    "Tới đây, hàm **mark** vẫn chưa hoàn chỉnh. Ta sẽ cập nhật hàm **mark** vừa viết trong các bài tập sau.\n",
    "\n",
    "Dùng các đoạn code dưới đây để kiểm tra hàm của bạn."
   ]
  },
  {
   "cell_type": "code",
   "execution_count": 54,
   "metadata": {
    "collapsed": false
   },
   "outputs": [
    {
     "name": "stdout",
     "output_type": "stream",
     "text": [
      "\"It's not 1's turn.\"\n",
      "-----------\n",
      "| | | | | |\n",
      "-----------\n",
      "| | | | | |\n",
      "-----------\n",
      "| | | | | |\n",
      "-----------\n",
      "| | | | | |\n",
      "-----------\n",
      "| | | | | |\n",
      "-----------\n",
      "\n"
     ]
    }
   ],
   "source": [
    "game = Game(5, 5, 2, 4)\n",
    "try:\n",
    "    game.mark(1, (0, 0)) # Đoạn code không được thực hiện vì người chơi 1 không được đánh trước. Có thể báo lỗi tuỳ vào code của bạn\n",
    "except Exception as e:\n",
    "    print e\n",
    "game.draw()"
   ]
  },
  {
   "cell_type": "code",
   "execution_count": 55,
   "metadata": {
    "collapsed": false
   },
   "outputs": [
    {
     "name": "stdout",
     "output_type": "stream",
     "text": [
      "-----------\n",
      "| | | | | |\n",
      "-----------\n",
      "| |O| | | |\n",
      "-----------\n",
      "| | | | | |\n",
      "-----------\n",
      "| | | | | |\n",
      "-----------\n",
      "| | | | | |\n",
      "-----------\n",
      "\n"
     ]
    }
   ],
   "source": [
    "game = Game(5, 5, 2, 4)\n",
    "game.mark(2, (1, 1)) # Đoạn code được thực hiện\n",
    "game.draw()"
   ]
  },
  {
   "cell_type": "code",
   "execution_count": 56,
   "metadata": {
    "collapsed": false
   },
   "outputs": [
    {
     "name": "stdout",
     "output_type": "stream",
     "text": [
      "'Cell (1, 1) is not empty.'\n",
      "-----------\n",
      "| | | | | |\n",
      "-----------\n",
      "| |O| | | |\n",
      "-----------\n",
      "| | | | | |\n",
      "-----------\n",
      "| | | | | |\n",
      "-----------\n",
      "| | | | | |\n",
      "-----------\n",
      "\n"
     ]
    }
   ],
   "source": [
    "game = Game(5, 5, 2, 4)\n",
    "game.mark(2, (1, 1)) # Đoạn code được thực hiện\n",
    "try:\n",
    "    game.mark(1, (1, 1)) # Đoạn code không được thực hiện vì ô (1, 1) đã bị đánh. Có thể báo lỗi tuỳ vào code của bạn\n",
    "except Exception as e:\n",
    "    print e\n",
    "game.draw()"
   ]
  },
  {
   "cell_type": "code",
   "execution_count": 59,
   "metadata": {
    "collapsed": false
   },
   "outputs": [
    {
     "name": "stdout",
     "output_type": "stream",
     "text": [
      "'Game has finished'\n",
      "-----------\n",
      "| | | | | |\n",
      "-----------\n",
      "| | | | | |\n",
      "-----------\n",
      "| | | | | |\n",
      "-----------\n",
      "| | | | | |\n",
      "-----------\n",
      "| | | | | |\n",
      "-----------\n",
      "\n"
     ]
    }
   ],
   "source": [
    "game = Game(5, 5, 2, 4)\n",
    "game.deactivate()\n",
    "try:\n",
    "    game.mark(1, (3, 2)) # Đoạn code không được thực hiện vì trò chơi đã inactive, hàm deactivate đã được gọi\n",
    "except Exception as e:\n",
    "    print e\n",
    "game.draw()"
   ]
  },
  {
   "cell_type": "markdown",
   "metadata": {},
   "source": [
    "### Bài 6. Người chơi đã thắng?\n",
    "\n",
    "Giả sử người chơi **player** vừa đánh vào ô **cell**. Nước đánh này có thể làm cho người chơi **player** thắng cuộc nếu nó tạo được với các ô đã đánh trước đó $k$ kí hiệu liên tiếp trên một hàng ngang, cột dọc hoặc đường chéo.\n",
    "\n",
    "Hãy viết hàm **isVictoryCell(cell)** nhận tham số là toạ độ **cell** của một ô và trả lại **True** nếu nó làm cho người đánh tại ô đó thắng, và **False** nếu nó chưa làm cho người đánh tại ô đó thắng."
   ]
  },
  {
   "cell_type": "code",
   "execution_count": 61,
   "metadata": {
    "collapsed": false
   },
   "outputs": [
    {
     "name": "stdout",
     "output_type": "stream",
     "text": [
      "-----------\n",
      "| | |O| | |\n",
      "-----------\n",
      "|O|X| | | |\n",
      "-----------\n",
      "| |X| | | |\n",
      "-----------\n",
      "| |X| |O| |\n",
      "-----------\n",
      "| |X| | |O|\n",
      "-----------\n",
      "\n"
     ]
    },
    {
     "data": {
      "text/plain": [
       "True"
      ]
     },
     "execution_count": 61,
     "metadata": {},
     "output_type": "execute_result"
    }
   ],
   "source": [
    "game = Game(5, 5, 2, 4)\n",
    "checker = 1\n",
    "game.getBoard().setBoardStatus([[0, 0, 2, 0, 0], [2, 1, 0, 0, 0], [0, 1, 0, 0, 0], [0, 1, 0, 2, 0], [0, 1, 0, 0, 2]])\n",
    "game.draw()\n",
    "game.isVictoryCell((3, 1))"
   ]
  },
  {
   "cell_type": "code",
   "execution_count": 62,
   "metadata": {
    "collapsed": false
   },
   "outputs": [
    {
     "name": "stdout",
     "output_type": "stream",
     "text": [
      "-----------\n",
      "| | |O| | |\n",
      "-----------\n",
      "|O|X|X|X|X|\n",
      "-----------\n",
      "| | | | | |\n",
      "-----------\n",
      "| | | |O| |\n",
      "-----------\n",
      "| | | | |O|\n",
      "-----------\n",
      "\n"
     ]
    },
    {
     "data": {
      "text/plain": [
       "False"
      ]
     },
     "execution_count": 62,
     "metadata": {},
     "output_type": "execute_result"
    }
   ],
   "source": [
    "game.getBoard().setBoardStatus([[0, 0, 2, 0, 0], [2, 1, 1, 1, 1], [0, 0, 0, 0, 0], [0, 0, 0, 2, 0], [0, 0, 0, 0, 2]])\n",
    "game.draw()\n",
    "game.isVictoryCell((3, 1))"
   ]
  },
  {
   "cell_type": "code",
   "execution_count": 63,
   "metadata": {
    "collapsed": false
   },
   "outputs": [
    {
     "name": "stdout",
     "output_type": "stream",
     "text": [
      "-----------\n",
      "| | |O| | |\n",
      "-----------\n",
      "|O|X|X|X|X|\n",
      "-----------\n",
      "| | | | | |\n",
      "-----------\n",
      "| | | |O| |\n",
      "-----------\n",
      "| | | | |O|\n",
      "-----------\n",
      "\n"
     ]
    },
    {
     "data": {
      "text/plain": [
       "True"
      ]
     },
     "execution_count": 63,
     "metadata": {},
     "output_type": "execute_result"
    }
   ],
   "source": [
    "game.getBoard().setBoardStatus([[0, 0, 2, 0, 0], [2, 1, 1, 1, 1], [0, 0, 0, 0, 0], [0, 0, 0, 2, 0], [0, 0, 0, 0, 2]])\n",
    "game.draw()\n",
    "game.isVictoryCell((1, 4))"
   ]
  },
  {
   "cell_type": "code",
   "execution_count": 64,
   "metadata": {
    "collapsed": false
   },
   "outputs": [
    {
     "name": "stdout",
     "output_type": "stream",
     "text": [
      "-----------\n",
      "| | |O| | |\n",
      "-----------\n",
      "|X|O|X|X|X|\n",
      "-----------\n",
      "| | |O| | |\n",
      "-----------\n",
      "| | | |O| |\n",
      "-----------\n",
      "| | | | |O|\n",
      "-----------\n",
      "\n"
     ]
    },
    {
     "data": {
      "text/plain": [
       "True"
      ]
     },
     "execution_count": 64,
     "metadata": {},
     "output_type": "execute_result"
    }
   ],
   "source": [
    "game.getBoard().setBoardStatus([[0, 0, 2, 0, 0], [1, 2, 1, 1, 1], [0, 0, 2, 0, 0], [0, 0, 0, 2, 0], [0, 0, 0, 0, 2]])\n",
    "game.draw()\n",
    "game.isVictoryCell((4, 4))"
   ]
  },
  {
   "cell_type": "code",
   "execution_count": 65,
   "metadata": {
    "collapsed": false
   },
   "outputs": [
    {
     "name": "stdout",
     "output_type": "stream",
     "text": [
      "-----------\n",
      "| | | | | |\n",
      "-----------\n",
      "| | |X|X|O|\n",
      "-----------\n",
      "| | | |O| |\n",
      "-----------\n",
      "| | |O|X| |\n",
      "-----------\n",
      "| |O|X| | |\n",
      "-----------\n",
      "\n"
     ]
    },
    {
     "data": {
      "text/plain": [
       "True"
      ]
     },
     "execution_count": 65,
     "metadata": {},
     "output_type": "execute_result"
    }
   ],
   "source": [
    "game.getBoard().setBoardStatus([[0, 0, 0, 0, 0], [0, 0, 1, 1, 2], [0, 0, 0, 2, 0], [0, 0, 2, 1, 0], [0, 2, 1, 0, 0]])\n",
    "game.draw()\n",
    "game.isVictoryCell((4, 1))"
   ]
  },
  {
   "cell_type": "code",
   "execution_count": null,
   "metadata": {
    "collapsed": true
   },
   "outputs": [],
   "source": []
  }
 ],
 "metadata": {
  "kernelspec": {
   "display_name": "Python 2",
   "language": "python",
   "name": "python2"
  },
  "language_info": {
   "codemirror_mode": {
    "name": "ipython",
    "version": 2
   },
   "file_extension": ".py",
   "mimetype": "text/x-python",
   "name": "python",
   "nbconvert_exporter": "python",
   "pygments_lexer": "ipython2",
   "version": "2.7.13"
  }
 },
 "nbformat": 4,
 "nbformat_minor": 0
}
