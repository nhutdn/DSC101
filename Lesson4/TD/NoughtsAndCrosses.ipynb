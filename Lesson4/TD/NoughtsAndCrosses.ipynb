{
 "cells": [
  {
   "cell_type": "markdown",
   "metadata": {},
   "source": [
    "# TD4 - Noughts and Crosses - Carô"
   ]
  },
  {
   "cell_type": "markdown",
   "metadata": {},
   "source": [
    "## Mô tả\n",
    "Trò chơi caro (Noughts and Crosses) được mô tả như sau: Có một bảng $m \\times n$. Hai người chơi lần lượt đánh kí hiệu của riêng mình (**X**) hoặc (**O**) vào một ô còn trống của bảng. Người đầu tiên đánh được kí hiệu của mình ở $k$ ô liên tiếp theo hàng ngang, cột dọc hoặc đường chéo là người thắng cuộc. Nếu tất cả các ô của bảng đều đã được điền mà không ai thực hiện được nhiệm vụ trên thì kết quả được xem là hoà.\n",
    "\n",
    "<img src=\"https://raw.githubusercontent.com/riduan91/DSC101/master/Lesson4/TD/Fig1.png\"/>\n",
    "<center>*Trong hình vẽ, $m = n = 3$. Nếu chọn $k = 3$, người có kí hiệu **X** thắng vì đánh được $k$ kí hiệu **X** liên tiếp trên một đường chéo.*</center>"
   ]
  },
  {
   "cell_type": "markdown",
   "metadata": {},
   "source": [
    "Trong TD này ta sẽ implement trò chơi này một cách đơn giản, theo các bước sau:\n",
    "\n",
    "-\tThiết lập một class **Board** để mô tả trạng thái của một bàn cờ\n",
    "\n",
    "-\tThiết lập một class **Game** để mô tả trạng thái của ván chơi\n",
    "\n",
    "-\tSau đó, tìm cách để xây dựng chiến thuật khi máy tính chơi với con người sao cho khả năng máy thắng là cao nhất. Ta cũng tìm cách implement chiến thuật sao cho tốn ít thời gian chạy của máy. Trong phạm vi của TD, với phần này, ta cũng chỉ cần thực hiện cho các trường hợp $m, n, k$ nhỏ (không quá 5). \n",
    "\n",
    "Bạn cần viết code trong file <a href=\"https://raw.githubusercontent.com/riduan91/DSC101/master/Lesson4/TD/NoughtsAndCrosses.py\">NoughtsAndCrosses.py</a>. Trong file này, một số hàm đã được viết sẵn và một số khác đã được đặt tên sẵn. Bạn không sửa tên các hàm này và không thay đổi code đã viết, trừ trường hợp đổi syntax giữa Python 2 và Python 3. \n",
    "\n",
    "Bạn có thể viết các hàm phụ khác ngoài các hàm đã yêu cầu trong đề. Bạn có thể sử dụng các hàm từ thư viện khác miễn là hàm đó không trực tiếp trả lời câu hỏi trong bài.\n",
    "\n",
    "Để test, bạn có thể sử dụng file <a href=\"https://raw.githubusercontent.com/riduan91/DSC101/master/Lesson4/TD/TestNoughtsAndCrosses.py\">TestNoughtsAndCrosses.py</a> hoặc sử dụng các đoạn test nằm trong hướng dẫn này.\n"
   ]
  },
  {
   "cell_type": "code",
   "execution_count": 1,
   "metadata": {
    "collapsed": true
   },
   "outputs": [],
   "source": [
    "from NoughtsAndCrosses_Solution import *"
   ]
  },
  {
   "cell_type": "markdown",
   "metadata": {},
   "source": [
    "## Phần 1. Mô tả bàn cờ - Class **Board**"
   ]
  },
  {
   "cell_type": "markdown",
   "metadata": {},
   "source": [
    "Một bàn cờ là một hình chữ nhật được chia thành m x n ô bằng nhau. Toạ độ được đánh số như sau:\n",
    "<center>\n",
    "(0,0)\t(0,1)\t(0,2)\t(0,3)   ...\n",
    "</center>\n",
    "<center>\n",
    "(1,0)\t(1,1)\t(1,2)\t(1,3)   ...\n",
    "</center>\n",
    "<center>\n",
    "(2,0)\t(2,1)\t(2,2)\t(2,3)   ...\n",
    "</center>\n",
    "<center>\n",
    "(3,0)\t(3,1)\t(3,2)\t(3,3)   ...\n",
    "</center>\n",
    "<center>\n",
    "...\n",
    "</center>\n",
    "theo quy ước: chỉ số hàng viết trước, chỉ số cột viết sau.\n",
    "\n",
    "Ta mô tả bàn cờ này bằng class **Board**. Một instance của class **Board**, tức một bàn cờ, được xác định bởi chiều cao, chiều rộng, và trạng thái của tất cả các ô của nó (đã được đánh dấu hay chưa). Ban đầu, tất cả các ô của bàn cờ đều trống. Do đó, hàm __init__ trong class được viết như sau:\n"
   ]
  },
  {
   "cell_type": "code",
   "execution_count": null,
   "metadata": {
    "collapsed": true
   },
   "outputs": [],
   "source": [
    "  def __init__(self, height, width):\n",
    "        \"\"\"\n",
    "            Create a board with defined height and width\n",
    "            Fill 0 (empty) to every cell of the board\n",
    "        \"\"\"\n",
    "        self.__height = height\n",
    "        self.__width = width\n",
    "        self.__cells = []\n",
    "        for i in range(height):\n",
    "            self.__cells.append([])\n",
    "            for j in range(width):\n",
    "                self.__cells[i].append(Board.EMPTY)"
   ]
  },
  {
   "cell_type": "markdown",
   "metadata": {},
   "source": [
    "Theo đó, chiều cao và chiều rộng của bàn cờ được biểu diễn bằng các attributes **\\_\\_height** và **\\_\\_width**. Trạng thái tất cả các ô của bàn cờ sẽ được biểu diễn bởi một list **self.\\_\\_cells** của $m$ list con của $n$ số nguyên (**int**). Nếu ô **(i, j)** đang trống, **self.\\_\\_cells[i][j]** sẽ mang giá trị 0 (được kí hiệu là **EMPTY** trong code). Nếu sau này ô **(i, j)** được đánh bới người chơi 1 (kí hiệu là **X**) hay 2 (kí hiệu là **O**), **self.\\_\\_cells[i][j]** sẽ mang giá trị tương ứng 1 (**X**) hoặc 2 (**O**).\n",
    "\n",
    "Khi khởi tạo bàn cờ ở đầu trò chơi, tất cả các ô đều trống, do đó trong hàm **\\_\\_init** trên, tất cả các ô **self.\\_\\_cells[i][j]** đều có giá trị 0 (**EMPTY**). \n",
    "\n",
    "Trong code đã viết sẵn **draw()** cho phép phác hoạ trạng thái của bàn cờ. Ví dụ ban đầu, bàn cờ rỗng, do đó khi in bàn cờ, ta có trạng thái sau:"
   ]
  },
  {
   "cell_type": "code",
   "execution_count": 5,
   "metadata": {
    "collapsed": false
   },
   "outputs": [
    {
     "name": "stdout",
     "output_type": "stream",
     "text": [
      "-----------\n",
      "| | | | | |\n",
      "-----------\n",
      "| | | | | |\n",
      "-----------\n",
      "| | | | | |\n",
      "-----------\n",
      "| | | | | |\n",
      "-----------\n",
      "| | | | | |\n",
      "-----------\n",
      "\n"
     ]
    }
   ],
   "source": [
    "board = Board(5, 5)\n",
    "print board.draw()"
   ]
  },
  {
   "cell_type": "markdown",
   "metadata": {},
   "source": [
    "Bây giờ ta viết code mô tả bàn cờ."
   ]
  },
  {
   "cell_type": "markdown",
   "metadata": {},
   "source": [
    "### Bài 1. Các getter, setter cơ bản của Board\n",
    "*Hãy viết các getter, setter sau trong class **Board**:*\n",
    "\n",
    "*-\t**getHeight()** : trả lại chiều cao $m$ của bảng* (type **int**)\n",
    "\n",
    "*-\t**getWidth()** : trả lại chiều rộng $n$ của bảng* (type **int**)\n",
    "\n",
    "*-\t**getBoardStatus()** : trả lại trạng thái của tất cả các ô, (một list m list con, mỗi list con gồm n số nguyên mang giá trị 0, 1 hoặc 2.)*\n",
    "\n",
    "*-\t**setBoardStatus(cells)** : nhận đối số **cells** là một list các list các **int** và gán nó cho **self.__cells***\n",
    "\n",
    "Đoạn code dưới đây giúp test hàm của bạn"
   ]
  },
  {
   "cell_type": "code",
   "execution_count": 20,
   "metadata": {
    "collapsed": false
   },
   "outputs": [
    {
     "name": "stdout",
     "output_type": "stream",
     "text": [
      "---------\n",
      "| | | | |\n",
      "---------\n",
      "| | | | |\n",
      "---------\n",
      "| | | | |\n",
      "---------\n",
      "| | | | |\n",
      "---------\n",
      "| | | | |\n",
      "---------\n",
      "\n",
      "Height: 5\n",
      "Width: 4\n",
      "Status of cells: [[0, 0, 0, 0], [0, 0, 0, 0], [0, 0, 0, 0], [0, 0, 0, 0], [0, 0, 0, 0]]\n"
     ]
    }
   ],
   "source": [
    "board = Board(5, 4)\n",
    "print(board.draw())\n",
    "\n",
    "# Test getHeight()\n",
    "print(\"Height: %d\" % board.getHeight())\n",
    "\n",
    "# Test getWidth()\n",
    "print(\"Width: %d\" % board.getWidth())\n",
    "\n",
    "# Test getBoardStatus()\n",
    "print(\"Status of cells: %s\" % board.getBoardStatus())"
   ]
  },
  {
   "cell_type": "code",
   "execution_count": 9,
   "metadata": {
    "collapsed": false
   },
   "outputs": [
    {
     "name": "stdout",
     "output_type": "stream",
     "text": [
      "---------\n",
      "| |O| | |\n",
      "---------\n",
      "| |X| |O|\n",
      "---------\n",
      "| |X|O| |\n",
      "---------\n",
      "| | |O|X|\n",
      "---------\n",
      "| | |X| |\n",
      "---------\n",
      "\n",
      "[[0, 2, 0, 0], [0, 1, 0, 2], [0, 1, 2, 0], [0, 0, 2, 1], [0, 0, 1, 0]]\n"
     ]
    }
   ],
   "source": [
    "board = Board(5, 4)\n",
    "\n",
    "# Test setBoardStatus()\n",
    "board.setBoardStatus([[0, 2, 0, 0], [0, 1, 0, 2], [0, 1, 2, 0], [0, 0, 2, 1], [0, 0, 1, 0]])\n",
    "print(board.draw())\n",
    "print(board.getBoardStatus())"
   ]
  },
  {
   "cell_type": "markdown",
   "metadata": {},
   "source": [
    "### Bài 2. Làm việc với từng ô của bàn cờ\n",
    "\n",
    "Ta sẽ biểu diễn mỗi ô của bàn cờ bằng toạ độ của nó, một tuple **(i, j)** trong Python, trong đó **i** là chỉ số hàng, **j** là chỉ số cột.\n",
    "\n",
    "*Hãy viết các instant method sau:*\n",
    "\n",
    "*- **getCellStatus(cell)**: nhận đối số **cell** là toạ độ của ô dưới dạng một tuple **(i, j)** và trả lại trạng thái của ô đó (một trong các số nguyên **EMPTY** = 0, **X** = 1 hay **O** = 2)*\n",
    "\n",
    "*- **isEmptyCell(cell)**: nhận đối số **cell** là toạ độ của ô dưới dạng một tuple **(i, j)** và trả lại **True** nếu ô đó đang trống (tức có trạng thái 0) hay **False** nếu ô đó đã có người đánh (có trạng thái 1 hoặc 2). \n",
    "\n",
    "*- **mark(value, cell)** : nhận đối số **cell** là toạ độ của ô dưới dạng một tuple **(i, j)**, đối số **value** là một giá trị **EMPTY** = 0, **X** = 1 hay **O** = 2, và gán **value** cho trạng thái **_cells[i][j]** của ô đó.*\n",
    "\n",
    "*- **getEmptyCells()** : trả lại list toạ độ tất cả các ô trống trên bàn cờ dưới dạng list các tuple, ví dụ [(1, 2), (1, 3)]**\n",
    "\n",
    "Đoạn code dưới đây giúp test hàm của bạn."
   ]
  },
  {
   "cell_type": "code",
   "execution_count": 10,
   "metadata": {
    "collapsed": false
   },
   "outputs": [
    {
     "name": "stdout",
     "output_type": "stream",
     "text": [
      "-----------\n",
      "| | | | | |\n",
      "-----------\n",
      "| |X| | | |\n",
      "-----------\n",
      "| |X|O| | |\n",
      "-----------\n",
      "| |O| | | |\n",
      "-----------\n",
      "| | |O| | |\n",
      "-----------\n",
      "\n"
     ]
    },
    {
     "data": {
      "text/plain": [
       "2"
      ]
     },
     "execution_count": 10,
     "metadata": {},
     "output_type": "execute_result"
    }
   ],
   "source": [
    "# Test setBoardStatus \n",
    "board = Board(5, 5)\n",
    "board.setBoardStatus([[0,0,0,0,0], [0,1,0,0,0], [0,1,2,0,0], [0,2,0,0,0], [0,0,2,0,0]])\n",
    "print(board.draw())\n",
    "\n",
    "# Then test getCellStatus\n",
    "board.getCellStatus((2, 2))"
   ]
  },
  {
   "cell_type": "code",
   "execution_count": 11,
   "metadata": {
    "collapsed": false
   },
   "outputs": [
    {
     "data": {
      "text/plain": [
       "True"
      ]
     },
     "execution_count": 11,
     "metadata": {},
     "output_type": "execute_result"
    }
   ],
   "source": [
    "# Then test isEmptyCell\n",
    "board.isEmptyCell((3, 2))"
   ]
  },
  {
   "cell_type": "code",
   "execution_count": 12,
   "metadata": {
    "collapsed": false
   },
   "outputs": [
    {
     "name": "stdout",
     "output_type": "stream",
     "text": [
      "-----------\n",
      "| | | | | |\n",
      "-----------\n",
      "| |X|X| | |\n",
      "-----------\n",
      "| |X|O| | |\n",
      "-----------\n",
      "| |O| | | |\n",
      "-----------\n",
      "| | |O| | |\n",
      "-----------\n",
      "\n"
     ]
    }
   ],
   "source": [
    "# Then test mark\n",
    "board.mark(1, (1, 2))\n",
    "print(board.draw())"
   ]
  },
  {
   "cell_type": "code",
   "execution_count": 13,
   "metadata": {
    "collapsed": false
   },
   "outputs": [
    {
     "name": "stdout",
     "output_type": "stream",
     "text": [
      "-----------\n",
      "|X|O|X|X| |\n",
      "-----------\n",
      "| |X|O| |O|\n",
      "-----------\n",
      "| |X|O|X| |\n",
      "-----------\n",
      "| |O|O| |X|\n",
      "-----------\n",
      "|X|O|O| |O|\n",
      "-----------\n",
      "\n"
     ]
    },
    {
     "data": {
      "text/plain": [
       "[(0, 4), (1, 0), (1, 3), (2, 0), (2, 4), (3, 0), (3, 3), (4, 3)]"
      ]
     },
     "execution_count": 13,
     "metadata": {},
     "output_type": "execute_result"
    }
   ],
   "source": [
    "# Then test getEmptyCells\n",
    "board = Board(5, 5)\n",
    "board.setBoardStatus([[1,2,1,1,0], [0,1,2,0,2], [0,1,2,1,0], [0,2,2,0,1], [1,2,2,0,2]])\n",
    "print(board.draw())\n",
    "\n",
    "board.getEmptyCells()"
   ]
  },
  {
   "cell_type": "markdown",
   "metadata": {},
   "source": [
    "### Bài 3. Tìm các lân cận của một ô trên bàn cờ\n",
    "Một ô **(x, y)** trên bàn cờ được gọi là lân cận của ô **(i, j)** nếu toạ độ của nó khác **(i, j)**,  **x** nằm trong khoảng đóng **[i-1, i+1]** và **y** nằm trong khoảng đóng **[j-1, j+1]**. Mỗi ô trên bàn cờ có tối thiểu 3 lân cận (trường hợp của các ô ở góc), tối đa 8 lân cận (trường hợp của các ô không ở biên).\n",
    "\n",
    "*Viết instant method **getNeighbors(cell)** nhận đối số **cell** là toạ độ **(i, j)** của một ô trên bàn cờ, và trả lại tất cả các lân cận của nó dưới dạng một list các tuple toạ độ.*\n",
    "\n",
    "Đoạn code dưới đây giúp test hàm của bạn."
   ]
  },
  {
   "cell_type": "code",
   "execution_count": 14,
   "metadata": {
    "collapsed": false
   },
   "outputs": [
    {
     "data": {
      "text/plain": [
       "[(1, 3), (2, 2), (1, 2), (3, 2), (3, 3), (2, 4), (1, 4), (3, 4)]"
      ]
     },
     "execution_count": 14,
     "metadata": {},
     "output_type": "execute_result"
    }
   ],
   "source": [
    "board = Board(5, 5)\n",
    "board.getNeighbors((2, 3))"
   ]
  },
  {
   "cell_type": "code",
   "execution_count": 15,
   "metadata": {
    "collapsed": false
   },
   "outputs": [
    {
     "data": {
      "text/plain": [
       "[(3, 3), (4, 2), (3, 2), (4, 4), (3, 4)]"
      ]
     },
     "execution_count": 15,
     "metadata": {},
     "output_type": "execute_result"
    }
   ],
   "source": [
    "board.getNeighbors((4, 3))"
   ]
  },
  {
   "cell_type": "markdown",
   "metadata": {},
   "source": [
    "## Phần 2 - Mô tả ván chơi - Class Game"
   ]
  },
  {
   "cell_type": "markdown",
   "metadata": {},
   "source": [
    "Một ván chơi được tiến hành như sau: Hai người chơi 1 (**X**) và 2 (**O**) thống nhất về kích thước bàn cờ, luật chơi (tức về $m, n, k$), và ai là người đi trước. Sau đó họ tiến hành đánh cờ lần lượt vào các ô trống cho đến khi xác định được người chiến thắng hoặc khi mọi ô của bàn cờ được đánh hết.\n",
    "\n",
    "Như vậy, các tham số cần cho thời điểm ban đầu:\n",
    "\n",
    "1.\t$m, n, k$ (khác nhau với các ván chơi khác nhau)\n",
    "\n",
    "2.\tNgười đánh trước là ai.\n",
    "\n",
    "Ở mỗi thời điểm (bất kì), trạng thái của một ván chơi sẽ hoàn toàn được xác định bởi các thông tin sau:\n",
    "\n",
    "1.\tTrạng thái của bàn cờ như thế nào (ô nào đang trống hay đang có kí hiệu gì)\n",
    "\n",
    "2.\tTrò chơi đã kết thúc chưa.\n",
    "\n",
    "3.\tNếu trò chơi đã kết thúc, ai là người thắng, hay kết quả là hoà.\n",
    "\n",
    "4.\tNếu trò chơi chưa kết thúc, ai có quyền đánh ở nước tiếp theo.\n",
    "\n",
    "Ta diễn dịch các thông tin này thành các attribute của các instance trong class **Game**. Ta viết hàm **\\_\\_init\\_\\_** như sau."
   ]
  },
  {
   "cell_type": "code",
   "execution_count": 1,
   "metadata": {
    "collapsed": true
   },
   "outputs": [],
   "source": [
    "def __init__(self, height, width, firstTurn, winNumber):\n",
    "    \"\"\"\n",
    "    Begin a game and define which attributes are necessary to describe the game status at some moment\n",
    "    \"\"\"\n",
    "    self.__winNumber = winNumber\n",
    "    self.__board = Board(height, width)\n",
    "    self.__turn = firstTurn\n",
    "    self.__status = Game.ACTIVE\n",
    "    self.__winner = Game.NOWINNER "
   ]
  },
  {
   "cell_type": "markdown",
   "metadata": {},
   "source": [
    "Các tham số cần cho **thời điểm ban đầu** là $m, n, k$ và ai là người đi trước được lần lượt diễn dịch thành các đối số **height**, **width**, **winNumber**, **firstTurn** cung cấp cho **\\_\\_init\\_\\_**.\n",
    "\n",
    "Các tham số cần cho **mỗi thời điểm bất kì** ứng với các điểm 1, 2, 3, 4 nêu trên được diễn dịch thành các attribute **\\_\\_board**, **\\_\\_status**, **\\_\\_winner**, **\\_\\_turn** của class. Trong đó, \n",
    "\n",
    "- **\\_\\_board** thuộc class **Board**, ban đầu là một bàn cờ trống; \n",
    "- **\\_\\_turn** nhận giá trị 1 (**X**) hoặc 2 (**O**), ban đầu nhận giá trị **firstTurn** được cung cấp từ tham số; \n",
    "- **\\_\\_status** nhận giá trị 1 (**ACTIVE**) hoặc 0 (**INACTIVE**), ban đầu **ACTIVE**; \n",
    "- **\\_\\_winner** nhận giá trị 0 (**NOWINNER**, chưa có người thắng hoặc kết quả hoà), 1 (**X**) hoặc 2 (**O**), ban đầu là **NOWINNER**.\n",
    "\n",
    "$k$ sẽ được sử dụng về sau, do đó ta cũng lưu $k$ trong attribute **\\_\\_winNumber**. $m, n$ cũng được sử dụng về sau nhưng đã được lưu trong **\\_\\_board** (có thể gọi bằng **\\_\\_board.getHeight()**, **\\_\\_board.getWidth()**) nên không cần lưu bằng attribute riêng.\n",
    "\n",
    "Một hàm **draw** đã được viết sẵn để phác hoạ bàn cờ (tương tự phần 1).\n",
    "\n",
    "Bây giờ ta viết phần code cần cho một ván chơi ở các bài 4, 5, 6, 7, 8."
   ]
  },
  {
   "cell_type": "markdown",
   "metadata": {},
   "source": [
    "### Bài 4. Các getter, setter cơ bản của Game\n",
    "Trong class **Game**, hãy viết các getter, setter dưới đây.\n",
    "\n",
    "*1.\tHãy viết hàm **getBoard()** trả lại một instance thuộc class **Board** mô tả bàn cờ tại một thời điểm bất kì.*\n",
    "\n",
    "*2.\tHãy viết hàm **isActive()** trả lại **True** nếu ván chơi chưa kết thúc và **False** nếu ván chơi đã kết thúc.*\n",
    "\n",
    "*3.\tHãy viết hàm **getTurn()** trả lại số nguyên 1 (**X**) hoặc 2 (**O**) cho biết ai có quyền đi nước tiếp theo nếu trò chơi vẫn tiếp diễn.*\n",
    "\n",
    "*4.\tHãy viết hàm **getWinner()** trả lại số nguyên 1 (**X**), 2 (**O**) cho biết người thắng, hoặc 0 (**NOWINNER**) nếu chưa có người thắng hay kết quả hoà.*\n",
    "\n",
    "*5.\tHãy viết hàm **deactivate()** để chuyển trạng thái của trò chơi thành kết thúc (**INACTIVE = 0**). Sau khi thực hiện hàm này, nếu gọi lại **isActive()** thì kết quả là **False**. Bạn có thể raise error nếu trò chơi đã kết thúc (tức trạng thái đã là **INACTIVE**) mà hàm **deactivate()** vẫn được gọi (nếu muốn).*\n",
    "\n",
    "*6.\tHãy viết hàm **activate()** để chuyển trạng thái của trò chơi thành tiếp diễn (**ACTIVE = 1**). Sau khi thực hiện hàm này, nếu gọi lại **isActive()** thì kết quả là **True**. Bạn có thể raise error nếu trò chơi đang tiếp diễn (tức trạng thái đã là **ACTIVE** mà hàm **activate()** vẫn được gọi.*\n",
    "\n",
    "*7.\tHãy viết hàm **switchTurn()** để gán cho attribute **\\_\\_turn** giá trị **X** (1) nếu attribute này đang là **O** (2) và ngược lại.*\n",
    "\n",
    "*8.\tHãy viết hàm **declareWinner(player)** để tuyên bố người chơi **player** đã thắng (tức gán **player** cho **\\_\\_winner**).*\n",
    "\n",
    "Các đoạn dưới đây giúp test 8 hàm trên (hãy chạy lần lượt)"
   ]
  },
  {
   "cell_type": "code",
   "execution_count": 37,
   "metadata": {
    "collapsed": false
   },
   "outputs": [
    {
     "name": "stdout",
     "output_type": "stream",
     "text": [
      "-----------\n",
      "| | | | | |\n",
      "-----------\n",
      "| | | | | |\n",
      "-----------\n",
      "| | | | | |\n",
      "-----------\n",
      "| | | | | |\n",
      "-----------\n",
      "| | | | | |\n",
      "-----------\n",
      "\n"
     ]
    }
   ],
   "source": [
    "# Create a game on a 5x5 board, O (player 2) goes first, a player wins when he marks k = 4 consecutive signs\n",
    "game = Game(5, 5, 2, 4)\n",
    "game.draw()"
   ]
  },
  {
   "cell_type": "code",
   "execution_count": 41,
   "metadata": {
    "collapsed": false
   },
   "outputs": [
    {
     "data": {
      "text/plain": [
       "(5,\n",
       " 5,\n",
       " [[0, 0, 0, 0, 0],\n",
       "  [0, 0, 0, 0, 0],\n",
       "  [0, 0, 0, 0, 0],\n",
       "  [0, 0, 0, 0, 0],\n",
       "  [0, 0, 0, 0, 0]])"
      ]
     },
     "execution_count": 41,
     "metadata": {},
     "output_type": "execute_result"
    }
   ],
   "source": [
    "# Test getBoard\n",
    "game.getBoard().getWidth(), game.getBoard().getHeight(), game.getBoard().getBoardStatus()"
   ]
  },
  {
   "cell_type": "code",
   "execution_count": 42,
   "metadata": {
    "collapsed": false
   },
   "outputs": [
    {
     "data": {
      "text/plain": [
       "True"
      ]
     },
     "execution_count": 42,
     "metadata": {},
     "output_type": "execute_result"
    }
   ],
   "source": [
    "# Test isActve()\n",
    "game.isActive()"
   ]
  },
  {
   "cell_type": "code",
   "execution_count": 43,
   "metadata": {
    "collapsed": false
   },
   "outputs": [
    {
     "data": {
      "text/plain": [
       "2"
      ]
     },
     "execution_count": 43,
     "metadata": {},
     "output_type": "execute_result"
    }
   ],
   "source": [
    "# Test getTurn()\n",
    "game.getTurn()"
   ]
  },
  {
   "cell_type": "code",
   "execution_count": 44,
   "metadata": {
    "collapsed": false
   },
   "outputs": [
    {
     "data": {
      "text/plain": [
       "0"
      ]
     },
     "execution_count": 44,
     "metadata": {},
     "output_type": "execute_result"
    }
   ],
   "source": [
    "# Test getWinner()\n",
    "game.getWinner()"
   ]
  },
  {
   "cell_type": "code",
   "execution_count": 45,
   "metadata": {
    "collapsed": false
   },
   "outputs": [
    {
     "data": {
      "text/plain": [
       "False"
      ]
     },
     "execution_count": 45,
     "metadata": {},
     "output_type": "execute_result"
    }
   ],
   "source": [
    "# Test deactivate()\n",
    "game.deactivate()\n",
    "game.isActive()"
   ]
  },
  {
   "cell_type": "code",
   "execution_count": 46,
   "metadata": {
    "collapsed": false
   },
   "outputs": [
    {
     "data": {
      "text/plain": [
       "True"
      ]
     },
     "execution_count": 46,
     "metadata": {},
     "output_type": "execute_result"
    }
   ],
   "source": [
    "# Test activate()\n",
    "game.activate()\n",
    "game.isActive()"
   ]
  },
  {
   "cell_type": "code",
   "execution_count": 47,
   "metadata": {
    "collapsed": false
   },
   "outputs": [
    {
     "data": {
      "text/plain": [
       "1"
      ]
     },
     "execution_count": 47,
     "metadata": {},
     "output_type": "execute_result"
    }
   ],
   "source": [
    "# Test switchTurn()\n",
    "game.switchTurn()\n",
    "game.getTurn()"
   ]
  },
  {
   "cell_type": "code",
   "execution_count": 48,
   "metadata": {
    "collapsed": false
   },
   "outputs": [
    {
     "data": {
      "text/plain": [
       "2"
      ]
     },
     "execution_count": 48,
     "metadata": {},
     "output_type": "execute_result"
    }
   ],
   "source": [
    "# Test declareWinner()\n",
    "game.declareWinner(2)\n",
    "game.getWinner()"
   ]
  },
  {
   "cell_type": "markdown",
   "metadata": {},
   "source": [
    "### Bài 5. Đánh cờ\n",
    "Bây giờ ta viết hàm **mark** biểu diễn một nước cờ. Giả sử người chơi player muốn đánh kí hiệu của mình vào ô có toạ độ là **cell** (nhắc lại rằng toạ độ một ô được biểu diễn bởi 1 tuple **(i, j)** trong Python). \n",
    "\n",
    "*Hãy viết instant method **mark(player, cell)** lấy đối số **player** là một số nguyên (người chơi **X** = 1 hoặc **O** = 2) và **cell** (toạ độ **(i, j)** của ô muốn đánh), kiểm tra xem **player** có quyền đánh vào ô **cell** không. Người chơi **player** được quyền đánh vào ô **cell** nếu tất cả các điều kiện sau được thoả mãn:*\n",
    "\n",
    "*- Trò chơi đang ở trạng thái **ACTIVE** (chưa kết thúc).*\n",
    "\n",
    "*- Lượt hiện tại đang là của người chơi **player**.*\n",
    "\n",
    "*- Ô **cell** còn đang trống.*\n",
    "\n",
    "*Nếu tất cả các điều kiện trên được thoả mãn, đánh kí hiệu của **player** vào ô **cell** của bàn cờ (bằng cách dùng hàm **mark** của class **Board** đã viết ở bài 2). Nếu không có quyền, hàm báo một lỗi cho biết vì sao người chơi không có quyền đánh cờ.*\n",
    "\n",
    "Dùng các đoạn code dưới đây để kiểm tra hàm của bạn.\n",
    "\n",
    "(Lưu ý rằng ta sẽ tiếp tục hoàn chỉnh hàm **mark** trong bài 8.)"
   ]
  },
  {
   "cell_type": "code",
   "execution_count": 17,
   "metadata": {
    "collapsed": false
   },
   "outputs": [
    {
     "name": "stdout",
     "output_type": "stream",
     "text": [
      "\"It's not 1's turn.\"\n",
      "-----------\n",
      "| | | | | |\n",
      "-----------\n",
      "| | | | | |\n",
      "-----------\n",
      "| | | | | |\n",
      "-----------\n",
      "| | | | | |\n",
      "-----------\n",
      "| | | | | |\n",
      "-----------\n",
      "\n"
     ]
    }
   ],
   "source": [
    "game = Game(5, 5, 2, 4)\n",
    "try:\n",
    "    game.mark(1, (0, 0)) # Đoạn code không được thực hiện vì người chơi 1 không có quyền đánh trước. Lỗi được báo.\n",
    "except Exception as e:\n",
    "    print e\n",
    "game.draw()"
   ]
  },
  {
   "cell_type": "code",
   "execution_count": 55,
   "metadata": {
    "collapsed": false
   },
   "outputs": [
    {
     "name": "stdout",
     "output_type": "stream",
     "text": [
      "-----------\n",
      "| | | | | |\n",
      "-----------\n",
      "| |O| | | |\n",
      "-----------\n",
      "| | | | | |\n",
      "-----------\n",
      "| | | | | |\n",
      "-----------\n",
      "| | | | | |\n",
      "-----------\n",
      "\n"
     ]
    }
   ],
   "source": [
    "game = Game(5, 5, 2, 4)\n",
    "game.mark(2, (1, 1)) # Đoạn code được thực hiện vì mọi điều kiện đều thoả mãn\n",
    "game.draw()"
   ]
  },
  {
   "cell_type": "code",
   "execution_count": 18,
   "metadata": {
    "collapsed": false
   },
   "outputs": [
    {
     "name": "stdout",
     "output_type": "stream",
     "text": [
      "'Cell (1, 1) is not empty.'\n",
      "-----------\n",
      "| | | | | |\n",
      "-----------\n",
      "| |O| | | |\n",
      "-----------\n",
      "| | | | | |\n",
      "-----------\n",
      "| | | | | |\n",
      "-----------\n",
      "| | | | | |\n",
      "-----------\n",
      "\n"
     ]
    }
   ],
   "source": [
    "game = Game(5, 5, 2, 4)\n",
    "game.mark(2, (1, 1)) # Đoạn code được thực hiện vì mọi điều kiện đều thoả mãn.\n",
    "try:\n",
    "    game.mark(1, (1, 1)) # Đoạn code không được thực hiện vì ô (1, 1) đã bị đánh. Lỗi được báo\n",
    "except Exception as e:\n",
    "    print e\n",
    "game.draw()"
   ]
  },
  {
   "cell_type": "code",
   "execution_count": 19,
   "metadata": {
    "collapsed": false
   },
   "outputs": [
    {
     "name": "stdout",
     "output_type": "stream",
     "text": [
      "'Game has finished'\n",
      "-----------\n",
      "| | | | | |\n",
      "-----------\n",
      "| | | | | |\n",
      "-----------\n",
      "| | | | | |\n",
      "-----------\n",
      "| | | | | |\n",
      "-----------\n",
      "| | | | | |\n",
      "-----------\n",
      "\n"
     ]
    }
   ],
   "source": [
    "game = Game(5, 5, 2, 4)\n",
    "game.deactivate()\n",
    "try:\n",
    "    game.mark(1, (3, 2)) # Đoạn code không được thực hiện vì trò chơi đã inactive, hàm deactivate đã được gọi\n",
    "except Exception as e:\n",
    "    print e\n",
    "game.draw()"
   ]
  },
  {
   "cell_type": "markdown",
   "metadata": {},
   "source": [
    "### Bài 6. Người chơi đã thắng?\n",
    "\n",
    "Giả sử người chơi **player** vừa đánh vào ô **cell**. Nước đánh này có thể làm cho người chơi **player** thắng cuộc nếu nó tạo được với các ô đã đánh trước đó $k$ kí hiệu liên tiếp trên một hàng ngang, cột dọc hoặc đường chéo.\n",
    "\n",
    "*Hãy viết instant method **isVictoryCell(cell)** nhận tham số là toạ độ **cell** của một ô và trả lại **True** nếu nó làm cho người đánh tại ô đó thắng, và **False** nếu nó chưa làm cho người đánh tại ô đó thắng. Nói cách khác, trả lại **True** nếu **cell** nằm trên một hàng ngang, cột dọc hoặc đường chéo gồm $k$ kí hiệu liên tiếp do một trong 2 người chơi đánh.*"
   ]
  },
  {
   "cell_type": "code",
   "execution_count": 61,
   "metadata": {
    "collapsed": false
   },
   "outputs": [
    {
     "name": "stdout",
     "output_type": "stream",
     "text": [
      "-----------\n",
      "| | |O| | |\n",
      "-----------\n",
      "|O|X| | | |\n",
      "-----------\n",
      "| |X| | | |\n",
      "-----------\n",
      "| |X| |O| |\n",
      "-----------\n",
      "| |X| | |O|\n",
      "-----------\n",
      "\n"
     ]
    },
    {
     "data": {
      "text/plain": [
       "True"
      ]
     },
     "execution_count": 61,
     "metadata": {},
     "output_type": "execute_result"
    }
   ],
   "source": [
    "game = Game(5, 5, 2, 4)\n",
    "checker = 1\n",
    "game.getBoard().setBoardStatus([[0, 0, 2, 0, 0], [2, 1, 0, 0, 0], [0, 1, 0, 0, 0], [0, 1, 0, 2, 0], [0, 1, 0, 0, 2]])\n",
    "game.draw()\n",
    "game.isVictoryCell((3, 1)) # Trả lại True vì ô (3, 1) nằm trên 1 cột dọc gồm 4 chữ X liên tiếp."
   ]
  },
  {
   "cell_type": "code",
   "execution_count": 62,
   "metadata": {
    "collapsed": false
   },
   "outputs": [
    {
     "name": "stdout",
     "output_type": "stream",
     "text": [
      "-----------\n",
      "| | |O| | |\n",
      "-----------\n",
      "|O|X|X|X|X|\n",
      "-----------\n",
      "| | | | | |\n",
      "-----------\n",
      "| | | |O| |\n",
      "-----------\n",
      "| | | | |O|\n",
      "-----------\n",
      "\n"
     ]
    },
    {
     "data": {
      "text/plain": [
       "False"
      ]
     },
     "execution_count": 62,
     "metadata": {},
     "output_type": "execute_result"
    }
   ],
   "source": [
    "game.getBoard().setBoardStatus([[0, 0, 2, 0, 0], [2, 1, 1, 1, 1], [0, 0, 0, 0, 0], [0, 0, 0, 2, 0], [0, 0, 0, 0, 2]])\n",
    "game.draw()\n",
    "game.isVictoryCell((3, 1)) # Trả lại False vì ô (3, 1) không nằm trên 1 cột dọc, hàng ngang, đường chéo nào gồm 4 chữ X hay O."
   ]
  },
  {
   "cell_type": "code",
   "execution_count": 63,
   "metadata": {
    "collapsed": false
   },
   "outputs": [
    {
     "name": "stdout",
     "output_type": "stream",
     "text": [
      "-----------\n",
      "| | |O| | |\n",
      "-----------\n",
      "|O|X|X|X|X|\n",
      "-----------\n",
      "| | | | | |\n",
      "-----------\n",
      "| | | |O| |\n",
      "-----------\n",
      "| | | | |O|\n",
      "-----------\n",
      "\n"
     ]
    },
    {
     "data": {
      "text/plain": [
       "True"
      ]
     },
     "execution_count": 63,
     "metadata": {},
     "output_type": "execute_result"
    }
   ],
   "source": [
    "game.getBoard().setBoardStatus([[0, 0, 2, 0, 0], [2, 1, 1, 1, 1], [0, 0, 0, 0, 0], [0, 0, 0, 2, 0], [0, 0, 0, 0, 2]])\n",
    "game.draw()\n",
    "game.isVictoryCell((1, 4)) # Trả lại True vì ô (1, 4) nằm trên 1 hàng ngang gồm 4 chữ X liên tiếp."
   ]
  },
  {
   "cell_type": "code",
   "execution_count": 64,
   "metadata": {
    "collapsed": false
   },
   "outputs": [
    {
     "name": "stdout",
     "output_type": "stream",
     "text": [
      "-----------\n",
      "| | |O| | |\n",
      "-----------\n",
      "|X|O|X|X|X|\n",
      "-----------\n",
      "| | |O| | |\n",
      "-----------\n",
      "| | | |O| |\n",
      "-----------\n",
      "| | | | |O|\n",
      "-----------\n",
      "\n"
     ]
    },
    {
     "data": {
      "text/plain": [
       "True"
      ]
     },
     "execution_count": 64,
     "metadata": {},
     "output_type": "execute_result"
    }
   ],
   "source": [
    "game.getBoard().setBoardStatus([[0, 0, 2, 0, 0], [1, 2, 1, 1, 1], [0, 0, 2, 0, 0], [0, 0, 0, 2, 0], [0, 0, 0, 0, 2]])\n",
    "game.draw()\n",
    "game.isVictoryCell((4, 4))  # Trả lại True vì ô (4, 4) nằm trên 1 đường chéo Tây Bắc - Đông Nam gồm 4 chữ O liên tiếp."
   ]
  },
  {
   "cell_type": "code",
   "execution_count": 65,
   "metadata": {
    "collapsed": false
   },
   "outputs": [
    {
     "name": "stdout",
     "output_type": "stream",
     "text": [
      "-----------\n",
      "| | | | | |\n",
      "-----------\n",
      "| | |X|X|O|\n",
      "-----------\n",
      "| | | |O| |\n",
      "-----------\n",
      "| | |O|X| |\n",
      "-----------\n",
      "| |O|X| | |\n",
      "-----------\n",
      "\n"
     ]
    },
    {
     "data": {
      "text/plain": [
       "True"
      ]
     },
     "execution_count": 65,
     "metadata": {},
     "output_type": "execute_result"
    }
   ],
   "source": [
    "game.getBoard().setBoardStatus([[0, 0, 0, 0, 0], [0, 0, 1, 1, 2], [0, 0, 0, 2, 0], [0, 0, 2, 1, 0], [0, 2, 1, 0, 0]])\n",
    "game.draw()\n",
    "game.isVictoryCell((4, 1))  # Trả lại True vì ô (4, 1) nằm trên 1 đường chéo Đông Bắc - Tây Nam gồm 4 chữ O liên tiếp."
   ]
  },
  {
   "cell_type": "markdown",
   "metadata": {
    "collapsed": true
   },
   "source": [
    "### Bài 7. Bàn cờ đã được đánh hết?\n",
    "\n",
    "*Trong class **Game**, hãy viết instant method **isFull()** trả lại **True** nếu tất cả các ô của bàn cờ đã được đánh hết (tức là mọi ô của bàn cờ đều có giá trị **X**=1 hoặc **O**=2) và **False** nếu chưa.*\n",
    "\n",
    "Đoạn code dưới đây giúp test hàm của bạn."
   ]
  },
  {
   "cell_type": "code",
   "execution_count": 22,
   "metadata": {
    "collapsed": false
   },
   "outputs": [
    {
     "name": "stdout",
     "output_type": "stream",
     "text": [
      "-----------\n",
      "| | | | | |\n",
      "-----------\n",
      "| | |X|X|O|\n",
      "-----------\n",
      "| | | |O| |\n",
      "-----------\n",
      "| | |O|X| |\n",
      "-----------\n",
      "| |O|X| | |\n",
      "-----------\n",
      "\n"
     ]
    },
    {
     "data": {
      "text/plain": [
       "False"
      ]
     },
     "execution_count": 22,
     "metadata": {},
     "output_type": "execute_result"
    }
   ],
   "source": [
    "game = Game(5, 5, 2, 4)\n",
    "game.getBoard().setBoardStatus([[0, 0, 0, 0, 0], [0, 0, 1, 1, 2], [0, 0, 0, 2, 0], [0, 0, 2, 1, 0], [0, 2, 1, 0, 0]])\n",
    "game.draw()\n",
    "game.isFull()"
   ]
  },
  {
   "cell_type": "code",
   "execution_count": 23,
   "metadata": {
    "collapsed": false
   },
   "outputs": [
    {
     "name": "stdout",
     "output_type": "stream",
     "text": [
      "-----------\n",
      "|X|O|X|O|O|\n",
      "-----------\n",
      "|O|X|X|X|O|\n",
      "-----------\n",
      "|O|X|X|O|X|\n",
      "-----------\n",
      "|O|O|O|X|X|\n",
      "-----------\n",
      "|X|O|X|X|O|\n",
      "-----------\n",
      "\n"
     ]
    },
    {
     "data": {
      "text/plain": [
       "True"
      ]
     },
     "execution_count": 23,
     "metadata": {},
     "output_type": "execute_result"
    }
   ],
   "source": [
    "game = Game(5, 5, 2, 4)\n",
    "game.getBoard().setBoardStatus([[1, 2, 1, 2, 2], [2, 1, 1, 1, 2], [2, 1, 1, 2, 1], [2, 2, 2, 1, 1], [1, 2, 1, 1, 2]])\n",
    "game.draw()\n",
    "game.isFull()"
   ]
  },
  {
   "cell_type": "markdown",
   "metadata": {},
   "source": [
    "### Bài 8. Kiểm tra sau mỗi nước đánh\n",
    "\n",
    "Ngay sau khi người chơi **player** đánh xong, máy tính sẽ thực hiện các thao tác sau:\n",
    "\n",
    "*- Kiểm tra xem nước đánh đó có giúp người chơi thắng không (bằng cách gọi hàm isVictoryCell đã viết ở bài 6) hoặc bàn cờ đã được đánh hết chưa (dùng hàm isFull đã viết ở bài 7). *\n",
    "\n",
    " * *Nếu người chơi **player** thắng, máy sẽ tuyên bố người thắng cuộc (hàm **declareWinner(player)** đã viết ở bài 4), chuyển trạng thái ván chơi về kết thúc (hàm  **deactivate()** đã viết ở bài 4). *\n",
    "\n",
    " * *Nếu không, nếu bàn cờ đã đầy, máy không tuyên bố người thắng cuộc nhưng chuyển trạng thái ván chơi về kết thúc (hàm  **deactivate()** đã viết ở bài 4). *\n",
    "\n",
    "*- Nếu cả trường hợp trên đều không xảy ra, máy sẽ trao quyền đi tiếp cho người tiếp theo (hàm switchTurn()đã viết ở bài 4).*\n",
    "\n",
    "*Hãy bổ sung các thao tác này vào cuối instant method **mark(player, cell)** đã viết ở bài 5 để hoàn thiện method **mark**.*\n",
    "\n",
    "Test các khả năng xảy ra sau khi một người đánh bằng các đoạn test dưới đây."
   ]
  },
  {
   "cell_type": "code",
   "execution_count": 24,
   "metadata": {
    "collapsed": false
   },
   "outputs": [
    {
     "name": "stdout",
     "output_type": "stream",
     "text": [
      "-----------\n",
      "| | | | | |\n",
      "-----------\n",
      "| | |X|X|O|\n",
      "-----------\n",
      "| | | |O| |\n",
      "-----------\n",
      "| | |O|X| |\n",
      "-----------\n",
      "| |O|X| | |\n",
      "-----------\n",
      "\n",
      "False\n",
      "2\n"
     ]
    }
   ],
   "source": [
    "# Kịch bản 1\n",
    "game = Game(5, 5, 2, 4)\n",
    "\n",
    "# Giả sử bàn cờ đã được đánh đến trạng thái này\n",
    "game.getBoard().setBoardStatus([[0, 0, 0, 0, 0], [0, 0, 1, 1, 2], [0, 0, 0, 2, 0], [0, 0, 0, 1, 0], [0, 2, 1, 0, 0]])\n",
    "\n",
    "game.mark(2, (3, 2)) #Tại đây người chơi 2 sẽ thắng, do đó khi gọi isActive() và getWinner() cần cho kết quả False và 2.\n",
    "game.draw()\n",
    "\n",
    "print(game.isActive()) #Cần bằng False\n",
    "print(game.getWinner()) #Cần bằng 2"
   ]
  },
  {
   "cell_type": "code",
   "execution_count": 25,
   "metadata": {
    "collapsed": false
   },
   "outputs": [
    {
     "name": "stdout",
     "output_type": "stream",
     "text": [
      "-----------\n",
      "|X|O|X|O|O|\n",
      "-----------\n",
      "|O|X|X|X|O|\n",
      "-----------\n",
      "|X|X|O|O|X|\n",
      "-----------\n",
      "|O|O|X|X|X|\n",
      "-----------\n",
      "|X|O|X|X|O|\n",
      "-----------\n",
      "\n",
      "False\n",
      "0\n"
     ]
    }
   ],
   "source": [
    "# Kịch bản 2\n",
    "game = Game(5, 5, 1, 4)\n",
    "\n",
    "# Giả sử bàn cờ đã được đánh đến trạng thái này\n",
    "game.getBoard().setBoardStatus([[0, 2, 1, 2, 2], [2, 1, 1, 1, 2], [1, 1, 2, 2, 1], [2, 2, 1, 1, 1], [1, 2, 1, 1, 2]])\n",
    "\n",
    "game.mark(1, (0, 0)) #Tại đây không ai thắng nhưng bàn cờ full, do đó gọi isActive() và getWinner() cần cho kết quả False và 0.\n",
    "\n",
    "game.draw()\n",
    "print(game.isActive()) #Cần bằng False\n",
    "print(game.getWinner()) #Cần bằng 0"
   ]
  },
  {
   "cell_type": "code",
   "execution_count": 26,
   "metadata": {
    "collapsed": false
   },
   "outputs": [
    {
     "name": "stdout",
     "output_type": "stream",
     "text": [
      "-----------\n",
      "| | | | | |\n",
      "-----------\n",
      "| | |X|X|O|\n",
      "-----------\n",
      "| | | |O| |\n",
      "-----------\n",
      "| | | |X|O|\n",
      "-----------\n",
      "| |O|X| | |\n",
      "-----------\n",
      "\n",
      "True\n",
      "0\n",
      "1\n"
     ]
    }
   ],
   "source": [
    "# Kịch bản 3\n",
    "game = Game(5, 5, 2, 4)\n",
    "\n",
    "# Giả sử bàn cờ đã được đánh đến trạng thái này\n",
    "game.getBoard().setBoardStatus([[0, 0, 0, 0, 0], [0, 0, 1, 1, 2], [0, 0, 0, 2, 0], [0, 0, 0, 1, 0], [0, 2, 1, 0, 0]])\n",
    "\n",
    "game.mark(2, (3, 4)) #Tại đây không ai thắng, bàn cờ chưa đầy, do đó khi gọi isActive() và getWinner() các giá trị là True, 0\n",
    "game.draw()\n",
    "\n",
    "print(game.isActive()) #Cần bằng True\n",
    "print(game.getWinner()) #Cần bằng 0\n",
    "\n",
    "# Ngoài ra khi gọi getTurn() cần nhận giá trị là 1, vì player 2 vừa mới đánh xong\n",
    "print(game.getTurn()) #Cần bằng 1"
   ]
  },
  {
   "cell_type": "markdown",
   "metadata": {},
   "source": [
    "### Một ván chơi"
   ]
  },
  {
   "cell_type": "markdown",
   "metadata": {},
   "source": [
    "Đến đây việc implement luật chơi vào class **Game** đã kết thúc. Bạn có thể tự test một ván chơi đơn giản bằng cách gõ các dòng sau vào iPython console lần lượt. (Thay toạ độ các ô bằng nước đi bạn muốn đi)"
   ]
  },
  {
   "cell_type": "code",
   "execution_count": 43,
   "metadata": {
    "collapsed": false
   },
   "outputs": [
    {
     "name": "stdout",
     "output_type": "stream",
     "text": [
      "-----------\n",
      "| | | | | |\n",
      "-----------\n",
      "| | | | | |\n",
      "-----------\n",
      "| |O| | | |\n",
      "-----------\n",
      "| | | | | |\n",
      "-----------\n",
      "| | | | | |\n",
      "-----------\n",
      "\n"
     ]
    }
   ],
   "source": [
    "X = 1\n",
    "O = 2\n",
    "game = Game(5, 5, O, 4)\n",
    "game.mark(O, (2, 1))\n",
    "game.draw()"
   ]
  },
  {
   "cell_type": "code",
   "execution_count": 44,
   "metadata": {
    "collapsed": false
   },
   "outputs": [
    {
     "name": "stdout",
     "output_type": "stream",
     "text": [
      "-----------\n",
      "| | | | | |\n",
      "-----------\n",
      "| | | | | |\n",
      "-----------\n",
      "| |O|X| | |\n",
      "-----------\n",
      "| | | | | |\n",
      "-----------\n",
      "| | | | | |\n",
      "-----------\n",
      "\n"
     ]
    }
   ],
   "source": [
    "game.mark(X, (2, 2))\n",
    "game.draw()"
   ]
  },
  {
   "cell_type": "code",
   "execution_count": 45,
   "metadata": {
    "collapsed": false
   },
   "outputs": [
    {
     "name": "stdout",
     "output_type": "stream",
     "text": [
      "-----------\n",
      "| | | |X| |\n",
      "-----------\n",
      "| |O|O|O|X|\n",
      "-----------\n",
      "| |O|X| | |\n",
      "-----------\n",
      "| |X| | | |\n",
      "-----------\n",
      "| | | | | |\n",
      "-----------\n",
      "\n"
     ]
    }
   ],
   "source": [
    "# Ván chơi tiếp tục\n",
    "game.mark(O, (1, 2))\n",
    "game.mark(X, (0, 3))\n",
    "game.mark(O, (1, 1))\n",
    "game.mark(X, (3, 1))\n",
    "game.mark(O, (1, 3))\n",
    "game.mark(X, (1, 4))\n",
    "game.draw()"
   ]
  },
  {
   "cell_type": "code",
   "execution_count": 46,
   "metadata": {
    "collapsed": false
   },
   "outputs": [
    {
     "name": "stdout",
     "output_type": "stream",
     "text": [
      "2\n"
     ]
    }
   ],
   "source": [
    "# Ván chơi kết thúc\n",
    "game.mark(O, (1, 0))\n",
    "print(game.getWinner()) #Cần bằng 2, tức người chơi O"
   ]
  },
  {
   "cell_type": "markdown",
   "metadata": {},
   "source": [
    "## Phần 3 - Máy tính học chơi cờ - Thuật toán thứ nhất\n",
    "\n",
    "Ta tiếp tục làm việc với class **Game**. Thay vì kí hiệu 2 người chơi là **X**, **O** ta sẽ xem 1 là con người (**HUMAN**) và 2 là máy tính (**MACHINE**). Các hằng số này đã được định nghĩa trong class **Game**.\n",
    "\n",
    "Giả sử ván cờ đang ở một trạng thái nhất định, chưa kết thúc và **MACHINE** sẽ có quyền đánh tiếp. Việc tiếp theo của **MACHINE** là phải quyết định nên đánh vào ô nào để khả năng thắng lớn nhất.\n",
    "\n",
    "Chiến thuật của **MACHINE** như sau:\n",
    "\n",
    "**Thuật toán 1**\n",
    "\n",
    "**Input:** Trạng thái hiện tại của ván chơi (tức instant thuộc class Game đang chứa hàm implement thuật toán)\n",
    "\n",
    "**Output:** Toạ độ **(i, j)** \"tốt nhất\" để thắng\n",
    "\n",
    "- Đối với từng ô **(i, j)** trong tất cả các ô trống của bàn cờ:\n",
    "\n",
    "- Tạo ra $N$ (= 10, 100 hay 1000, …) bản sao như trạng thái hiện tại của ván chơi.\n",
    "\n",
    "- Với mỗi bản sao:\n",
    " - Đánh vào ô **(i, j)**\n",
    "\n",
    " - Tiếp tục ván chơi một cách ngẫu nhiên (đóng vai **HUMAN** đánh vào một ô trống ngẫu nhiên, rồi trở lại vai **MACHINE** đánh vào một ô trống ngẫu nhiên khác…) cho đến khi ván chơi kết thúc\n",
    " \n",
    " - Tính hiệu suất chiến thắng của việc đánh vào **(i, j)** trên tập hợp tất cả các bản sao đã tạo ra. Hiệu suất có thể được tính như sau:\n",
    " \n",
    "<center>**H(i, j)** =  Số ván thắng – số ván thua</center>\n",
    "<center>(chú ý số ván thắng + hoà + thua = $N$, nên -$N \\leq $ **H(i,j)** $\\leq N$.)</center>\n",
    " - Sau khi có tất cả **H(i,j)**, chọn **(i,j)** làm **H** lớn nhất.\n",
    " \n",
    "Ta sẽ viết code cho phần này trong các bài 9, 10, 11\n"
   ]
  },
  {
   "cell_type": "markdown",
   "metadata": {},
   "source": [
    "### Bài 9. Đánh giá nước vừa đi\n",
    "\n",
    "*1.\tTrong class **Board** (không phải class **Game**), hãy viết instance method **getARandomEmptyCell()** trả lại toạ độ của một ô đang trống một cách ngẫu nhiên đều (các ô trống có xác suất được chọn như nhau). Nhắc lại toạ độ ô là một tuple của Python.*\n",
    "\n",
    "*2.\tGiả sử trò chơi đang ở trạng thái chưa kết thúc và **player** là người vừa đánh nước gần nhất. Trong class **Game**, hãy viết instant method **evaluateLastStepRandomly(player)** thực hiện việc cho 2 người chơi chơi ngẫu nhiên bằng cách liên tục chọn một ô trống ngẫu nhiên (dùng hàm đã viết ở phần 1 bài này.) rồi lần lượt đánh trên chính ván chơi đó cho đến khi ván chơi kết thúc, sau đó trả lại 1 nếu **player** thắng, -1 nếu **player** thua và 0 nếu hoà.*\n",
    "\n",
    "Test các hàm vừa viết bằng các đoạn code dưới đây."
   ]
  },
  {
   "cell_type": "code",
   "execution_count": 50,
   "metadata": {
    "collapsed": false
   },
   "outputs": [
    {
     "data": {
      "text/plain": [
       "(3, 4)"
      ]
     },
     "execution_count": 50,
     "metadata": {},
     "output_type": "execute_result"
    }
   ],
   "source": [
    "# Test getARandomEmptyCell() \n",
    "X, O = 1, 2\n",
    "game = Game(5, 5, O, 4)\n",
    "game.mark(O, (2, 1))\n",
    "game.mark(X, (2, 2))\n",
    "game.mark(O, (1, 1))\n",
    "game.mark(X, (0, 3))\n",
    "game.mark(O, (3, 1))\n",
    "game.getBoard().getARandomEmptyCell() # Cần có kết quả khác nhau khi chạy và không trùng với (2, 1), (2, 2), (1, 1), (0, 3), (3, 1)"
   ]
  },
  {
   "cell_type": "code",
   "execution_count": 65,
   "metadata": {
    "collapsed": false
   },
   "outputs": [
    {
     "name": "stdout",
     "output_type": "stream",
     "text": [
      "-----------\n",
      "| | | |X| |\n",
      "-----------\n",
      "| |O| | | |\n",
      "-----------\n",
      "| |O|X| | |\n",
      "-----------\n",
      "| |O| | | |\n",
      "-----------\n",
      "|X|O| | | |\n",
      "-----------\n",
      "\n"
     ]
    },
    {
     "data": {
      "text/plain": [
       "1"
      ]
     },
     "execution_count": 65,
     "metadata": {},
     "output_type": "execute_result"
    }
   ],
   "source": [
    "# Test evaluateLastStepRandomly(player)\n",
    "X, O = 1, 2\n",
    "game = Game(5, 5, O, 4)\n",
    "game.mark(O, (2, 1))\n",
    "game.mark(X, (2, 2))\n",
    "game.mark(O, (1, 1))\n",
    "game.mark(X, (0, 3))\n",
    "game.mark(O, (3, 1))\n",
    "game.mark(X, (4, 0))\n",
    "game.mark(O, (4, 1))\n",
    "game.draw()\n",
    "game.evaluateLastStepRandomly(O) # Cần có kết quả 1 vì người chơi O đã thắng"
   ]
  },
  {
   "cell_type": "code",
   "execution_count": 66,
   "metadata": {
    "collapsed": false
   },
   "outputs": [
    {
     "name": "stdout",
     "output_type": "stream",
     "text": [
      "-----------\n",
      "|X|O| |O|O|\n",
      "-----------\n",
      "|O|X|X|X|O|\n",
      "-----------\n",
      "|X|X|O|O|O|\n",
      "-----------\n",
      "|O|O|X|X|X|\n",
      "-----------\n",
      "|X|O|X|X|O|\n",
      "-----------\n",
      "\n"
     ]
    },
    {
     "data": {
      "text/plain": [
       "-1"
      ]
     },
     "execution_count": 66,
     "metadata": {},
     "output_type": "execute_result"
    }
   ],
   "source": [
    "# Test evaluateLastStepRandomly(player)\n",
    "X, O = 1, 2\n",
    "game = Game(5, 5, X, 4)\n",
    "\n",
    "# Giả sử bàn cờ đã đánh đến đây, và O là người vừa đánh.\n",
    "game.getBoard().setBoardStatus([[0, 2, 0, 2, 2], [2, 1, 1, 1, 2], [1, 1, 2, 2, 2], [2, 2, 1, 1, 1], [1, 2, 1, 1, 2]])\n",
    "game.mark(X, (0, 0))\n",
    "game.draw()\n",
    "game.evaluateLastStepRandomly(X) # Cần có kết quả -1 vì ở nước cuối cùng O sẽ thắng, và ta đang đánh giá nước đi của X"
   ]
  },
  {
   "cell_type": "code",
   "execution_count": 81,
   "metadata": {
    "collapsed": false
   },
   "outputs": [
    {
     "name": "stdout",
     "output_type": "stream",
     "text": [
      "-----------\n",
      "| |O| |O|O|\n",
      "-----------\n",
      "|O|X|X|X|O|\n",
      "-----------\n",
      "|X|X|O|O|O|\n",
      "-----------\n",
      "|O|O|X|X|X|\n",
      "-----------\n",
      "|X|O|X|X|O|\n",
      "-----------\n",
      "\n"
     ]
    },
    {
     "data": {
      "text/plain": [
       "1"
      ]
     },
     "execution_count": 81,
     "metadata": {},
     "output_type": "execute_result"
    }
   ],
   "source": [
    "# Test evaluateLastStepRandomly(player)\n",
    "X, O = 1, 2\n",
    "game = Game(5, 5, O, 4)\n",
    "# Giả sử bàn cờ đã đánh đến đây, và O là người vừa đánh.\n",
    "game.getBoard().setBoardStatus([[0, 0, 0, 2, 2], [2, 1, 1, 1, 2], [1, 1, 2, 2, 2], [2, 2, 1, 1, 1], [1, 2, 1, 1, 2]])\n",
    "game.mark(O, (0, 1))\n",
    "game.draw()\n",
    "game.evaluateLastStepRandomly(O) # Cần có kết quả 0 hoặc 1 vì ở các nước còn lại O sẽ thắng hoặc hoà, và ta đang đánh giá nước vừa đi của O"
   ]
  },
  {
   "cell_type": "markdown",
   "metadata": {},
   "source": [
    "### Bài 10. Tạo một bản sao trạng thái hiện tại của ván chơi\n",
    "\n",
    "Trong class **Game**, hãy viết instant method **generateGameCopy()** trả lại một instance mới thuộc class **Game** có trạng thái (tức **giá trị** của mọi attributes) giống với trạng thái hiện tại của instance ứng với ván đang chơi. (Lưu ý: với attribute **\\_\\_board**, hãy chỉ copy các giá trị, đừng copy nguyên instance **\\_\\_board** của ván chơi chính) \n",
    "\n",
    "Bạn cần test với đoạn code dưới đây."
   ]
  },
  {
   "cell_type": "code",
   "execution_count": 85,
   "metadata": {
    "collapsed": false
   },
   "outputs": [
    {
     "name": "stdout",
     "output_type": "stream",
     "text": [
      "SHOULD BE THE SAME\n",
      "(1, 1)\n",
      "(0, 0)\n",
      "([[0, 0, 0, 1, 0], [0, 2, 2, 0, 0], [0, 2, 1, 0, 0], [0, 0, 0, 0, 0], [0, 0, 0, 0, 0]], [[0, 0, 0, 1, 0], [0, 2, 2, 0, 0], [0, 2, 1, 0, 0], [0, 0, 0, 0, 0], [0, 0, 0, 0, 0]])\n",
      "SHOULD BE DIFFERENT\n",
      "(<NoughtsAndCrosses_Solution.Board instance at 0x00000000040F5048>, <NoughtsAndCrosses_Solution.Board instance at 0x00000000040F5708>)\n"
     ]
    }
   ],
   "source": [
    "X, O = 1, 2\n",
    "game = Game(5, 5, O, 4)\n",
    "checker = 1\n",
    "game.mark(O, (2, 1))\n",
    "game.mark(X, (2, 2))\n",
    "game.mark(O, (1, 2))\n",
    "game.mark(X, (0, 3))\n",
    "game.mark(O, (1, 1))\n",
    "    \n",
    "copy_game = game.generateGameCopy()\n",
    "\n",
    "# Các giá trị của ván copy cần giống hệt các giá trị của ván chính, tức là các giá trị sau phải giống nhau\n",
    "print(\"SHOULD BE THE SAME\")\n",
    "print (copy_game.getTurn(), game.getTurn())\n",
    "print (copy_game.getWinner(), game.getWinner())\n",
    "print (copy_game.getBoard().getBoardStatus(), game.getBoard().getBoardStatus())\n",
    "\n",
    "# Tuy nhiên, instance __board của ván copy phải khác instance __board của ván chính, tức 2 giá trị sau phải khác nhau. \n",
    "# Nếu chúng giống nhau, mọi thay đổi sau đó trên ván copy sẽ thay đổi ngay trên ván chính. Ta không muốn điều này vì chỉ muốn\n",
    "# chơi thử trên ván copy chứ không làm thay đổi trạng thái ván chính khi chơi thử.\n",
    "\n",
    "print(\"SHOULD BE DIFFERENT\")\n",
    "print (game.getBoard(), copy_game.getBoard())"
   ]
  },
  {
   "cell_type": "markdown",
   "metadata": {
    "collapsed": true
   },
   "source": [
    "### Bài 11. Cho máy tính tự chơi với chính nó $N$ lần.\n",
    "\n",
    "Ván chơi đang ở trạng thái chưa kết thúc và **player** sẽ là người đánh nước tiếp theo. *Trong class **Game**, hãy viết instance method **algo1(player)** implement thuật toán 1, nhận tham số là **player** và thực hiện các bước của thuật toán, rồi trả lại một tuple là ô cần đánh.* Nhắc lại, các bước của thuật toán là:\n",
    "\n",
    "- Tìm tất cả các ô trống đang có trên bàn cờ\n",
    "- Với mỗi ô trống **(i, j)**:\n",
    " - Tạo một vòng lặp $N$ lần (nên bắt đầu với $N$ nhỏ, khoảng bằng 10 rồi 100, để kiểm tra tính chính xác của code), ở mỗi lần:\n",
    "  - Tạo ra một bản sao giống hệt trạng thái ván chơi hiện tại.\n",
    "  - Đánh vào **(i, j)** trong bản sao vừa tạo ra (đừng đánh vào game chính!)\n",
    "  - Đánh giá ngẫu nhiên nước vừa đi bằng điểm 1, 0 hoặc -1 bằng cách dùng **evaluateLastStepRandomly(player)** cho bản sao.\n",
    " - Tính tổng điểm của tất cả các ván chơi bản sao trong vòng lặp, đó chính là **H(i,j)**.\n",
    "- Trả lại (return) toạ độ **(i, j)** làm **H** lớn nhất.\n",
    "\n",
    "Sử dụng đoạn code dưới đây để test."
   ]
  },
  {
   "cell_type": "code",
   "execution_count": 2,
   "metadata": {
    "collapsed": false
   },
   "outputs": [
    {
     "name": "stdout",
     "output_type": "stream",
     "text": [
      "(1, 1)\n"
     ]
    }
   ],
   "source": [
    "if __name__ == \"__main__\":\n",
    "    HUMAN = 1\n",
    "    MACHINE = 2\n",
    "    game = Game(3, 3, MACHINE, 3)\n",
    "    print game.decideNextStep(MACHINE, Game.algo1)"
   ]
  },
  {
   "cell_type": "markdown",
   "metadata": {},
   "source": [
    "Trong đoạn code để test trên, một method **decideNextStep(game, player, algo)** đã được viết sẵn với mục đích sử dụng các thuật toán khác nhau giải quyết bài toán. Ở đây dòng **game.decideNextStep(MACHINE, Game.algo1)** nghĩa là ta dùng **algo1** cho tham số algo của hàm để quyết định nước đi tiếp theo. Một số thuật toán khác (**algo2**, **algo3**) sẽ được giới thiệu ở phần sau.\n",
    "\n",
    "Kết quả test có hợp lí không? Nếu là người chơi được đi trước trong ván cờ 3x3, bạn sẽ đánh vào ô nào, có giống như lựa chọn của máy không?\n"
   ]
  },
  {
   "cell_type": "markdown",
   "metadata": {},
   "source": [
    "## Phần 4. Cải thiện thuật toán\n",
    "\n",
    "Thử lập một ván chơi trên bàn cờ 5 x 5 với $k$ = 4, **MACHINE** đi trước. Bạn có thể đánh giá độ nhanh của thuật toán bằng đoạn code sau (trong lời giải, $N = 1000$, bạn có thể chọn $N = 100$ để đánh giá)."
   ]
  },
  {
   "cell_type": "code",
   "execution_count": 10,
   "metadata": {
    "collapsed": false
   },
   "outputs": [
    {
     "name": "stdout",
     "output_type": "stream",
     "text": [
      "-----------\n",
      "| | | |X| |\n",
      "-----------\n",
      "|X|O|O| | |\n",
      "-----------\n",
      "| |O|X| | |\n",
      "-----------\n",
      "| | | | | |\n",
      "-----------\n",
      "| | | | | |\n",
      "-----------\n",
      "\n",
      "(3, 1)\n",
      "Algo 1 took  18.6069998741  second.\n"
     ]
    }
   ],
   "source": [
    "import time\n",
    "if __name__ == \"__main__\":\n",
    "    HUMAN = 1\n",
    "    MACHINE = 2\n",
    "    game = Game(5, 5, MACHINE, 4)\n",
    "    game.mark(MACHINE, (2, 1))\n",
    "    game.mark(HUMAN, (2, 2))\n",
    "    game.mark(MACHINE, (1, 2))\n",
    "    game.mark(HUMAN, (0, 3))\n",
    "    game.mark(MACHINE, (1, 1))\n",
    "    game.mark(HUMAN, (1, 0))\n",
    "    game.draw()\n",
    "    t = time.time() \n",
    "    print game.decideNextStep(MACHINE, Game.algo1)\n",
    "    print \"Algo 1 took \", time.time() - t, \" second.\"\n"
   ]
  },
  {
   "cell_type": "markdown",
   "metadata": {},
   "source": [
    "Trên thực tế, thuật toán này có tốc độ không tốt.\n",
    "\n",
    "Ta thay đổi chiến thuật một chút. Ta cảm giác rằng cả **HUMAN** và **MACHINE** đều không nên đánh ở những ô quá xa với những ô đã được đánh, do đó trong thuật toán 1, thay vì tìm tất cả các ô trống trên bàn cờ, ta chỉ tìm những ô trống có ít nhất một lân cận đã được đánh.\n",
    "\n",
    "Ta gọi các ô trống nằm cạnh một ô không trống của bàn cờ là một ô **tiềm năng**.\n",
    "\n",
    "Ta có thuật toán dưới đây.\n",
    "\n",
    "#### Thuật toán 2 #### \n",
    "\n",
    "**Input:** Trạng thái hiện tại của ván chơi (tức instant thuộc class Game đang chứa hàm implement thuật toán)\n",
    "\n",
    "**Output:** Toạ độ (i, j) “tốt nhất” để thắng\n",
    "\n",
    "- Đối với từng ô **(i, j)** trong tất cả các ô tiềm năng của bàn cờ:\n",
    " - Tạo ra $N = 1000$ bản sao như trạng thái hiện tại của ván chơi.\n",
    " - Với mỗi bản sao:\n",
    "  - Đánh vào ô **(i, j)**\n",
    "  - Tiếp tục ván chơi một cách ngẫu nhiên (đóng vai **HUMAN** đánh vào một ô **tiềm năng**, rồi trở lại vai **MACHINE** đánh vào một ô tiềm **năng khác**…) cho đến khi ván chơi kết thúc\n",
    " - Tính hiệu suất chiến thắng của việc đánh vào **(i, j)** trên tất cả các bản sao đã tạo ra. Hiệu suất có thể được tính như cũ:\n",
    " \n",
    "<center>**H(i, j)** =  Số ván thắng – số ván thua</center>\n",
    "<center>(chú ý số ván thắng + hoà + thua = $N$, nên -$N \\leq $ **H(i,j)** $\\leq N$.)</center>\n",
    " - Sau khi có tất cả **H(i,j)**, chọn **(i,j)** làm **H** lớn nhất.\n"
   ]
  },
  {
   "cell_type": "markdown",
   "metadata": {},
   "source": [
    "### Bài 12. Thuật toán 2.\n",
    "\n",
    "*Viết hàm **algo2()** implement thuật toán 2.*\n",
    "\n",
    "Chạy lại đoạn code dưới đây để test. (Thời gian chạy có thể tốt hơn thuật toán 1 hoặc không)"
   ]
  },
  {
   "cell_type": "code",
   "execution_count": 11,
   "metadata": {
    "collapsed": false
   },
   "outputs": [
    {
     "name": "stdout",
     "output_type": "stream",
     "text": [
      "-----------\n",
      "| | | |X| |\n",
      "-----------\n",
      "|X|O|O| | |\n",
      "-----------\n",
      "| |O|X| | |\n",
      "-----------\n",
      "| | | | | |\n",
      "-----------\n",
      "| | | | | |\n",
      "-----------\n",
      "\n",
      "(3, 1)\n",
      "Algo 2 took  18.7060000896  second.\n"
     ]
    }
   ],
   "source": [
    "import time\n",
    "if __name__ == \"__main__\":\n",
    "    HUMAN = 1\n",
    "    MACHINE = 2\n",
    "    game = Game(5, 5, MACHINE, 4)\n",
    "    game.mark(MACHINE, (2, 1))\n",
    "    game.mark(HUMAN, (2, 2))\n",
    "    game.mark(MACHINE, (1, 2))\n",
    "    game.mark(HUMAN, (0, 3))\n",
    "    game.mark(MACHINE, (1, 1))\n",
    "    game.mark(HUMAN, (1, 0))\n",
    "    game.draw()\n",
    "    t = time.time() \n",
    "    print game.decideNextStep(MACHINE, Game.algo2)\n",
    "    print \"Algo 2 took \", time.time() - t, \" second.\""
   ]
  },
  {
   "cell_type": "markdown",
   "metadata": {},
   "source": [
    "### Bài 13. Thuật toán 3.\n",
    "\n",
    "*Viết hàm **algo3()** implement thuật toán 2 ở dạng cho nhiều CPU core chạy đồng thời (dùng multiprocessing.Pool). Mỗi pool đảm nhận một ô trống (là lân cận của một ô đã được đánh).*\n",
    "\n",
    "Test bằng đoạn code sau. (Thời gian chạy thường tốt hơn nhiều so với thuật toán 1 và 2)."
   ]
  },
  {
   "cell_type": "code",
   "execution_count": 12,
   "metadata": {
    "collapsed": false
   },
   "outputs": [
    {
     "name": "stdout",
     "output_type": "stream",
     "text": [
      "-----------\n",
      "| | | |X| |\n",
      "-----------\n",
      "|X|O|O| | |\n",
      "-----------\n",
      "| |O|X| | |\n",
      "-----------\n",
      "| | | | | |\n",
      "-----------\n",
      "| | | | | |\n",
      "-----------\n",
      "\n",
      "(3, 1)\n",
      "Algo 3 took  7.24599981308  second.\n"
     ]
    }
   ],
   "source": [
    "import time\n",
    "if __name__ == \"__main__\":\n",
    "    HUMAN = 1\n",
    "    MACHINE = 2\n",
    "    game = Game(5, 5, MACHINE, 4)\n",
    "    game.mark(MACHINE, (2, 1))\n",
    "    game.mark(HUMAN, (2, 2))\n",
    "    game.mark(MACHINE, (1, 2))\n",
    "    game.mark(HUMAN, (0, 3))\n",
    "    game.mark(MACHINE, (1, 1))\n",
    "    game.mark(HUMAN, (1, 0))\n",
    "    game.draw()\n",
    "    t = time.time() \n",
    "    print game.decideNextStep(MACHINE, Game.algo3)\n",
    "    print \"Algo 3 took \", time.time() - t, \" second.\""
   ]
  },
  {
   "cell_type": "markdown",
   "metadata": {},
   "source": [
    "Bạn có thể xây dựng thêm những thuật toán cải thiện hơn để khả năng thắng cao hơn và thời gian chạy nhanh hơn. Thử implement **algo4, 5, 6**… nếu có ý tưởng."
   ]
  }
 ],
 "metadata": {
  "kernelspec": {
   "display_name": "Python 2",
   "language": "python",
   "name": "python2"
  },
  "language_info": {
   "codemirror_mode": {
    "name": "ipython",
    "version": 2
   },
   "file_extension": ".py",
   "mimetype": "text/x-python",
   "name": "python",
   "nbconvert_exporter": "python",
   "pygments_lexer": "ipython2",
   "version": "2.7.13"
  }
 },
 "nbformat": 4,
 "nbformat_minor": 0
}
