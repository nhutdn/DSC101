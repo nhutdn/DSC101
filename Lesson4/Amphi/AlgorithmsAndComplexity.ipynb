{
 "cells": [
  {
   "cell_type": "markdown",
   "metadata": {},
   "source": [
    "# Amphi 4 - Algorithms and Complexity"
   ]
  },
  {
   "cell_type": "markdown",
   "metadata": {},
   "source": [
    "# 1. Recurrence"
   ]
  },
  {
   "cell_type": "markdown",
   "metadata": {},
   "source": [
    "Recurrence is calling a function inside itself for simpler arguments. We can use recurrence to shorten our code or to replace loops.\n",
    "\n",
    "The following example shows how to compute $n!$ using loops."
   ]
  },
  {
   "cell_type": "code",
   "execution_count": 26,
   "metadata": {
    "collapsed": false
   },
   "outputs": [
    {
     "name": "stdout",
     "output_type": "stream",
     "text": [
      "30414093201713378043612608166064768844377641568960512000000000000\n"
     ]
    }
   ],
   "source": [
    "def factorial(n):\n",
    "    if n == 0:\n",
    "        return 1\n",
    "    result = 1\n",
    "    for i in range(1, n+1):\n",
    "        result = result * i\n",
    "    return result\n",
    "\n",
    "print(factorial(50))"
   ]
  },
  {
   "cell_type": "markdown",
   "metadata": {},
   "source": [
    "We can use recurrence instead"
   ]
  },
  {
   "cell_type": "code",
   "execution_count": 27,
   "metadata": {
    "collapsed": false
   },
   "outputs": [
    {
     "name": "stdout",
     "output_type": "stream",
     "text": [
      "30414093201713378043612608166064768844377641568960512000000000000\n"
     ]
    }
   ],
   "source": [
    "def factorial2(n):\n",
    "    if n == 0:\n",
    "        return 1\n",
    "    return factorial(n-1)*n\n",
    "\n",
    "print(factorial(50))"
   ]
  },
  {
   "cell_type": "markdown",
   "metadata": {},
   "source": [
    "We can compare running time for these two algorithms by launching each of them 1000 times."
   ]
  },
  {
   "cell_type": "code",
   "execution_count": 29,
   "metadata": {
    "collapsed": false
   },
   "outputs": [
    {
     "name": "stdout",
     "output_type": "stream",
     "text": [
      "Using loop took 0.00500011444092 seconds\n",
      "Using recurrence took 0.00499987602234 seconds\n"
     ]
    }
   ],
   "source": [
    "import time\n",
    "t1 = time.time()\n",
    "for i in range(1000):\n",
    "    factorial(50)\n",
    "print(\"Using loop took \" + str(time.time() - t1) + \" seconds\")\n",
    "\n",
    "t2 = time.time()\n",
    "for i in range(1000):\n",
    "    factorial2(50)\n",
    "print(\"Using recurrence took \" + str(time.time() - t2) + \" seconds\")"
   ]
  },
  {
   "cell_type": "markdown",
   "metadata": {},
   "source": [
    "The two function has almost the same running time."
   ]
  },
  {
   "cell_type": "markdown",
   "metadata": {},
   "source": [
    "## 1.1 An example: Fibonacci sequence"
   ]
  },
  {
   "cell_type": "markdown",
   "metadata": {},
   "source": [
    "We take an example to illustrate an abused use of recurrence. We want to compute the $n^{th}$ Fibonacci number $F_n$, where\n",
    "$$\n",
    "F_1 = 1; F_2 = 1\n",
    "$$\n",
    "$$\n",
    "F_n = F_{n-1} + F_{n-2}, n \\geq 3\n",
    "$$"
   ]
  },
  {
   "cell_type": "code",
   "execution_count": 24,
   "metadata": {
    "collapsed": false
   },
   "outputs": [
    {
     "name": "stdout",
     "output_type": "stream",
     "text": [
      "832040\n",
      "Abusing recurrence took 0.173000097275 seconds.\n"
     ]
    }
   ],
   "source": [
    "def Fibonacci(n):\n",
    "    if n == 1 or n == 2:\n",
    "        return 1\n",
    "    return Fibonacci(n - 1) + Fibonacci(n - 2)\n",
    "\n",
    "import time\n",
    "t1 = time.time()\n",
    "print(Fibonacci(30))\n",
    "print(\"Abusing recurrence took \" + str(time.time() - t1) + \" seconds.\")"
   ]
  },
  {
   "cell_type": "markdown",
   "metadata": {},
   "source": [
    "To look at how many times the function has been called for each $n$, we can use a counter like this"
   ]
  },
  {
   "cell_type": "code",
   "execution_count": 23,
   "metadata": {
    "collapsed": false
   },
   "outputs": [
    {
     "name": "stdout",
     "output_type": "stream",
     "text": [
      "832040\n",
      "[0, 317811, 514229, 317811, 196418, 121393, 75025, 46368, 28657, 17711, 10946, 6765, 4181, 2584, 1597, 987, 610, 377, 233, 144, 89, 55, 34, 21, 13, 8, 5, 3, 2, 1, 1]\n",
      "832039\n"
     ]
    }
   ],
   "source": [
    "counter = [0] * 31 #Remind: [0] * 31 = [0, 0, 0, ...., 0] (31 times)\n",
    "\n",
    "def Fibonacci(n):\n",
    "    counter[n] += 1\n",
    "    if n == 1 or n == 2:\n",
    "        return 1\n",
    "    return Fibonacci(n - 1) + Fibonacci(n - 2)\n",
    "\n",
    "print(Fibonacci(30))\n",
    "print(counter)\n",
    "print(sum(counter[3:]))"
   ]
  },
  {
   "cell_type": "markdown",
   "metadata": {},
   "source": [
    "That means, to compute the $30^{th}$ Fibonacci number, we have to call and compute 317811 times **Fibonacci(1)**, 514229 times **Fibonacci(2)**, and do 832039 additions, which is a waste of computation."
   ]
  },
  {
   "cell_type": "markdown",
   "metadata": {},
   "source": [
    "## 1.2 Time Complexity and Space Complexity"
   ]
  },
  {
   "cell_type": "markdown",
   "metadata": {},
   "source": [
    "If an addition can be done in $m$ seconds, then the necessary time for computing **Fibonacci(30)** is something propotional to 832039$m$. In general, **Fibonacci(n)** can be doned in a period proportional to $\\left( \\frac{1+\\sqrt{5}}{2} \\right)^n$ seconds. (Try proving it as an exercise)\n",
    "\n",
    "When Python compute a function, it will reserve some space to store local variables of the function. And when the function returns, it will free all spaces for local variables. Using the **Fibonacci** function, during the call to **Fibonacci(n)** there are at most **n** spaces that are busy at the same time, corresponding to this call:\n",
    "\n",
    "<center>**Fibonacci(n) $\\to$ Fibonacci(n-1) $\\to$ ... $\\to$ Fibonacci(2) $\\to$ Fibonacci(1)**</center>\n",
    "\n",
    "These two quantities gives us notion about Time Complexity and Space Complexity."
   ]
  },
  {
   "cell_type": "markdown",
   "metadata": {},
   "source": [
    "### Negociation Between Time Complexity and Space Complexity"
   ]
  },
  {
   "cell_type": "markdown",
   "metadata": {},
   "source": [
    "We can use spaces (memory) to negociate with time complexity. For example, the following implementation reduces the time to compute the $n^{th}$ Fibonacci number. "
   ]
  },
  {
   "cell_type": "code",
   "execution_count": 19,
   "metadata": {
    "collapsed": false
   },
   "outputs": [
    {
     "name": "stdout",
     "output_type": "stream",
     "text": [
      "832040\n"
     ]
    }
   ],
   "source": [
    "computed_fibonaccis = [0, 1, 1]\n",
    "\n",
    "def Fibonacci2(n):\n",
    "    if n < len(computed_fibonaccis):\n",
    "        return computed_fibonaccis[n]\n",
    "    else:\n",
    "        for j in range(len(computed_fibonaccis), n + 1):\n",
    "            computed_fibonaccis.append(computed_fibonaccis[j - 1] + computed_fibonaccis[j - 2])\n",
    "    return(computed_fibonaccis[n])\n",
    "\n",
    "print(Fibonacci2(30))"
   ]
  },
  {
   "cell_type": "code",
   "execution_count": 22,
   "metadata": {
    "collapsed": false
   },
   "outputs": [
    {
     "name": "stdout",
     "output_type": "stream",
     "text": [
      "832040\n",
      "Using recurrence with more memory took 0.0 seconds.\n"
     ]
    }
   ],
   "source": [
    "import time\n",
    "t1 = time.time()\n",
    "print(Fibonacci2(30))\n",
    "print(\"Using recurrence with more memory took \" + str(time.time() - t1) + \" seconds.\")"
   ]
  },
  {
   "cell_type": "markdown",
   "metadata": {},
   "source": [
    "The algorithm **Fibonacci2** took a running time at max proportional to $N$ instead of some exponent function of $N$. Space complexity is still proportional to $N$.\n",
    "\n",
    "We can use another intelligent way by looping on 2 variables."
   ]
  },
  {
   "cell_type": "code",
   "execution_count": 31,
   "metadata": {
    "collapsed": false
   },
   "outputs": [
    {
     "name": "stdout",
     "output_type": "stream",
     "text": [
      "832040\n"
     ]
    }
   ],
   "source": [
    "def Fibonacci3(n):\n",
    "    if n == 1 or n == 2:\n",
    "        return 1\n",
    "    a = 1\n",
    "    b = 1\n",
    "    for i in range(3, n + 1):\n",
    "        c = a + b\n",
    "        a = b\n",
    "        b = c\n",
    "    return b\n",
    "\n",
    "print(Fibonacci3(30))"
   ]
  },
  {
   "cell_type": "markdown",
   "metadata": {},
   "source": [
    "The algorith **Fibonacci3** took a running time proportional to $N$ and a space complexity constant (only 3 local variables are needed everytime)."
   ]
  },
  {
   "cell_type": "markdown",
   "metadata": {},
   "source": [
    "***Question: When should we use Fibonacci1, Fibonacci2, Fibonacci3?***"
   ]
  },
  {
   "cell_type": "markdown",
   "metadata": {},
   "source": [
    "## 1.3 Bit Complexity"
   ]
  },
  {
   "cell_type": "markdown",
   "metadata": {},
   "source": [
    "## 1.4 Notations"
   ]
  },
  {
   "cell_type": "markdown",
   "metadata": {},
   "source": [
    "# 2. Bit Complexity of Basic Arithmetic Operations"
   ]
  },
  {
   "cell_type": "markdown",
   "metadata": {},
   "source": [
    "## 2.1 Integer Addition and Substraction"
   ]
  },
  {
   "cell_type": "markdown",
   "metadata": {},
   "source": [
    "## 2.2 Integer Multiplication"
   ]
  },
  {
   "cell_type": "markdown",
   "metadata": {},
   "source": [
    "## 2.3 Integer Division"
   ]
  },
  {
   "cell_type": "markdown",
   "metadata": {},
   "source": [
    "## 2.4 Integer Exponentation"
   ]
  },
  {
   "cell_type": "markdown",
   "metadata": {},
   "source": [
    "## 2.5 Real Numbers"
   ]
  },
  {
   "cell_type": "markdown",
   "metadata": {},
   "source": [
    "# 3. Complexity of Operations on Matrices"
   ]
  },
  {
   "cell_type": "markdown",
   "metadata": {},
   "source": [
    "## 3.1 Matrix Multiplication"
   ]
  },
  {
   "cell_type": "markdown",
   "metadata": {},
   "source": [
    "## 3.2 Matrix Inverse"
   ]
  },
  {
   "cell_type": "markdown",
   "metadata": {},
   "source": [
    "# 4. Divide and Conquest"
   ]
  },
  {
   "cell_type": "markdown",
   "metadata": {},
   "source": [
    "## 4.1 Divide and Conquest. Master Theorem"
   ]
  },
  {
   "cell_type": "markdown",
   "metadata": {},
   "source": [
    "## 4.2 Application to Integer Multiplication and Matrix Multiplication"
   ]
  },
  {
   "cell_type": "markdown",
   "metadata": {},
   "source": [
    "# 5. Basic Algorithms and Their Complexity"
   ]
  },
  {
   "cell_type": "markdown",
   "metadata": {},
   "source": [
    "## 5.1 Search"
   ]
  },
  {
   "cell_type": "markdown",
   "metadata": {},
   "source": [
    "## 5.2 Sorting"
   ]
  },
  {
   "cell_type": "markdown",
   "metadata": {},
   "source": [
    "## 5.3 Graph Exploring"
   ]
  },
  {
   "cell_type": "markdown",
   "metadata": {},
   "source": [
    "# 6. Parallel Programming with Pool in Python"
   ]
  }
 ],
 "metadata": {
  "kernelspec": {
   "display_name": "Python 2",
   "language": "python",
   "name": "python2"
  },
  "language_info": {
   "codemirror_mode": {
    "name": "ipython",
    "version": 2
   },
   "file_extension": ".py",
   "mimetype": "text/x-python",
   "name": "python",
   "nbconvert_exporter": "python",
   "pygments_lexer": "ipython2",
   "version": "2.7.13"
  }
 },
 "nbformat": 4,
 "nbformat_minor": 0
}
