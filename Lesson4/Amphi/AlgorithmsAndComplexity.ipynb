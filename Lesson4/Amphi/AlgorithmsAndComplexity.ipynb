{
 "cells": [
  {
   "cell_type": "markdown",
   "metadata": {},
   "source": [
    "# Amphi 4 - Algorithms and Complexity"
   ]
  },
  {
   "cell_type": "markdown",
   "metadata": {},
   "source": [
    "# 1. Complexity notions "
   ]
  },
  {
   "cell_type": "markdown",
   "metadata": {},
   "source": [
    "## 1.1 Time Complexity and Space Complexity"
   ]
  },
  {
   "cell_type": "markdown",
   "metadata": {},
   "source": [
    "Operations performed by computer can be expressed in terms of a sequence of basic operations like:\n",
    "\n",
    "- Read information in a memory cell (a bit, which can be 0 or 1)\n",
    "\n",
    "- Update information in a bit\n",
    "\n",
    "- Perform a comparison between 2 bits (==, !=, <)\n",
    "\n",
    "- Perform a basic unary or binary operation (AND, OR, XOR, NOT, +)\n",
    "\n",
    "The total necessary time of an operation in terms of number of basic operations is considered as its bit complexity or basic time complexity.\n",
    "\n",
    "In term of bit complexity, a multiplication between 2 numbers $a$ and $b$ is much more complex than the addition of those 2 numbers. However, in comparison with other operations, their difference can be ignored. That is why we consider basic operations (addition, multiplication, division, etc.) to have very small complexity (can be done is less than $<c$ seconds). So, sometimes by time complexity, we refer to a notion where basic mathematics operations are considered to have the same complexity $O(1)$.\n",
    "\n",
    "The total memory size used for an operation/algorithm is be considered as its space complexity. Like time complexity, space complexity can be expressed as bit level (the number of bits). Or we can consider objects/variables of the same type (like number) use the same amount of bits, hence express space complexity as the number of objects spontaneously stored during the operation.\n",
    "\n",
    "Sometimes, we are not interested in the exact time or space necessary for some specific algorithm, but the behaviour of its complexity when we deal with very large data (for example, an array of $n$ elements, where $n$ very large). We use asymptotic analysis to study such behaviours."
   ]
  },
  {
   "cell_type": "markdown",
   "metadata": {},
   "source": [
    "## 1.2 Asymptotic Analysis"
   ]
  },
  {
   "cell_type": "markdown",
   "metadata": {},
   "source": [
    "Let $f(n)$ and $g(n)$ be functions $\\mathbf N \\to \\mathbf R$. We say that \n",
    "\n",
    "- $f(n) = O(g(n))$ if there exists $c > 0$ and $n_0 \\in \\mathbf N$ such that $f(n) \\leq cg(n)$, for $n \\geq n0$. We say that $f(n)$ is order of $g(n)$\n",
    "\n",
    "- $f(n) = \\Omega(g(n))$ if there exists $c > 0$ and $n_0 \\in \\mathbf N$ such that $f(n) \\geq cg(n)$, for $n \\geq n0$.\n",
    "\n",
    "- $f(n) = \\Theta(g(n))$ if $f(n) = O(g(n))$ and $f(n) = \\Omega(g(n))$.\n",
    "\n",
    "**The main functions in computer science for complexity**\n",
    "\n",
    "| **Name**             | **Notation**                                     | **Example of algorithms**                           |\n",
    "|----------------------|--------------------------------------------------|-----------------------------------------------------|\n",
    "| Constant function    | $O(1)$                                           | Basic operations                                    |\n",
    "| Logarithm function   | $(O\\log n)$                                      | Binary search on sorted array                       |\n",
    "| Linear function      | $O(n)$                                           | Find max on an array                                |\n",
    "| N-Log-N function     | $O(n \\log n)$                                    | Sort an array                                       |\n",
    "| Quadratic function   | $O(n^2)$                                         | Find max on a square matrix                         |\n",
    "| Polynomial function  | $O(n^d)$, $d \\in \\mathbf N$                      | Matrix multiplication                               |\n",
    "| Exponential function | $O(c^{P(n)})$, $c \\in \\mathbf N, P$ a polynomial | Find a subset of an array satisfying some criterion |"
   ]
  },
  {
   "cell_type": "markdown",
   "metadata": {},
   "source": [
    "## 1.3 Worst-case Complexity and Average Complexity"
   ]
  },
  {
   "cell_type": "markdown",
   "metadata": {},
   "source": [
    "Due to data variability and randomness, algorithms may perform very different time and space complexity. We should consider:\n",
    "\n",
    "- Worst-case complexity: What is the complexity in case the algorithm has to perform the maximum of operations to finish.\n",
    "\n",
    "- Average complexity: What is its complexity in average?\n",
    "\n",
    "For example, a naive sorting algorithm"
   ]
  },
  {
   "cell_type": "code",
   "execution_count": 26,
   "metadata": {
    "collapsed": false
   },
   "outputs": [
    {
     "data": {
      "image/png": "[encoded data removed]",
      "text/plain": [
       "<matplotlib.figure.Figure at 0x843fc18>"
      ]
     },
     "metadata": {},
     "output_type": "display_data"
    }
   ],
   "source": [
    "%matplotlib inline \n",
    "\n",
    "def naive_sort(A):\n",
    "    for i in range(len(A)):\n",
    "        for j in range(i, len(A)):\n",
    "            if A[i] < A[j]:\n",
    "                c = A[i]\n",
    "                A[i] = A[j]\n",
    "                A[j] = c\n",
    "\n",
    "import time\n",
    "import matplotlib.pyplot as plt\n",
    "tests = [1, 2, 5, 10, 20, 50, 100, 200, 500, 1000]\n",
    "\n",
    "# WORST CASE\n",
    "worst_process_time = []\n",
    "for array_len in tests:\n",
    "    my_list = range(array_len)\n",
    "    begin = time.time()\n",
    "    naive_sort(my_list)\n",
    "    end = time.time()\n",
    "    worst_process_time.append(end - begin)\n",
    "\n",
    "# RANDOM\n",
    "average_process_time = []\n",
    "for array_len in tests:\n",
    "    my_list = range(array_len)\n",
    "    random.shuffle(my_list)\n",
    "    begin = time.time()\n",
    "    naive_sort(my_list)\n",
    "    end = time.time()\n",
    "    average_process_time.append(end - begin)\n",
    "\n",
    "plt.plot(tests, worst_process_time, \"r-\", label=\"worst-case\") \n",
    "plt.plot(tests, average_process_time, \"b-\", label=\"random\")\n",
    "plt.legend(loc=\"best\")\n",
    "plt.title(\"Worst case vs random complexity.\")\n",
    "plt.show()"
   ]
  },
  {
   "cell_type": "markdown",
   "metadata": {},
   "source": [
    "# 2. Recursion"
   ]
  },
  {
   "cell_type": "markdown",
   "metadata": {},
   "source": [
    "Recursion is calling a function inside itself for simpler arguments. We can use recursion to shorten our code and to replace loops.\n",
    "\n",
    "The following example shows how to compute $n!$ using loops."
   ]
  },
  {
   "cell_type": "code",
   "execution_count": 26,
   "metadata": {
    "collapsed": false
   },
   "outputs": [
    {
     "name": "stdout",
     "output_type": "stream",
     "text": [
      "30414093201713378043612608166064768844377641568960512000000000000\n"
     ]
    }
   ],
   "source": [
    "def factorial(n):\n",
    "    if n == 0:\n",
    "        return 1\n",
    "    result = 1\n",
    "    for i in range(1, n+1):\n",
    "        result = result * i\n",
    "    return result\n",
    "\n",
    "print(factorial(50))"
   ]
  },
  {
   "cell_type": "markdown",
   "metadata": {},
   "source": [
    "We can use recurrence instead"
   ]
  },
  {
   "cell_type": "code",
   "execution_count": 27,
   "metadata": {
    "collapsed": false
   },
   "outputs": [
    {
     "name": "stdout",
     "output_type": "stream",
     "text": [
      "30414093201713378043612608166064768844377641568960512000000000000\n"
     ]
    }
   ],
   "source": [
    "def factorial2(n):\n",
    "    if n == 0:\n",
    "        return 1\n",
    "    return factorial(n-1)*n\n",
    "\n",
    "print(factorial(50))"
   ]
  },
  {
   "cell_type": "markdown",
   "metadata": {},
   "source": [
    "We can compare running time for these two algorithms by launching each of them 1000 times."
   ]
  },
  {
   "cell_type": "code",
   "execution_count": 29,
   "metadata": {
    "collapsed": false
   },
   "outputs": [
    {
     "name": "stdout",
     "output_type": "stream",
     "text": [
      "Using loop took 0.00500011444092 seconds\n",
      "Using recurrence took 0.00499987602234 seconds\n"
     ]
    }
   ],
   "source": [
    "import time\n",
    "t1 = time.time()\n",
    "for i in range(1000):\n",
    "    factorial(50)\n",
    "print(\"Using loop took \" + str(time.time() - t1) + \" seconds\")\n",
    "\n",
    "t2 = time.time()\n",
    "for i in range(1000):\n",
    "    factorial2(50)\n",
    "print(\"Using recurrence took \" + str(time.time() - t2) + \" seconds\")"
   ]
  },
  {
   "cell_type": "markdown",
   "metadata": {},
   "source": [
    "The two function has almost the same running time."
   ]
  },
  {
   "cell_type": "markdown",
   "metadata": {},
   "source": [
    "## 2.1 An example: Fibonacci sequence"
   ]
  },
  {
   "cell_type": "markdown",
   "metadata": {},
   "source": [
    "We take an example to illustrate an abused use of recurrence. We want to compute the $n^{th}$ Fibonacci number $F_n$, where\n",
    "$$\n",
    "F_1 = 1; F_2 = 1\n",
    "$$\n",
    "$$\n",
    "F_n = F_{n-1} + F_{n-2}, n \\geq 3\n",
    "$$"
   ]
  },
  {
   "cell_type": "code",
   "execution_count": 24,
   "metadata": {
    "collapsed": false
   },
   "outputs": [
    {
     "name": "stdout",
     "output_type": "stream",
     "text": [
      "832040\n",
      "Abusing recurrence took 0.173000097275 seconds.\n"
     ]
    }
   ],
   "source": [
    "def Fibonacci(n):\n",
    "    if n == 1 or n == 2:\n",
    "        return 1\n",
    "    return Fibonacci(n - 1) + Fibonacci(n - 2)\n",
    "\n",
    "import time\n",
    "t1 = time.time()\n",
    "print(Fibonacci(30))\n",
    "print(\"Abusing recurrence took \" + str(time.time() - t1) + \" seconds.\")"
   ]
  },
  {
   "cell_type": "markdown",
   "metadata": {},
   "source": [
    "To look at how many times the function has been called for each $n$, we can use a counter like this"
   ]
  },
  {
   "cell_type": "code",
   "execution_count": 23,
   "metadata": {
    "collapsed": false
   },
   "outputs": [
    {
     "name": "stdout",
     "output_type": "stream",
     "text": [
      "832040\n",
      "[0, 317811, 514229, 317811, 196418, 121393, 75025, 46368, 28657, 17711, 10946, 6765, 4181, 2584, 1597, 987, 610, 377, 233, 144, 89, 55, 34, 21, 13, 8, 5, 3, 2, 1, 1]\n",
      "832039\n"
     ]
    }
   ],
   "source": [
    "counter = [0] * 31 #Remind: [0] * 31 = [0, 0, 0, ...., 0] (31 times)\n",
    "\n",
    "def Fibonacci(n):\n",
    "    counter[n] += 1\n",
    "    if n == 1 or n == 2:\n",
    "        return 1\n",
    "    return Fibonacci(n - 1) + Fibonacci(n - 2)\n",
    "\n",
    "print(Fibonacci(30))\n",
    "print(counter)\n",
    "print(sum(counter[3:]))"
   ]
  },
  {
   "cell_type": "markdown",
   "metadata": {},
   "source": [
    "That means, to compute the $30^{th}$ Fibonacci number, we have to call and compute 317811 times **Fibonacci(1)**, 514229 times **Fibonacci(2)**, and do 832039 additions, which is a waste of computation."
   ]
  },
  {
   "cell_type": "markdown",
   "metadata": {},
   "source": [
    "## 2.2 Negotiation between Time Complexity and Space Complexity"
   ]
  },
  {
   "cell_type": "markdown",
   "metadata": {},
   "source": [
    "If an addition can be done in $m$ seconds, then the necessary time for computing **Fibonacci(30)** is something propotional to 832039$m$. In general, **Fibonacci(n)** can be doned in a period proportional to $\\left( \\frac{1+\\sqrt{5}}{2} \\right)^n$ seconds. (Try proving it as an exercise)\n",
    "\n",
    "When Python compute a function, it will reserve some space to store local variables of the function. And when the function returns, it will free all spaces for local variables. Using the **Fibonacci** function, during the call to **Fibonacci(n)** there are at most **n** spaces that are busy at the same time, corresponding to this call:\n",
    "\n",
    "<center>**Fibonacci(n) $\\to$ Fibonacci(n-1) $\\to$ ... $\\to$ Fibonacci(2) $\\to$ Fibonacci(1)**</center>"
   ]
  },
  {
   "cell_type": "markdown",
   "metadata": {},
   "source": [
    "### Negotiation Between Time Complexity and Space Complexity"
   ]
  },
  {
   "cell_type": "markdown",
   "metadata": {},
   "source": [
    "We can use spaces (memory) to negociate with time complexity. For example, the following implementation reduces the time to compute the $n^{th}$ Fibonacci number. "
   ]
  },
  {
   "cell_type": "code",
   "execution_count": 19,
   "metadata": {
    "collapsed": false
   },
   "outputs": [
    {
     "name": "stdout",
     "output_type": "stream",
     "text": [
      "832040\n"
     ]
    }
   ],
   "source": [
    "computed_fibonaccis = [0, 1, 1]\n",
    "\n",
    "def Fibonacci2(n):\n",
    "    if n < len(computed_fibonaccis):\n",
    "        return computed_fibonaccis[n]\n",
    "    else:\n",
    "        for j in range(len(computed_fibonaccis), n + 1):\n",
    "            computed_fibonaccis.append(computed_fibonaccis[j - 1] + computed_fibonaccis[j - 2])\n",
    "    return(computed_fibonaccis[n])\n",
    "\n",
    "print(Fibonacci2(30))"
   ]
  },
  {
   "cell_type": "code",
   "execution_count": 22,
   "metadata": {
    "collapsed": false
   },
   "outputs": [
    {
     "name": "stdout",
     "output_type": "stream",
     "text": [
      "832040\n",
      "Using recurrence with more memory took 0.0 seconds.\n"
     ]
    }
   ],
   "source": [
    "import time\n",
    "t1 = time.time()\n",
    "print(Fibonacci2(30))\n",
    "print(\"Using recurrence with more memory took \" + str(time.time() - t1) + \" seconds.\")"
   ]
  },
  {
   "cell_type": "markdown",
   "metadata": {},
   "source": [
    "The algorithm **Fibonacci2** took a running time at max proportional to $N$ instead of some exponent function of $N$. Space complexity is still proportional to $N$.\n",
    "\n",
    "We can use another intelligent way by looping on 2 variables."
   ]
  },
  {
   "cell_type": "code",
   "execution_count": 31,
   "metadata": {
    "collapsed": false
   },
   "outputs": [
    {
     "name": "stdout",
     "output_type": "stream",
     "text": [
      "832040\n"
     ]
    }
   ],
   "source": [
    "def Fibonacci3(n):\n",
    "    if n == 1 or n == 2:\n",
    "        return 1\n",
    "    a = 1\n",
    "    b = 1\n",
    "    for i in range(3, n + 1):\n",
    "        c = a + b\n",
    "        a = b\n",
    "        b = c\n",
    "    return b\n",
    "\n",
    "print(Fibonacci3(30))"
   ]
  },
  {
   "cell_type": "markdown",
   "metadata": {},
   "source": [
    "The algorith **Fibonacci3** took a running time proportional to $N$ and a space complexity constant (only 3 local variables are needed everytime)."
   ]
  },
  {
   "cell_type": "markdown",
   "metadata": {},
   "source": [
    "***Question: When should we use Fibonacci1, Fibonacci2, Fibonacci3?***"
   ]
  },
  {
   "cell_type": "markdown",
   "metadata": {},
   "source": [
    "## 2.3 Further Examples of Recursion"
   ]
  },
  {
   "cell_type": "markdown",
   "metadata": {},
   "source": [
    "### 2.3.1 Linear Recursion"
   ]
  },
  {
   "cell_type": "markdown",
   "metadata": {},
   "source": [
    "If a recursive function calls at most one other, this is a linear recursion. For example, the above example calculating factorial of a number is a linear recursion. There is only one call of recursion inside the function."
   ]
  },
  {
   "cell_type": "markdown",
   "metadata": {},
   "source": [
    "**Binary Search**\n",
    "\n",
    "Given a sorted array **A** of $n$ **int**, and an **int** **k**. Find one position $d$ of the array such that **A[d] = k**."
   ]
  },
  {
   "cell_type": "code",
   "execution_count": 19,
   "metadata": {
    "collapsed": false
   },
   "outputs": [
    {
     "name": "stdout",
     "output_type": "stream",
     "text": [
      "3\n",
      "None\n"
     ]
    }
   ],
   "source": [
    "def search(A, k):\n",
    "    return search_partial(A, k, 0, len(A))\n",
    "\n",
    "def search_partial(A, k, begin, end):\n",
    "    if begin >= end:\n",
    "        return None\n",
    "    elif end - begin == 1:\n",
    "        if A[begin] == k:\n",
    "            return begin\n",
    "        else:\n",
    "            return None\n",
    "    else:\n",
    "        middle = (end + begin)/2\n",
    "        if A[middle] == k:\n",
    "            return middle\n",
    "        elif A[middle] > k:\n",
    "            return search_partial(A, k, begin, middle)\n",
    "        else:\n",
    "            return search_partial(A, k, middle + 1, end)\n",
    "\n",
    "print search([1, 2, 4, 6, 8, 10], 6)\n",
    "print search([1, 2, 4, 6, 8, 10], 7)"
   ]
  },
  {
   "cell_type": "markdown",
   "metadata": {},
   "source": [
    "**search_partial** a linear recursion example because in each call of **search_partial**, at most one another **search_partial** function is called. \n",
    "\n",
    "We plot a graph for complexity of binary search."
   ]
  },
  {
   "cell_type": "code",
   "execution_count": 37,
   "metadata": {
    "collapsed": false
   },
   "outputs": [
    {
     "data": {
      "image/png": "[encoded data removed]",
      "text/plain": [
       "<matplotlib.figure.Figure at 0x7d00b00>"
      ]
     },
     "metadata": {},
     "output_type": "display_data"
    }
   ],
   "source": [
    "%matplotlib inline \n",
    "import time\n",
    "import random\n",
    "import matplotlib.pyplot as plt\n",
    "tests = [1, 2, 5, 10, 20, 50, 100, 200, 500, 1000, 2000, 5000, 10000]\n",
    "\n",
    "average_process_time = []\n",
    "for array_len in tests:\n",
    "    my_list = range(array_len)\n",
    "    k = random.randint(0, array_len)\n",
    "    begin = time.time()\n",
    "    for i in range(10000):\n",
    "        search(my_list, k)\n",
    "    end = time.time()\n",
    "    average_process_time.append(end - begin)\n",
    "\n",
    "plt.plot(tests, average_process_time, \"r-\", label=\"Complexity of binary search\")\n",
    "plt.legend(loc=\"best\")\n",
    "plt.show()"
   ]
  },
  {
   "cell_type": "markdown",
   "metadata": {},
   "source": [
    "We can show theorically that complexity of binary search is $O(\\log n)$."
   ]
  },
  {
   "cell_type": "markdown",
   "metadata": {},
   "source": [
    "### 2.3.2 Binary Recursion"
   ]
  },
  {
   "cell_type": "markdown",
   "metadata": {},
   "source": [
    "If a recursive function calls at most two others, it is a binary recursion."
   ]
  },
  {
   "cell_type": "markdown",
   "metadata": {},
   "source": [
    "**Merge Sort**\n",
    "\n",
    "Given an unsorted array **A** of $n$ **int**. Sort the array in ascending order."
   ]
  },
  {
   "cell_type": "code",
   "execution_count": 27,
   "metadata": {
    "collapsed": false
   },
   "outputs": [
    {
     "name": "stdout",
     "output_type": "stream",
     "text": [
      "[-1, 1, 2, 3, 4, 6, 10]\n"
     ]
    }
   ],
   "source": [
    "def merge_sort(A):\n",
    "    return sort_partial(A, 0, len(A))\n",
    "\n",
    "def sort_partial(A, begin, end):\n",
    "    if end - begin <= 1:\n",
    "        return A[begin: end]\n",
    "    else:\n",
    "        middle = (end + begin)/2\n",
    "        left_list = sort_partial(A, begin, middle)\n",
    "        right_list = sort_partial(A, middle, end)\n",
    "        return merge(left_list, right_list)\n",
    "\n",
    "def merge(list1, list2):\n",
    "    A = []\n",
    "    i = 0\n",
    "    j = 0\n",
    "    while i < len(list1) or j < len(list2):\n",
    "        if j == len(list2):\n",
    "            A.append(list1[i])\n",
    "            i += 1\n",
    "        elif i == len(list1):\n",
    "            A.append(list2[j])\n",
    "            j += 1\n",
    "        elif list1[i] < list2[j]:\n",
    "            A.append(list1[i])\n",
    "            i += 1\n",
    "        else:\n",
    "            A.append(list2[j])\n",
    "            j += 1\n",
    "    return A\n",
    "\n",
    "print merge_sort([2, 3, -1, 4, 1, 10, 6])"
   ]
  },
  {
   "cell_type": "markdown",
   "metadata": {},
   "source": [
    "We can plot a graph to approximate time complexity of merge-sort."
   ]
  },
  {
   "cell_type": "code",
   "execution_count": 42,
   "metadata": {
    "collapsed": false
   },
   "outputs": [
    {
     "data": {
      "image/png": "[encoded data removed]",
      "text/plain": [
       "<matplotlib.figure.Figure at 0x757d908>"
      ]
     },
     "metadata": {},
     "output_type": "display_data"
    }
   ],
   "source": [
    "%matplotlib inline \n",
    "import time\n",
    "import random\n",
    "import matplotlib.pyplot as plt\n",
    "tests = [1, 2, 5, 10, 20, 50, 100, 200, 300, 400, 500, 600, 700, 800, 900, 1000]\n",
    "\n",
    "average_process_time = []\n",
    "for array_len in tests:\n",
    "    my_list = range(array_len)\n",
    "    random.shuffle(my_list)\n",
    "    begin = time.time()\n",
    "    for i in range(10):\n",
    "        merge_sort(my_list)\n",
    "    end = time.time()\n",
    "    average_process_time.append(end - begin)\n",
    "\n",
    "plt.plot(tests, average_process_time, \"r-\", label=\"Complexity of binary search\")\n",
    "plt.legend(loc=\"best\")\n",
    "plt.show()"
   ]
  },
  {
   "cell_type": "markdown",
   "metadata": {},
   "source": [
    "Theorically, merge-sort is $O(n \\log n)$."
   ]
  },
  {
   "cell_type": "markdown",
   "metadata": {},
   "source": [
    "### 2.3.3 Multiple Recursion"
   ]
  },
  {
   "cell_type": "markdown",
   "metadata": {},
   "source": [
    "Some recursive function calls more than one others. For example, we can use another version of **merge sort** by splitting the array into 3, 4, ... parts."
   ]
  },
  {
   "cell_type": "markdown",
   "metadata": {},
   "source": [
    "## 2.4 The master theorem"
   ]
  },
  {
   "cell_type": "markdown",
   "metadata": {},
   "source": [
    "**binary search** and **merge-sort** give us examples of \"divide and conquest\" methods, in which, in order to perform an algorithm on an array of length $N$, we call the same algorithm on sub-arrays of length $N/2$, which, in turn, call the same algorithms on sub-arrays of length $N/4$. The following theorem tells us what the complexity of such algorithm is."
   ]
  },
  {
   "cell_type": "markdown",
   "metadata": {},
   "source": [
    "**Theorem**\n",
    "\n",
    "If time complexity $T(n)$ of an algorithm on an array of size $n$ satisfies:\n",
    "\n",
    "$$\n",
    "T(n) = aT(\\lceil n/b \\rceil) + O(n^d)\n",
    "$$\n",
    "\n",
    "for some constants $a > 0, b > 1, d \\geq 0$, then:\n",
    "\n",
    "- $T(n) = O(n^d)$ if $d > \\log_b a$\n",
    "- $T(n) = O(n^d \\log n)$ if $d = \\log_b a$\n",
    "- $T(n) = O(n^{\\log_b a})$ if $d < \\log_b a$"
   ]
  },
  {
   "cell_type": "markdown",
   "metadata": {},
   "source": [
    "**Proof** (according to [1])\n",
    "\n",
    "Suppose by convenience that $n$ is a power of $b$ (the general case follows by a multiplicative factor of $b$). \n",
    "\n",
    "The size of the subproblems decreases by a factor of $b$ with each level of recursion, and therefore reach the base case (size 1) after $\\log_b n$ levels.\n",
    "\n",
    "<img src=\"https://raw.githubusercontent.com/riduan91/DSC101/master/Lesson4/Amphi/Fig1.png\" width=800></img>\n",
    "<center>(Illustration figure from [1])</center>"
   ]
  },
  {
   "cell_type": "markdown",
   "metadata": {},
   "source": [
    "Hence we can draw a \"recursion tree\" of height $\\log_b b$ levels. The $k$-th level of the tree is made of $a^k$ subproblems each of size $n/b^k$. The total work done at this level is \n",
    "\n",
    "$$\n",
    "a^k \\times O(\\frac{n}{b^k})^d = O(n^d) \\times \\left( \\frac{a}{b^d} \\right)^k\n",
    "$$\n",
    "\n",
    "As $k$ goes from 0 to $\\log_b n$, these numbers form a geometric series with ratio $a/b^d$. Hence, using the fact that $1 + x + \\ldots + x^N = O(1), O(N), O(x^N)$ when $0 < x < 1, x = 1, x > 1$ respectively, we have\n",
    "\n",
    "- T(n) = O(n^d) if $\\frac{a}{b^d} < 1$, or $\\log_b a < d$.\n",
    "- T(n) = O(n^d)\\log n if $\\frac{a}{b^d} = 1$, or $\\log_b a = d$.\n",
    "- T(n) = O(n^{\\log_b a}) if $\\frac{a}{b^d} = 1$, or $\\log_b a > d$. \n",
    "\n",
    "$\\blacksquare$"
   ]
  },
  {
   "cell_type": "markdown",
   "metadata": {},
   "source": [
    "## 2.5 Application of the Master Theorem on Binary Search and MergeSort"
   ]
  },
  {
   "cell_type": "markdown",
   "metadata": {},
   "source": [
    "### Binary Search"
   ]
  },
  {
   "cell_type": "markdown",
   "metadata": {},
   "source": [
    "In binary search, we have\n",
    "$$\n",
    "T(n) = T(\\lceil n/2 \\rceil) + O(1)\n",
    "$$\n",
    "\n",
    "where $O(1)$ is the complexity of the comparison with the middle point at each level. The master theorem allows us to conclude that $T(n) = O(\\log n)$."
   ]
  },
  {
   "cell_type": "markdown",
   "metadata": {},
   "source": [
    "### MergeSort\n",
    "\n",
    "In merge-sort, we have\n",
    "$$\n",
    "T(n) = 2T(\\lceil n/2 \\rceil) + O(n)\n",
    "$$\n",
    "\n",
    "where $O(n)$ is the complexity of the merge step at each level (merge 2 sorted list into 1 sorted list). The master theorem allows us to conclude that $T(n) = O(n \\log n)$."
   ]
  },
  {
   "cell_type": "markdown",
   "metadata": {},
   "source": [
    "# 3. Bit Complexity of Basic Arithmetic Operations"
   ]
  },
  {
   "cell_type": "markdown",
   "metadata": {},
   "source": [
    "In this section, we write $n = \\log_2 N$ by convention."
   ]
  },
  {
   "cell_type": "markdown",
   "metadata": {},
   "source": [
    "## 3.1 Integer Addition and Substraction"
   ]
  },
  {
   "cell_type": "markdown",
   "metadata": {},
   "source": [
    "Any integer in [0, N[ can be represented by at most $\\lceil \\log_2 (N) \\rceil$ bits (in binary base). So space complexity to store an integer in [0, N[ is $O(n) = O(\\log N)$.\n",
    "\n",
    "As introduced in section 1, basic operations like reading a bit, writing to/updating a bit, comparing 2 bits can be done in constant time $O(1)$.\n",
    "\n",
    "Addition on integers in $[0, N[$ ($n-$bit integers) can be done bitwisely by schoolbook algorithms (adding from right to left, using carry if necessary)\n",
    "\n",
    "<img src=\"https://raw.githubusercontent.com/riduan91/DSC101/master/Lesson4/Amphi/Fig2.png\" width=400></img>\n",
    "<center>(Illustration from [1])</center>"
   ]
  },
  {
   "cell_type": "markdown",
   "metadata": {},
   "source": [
    "Hence, addition of 2 $n-$bit positive integers is of time complexity $O(n)= O(\\log N)$. The result is a $(n+1)$-bit integers.\n",
    "\n",
    "Similarly, substraction of 2 $n-bits$ positive integers, and hence, addition of 2 $n-$bits integers (0, positive or negative) are of complexity $O(n)$."
   ]
  },
  {
   "cell_type": "markdown",
   "metadata": {},
   "source": [
    "## 3.2 Integer Multiplication"
   ]
  },
  {
   "cell_type": "markdown",
   "metadata": {},
   "source": [
    "Schoolbook algorithm for multiplication of 2 $n-$bit integers is of complexity $O(n^2)$."
   ]
  },
  {
   "cell_type": "markdown",
   "metadata": {},
   "source": [
    "<img src=\"https://raw.githubusercontent.com/riduan91/DSC101/master/Lesson4/Amphi/Fig3.png\" width=300></img>\n",
    "<center>(Illustration from [1] for $11 \\times 13 = 143$)</center>"
   ]
  },
  {
   "cell_type": "markdown",
   "metadata": {},
   "source": [
    "Divide-and-conquest technique gives us a better algorithm. Suppose that we have two $n-$bit positive integers $x$ and $y$. Write them as:\n",
    "\n",
    "$$\n",
    "x = 2^{n/2}x_L + x_R\n",
    "$$\n",
    "$$\n",
    "y = 2^{n/2}y_L + y_R\n",
    "$$\n",
    "\n",
    "Then $xy$ can be computed by:\n",
    "$$\n",
    "xy = (2^{n/2}x_L + x_R) (2^{n/2}y_L + y_R) = 2^n(x_Ly_L) + 2^{n/2}(x_Ly_R + x_Ry_L) + x_Ry_R\n",
    "$$\n",
    "\n",
    "$$\n",
    "= 2^n(x_Ly_L) + 2^{n/2}((x_L + x_R)(y_L + y_R) - x_Ly_L - x_Ry_R) + x_Ry_R\n",
    "$$\n",
    "\n",
    "That means, we divide the size of the problem by 2, and at this level we need to perform 2 $n/2-$bit integer additions $x_L + x_R$, $x_R + y_L$, then 3 $n/2-$bit integer multiplications, then 2 $n-$bit integer substractions and finally 2 $n-$ bit integer additions. Let $T(n)$ be the time complexity of multiplication by this method, we have:\n",
    "\n",
    "$$\n",
    "T(n) = 3T(n/2) + O(n)\n",
    "$$\n",
    "\n",
    "The master theorem with $a = 3, b = 2, d = 1$ allows us to conclude $T(n) = O(n^{\\log_2 3}) = O(n^{1.59})$"
   ]
  },
  {
   "cell_type": "markdown",
   "metadata": {},
   "source": [
    "<img src=\"https://raw.githubusercontent.com/riduan91/DSC101/master/Lesson4/Amphi/Fig4.png\" width=500></img>\n",
    "<center>(Illustration from [1] for multiplication algorithm)</center>"
   ]
  },
  {
   "cell_type": "markdown",
   "metadata": {},
   "source": [
    "We can even design stronger algorithms for multiplication. The **Fast Fourier Transform** or **Schonhage-Strassen** algorithm is widely used in computation, its complexity is $O(n\\log n \\log \\log n)$."
   ]
  },
  {
   "cell_type": "markdown",
   "metadata": {},
   "source": [
    "## 3.3 Division"
   ]
  },
  {
   "cell_type": "markdown",
   "metadata": {},
   "source": [
    "The following recursive algorithm is a basic method for integer division.\n",
    "\n",
    "<img src=\"https://raw.githubusercontent.com/riduan91/DSC101/master/Lesson4/Amphi/Fig5.png\" width=500></img>\n",
    "<center>(Illustration from [1] for division$)</center>"
   ]
  },
  {
   "cell_type": "markdown",
   "metadata": {},
   "source": [
    "Let $T(n)$ denote the complexity. As the algorithm can be made stop when $x < y$, the complexity depends on size of $x$ rather than size of $y$, we have:\n",
    "\n",
    "$$\n",
    "T(n) = T(n-1) + O(n)\n",
    "$$\n",
    "\n",
    "Like master theorem, we can prove that this algorithm is $O(n^2)$."
   ]
  },
  {
   "cell_type": "markdown",
   "metadata": {},
   "source": [
    "The Newton-Raphson algorithm presents a method to deal with integer division where we take quotient to be a real number. To divide $x$ by $y$, it takes the reciprocal of $y$ and multiply it by $x$. The steps of this method are:\n",
    "\n",
    "- Without loss of generality, move the floating point of $x$ and $y$ such that $1 \\leq y < 2$.\n",
    "\n",
    "- Calculate an estimate $z_0$ of $1/y$. One can choose $z_0 = 48/17 - 32/17 * y$\n",
    "\n",
    "- Compute successively more accurates estimates $z_1, \\ldots, z_s$ of $1/y$. using $f(z) = yz - 1$, apply Newton-Raphson iteration to $f$ for $\\lceil \\log_2 \\frac{P+1}{\\log_2 17} \\rceil$, where $P$ is the precision in term of binary places\n",
    "\n",
    "$$\n",
    "z_{i+1} = z_i - \\frac{f(z_i)}{f'(z_i)} = z_i(2 - yz_i)\n",
    "$$\n",
    "\n",
    "- Return $x \\cdot z_s$.\n",
    "\n",
    "To calculate the integer quotient, it suffices to take the integer part of the real number quotient. \n",
    "\n",
    "It can be proven that in case $x$ and $y$ are integers, we just need to use a constant time of $n-$bit integer multiplications as the most considerable operations. The complexity is then $O(M(n))$ where $M(n)$ is the complexity of integer multiplication."
   ]
  },
  {
   "cell_type": "markdown",
   "metadata": {},
   "source": [
    "## 3.4 Integer Exponentiation"
   ]
  },
  {
   "cell_type": "markdown",
   "metadata": {},
   "source": [
    "To calculate $a^k$ where $a$ is an $n-$bit integers, we can use the recursive method (exponentiation by squaring):\n",
    "\n",
    "- Calculate $b = a^{[k/2]}$\n",
    "\n",
    "- If $k$ even, return $b*b$\n",
    "\n",
    "- Elsewhere, return $b*b*a$.\n",
    "\n",
    "Let $T(n, k)$ denote the complexity, then:\n",
    "\n",
    "$$\n",
    "T(n, k) = T(n, k/2) + O((nk/2)^{d})\n",
    "$$\n",
    "\n",
    "where $O((nk/2)^{d})$, $d \\approx 1.59$ is the complexity of $nk/2-$bit integer multiplications. \n",
    "\n",
    "Consider it as a function on $k$, we have $T(n, k) = (nk)^d$ by master theorem."
   ]
  },
  {
   "cell_type": "markdown",
   "metadata": {},
   "source": [
    "## 3.5 Real Numbers"
   ]
  },
  {
   "cell_type": "markdown",
   "metadata": {},
   "source": [
    "Operations on real numbers are in fact operations on integer with some floating points handling. The first different case is division, with has been solved with Newton-Ralphson method. The second is exponentiation with real exponent, this can be done by logarithmic computation (not handled in this course)."
   ]
  },
  {
   "cell_type": "markdown",
   "metadata": {},
   "source": [
    "## 3.6 Operations on Z/NZ (modular operations)"
   ]
  },
  {
   "cell_type": "markdown",
   "metadata": {},
   "source": [
    "In exercise, we will prove that operations modulo $N$ have the following complexity:\n",
    "\n",
    "- Addition: $O(n)$\n",
    "- Multiplication: $O(n^2)$\n",
    "- Division: given $a, b$, find $x$ such that $ax = b$ (mod $N$): $O(n^3)$\n",
    "- Exponentiation: $O(n^3)$\n",
    "\n",
    "Applications:\n",
    "- Test whether an integer $p<N$ is a prime number: $O(n^3)$ in average.\n",
    "- Generate a random prime number: $O(n^3 \\log n)$ in average."
   ]
  },
  {
   "cell_type": "markdown",
   "metadata": {},
   "source": [
    "# 4. Complexity of Operations on Matrices"
   ]
  },
  {
   "cell_type": "markdown",
   "metadata": {},
   "source": [
    "In this part, suppose that basic addition, multiplication and division on numbers can be done in $O(1)$."
   ]
  },
  {
   "cell_type": "markdown",
   "metadata": {},
   "source": [
    "## 4.1 Matrix Multiplication"
   ]
  },
  {
   "cell_type": "markdown",
   "metadata": {},
   "source": [
    "The schoolbook rule for multiplication of an $m \\times n$ and an $n \\times p$ matrix has complexity $O(mnp)$, as $mnp$ multiplications and $O(mnp)$ additions are used.\n",
    "\n",
    "If $m=n=p$, using a divide-and-conquest method, we can reduce this complexity.\n",
    "\n",
    "In fact, if \n",
    "\n",
    "$$\n",
    "X = \\begin{pmatrix}\n",
    "A & B\\\\\n",
    "C & D\n",
    "\\end{pmatrix}, Y = \\begin{pmatrix}\n",
    "E & F\\\\\n",
    "G & H\n",
    "\\end{pmatrix}\n",
    "$$\n",
    "\n",
    "Let\n",
    "$$\n",
    "P_1 = A(F-H), P_2 = (A+B)H, P_3 = (C+D)E, P_4 = D(G-E)\n",
    "$$\n",
    "$$\n",
    "P_5 = (A+D)(E+H), P_6 = (B-D)(G+H), P_7 = (A-C)(E+F)\n",
    "$$\n",
    "\n",
    "then\n",
    "\n",
    "$$\n",
    "XY = \\begin{pmatrix}\n",
    "P_5 + P_4 - P_2 + P_6 & P_1 + P_2\\\\\n",
    "P_3 + P_4 & P_1 + P_5 - P_3 - P_7\n",
    "\\end{pmatrix}\n",
    "$$\n",
    "\n",
    "Let $T(n)$ be the complexity (still with supposition multiplication on integers = O(1)), we have\n",
    "$$\n",
    "T(n) = 7T(n/8) + O(n^2)\n",
    "$$\n",
    "\n",
    "By the master theorem, $T(n) = O(n^{\\log_2 7}) \\approx O(n^{2.807}).$\n",
    "\n",
    "With better algorithms (Optimized CW-like algorithms), we can have an $O(n^{2.373})$-algorithm for square matrix multiplication"
   ]
  },
  {
   "cell_type": "markdown",
   "metadata": {},
   "source": [
    "## 4.2 Other operations"
   ]
  },
  {
   "cell_type": "markdown",
   "metadata": {},
   "source": [
    "- Matrix inversion can be done as fast as matrix multiplication ($O(n^{2.373})$).\n",
    "\n",
    "- Singular value decomposition of $m \\times n$ or $n \\times m$ matrix ($m \\leq n$) can be done in $O(mn^2)$.\n",
    "\n",
    "- Determinant can be computed as fast as matrix multiplication $O(n^{2.373})$. "
   ]
  },
  {
   "cell_type": "markdown",
   "metadata": {},
   "source": [
    "# 5. Complexity of operations on str, list, tuple, set and dict in Python"
   ]
  },
  {
   "cell_type": "markdown",
   "metadata": {},
   "source": [
    "In this part we study the abstractions that basic iterable classes in Python: **str**, **list**, **tuple** etc. represent. Refer to [3] for further understanding."
   ]
  },
  {
   "cell_type": "markdown",
   "metadata": {},
   "source": [
    "## 5.1 Referential Arrays"
   ]
  },
  {
   "cell_type": "markdown",
   "metadata": {},
   "source": [
    "Suppose that we want to store a list of objects of different sizes. If we store it consecutively in the memory, either:\n",
    "\n",
    "- We use the same memory size for each element, typically the largest element. This leads to waste of memory.\n",
    "\n",
    "- We use different memory size that fit each element. This leads to difficulty to calculate the memory address of an arbitrary element.\n",
    "\n",
    "To deal with this, we can store any element in some arbitrary address and then store the address in the list. As a memory address is an object of fixes size (typically 64 bits). The list becomes a **referential array** where we store memory addresses of elements instead of the elements themselves. Then we can calculate efficiently the memory address of an arbitrary element (finding the $k-$th element of an arithmetic progression), and use this information to access the required element. \n",
    "\n",
    "This mechanism is used to implement **list** and **tuple** in Python.\n",
    "\n",
    "<img src=\"https://raw.githubusercontent.com/riduan91/DSC101/master/Lesson4/Amphi/Fig6.png\" width=500></img>\n",
    "<center>Illustration from [3]</center>"
   ]
  },
  {
   "cell_type": "markdown",
   "metadata": {},
   "source": [
    "## 5.2 Compact Arrays"
   ]
  },
  {
   "cell_type": "markdown",
   "metadata": {},
   "source": [
    "In case of **str**, not necessary to use a referential array to store elements, because all elements are characters, hence of the same size (16 bits typically). So we can use a direct array to store value of elements. This is the notion of **compact array** and it is used to store **str** in Python.\n",
    "\n",
    "In case of **list**, if we know that elements of the list are of the same size, we can use **array** module (https://docs.python.org/2/library/array.html#module-array)."
   ]
  },
  {
   "cell_type": "markdown",
   "metadata": {},
   "source": [
    "## 5.3 Dynamic Arrays and Amortization"
   ]
  },
  {
   "cell_type": "markdown",
   "metadata": {},
   "source": [
    "### 5.3.1 Size of the Referential Array"
   ]
  },
  {
   "cell_type": "markdown",
   "metadata": {},
   "source": [
    "One difficulty that we usually face with on **list** is mutable operations. For example, calling **append**, **insert** can increase the list's size, hence increase the size of the referential array it uses.  In general, Python use a larger referential array to store references of elements on a list. So, in case of few insertions, the referential array's size may not change although the real list size increases.\n",
    "\n",
    "To check for size in bytes of the referential array used for a list, use **sys.getsizeof**."
   ]
  },
  {
   "cell_type": "code",
   "execution_count": 9,
   "metadata": {
    "collapsed": false
   },
   "outputs": [
    {
     "name": "stdout",
     "output_type": "stream",
     "text": [
      "Length of the list: 2\n",
      "Size of the referential array (in bytes): 96\n",
      "Now add more elements\n",
      "New length of the list: 3\n",
      "New size of the referential array: 96\n",
      "New length of the list: 4\n",
      "New size of the referential array: 96\n"
     ]
    }
   ],
   "source": [
    "import sys\n",
    "data = []\n",
    "data.append(1)\n",
    "data.append(2)\n",
    "print(\"Length of the list: %d\" % len(data))\n",
    "print(\"Size of the referential array (in bytes): %d\" % sys.getsizeof(data))\n",
    "print(\"Now add more elements\")\n",
    "data.append(7)\n",
    "print(\"New length of the list: %d\" % len(data))\n",
    "print(\"New size of the referential array: %d\" % sys.getsizeof(data)) #May not change\n",
    "data.append(8)\n",
    "print(\"New length of the list: %d\" % len(data))\n",
    "print(\"New size of the referential array: %d\" % sys.getsizeof(data)) #May not change"
   ]
  },
  {
   "cell_type": "markdown",
   "metadata": {},
   "source": [
    "### 5.3.2 Dynamic Arrays. Extension and Shrinkage"
   ]
  },
  {
   "cell_type": "markdown",
   "metadata": {},
   "source": [
    "However, when a list's real length is modified too much, we may have to adapt the referential array by changing its size. One mechanism is that when the current size is fully used, we create a new array of larger size (for example, twice of the current size). This is call **extension**.\n",
    "\n",
    "Inversely, if the real length of the list is reduced to some proportion of the current referential array's size, we recreate a new array of smaller size (for example, half of the current size). This is call **shrinkage**.\n",
    "\n",
    "An array whose size can be modified by **extension** and **shrinkage** when some specified proportion of its storage is used is called a **dynamic array**. \n",
    "\n",
    "**list** objects in Python implement dynamic array's mechanism."
   ]
  },
  {
   "cell_type": "code",
   "execution_count": 13,
   "metadata": {
    "collapsed": false
   },
   "outputs": [
    {
     "name": "stdout",
     "output_type": "stream",
     "text": [
      "Inserting 0, ..., 9\n",
      "List is now [0], size of referential array is now 96\n",
      "List is now [0, 1], size of referential array is now 96\n",
      "List is now [0, 1, 2], size of referential array is now 96\n",
      "List is now [0, 1, 2, 3], size of referential array is now 96\n",
      "List is now [0, 1, 2, 3, 4], size of referential array is now 128\n",
      "List is now [0, 1, 2, 3, 4, 5], size of referential array is now 128\n",
      "List is now [0, 1, 2, 3, 4, 5, 6], size of referential array is now 128\n",
      "List is now [0, 1, 2, 3, 4, 5, 6, 7], size of referential array is now 128\n",
      "List is now [0, 1, 2, 3, 4, 5, 6, 7, 8], size of referential array is now 192\n",
      "List is now [0, 1, 2, 3, 4, 5, 6, 7, 8, 9], size of referential array is now 192\n",
      "Removing elements\n",
      "List is now [0, 1, 2, 3, 4, 5, 6, 7, 8], size of referential array is now 192\n",
      "List is now [0, 1, 2, 3, 4, 5, 6, 7], size of referential array is now 192\n",
      "List is now [0, 1, 2, 3, 4, 5, 6], size of referential array is now 144\n",
      "List is now [0, 1, 2, 3, 4, 5], size of referential array is now 144\n",
      "List is now [0, 1, 2, 3, 4], size of referential array is now 144\n",
      "List is now [0, 1, 2, 3], size of referential array is now 120\n",
      "List is now [0, 1, 2], size of referential array is now 120\n",
      "List is now [0, 1], size of referential array is now 104\n",
      "List is now [0], size of referential array is now 96\n",
      "List is now [], size of referential array is now 64\n"
     ]
    }
   ],
   "source": [
    "import sys\n",
    "data = []\n",
    "print(\"Inserting 0, ..., 9\")\n",
    "for i in range(10):\n",
    "    data.append(i)\n",
    "    print(\"List is now %s, size of referential array is now %d\" % (data, sys.getsizeof(data)))\n",
    "\n",
    "print(\"Removing elements\")\n",
    "for i in range(10):\n",
    "    data.pop()\n",
    "    print(\"List is now %s, size of referential array is now %d\" % (data, sys.getsizeof(data)))"
   ]
  },
  {
   "cell_type": "markdown",
   "metadata": {},
   "source": [
    "### 5.3.3 Complexity of append and pop on list"
   ]
  },
  {
   "cell_type": "markdown",
   "metadata": {},
   "source": [
    "As seen from the demonstration, an **append** or a **pop** can simply add store an element to some memory address then store this address to the referential list, which is of complexity $O(1)$. Or it can create a new referential array, copying addresses of current elements to this new one, the complexity is then $O(n)$, where $n$ denotes the current length of the list.\n",
    "\n",
    "Suppose that we only extend the referential list by doubling its size when the list attains a length of $2^k$, then the complexity of **append** can be illustrated as follows:\n",
    "\n",
    "<img src=\"https://raw.githubusercontent.com/riduan91/DSC101/master/Lesson4/Amphi/Fig7.png\" width=400></img>\n",
    "\n",
    "Suppose we perform $n$ appends from the empty list. WLOG, suppose $n=2^k$ for some $k$. Suppose that $O(1)$ is less than $c$ basic operations and $O(n) \\leq cn$, then the total complexity for $n$ appends does not exceed:\n",
    "\n",
    "\\begin{align}\n",
    "c\\cdot 2^0 + c\\cdot 2^1 + c + c\\cdot 2^2 + c + c + c + c\\cdot 2^3 + \\ldots + c\\cdot 2^k &= c(n - k - 1) + c(2^0 + \\ldots + 2^k) \\nonumber \\\\\n",
    "&= c(n - k - 1) + c(2^{k + 1} - 1) \\nonumber \\\\\n",
    "&= 3cn - ck - 2c\n",
    "\\end{align}\n",
    "\n",
    "Hence, it is $O(n)$. That means, the average complexity of **append** is $O(1)$. By **O(1) by amortization**, we mean a complexity to have average complexity $O(1)$ while for some case it may be much larger than $O(1)$, but those cases happen with small probability.\n",
    "\n",
    "The same is true for **pop**."
   ]
  },
  {
   "cell_type": "markdown",
   "metadata": {},
   "source": [
    "## 5.4 Operations on tuple and list"
   ]
  },
  {
   "cell_type": "markdown",
   "metadata": {},
   "source": [
    "### Immutable operations\n",
    "| Operation                         | Running Time                                                |\n",
    "|-----------------------------------|-------------------------------------------------------------|\n",
    "| **len(data)**                     | $O(1)$                                                      |\n",
    "| **data[j]**                       | $O(1)$                                                      |\n",
    "| **data.count(value)**             | $O(n)$                                                      |\n",
    "| **data.find(value)**              | $O(k)$, k is the position of value                          |\n",
    "| **value in data**                 | $O(k)$, k is the position of value                          |\n",
    "| **data1 == data2** (!=, <, <=...) | $O(k)$, k is the first position when **data1[k]!=data2[k]** |\n",
    "| **data[j:k]**                     | $O(k-j)$                                                    |\n",
    "| **data1 + data2**                 | $O(n_1 + n_2)$, $n_1, n_2$ are those length                 |\n",
    "| **c\\*data**                       | $O(cn)$                                                     |\n",
    "\n",
    "### Mutable operations on list\n",
    "| **Operation**                         | **Running Time**        |\n",
    "|---------------------------------------|-------------------------|\n",
    "| **data[j]=val**                       | $O(1)$                  |\n",
    "| **data.append(val)**                  | $O(1)$ (in average)     |\n",
    "| **data.insert(k, value)**             | $O(n - k)$ (in average) |\n",
    "| **data.pop()**                        | $O(1)$ (in average)     |\n",
    "| **data.pop(k)**                       | $O(k)$ (in average)     |\n",
    "| **data.remove(value)**                | $O(n)$ (in average)     |\n",
    "| **data.extend(data2)**                | $O(n_2)$ (in average)   |\n",
    "| **data.reverse()**                    | $O(n)$                  |\n",
    "| **data.sort()**                       | $O(n \\log n)$           |"
   ]
  },
  {
   "cell_type": "markdown",
   "metadata": {},
   "source": [
    "## 5.5 Hash Maps"
   ]
  },
  {
   "cell_type": "markdown",
   "metadata": {},
   "source": [
    "The **dict** class of Python is an implementation of an abstraction type called **Map** or mapping in mathematics. Maps are used when we want to stored some key-values pairs $(k, V)$ for easy searching on keys. The most often operations of a map **d** are:\n",
    "\n",
    "- get value associated to some key: **d[k]**\n",
    "\n",
    "- insert or update a value associated to some key: **d[k] = V**\n",
    "\n",
    "- check if some key exists in the map: **k in d**\n",
    "\n",
    "- get all keys in the map: **d.keys()**\n",
    "\n",
    "- get all values: **d.values()**\n",
    "\n",
    "- get all keys and values: **d.items()**\n",
    "\n",
    "- delete value associated to a key: **del(d[k])**.\n",
    "\n",
    "As shown in lesson 1, to store a map, one data type we can think of is a table, called Hash Table. Suppose the map size is $n$, we can use a table of $N$ places to store references of those $n$ pairs (In pratice, $N > n$). Each place in the table will store 0, 1 or more elements. We will call such a place a **bucket**. So a hash table contains $N$ buckets which store references that allow us to refer to the $n$ elements.\n",
    "\n",
    "<img src=\"https://raw.githubusercontent.com/riduan91/DSC101/master/Lesson4/Amphi/Fig8.png\" width=400></img>\n",
    "<center>Illustration from [3]. In this picture, $n=7$, $N=11$. The keys are 1, 25, 3, 14, 6, 39, 7. The values are letters.</center>\n",
    "\n",
    "In order to decide in which bucket the elements are stored, we use:\n",
    "\n",
    "- A **hash function** to transform a key into an integer, which is called the **hash code** of the key. Example: built-in **hash** of Python.\n",
    "\n",
    "- A **compression function** to transform the **hash code** into an integer from 0 to $N-1$, i.e., the bucket index in the hash table. Example: take $(x \\mod N)$ or take $(ax + b) \\mod N$ for some random $a, b$.\n",
    "\n",
    "- A **collision-handling scheme**: If many elements are to be stored due to hash function and compression function choice, what we should do to avoid collision. Example:\n",
    " - **Separate chaining**: In each bucket, store reference of the first element. The first element store its items together with the reference of the second elements and so on.\n",
    " <img src=\"https://raw.githubusercontent.com/riduan91/DSC101/master/Lesson4/Amphi/Fig9.png\" width=400></img>\n",
    " <center>Illusion from [3] for separate chaining. In worst case, searching for a key or insert a new (key, value) is $O(n)$</center>\n",
    " - **Linear probing**: If collision, store data in the nearest empty bucket to the right.\n",
    " <img src=\"https://raw.githubusercontent.com/riduan91/DSC101/master/Lesson4/Amphi/Fig10.png\" width=400></img>\n",
    " <center>Illusion from [3] for linear probing. In worst case, searching for a key or insert a new (key, value) is $O(n)$</center> \n",
    "\n",
    "The factor $n/N$ is called **load-factor** of the map. If $n$ increases to some specific value, we may extend the hash table (like for dynamic array). For Python **dict**, extension is performed when the load-factor reach 2/3. When performing an extension, we recompute items' bucket using a new compression function. The extension can expectedly be done in $O(n)$. In worst case, it is done in $O(n^2)$. \n",
    "\n",
    "In this course, a hash table together with associated objects like its hash function, its compression function, its collision-handling scheme, its load factor handling rule is called a hash map. (In other contexts, hash map and hash table may mean the same)."
   ]
  },
  {
   "cell_type": "markdown",
   "metadata": {},
   "source": [
    "## 5.6 Operations on dict"
   ]
  },
  {
   "cell_type": "markdown",
   "metadata": {},
   "source": [
    "We have described hash maps and known that **dict** in Python implements hash map operations. We have the following complexity on **dict**.\n",
    "\n",
    "| **Operation**                                         | **Expected Time** | **Worst case** |\n",
    "|-------------------------------------------------------|-------------------|----------------|\n",
    "| **data[k]**                                           | $O(1)$            | $O(n)$         |\n",
    "| **data[k] = V**                                       | $O(1)$            | $O(n)$         |\n",
    "| **del(data[k])**                                      | $O(1)$            | $O(n)$         |\n",
    "| **k in data**                                         | $O(1)$            | $O(n)$         |\n",
    "| **len(data)**                                         | $O(1)$            | $O(1)$         |\n",
    "| **data.keys()** , **data.values()**, **data.items()** | $O(n)$            | $O(n)$         |"
   ]
  },
  {
   "cell_type": "markdown",
   "metadata": {},
   "source": [
    "## 5.7 Operations on set and frozenset"
   ]
  },
  {
   "cell_type": "markdown",
   "metadata": {},
   "source": [
    "**set** and **frozenset** in Python also implement hash maps. In stead of storing $(k, V)$, they store $k$ only.  "
   ]
  },
  {
   "cell_type": "markdown",
   "metadata": {},
   "source": [
    "| **Operation**                        | **Average case**        | **Worst Case**       |\n",
    "|--------------------------------------|-------------------------|----------------------|\n",
    "| **x in s**                           | $O(1)$                  | $O(n)$               |\n",
    "| Union **s$|$t**                      | $O(len(s)+len(t))$      | $O(len(s) * len(t))$ |\n",
    "| Intersection **s&t**                 | $O(min(len(s), len(t))$ | $O(len(s) * len(t))$ |\n",
    "| Difference **s-t**                   | $O(len(s))$             | $O(len(s) * len(t))$ |\n",
    "| **s.difference_update(t)**           | $O(len(t))$             | $O(len(s) * len(t))$ |\n",
    "| Symmetric Difference **s^t**         | $O(len(s))$             | $O(len(s) * len(t))$ |\n",
    "| **s.symmetric_difference_update(t)** | $O(len(t))$             | $O(len(t) * len(s))$ |\n",
    "| Subset **s <= t**                    | $O(len(s))$             | $O(len(t) * len(s))$ |\n",
    "| Add                                  | $O(1)$                  | $O(n)$               |\n",
    "| Remove                               | $O(1)$                  | $O(n)$               |"
   ]
  },
  {
   "cell_type": "markdown",
   "metadata": {},
   "source": [
    "## 5.8 Pattern Matching"
   ]
  },
  {
   "cell_type": "markdown",
   "metadata": {},
   "source": [
    "## 5.9 Operations on str"
   ]
  },
  {
   "cell_type": "markdown",
   "metadata": {},
   "source": [
    "## 5.10 Summary"
   ]
  },
  {
   "cell_type": "markdown",
   "metadata": {},
   "source": [
    "| **Python's class** | **Abstract data type**                      | **Frequent operations and complexity** |\n",
    "|--------------------|---------------------------------------------|----------------------------------------|\n",
    "| tuple              | Fixed-size Array Referential Array          | 5.4                                    |\n",
    "| list               | Dynamic Array Referential Array             | 5.4                                    |\n",
    "| str                | Fixed-size Array Compact Array              | 5.9                                    |\n",
    "| dict               | Hash Map with Dynamic, Referential Array    | 5.6                                    |\n",
    "| set                | Hash Map with Dynamic, Referential Array    | 5.7                                    |\n",
    "| frozenset          | Hash Map with Fixed-size, Referential Array | 5.7                                    |"
   ]
  },
  {
   "cell_type": "markdown",
   "metadata": {},
   "source": [
    "# 6*. Sorting (cont'd)\n",
    "**This is an additional topic**"
   ]
  },
  {
   "cell_type": "markdown",
   "metadata": {},
   "source": [
    "## 6.1 Merge-sort"
   ]
  },
  {
   "cell_type": "markdown",
   "metadata": {},
   "source": [
    "## 6.2 Quick-sort"
   ]
  },
  {
   "cell_type": "markdown",
   "metadata": {},
   "source": [
    "## 6.3 Heap-sort"
   ]
  },
  {
   "cell_type": "markdown",
   "metadata": {},
   "source": [
    "# 7. Parallel Processing with Pool in Python"
   ]
  },
  {
   "cell_type": "markdown",
   "metadata": {},
   "source": [
    "# 8. Regular Expressions"
   ]
  },
  {
   "cell_type": "markdown",
   "metadata": {},
   "source": [
    "# 9. pandas (cont'd)"
   ]
  },
  {
   "cell_type": "markdown",
   "metadata": {},
   "source": [
    "## References\n",
    "\n",
    "[1] S. Dasgupta, C. H. Papadimitriou, and U. V. Vazirani, *Algorithms*.\n",
    "\n",
    "[2] Robert Cori, Guillaume Hanrot, Claire Kenyon et Jean-Marc Steyaert, *Conception et analyse d'algorithmes.*\n",
    "\n",
    "[3] Michael T. Goodrich, Roberto Tamassia, Michael H. Goldwasser, *Data Structures and Algorithms in Python*"
   ]
  }
 ],
 "metadata": {
  "kernelspec": {
   "display_name": "Python 2",
   "language": "python",
   "name": "python2"
  },
  "language_info": {
   "codemirror_mode": {
    "name": "ipython",
    "version": 2
   },
   "file_extension": ".py",
   "mimetype": "text/x-python",
   "name": "python",
   "nbconvert_exporter": "python",
   "pygments_lexer": "ipython2",
   "version": "2.7.13"
  }
 },
 "nbformat": 4,
 "nbformat_minor": 0
}
