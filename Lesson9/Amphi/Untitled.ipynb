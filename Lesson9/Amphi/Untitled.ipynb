{
 "cells": [
  {
   "cell_type": "markdown",
   "metadata": {},
   "source": [
    "# Appendix: Convex Analysis and Optimization"
   ]
  },
  {
   "cell_type": "markdown",
   "metadata": {},
   "source": [
    "# 1. Convex Sets. Convex Functions.\n",
    "\n",
    "## 1.1 Definitions\n",
    "\n",
    "- A subset $K$ of $\\mathbf R^n$ is called a **convex set** if for any $x, y \\in K$ and any real number $0 < \\alpha < 1$, $(1-\\alpha) x + \\alpha y \\in K$.\n",
    "- A function $J: K \\to \\mathbf R$ is called a **convex function** if for any $x, y \\in K$ and any real number $0 < \\alpha < 1$, \n",
    "$$\n",
    "J((1-\\alpha) x + \\alpha y) \\leq (1-\\alpha) J(x) + \\alpha J(y)\n",
    "$$\n",
    "- A function $J: K \\to \\mathbf R$ is called a **strictly convex function** if for any $x \\neq  y \\in K$ and any real number $0 < \\alpha < 1$, \n",
    "$$\n",
    "J((1-\\alpha) x + \\alpha y) < (1-\\alpha) J(x) + \\alpha J(y)\n",
    "$$"
   ]
  },
  {
   "cell_type": "markdown",
   "metadata": {},
   "source": [
    "## 1.2 Proposition\n",
    "\n",
    "- The following operations preserve convexity of convex sets:\n",
    " - Intersection\n",
    " - Linear combination $aK + bL, a, b \\in \\mathbf R$.\n",
    " - Closure\n",
    " - Interior\n",
    "- Nonempty sets of form $\\{ x | a_j x \\leq b_j\\}$ for $j = 1, \\ldots, j$ are always convex, closed \n",
    "- If $J$ is a convex function on a convex set $K$, then each local minimum of $J$ is also a global minimum and the set of (local) minima is a convex subset of $K$. If $J$ is strictly convex, then there exists at most on minimum.\n",
    "\n",
    "- If $J$ is a convex function on a closed convex set $K$ such that it is infinity at infinity, that is, if $(u_n)$ is a sequence of elements in $K$ such that\n",
    "$$\n",
    "\\Vert u_n \\Vert  \\to  +\\infty  \n",
    "$$\n",
    "then\n",
    "$$\n",
    "J(u_n)  \\to  +\\infty\n",
    "$$\n",
    "Then there exists at least a local minimum of $J$ in $K$."
   ]
  },
  {
   "cell_type": "markdown",
   "metadata": {},
   "source": [
    "# 2. "
   ]
  }
 ],
 "metadata": {
  "kernelspec": {
   "display_name": "Python 3",
   "language": "python",
   "name": "python3"
  },
  "language_info": {
   "codemirror_mode": {
    "name": "ipython",
    "version": 3
   },
   "file_extension": ".py",
   "mimetype": "text/x-python",
   "name": "python",
   "nbconvert_exporter": "python",
   "pygments_lexer": "ipython3",
   "version": "3.6.4"
  }
 },
 "nbformat": 4,
 "nbformat_minor": 2
}
