{
 "cells": [
  {
   "cell_type": "markdown",
   "metadata": {},
   "source": [
    "# TD9 - Nhận diện khuôn mặt một số ca sĩ Việt Nam "
   ]
  },
  {
   "cell_type": "markdown",
   "metadata": {},
   "source": [
    "# Giới thiệu\n",
    "\n",
    "Trong TD này ta tiếp tục sử dụng OpenCV trên Python để nhận diện khuôn mặt một số ca sĩ Việt Nam thông qua hình ảnh chụp chính diện của họ thông qua Support Vector Machine.\n",
    "\n",
    "Bố cục TD như sau\n",
    "- Thông qua phương pháp Haar-Cascade, trích xuất khuôn mặt của ca sĩ trong hình ảnh.\n",
    "- Cũng cùng phương pháp, trích xuất các thành phần của khuôn mặt. Trong phạm vi TD, ta chỉ trích xuất đôi mắt.\n",
    "- Xây dựng các tập dữ liệu dựa trên khuôn mặt/đôi mắt của người trong ảnh\n",
    "- Thực hiện huấn luyện và đánh giá với SVM tuyến tính và SVM đa thức\n",
    "- Chọn các biến quan trọng để giảm số chiều bài toán.\n",
    "\n",
    "Dữ liệu của bài toán được download tại đây\n",
    "https://drive.google.com/drive/u/0/folders/14qdG6Txe0osUvTEbFjnxrqqfUk6dTsxR\n",
    "\n",
    "Trong đó bạn cần sử dụng các hình ảnh trong `RawData/face/format2`\n",
    "\n",
    "Bạn cần hoàn thành các hàm/method trong file `SingerClassification.py`. File `Constants.py` được sử dụng để import cho `SingerClassification.py`, gồm các hằng số được định nghĩa trước có ý nghĩa như dưới đây."
   ]
  },
  {
   "cell_type": "code",
   "execution_count": 1,
   "metadata": {},
   "outputs": [],
   "source": [
    "# -*- coding: utf-8 -*-\n",
    "\n",
    "# Thư mục chứa các hình ảnh gốc sẽ được sử dụng\n",
    "RAW_IMAGE_FOLDER = \"RawData/face/format2\"\n",
    "\n",
    "# Thư mục chứa các hình ảnh được copy, tập trung và đổi tên\n",
    "IMAGE_FOLDER = \"ImageFolder\"\n",
    "\n",
    "# Thư mục chứa các file text lưu trích xuất khuôn mặt, đôi mắt dưới dạng vector số, output của phần 1\n",
    "TEXT_DATA_FOLDER = \"TextData\"\n",
    "\n",
    "# Định dạng hình ảnh\n",
    "EXTENSION = \".png\"\n",
    "\n",
    "# File Haar cascade của khuôn mặt\n",
    "HAARCASCADE_FRONTALFACE_DEFAULT = \"Configuration/haarcascade_frontalface_default.xml\"\n",
    "\n",
    "# File Haar cascade của đôi mắt\n",
    "HAARCASCADE_EYE_DEFAULT = \"Configuration/haarcascade_eye.xml\"\n",
    "\n",
    "# Hằng số kiểm tra xem khuôn mặt có được chụp ở tư thế trực diện không\n",
    "# Khuôn mặt được xem là có tư thế trực diện nếu tâm mắt trái và tâm mắt phải có tung độ không cách nhau quá 3 pixel\n",
    "HORIZONTAL_CHECK = 3\n",
    "\n",
    "# File text lưu trích xuất khuôn mặt, đôi mắt dưới dạng vector số, output của phần 1\n",
    "FACES_DATA = \"TextData/Faces.csv\"\n",
    "EYES_DATA = \"TextData/Eyes.csv\"\n",
    "\n",
    "# Chuẩn hoá tên các ca sĩ từ thư mục hình ảnh gốc\n",
    "SINGER_NAME_DICTIONARY = {\n",
    "    \"bao thy\" : \"BaoThy\",\n",
    "    \"chi pu\": \"ChiPu\",\n",
    "    \"dam vinh hung\": \"DamVinhHung\",\n",
    "    \"dan truong\": \"DanTruong\",\n",
    "    \"ha anh tuan\": \"HaAnhTuan\",\n",
    "    \"ho ngoc ha\": \"HoNgocHa\",\n",
    "    \"huong tram\": \"HuongTram\",\n",
    "    \"lam truong\": \"LamTruong\",\n",
    "    \"my tam\": \"MyTam\",\n",
    "    \"No phuoc thing\": \"NooPhuocThinh\",\n",
    "    \"son tung\": \"SonTung\",\n",
    "    \"tuan hung\": \"TuanHung\"\n",
    "}\n",
    "\n",
    "# Đánh số thứ tự tên các ca sĩ\n",
    "SINGER_INDEX_DICTIONARY = {\n",
    "    \"BaoThy\": 0,\n",
    "    \"ChiPu\": 1,\n",
    "    \"DamVinhHung\": 2,\n",
    "    \"DanTruong\": 3,\n",
    "    \"HaAnhTuan\": 4,\n",
    "    \"HoNgocHa\": 5,\n",
    "    \"HuongTram\": 6,\n",
    "    \"LamTruong\": 7,\n",
    "    \"MyTam\": 8,\n",
    "    \"NooPhuocThinh\": 9,\n",
    "    \"SonTung\": 10,\n",
    "    \"TuanHung\": 11\n",
    "}\n",
    "\n",
    "# Sau khi xử lí các hình ảnh và sắp xếp theo thứ tự ABC, các hình ảnh có thứ tự 0 đến 220 sẽ thuộc ca sĩ BaoThy\n",
    "# v.v.\n",
    "SINGER_IMAGE_RANGE = {\n",
    "    \"BaoThy\": range(0, 221),\n",
    "    \"ChiPu\": range(221, 521),\n",
    "    \"DamVinhHung\": range(521, 676),\n",
    "    \"DanTruong\": range(676, 811),\n",
    "    \"HaAnhTuan\": range(811, 921),\n",
    "    \"HoNgocHa\": range(921, 1109),\n",
    "    \"HuongTram\": range(1109, 1327),\n",
    "    \"LamTruong\": range(1327, 1407),\n",
    "    \"MyTam\": range(1407, 1580),\n",
    "    \"NooPhuocThinh\": range(1580, 1820),\n",
    "    \"SonTung\": range(1820, 2020),\n",
    "    \"TuanHung\": range(2020, 2226)\n",
    "}"
   ]
  },
  {
   "cell_type": "markdown",
   "metadata": {},
   "source": [
    "Đoạn code dưới đây import lời giải để minh hoạ."
   ]
  },
  {
   "cell_type": "code",
   "execution_count": 2,
   "metadata": {},
   "outputs": [],
   "source": [
    "from SingerClassification_Solution import *"
   ]
  },
  {
   "cell_type": "markdown",
   "metadata": {},
   "source": [
    "# Phần 1 - Class `Face` - Trích xuất khuôn mặt và đôi mắt"
   ]
  },
  {
   "cell_type": "markdown",
   "metadata": {},
   "source": [
    "## Bài 1. Copy và tập trung hình ảnh vào một thư mục\n",
    "\n",
    "Thư mục chứa hình ảnh gốc nằm tại `RawData/face/format2` gồm 12 thư mục con như sau\n",
    "<img src=\"F1.png\"></img>\n",
    "\n",
    "Tên các thư mục chính là các key của dict `SINGER_NAME_DICTIONARY` đã được định nghĩa trong `Constants.py`. Mỗi thư mục này chứa các hình ảnh ca sĩ có định dạng `.png` và kích thước `96 pixel x 96 pixel`. Tên các hình ảnh được đánh số không liên tục (vì có thể một số hình ảnh đã bị xoá do chất lượng không tốt hoặc ảnh không trực diện)\n",
    "\n",
    "Để dễ làm việc về sau với các hình ảnh, ta muốn tập trung tất cả hình ảnh về một thư mục duy nhất và đặt lại tên để tên các hình ảnh có chỉ số được liên tục.\n",
    "\n",
    "***Hãy viết hàm `prepareImageFolder(raw_image_folder, image_folder)` copy các hình ảnh trong tất cả các thư mục con (được đặt tên bằng các key trong `SINGER_NAME_DICTIONARY`) của `raw_image_folder` sang file `image_folder` và đặt lại tên các file dưới dạng `TenCaSi_Maso.png`, trong đó `TenCaSi` là value trong `SINGER_NAME_DICTIONARY`, các chỉ số bắt đầu từ 0. Ví dụ các hình ảnh từ thư mục `bao thy` sẽ có tên `BaoThy_0.png`, ..., `BaoThy_220.png`.***\n",
    "\n",
    "Đoạn code sau giúp test hàm của bạn."
   ]
  },
  {
   "cell_type": "code",
   "execution_count": 3,
   "metadata": {},
   "outputs": [],
   "source": [
    "prepareImageFolder(RAW_IMAGE_FOLDER, IMAGE_FOLDER)"
   ]
  },
  {
   "cell_type": "code",
   "execution_count": 4,
   "metadata": {},
   "outputs": [
    {
     "data": {
      "text/html": [
       "<div>\n",
       "<style scoped>\n",
       "    .dataframe tbody tr th:only-of-type {\n",
       "        vertical-align: middle;\n",
       "    }\n",
       "\n",
       "    .dataframe tbody tr th {\n",
       "        vertical-align: top;\n",
       "    }\n",
       "\n",
       "    .dataframe thead th {\n",
       "        text-align: right;\n",
       "    }\n",
       "</style>\n",
       "<table border=\"1\" class=\"dataframe\">\n",
       "  <thead>\n",
       "    <tr style=\"text-align: right;\">\n",
       "      <th></th>\n",
       "      <th>0</th>\n",
       "    </tr>\n",
       "  </thead>\n",
       "  <tbody>\n",
       "    <tr>\n",
       "      <th>0</th>\n",
       "      <td>BaoThy_0.png</td>\n",
       "    </tr>\n",
       "    <tr>\n",
       "      <th>1</th>\n",
       "      <td>BaoThy_1.png</td>\n",
       "    </tr>\n",
       "    <tr>\n",
       "      <th>2</th>\n",
       "      <td>BaoThy_10.png</td>\n",
       "    </tr>\n",
       "    <tr>\n",
       "      <th>3</th>\n",
       "      <td>BaoThy_100.png</td>\n",
       "    </tr>\n",
       "    <tr>\n",
       "      <th>4</th>\n",
       "      <td>BaoThy_101.png</td>\n",
       "    </tr>\n",
       "    <tr>\n",
       "      <th>5</th>\n",
       "      <td>BaoThy_102.png</td>\n",
       "    </tr>\n",
       "    <tr>\n",
       "      <th>6</th>\n",
       "      <td>BaoThy_103.png</td>\n",
       "    </tr>\n",
       "    <tr>\n",
       "      <th>7</th>\n",
       "      <td>BaoThy_104.png</td>\n",
       "    </tr>\n",
       "    <tr>\n",
       "      <th>8</th>\n",
       "      <td>BaoThy_105.png</td>\n",
       "    </tr>\n",
       "    <tr>\n",
       "      <th>9</th>\n",
       "      <td>BaoThy_106.png</td>\n",
       "    </tr>\n",
       "    <tr>\n",
       "      <th>10</th>\n",
       "      <td>BaoThy_107.png</td>\n",
       "    </tr>\n",
       "    <tr>\n",
       "      <th>11</th>\n",
       "      <td>BaoThy_108.png</td>\n",
       "    </tr>\n",
       "    <tr>\n",
       "      <th>12</th>\n",
       "      <td>BaoThy_109.png</td>\n",
       "    </tr>\n",
       "    <tr>\n",
       "      <th>13</th>\n",
       "      <td>BaoThy_11.png</td>\n",
       "    </tr>\n",
       "    <tr>\n",
       "      <th>14</th>\n",
       "      <td>BaoThy_110.png</td>\n",
       "    </tr>\n",
       "    <tr>\n",
       "      <th>15</th>\n",
       "      <td>BaoThy_111.png</td>\n",
       "    </tr>\n",
       "    <tr>\n",
       "      <th>16</th>\n",
       "      <td>BaoThy_112.png</td>\n",
       "    </tr>\n",
       "    <tr>\n",
       "      <th>17</th>\n",
       "      <td>BaoThy_113.png</td>\n",
       "    </tr>\n",
       "    <tr>\n",
       "      <th>18</th>\n",
       "      <td>BaoThy_114.png</td>\n",
       "    </tr>\n",
       "    <tr>\n",
       "      <th>19</th>\n",
       "      <td>BaoThy_115.png</td>\n",
       "    </tr>\n",
       "    <tr>\n",
       "      <th>20</th>\n",
       "      <td>BaoThy_116.png</td>\n",
       "    </tr>\n",
       "    <tr>\n",
       "      <th>21</th>\n",
       "      <td>BaoThy_117.png</td>\n",
       "    </tr>\n",
       "    <tr>\n",
       "      <th>22</th>\n",
       "      <td>BaoThy_118.png</td>\n",
       "    </tr>\n",
       "    <tr>\n",
       "      <th>23</th>\n",
       "      <td>BaoThy_119.png</td>\n",
       "    </tr>\n",
       "    <tr>\n",
       "      <th>24</th>\n",
       "      <td>BaoThy_12.png</td>\n",
       "    </tr>\n",
       "    <tr>\n",
       "      <th>25</th>\n",
       "      <td>BaoThy_120.png</td>\n",
       "    </tr>\n",
       "    <tr>\n",
       "      <th>26</th>\n",
       "      <td>BaoThy_121.png</td>\n",
       "    </tr>\n",
       "    <tr>\n",
       "      <th>27</th>\n",
       "      <td>BaoThy_122.png</td>\n",
       "    </tr>\n",
       "    <tr>\n",
       "      <th>28</th>\n",
       "      <td>BaoThy_123.png</td>\n",
       "    </tr>\n",
       "    <tr>\n",
       "      <th>29</th>\n",
       "      <td>BaoThy_124.png</td>\n",
       "    </tr>\n",
       "    <tr>\n",
       "      <th>...</th>\n",
       "      <td>...</td>\n",
       "    </tr>\n",
       "    <tr>\n",
       "      <th>2197</th>\n",
       "      <td>TuanHung_72.png</td>\n",
       "    </tr>\n",
       "    <tr>\n",
       "      <th>2198</th>\n",
       "      <td>TuanHung_73.png</td>\n",
       "    </tr>\n",
       "    <tr>\n",
       "      <th>2199</th>\n",
       "      <td>TuanHung_74.png</td>\n",
       "    </tr>\n",
       "    <tr>\n",
       "      <th>2200</th>\n",
       "      <td>TuanHung_75.png</td>\n",
       "    </tr>\n",
       "    <tr>\n",
       "      <th>2201</th>\n",
       "      <td>TuanHung_76.png</td>\n",
       "    </tr>\n",
       "    <tr>\n",
       "      <th>2202</th>\n",
       "      <td>TuanHung_77.png</td>\n",
       "    </tr>\n",
       "    <tr>\n",
       "      <th>2203</th>\n",
       "      <td>TuanHung_78.png</td>\n",
       "    </tr>\n",
       "    <tr>\n",
       "      <th>2204</th>\n",
       "      <td>TuanHung_79.png</td>\n",
       "    </tr>\n",
       "    <tr>\n",
       "      <th>2205</th>\n",
       "      <td>TuanHung_8.png</td>\n",
       "    </tr>\n",
       "    <tr>\n",
       "      <th>2206</th>\n",
       "      <td>TuanHung_80.png</td>\n",
       "    </tr>\n",
       "    <tr>\n",
       "      <th>2207</th>\n",
       "      <td>TuanHung_81.png</td>\n",
       "    </tr>\n",
       "    <tr>\n",
       "      <th>2208</th>\n",
       "      <td>TuanHung_82.png</td>\n",
       "    </tr>\n",
       "    <tr>\n",
       "      <th>2209</th>\n",
       "      <td>TuanHung_83.png</td>\n",
       "    </tr>\n",
       "    <tr>\n",
       "      <th>2210</th>\n",
       "      <td>TuanHung_84.png</td>\n",
       "    </tr>\n",
       "    <tr>\n",
       "      <th>2211</th>\n",
       "      <td>TuanHung_85.png</td>\n",
       "    </tr>\n",
       "    <tr>\n",
       "      <th>2212</th>\n",
       "      <td>TuanHung_86.png</td>\n",
       "    </tr>\n",
       "    <tr>\n",
       "      <th>2213</th>\n",
       "      <td>TuanHung_87.png</td>\n",
       "    </tr>\n",
       "    <tr>\n",
       "      <th>2214</th>\n",
       "      <td>TuanHung_88.png</td>\n",
       "    </tr>\n",
       "    <tr>\n",
       "      <th>2215</th>\n",
       "      <td>TuanHung_89.png</td>\n",
       "    </tr>\n",
       "    <tr>\n",
       "      <th>2216</th>\n",
       "      <td>TuanHung_9.png</td>\n",
       "    </tr>\n",
       "    <tr>\n",
       "      <th>2217</th>\n",
       "      <td>TuanHung_90.png</td>\n",
       "    </tr>\n",
       "    <tr>\n",
       "      <th>2218</th>\n",
       "      <td>TuanHung_91.png</td>\n",
       "    </tr>\n",
       "    <tr>\n",
       "      <th>2219</th>\n",
       "      <td>TuanHung_92.png</td>\n",
       "    </tr>\n",
       "    <tr>\n",
       "      <th>2220</th>\n",
       "      <td>TuanHung_93.png</td>\n",
       "    </tr>\n",
       "    <tr>\n",
       "      <th>2221</th>\n",
       "      <td>TuanHung_94.png</td>\n",
       "    </tr>\n",
       "    <tr>\n",
       "      <th>2222</th>\n",
       "      <td>TuanHung_95.png</td>\n",
       "    </tr>\n",
       "    <tr>\n",
       "      <th>2223</th>\n",
       "      <td>TuanHung_96.png</td>\n",
       "    </tr>\n",
       "    <tr>\n",
       "      <th>2224</th>\n",
       "      <td>TuanHung_97.png</td>\n",
       "    </tr>\n",
       "    <tr>\n",
       "      <th>2225</th>\n",
       "      <td>TuanHung_98.png</td>\n",
       "    </tr>\n",
       "    <tr>\n",
       "      <th>2226</th>\n",
       "      <td>TuanHung_99.png</td>\n",
       "    </tr>\n",
       "  </tbody>\n",
       "</table>\n",
       "<p>2227 rows × 1 columns</p>\n",
       "</div>"
      ],
      "text/plain": [
       "                    0\n",
       "0        BaoThy_0.png\n",
       "1        BaoThy_1.png\n",
       "2       BaoThy_10.png\n",
       "3      BaoThy_100.png\n",
       "4      BaoThy_101.png\n",
       "5      BaoThy_102.png\n",
       "6      BaoThy_103.png\n",
       "7      BaoThy_104.png\n",
       "8      BaoThy_105.png\n",
       "9      BaoThy_106.png\n",
       "10     BaoThy_107.png\n",
       "11     BaoThy_108.png\n",
       "12     BaoThy_109.png\n",
       "13      BaoThy_11.png\n",
       "14     BaoThy_110.png\n",
       "15     BaoThy_111.png\n",
       "16     BaoThy_112.png\n",
       "17     BaoThy_113.png\n",
       "18     BaoThy_114.png\n",
       "19     BaoThy_115.png\n",
       "20     BaoThy_116.png\n",
       "21     BaoThy_117.png\n",
       "22     BaoThy_118.png\n",
       "23     BaoThy_119.png\n",
       "24      BaoThy_12.png\n",
       "25     BaoThy_120.png\n",
       "26     BaoThy_121.png\n",
       "27     BaoThy_122.png\n",
       "28     BaoThy_123.png\n",
       "29     BaoThy_124.png\n",
       "...               ...\n",
       "2197  TuanHung_72.png\n",
       "2198  TuanHung_73.png\n",
       "2199  TuanHung_74.png\n",
       "2200  TuanHung_75.png\n",
       "2201  TuanHung_76.png\n",
       "2202  TuanHung_77.png\n",
       "2203  TuanHung_78.png\n",
       "2204  TuanHung_79.png\n",
       "2205   TuanHung_8.png\n",
       "2206  TuanHung_80.png\n",
       "2207  TuanHung_81.png\n",
       "2208  TuanHung_82.png\n",
       "2209  TuanHung_83.png\n",
       "2210  TuanHung_84.png\n",
       "2211  TuanHung_85.png\n",
       "2212  TuanHung_86.png\n",
       "2213  TuanHung_87.png\n",
       "2214  TuanHung_88.png\n",
       "2215  TuanHung_89.png\n",
       "2216   TuanHung_9.png\n",
       "2217  TuanHung_90.png\n",
       "2218  TuanHung_91.png\n",
       "2219  TuanHung_92.png\n",
       "2220  TuanHung_93.png\n",
       "2221  TuanHung_94.png\n",
       "2222  TuanHung_95.png\n",
       "2223  TuanHung_96.png\n",
       "2224  TuanHung_97.png\n",
       "2225  TuanHung_98.png\n",
       "2226  TuanHung_99.png\n",
       "\n",
       "[2227 rows x 1 columns]"
      ]
     },
     "execution_count": 4,
     "metadata": {},
     "output_type": "execute_result"
    }
   ],
   "source": [
    "import pandas as pd\n",
    "l = os.listdir(IMAGE_FOLDER) # Liệt kê thư mục mới\n",
    "pd.DataFrame(l)"
   ]
  },
  {
   "cell_type": "markdown",
   "metadata": {},
   "source": [
    "Kết quả cần chứa 2227 hình ảnh với định dạng tên như liệt kê trên và như thư mục dưới đây:\n",
    "<img src=\"F2.png\"></img>"
   ]
  },
  {
   "cell_type": "markdown",
   "metadata": {},
   "source": [
    "## Bài 2. Class `Face`\n",
    "\n",
    "Ta xây dựng class `Face` sao cho mỗi instance của nó biểu diễn một hình ảnh, với trích xuất khuôn mặt và đôi mắt. Mỗi instance của class `Face` chứa các attribute sau:\n",
    "\n",
    "- `image_path`: đường dẫn đến hình ảnh (ví dụ `ImageFolder/BaoThy_0.png`)\n",
    "- `image_name`: tên hình ảnh, là tên file không chứa phần định dạng (ví dụ `BaoThy_0`)\n",
    "- `gray_image`: numpy array biểu diễn hình ảnh dạng trắng đen (được gọi từ `cv2.imread(some_image, 0)`)\n",
    "- `face_positions`, `eye_positions`: vị trí các khuôn mặt và con mắt trong hình ảnh (sẽ được tìm hiểu sau)\n",
    "- `faces`, `eyes`: trích xuất các hình ảnh và con mắt, là một numpy array con của `gray_image`\n",
    "- `normalized_faces`, `normalized_eyes`: numpy array biểu diễn khuôn mặt được chuẩn hoá về 64 x 64; con mắt được chuẩn hoá về 32 x 32.\n",
    "\n",
    "Trước hết, ta xây dựng 3 attribute đầu tiên trong hàm `__init__`.\n",
    "\n",
    "***Trong class `Face`, hãy viết method `__init__(self, image_path)` nhận đối số `image_path` là đường dẫn của hình ảnh và xây dựng instance thuộc class `Face` có các attributes `image_path`, `image_name`, `gray_image` như đã mô tả.***\n",
    "\n",
    "Đoạn code dưới đây giúp test hàm của bạn."
   ]
  },
  {
   "cell_type": "code",
   "execution_count": 5,
   "metadata": {},
   "outputs": [
    {
     "name": "stdout",
     "output_type": "stream",
     "text": [
      "[[204 204 203 ...  97  89  84]\n",
      " [205 204 204 ... 100  92  86]\n",
      " [205 205 205 ... 105  98  91]\n",
      " ...\n",
      " [217 216 217 ... 162 160 159]\n",
      " [215 215 215 ... 160 158 158]\n",
      " [215 215 214 ... 157 156 157]]\n"
     ]
    }
   ],
   "source": [
    "face = Face(IMAGE_FOLDER + \"/BaoThy_0.png\")\n",
    "print(face.gray_image)"
   ]
  },
  {
   "cell_type": "code",
   "execution_count": 6,
   "metadata": {},
   "outputs": [
    {
     "data": {
      "text/plain": [
       "'ImageFolder/BaoThy_0.png'"
      ]
     },
     "execution_count": 6,
     "metadata": {},
     "output_type": "execute_result"
    }
   ],
   "source": [
    "face.image_path"
   ]
  },
  {
   "cell_type": "code",
   "execution_count": 7,
   "metadata": {},
   "outputs": [
    {
     "data": {
      "text/plain": [
       "'BaoThy_0'"
      ]
     },
     "execution_count": 7,
     "metadata": {},
     "output_type": "execute_result"
    }
   ],
   "source": [
    "face.image_name"
   ]
  },
  {
   "cell_type": "markdown",
   "metadata": {},
   "source": [
    "## Bài 3. Vẽ hình bằng `matplotlib`\n",
    "\n",
    "Phần này minh hoạ hình ảnh với `matplotlib`.\n",
    "\n",
    "***Trong class `Face`, hãy viết method `draw(self, mode, index)` trong đó `mode` là một str, `index` là một int (mà ta chưa cần quan tâm trong bài này) sao cho nếu `mode` nhận giá trị `\"full_gray\"` thì khi gọi hàm `self.draw(mode = \"full_gray\")` sẽ trả lại dạng trắng đen của hình ảnh đang dùng.***\n",
    "\n",
    "Đoạn code dưới đây giúp test hàm của bạn."
   ]
  },
  {
   "cell_type": "code",
   "execution_count": 8,
   "metadata": {},
   "outputs": [
    {
     "data": {
      "image/png": "[encoded data removed]",
      "text/plain": [
       "<matplotlib.figure.Figure at 0xaf168d0>"
      ]
     },
     "metadata": {},
     "output_type": "display_data"
    }
   ],
   "source": [
    "face = Face(IMAGE_FOLDER + \"/DanTruong_10.png\")\n",
    "face.draw(mode = \"full_gray\")"
   ]
  },
  {
   "cell_type": "markdown",
   "metadata": {},
   "source": [
    "## Bài 4. Xác định vị trí khuôn mặt và trích xuất khuôn mặt\n",
    "\n",
    "Mặc dù các hình ảnh được xem là lấy khuôn mặt một cách trực diện, có những sự sai khác nhất định về vị trí tương đối của khuôn mặt trong hình ảnh, cũng như một số khuôn mặt không thực sự trực diện, chẳng hạn như hình dưới đây."
   ]
  },
  {
   "cell_type": "code",
   "execution_count": 9,
   "metadata": {},
   "outputs": [
    {
     "data": {
      "image/png": "[encoded data removed]",
      "text/plain": [
       "<matplotlib.figure.Figure at 0xaf4a0b8>"
      ]
     },
     "metadata": {},
     "output_type": "display_data"
    }
   ],
   "source": [
    "face = Face(IMAGE_FOLDER + \"/BaoThy_0.png\")\n",
    "face.draw(mode = \"full_gray\")"
   ]
  },
  {
   "cell_type": "markdown",
   "metadata": {},
   "source": [
    "Vì vậy, ta sử dụng phương pháp Haar Feature-based Cascade để \"trích xuất\" gương mặt theo phương pháp tương đồng giữa 1 zone hình ảnh với thác Haar tương ứng. Bạn có thể xem chi tiết về phương pháp và cách dùng ở đây: https://docs.opencv.org/2.4/modules/objdetect/doc/cascade_classification.html#cascadeclassifier-detectmultiscale\n",
    "\n",
    "***Trong class `Face`, hãy viết method `detectFaces(self)` tìm tất cả các bộ `(x, y, w, h)` xác định vị trí khuôn mặt như output của `detectMultiScale` trong cv2 (tức `(x, y), (x + w, y), (x, y + h), (x + w, y + h)` sẽ là toạ độ 4 đỉnh của vùng khuôn mặt) và gán vào attribute `self.face_positions` array tất cả các bộ 4 tìm được. Hình ảnh xác định được `N` khuôn mặt thì array sẽ có chiều `N x 4`***.\n",
    "\n",
    "Bạn có thể sử dụng `scaleFactor = Face.HAAR_SCALE_FACTOR, minNeighbors = Face.HAAR_MIN_NEIGHBORS, minSize = Face.HAAR_MIN_SIZE` cho hàm `detectMultiScale` và file `Face.HAARCASCADE_FRONTALFACE` cho cascade của khuôn mặt.\n",
    "\n",
    "Đoạn code dưới đây giúp test hàm của bạn."
   ]
  },
  {
   "cell_type": "code",
   "execution_count": 10,
   "metadata": {},
   "outputs": [
    {
     "data": {
      "text/plain": [
       "array([[11,  5, 74, 74]], dtype=int32)"
      ]
     },
     "execution_count": 10,
     "metadata": {},
     "output_type": "execute_result"
    }
   ],
   "source": [
    "face = Face(IMAGE_FOLDER + \"/BaoThy_10.png\") # Cần ra 1 khuôn mặt, array có dạng 4 x 1\n",
    "face.face_positions"
   ]
  },
  {
   "cell_type": "code",
   "execution_count": 11,
   "metadata": {},
   "outputs": [
    {
     "data": {
      "text/plain": [
       "()"
      ]
     },
     "execution_count": 11,
     "metadata": {},
     "output_type": "execute_result"
    }
   ],
   "source": [
    "face = Face(IMAGE_FOLDER + \"/BaoThy_0.png\") # Cần ra 0 khuôn mặt, array có dạng 4 x 0 = 0\n",
    "face.face_positions"
   ]
  },
  {
   "cell_type": "markdown",
   "metadata": {},
   "source": [
    "***Tiếp theo, cũng trong method `detectFaces(self)`, gán các numpy array con của `self.gray_image` biểu diễn khuôn mặt tương ứng vào attribute `faces` dưới dạng 1 list. Hình ảnh xác định được bao nhiêu khuôn mặt thì list sẽ có bấy nhiêu phần tử, mỗi phần tử là một array.***\n",
    "\n",
    "Đoạn code dưới đây giúp test hàm của bạn."
   ]
  },
  {
   "cell_type": "code",
   "execution_count": 12,
   "metadata": {},
   "outputs": [
    {
     "data": {
      "text/plain": [
       "[array([[ 29,  32,  26, ...,  99, 110, 113],\n",
       "        [ 29,  31,  27, ...,  99, 114, 103],\n",
       "        [ 27,  28,  29, ..., 104, 108, 107],\n",
       "        ...,\n",
       "        [ 15,  33,  26, ...,  14,  16,  22],\n",
       "        [ 28,  44,  32, ...,  13,  15,  20],\n",
       "        [ 55,  55,  46, ...,  13,  14,  18]], dtype=uint8)]"
      ]
     },
     "execution_count": 12,
     "metadata": {},
     "output_type": "execute_result"
    }
   ],
   "source": [
    "face = Face(IMAGE_FOLDER + \"/BaoThy_10.png\") \n",
    "face.faces # List chứa 1 phần tử: 1 array 74 x 74"
   ]
  },
  {
   "cell_type": "code",
   "execution_count": 13,
   "metadata": {},
   "outputs": [
    {
     "data": {
      "text/plain": [
       "[]"
      ]
     },
     "execution_count": 13,
     "metadata": {},
     "output_type": "execute_result"
    }
   ],
   "source": [
    "face = Face(IMAGE_FOLDER + \"/BaoThy_0.png\") \n",
    "face.faces # List chứa 0 phần tử"
   ]
  },
  {
   "cell_type": "markdown",
   "metadata": {},
   "source": [
    "***Cuối cùng, thêm vào method `draw(self, mode, index)` đã viết ở bài 3 để khi `mode` nhận giá trị `\"face\"` thì kết quả nhận được là biểu diễn hình ảnh của trích xuất khuôn mặt thứ `index` trong list `self.faces`, còn nếu `mode` nhận giá trị là `face_marked` thì kết quả là toàn bộ hình ảnh, nhưng phần khuôn mặt được trích xuất được đánh dấu (chẳng hạn bằng cách đóng khung)***\n",
    "\n",
    "Đoạn code dưới đây lặp lại bài 3 khi `mode=\"full_gray\"`"
   ]
  },
  {
   "cell_type": "code",
   "execution_count": 14,
   "metadata": {},
   "outputs": [
    {
     "data": {
      "image/png": "[encoded data removed]",
      "text/plain": [
       "<matplotlib.figure.Figure at 0xc31e1d0>"
      ]
     },
     "metadata": {},
     "output_type": "display_data"
    }
   ],
   "source": [
    "face = Face(IMAGE_FOLDER + \"/DanTruong_10.png\") \n",
    "face.draw(mode = \"full_gray\") "
   ]
  },
  {
   "cell_type": "markdown",
   "metadata": {},
   "source": [
    "Đoạn code dưới đây minh hoạ khi `mode=\"face\"`"
   ]
  },
  {
   "cell_type": "code",
   "execution_count": 15,
   "metadata": {},
   "outputs": [
    {
     "data": {
      "image/png": "[encoded data removed]",
      "text/plain": [
       "<matplotlib.figure.Figure at 0xc380da0>"
      ]
     },
     "metadata": {},
     "output_type": "display_data"
    }
   ],
   "source": [
    "face = Face(IMAGE_FOLDER + \"/DanTruong_10.png\") \n",
    "face.draw(mode = \"face\", index = 0) "
   ]
  },
  {
   "cell_type": "markdown",
   "metadata": {},
   "source": [
    "Đoạn code dưới đây đánh dấu (đóng khung) khuôn mặt trên hình gốc"
   ]
  },
  {
   "cell_type": "code",
   "execution_count": 16,
   "metadata": {},
   "outputs": [
    {
     "data": {
      "image/png": "[encoded data removed]",
      "text/plain": [
       "<matplotlib.figure.Figure at 0xc805588>"
      ]
     },
     "metadata": {},
     "output_type": "display_data"
    }
   ],
   "source": [
    "face = Face(IMAGE_FOLDER + \"/DanTruong_10.png\") \n",
    "face.draw(mode = \"face_marked\", index = 0) "
   ]
  },
  {
   "cell_type": "markdown",
   "metadata": {},
   "source": [
    "## Bài 5 - Chuẩn hoá kích thước khuôn mặt\n",
    "\n",
    "***Áp dụng `cv2.resize()` đã thực hiện ở các TD trước, chuẩn hoá kích thước các khuôn mặt trong list `self.faces` về 64 x 64 pixel và lưu chúng vào list `self.normalized_faces` trong class `Face`.***\n",
    "\n",
    "***Tiếp tục viết thêm vào method `draw(self, mode, index)` để khi `mode` nhận giá trị `\"normalized_face\"` thì nhận được trích xuất khuôn mặt được vẽ bởi matplotlib với kích thước 64 x 64.*** "
   ]
  },
  {
   "cell_type": "code",
   "execution_count": 17,
   "metadata": {},
   "outputs": [
    {
     "data": {
      "text/plain": [
       "[array([[ 28,  25,  25, ...,  37,  47, 102],\n",
       "        [ 23,  22,  25, ...,  40,  44,  78],\n",
       "        [ 20,  20,  26, ...,  45,  50,  64],\n",
       "        ...,\n",
       "        [117,  66,  40, ...,  75,  25,  57],\n",
       "        [130, 101,  68, ...,  99,  21,  41],\n",
       "        [171, 147, 112, ..., 147,  35,  15]], dtype=uint8)]"
      ]
     },
     "execution_count": 17,
     "metadata": {},
     "output_type": "execute_result"
    }
   ],
   "source": [
    "face = Face(IMAGE_FOLDER + \"/DanTruong_10.png\") \n",
    "face.normalized_faces"
   ]
  },
  {
   "cell_type": "code",
   "execution_count": 18,
   "metadata": {},
   "outputs": [
    {
     "data": {
      "text/plain": [
       "(64, 64)"
      ]
     },
     "execution_count": 18,
     "metadata": {},
     "output_type": "execute_result"
    }
   ],
   "source": [
    "face.normalized_faces[0].shape # Kết quả là 64 x 64"
   ]
  },
  {
   "cell_type": "code",
   "execution_count": 19,
   "metadata": {},
   "outputs": [
    {
     "data": {
      "image/png": "[encoded data removed]",
      "text/plain": [
       "<matplotlib.figure.Figure at 0xd863978>"
      ]
     },
     "metadata": {},
     "output_type": "display_data"
    }
   ],
   "source": [
    "face = Face(IMAGE_FOLDER + \"/DanTruong_10.png\") \n",
    "face.draw(mode = \"normalized_face\", index = 0) # Kết quả là 1 hình có kích thước 64 pixel x 64 pixel"
   ]
  },
  {
   "cell_type": "markdown",
   "metadata": {},
   "source": [
    "## Bài 6 - Xác định vị trí mắt và trích xuất mắt\n",
    "\n",
    "***Trong class `Face`, hãy viết method `detectFaces(self)` tìm tất cả các bộ `(i, (x, y, w, h))` xác định vị trí mắt, trong đó `i` là số thứ tự khuôn mặt chứa mắt trong `self.faces`; còn `(x, y, w, h)` như output của `detectMultiScale` trong cv2 (tức `(x, y), (x + w, y), (x, y + h), (x + w, y + h)` sẽ là toạ độ 4 đỉnh của vùng mắt); và gán list tất cả các bộ `(i, (x, y, w, h))` tìm được vào attribute `self.eye_positions`. Hình ảnh xác định được bao nhiêu con mắt thì `self.eye_positions` sẽ là list sẽ có độ dài bấy nhiêu***.\n",
    "\n",
    "Ví dụ với hình ảnh `DanTruong_10`, chỉ xác định được 1 mắt."
   ]
  },
  {
   "cell_type": "code",
   "execution_count": 20,
   "metadata": {},
   "outputs": [
    {
     "data": {
      "text/plain": [
       "[(0, array([40, 13, 22, 22], dtype=int32))]"
      ]
     },
     "execution_count": 20,
     "metadata": {},
     "output_type": "execute_result"
    }
   ],
   "source": [
    "face = Face(IMAGE_FOLDER + \"/DanTruong_10.png\")\n",
    "face.eye_positions"
   ]
  },
  {
   "cell_type": "markdown",
   "metadata": {},
   "source": [
    "Với hình ảnh `DanTruong_4`, chỉ xác định được 2 mắt."
   ]
  },
  {
   "cell_type": "code",
   "execution_count": 21,
   "metadata": {},
   "outputs": [
    {
     "data": {
      "text/plain": [
       "[(0, array([37, 15, 22, 22], dtype=int32)),\n",
       " (0, array([ 9, 14, 24, 24], dtype=int32))]"
      ]
     },
     "execution_count": 21,
     "metadata": {},
     "output_type": "execute_result"
    }
   ],
   "source": [
    "face = Face(IMAGE_FOLDER + \"/DanTruong_4.png\")\n",
    "face.eye_positions"
   ]
  },
  {
   "cell_type": "markdown",
   "metadata": {},
   "source": [
    "Với hình ảnh `DanTruong_1`, thậm chí xác định được nhiều \"mắt\" hơn"
   ]
  },
  {
   "cell_type": "code",
   "execution_count": 22,
   "metadata": {},
   "outputs": [
    {
     "data": {
      "text/plain": [
       "[(0, array([37, 15, 22, 22], dtype=int32)),\n",
       " (0, array([ 9, 14, 24, 24], dtype=int32))]"
      ]
     },
     "execution_count": 22,
     "metadata": {},
     "output_type": "execute_result"
    }
   ],
   "source": [
    "face = Face(IMAGE_FOLDER + \"/DanTruong_4.png\")\n",
    "face.eye_positions"
   ]
  },
  {
   "cell_type": "markdown",
   "metadata": {},
   "source": [
    "***Tiếp theo, cũng trong method `detectFaces(self)`, gán các bộ `(i, X)` vào `self.eyes` trong đó `X` là array con tương ứng các mắt đã xác định được.***\n",
    "\n",
    "Các đoạn code dưới đây giúp test hàm của bạn"
   ]
  },
  {
   "cell_type": "code",
   "execution_count": 23,
   "metadata": {},
   "outputs": [
    {
     "data": {
      "text/plain": [
       "[(0, array([[214, 216, 217, 217, 216, 214, 213, 213, 214, 213, 209, 210, 211,\n",
       "          213, 214, 213, 213, 210, 208, 209, 195, 183],\n",
       "         [218, 219, 218, 218, 216, 213, 209, 204, 209, 225, 209, 198, 204,\n",
       "          201, 200, 197, 193, 195, 195, 194, 177, 172],\n",
       "         [216, 213, 210, 210, 211, 212, 211, 207, 206, 211, 207, 192, 180,\n",
       "          167, 166, 167, 155, 160, 160, 146, 131, 140],\n",
       "         [210, 206, 203, 204, 206, 205, 200, 195, 182, 171, 177, 166, 142,\n",
       "          122, 130, 143, 136, 121, 112, 105,  98, 105],\n",
       "         [199, 198, 199, 200, 197, 185, 173, 165, 147, 124, 112, 103,  94,\n",
       "           87,  89, 103, 107,  90,  80,  84,  78,  74],\n",
       "         [191, 194, 197, 195, 184, 163, 140, 127, 115,  96,  67,  66,  72,\n",
       "           70,  63,  72,  89,  82,  80,  78,  62,  47],\n",
       "         [190, 195, 195, 185, 167, 141, 120, 107, 101,  95,  82,  89,  91,\n",
       "           82,  70,  74,  87,  81,  74,  72,  75,  66],\n",
       "         [194, 195, 187, 169, 148, 130, 121, 120, 120, 125, 137, 145, 132,\n",
       "          116, 127, 142, 146, 133, 123, 120, 125, 125],\n",
       "         [197, 189, 174, 154, 139, 135, 140, 150, 167, 177, 177, 176, 166,\n",
       "          159, 174, 186, 185, 175, 183, 181, 170, 175],\n",
       "         [193, 178, 161, 147, 142, 146, 158, 169, 170, 163, 149, 142, 152,\n",
       "          159, 155, 159, 159, 158, 170, 179, 180, 187],\n",
       "         [185, 165, 151, 146, 151, 156, 165, 163, 136, 124,  99,  66,  97,\n",
       "          105,  84,  99, 118, 128, 131, 148, 163, 168],\n",
       "         [186, 162, 150, 151, 158, 159, 154, 141, 120, 150, 126,  41,  46,\n",
       "           41,  29,  80, 112, 110,  98, 120, 145, 148],\n",
       "         [193, 167, 155, 157, 160, 154, 133, 129, 144, 165, 144,  83,  71,\n",
       "           52,  50, 116, 137, 120,  99, 122, 149, 158],\n",
       "         [189, 164, 153, 156, 163, 161, 142, 148, 175, 167, 163, 159, 150,\n",
       "          139, 131, 136, 139, 132, 125, 149, 169, 173],\n",
       "         [194, 168, 154, 155, 167, 176, 175, 177, 184, 181, 177, 175, 172,\n",
       "          171, 168, 160, 157, 156, 160, 181, 188, 181],\n",
       "         [205, 180, 161, 157, 169, 185, 196, 192, 184, 185, 184, 183, 182,\n",
       "          182, 182, 183, 183, 180, 182, 192, 194, 189],\n",
       "         [215, 193, 171, 162, 167, 183, 197, 194, 186, 188, 187, 187, 188,\n",
       "          189, 190, 193, 194, 195, 198, 206, 204, 199],\n",
       "         [221, 204, 182, 169, 165, 174, 185, 190, 190, 191, 191, 193, 195,\n",
       "          196, 198, 202, 204, 205, 209, 215, 212, 207],\n",
       "         [219, 207, 189, 174, 167, 169, 176, 186, 191, 190, 192, 194, 197,\n",
       "          199, 200, 203, 206, 207, 211, 215, 212, 208],\n",
       "         [213, 204, 192, 180, 175, 174, 179, 187, 191, 191, 192, 194, 197,\n",
       "          198, 198, 199, 201, 201, 206, 212, 209, 205],\n",
       "         [212, 204, 194, 188, 185, 185, 188, 193, 195, 195, 196, 196, 197,\n",
       "          197, 195, 195, 195, 195, 201, 207, 203, 200],\n",
       "         [215, 204, 196, 192, 192, 193, 197, 203, 206, 206, 207, 208, 208,\n",
       "          208, 205, 202, 201, 198, 201, 204, 200, 197]], dtype=uint8)),\n",
       " (0, array([[173, 172, 185, 197, 198, 198, 198, 196, 195, 199, 205, 205, 201,\n",
       "          196, 195, 202, 212, 218, 220, 217, 211, 206, 205, 205],\n",
       "         [176, 175, 189, 198, 191, 184, 182, 184, 189, 197, 206, 210, 213,\n",
       "          210, 201, 204, 213, 220, 222, 220, 215, 212, 212, 217],\n",
       "         [186, 183, 184, 178, 166, 157, 153, 159, 169, 177, 185, 192, 196,\n",
       "          204, 211, 212, 213, 214, 213, 211, 209, 209, 211, 216],\n",
       "         [195, 185, 165, 144, 129, 119, 113, 118, 125, 134, 140, 147, 152,\n",
       "          169, 194, 200, 202, 204, 206, 204, 202, 203, 206, 211],\n",
       "         [191, 170, 140, 115,  98,  83,  78,  81,  86,  89,  94, 101, 109,\n",
       "          119, 130, 141, 152, 162, 172, 182, 190, 195, 202, 206],\n",
       "         [175, 137, 102,  82,  75,  68,  66,  71,  74,  72,  70,  71,  74,\n",
       "           80,  88,  95, 108, 125, 141, 159, 177, 189, 197, 204],\n",
       "         [155, 112,  78,  65,  66,  66,  71,  80,  84,  85,  84,  81,  79,\n",
       "           77,  79,  84,  96, 113, 131, 148, 166, 179, 186, 191],\n",
       "         [144, 112, 100,  99, 107, 115, 124, 136, 143, 140, 137, 132, 125,\n",
       "          108,  97,  97,  97, 105, 116, 130, 150, 167, 179, 187],\n",
       "         [142, 126, 139, 149, 163, 173, 181, 189, 195, 197, 195, 189, 183,\n",
       "          176, 165, 157, 147, 138, 134, 134, 144, 163, 178, 193],\n",
       "         [153, 155, 174, 181, 190, 193, 189, 187, 180, 169, 162, 155, 148,\n",
       "          151, 161, 173, 175, 172, 164, 156, 153, 160, 171, 181],\n",
       "         [170, 179, 183, 181, 185, 183, 172, 148, 140, 142, 110,  88,  79,\n",
       "           70,  84, 114, 136, 156, 167, 165, 163, 163, 168, 170],\n",
       "         [182, 187, 187, 181, 174, 158, 138, 103, 118, 147,  93,  78,  80,\n",
       "           58,  58,  96, 143, 141, 144, 157, 163, 164, 165, 167],\n",
       "         [175, 177, 180, 174, 162, 141, 119,  98, 131, 156, 104,  79,  73,\n",
       "           63,  65, 108, 160, 134, 123, 143, 158, 161, 160, 167],\n",
       "         [163, 164, 165, 159, 151, 140, 129, 119, 150, 170, 137, 115, 106,\n",
       "          107, 111, 136, 165, 150, 138, 144, 161, 160, 161, 173],\n",
       "         [174, 171, 171, 170, 169, 170, 167, 157, 167, 176, 171, 170, 172,\n",
       "          173, 172, 177, 183, 182, 170, 167, 180, 169, 166, 178],\n",
       "         [192, 183, 186, 194, 197, 202, 199, 186, 172, 173, 185, 201, 202,\n",
       "          195, 195, 183, 182, 199, 190, 189, 199, 180, 169, 178],\n",
       "         [201, 189, 197, 209, 209, 206, 201, 194, 181, 180, 190, 196, 198,\n",
       "          194, 191, 173, 172, 191, 184, 185, 192, 175, 163, 172],\n",
       "         [192, 187, 194, 202, 203, 203, 203, 201, 194, 194, 191, 179, 188,\n",
       "          199, 199, 190, 193, 203, 194, 186, 184, 179, 174, 181],\n",
       "         [193, 195, 192, 194, 199, 204, 207, 207, 203, 205, 203, 193, 198,\n",
       "          203, 203, 203, 206, 209, 203, 188, 182, 190, 197, 201],\n",
       "         [197, 201, 197, 199, 207, 215, 214, 209, 205, 203, 211, 216, 208,\n",
       "          201, 200, 206, 207, 206, 207, 189, 181, 190, 196, 201],\n",
       "         [194, 195, 202, 210, 214, 212, 205, 208, 214, 205, 212, 223, 212,\n",
       "          198, 195, 202, 202, 205, 213, 203, 195, 197, 196, 198],\n",
       "         [198, 198, 202, 208, 209, 204, 198, 209, 224, 212, 205, 209, 213,\n",
       "          207, 205, 214, 210, 208, 211, 210, 202, 196, 195, 197],\n",
       "         [201, 201, 199, 198, 199, 201, 202, 208, 215, 215, 215, 214, 213,\n",
       "          212, 215, 221, 216, 207, 202, 202, 191, 181, 185, 191],\n",
       "         [200, 202, 200, 199, 200, 202, 205, 208, 213, 218, 223, 220, 211,\n",
       "          214, 215, 214, 210, 203, 197, 197, 194, 192, 196, 195]],\n",
       "        dtype=uint8))]"
      ]
     },
     "execution_count": 23,
     "metadata": {},
     "output_type": "execute_result"
    }
   ],
   "source": [
    "face = Face(IMAGE_FOLDER + \"/DanTruong_4.png\")\n",
    "face.eyes # Cần là list 2 phần tử, mỗi phần tử là 1 bộ 1 số nguyên và 1 array)"
   ]
  },
  {
   "cell_type": "markdown",
   "metadata": {},
   "source": [
    "***Cuối cùng, thêm vào method `draw(self, mode, index)` đã viết ở bài 3 để khi `mode` nhận giá trị `\"eye\"` thì kết quả nhận được là biểu diễn hình ảnh của trích xuất mắt thứ `index` trong list `self.eyes`, còn nếu `mode` nhận giá trị là `eye_marked` thì kết quả là toàn bộ hình ảnh, nhưng phần mắt được trích xuất được đánh dấu (chẳng hạn bằng cách đóng khung)***"
   ]
  },
  {
   "cell_type": "code",
   "execution_count": 24,
   "metadata": {},
   "outputs": [
    {
     "data": {
      "image/png": "[encoded data removed]",
      "text/plain": [
       "<matplotlib.figure.Figure at 0xd863198>"
      ]
     },
     "metadata": {},
     "output_type": "display_data"
    }
   ],
   "source": [
    "face = Face(IMAGE_FOLDER + \"/DanTruong_1.png\")\n",
    "face.draw(mode=\"eye\", index = 0)"
   ]
  },
  {
   "cell_type": "code",
   "execution_count": 25,
   "metadata": {},
   "outputs": [
    {
     "data": {
      "image/png": "[encoded data removed]",
      "text/plain": [
       "<matplotlib.figure.Figure at 0xc285b70>"
      ]
     },
     "metadata": {},
     "output_type": "display_data"
    }
   ],
   "source": [
    "face = Face(IMAGE_FOLDER + \"/DanTruong_1.png\")\n",
    "face.draw(mode=\"eye_marked\", index = 1)"
   ]
  },
  {
   "cell_type": "code",
   "execution_count": 28,
   "metadata": {},
   "outputs": [
    {
     "data": {
      "image/png": "[encoded data removed]",
      "text/plain": [
       "<matplotlib.figure.Figure at 0xd90ed30>"
      ]
     },
     "metadata": {},
     "output_type": "display_data"
    }
   ],
   "source": [
    "face = Face(IMAGE_FOLDER + \"/DanTruong_1.png\")\n",
    "face.draw(mode=\"eye_marked\", index = 2) # Trường hợp phát hiện nhiều mắt trong cùng 1 zone"
   ]
  },
  {
   "cell_type": "markdown",
   "metadata": {},
   "source": [
    "## Bài 7 - Chuẩn hoá kích thước mắt\n",
    "\n",
    "***Áp dụng `cv2.resize()` đã thực hiện ở các TD trước, chuẩn hoá kích thước các khuôn mặt trong list `self.eyes` về 32 x 32 pixel và lưu chúng vào attribute `self.normalized_eyes` dưới dạng 1 list `(i, X)` như `self.eyes`, nhưng `X` là các numpy array 32 x 32.***\n",
    "\n",
    "***Tiếp tục viết thêm vào method `draw(self, mode, index)` để khi `mode` nhận giá trị `\"normalized_eye\"` thì nhận được trích xuất mắt thứ `index` được vẽ bởi matplotlib với kích thước 32 x 32.*** "
   ]
  },
  {
   "cell_type": "code",
   "execution_count": 30,
   "metadata": {},
   "outputs": [
    {
     "data": {
      "text/plain": [
       "[array([[214, 215, 216, ..., 198, 189, 183],\n",
       "        [216, 217, 217, ..., 189, 182, 177],\n",
       "        [218, 217, 217, ..., 170, 166, 165],\n",
       "        ...,\n",
       "        [212, 208, 202, ..., 205, 203, 201],\n",
       "        [213, 208, 202, ..., 202, 200, 199],\n",
       "        [215, 209, 202, ..., 201, 199, 197]], dtype=uint8),\n",
       " array([[173, 172, 177, ..., 205, 205, 205],\n",
       "        [175, 174, 179, ..., 210, 210, 212],\n",
       "        [180, 179, 181, ..., 211, 213, 217],\n",
       "        ...,\n",
       "        [200, 200, 200, ..., 188, 190, 193],\n",
       "        [201, 201, 200, ..., 187, 190, 192],\n",
       "        [200, 201, 201, ..., 194, 195, 195]], dtype=uint8)]"
      ]
     },
     "execution_count": 30,
     "metadata": {},
     "output_type": "execute_result"
    }
   ],
   "source": [
    "face = Face(IMAGE_FOLDER + \"/DanTruong_4.png\")\n",
    "face.normalized_eyes"
   ]
  },
  {
   "cell_type": "code",
   "execution_count": 31,
   "metadata": {},
   "outputs": [
    {
     "data": {
      "image/png": "[encoded data removed]",
      "text/plain": [
       "<matplotlib.figure.Figure at 0xc2c4a20>"
      ]
     },
     "metadata": {},
     "output_type": "display_data"
    }
   ],
   "source": [
    "face.draw(mode = \"normalized_eye\", index = 0) # Mắt phải, kích thước 32 x 32"
   ]
  },
  {
   "cell_type": "code",
   "execution_count": 32,
   "metadata": {},
   "outputs": [
    {
     "data": {
      "image/png": "[encoded data removed]",
      "text/plain": [
       "<matplotlib.figure.Figure at 0xd8a0940>"
      ]
     },
     "metadata": {},
     "output_type": "display_data"
    }
   ],
   "source": [
    "face.draw(mode = \"normalized_eye\", index = 1) # Mắt trái, kích thước 32 x 32"
   ]
  }
 ],
 "metadata": {
  "kernelspec": {
   "display_name": "Python 3",
   "language": "python",
   "name": "python3"
  },
  "language_info": {
   "codemirror_mode": {
    "name": "ipython",
    "version": 3
   },
   "file_extension": ".py",
   "mimetype": "text/x-python",
   "name": "python",
   "nbconvert_exporter": "python",
   "pygments_lexer": "ipython3",
   "version": "3.6.4"
  }
 },
 "nbformat": 4,
 "nbformat_minor": 2
}
