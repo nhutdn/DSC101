{
 "cells": [
  {
   "cell_type": "markdown",
   "metadata": {},
   "source": [
    "# Amphi 6 - Regression [1] - Linear Regression, Polynomial Regression, Ridge and Lasso"
   ]
  },
  {
   "cell_type": "markdown",
   "metadata": {},
   "source": [
    "# 1. Linear Regression"
   ]
  },
  {
   "cell_type": "markdown",
   "metadata": {},
   "source": [
    "In regression problem, we would like to predict values of a variable $y$ as a function of some variable $\\mathbf X \\in \\mathbf R^D$. \n",
    "\n",
    "Let $\\mathbf X_1, \\ldots, \\mathbf X_N$ and $y_1, \\ldots, y_N$ be some observations of $\\mathbf X$ and $y$, respectively. We want to define a function $g(\\mathbf X)$ to describe the relation between $y$ and $g(\\mathbf X)$, hopefully $y \\approx g(\\mathbf X)$. "
   ]
  },
  {
   "cell_type": "markdown",
   "metadata": {},
   "source": [
    "## 1.1 The loss function"
   ]
  },
  {
   "cell_type": "markdown",
   "metadata": {},
   "source": [
    "We define a **loss function** $L(g, \\mathbf X, y)$ which has small value when $f(\\mathbf X) \\approx y$ and greater value when $f(\\mathbf X)$ is far from $y$.  \n",
    "\n",
    "In regression, one of the most common choices is the **square loss**. It is convenient for differentiation calculus.\n",
    "\n",
    "**Quadratic loss (with respect to the estimation of $y$ by $g(\\mathbf X)$**\n",
    "$$ L(g, \\mathbf X, y) = \\vert y - g(\\mathbf X) \\vert^2 $$\n",
    "\n",
    "Suppose that $g(\\mathbf X)$ is a good prediction of $y$, then $g(\\mathbf X_i) \\approx y_i$ for $N$ observations $(\\mathbf X_i, y_i), i = 1, \\ldots, N$. In practice, we can define the loss with respect to the estimation of $y_1, \\ldots, y_N$ by $g(\\mathbf X_1), \\ldots, g(\\mathbf X_N)$ as the sum of square loss on each observation.\n",
    "\n",
    "**Quadratic loss (for $ N $ observations)**\n",
    "$$ L(g, \\mathbf X_1, \\ldots, \\mathbf X_N, y_1, \\ldots, y_N) = \\sum_{n=1}^N \\vert y_n - g(\\mathbf X_n) \\vert^2 $$\n",
    "\n",
    "This loss is also called the squared error/squared loss function.\n",
    "Its mean $$\\frac1N L(g, \\mathbf X_1, \\ldots, \\mathbf X_N, y_1, \\ldots, y_N) $$ is called the **mean-squared error**.\n",
    "Its square root $$\\sqrt {\\frac1N L(g, \\mathbf X_1, \\ldots, \\mathbf X_N, y_1, \\ldots, y_N) }$$ is called the **root-mean-squared error** (RMSE)."
   ]
  },
  {
   "cell_type": "markdown",
   "metadata": {},
   "source": [
    "## 1.2 Linear model"
   ]
  },
  {
   "cell_type": "markdown",
   "metadata": {},
   "source": [
    "In regression, the model is called linear if $g(\\mathbf X)$ is of the form:\n",
    "$$\n",
    "g(\\mathbf X) = \\mathbf X \\cdot \\mathbf w + b\n",
    "$$\n",
    "where $\\mathbf w \\in \\mathbf R^D$, $\\mathbf b \\in \\mathbf R$.\n",
    "\n",
    "By adding a new coordinate to variable $\\mathbf X$ if necessary, we can suppose that the last coordinate of $\\mathbf X$ is always 1. Then the linear model have the form:\n",
    "$$\n",
    "g(\\mathbf X) = \\mathbf X \\cdot \\mathbf w\n",
    "$$\n",
    "Here $b$ in the first representation become the last coordinate of $\\mathbf w$.\n",
    "\n",
    "Hence, without loss of generality, we will use $g(\\mathbf X) = \\mathbf X \\cdot \\mathbf w$ as the general form of linear models."
   ]
  },
  {
   "cell_type": "markdown",
   "metadata": {},
   "source": [
    "## 1.3 Minimizing the loss function"
   ]
  },
  {
   "cell_type": "markdown",
   "metadata": {},
   "source": [
    "If we choose the square loss as our loss function (a criterion to evaluate which model is better), linear model as our model, and the observation $(\\mathbf X_n, y_n)_{n = 1, \\ldots, N}$ as training data, then the evident strategy is to find $\\mathbf w$ that minimizes the loss function over the training data. The problems becomes:\n",
    "\n",
    "$$\n",
    "\\max\\limits_{\\mathbf w \\in \\mathbf R^D} \\sum_{n=1}^N \\vert y_n - \\mathbf X_n \\cdot \\mathbf w \\vert^2\n",
    "$$\n",
    "\n",
    "Let $\\mathbf y = (y_1, \\ldots, y_N)^t$ denote the vector in $\\mathbf R^N$ whose coordinates are the $N$ observations of $y$, and $\\mathbf \\Phi$ denote the matrix in $\\mathbf R^{N \\times D}$ whose rows are $\\mathbf X_n^t$, the $N$ observations of $X$.\n",
    "\n",
    "Then $\\sum_{n=1}^N \\vert y_n - \\mathbf X_n \\cdot \\mathbf w \\vert^2$ becomes $\\Vert \\mathbf y - \\mathbf \\Phi \\mathbf w \\Vert^2$. The problem becomes:\n",
    "\n",
    "$$\n",
    "\\max\\limits_{\\mathbf w \\in \\mathbf R^D} \\Vert \\mathbf y - \\mathbf \\Phi \\mathbf w \\Vert^2\n",
    "$$\n",
    "\n",
    "Let $\\mathcal L(\\mathbf w) = \\Vert \\mathbf y - \\mathbf \\Phi \\cdot \\mathbf w \\Vert^2$. This is a function $\\mathbf R^D \\to \\mathbf R$, convex in $\\mathbf w$, hence a local minimum (if exists) will be unique and minimize the function.\n",
    "\n",
    "The minimum can be found by solving:\n",
    "$$\n",
    "\\nabla_{\\mathbf w} \\mathcal L = \\mathbf 0 \\Leftrightarrow 2\\mathbf \\Phi^t(\\mathbf \\Phi \\mathbf w - \\mathbf y) = 0\n",
    "$$\n",
    "$$\n",
    "\\Leftrightarrow \\mathbf \\Phi^t \\mathbf \\Phi \\mathbf w = \\mathbf \\Phi^t \\mathbf y\n",
    "$$\n",
    "\n",
    "In case $\\mathbf \\Phi^t \\mathbf \\Phi$ invertible, the solution is\n",
    "$$\n",
    "\\hat{\\mathbf w} = (\\mathbf \\Phi^t \\mathbf \\Phi)^{-1} \\mathbf \\Phi^t \\mathbf y\n",
    "$$"
   ]
  },
  {
   "cell_type": "markdown",
   "metadata": {},
   "source": [
    "If $\\Phi^t\\Phi$ is not invertible, the inverse can be replace by the (Moore-Penrose) pseudo inverse matrix or any generalized pseudo inverse.\n",
    "$$\n",
    "\\hat{ \\mathbf w} = (\\mathbf \\Phi^t \\mathbf \\Phi)^{+} \\mathbf \\Phi^t \\mathbf y\n",
    "$$"
   ]
  },
  {
   "cell_type": "markdown",
   "metadata": {},
   "source": [
    "## 1.4 The Moore-Penrose pseudo inverse matrix in Python"
   ]
  },
  {
   "cell_type": "markdown",
   "metadata": {},
   "source": [
    "Use **numpy.linalg.pinv** to find the pseudo inverse."
   ]
  },
  {
   "cell_type": "code",
   "execution_count": 2,
   "metadata": {},
   "outputs": [
    {
     "name": "stdout",
     "output_type": "stream",
     "text": [
      "[[ 2  3  4]\n",
      " [ 3  5  7]\n",
      " [ 4  7 10]]\n"
     ]
    }
   ],
   "source": [
    "import numpy as np\n",
    "X = np.array([[1, 1, 1], [1, 2, 3]])\n",
    "y = np.array([2, 3])\n",
    "print X.transpose().dot(X) "
   ]
  },
  {
   "cell_type": "code",
   "execution_count": 3,
   "metadata": {},
   "outputs": [],
   "source": [
    "#np.linalg.inv(X.transpose().dot(X) )"
   ]
  },
  {
   "cell_type": "code",
   "execution_count": 4,
   "metadata": {},
   "outputs": [
    {
     "name": "stdout",
     "output_type": "stream",
     "text": [
      "[[ 2.02777778  0.44444444 -1.13888889]\n",
      " [ 0.44444444  0.11111111 -0.22222222]\n",
      " [-1.13888889 -0.22222222  0.69444444]]\n"
     ]
    }
   ],
   "source": [
    "print np.linalg.pinv(X.transpose().dot(X))"
   ]
  },
  {
   "cell_type": "code",
   "execution_count": 5,
   "metadata": {},
   "outputs": [
    {
     "name": "stdout",
     "output_type": "stream",
     "text": [
      "[1.16666667 0.66666667 0.16666667]\n"
     ]
    }
   ],
   "source": [
    "w = np.linalg.pinv(X.transpose().dot(X)).dot(X.transpose()).dot(y)\n",
    "print w"
   ]
  },
  {
   "cell_type": "code",
   "execution_count": 6,
   "metadata": {},
   "outputs": [
    {
     "name": "stdout",
     "output_type": "stream",
     "text": [
      "[ 5.  8. 11.]\n"
     ]
    }
   ],
   "source": [
    "print (X.transpose().dot(X)).dot(w) #Phi^t Phi w"
   ]
  },
  {
   "cell_type": "code",
   "execution_count": 7,
   "metadata": {},
   "outputs": [
    {
     "name": "stdout",
     "output_type": "stream",
     "text": [
      "[ 5  8 11]\n"
     ]
    }
   ],
   "source": [
    "print (X.transpose().dot(y)) #Phi^t y"
   ]
  },
  {
   "cell_type": "markdown",
   "metadata": {},
   "source": [
    "## 1.5 Complexity"
   ]
  },
  {
   "cell_type": "markdown",
   "metadata": {},
   "source": [
    "The solution in closed form can be found in $O(ND^2)$ (case $D << N$) or $O(D^3)$ (case $N << D$)."
   ]
  },
  {
   "cell_type": "markdown",
   "metadata": {},
   "source": [
    "# 2 Probabilistic Model for Linear Regression"
   ]
  },
  {
   "cell_type": "markdown",
   "metadata": {},
   "source": [
    "## 2.1 Hypothesis\n",
    "\n",
    "Suppose that the random variable $\\mathbf X \\in \\mathbf R^D$ and the random variable $y$ satisfying:\n",
    "\n",
    "- The distribution of $\\mathbf X$ is arbitrary.\n",
    "- \n",
    "$$\n",
    "y|\\mathbf X \\sim \\mathcal N \\left(\\mathbf X \\cdot \\mathbf w, \\sigma \\right) \n",
    "$$\n",
    "\n",
    "for some unknown vector $\\mathbf w$. Equivalently,\n",
    "\n",
    "$$\n",
    "p(y | \\mathbf X) = \\frac1{\\sqrt{2\\pi}\\sigma} \\exp\\left( -\\frac{|y - \\mathbf X \\cdot \\mathbf w|^2}{2\\sigma^2}\\right)\n",
    "$$\n",
    "\n",
    "Or equivalently,\n",
    "$$\n",
    "y = \\mathbf X \\cdot \\mathbf w + \\epsilon\n",
    "$$\n",
    "where $\\epsilon$ is some white noise ($\\epsilon \\sim \\mathcal N(0, \\sigma)$), independent of $\\mathbf X$ and independent across observations."
   ]
  },
  {
   "cell_type": "markdown",
   "metadata": {},
   "source": [
    "## 2.2 Likelihood function\n",
    "\n",
    "Consequence of assumption: $y$ is independent across observations, conditional on $\\mathbf X$, i.e., if $(\\mathbf X_i, y_i)$, $(\\mathbf X_j, y_j)$ are observations of $(\\mathbf X, y)$, then\n",
    "\n",
    "$$\n",
    "p(y_i, y_j | \\mathbf X_i, \\mathbf X_j) = p(y_i| \\mathbf X_i)p(y_j | \\mathbf X_j)\n",
    "$$\n",
    "\n",
    "Given $N$ observations of $\\mathbf X, y$ as observations of $N$ iid variables following the same rule as $(\\mathbf X, y)$. Then:\n",
    "$$\n",
    "p(y_1, \\ldots, y_N | \\mathbf X_1, \\ldots, \\mathbf X_N) = p(y_1| \\mathbf X_1) \\ldots p(y_N | \\mathbf X_N) \n",
    "$$\n",
    "\n",
    "This is a function of $\\mathbf w, \\sigma$; is called the likelihood function of observing the data:\n",
    "\n",
    "$$\n",
    "p(y_1, \\ldots, y_N | \\mathbf X_1, \\ldots, \\mathbf X_N; \\mathbf w, \\sigma) = \\prod_{n=1}^N \\frac{1}{\\sqrt{2\\pi}\\sigma} \\exp \\left(-\\frac{|y_n - \\mathbf X_n \\cdot \\mathbf w|^2}{2\\sigma^2} \\right) = (2\\pi)^{-N/2} \\sigma^{-N} \\exp\\left( - \\sum_{n=1}^N \\frac{|y_n - \\mathbf X_n \\cdot \\mathbf w|^2}{2\\sigma^2} \\right)\n",
    "$$\n",
    "\n",
    "The probabilistic model of linear regression aims to maximize this function with respect to $\\mathbf w, \\sigma$. Equivalently, we minimize the negative **log-likelihood**:\n",
    "\n",
    "$$\n",
    "L(\\mathbf w, \\sigma) = -\\frac N{2} \\log 2\\pi - N \\log \\sigma - \\frac 1 {2\\sigma^2} \\sum_{n=1}^N |y_n - \\mathbf X_n \\cdot \\mathbf w|^2\n",
    "$$"
   ]
  },
  {
   "cell_type": "markdown",
   "metadata": {},
   "source": [
    "## 2.3 The estimators\n",
    "\n",
    "The solution of the minimization problem can be found by deriving the function $L$ wrt $\\mathbf w$, $\\mathbf \\sigma$. This is a convex function in $\\mathbf w$.\n",
    "$$\n",
    "\\hat{\\mathbf w} = (\\mathbf \\Phi^t \\mathbf \\Phi)^{-1} \\mathbf \\Phi^t \\mathbf y\n",
    "$$\n",
    "\n",
    "$$\n",
    "\\hat \\sigma^2 = \\frac1N \\sum_{n=1}^N \\left( y_n - \\mathbf X_n \\cdot \\hat{\\mathbf w} \\right)^2 = \\frac1N \\Vert \\mathbf y - \\mathbf \\Phi \\hat{\\mathbf w} \\Vert^2\n",
    "$$\n",
    "\n",
    "The estimator $\\hat {\\mathbf w}$ is unbiased: $\\mathbf E[\\hat{\\mathbf w}] = \\mathbf w$.\n",
    "\n",
    "The estimator $\\hat {\\sigma}$ is biased: $\\mathbf E [\\hat {\\sigma}^2] = \\frac{N-D}{N} \\sigma^2$. When $\\mathbf E [\\hat {\\sigma}^2] < \\sigma^2$, we say that the $\\sigma$ is underestimated. We can use $\\frac{N}{N-D}\\hat{\\sigma}$ as an unbiased estimator for $\\sigma$."
   ]
  },
  {
   "cell_type": "markdown",
   "metadata": {},
   "source": [
    "# 3. Implementation of Linear Regression in scikit-learn"
   ]
  },
  {
   "cell_type": "markdown",
   "metadata": {},
   "source": [
    "In scikit learn, linear regression model is implemented by **`LinearRegression`** class.\n",
    "\n",
    "http://scikit-learn.org/stable/modules/generated/sklearn.linear_model.LinearRegression.html\n",
    "\n",
    "**Parameters:**\n",
    "- `fit_intercept`: `True` when the intercept (coefficient of degree 0 is 0)\n",
    "- `normalize`: `True` if we want to normalize the columns\n",
    "\n",
    "**Attributes:**\n",
    "- `coef_`\n",
    "- `intercept_`\n",
    "\n",
    "**Methods:**\n",
    "- `fit`\n",
    "- `predict`\n",
    "- `score`: The R2-score (Coefficient of determination) evaluated on test set.\n",
    "\n",
    "**Remind**:\n",
    "R2-score: https://fr.wikipedia.org/wiki/Coefficient_de_d%C3%A9termination"
   ]
  },
  {
   "cell_type": "markdown",
   "metadata": {},
   "source": [
    "### Example:"
   ]
  },
  {
   "cell_type": "markdown",
   "metadata": {},
   "source": [
    "We simulate a case $y = \\mathbf X \\cdot \\mathbf w + b + \\epsilon$ where $\\epsilon$ is a white noise (some Gaussian distribution of mean 0 and variance $\\sigma^2 = 0.01$)."
   ]
  },
  {
   "cell_type": "code",
   "execution_count": 8,
   "metadata": {},
   "outputs": [
    {
     "data": {
      "text/plain": [
       "LinearRegression(copy_X=True, fit_intercept=True, n_jobs=1, normalize=False)"
      ]
     },
     "execution_count": 8,
     "metadata": {},
     "output_type": "execute_result"
    }
   ],
   "source": [
    "import numpy as np\n",
    "np.random.seed(0)\n",
    "from sklearn.linear_model import LinearRegression\n",
    "\n",
    "TEST_SIZE = 0.2\n",
    "TRAIN_TEST_SPLIT_RANDOM_STATE = 0\n",
    "\n",
    "w = np.array([1.5, -2.1, 4, 0, -1.3])\n",
    "b = 2\n",
    "sigma = 0.1\n",
    "\n",
    "D = 5\n",
    "N = 10000\n",
    "\n",
    "X = np.random.uniform(-5, 5, [N, D])\n",
    "epsilon = np.random.normal(0, sigma, N)\n",
    "y = X.dot(w) + b + epsilon\n",
    "\n",
    "\n",
    "lr_model = LinearRegression()\n",
    "lr_model.fit(X, y)"
   ]
  },
  {
   "cell_type": "markdown",
   "metadata": {},
   "source": [
    "We retrieved the coefficients"
   ]
  },
  {
   "cell_type": "code",
   "execution_count": 9,
   "metadata": {},
   "outputs": [
    {
     "data": {
      "text/plain": [
       "(array([ 1.49938033e+00, -2.09964527e+00,  4.00031001e+00,  7.13504117e-04,\n",
       "        -1.30053577e+00]), 1.999665613542589)"
      ]
     },
     "execution_count": 9,
     "metadata": {},
     "output_type": "execute_result"
    }
   ],
   "source": [
    "lr_model.coef_, lr_model.intercept_"
   ]
  },
  {
   "cell_type": "markdown",
   "metadata": {},
   "source": [
    "The approximation"
   ]
  },
  {
   "cell_type": "code",
   "execution_count": 10,
   "metadata": {},
   "outputs": [
    {
     "data": {
      "text/html": [
       "<div>\n",
       "<style scoped>\n",
       "    .dataframe tbody tr th:only-of-type {\n",
       "        vertical-align: middle;\n",
       "    }\n",
       "\n",
       "    .dataframe tbody tr th {\n",
       "        vertical-align: top;\n",
       "    }\n",
       "\n",
       "    .dataframe thead th {\n",
       "        text-align: right;\n",
       "    }\n",
       "</style>\n",
       "<table border=\"1\" class=\"dataframe\">\n",
       "  <thead>\n",
       "    <tr style=\"text-align: right;\">\n",
       "      <th></th>\n",
       "      <th>0</th>\n",
       "      <th>1</th>\n",
       "      <th>2</th>\n",
       "      <th>3</th>\n",
       "      <th>4</th>\n",
       "      <th>5</th>\n",
       "      <th>6</th>\n",
       "      <th>7</th>\n",
       "      <th>8</th>\n",
       "      <th>9</th>\n",
       "      <th>...</th>\n",
       "      <th>9990</th>\n",
       "      <th>9991</th>\n",
       "      <th>9992</th>\n",
       "      <th>9993</th>\n",
       "      <th>9994</th>\n",
       "      <th>9995</th>\n",
       "      <th>9996</th>\n",
       "      <th>9997</th>\n",
       "      <th>9998</th>\n",
       "      <th>9999</th>\n",
       "    </tr>\n",
       "  </thead>\n",
       "  <tbody>\n",
       "    <tr>\n",
       "      <th>0</th>\n",
       "      <td>3.277741</td>\n",
       "      <td>22.668349</td>\n",
       "      <td>13.986498</td>\n",
       "      <td>14.465190</td>\n",
       "      <td>6.347043</td>\n",
       "      <td>30.614259</td>\n",
       "      <td>-2.897176</td>\n",
       "      <td>3.712321</td>\n",
       "      <td>6.841166</td>\n",
       "      <td>-2.561723</td>\n",
       "      <td>...</td>\n",
       "      <td>15.815272</td>\n",
       "      <td>9.788053</td>\n",
       "      <td>13.152335</td>\n",
       "      <td>17.614369</td>\n",
       "      <td>-4.396698</td>\n",
       "      <td>-6.814206</td>\n",
       "      <td>18.662390</td>\n",
       "      <td>-1.90517</td>\n",
       "      <td>-1.540044</td>\n",
       "      <td>-12.746520</td>\n",
       "    </tr>\n",
       "    <tr>\n",
       "      <th>1</th>\n",
       "      <td>3.317423</td>\n",
       "      <td>22.688948</td>\n",
       "      <td>14.070902</td>\n",
       "      <td>14.378545</td>\n",
       "      <td>6.320241</td>\n",
       "      <td>30.484073</td>\n",
       "      <td>-2.783799</td>\n",
       "      <td>3.726107</td>\n",
       "      <td>6.949122</td>\n",
       "      <td>-2.433810</td>\n",
       "      <td>...</td>\n",
       "      <td>15.687191</td>\n",
       "      <td>10.004899</td>\n",
       "      <td>13.247911</td>\n",
       "      <td>17.633092</td>\n",
       "      <td>-4.367921</td>\n",
       "      <td>-6.652553</td>\n",
       "      <td>18.685393</td>\n",
       "      <td>-1.88928</td>\n",
       "      <td>-1.591966</td>\n",
       "      <td>-12.683399</td>\n",
       "    </tr>\n",
       "  </tbody>\n",
       "</table>\n",
       "<p>2 rows × 10000 columns</p>\n",
       "</div>"
      ],
      "text/plain": [
       "       0          1          2          3         4          5         6     \\\n",
       "0  3.277741  22.668349  13.986498  14.465190  6.347043  30.614259 -2.897176   \n",
       "1  3.317423  22.688948  14.070902  14.378545  6.320241  30.484073 -2.783799   \n",
       "\n",
       "       7         8         9       ...           9990       9991       9992  \\\n",
       "0  3.712321  6.841166 -2.561723    ...      15.815272   9.788053  13.152335   \n",
       "1  3.726107  6.949122 -2.433810    ...      15.687191  10.004899  13.247911   \n",
       "\n",
       "        9993      9994      9995       9996     9997      9998       9999  \n",
       "0  17.614369 -4.396698 -6.814206  18.662390 -1.90517 -1.540044 -12.746520  \n",
       "1  17.633092 -4.367921 -6.652553  18.685393 -1.88928 -1.591966 -12.683399  \n",
       "\n",
       "[2 rows x 10000 columns]"
      ]
     },
     "execution_count": 10,
     "metadata": {},
     "output_type": "execute_result"
    }
   ],
   "source": [
    "y_pred = lr_model.predict(X)\n",
    "import pandas as pd\n",
    "pd.DataFrame([y, y_pred])"
   ]
  },
  {
   "cell_type": "markdown",
   "metadata": {},
   "source": [
    "**R2-score**"
   ]
  },
  {
   "cell_type": "code",
   "execution_count": 11,
   "metadata": {},
   "outputs": [
    {
     "data": {
      "text/plain": [
       "0.999951318606377"
      ]
     },
     "execution_count": 11,
     "metadata": {},
     "output_type": "execute_result"
    }
   ],
   "source": [
    "lr_model.score(X, y)"
   ]
  },
  {
   "cell_type": "markdown",
   "metadata": {},
   "source": [
    "**RMSE**"
   ]
  },
  {
   "cell_type": "code",
   "execution_count": 12,
   "metadata": {},
   "outputs": [
    {
     "data": {
      "text/plain": [
       "0.09976205156094636"
      ]
     },
     "execution_count": 12,
     "metadata": {},
     "output_type": "execute_result"
    }
   ],
   "source": [
    "from sklearn.metrics import mean_squared_error\n",
    "np.sqrt(mean_squared_error(y, y_pred))"
   ]
  },
  {
   "cell_type": "markdown",
   "metadata": {},
   "source": [
    "# 4. Train/Test Split and Cross-validation"
   ]
  },
  {
   "cell_type": "markdown",
   "metadata": {},
   "source": [
    "## 4.1 Train/Test Split"
   ]
  },
  {
   "cell_type": "markdown",
   "metadata": {},
   "source": [
    "In general, we separate the data set into separated parts for training and validation (test) purpose. Method **`train_test_split`** in module **`preprocessing`** allows us to get a random split corresponding to some test size proportion.\n",
    "\n",
    "A widely used proportion for training/test split is 80:20. If data is sufficiently collected, larger test set can be used, for example 50% of the whole data set.\n",
    "\n",
    "**Implementation in Python**\n",
    "http://scikit-learn.org/stable/modules/generated/sklearn.model_selection.train_test_split.html"
   ]
  },
  {
   "cell_type": "code",
   "execution_count": 16,
   "metadata": {},
   "outputs": [
    {
     "name": "stdout",
     "output_type": "stream",
     "text": [
      "RMSE on training set: 0.00993896058188198\n",
      "RMSE on test set: 0.010016366346361138\n"
     ]
    }
   ],
   "source": [
    "import numpy as np\n",
    "np.random.seed(0)\n",
    "from sklearn.linear_model import LinearRegression\n",
    "from sklearn.model_selection import train_test_split\n",
    "\n",
    "w = np.array([1.5, -2.1, 4, 0, -1.3])\n",
    "b = 2\n",
    "sigma = 0.1\n",
    "\n",
    "N = 10000\n",
    "\n",
    "X = np.random.uniform(-5, 5, [N, D])\n",
    "epsilon = np.random.normal(0, sigma, N)\n",
    "y = X.dot(w) + b + epsilon\n",
    "\n",
    "\n",
    "X_train, X_test, y_train, y_test = train_test_split(X, y, test_size=TEST_SIZE, random_state=TRAIN_TEST_SPLIT_RANDOM_STATE)\n",
    "lr_model = LinearRegression()\n",
    "lr_model.fit(X_train, y_train)\n",
    "\n",
    "\n",
    "y_predict_train = lr_model.predict(X_train)\n",
    "sigma_hat = mean_squared_error(y_train, y_predict_train)\n",
    "\n",
    "print \"RMSE on training set:\", sigma_hat\n",
    "\n",
    "y_predict =  lr_model.predict(X_test)\n",
    "RMSE = mean_squared_error(y_test, y_predict)\n",
    "\n",
    "print \"RMSE on test set:\", RMSE"
   ]
  },
  {
   "cell_type": "markdown",
   "metadata": {},
   "source": [
    "## 4.2 Cross-validation\n",
    "\n",
    "**Cross-validation** is a model validation technique for assessing how the results of a statistical analysis will generalize to an independent data set.\n",
    "\n",
    "**K-folds** is a technique of cross-validation that divide a data set into $k$ parts of approximatively equal size, then respectively use $K-1$ parts for training and 1 part for validation. It reduces impacts of particular validation sets on the model evaluation. Hence, cross-validation is usually used for model comparison. \n",
    "\n",
    "**Implementation in Python**\n",
    "http://scikit-learn.org/stable/modules/generated/sklearn.model_selection.cross_val_score.html"
   ]
  },
  {
   "cell_type": "code",
   "execution_count": 17,
   "metadata": {},
   "outputs": [
    {
     "name": "stdout",
     "output_type": "stream",
     "text": [
      "[0.99995296 0.99995201 0.99995048 0.99994935 0.99995108]\n"
     ]
    }
   ],
   "source": [
    "import numpy as np\n",
    "np.random.seed(0)\n",
    "from sklearn.linear_model import LinearRegression\n",
    "from sklearn.model_selection import train_test_split, cross_val_score\n",
    "\n",
    "w = np.array([1.5, -2.1, 4, 0, -1.3])\n",
    "b = 2\n",
    "sigma = 0.1\n",
    "\n",
    "N = 10000\n",
    "\n",
    "X = np.random.uniform(-5, 5, [N, D])\n",
    "epsilon = np.random.normal(0, sigma, N)\n",
    "y = X.dot(w) + b + epsilon\n",
    "\n",
    "lr_model = LinearRegression()\n",
    "scores = cross_val_score(lr_model, X, y, cv=5)\n",
    "\n",
    "print scores"
   ]
  },
  {
   "cell_type": "markdown",
   "metadata": {},
   "source": [
    "We need to specify the score being used:"
   ]
  },
  {
   "cell_type": "code",
   "execution_count": 18,
   "metadata": {},
   "outputs": [
    {
     "name": "stdout",
     "output_type": "stream",
     "text": [
      "[0.00971637 0.00975181 0.01035292 0.0099325  0.01011505]\n"
     ]
    }
   ],
   "source": [
    "lr_model = LinearRegression()\n",
    "scores = cross_val_score(lr_model, X, y, scoring=lambda lr_model, X, y: mean_squared_error(y, lr_model.predict(X)), cv=5)\n",
    "\n",
    "print scores"
   ]
  },
  {
   "cell_type": "markdown",
   "metadata": {},
   "source": [
    "# 5. Polynomial Regression"
   ]
  },
  {
   "cell_type": "markdown",
   "metadata": {},
   "source": [
    "In polynomial regression, we try predicting $y$ using a polynomial of features of $\\mathbf X$ using quadratic loss. Polynomial regression hence can be considered as linear regression on transformed features of $\\mathbf X$. For example, polynomial regression on $\\mathbf X$ using quadratic polynomial:\n",
    "\n",
    "$$\n",
    "y \\approx g(\\mathbf X) = a_{00} + a_{01}X_{1} + \\ldots + a_{0D} X_{D} + \\sum_{i=1}^D a_{ii}X_{i}^2 + \\sum_{1\\leq i<j\\leq D} a_{ij}X_{i}X_{j}\n",
    "$$\n",
    "\n",
    "is like linear regression on 1 (the dummy variable), $X_i$, $X_i^2$, $X_i X_j$.\n",
    "\n",
    "In Python, we can use **PolynomialFeatures** to transform $\\mathbf X$ to higher order features, then use linear regression.\n",
    "\n",
    "http://scikit-learn.org/stable/modules/generated/sklearn.preprocessing.PolynomialFeatures.html"
   ]
  },
  {
   "cell_type": "code",
   "execution_count": 43,
   "metadata": {},
   "outputs": [
    {
     "data": {
      "text/plain": [
       "<matplotlib.legend.Legend at 0xef5b128>"
      ]
     },
     "execution_count": 43,
     "metadata": {},
     "output_type": "execute_result"
    },
    {
     "data": {
      "image/png": "[encoded data removed]",
      "text/plain": [
       "<matplotlib.figure.Figure at 0xea38710>"
      ]
     },
     "metadata": {},
     "output_type": "display_data"
    }
   ],
   "source": [
    "from sklearn.preprocessing import PolynomialFeatures\n",
    "import matplotlib.pyplot as plt\n",
    "%matplotlib inline\n",
    "\n",
    "sigma = 0.1\n",
    "N = 50\n",
    "\n",
    "X = np.random.uniform(-1, 1, [N, 1])\n",
    "epsilon = np.random.normal(0, sigma, N)\n",
    "y = np.sin(np.pi * X[:,0]) + epsilon\n",
    "plt.scatter(X[:,0], y, s=10, color='green')\n",
    "\n",
    "interval = np.linspace(-1, 1, 100)\n",
    "plt.plot(interval, np.sin(np.pi * interval), 'r', label = \"Real function\")\n",
    "\n",
    "DEGREE = 2\n",
    "poly = PolynomialFeatures(degree = DEGREE)\n",
    "new_X = poly.fit_transform(X)\n",
    "\n",
    "lr_model = LinearRegression(fit_intercept = False)\n",
    "lr_model.fit(new_X, y)\n",
    "plt.plot(interval, lr_model.predict(PolynomialFeatures(degree = DEGREE).fit_transform(interval.reshape(-1, 1))), 'b', label=\"Predicted\")\n",
    "    \n",
    "plt.legend()"
   ]
  },
  {
   "cell_type": "markdown",
   "metadata": {},
   "source": [
    "# 6. The Bias-Variance Trade-off"
   ]
  },
  {
   "cell_type": "markdown",
   "metadata": {},
   "source": [
    "## 6.1 Notions\n",
    "\n",
    "Suppose that $y=f(x)+\\epsilon$ where $\\epsilon$ is some white noise ($\\epsilon \\sim \\mathcal N (0, \\sigma^2)$). \n",
    "\n",
    "Let a training set be generated automatically and $\\hat f$ is an estimator (depending on the traing set and the noise). $\\hat f$ is therefore a random varible. For any $x$, let $\\mathbf E_n$ and $\\mathbf E_d$ denote the esperance wrt noise distribution and training data generation distribution.\n",
    "\n",
    "$$\n",
    "\\mathbf E[(y - \\hat f(x))]^2 = \\mathbf E_d\\left[ \\left(\\hat f(x) - \\mathbf E_d [\\hat f(x)] \\right) \\right]^2 + \\left( \\mathbf E_d [\\hat f(x)] - f(x) \\right)^2 + \\mathbf E_n (y - f(x))^2\n",
    "$$\n",
    "\n",
    "- The third term = $\\sigma^2$ is the intrinsic noise of the reality, independent of the model. \n",
    "\n",
    "- The second term is called square of **bias** of $\\hat f$ in comparison with $f$, it is the difference of the real function $f$ with the expected estimator $\\mathbf E_d [\\hat f(x)]$, i.e, the best $\\hat f(x)$ in case sufficient large data set are provided. It depends on choice of model. For example, when approximating a non-linear function using a linear model, in the best case there will still be error in the estimates due to this assumption.\n",
    "\n",
    "- The first term is called **variance** of $\\hat f$. It depends on choice of model. It measures how much the learning method {\\displaystyle {\\hat {f}}(x)} \\hat{f}(x) will move around its mean.\n",
    "\n",
    "We have:\n",
    "\n",
    "<center><strong>\n",
    "```\n",
    "Error = Bias^2 + Variance + Noise\n",
    "```\n",
    "</strong></center>\n",
    "\n",
    "A model that has high bias and low variance is called **underfitting**. It is usually too simple to describe the observations. In case of linear regression, underfitting model gives high RMSE on both training set and test set.\n",
    "\n",
    "A model that has low bias and high variance is called **overfitting**. It is usually sufficiently complex to perfectly fit the training model, but performs very poor on test set."
   ]
  },
  {
   "cell_type": "markdown",
   "metadata": {},
   "source": [
    "## 6.2 Example"
   ]
  },
  {
   "cell_type": "markdown",
   "metadata": {},
   "source": [
    "We want to fit the function $\\sin(\\pi x)$ on \\[-1, 1\\] by using polynomials. Suppose we are provided 50 data points. We wish to use 80% for training and 20% for test."
   ]
  },
  {
   "cell_type": "code",
   "execution_count": 50,
   "metadata": {},
   "outputs": [
    {
     "name": "stdout",
     "output_type": "stream",
     "text": [
      "Fitting by a polynomial of degree 1\n",
      "Train error: 0.222548; Test error: 0.184790.\n",
      "Fitting by a polynomial of degree 2\n",
      "Train error: 0.220713; Test error: 0.196702.\n",
      "Fitting by a polynomial of degree 3\n",
      "Train error: 0.013192; Test error: 0.028559.\n",
      "Fitting by a polynomial of degree 4\n",
      "Train error: 0.012338; Test error: 0.026758.\n",
      "Fitting by a polynomial of degree 5\n",
      "Train error: 0.009271; Test error: 0.011570.\n",
      "Fitting by a polynomial of degree 6\n",
      "Train error: 0.008930; Test error: 0.009874.\n",
      "Fitting by a polynomial of degree 7\n",
      "Train error: 0.008806; Test error: 0.008751.\n",
      "Fitting by a polynomial of degree 8\n",
      "Train error: 0.008629; Test error: 0.008011.\n",
      "Fitting by a polynomial of degree 9\n",
      "Train error: 0.008500; Test error: 0.007647.\n",
      "Fitting by a polynomial of degree 10\n",
      "Train error: 0.008355; Test error: 0.006727.\n",
      "Fitting by a polynomial of degree 11\n",
      "Train error: 0.008290; Test error: 0.008160.\n",
      "Fitting by a polynomial of degree 12\n",
      "Train error: 0.007946; Test error: 0.013955.\n",
      "Fitting by a polynomial of degree 13\n",
      "Train error: 0.007620; Test error: 0.022862.\n",
      "Fitting by a polynomial of degree 14\n",
      "Train error: 0.007581; Test error: 0.017742.\n",
      "Fitting by a polynomial of degree 15\n",
      "Train error: 0.007147; Test error: 0.004870.\n",
      "Fitting by a polynomial of degree 16\n",
      "Train error: 0.006481; Test error: 0.027992.\n",
      "Fitting by a polynomial of degree 17\n",
      "Train error: 0.005966; Test error: 0.104636.\n",
      "Fitting by a polynomial of degree 18\n",
      "Train error: 0.005645; Test error: 0.031818.\n",
      "Fitting by a polynomial of degree 19\n",
      "Train error: 0.004950; Test error: 0.209133.\n",
      "Fitting by a polynomial of degree 20\n",
      "Train error: 0.004377; Test error: 0.465271.\n",
      "Fitting by a polynomial of degree 21\n",
      "Train error: 0.003969; Test error: 0.123100.\n",
      "Fitting by a polynomial of degree 22\n",
      "Train error: 0.003775; Test error: 0.332052.\n"
     ]
    },
    {
     "data": {
      "text/plain": [
       "[<matplotlib.lines.Line2D at 0xfd4d4e0>]"
      ]
     },
     "execution_count": 50,
     "metadata": {},
     "output_type": "execute_result"
    },
    {
     "data": {
      "image/png": "[encoded data removed]",
      "text/plain": [
       "<matplotlib.figure.Figure at 0xfd4d2e8>"
      ]
     },
     "metadata": {},
     "output_type": "display_data"
    }
   ],
   "source": [
    "sigma = 0.1\n",
    "\n",
    "N = 50\n",
    "\n",
    "X = np.random.uniform(-1, 1, [N, 1])\n",
    "epsilon = np.random.normal(0, sigma, N)\n",
    "y = np.sin(np.pi * X[:,0]) + epsilon\n",
    "\n",
    "DEGREES = range(1, 23)\n",
    "train_errs = []\n",
    "test_errs = []\n",
    "\n",
    "for degree in DEGREES:\n",
    "    print(\"Fitting by a polynomial of degree %d\" % degree)\n",
    "    poly = PolynomialFeatures(degree = degree)\n",
    "    new_X = poly.fit_transform(X)\n",
    "    lr_model = LinearRegression(fit_intercept = False)\n",
    "    X_train, X_test, y_train, y_test = train_test_split(new_X, y, test_size=TEST_SIZE, random_state=TRAIN_TEST_SPLIT_RANDOM_STATE)\n",
    "    lr_model.fit(X_train, y_train)\n",
    "    train_error = mean_squared_error(y_train, lr_model.predict(X_train))\n",
    "    test_error = mean_squared_error(y_test, lr_model.predict(X_test))\n",
    "    print(\"Train error: %f; Test error: %f.\" % (train_error, test_error))\n",
    "    train_errs.append(train_error)\n",
    "    test_errs.append(test_error)\n",
    "\n",
    "plt.plot(DEGREES, train_errs, 'r', label=\"Error on training set\")\n",
    "plt.plot(DEGREES, test_errs, 'b', label=\"Error on test set\")   "
   ]
  },
  {
   "cell_type": "markdown",
   "metadata": {},
   "source": [
    "It seems that the model **underfits** for degree = 1, 2; **overfits** for degree >= 15.\n",
    "\n",
    "However, this results depends on our training/test split. Some particular test set can affect the score and make it small. We perform again a trial with cross-validation's help."
   ]
  },
  {
   "cell_type": "code",
   "execution_count": 53,
   "metadata": {},
   "outputs": [
    {
     "name": "stdout",
     "output_type": "stream",
     "text": [
      "Fitting by a polynomial of degree 1\n",
      "Mean of scores: 0.151155; Stddev of scores: 0.117282\n",
      "Fitting by a polynomial of degree 2\n",
      "Mean of scores: 0.162082; Stddev of scores: 0.192915\n",
      "Fitting by a polynomial of degree 3\n",
      "Mean of scores: 0.012542; Stddev of scores: 0.010709\n",
      "Fitting by a polynomial of degree 4\n",
      "Mean of scores: 0.017377; Stddev of scores: 0.025087\n",
      "Fitting by a polynomial of degree 5\n",
      "Mean of scores: 0.011041; Stddev of scores: 0.008618\n",
      "Fitting by a polynomial of degree 6\n",
      "Mean of scores: 0.017440; Stddev of scores: 0.022538\n",
      "Fitting by a polynomial of degree 7\n",
      "Mean of scores: 0.122935; Stddev of scores: 0.473467\n",
      "Fitting by a polynomial of degree 8\n",
      "Mean of scores: 0.090620; Stddev of scores: 0.337924\n",
      "Fitting by a polynomial of degree 9\n",
      "Mean of scores: 0.517138; Stddev of scores: 2.174238\n",
      "Fitting by a polynomial of degree 10\n",
      "Mean of scores: 0.287564; Stddev of scores: 1.173983\n",
      "Fitting by a polynomial of degree 11\n",
      "Mean of scores: 9.513688; Stddev of scores: 41.372326\n",
      "Fitting by a polynomial of degree 12\n",
      "Mean of scores: 11.962750; Stddev of scores: 52.037079\n",
      "Fitting by a polynomial of degree 13\n",
      "Mean of scores: 300.853422; Stddev of scores: 1311.193887\n",
      "Fitting by a polynomial of degree 14\n",
      "Mean of scores: 18.981105; Stddev of scores: 82.644870\n",
      "Fitting by a polynomial of degree 15\n",
      "Mean of scores: 1362.219668; Stddev of scores: 5937.664641\n"
     ]
    },
    {
     "data": {
      "text/plain": [
       "[<matplotlib.lines.Line2D at 0xdd21b70>]"
      ]
     },
     "execution_count": 53,
     "metadata": {},
     "output_type": "execute_result"
    },
    {
     "data": {
      "image/png": "[encoded data removed]",
      "text/plain": [
       "<matplotlib.figure.Figure at 0xf6a2f98>"
      ]
     },
     "metadata": {},
     "output_type": "display_data"
    }
   ],
   "source": [
    "sigma = 0.1\n",
    "\n",
    "N = 50\n",
    "\n",
    "X = np.random.uniform(-1, 1, [N, 1])\n",
    "epsilon = np.random.normal(0, sigma, N)\n",
    "y = np.sin(np.pi * X[:,0]) + epsilon\n",
    "\n",
    "DEGREES = range(1, 16)\n",
    "mean_scores = []\n",
    "std_scores = []\n",
    "\n",
    "for degree in DEGREES:\n",
    "    print(\"Fitting by a polynomial of degree %d\" % degree)\n",
    "    poly = PolynomialFeatures(degree = degree)\n",
    "    new_X = poly.fit_transform(X)\n",
    "    lr_model = LinearRegression(fit_intercept = False)\n",
    "    scores = cross_val_score(lr_model, new_X, y, scoring=lambda lr_model, X, y: mean_squared_error(y, lr_model.predict(X)), cv=20)\n",
    "    print(\"Mean of scores: %f; Stddev of scores: %f\" % (np.mean(scores), np.std(scores)))\n",
    "    mean_scores.append(np.mean(scores))\n",
    "    std_scores.append(np.std(scores))\n",
    "\n",
    "plt.plot(DEGREES, mean_scores, 'r', label=\"Mean of scores\") \n",
    "plt.plot(DEGREES, std_scores, 'b', label=\"Std dev of scores\") "
   ]
  },
  {
   "cell_type": "markdown",
   "metadata": {},
   "source": [
    "This, again, suggests us choose polynomial of degree 3, 4, 5 for best fitting."
   ]
  },
  {
   "cell_type": "markdown",
   "metadata": {},
   "source": [
    "**Degree 2 - An underfitting model**"
   ]
  },
  {
   "cell_type": "code",
   "execution_count": 65,
   "metadata": {},
   "outputs": [
    {
     "data": {
      "text/plain": [
       "<matplotlib.legend.Legend at 0x11afca20>"
      ]
     },
     "execution_count": 65,
     "metadata": {},
     "output_type": "execute_result"
    },
    {
     "data": {
      "image/png": "[encoded data removed]",
      "text/plain": [
       "<matplotlib.figure.Figure at 0x11d45dd8>"
      ]
     },
     "metadata": {},
     "output_type": "display_data"
    }
   ],
   "source": [
    "sigma = 0.1\n",
    "N = 50\n",
    "\n",
    "X = np.random.uniform(-1, 1, [N, 1])\n",
    "epsilon = np.random.normal(0, sigma, N)\n",
    "y = np.sin(np.pi * X[:,0]) + epsilon\n",
    "plt.scatter(X[:,0], y, s=10, color='green')\n",
    "\n",
    "interval = np.linspace(-1, 1, 100)\n",
    "plt.plot(interval, np.sin(np.pi * interval), 'r', label = \"Real function\")\n",
    "\n",
    "DEGREE = 2\n",
    "NB_STATES = 10\n",
    "poly = PolynomialFeatures(degree = DEGREE)\n",
    "new_X = poly.fit_transform(X)\n",
    "\n",
    "for i in range(NB_STATES):\n",
    "    X_train, X_test, y_train, y_test = train_test_split(new_X, y, test_size=TEST_SIZE, random_state=i)\n",
    "    lr_model = LinearRegression(fit_intercept = False)\n",
    "    lr_model.fit(X_train, y_train)\n",
    "    interval_transformed = poly.fit_transform(interval.reshape(-1, 1))\n",
    "    plt.plot(interval, lr_model.predict(PolynomialFeatures(degree = DEGREE).fit_transform(interval.reshape(-1, 1))), 'b')\n",
    "    \n",
    "plt.legend()"
   ]
  },
  {
   "cell_type": "markdown",
   "metadata": {},
   "source": [
    "**Degree 3 - A good model**"
   ]
  },
  {
   "cell_type": "code",
   "execution_count": 66,
   "metadata": {},
   "outputs": [
    {
     "data": {
      "text/plain": [
       "<matplotlib.legend.Legend at 0x11d459b0>"
      ]
     },
     "execution_count": 66,
     "metadata": {},
     "output_type": "execute_result"
    },
    {
     "data": {
      "image/png": "[encoded data removed]",
      "text/plain": [
       "<matplotlib.figure.Figure at 0x1200ea58>"
      ]
     },
     "metadata": {},
     "output_type": "display_data"
    }
   ],
   "source": [
    "sigma = 0.1\n",
    "N = 50\n",
    "\n",
    "X = np.random.uniform(-1, 1, [N, 1])\n",
    "epsilon = np.random.normal(0, sigma, N)\n",
    "y = np.sin(np.pi * X[:,0]) + epsilon\n",
    "plt.scatter(X[:,0], y, s=10, color='green')\n",
    "\n",
    "interval = np.linspace(-1, 1, 100)\n",
    "plt.plot(interval, np.sin(np.pi * interval), 'r', label = \"Real function\")\n",
    "\n",
    "DEGREE = 3\n",
    "NB_STATES = 10\n",
    "poly = PolynomialFeatures(degree = DEGREE)\n",
    "new_X = poly.fit_transform(X)\n",
    "\n",
    "for i in range(NB_STATES):\n",
    "    X_train, X_test, y_train, y_test = train_test_split(new_X, y, test_size=TEST_SIZE, random_state=i)\n",
    "    lr_model = LinearRegression(fit_intercept = False)\n",
    "    lr_model.fit(X_train, y_train)\n",
    "    interval_transformed = poly.fit_transform(interval.reshape(-1, 1))\n",
    "    plt.plot(interval, lr_model.predict(PolynomialFeatures(degree = DEGREE).fit_transform(interval.reshape(-1, 1))), 'b')\n",
    "\n",
    "plt.legend()"
   ]
  },
  {
   "cell_type": "markdown",
   "metadata": {},
   "source": [
    "**Degree 15 - An overfiiting model**"
   ]
  },
  {
   "cell_type": "code",
   "execution_count": 69,
   "metadata": {},
   "outputs": [
    {
     "data": {
      "text/plain": [
       "<matplotlib.legend.Legend at 0x11d5b400>"
      ]
     },
     "execution_count": 69,
     "metadata": {},
     "output_type": "execute_result"
    },
    {
     "data": {
      "image/png": "[encoded data removed]",
      "text/plain": [
       "<matplotlib.figure.Figure at 0x12721710>"
      ]
     },
     "metadata": {},
     "output_type": "display_data"
    }
   ],
   "source": [
    "sigma = 0.1\n",
    "N = 50\n",
    "\n",
    "X = np.random.uniform(-1, 1, [N, 1])\n",
    "epsilon = np.random.normal(0, sigma, N)\n",
    "y = np.sin(np.pi * X[:,0]) + epsilon\n",
    "plt.scatter(X[:,0], y, s=10, color='green')\n",
    "\n",
    "interval = np.linspace(-1, 1, 100)\n",
    "plt.plot(interval, np.sin(np.pi * interval), 'r', label = \"Real function\")\n",
    "\n",
    "DEGREE = 15\n",
    "NB_STATES = 10\n",
    "poly = PolynomialFeatures(degree = DEGREE)\n",
    "new_X = poly.fit_transform(X)\n",
    "\n",
    "for i in range(NB_STATES):\n",
    "    X_train, X_test, y_train, y_test = train_test_split(new_X, y, test_size=TEST_SIZE, random_state=i)\n",
    "    lr_model = LinearRegression(fit_intercept = False)\n",
    "    lr_model.fit(X_train, y_train)\n",
    "    interval_transformed = poly.fit_transform(interval.reshape(-1, 1))\n",
    "    plt.plot(interval, lr_model.predict(PolynomialFeatures(degree = DEGREE).fit_transform(interval.reshape(-1, 1))), 'b')\n",
    "    #plt.plot(interval[10:90], lr_model.predict(PolynomialFeatures(degree = DEGREE).fit_transform(interval.reshape(-1, 1)))[10:90], 'b')\n",
    "\n",
    "plt.legend()"
   ]
  },
  {
   "cell_type": "code",
   "execution_count": 70,
   "metadata": {},
   "outputs": [
    {
     "data": {
      "text/plain": [
       "<matplotlib.legend.Legend at 0x128fd358>"
      ]
     },
     "execution_count": 70,
     "metadata": {},
     "output_type": "execute_result"
    },
    {
     "data": {
      "image/png": "[encoded data removed]",
      "text/plain": [
       "<matplotlib.figure.Figure at 0x12297d30>"
      ]
     },
     "metadata": {},
     "output_type": "display_data"
    }
   ],
   "source": [
    "plt.scatter(X[:,0], y, s=10, color='green')\n",
    "plt.plot(interval, np.sin(np.pi * interval), 'r', label = \"Real function\")\n",
    "\n",
    "for i in range(NB_STATES):\n",
    "    X_train, X_test, y_train, y_test = train_test_split(new_X, y, test_size=TEST_SIZE, random_state=i)\n",
    "    lr_model = LinearRegression(fit_intercept = False)\n",
    "    lr_model.fit(X_train, y_train)\n",
    "    interval_transformed = poly.fit_transform(interval.reshape(-1, 1))\n",
    "    #plt.plot(interval, lr_model.predict(PolynomialFeatures(degree = DEGREE).fit_transform(interval.reshape(-1, 1))), 'b')\n",
    "    plt.plot(interval[10:90], lr_model.predict(PolynomialFeatures(degree = DEGREE).fit_transform(interval.reshape(-1, 1)))[10:90], 'b')\n",
    "\n",
    "plt.legend()"
   ]
  },
  {
   "cell_type": "markdown",
   "metadata": {},
   "source": [
    "## 6.3 Improve Underfitting and Overfitting Models"
   ]
  },
  {
   "cell_type": "markdown",
   "metadata": {},
   "source": [
    "To improve underfitting model, in general, we need to introduce new features that are aimed to explain the observed data.\n",
    "\n",
    "To improve overfitting model, we can use larger data set and/or remove useless features. **Feature Selection** is a non-trivial problem in machine learning."
   ]
  },
  {
   "cell_type": "markdown",
   "metadata": {},
   "source": [
    "# 7. Feature Selection \\[1\\]: Backward Elimination\n",
    "\n",
    "This is one of the simplest technique for feature selection.\n",
    "\n",
    "**Backward Elimination Algorithm** (**Backward Stepwise Regression**)\n",
    "\n",
    "1. Choose a significant level.\n",
    "2. Train a linear regressor with all $D$ variables\n",
    "3. Remove the variable with the biggest p-value.\n",
    "4. Repeat:\n",
    " - Train a linear regressor with the remaining variables\n",
    " - Remove the variable with the biggest p-value.\n",
    " \n",
    " Until no p-value exceed the significant level."
   ]
  },
  {
   "cell_type": "code",
   "execution_count": 74,
   "metadata": {},
   "outputs": [
    {
     "data": {
      "text/html": [
       "<div>\n",
       "<style scoped>\n",
       "    .dataframe tbody tr th:only-of-type {\n",
       "        vertical-align: middle;\n",
       "    }\n",
       "\n",
       "    .dataframe tbody tr th {\n",
       "        vertical-align: top;\n",
       "    }\n",
       "\n",
       "    .dataframe thead th {\n",
       "        text-align: right;\n",
       "    }\n",
       "</style>\n",
       "<table border=\"1\" class=\"dataframe\">\n",
       "  <thead>\n",
       "    <tr style=\"text-align: right;\">\n",
       "      <th></th>\n",
       "      <th>0</th>\n",
       "      <th>1</th>\n",
       "      <th>2</th>\n",
       "      <th>3</th>\n",
       "      <th>4</th>\n",
       "      <th>5</th>\n",
       "      <th>6</th>\n",
       "      <th>7</th>\n",
       "      <th>8</th>\n",
       "      <th>9</th>\n",
       "      <th>10</th>\n",
       "    </tr>\n",
       "  </thead>\n",
       "  <tbody>\n",
       "    <tr>\n",
       "      <th>0</th>\n",
       "      <td>1.0</td>\n",
       "      <td>0.186191</td>\n",
       "      <td>0.034667</td>\n",
       "      <td>0.006455</td>\n",
       "      <td>0.001202</td>\n",
       "      <td>0.000224</td>\n",
       "      <td>0.000042</td>\n",
       "      <td>0.000008</td>\n",
       "      <td>0.000001</td>\n",
       "      <td>2.689275e-07</td>\n",
       "      <td>5.007197e-08</td>\n",
       "    </tr>\n",
       "    <tr>\n",
       "      <th>1</th>\n",
       "      <td>1.0</td>\n",
       "      <td>-0.656279</td>\n",
       "      <td>0.430702</td>\n",
       "      <td>-0.282660</td>\n",
       "      <td>0.185504</td>\n",
       "      <td>-0.121742</td>\n",
       "      <td>0.079897</td>\n",
       "      <td>-0.052435</td>\n",
       "      <td>0.034412</td>\n",
       "      <td>-2.258364e-02</td>\n",
       "      <td>1.482116e-02</td>\n",
       "    </tr>\n",
       "    <tr>\n",
       "      <th>2</th>\n",
       "      <td>1.0</td>\n",
       "      <td>0.879100</td>\n",
       "      <td>0.772817</td>\n",
       "      <td>0.679383</td>\n",
       "      <td>0.597246</td>\n",
       "      <td>0.525039</td>\n",
       "      <td>0.461561</td>\n",
       "      <td>0.405759</td>\n",
       "      <td>0.356702</td>\n",
       "      <td>3.135770e-01</td>\n",
       "      <td>2.756655e-01</td>\n",
       "    </tr>\n",
       "    <tr>\n",
       "      <th>3</th>\n",
       "      <td>1.0</td>\n",
       "      <td>0.596966</td>\n",
       "      <td>0.356368</td>\n",
       "      <td>0.212740</td>\n",
       "      <td>0.126998</td>\n",
       "      <td>0.075814</td>\n",
       "      <td>0.045258</td>\n",
       "      <td>0.027018</td>\n",
       "      <td>0.016129</td>\n",
       "      <td>9.628190e-03</td>\n",
       "      <td>5.747699e-03</td>\n",
       "    </tr>\n",
       "    <tr>\n",
       "      <th>4</th>\n",
       "      <td>1.0</td>\n",
       "      <td>-0.792795</td>\n",
       "      <td>0.628524</td>\n",
       "      <td>-0.498291</td>\n",
       "      <td>0.395043</td>\n",
       "      <td>-0.313188</td>\n",
       "      <td>0.248294</td>\n",
       "      <td>-0.196846</td>\n",
       "      <td>0.156059</td>\n",
       "      <td>-1.237226e-01</td>\n",
       "      <td>9.808670e-02</td>\n",
       "    </tr>\n",
       "  </tbody>\n",
       "</table>\n",
       "</div>"
      ],
      "text/plain": [
       "    0         1         2         3         4         5         6         7   \\\n",
       "0  1.0  0.186191  0.034667  0.006455  0.001202  0.000224  0.000042  0.000008   \n",
       "1  1.0 -0.656279  0.430702 -0.282660  0.185504 -0.121742  0.079897 -0.052435   \n",
       "2  1.0  0.879100  0.772817  0.679383  0.597246  0.525039  0.461561  0.405759   \n",
       "3  1.0  0.596966  0.356368  0.212740  0.126998  0.075814  0.045258  0.027018   \n",
       "4  1.0 -0.792795  0.628524 -0.498291  0.395043 -0.313188  0.248294 -0.196846   \n",
       "\n",
       "         8             9             10  \n",
       "0  0.000001  2.689275e-07  5.007197e-08  \n",
       "1  0.034412 -2.258364e-02  1.482116e-02  \n",
       "2  0.356702  3.135770e-01  2.756655e-01  \n",
       "3  0.016129  9.628190e-03  5.747699e-03  \n",
       "4  0.156059 -1.237226e-01  9.808670e-02  "
      ]
     },
     "execution_count": 74,
     "metadata": {},
     "output_type": "execute_result"
    }
   ],
   "source": [
    "sigma = 0.1\n",
    "N = 50\n",
    "\n",
    "X = np.random.uniform(-1, 1, [N, 1])\n",
    "epsilon = np.random.normal(0, sigma, N)\n",
    "y = np.sin(np.pi * X[:,0]) + epsilon\n",
    "\n",
    "DEGREE = 10\n",
    "NB_STATES = 10\n",
    "poly = PolynomialFeatures(degree = DEGREE)\n",
    "new_X = poly.fit_transform(X)\n",
    "pd.DataFrame(new_X).head()"
   ]
  },
  {
   "cell_type": "markdown",
   "metadata": {},
   "source": [
    "Backward elimination is implemented in library **statsmodels**. It use an OLS class to calculate p-value. It requires data already containing **dummy column**."
   ]
  },
  {
   "cell_type": "code",
   "execution_count": 75,
   "metadata": {},
   "outputs": [
    {
     "data": {
      "text/html": [
       "<table class=\"simpletable\">\n",
       "<caption>OLS Regression Results</caption>\n",
       "<tr>\n",
       "  <th>Dep. Variable:</th>            <td>y</td>        <th>  R-squared:         </th> <td>   0.985</td>\n",
       "</tr>\n",
       "<tr>\n",
       "  <th>Model:</th>                   <td>OLS</td>       <th>  Adj. R-squared:    </th> <td>   0.982</td>\n",
       "</tr>\n",
       "<tr>\n",
       "  <th>Method:</th>             <td>Least Squares</td>  <th>  F-statistic:       </th> <td>   262.4</td>\n",
       "</tr>\n",
       "<tr>\n",
       "  <th>Date:</th>             <td>Wed, 28 Mar 2018</td> <th>  Prob (F-statistic):</th> <td>1.56e-32</td>\n",
       "</tr>\n",
       "<tr>\n",
       "  <th>Time:</th>                 <td>19:03:07</td>     <th>  Log-Likelihood:    </th> <td>  47.824</td>\n",
       "</tr>\n",
       "<tr>\n",
       "  <th>No. Observations:</th>      <td>    50</td>      <th>  AIC:               </th> <td>  -73.65</td>\n",
       "</tr>\n",
       "<tr>\n",
       "  <th>Df Residuals:</th>          <td>    39</td>      <th>  BIC:               </th> <td>  -52.62</td>\n",
       "</tr>\n",
       "<tr>\n",
       "  <th>Df Model:</th>              <td>    10</td>      <th>                     </th>     <td> </td>   \n",
       "</tr>\n",
       "<tr>\n",
       "  <th>Covariance Type:</th>      <td>nonrobust</td>    <th>                     </th>     <td> </td>   \n",
       "</tr>\n",
       "</table>\n",
       "<table class=\"simpletable\">\n",
       "<tr>\n",
       "    <td></td>       <th>coef</th>     <th>std err</th>      <th>t</th>      <th>P>|t|</th>  <th>[0.025</th>    <th>0.975]</th>  \n",
       "</tr>\n",
       "<tr>\n",
       "  <th>const</th> <td>    0.0715</td> <td>    0.048</td> <td>    1.493</td> <td> 0.144</td> <td>   -0.025</td> <td>    0.168</td>\n",
       "</tr>\n",
       "<tr>\n",
       "  <th>x1</th>    <td>    3.4178</td> <td>    0.255</td> <td>   13.388</td> <td> 0.000</td> <td>    2.901</td> <td>    3.934</td>\n",
       "</tr>\n",
       "<tr>\n",
       "  <th>x2</th>    <td>   -1.2098</td> <td>    1.340</td> <td>   -0.903</td> <td> 0.372</td> <td>   -3.920</td> <td>    1.500</td>\n",
       "</tr>\n",
       "<tr>\n",
       "  <th>x3</th>    <td>   -6.4790</td> <td>    2.676</td> <td>   -2.421</td> <td> 0.020</td> <td>  -11.891</td> <td>   -1.067</td>\n",
       "</tr>\n",
       "<tr>\n",
       "  <th>x4</th>    <td>    5.1841</td> <td>    9.579</td> <td>    0.541</td> <td> 0.591</td> <td>  -14.191</td> <td>   24.559</td>\n",
       "</tr>\n",
       "<tr>\n",
       "  <th>x5</th>    <td>    5.1796</td> <td>    9.385</td> <td>    0.552</td> <td> 0.584</td> <td>  -13.804</td> <td>   24.163</td>\n",
       "</tr>\n",
       "<tr>\n",
       "  <th>x6</th>    <td>   -8.8255</td> <td>   26.251</td> <td>   -0.336</td> <td> 0.739</td> <td>  -61.924</td> <td>   44.273</td>\n",
       "</tr>\n",
       "<tr>\n",
       "  <th>x7</th>    <td>   -3.5159</td> <td>   12.900</td> <td>   -0.273</td> <td> 0.787</td> <td>  -29.608</td> <td>   22.577</td>\n",
       "</tr>\n",
       "<tr>\n",
       "  <th>x8</th>    <td>    6.2599</td> <td>   30.446</td> <td>    0.206</td> <td> 0.838</td> <td>  -55.324</td> <td>   67.844</td>\n",
       "</tr>\n",
       "<tr>\n",
       "  <th>x9</th>    <td>    1.4630</td> <td>    5.990</td> <td>    0.244</td> <td> 0.808</td> <td>  -10.652</td> <td>   13.578</td>\n",
       "</tr>\n",
       "<tr>\n",
       "  <th>x10</th>   <td>   -1.5823</td> <td>   12.539</td> <td>   -0.126</td> <td> 0.900</td> <td>  -26.944</td> <td>   23.780</td>\n",
       "</tr>\n",
       "</table>\n",
       "<table class=\"simpletable\">\n",
       "<tr>\n",
       "  <th>Omnibus:</th>       <td> 4.164</td> <th>  Durbin-Watson:     </th> <td>   2.286</td>\n",
       "</tr>\n",
       "<tr>\n",
       "  <th>Prob(Omnibus):</th> <td> 0.125</td> <th>  Jarque-Bera (JB):  </th> <td>   2.682</td>\n",
       "</tr>\n",
       "<tr>\n",
       "  <th>Skew:</th>          <td>-0.377</td> <th>  Prob(JB):          </th> <td>   0.262</td>\n",
       "</tr>\n",
       "<tr>\n",
       "  <th>Kurtosis:</th>      <td> 2.153</td> <th>  Cond. No.          </th> <td>3.33e+03</td>\n",
       "</tr>\n",
       "</table>"
      ],
      "text/plain": [
       "<class 'statsmodels.iolib.summary.Summary'>\n",
       "\"\"\"\n",
       "                            OLS Regression Results                            \n",
       "==============================================================================\n",
       "Dep. Variable:                      y   R-squared:                       0.985\n",
       "Model:                            OLS   Adj. R-squared:                  0.982\n",
       "Method:                 Least Squares   F-statistic:                     262.4\n",
       "Date:                Wed, 28 Mar 2018   Prob (F-statistic):           1.56e-32\n",
       "Time:                        19:03:07   Log-Likelihood:                 47.824\n",
       "No. Observations:                  50   AIC:                            -73.65\n",
       "Df Residuals:                      39   BIC:                            -52.62\n",
       "Df Model:                          10                                         \n",
       "Covariance Type:            nonrobust                                         \n",
       "==============================================================================\n",
       "                 coef    std err          t      P>|t|      [0.025      0.975]\n",
       "------------------------------------------------------------------------------\n",
       "const          0.0715      0.048      1.493      0.144      -0.025       0.168\n",
       "x1             3.4178      0.255     13.388      0.000       2.901       3.934\n",
       "x2            -1.2098      1.340     -0.903      0.372      -3.920       1.500\n",
       "x3            -6.4790      2.676     -2.421      0.020     -11.891      -1.067\n",
       "x4             5.1841      9.579      0.541      0.591     -14.191      24.559\n",
       "x5             5.1796      9.385      0.552      0.584     -13.804      24.163\n",
       "x6            -8.8255     26.251     -0.336      0.739     -61.924      44.273\n",
       "x7            -3.5159     12.900     -0.273      0.787     -29.608      22.577\n",
       "x8             6.2599     30.446      0.206      0.838     -55.324      67.844\n",
       "x9             1.4630      5.990      0.244      0.808     -10.652      13.578\n",
       "x10           -1.5823     12.539     -0.126      0.900     -26.944      23.780\n",
       "==============================================================================\n",
       "Omnibus:                        4.164   Durbin-Watson:                   2.286\n",
       "Prob(Omnibus):                  0.125   Jarque-Bera (JB):                2.682\n",
       "Skew:                          -0.377   Prob(JB):                        0.262\n",
       "Kurtosis:                       2.153   Cond. No.                     3.33e+03\n",
       "==============================================================================\n",
       "\n",
       "Warnings:\n",
       "[1] Standard Errors assume that the covariance matrix of the errors is correctly specified.\n",
       "[2] The condition number is large, 3.33e+03. This might indicate that there are\n",
       "strong multicollinearity or other numerical problems.\n",
       "\"\"\""
      ]
     },
     "execution_count": 75,
     "metadata": {},
     "output_type": "execute_result"
    }
   ],
   "source": [
    "import statsmodels.formula.api as sm\n",
    "\n",
    "SIGNIFICANT_LEVEL = 0.1\n",
    "regressor_OLS = sm.OLS(y, new_X).fit()\n",
    "regressor_OLS.summary()"
   ]
  },
  {
   "cell_type": "markdown",
   "metadata": {},
   "source": [
    "**The p values:**\n"
   ]
  },
  {
   "cell_type": "code",
   "execution_count": 77,
   "metadata": {},
   "outputs": [
    {
     "data": {
      "text/plain": [
       "array([1.43597953e-01, 3.63246418e-16, 3.72016768e-01, 2.02116816e-02,\n",
       "       5.91443472e-01, 5.84176412e-01, 7.38529060e-01, 7.86638105e-01,\n",
       "       8.38170362e-01, 8.08315486e-01, 9.00230298e-01])"
      ]
     },
     "execution_count": 77,
     "metadata": {},
     "output_type": "execute_result"
    }
   ],
   "source": [
    "regressor_OLS.pvalues"
   ]
  },
  {
   "cell_type": "markdown",
   "metadata": {},
   "source": [
    "**Repeating**"
   ]
  },
  {
   "cell_type": "code",
   "execution_count": 86,
   "metadata": {},
   "outputs": [
    {
     "data": {
      "text/plain": [
       "array([0, 1, 3, 5])"
      ]
     },
     "execution_count": 86,
     "metadata": {},
     "output_type": "execute_result"
    }
   ],
   "source": [
    "sigma = 0.1\n",
    "N = 50\n",
    "\n",
    "X = np.random.uniform(-1, 1, [N, 1])\n",
    "epsilon = np.random.normal(0, sigma, N)\n",
    "y = np.sin(np.pi * X[:,0]) + epsilon\n",
    "\n",
    "DEGREE = 10\n",
    "NB_STATES = 10\n",
    "poly = PolynomialFeatures(degree = DEGREE)\n",
    "new_X = poly.fit_transform(X)\n",
    "\n",
    "SIGNIFICANT_LEVEL = 0.1\n",
    "\n",
    "selected = range(DEGREE + 1)\n",
    "for p in range(DEGREE + 1):\n",
    "    regressor_OLS = sm.OLS(y, new_X).fit()\n",
    "    ind = np.argmax(regressor_OLS.pvalues)\n",
    "    if regressor_OLS.pvalues[ind] < SIGNIFICANT_LEVEL:\n",
    "         break\n",
    "    new_X = np.delete(new_X, ind, 1)\n",
    "    selected = np.delete(selected, ind)\n",
    "selected"
   ]
  },
  {
   "cell_type": "markdown",
   "metadata": {},
   "source": [
    "This means the method suggests using polynomial with monomial of degree $0, 1, 3, 5$."
   ]
  },
  {
   "cell_type": "markdown",
   "metadata": {},
   "source": [
    "# 8. Ridge and Lasso (Feature Selection \\[2\\])"
   ]
  },
  {
   "cell_type": "markdown",
   "metadata": {},
   "source": [
    "## 8.1 Penalty method"
   ]
  },
  {
   "cell_type": "markdown",
   "metadata": {},
   "source": [
    "Penalty methods are those which aim to avoid too large features by adding a **regularization term** (**penalty**) to the loss function. This penalty is high for large features."
   ]
  },
  {
   "cell_type": "markdown",
   "metadata": {},
   "source": [
    "## 8.2 Ridge\n",
    "\n",
    "The Ridge Regression model is defined by the solution to the L2 optimization problem minimizing\n",
    "$$\n",
    "\\sum_{n=1}^N \\Vert \\mathbf X_n \\cdot \\mathbf w - y_n \\Vert^2 \n",
    "$$\n",
    "subject to \n",
    "$$\n",
    "\\Vert w\\Vert_{2}^2 = w_1^2 + \\ldots + w_D^2 \\leq C\n",
    "$$\n",
    "for some $C>0$. \n",
    "\n",
    "This optimization problem is equivalent to the following one:\n",
    "$$\n",
    "\\sum_{n=1}^N \\Vert \\mathbf X_n \\cdot \\mathbf w - y_n \\Vert^2 + \\lambda \\Vert \\mathbf w \\Vert^2\n",
    "$$\n",
    "for some $\\lambda > 0$.\n",
    "\n",
    "Solution of this problem:\n",
    "$$\n",
    "(\\mathbf \\Phi^t \\mathbf \\Phi + \\lambda \\mathbf I_D)^{-1} \\mathbf \\Phi^t \\mathbf y\n",
    "$$\n",
    "\n",
    "(using the same notation as in Linear Regression part)\n",
    "\n",
    "Choice of $\\lambda$ is usually derived from pratical trial.\n",
    "\n",
    "**Implementation in Python**\n",
    "http://scikit-learn.org/stable/modules/generated/sklearn.linear_model.Ridge.html"
   ]
  },
  {
   "cell_type": "code",
   "execution_count": 103,
   "metadata": {},
   "outputs": [
    {
     "data": {
      "text/plain": [
       "<matplotlib.legend.Legend at 0x16612dd8>"
      ]
     },
     "execution_count": 103,
     "metadata": {},
     "output_type": "execute_result"
    },
    {
     "data": {
      "image/png": "[encoded data removed]",
      "text/plain": [
       "<matplotlib.figure.Figure at 0x15fbd390>"
      ]
     },
     "metadata": {},
     "output_type": "display_data"
    }
   ],
   "source": [
    "from sklearn.linear_model import LinearRegression, Ridge\n",
    "\n",
    "sigma = 0.1\n",
    "N = 50\n",
    "\n",
    "X = np.random.uniform(-1, 1, [N, 1])\n",
    "epsilon = np.random.normal(0, sigma, N)\n",
    "y = np.sin(np.pi * X[:,0]) + epsilon\n",
    "\n",
    "interval = np.linspace(-1, 1, 100)\n",
    "plt.plot(interval, np.sin(np.pi * interval), 'r', label = \"Real function\")\n",
    "\n",
    "#DEGREE = 2\n",
    "DEGREE = 10\n",
    "NB_STATES = 10\n",
    "poly = PolynomialFeatures(degree = DEGREE)\n",
    "new_X = poly.fit_transform(X)\n",
    "\n",
    "    \n",
    "for i in range(NB_STATES):\n",
    "    X_train, X_test, y_train, y_test = train_test_split(new_X, y, test_size=TEST_SIZE, random_state=i)\n",
    "    lr_model = LinearRegression(fit_intercept = False)\n",
    "    lr_model.fit(X_train, y_train)\n",
    "    interval_transformed = poly.fit_transform(interval.reshape(-1, 1))\n",
    "    plt.plot(interval, lr_model.predict(PolynomialFeatures(degree = DEGREE).fit_transform(interval.reshape(-1, 1))), 'g')\n",
    "    \n",
    "for i in range(NB_STATES):\n",
    "    X_train, X_test, y_train, y_test = train_test_split(new_X, y, test_size=TEST_SIZE, random_state=i)\n",
    "    lr_model = Ridge(fit_intercept = False, alpha = 0.01)\n",
    "    lr_model.fit(X_train, y_train)\n",
    "    interval_transformed = poly.fit_transform(interval.reshape(-1, 1))\n",
    "    plt.plot(interval, lr_model.predict(PolynomialFeatures(degree = DEGREE).fit_transform(interval.reshape(-1, 1))), 'b')\n",
    "\n",
    "\n",
    "plt.legend()"
   ]
  },
  {
   "cell_type": "markdown",
   "metadata": {},
   "source": [
    "## 8.3 Lasso"
   ]
  },
  {
   "cell_type": "markdown",
   "metadata": {},
   "source": [
    "LASSO - Least Absolute Shrinkage and Selection Operator\n",
    "\n",
    "The **lasso** regression model is defined by the solution to the L1 optimization problem\n",
    "minimize\n",
    "$$\n",
    "\\sum_{n=1}^N \\Vert \\mathbf X_n \\cdot \\mathbf w - y_n \\Vert^2 \n",
    "$$\n",
    "subject to \n",
    "$$\n",
    "\\Vert w\\Vert_{1} = |w_1| + \\ldots + |w_D| \\leq C\n",
    "$$\n",
    "for some $C>0$. This optimization problem is equivalent to the following one:\n",
    "$$\n",
    "\\sum_{n=1}^N \\Vert \\mathbf X_n \\cdot \\mathbf w - y_n \\Vert^2 + \\lambda \\Vert \\mathbf w \\Vert_1\n",
    "$$\n",
    "\n",
    "This is a convex optimization problem, hence the solution is unique, but generally cannot be expressed in closed form. Approximative methods are used for solving the optimization problem.\n",
    "\n",
    "**Implementation in Python:** http://scikit-learn.org/stable/modules/generated/sklearn.linear_model.Lasso.html"
   ]
  },
  {
   "cell_type": "code",
   "execution_count": 104,
   "metadata": {},
   "outputs": [
    {
     "data": {
      "text/plain": [
       "<matplotlib.legend.Legend at 0x167246d8>"
      ]
     },
     "execution_count": 104,
     "metadata": {},
     "output_type": "execute_result"
    },
    {
     "data": {
      "image/png": "[encoded data removed]",
      "text/plain": [
       "<matplotlib.figure.Figure at 0x16513630>"
      ]
     },
     "metadata": {},
     "output_type": "display_data"
    }
   ],
   "source": [
    "from sklearn.linear_model import LinearRegression, Lasso\n",
    "\n",
    "sigma = 0.1\n",
    "N = 50\n",
    "\n",
    "X = np.random.uniform(-1, 1, [N, 1])\n",
    "epsilon = np.random.normal(0, sigma, N)\n",
    "y = np.sin(np.pi * X[:,0]) + epsilon\n",
    "\n",
    "interval = np.linspace(-1, 1, 100)\n",
    "plt.plot(interval, np.sin(np.pi * interval), 'r', label = \"Real function\")\n",
    "\n",
    "#DEGREE = 2\n",
    "DEGREE = 10\n",
    "NB_STATES = 10\n",
    "poly = PolynomialFeatures(degree = DEGREE)\n",
    "new_X = poly.fit_transform(X)\n",
    "\n",
    "    \n",
    "for i in range(NB_STATES):\n",
    "    X_train, X_test, y_train, y_test = train_test_split(new_X, y, test_size=TEST_SIZE, random_state=i)\n",
    "    lr_model = LinearRegression(fit_intercept = False)\n",
    "    lr_model.fit(X_train, y_train)\n",
    "    interval_transformed = poly.fit_transform(interval.reshape(-1, 1))\n",
    "    plt.plot(interval, lr_model.predict(PolynomialFeatures(degree = DEGREE).fit_transform(interval.reshape(-1, 1))), 'g')\n",
    "    \n",
    "for i in range(NB_STATES):\n",
    "    X_train, X_test, y_train, y_test = train_test_split(new_X, y, test_size=TEST_SIZE, random_state=i)\n",
    "    lr_model = Lasso(fit_intercept = False, alpha = 0.01)\n",
    "    lr_model.fit(X_train, y_train)\n",
    "    interval_transformed = poly.fit_transform(interval.reshape(-1, 1))\n",
    "    plt.plot(interval, lr_model.predict(PolynomialFeatures(degree = DEGREE).fit_transform(interval.reshape(-1, 1))), 'b')\n",
    "\n",
    "\n",
    "plt.legend()"
   ]
  },
  {
   "cell_type": "markdown",
   "metadata": {},
   "source": [
    "Lasso favorizes sparse solution, hence, can be used for feature selection."
   ]
  },
  {
   "cell_type": "code",
   "execution_count": 105,
   "metadata": {},
   "outputs": [
    {
     "data": {
      "text/plain": [
       "array([ 0.        ,  2.12137952,  0.        , -1.44373853,  0.        ,\n",
       "       -0.76292158,  0.        , -0.        ,  0.        , -0.        ,\n",
       "        0.        ])"
      ]
     },
     "execution_count": 105,
     "metadata": {},
     "output_type": "execute_result"
    }
   ],
   "source": [
    "lr_model.coef_"
   ]
  },
  {
   "cell_type": "code",
   "execution_count": null,
   "metadata": {},
   "outputs": [],
   "source": []
  },
  {
   "cell_type": "markdown",
   "metadata": {
    "collapsed": true
   },
   "source": [
    "[1] http://www.stat.cmu.edu/~cshalizi/mreg/15/lectures/06/lecture-06.pdf\n",
    "\n",
    "[2] https://beta.vu.nl/nl/Images/werkstuk-fonti_tcm235-836234.pdf\n",
    "\n",
    "[3] C. M. Bishop, *Pattern Recognition And Machine Learning*, Springer 2006"
   ]
  },
  {
   "cell_type": "code",
   "execution_count": null,
   "metadata": {},
   "outputs": [],
   "source": []
  }
 ],
 "metadata": {
  "kernelspec": {
   "display_name": "Python 2",
   "language": "python",
   "name": "python2"
  },
  "language_info": {
   "codemirror_mode": {
    "name": "ipython",
    "version": 2
   },
   "file_extension": ".py",
   "mimetype": "text/x-python",
   "name": "python",
   "nbconvert_exporter": "python",
   "pygments_lexer": "ipython2",
   "version": "2.7.14"
  }
 },
 "nbformat": 4,
 "nbformat_minor": 1
}
