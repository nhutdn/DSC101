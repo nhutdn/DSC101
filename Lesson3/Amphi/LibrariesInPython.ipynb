{
 "cells": [
  {
   "cell_type": "markdown",
   "metadata": {},
   "source": [
    "# Amphi 3 - Useful libraries in Python for Numeric Computation and Data Processing"
   ]
  },
  {
   "cell_type": "markdown",
   "metadata": {},
   "source": [
    "# 1. Numpy"
   ]
  },
  {
   "cell_type": "markdown",
   "metadata": {},
   "source": [
    "## 1.1 numpy arrays (numpy.ndarray)"
   ]
  },
  {
   "cell_type": "markdown",
   "metadata": {},
   "source": [
    "A numpy ndarray (numpy array) can represent a list of list of list ... of numbers or str.\n",
    "It implements methods for basic operation on vectors and matrices, hence usually used in linear algebra problems.\n",
    "\n",
    "A numpy array composed of a list or tuple of $k$ numbers or str is said of **ndim** 1 and of **shape** ($k$). In this case we say that the list or tuple is also of **ndim** 1 and **shape** ($k$)."
   ]
  },
  {
   "cell_type": "code",
   "execution_count": 2,
   "metadata": {
    "collapsed": false
   },
   "outputs": [
    {
     "name": "stdout",
     "output_type": "stream",
     "text": [
      "[1 2 3]\n",
      "1\n",
      "(3L,)\n",
      "<type 'numpy.ndarray'>\n"
     ]
    }
   ],
   "source": [
    "import numpy as np\n",
    "A = np.array([1, 2, 3])\n",
    "print(A)\n",
    "print(A.ndim)\n",
    "print(A.shape)\n",
    "print(type(A))"
   ]
  },
  {
   "cell_type": "markdown",
   "metadata": {},
   "source": [
    "Recursively, a numpy array composed of a list/tuple/numpy array of $k$ lists/tuples/numpy arrays, each of which is of **ndim** $n-1$ and **shape** ($k_1, k_2, \\ldots, k_{n-1}$) is said to be of **ndim** $n$ and **shape** ($k, k_1, k_2, \\ldots, k_{n-1}$)."
   ]
  },
  {
   "cell_type": "code",
   "execution_count": 42,
   "metadata": {
    "collapsed": false
   },
   "outputs": [
    {
     "name": "stdout",
     "output_type": "stream",
     "text": [
      "[[1 2 3]\n",
      " [3 4 5]]\n",
      "2\n",
      "(2L, 3L)\n"
     ]
    }
   ],
   "source": [
    "B = np.array([[1, 2, 3], [3, 4, 5]])\n",
    "print(B)\n",
    "print(B.ndim)\n",
    "print(B.shape)"
   ]
  },
  {
   "cell_type": "code",
   "execution_count": 43,
   "metadata": {
    "collapsed": false
   },
   "outputs": [
    {
     "name": "stdout",
     "output_type": "stream",
     "text": [
      "[[[1 2 3]]]\n",
      "3\n",
      "(1L, 1L, 3L)\n"
     ]
    }
   ],
   "source": [
    "C = np.array([[[1, 2, 3]]])\n",
    "print(C)\n",
    "print(C.ndim)\n",
    "print(C.shape)"
   ]
  },
  {
   "cell_type": "markdown",
   "metadata": {},
   "source": [
    "By convention, a scalar (number of string) can also form a numpy array. Its **ndim** is 0 and its **shape** is ()."
   ]
  },
  {
   "cell_type": "code",
   "execution_count": 51,
   "metadata": {
    "collapsed": false
   },
   "outputs": [
    {
     "name": "stdout",
     "output_type": "stream",
     "text": [
      "0\n",
      "()\n"
     ]
    }
   ],
   "source": [
    "N = np.array(1)\n",
    "print(N.ndim)\n",
    "print(N.shape)"
   ]
  },
  {
   "cell_type": "markdown",
   "metadata": {},
   "source": [
    "We can use numpy arrays of **ndim** 1 to represent vectors and numpy arrays of **ndum** 2 to represent matrices."
   ]
  },
  {
   "cell_type": "markdown",
   "metadata": {},
   "source": [
    "We can access and modify elements in a numpy array. Numpy arrays are mutable."
   ]
  },
  {
   "cell_type": "code",
   "execution_count": 70,
   "metadata": {
    "collapsed": false
   },
   "outputs": [
    {
     "name": "stdout",
     "output_type": "stream",
     "text": [
      "Get the first row\n",
      "[1 2 3]\n",
      "Get the first element of the first row\n",
      "1\n",
      "Get the second column\n",
      "[2 4]\n",
      "Modify the second column to 100, 200\n",
      "The array after modification\n",
      "[[  1 100   3]\n",
      " [  3 200   5]]\n"
     ]
    }
   ],
   "source": [
    "B = np.array([[1, 2, 3], [3, 4, 5]])\n",
    "print(\"Get the first row\")\n",
    "print(B[0])\n",
    "print(\"Get the first element of the first row\")\n",
    "print(B[0, 0]) #instead of B[0][0]\n",
    "print(\"Get the second column\")\n",
    "print(B[:, 1])\n",
    "print(\"Modify the second column to 100, 200\")\n",
    "B[:, 1] = [100, 200]\n",
    "print(\"The array after modification\")\n",
    "print(B)"
   ]
  },
  {
   "cell_type": "markdown",
   "metadata": {},
   "source": [
    "We can also access elements of arrays using list."
   ]
  },
  {
   "cell_type": "code",
   "execution_count": 49,
   "metadata": {
    "collapsed": false
   },
   "outputs": [
    {
     "name": "stdout",
     "output_type": "stream",
     "text": [
      "[ 1  9 25 49 81]\n"
     ]
    }
   ],
   "source": [
    "A = np.array([0, 1, 2, 3, 4, 5, 6, 7, 8, 9])\n",
    "B = A**2\n",
    "print(B[[1, 3, 5, 7, 9]])\n",
    "\n",
    "#A = np.array([[1, 2], [3, 4]])\n",
    "#print(A[[0, 1]] )\n",
    "#print(A[[0, 1], [1, 1]] ) #print(A[[0, 1], 1] )"
   ]
  },
  {
   "cell_type": "markdown",
   "metadata": {},
   "source": [
    "## 1.2 Operations on numpy arrays of the same shape"
   ]
  },
  {
   "cell_type": "markdown",
   "metadata": {},
   "source": [
    "If two numpy arrays are of the same shape, their operations are elementwise."
   ]
  },
  {
   "cell_type": "code",
   "execution_count": 68,
   "metadata": {
    "collapsed": false
   },
   "outputs": [
    {
     "name": "stdout",
     "output_type": "stream",
     "text": [
      "B\n",
      "[[1 2 3]\n",
      " [3 4 5]]\n",
      "D\n",
      "[[ 2 -1  1]\n",
      " [ 2  0  3]]\n",
      "B + D = \n",
      "[[3 1 4]\n",
      " [5 4 8]]\n",
      "B - D = \n",
      "[[-1  3  2]\n",
      " [ 1  4  2]]\n",
      "B * D = \n",
      "[[ 2 -2  3]\n",
      " [ 6  0 15]]\n",
      "sin(B) = \n",
      "[[ 0.84147098  0.90929743  0.14112001]\n",
      " [ 0.14112001 -0.7568025  -0.95892427]]\n"
     ]
    }
   ],
   "source": [
    "B = np.array([[1, 2, 3], [3, 4, 5]])\n",
    "D = np.array([[2, -1, 1], [2, -0, 3]])\n",
    "print(\"B\")\n",
    "print(B)\n",
    "print(\"D\")\n",
    "print(D)\n",
    "print(\"B + D = \")\n",
    "print(B + D)\n",
    "print(\"B - D = \")\n",
    "print(B - D)\n",
    "print(\"B * D = \")\n",
    "print(B * D)\n",
    "print(\"sin(B) = \")\n",
    "print(np.sin(B))"
   ]
  },
  {
   "cell_type": "markdown",
   "metadata": {},
   "source": [
    "## 1.3 Broadcasting in numpy arrays"
   ]
  },
  {
   "cell_type": "markdown",
   "metadata": {},
   "source": [
    "Binary operations between a numpy array and a list or tuple of the same shape can be performed. Lists, tuples will be broadcasted into numpy arrays."
   ]
  },
  {
   "cell_type": "code",
   "execution_count": 55,
   "metadata": {
    "collapsed": false
   },
   "outputs": [
    {
     "data": {
      "text/plain": [
       "array([[ 2,  4,  6],\n",
       "       [ 8, 10, 12]])"
      ]
     },
     "execution_count": 55,
     "metadata": {},
     "output_type": "execute_result"
    }
   ],
   "source": [
    "A = np.array([[1, 2, 3], [4, 5, 6]])\n",
    "B = [(1, 2, 3), [4, 5, 6]]\n",
    "A + B"
   ]
  },
  {
   "cell_type": "markdown",
   "metadata": {},
   "source": [
    "If the arrays are not compatible in shape, binary operations cannot be applied. (the notion \"compatibility in shape\" will be described below)"
   ]
  },
  {
   "cell_type": "code",
   "execution_count": 57,
   "metadata": {
    "collapsed": false
   },
   "outputs": [
    {
     "name": "stdout",
     "output_type": "stream",
     "text": [
      "(2L, 2L)\n",
      "(2L, 3L)\n",
      "operands could not be broadcast together with shapes (2,2) (2,3) \n"
     ]
    }
   ],
   "source": [
    "A = np.array([[1, 2], [3, 4]])\n",
    "B = np.array([[1, 2, 3], [3, 4, 6]])\n",
    "print(A.shape)\n",
    "print(B.shape)\n",
    "try:\n",
    "    print(A + B)\n",
    "except Exception as e:\n",
    "    print(e)"
   ]
  },
  {
   "cell_type": "markdown",
   "metadata": {},
   "source": [
    "Two arrays $A$ of shape $(a_{d_A}, \\ldots,a_2, a_1)$ and $B$ of shape $(b_{d_B}, \\ldots, b_2, b_1)$ are compatible in shape if $a_i = b_i$ or $a_i = 1$ or $b_i = 1$ for all $i = 1, \\ldots, \\min(d_A, d_B)$."
   ]
  },
  {
   "cell_type": "markdown",
   "metadata": {},
   "source": [
    "Examples of compatible-in-shape numpy-arrays:"
   ]
  },
  {
   "cell_type": "raw",
   "metadata": {},
   "source": [
    "A      (2d array):  5 x 4\n",
    "B      (1d array):      1\n",
    "Result (2d array):  5 x 4\n",
    "\n",
    "A      (2d array):  5 x 4\n",
    "B      (1d array):      4\n",
    "Result (2d array):  5 x 4\n",
    "\n",
    "A      (3d array):  15 x 3 x 5\n",
    "B      (3d array):  15 x 1 x 5\n",
    "Result (3d array):  15 x 3 x 5\n",
    "\n",
    "A      (3d array):  15 x 3 x 5\n",
    "B      (2d array):       3 x 5\n",
    "Result (3d array):  15 x 3 x 5\n",
    "\n",
    "A      (3d array):  15 x 3 x 5\n",
    "B      (2d array):       3 x 1\n",
    "Result (3d array):  15 x 3 x 5"
   ]
  },
  {
   "cell_type": "markdown",
   "metadata": {},
   "source": [
    "Operations on compatible-in-shape numpy-arrays can be performed by duplicating every lists at level $i$ to $b_i$ copies where $a_i = 1$ or $i < \\min(d_A, d_B)$ and vice versa."
   ]
  },
  {
   "cell_type": "code",
   "execution_count": 61,
   "metadata": {
    "collapsed": false
   },
   "outputs": [
    {
     "name": "stdout",
     "output_type": "stream",
     "text": [
      "(2L,)\n",
      "(2L, 2L)\n",
      "---------Method1---------\n",
      "[[2 3]\n",
      " [4 5]]\n",
      "---------Method2---------\n",
      "[[2 3]\n",
      " [4 5]]\n",
      "---------Method3---------\n",
      "[[2 3]\n",
      " [4 5]]\n"
     ]
    }
   ],
   "source": [
    "A = np.array([1, 1])\n",
    "B = np.array([[1, 2], [3, 4]])\n",
    "print(A.shape)\n",
    "print(B.shape)\n",
    "print(\"---------Method1---------\")\n",
    "print(A + B)\n",
    "print(\"---------Method2---------\")\n",
    "AA = np.array([[1, 1], [1, 1]])\n",
    "print(AA + B)\n",
    "print(\"---------Method3---------\")\n",
    "print(1 + B)"
   ]
  },
  {
   "cell_type": "markdown",
   "metadata": {},
   "source": [
    "## 1.4. numpy.dot"
   ]
  },
  {
   "cell_type": "markdown",
   "metadata": {},
   "source": [
    "The method **dot** in numpy is constructed to compute matrix multiplication and vector dot product. Do not consider it as a binary operation (do not apply it pointwisely).\n",
    "\n",
    "If $A$ is of shape $(a_{d_A}, \\ldots,a_2, a_1)$ and $B$ of shape $(b_{d_B}, \\ldots, b_2, b_1)$, then **numpy.dot(A, B)** is defined if \n",
    "- $a_1 = b_2$\n",
    "- or $d_B = 1$ and $a_1 = b_1$\n",
    "\n",
    "In the first case, **numpy.dot(A, B)** is an array $C$ of shape $(a_{d_A}, \\ldots, a_3, a_2, b_{d_B}, b_3, b_1)$, and:\n",
    "$$\n",
    "C[\\dots, i, \\ldots, j] = \\sum(  A[\\ldots, i, :] * B[ \\ldots, :, j] )\n",
    "$$"
   ]
  },
  {
   "cell_type": "code",
   "execution_count": 87,
   "metadata": {
    "collapsed": false
   },
   "outputs": [
    {
     "name": "stdout",
     "output_type": "stream",
     "text": [
      "(2L, 2L, 3L)\n",
      "(3L, 3L, 2L)\n",
      "Shape of A*B\n",
      "(2L, 2L, 3L, 2L)\n"
     ]
    }
   ],
   "source": [
    "A = np.array([ [[1, 2, 3], [4, 5, 6]], [[0, 2, 0], [1, 0, 2]] ])\n",
    "#print(A)\n",
    "print(A.shape)\n",
    "B = np.array([ [[1, 2], [2, 3], [3, 2]], [[1, 1], [1, 2], [2, 1]], [[2, 1], [0, 2], [1, 0]] ])\n",
    "#print(B)\n",
    "print(B.shape)\n",
    "C = np.dot(A, B)\n",
    "print(\"Shape of A*B\")\n",
    "print(C.shape)\n",
    "\n",
    "#print(C)\n",
    "#print(C[0,0,0,0])\n",
    "#print(sum(A[0,0,:] * B[0,:,0]))"
   ]
  },
  {
   "cell_type": "markdown",
   "metadata": {},
   "source": [
    "In the second case, **numpy.dot(A, B)** is an array $C$ of shape $(a_{d_A}, \\ldots, a_3, a_2)$, and:\n",
    "$$\n",
    "C[\\dots, i, j] = \\sum(  A[\\ldots, i, :] * B )\n",
    "$$"
   ]
  },
  {
   "cell_type": "code",
   "execution_count": 88,
   "metadata": {
    "collapsed": false
   },
   "outputs": [
    {
     "name": "stdout",
     "output_type": "stream",
     "text": [
      "[[[1 2 3]\n",
      "  [4 5 6]]\n",
      "\n",
      " [[0 2 0]\n",
      "  [1 0 2]]]\n",
      "[1, 2, 3]\n",
      "A.B = \n",
      "[[14 32]\n",
      " [ 4  7]]\n",
      "[[[ 5 10 15]\n",
      "  [20 25 30]]\n",
      "\n",
      " [[ 0 10  0]\n",
      "  [ 5  0 10]]]\n"
     ]
    }
   ],
   "source": [
    "A = np.array([ [[1, 2, 3], [4, 5, 6]], [[0, 2, 0], [1, 0, 2]] ])\n",
    "B = [1, 2, 3]\n",
    "print(A)\n",
    "print(B)\n",
    "print(\"A.B = \")\n",
    "print(A.dot(B))"
   ]
  },
  {
   "cell_type": "markdown",
   "metadata": {},
   "source": [
    "Corollary:\n",
    "- If $A, B$ are vectors: **numpy.dot** returns the dot product\n",
    "- If $A$ is matrix, $B$ is vector, it returns $AB$.\n",
    "- If $A, B$ are matrices, it returns $AB$.\n",
    "- If $A$ is vector, $B$ is matrix, it returns $A^t B$."
   ]
  },
  {
   "cell_type": "code",
   "execution_count": 97,
   "metadata": {
    "collapsed": false
   },
   "outputs": [
    {
     "name": "stdout",
     "output_type": "stream",
     "text": [
      "Matrix dot matrix\n",
      "[[10 13]\n",
      " [25 34]]\n",
      "Matrix dot vector\n",
      "[20 44]\n",
      "Vector dot vector\n",
      "30\n",
      "Vector dot matrix\n",
      "[14 17]\n"
     ]
    }
   ],
   "source": [
    "A = np.array([[1, 2, 3], [4, 5, 6]])\n",
    "B = np.array([[2, 3], [1, 2], [2, 2]])\n",
    "v = np.array([1, 2, 5])\n",
    "print(\"Matrix dot matrix\")\n",
    "print(A.dot(B))\n",
    "print(\"Matrix dot vector\")\n",
    "print(A.dot(v))\n",
    "print(\"Vector dot vector\")\n",
    "print(v.dot(v))\n",
    "print(\"Vector dot matrix\")\n",
    "print(v.dot(B))"
   ]
  },
  {
   "cell_type": "markdown",
   "metadata": {},
   "source": [
    "If we want to compute $vv^t$, where $v$ is a vector?"
   ]
  },
  {
   "cell_type": "code",
   "execution_count": 101,
   "metadata": {
    "collapsed": false
   },
   "outputs": [
    {
     "name": "stdout",
     "output_type": "stream",
     "text": [
      "[[ 1  2  5]\n",
      " [ 2  4 10]\n",
      " [ 5 10 25]]\n"
     ]
    }
   ],
   "source": [
    "v = np.array([1, 2, 5])\n",
    "print(v.reshape(3,1).dot(v.reshape(1, 3)))"
   ]
  },
  {
   "cell_type": "markdown",
   "metadata": {},
   "source": [
    "## 1.5. Linear Algebra: Vectors and Matrices"
   ]
  },
  {
   "cell_type": "markdown",
   "metadata": {},
   "source": [
    "**Zero vector**"
   ]
  },
  {
   "cell_type": "code",
   "execution_count": 102,
   "metadata": {
    "collapsed": false
   },
   "outputs": [
    {
     "data": {
      "text/plain": [
       "array([ 0.,  0.,  0.])"
      ]
     },
     "execution_count": 102,
     "metadata": {},
     "output_type": "execute_result"
    }
   ],
   "source": [
    "O = np.zeros(3)\n",
    "O"
   ]
  },
  {
   "cell_type": "markdown",
   "metadata": {},
   "source": [
    "**Zero matrices**"
   ]
  },
  {
   "cell_type": "code",
   "execution_count": 105,
   "metadata": {
    "collapsed": false
   },
   "outputs": [
    {
     "data": {
      "text/plain": [
       "array([[ 0.,  0.,  0.,  0.],\n",
       "       [ 0.,  0.,  0.,  0.],\n",
       "       [ 0.,  0.,  0.,  0.]])"
      ]
     },
     "execution_count": 105,
     "metadata": {},
     "output_type": "execute_result"
    }
   ],
   "source": [
    "O = np.zeros((3, 4))\n",
    "O"
   ]
  },
  {
   "cell_type": "markdown",
   "metadata": {},
   "source": [
    "**Identity matrix**\n"
   ]
  },
  {
   "cell_type": "code",
   "execution_count": 108,
   "metadata": {
    "collapsed": false
   },
   "outputs": [
    {
     "data": {
      "text/plain": [
       "array([[ 4.,  0.,  0.,  0.,  0.],\n",
       "       [ 0.,  4.,  0.,  0.,  0.],\n",
       "       [ 0.,  0.,  4.,  0.,  0.],\n",
       "       [ 0.,  0.,  0.,  4.,  0.],\n",
       "       [ 0.,  0.,  0.,  0.,  4.]])"
      ]
     },
     "execution_count": 108,
     "metadata": {},
     "output_type": "execute_result"
    }
   ],
   "source": [
    "I = np.eye(5)\n",
    "4 * I"
   ]
  },
  {
   "cell_type": "markdown",
   "metadata": {},
   "source": [
    "**Diagonal matrix**"
   ]
  },
  {
   "cell_type": "code",
   "execution_count": 111,
   "metadata": {
    "collapsed": false
   },
   "outputs": [
    {
     "data": {
      "text/plain": [
       "array([[2, 0, 0, 0],\n",
       "       [0, 3, 0, 0],\n",
       "       [0, 0, 4, 0],\n",
       "       [0, 0, 0, 5]])"
      ]
     },
     "execution_count": 111,
     "metadata": {},
     "output_type": "execute_result"
    }
   ],
   "source": [
    "D = np.diag([2, 3, 4, 5])\n",
    "D"
   ]
  },
  {
   "cell_type": "markdown",
   "metadata": {},
   "source": [
    "**Transpose**"
   ]
  },
  {
   "cell_type": "code",
   "execution_count": 115,
   "metadata": {
    "collapsed": false
   },
   "outputs": [
    {
     "data": {
      "text/plain": [
       "array([[1, 3],\n",
       "       [2, 4]])"
      ]
     },
     "execution_count": 115,
     "metadata": {},
     "output_type": "execute_result"
    }
   ],
   "source": [
    "A = np.array([[1, 2], [3, 4]])\n",
    "A.transpose()\n",
    "#A.T"
   ]
  },
  {
   "cell_type": "markdown",
   "metadata": {},
   "source": [
    "**Inverse**"
   ]
  },
  {
   "cell_type": "code",
   "execution_count": 117,
   "metadata": {
    "collapsed": false
   },
   "outputs": [
    {
     "data": {
      "text/plain": [
       "array([[-2. ,  1. ],\n",
       "       [ 1.5, -0.5]])"
      ]
     },
     "execution_count": 117,
     "metadata": {},
     "output_type": "execute_result"
    }
   ],
   "source": [
    "A = np.array([[1, 2], [3, 4]])\n",
    "np.linalg.inv(A)"
   ]
  },
  {
   "cell_type": "markdown",
   "metadata": {},
   "source": [
    "**Determinant**"
   ]
  },
  {
   "cell_type": "code",
   "execution_count": 119,
   "metadata": {
    "collapsed": false
   },
   "outputs": [
    {
     "data": {
      "text/plain": [
       "-2.0000000000000004"
      ]
     },
     "execution_count": 119,
     "metadata": {},
     "output_type": "execute_result"
    }
   ],
   "source": [
    "A = np.array([[1, 2], [3, 4]])\n",
    "np.linalg.det(A)"
   ]
  },
  {
   "cell_type": "markdown",
   "metadata": {},
   "source": [
    "**SVD**"
   ]
  },
  {
   "cell_type": "code",
   "execution_count": 121,
   "metadata": {
    "collapsed": false
   },
   "outputs": [
    {
     "data": {
      "text/plain": [
       "(array([[-0.40455358, -0.9145143 ],\n",
       "        [-0.9145143 ,  0.40455358]]),\n",
       " array([ 5.4649857 ,  0.36596619]),\n",
       " array([[-0.57604844, -0.81741556],\n",
       "        [ 0.81741556, -0.57604844]]))"
      ]
     },
     "execution_count": 121,
     "metadata": {},
     "output_type": "execute_result"
    }
   ],
   "source": [
    "A = np.array([[1, 2], [3, 4]])\n",
    "U, S, V = np.linalg.svd(A)\n",
    "U, S, V"
   ]
  },
  {
   "cell_type": "markdown",
   "metadata": {},
   "source": [
    "**Diagonalisation**"
   ]
  },
  {
   "cell_type": "code",
   "execution_count": 125,
   "metadata": {
    "collapsed": false
   },
   "outputs": [
    {
     "data": {
      "text/plain": [
       "(array([-0.37228132,  5.37228132]), array([[-0.82456484, -0.41597356],\n",
       "        [ 0.56576746, -0.90937671]]))"
      ]
     },
     "execution_count": 125,
     "metadata": {},
     "output_type": "execute_result"
    }
   ],
   "source": [
    "A = np.array([[1, 2], [3, 4]])\n",
    "Eigs = np.linalg.eig(A)\n",
    "Eigs\n",
    "#print(A.dot(Eigs[1]) - Eigs[0]*Eigs[1])"
   ]
  },
  {
   "cell_type": "markdown",
   "metadata": {},
   "source": [
    "## 1.6 numpy.matrix"
   ]
  },
  {
   "cell_type": "markdown",
   "metadata": {},
   "source": [
    "If we are interested in matrices (numpy-array of **ndim** 2 only), we can use **numpy.matrix**. **numpy.matrix** is a subclass of **numpy.array**, hence inherits attributes and methods of numpy-arrays.\n",
    "\n",
    "Using **numpy.matrix** the **\\*** operation performs matrix multiplication (not elementwise multiplication). "
   ]
  },
  {
   "cell_type": "code",
   "execution_count": 4,
   "metadata": {
    "collapsed": false
   },
   "outputs": [
    {
     "name": "stdout",
     "output_type": "stream",
     "text": [
      "[[ 1.   2.5]\n",
      " [ 3.   0.5]]\n",
      "[[-1  2]\n",
      " [ 0 -1]]\n",
      "(<class 'numpy.matrixlib.defmatrix.matrix'>, <class 'numpy.matrixlib.defmatrix.matrix'>)\n",
      "[[-1.  -0.5]\n",
      " [-3.   5.5]]\n",
      "[[ 2.  5.]\n",
      " [ 6.  1.]]\n"
     ]
    }
   ],
   "source": [
    "M = np.matrix(\"1 2.5; 3 0.5\")\n",
    "N = np.matrix([[-1, 2], [0, -1]])\n",
    "print(M)\n",
    "print(N)\n",
    "print(type(M), type(N))\n",
    "print(M*N)\n",
    "print(2*M)"
   ]
  },
  {
   "cell_type": "markdown",
   "metadata": {},
   "source": [
    "Operations between a matrix and an array return a matrix."
   ]
  },
  {
   "cell_type": "code",
   "execution_count": 6,
   "metadata": {
    "collapsed": false
   },
   "outputs": [
    {
     "name": "stdout",
     "output_type": "stream",
     "text": [
      "(<class 'numpy.matrixlib.defmatrix.matrix'>, <class 'numpy.matrixlib.defmatrix.matrix'>)\n",
      "[[-1.  -0.5]\n",
      " [-3.   5.5]]\n",
      "<class 'numpy.matrixlib.defmatrix.matrix'>\n"
     ]
    }
   ],
   "source": [
    "M = np.matrix(\"1 2.5; 3 0.5\")\n",
    "N = np.matrix([[-1, 2], [0, -1]])\n",
    "print(type(M), type(N))\n",
    "print(M*N)\n",
    "print(type(M*N))"
   ]
  },
  {
   "cell_type": "markdown",
   "metadata": {},
   "source": [
    "**Operations on matrices**"
   ]
  },
  {
   "cell_type": "code",
   "execution_count": 11,
   "metadata": {
    "collapsed": false
   },
   "outputs": [
    {
     "name": "stdout",
     "output_type": "stream",
     "text": [
      "Inverse\n",
      "[[-0.07142857  0.35714286]\n",
      " [ 0.42857143 -0.14285714]]\n",
      "SVD\n",
      "(matrix([[-0.62087063, -0.78391305],\n",
      "        [-0.78391305,  0.62087063]]), array([ 3.55190967,  1.97077084]), matrix([[-0.83690466, -0.54734869],\n",
      "        [ 0.54734869, -0.83690466]]))\n",
      "Diagonalization\n",
      "(array([ 3.5, -2. ]), matrix([[ 0.70710678, -0.6401844 ],\n",
      "        [ 0.70710678,  0.76822128]]))\n"
     ]
    }
   ],
   "source": [
    "M = np.matrix(\"1 2.5; 3 0.5\")\n",
    "print(\"Inverse\")\n",
    "print(np.linalg.inv(M))\n",
    "print(\"SVD\")\n",
    "print(np.linalg.svd(M))\n",
    "print(\"Diagonalization\")\n",
    "print(np.linalg.eig(M))"
   ]
  },
  {
   "cell_type": "markdown",
   "metadata": {},
   "source": [
    "**Attention:** If we want to multiply a numpy.matrix with a vector, the vector must be represented as a matrix or must be reshaped. The result is a numpy.matrix."
   ]
  },
  {
   "cell_type": "code",
   "execution_count": 25,
   "metadata": {
    "collapsed": false
   },
   "outputs": [
    {
     "name": "stdout",
     "output_type": "stream",
     "text": [
      "[[ 6.]\n",
      " [ 4.]]\n"
     ]
    }
   ],
   "source": [
    "M = np.matrix(\"1 2.5; 3 0.5\")\n",
    "v = np.array([1, 2])\n",
    "v = v.reshape(2, 1)\n",
    "print(M*v)"
   ]
  },
  {
   "cell_type": "markdown",
   "metadata": {},
   "source": [
    "## 1.7 Other options"
   ]
  },
  {
   "cell_type": "markdown",
   "metadata": {},
   "source": [
    "We can get a uniform partition on any $[a, b]$ segment by using **arange** or **linspace** methods. **arange** requires the mesh  (length of each subinterval) while **linspace** requires the number of points as an argument.\n",
    "\n",
    "Attention: **arange(a, b, something)** does not contains **b**, while **linspace** does."
   ]
  },
  {
   "cell_type": "code",
   "execution_count": 126,
   "metadata": {
    "collapsed": false
   },
   "outputs": [
    {
     "name": "stdout",
     "output_type": "stream",
     "text": [
      "[ 1.   1.1  1.2  1.3  1.4  1.5  1.6  1.7  1.8  1.9  2.   2.1  2.2  2.3  2.4\n",
      "  2.5  2.6  2.7  2.8  2.9  3.   3.1  3.2  3.3  3.4  3.5  3.6  3.7  3.8  3.9\n",
      "  4.   4.1  4.2  4.3  4.4  4.5  4.6  4.7  4.8  4.9]\n"
     ]
    }
   ],
   "source": [
    "a = np.arange(1, 5, 0.1)\n",
    "print(a)"
   ]
  },
  {
   "cell_type": "code",
   "execution_count": 15,
   "metadata": {
    "collapsed": false
   },
   "outputs": [
    {
     "name": "stdout",
     "output_type": "stream",
     "text": [
      "[ 1.   1.1  1.2  1.3  1.4  1.5  1.6  1.7  1.8  1.9  2.   2.1  2.2  2.3  2.4\n",
      "  2.5  2.6  2.7  2.8  2.9  3.   3.1  3.2  3.3  3.4  3.5  3.6  3.7  3.8  3.9\n",
      "  4.   4.1  4.2  4.3  4.4  4.5  4.6  4.7  4.8  4.9  5. ]\n"
     ]
    }
   ],
   "source": [
    "b = np.linspace(1, 5, 41)\n",
    "print(b)"
   ]
  },
  {
   "cell_type": "markdown",
   "metadata": {},
   "source": [
    "We can reshape an array using **reshape** method."
   ]
  },
  {
   "cell_type": "code",
   "execution_count": 21,
   "metadata": {
    "collapsed": false
   },
   "outputs": [
    {
     "name": "stdout",
     "output_type": "stream",
     "text": [
      "Reshape to matrix 10x10\n",
      "[[  1   2   3   4   5   6   7   8   9  10]\n",
      " [ 11  12  13  14  15  16  17  18  19  20]\n",
      " [ 21  22  23  24  25  26  27  28  29  30]\n",
      " [ 31  32  33  34  35  36  37  38  39  40]\n",
      " [ 41  42  43  44  45  46  47  48  49  50]\n",
      " [ 51  52  53  54  55  56  57  58  59  60]\n",
      " [ 61  62  63  64  65  66  67  68  69  70]\n",
      " [ 71  72  73  74  75  76  77  78  79  80]\n",
      " [ 81  82  83  84  85  86  87  88  89  90]\n",
      " [ 91  92  93  94  95  96  97  98  99 100]]\n",
      "Reshape to 3d array 2x5x10\n",
      "[[[  1   2   3   4   5   6   7   8   9  10]\n",
      "  [ 11  12  13  14  15  16  17  18  19  20]\n",
      "  [ 21  22  23  24  25  26  27  28  29  30]\n",
      "  [ 31  32  33  34  35  36  37  38  39  40]\n",
      "  [ 41  42  43  44  45  46  47  48  49  50]]\n",
      "\n",
      " [[ 51  52  53  54  55  56  57  58  59  60]\n",
      "  [ 61  62  63  64  65  66  67  68  69  70]\n",
      "  [ 71  72  73  74  75  76  77  78  79  80]\n",
      "  [ 81  82  83  84  85  86  87  88  89  90]\n",
      "  [ 91  92  93  94  95  96  97  98  99 100]]]\n"
     ]
    }
   ],
   "source": [
    "A = np.array(range(1, 101))\n",
    "print(\"Reshape to matrix 10x10\")\n",
    "B = A.reshape(10, 10)\n",
    "print(B)\n",
    "print(\"Reshape to 3d array 2x5x10\")\n",
    "C = A.reshape(2, 5, 10)\n",
    "print(C)"
   ]
  },
  {
   "cell_type": "markdown",
   "metadata": {},
   "source": [
    "**flatten** is used to reshape nd-arrays to 1d-array."
   ]
  },
  {
   "cell_type": "code",
   "execution_count": 26,
   "metadata": {
    "collapsed": false
   },
   "outputs": [
    {
     "name": "stdout",
     "output_type": "stream",
     "text": [
      "[  1   2   3   4   5   6   7   8   9  10  11  12  13  14  15  16  17  18\n",
      "  19  20  21  22  23  24  25  26  27  28  29  30  31  32  33  34  35  36\n",
      "  37  38  39  40  41  42  43  44  45  46  47  48  49  50  51  52  53  54\n",
      "  55  56  57  58  59  60  61  62  63  64  65  66  67  68  69  70  71  72\n",
      "  73  74  75  76  77  78  79  80  81  82  83  84  85  86  87  88  89  90\n",
      "  91  92  93  94  95  96  97  98  99 100]\n"
     ]
    }
   ],
   "source": [
    "A = np.array(range(1, 101))\n",
    "B = A.reshape(10, 10)\n",
    "print(B.flatten())"
   ]
  },
  {
   "cell_type": "markdown",
   "metadata": {},
   "source": [
    "We can combine ndarrays horizontally or vertically by **vstack** and **hstack**."
   ]
  },
  {
   "cell_type": "code",
   "execution_count": 30,
   "metadata": {
    "collapsed": false
   },
   "outputs": [
    {
     "name": "stdout",
     "output_type": "stream",
     "text": [
      "[[1 2]\n",
      " [3 4]\n",
      " [5 6]\n",
      " [7 8]]\n",
      "[[1 2 5 6]\n",
      " [3 4 7 8]]\n"
     ]
    }
   ],
   "source": [
    "A = np.array([[1, 2], [3, 4]])\n",
    "B = np.array([[5, 6], [7, 8]])\n",
    "print(np.vstack((A, B)))\n",
    "print(np.hstack((A, B)))"
   ]
  },
  {
   "cell_type": "markdown",
   "metadata": {},
   "source": [
    "# 2. Scipy"
   ]
  },
  {
   "cell_type": "code",
   "execution_count": null,
   "metadata": {
    "collapsed": true
   },
   "outputs": [],
   "source": []
  },
  {
   "cell_type": "code",
   "execution_count": null,
   "metadata": {
    "collapsed": true
   },
   "outputs": [],
   "source": []
  },
  {
   "cell_type": "code",
   "execution_count": null,
   "metadata": {
    "collapsed": true
   },
   "outputs": [],
   "source": []
  },
  {
   "cell_type": "code",
   "execution_count": null,
   "metadata": {
    "collapsed": true
   },
   "outputs": [],
   "source": []
  }
 ],
 "metadata": {
  "kernelspec": {
   "display_name": "Python 2",
   "language": "python",
   "name": "python2"
  },
  "language_info": {
   "codemirror_mode": {
    "name": "ipython",
    "version": 2
   },
   "file_extension": ".py",
   "mimetype": "text/x-python",
   "name": "python",
   "nbconvert_exporter": "python",
   "pygments_lexer": "ipython2",
   "version": "2.7.13"
  }
 },
 "nbformat": 4,
 "nbformat_minor": 0
}
