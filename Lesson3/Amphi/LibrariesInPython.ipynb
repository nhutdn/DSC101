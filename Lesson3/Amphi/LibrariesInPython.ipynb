{
 "cells": [
  {
   "cell_type": "markdown",
   "metadata": {},
   "source": [
    "# Amphi 3 - Useful libraries in Python for Numeric Computation and Data Processing"
   ]
  },
  {
   "cell_type": "markdown",
   "metadata": {},
   "source": [
    "# 1. random"
   ]
  },
  {
   "cell_type": "markdown",
   "metadata": {},
   "source": [
    "## 1.1 Randomness on integers"
   ]
  },
  {
   "cell_type": "markdown",
   "metadata": {},
   "source": [
    "The library **random** can be used to generate some random variables. Example:\n",
    "\n",
    "**Return a randomly selected element from a range**"
   ]
  },
  {
   "cell_type": "code",
   "execution_count": 1,
   "metadata": {
    "collapsed": false
   },
   "outputs": [
    {
     "name": "stdout",
     "output_type": "stream",
     "text": [
      "Generate a random integer between 4, 9\n",
      "9\n",
      "4\n",
      "4\n",
      "7\n",
      "8\n",
      "Generate a random pair integer between 4, 8\n",
      "8\n",
      "6\n",
      "6\n",
      "6\n",
      "8\n",
      "Generate a random integer between 4, 9\n",
      "4\n",
      "6\n",
      "5\n",
      "9\n",
      "4\n"
     ]
    }
   ],
   "source": [
    "import random\n",
    "print(\"Generate a random integer between 4, 9\")\n",
    "for i in range(5):\n",
    "    print(random.randrange(4, 10))\n",
    "print(\"Generate a random pair integer between 4, 8\")\n",
    "for i in range(5):\n",
    "    print(random.randrange(4, 10, 2))\n",
    "print(\"Generate a random integer between 4, 9\")\n",
    "for i in range(5):\n",
    "    print(random.randint(4, 9))"
   ]
  },
  {
   "cell_type": "markdown",
   "metadata": {},
   "source": [
    "**Shuffle a list**"
   ]
  },
  {
   "cell_type": "code",
   "execution_count": 2,
   "metadata": {
    "collapsed": false
   },
   "outputs": [
    {
     "name": "stdout",
     "output_type": "stream",
     "text": [
      "[0, 1, 2, 3, 4, 5, 6, 7, 8, 9]\n",
      "[4, 3, 9, 6, 2, 5, 8, 1, 0, 7]\n"
     ]
    }
   ],
   "source": [
    "L = range(10)\n",
    "print(L)\n",
    "random.shuffle(L)\n",
    "print(L)"
   ]
  },
  {
   "cell_type": "markdown",
   "metadata": {},
   "source": [
    "**Sampling a model**"
   ]
  },
  {
   "cell_type": "code",
   "execution_count": 3,
   "metadata": {
    "collapsed": false
   },
   "outputs": [
    {
     "name": "stdout",
     "output_type": "stream",
     "text": [
      "[330, 243, 305, 879, 135, 633, 524, 603, 480, 515, 781, 922, 751, 757, 226, 453, 365, 761, 280, 888]\n",
      "[16, 8, 3, 7, 2, 13, 1, 19, 15, 17, 10, 12, 0, 5, 11, 4, 14, 18, 6, 9]\n"
     ]
    }
   ],
   "source": [
    "L = random.sample(range(1000), 20)\n",
    "print(L)\n",
    "L = random.sample(range(20), 20)\n",
    "print(L)"
   ]
  },
  {
   "cell_type": "markdown",
   "metadata": {},
   "source": [
    "## 1.2 Randomness on real numbers"
   ]
  },
  {
   "cell_type": "markdown",
   "metadata": {},
   "source": [
    "**Generate a random real number in the range [0, 1)**"
   ]
  },
  {
   "cell_type": "code",
   "execution_count": 4,
   "metadata": {
    "collapsed": false
   },
   "outputs": [
    {
     "name": "stdout",
     "output_type": "stream",
     "text": [
      "0.73450299257\n",
      "0.782709190326\n",
      "0.0678813876462\n",
      "0.847162035563\n",
      "0.17915752427\n"
     ]
    }
   ],
   "source": [
    "for i in range(5):\n",
    "    print(random.random())"
   ]
  },
  {
   "cell_type": "markdown",
   "metadata": {},
   "source": [
    "**Generate a random real number uniformly in [a, b]**"
   ]
  },
  {
   "cell_type": "code",
   "execution_count": 5,
   "metadata": {
    "collapsed": false
   },
   "outputs": [
    {
     "name": "stdout",
     "output_type": "stream",
     "text": [
      "2.91045869101\n",
      "3.55954335235\n",
      "2.09429499781\n",
      "1.02807183262\n",
      "3.12522930303\n"
     ]
    }
   ],
   "source": [
    "for i in range(5):\n",
    "    print(random.uniform(0, 5))"
   ]
  },
  {
   "cell_type": "markdown",
   "metadata": {},
   "source": [
    "**Generate a random real number following Gaussian distribution**"
   ]
  },
  {
   "cell_type": "code",
   "execution_count": 6,
   "metadata": {
    "collapsed": false
   },
   "outputs": [
    {
     "name": "stdout",
     "output_type": "stream",
     "text": [
      "-0.0292818909131\n",
      "0.791454635633\n",
      "-0.419791763843\n",
      "-2.22804725722\n",
      "-0.588239115119\n"
     ]
    }
   ],
   "source": [
    "for i in range(5):\n",
    "    print(random.gauss(0, 1))"
   ]
  },
  {
   "cell_type": "markdown",
   "metadata": {},
   "source": [
    "## 1.3 seed"
   ]
  },
  {
   "cell_type": "markdown",
   "metadata": {},
   "source": [
    "seed is an internal state of the random number generator. When we fix a seed, the $n^{th}$ called of the same random function will always return the same value."
   ]
  },
  {
   "cell_type": "code",
   "execution_count": 7,
   "metadata": {
    "collapsed": false
   },
   "outputs": [
    {
     "name": "stdout",
     "output_type": "stream",
     "text": [
      "2\n",
      "0.976242949272\n",
      "2\n",
      "-1.39028326419\n",
      "3\n",
      "-1.3796439073\n",
      "4\n",
      "0.453156062723\n",
      "2\n",
      "1.87069660845\n"
     ]
    }
   ],
   "source": [
    "random.seed(1)\n",
    "for i in range(5):\n",
    "    print(random.randint(2, 4))\n",
    "    print(random.gauss(0, 1))\n",
    "#print(random.getstate())"
   ]
  },
  {
   "cell_type": "markdown",
   "metadata": {},
   "source": [
    "# 2. numpy"
   ]
  },
  {
   "cell_type": "markdown",
   "metadata": {},
   "source": [
    "## 2.1 numpy array (numpy.ndarray)"
   ]
  },
  {
   "cell_type": "markdown",
   "metadata": {},
   "source": [
    "A numpy ndarray (numpy array) can represent a list of list of list ... of numbers or str.\n",
    "It implements methods for basic operation on vectors and matrices, hence usually used in linear algebra problems.\n",
    "\n",
    "A numpy array composed of a list or tuple of $k$ numbers or str is said of **ndim** 1 and of **shape** ($k$). In this case we say that the list or tuple is also of **ndim** 1 and **shape** ($k$)."
   ]
  },
  {
   "cell_type": "code",
   "execution_count": 8,
   "metadata": {
    "collapsed": false
   },
   "outputs": [
    {
     "name": "stdout",
     "output_type": "stream",
     "text": [
      "[1 2 3]\n",
      "1\n",
      "(3L,)\n",
      "<type 'numpy.ndarray'>\n"
     ]
    }
   ],
   "source": [
    "import numpy as np\n",
    "A = np.array([1, 2, 3])\n",
    "print(A)\n",
    "print(A.ndim)\n",
    "print(A.shape)\n",
    "print(type(A))"
   ]
  },
  {
   "cell_type": "markdown",
   "metadata": {},
   "source": [
    "Recursively, a numpy array composed of a list/tuple/numpy array of $k$ lists/tuples/numpy arrays, each of which is of **ndim** $n-1$ and **shape** ($k_1, k_2, \\ldots, k_{n-1}$) is said to be of **ndim** $n$ and **shape** ($k, k_1, k_2, \\ldots, k_{n-1}$)."
   ]
  },
  {
   "cell_type": "code",
   "execution_count": 9,
   "metadata": {
    "collapsed": false
   },
   "outputs": [
    {
     "name": "stdout",
     "output_type": "stream",
     "text": [
      "[[1 2 3]\n",
      " [3 4 5]]\n",
      "2\n",
      "(2L, 3L)\n"
     ]
    }
   ],
   "source": [
    "B = np.array([[1, 2, 3], [3, 4, 5]])\n",
    "print(B)\n",
    "print(B.ndim)\n",
    "print(B.shape)"
   ]
  },
  {
   "cell_type": "code",
   "execution_count": 10,
   "metadata": {
    "collapsed": false
   },
   "outputs": [
    {
     "name": "stdout",
     "output_type": "stream",
     "text": [
      "[[[1 2 3]]]\n",
      "3\n",
      "(1L, 1L, 3L)\n"
     ]
    }
   ],
   "source": [
    "C = np.array([[[1, 2, 3]]])\n",
    "print(C)\n",
    "print(C.ndim)\n",
    "print(C.shape)"
   ]
  },
  {
   "cell_type": "markdown",
   "metadata": {},
   "source": [
    "By convention, a scalar (number of string) can also form a numpy array. Its **ndim** is 0 and its **shape** is ()."
   ]
  },
  {
   "cell_type": "code",
   "execution_count": 11,
   "metadata": {
    "collapsed": false
   },
   "outputs": [
    {
     "name": "stdout",
     "output_type": "stream",
     "text": [
      "0\n",
      "()\n"
     ]
    }
   ],
   "source": [
    "N = np.array(1)\n",
    "print(N.ndim)\n",
    "print(N.shape)"
   ]
  },
  {
   "cell_type": "markdown",
   "metadata": {},
   "source": [
    "We can use numpy arrays of **ndim** 1 to represent vectors and numpy arrays of **ndum** 2 to represent matrices."
   ]
  },
  {
   "cell_type": "markdown",
   "metadata": {},
   "source": [
    "We can access and modify elements in a numpy array. Numpy arrays are mutable."
   ]
  },
  {
   "cell_type": "code",
   "execution_count": 12,
   "metadata": {
    "collapsed": false
   },
   "outputs": [
    {
     "name": "stdout",
     "output_type": "stream",
     "text": [
      "Get the first row\n",
      "[1 2 3]\n",
      "Get the first element of the first row\n",
      "1\n",
      "Get the second column\n",
      "[2 4]\n",
      "Modify the second column to 100, 200\n",
      "The array after modification\n",
      "[[  1 100   3]\n",
      " [  3 200   5]]\n"
     ]
    }
   ],
   "source": [
    "B = np.array([[1, 2, 3], [3, 4, 5]])\n",
    "print(\"Get the first row\")\n",
    "print(B[0])\n",
    "print(\"Get the first element of the first row\")\n",
    "print(B[0, 0]) #instead of B[0][0]\n",
    "print(\"Get the second column\")\n",
    "print(B[:, 1])\n",
    "print(\"Modify the second column to 100, 200\")\n",
    "B[:, 1] = [100, 200]\n",
    "print(\"The array after modification\")\n",
    "print(B)"
   ]
  },
  {
   "cell_type": "markdown",
   "metadata": {},
   "source": [
    "We can also access elements of arrays using list."
   ]
  },
  {
   "cell_type": "code",
   "execution_count": 13,
   "metadata": {
    "collapsed": false
   },
   "outputs": [
    {
     "name": "stdout",
     "output_type": "stream",
     "text": [
      "[ 1  9 25 49 81]\n"
     ]
    }
   ],
   "source": [
    "A = np.array([0, 1, 2, 3, 4, 5, 6, 7, 8, 9])\n",
    "B = A**2\n",
    "print(B[[1, 3, 5, 7, 9]])\n",
    "\n",
    "#A = np.array([[1, 2], [3, 4]])\n",
    "#print(A[[0, 1]] )\n",
    "#print(A[[0, 1], [1, 1]] ) #print(A[[0, 1], 1] )"
   ]
  },
  {
   "cell_type": "markdown",
   "metadata": {},
   "source": [
    "## 2.2 Operations on numpy arrays of the same shape"
   ]
  },
  {
   "cell_type": "markdown",
   "metadata": {},
   "source": [
    "If two numpy arrays are of the same shape, their operations are elementwise."
   ]
  },
  {
   "cell_type": "code",
   "execution_count": 14,
   "metadata": {
    "collapsed": false
   },
   "outputs": [
    {
     "name": "stdout",
     "output_type": "stream",
     "text": [
      "B\n",
      "[[1 2 3]\n",
      " [3 4 5]]\n",
      "D\n",
      "[[ 2 -1  1]\n",
      " [ 2  0  3]]\n",
      "B + D = \n",
      "[[3 1 4]\n",
      " [5 4 8]]\n",
      "B - D = \n",
      "[[-1  3  2]\n",
      " [ 1  4  2]]\n",
      "B * D = \n",
      "[[ 2 -2  3]\n",
      " [ 6  0 15]]\n",
      "sin(B) = \n",
      "[[ 0.84147098  0.90929743  0.14112001]\n",
      " [ 0.14112001 -0.7568025  -0.95892427]]\n"
     ]
    }
   ],
   "source": [
    "B = np.array([[1, 2, 3], [3, 4, 5]])\n",
    "D = np.array([[2, -1, 1], [2, -0, 3]])\n",
    "print(\"B\")\n",
    "print(B)\n",
    "print(\"D\")\n",
    "print(D)\n",
    "print(\"B + D = \")\n",
    "print(B + D)\n",
    "print(\"B - D = \")\n",
    "print(B - D)\n",
    "print(\"B * D = \")\n",
    "print(B * D)\n",
    "print(\"sin(B) = \")\n",
    "print(np.sin(B))"
   ]
  },
  {
   "cell_type": "markdown",
   "metadata": {},
   "source": [
    "## 2.3 Broadcasting in numpy arrays"
   ]
  },
  {
   "cell_type": "markdown",
   "metadata": {},
   "source": [
    "Binary operations between a numpy array and a list or tuple of the same shape can be performed. Lists, tuples will be broadcasted into numpy arrays."
   ]
  },
  {
   "cell_type": "code",
   "execution_count": 15,
   "metadata": {
    "collapsed": false
   },
   "outputs": [
    {
     "data": {
      "text/plain": [
       "array([[ 2,  4,  6],\n",
       "       [ 8, 10, 12]])"
      ]
     },
     "execution_count": 15,
     "metadata": {},
     "output_type": "execute_result"
    }
   ],
   "source": [
    "A = np.array([[1, 2, 3], [4, 5, 6]])\n",
    "B = [(1, 2, 3), [4, 5, 6]]\n",
    "A + B"
   ]
  },
  {
   "cell_type": "markdown",
   "metadata": {},
   "source": [
    "If the arrays are not compatible in shape, binary operations cannot be applied. (the notion \"compatibility in shape\" will be described below)"
   ]
  },
  {
   "cell_type": "code",
   "execution_count": 16,
   "metadata": {
    "collapsed": false
   },
   "outputs": [
    {
     "name": "stdout",
     "output_type": "stream",
     "text": [
      "(2L, 2L)\n",
      "(2L, 3L)\n",
      "operands could not be broadcast together with shapes (2,2) (2,3) \n"
     ]
    }
   ],
   "source": [
    "A = np.array([[1, 2], [3, 4]])\n",
    "B = np.array([[1, 2, 3], [3, 4, 6]])\n",
    "print(A.shape)\n",
    "print(B.shape)\n",
    "try:\n",
    "    print(A + B)\n",
    "except Exception as e:\n",
    "    print(e)"
   ]
  },
  {
   "cell_type": "markdown",
   "metadata": {},
   "source": [
    "Two arrays $A$ of shape $(a_{d_A}, \\ldots,a_2, a_1)$ and $B$ of shape $(b_{d_B}, \\ldots, b_2, b_1)$ are compatible in shape if $a_i = b_i$ or $a_i = 1$ or $b_i = 1$ for all $i = 1, \\ldots, \\min(d_A, d_B)$."
   ]
  },
  {
   "cell_type": "markdown",
   "metadata": {},
   "source": [
    "Examples of compatible-in-shape numpy-arrays:"
   ]
  },
  {
   "cell_type": "raw",
   "metadata": {},
   "source": [
    "A      (2d array):  5 x 4\n",
    "B      (1d array):      1\n",
    "Result (2d array):  5 x 4\n",
    "\n",
    "A      (2d array):  5 x 4\n",
    "B      (1d array):      4\n",
    "Result (2d array):  5 x 4\n",
    "\n",
    "A      (3d array):  15 x 3 x 5\n",
    "B      (3d array):  15 x 1 x 5\n",
    "Result (3d array):  15 x 3 x 5\n",
    "\n",
    "A      (3d array):  15 x 3 x 5\n",
    "B      (2d array):       3 x 5\n",
    "Result (3d array):  15 x 3 x 5\n",
    "\n",
    "A      (3d array):  15 x 3 x 5\n",
    "B      (2d array):       3 x 1\n",
    "Result (3d array):  15 x 3 x 5"
   ]
  },
  {
   "cell_type": "markdown",
   "metadata": {},
   "source": [
    "Operations on compatible-in-shape numpy-arrays can be performed by duplicating every lists at level $i$ to $b_i$ copies where $a_i = 1$ or $i < \\min(d_A, d_B)$ and vice versa."
   ]
  },
  {
   "cell_type": "code",
   "execution_count": 17,
   "metadata": {
    "collapsed": false
   },
   "outputs": [
    {
     "name": "stdout",
     "output_type": "stream",
     "text": [
      "(2L,)\n",
      "(2L, 2L)\n",
      "---------Method1---------\n",
      "[[2 3]\n",
      " [4 5]]\n",
      "---------Method2---------\n",
      "[[2 3]\n",
      " [4 5]]\n",
      "---------Method3---------\n",
      "[[2 3]\n",
      " [4 5]]\n"
     ]
    }
   ],
   "source": [
    "A = np.array([1, 1])\n",
    "B = np.array([[1, 2], [3, 4]])\n",
    "print(A.shape)\n",
    "print(B.shape)\n",
    "print(\"---------Method1---------\")\n",
    "print(A + B)\n",
    "print(\"---------Method2---------\")\n",
    "AA = np.array([[1, 1], [1, 1]])\n",
    "print(AA + B)\n",
    "print(\"---------Method3---------\")\n",
    "print(1 + B)"
   ]
  },
  {
   "cell_type": "markdown",
   "metadata": {},
   "source": [
    "## 2.4. numpy.dot"
   ]
  },
  {
   "cell_type": "markdown",
   "metadata": {},
   "source": [
    "The method **dot** in numpy is constructed to compute matrix multiplication and vector dot product. Do not consider it as a binary operation (do not apply it pointwisely).\n",
    "\n",
    "If $A$ is of shape $(a_{d_A}, \\ldots,a_2, a_1)$ and $B$ of shape $(b_{d_B}, \\ldots, b_2, b_1)$, then **numpy.dot(A, B)** is defined if \n",
    "- $a_1 = b_2$\n",
    "- or $d_B = 1$ and $a_1 = b_1$\n",
    "\n",
    "In the first case, **numpy.dot(A, B)** is an array $C$ of shape $(a_{d_A}, \\ldots, a_3, a_2, b_{d_B}, b_3, b_1)$, and:\n",
    "$$\n",
    "C[\\dots, i, \\ldots, j] = \\sum(  A[\\ldots, i, :] * B[ \\ldots, :, j] )\n",
    "$$"
   ]
  },
  {
   "cell_type": "code",
   "execution_count": 18,
   "metadata": {
    "collapsed": false
   },
   "outputs": [
    {
     "name": "stdout",
     "output_type": "stream",
     "text": [
      "(2L, 2L, 3L)\n",
      "(3L, 3L, 2L)\n",
      "Shape of A*B\n",
      "(2L, 2L, 3L, 2L)\n"
     ]
    }
   ],
   "source": [
    "A = np.array([ [[1, 2, 3], [4, 5, 6]], [[0, 2, 0], [1, 0, 2]] ])\n",
    "#print(A)\n",
    "print(A.shape)\n",
    "B = np.array([ [[1, 2], [2, 3], [3, 2]], [[1, 1], [1, 2], [2, 1]], [[2, 1], [0, 2], [1, 0]] ])\n",
    "#print(B)\n",
    "print(B.shape)\n",
    "C = np.dot(A, B)\n",
    "print(\"Shape of A*B\")\n",
    "print(C.shape)\n",
    "\n",
    "#print(C)\n",
    "#print(C[0,0,0,0])\n",
    "#print(sum(A[0,0,:] * B[0,:,0]))"
   ]
  },
  {
   "cell_type": "markdown",
   "metadata": {},
   "source": [
    "In the second case, **numpy.dot(A, B)** is an array $C$ of shape $(a_{d_A}, \\ldots, a_3, a_2)$, and:\n",
    "$$\n",
    "C[\\dots, i, j] = \\sum(  A[\\ldots, i, :] * B )\n",
    "$$"
   ]
  },
  {
   "cell_type": "code",
   "execution_count": 19,
   "metadata": {
    "collapsed": false
   },
   "outputs": [
    {
     "name": "stdout",
     "output_type": "stream",
     "text": [
      "[[[1 2 3]\n",
      "  [4 5 6]]\n",
      "\n",
      " [[0 2 0]\n",
      "  [1 0 2]]]\n",
      "[1, 2, 3]\n",
      "A.B = \n",
      "[[14 32]\n",
      " [ 4  7]]\n"
     ]
    }
   ],
   "source": [
    "A = np.array([ [[1, 2, 3], [4, 5, 6]], [[0, 2, 0], [1, 0, 2]] ])\n",
    "B = [1, 2, 3]\n",
    "print(A)\n",
    "print(B)\n",
    "print(\"A.B = \")\n",
    "print(A.dot(B))"
   ]
  },
  {
   "cell_type": "markdown",
   "metadata": {},
   "source": [
    "Corollary:\n",
    "- If $A, B$ are vectors: **numpy.dot** returns the dot product\n",
    "- If $A$ is matrix, $B$ is vector, it returns $AB$.\n",
    "- If $A, B$ are matrices, it returns $AB$.\n",
    "- If $A$ is vector, $B$ is matrix, it returns $A^t B$."
   ]
  },
  {
   "cell_type": "code",
   "execution_count": 20,
   "metadata": {
    "collapsed": false
   },
   "outputs": [
    {
     "name": "stdout",
     "output_type": "stream",
     "text": [
      "Matrix dot matrix\n",
      "[[10 13]\n",
      " [25 34]]\n",
      "Matrix dot vector\n",
      "[20 44]\n",
      "Vector dot vector\n",
      "30\n",
      "Vector dot matrix\n",
      "[14 17]\n"
     ]
    }
   ],
   "source": [
    "A = np.array([[1, 2, 3], [4, 5, 6]])\n",
    "B = np.array([[2, 3], [1, 2], [2, 2]])\n",
    "v = np.array([1, 2, 5])\n",
    "print(\"Matrix dot matrix\")\n",
    "print(A.dot(B))\n",
    "print(\"Matrix dot vector\")\n",
    "print(A.dot(v))\n",
    "print(\"Vector dot vector\")\n",
    "print(v.dot(v))\n",
    "print(\"Vector dot matrix\")\n",
    "print(v.dot(B))"
   ]
  },
  {
   "cell_type": "markdown",
   "metadata": {},
   "source": [
    "If we want to compute $vv^t$, where $v$ is a vector?"
   ]
  },
  {
   "cell_type": "code",
   "execution_count": 21,
   "metadata": {
    "collapsed": false
   },
   "outputs": [
    {
     "name": "stdout",
     "output_type": "stream",
     "text": [
      "[[ 1  2  5]\n",
      " [ 2  4 10]\n",
      " [ 5 10 25]]\n"
     ]
    }
   ],
   "source": [
    "v = np.array([1, 2, 5])\n",
    "print(v.reshape(3,1).dot(v.reshape(1, 3)))"
   ]
  },
  {
   "cell_type": "markdown",
   "metadata": {},
   "source": [
    "## 2.5. Linear Algebra: Vectors and Matrices"
   ]
  },
  {
   "cell_type": "markdown",
   "metadata": {},
   "source": [
    "**Zero vector**"
   ]
  },
  {
   "cell_type": "code",
   "execution_count": 22,
   "metadata": {
    "collapsed": false
   },
   "outputs": [
    {
     "data": {
      "text/plain": [
       "array([ 0.,  0.,  0.])"
      ]
     },
     "execution_count": 22,
     "metadata": {},
     "output_type": "execute_result"
    }
   ],
   "source": [
    "O = np.zeros(3)\n",
    "O"
   ]
  },
  {
   "cell_type": "markdown",
   "metadata": {},
   "source": [
    "**Zero matrices**"
   ]
  },
  {
   "cell_type": "code",
   "execution_count": 23,
   "metadata": {
    "collapsed": false
   },
   "outputs": [
    {
     "data": {
      "text/plain": [
       "array([[ 0.,  0.,  0.,  0.],\n",
       "       [ 0.,  0.,  0.,  0.],\n",
       "       [ 0.,  0.,  0.,  0.]])"
      ]
     },
     "execution_count": 23,
     "metadata": {},
     "output_type": "execute_result"
    }
   ],
   "source": [
    "O = np.zeros((3, 4))\n",
    "O"
   ]
  },
  {
   "cell_type": "markdown",
   "metadata": {},
   "source": [
    "**Identity matrix**\n"
   ]
  },
  {
   "cell_type": "code",
   "execution_count": 24,
   "metadata": {
    "collapsed": false
   },
   "outputs": [
    {
     "data": {
      "text/plain": [
       "array([[ 4.,  0.,  0.,  0.,  0.],\n",
       "       [ 0.,  4.,  0.,  0.,  0.],\n",
       "       [ 0.,  0.,  4.,  0.,  0.],\n",
       "       [ 0.,  0.,  0.,  4.,  0.],\n",
       "       [ 0.,  0.,  0.,  0.,  4.]])"
      ]
     },
     "execution_count": 24,
     "metadata": {},
     "output_type": "execute_result"
    }
   ],
   "source": [
    "I = np.eye(5)\n",
    "4 * I"
   ]
  },
  {
   "cell_type": "markdown",
   "metadata": {},
   "source": [
    "**Diagonal matrix**"
   ]
  },
  {
   "cell_type": "code",
   "execution_count": 25,
   "metadata": {
    "collapsed": false
   },
   "outputs": [
    {
     "data": {
      "text/plain": [
       "array([[2, 0, 0, 0],\n",
       "       [0, 3, 0, 0],\n",
       "       [0, 0, 4, 0],\n",
       "       [0, 0, 0, 5]])"
      ]
     },
     "execution_count": 25,
     "metadata": {},
     "output_type": "execute_result"
    }
   ],
   "source": [
    "D = np.diag([2, 3, 4, 5])\n",
    "D"
   ]
  },
  {
   "cell_type": "markdown",
   "metadata": {},
   "source": [
    "**Transpose**"
   ]
  },
  {
   "cell_type": "code",
   "execution_count": 26,
   "metadata": {
    "collapsed": false
   },
   "outputs": [
    {
     "data": {
      "text/plain": [
       "array([[1, 3],\n",
       "       [2, 4]])"
      ]
     },
     "execution_count": 26,
     "metadata": {},
     "output_type": "execute_result"
    }
   ],
   "source": [
    "A = np.array([[1, 2], [3, 4]])\n",
    "A.transpose()\n",
    "#A.T"
   ]
  },
  {
   "cell_type": "markdown",
   "metadata": {},
   "source": [
    "**Inverse**"
   ]
  },
  {
   "cell_type": "code",
   "execution_count": 27,
   "metadata": {
    "collapsed": false
   },
   "outputs": [
    {
     "data": {
      "text/plain": [
       "array([[-2. ,  1. ],\n",
       "       [ 1.5, -0.5]])"
      ]
     },
     "execution_count": 27,
     "metadata": {},
     "output_type": "execute_result"
    }
   ],
   "source": [
    "A = np.array([[1, 2], [3, 4]])\n",
    "np.linalg.inv(A)"
   ]
  },
  {
   "cell_type": "markdown",
   "metadata": {},
   "source": [
    "**Determinant**"
   ]
  },
  {
   "cell_type": "code",
   "execution_count": 28,
   "metadata": {
    "collapsed": false
   },
   "outputs": [
    {
     "data": {
      "text/plain": [
       "-2.0000000000000004"
      ]
     },
     "execution_count": 28,
     "metadata": {},
     "output_type": "execute_result"
    }
   ],
   "source": [
    "A = np.array([[1, 2], [3, 4]])\n",
    "np.linalg.det(A)"
   ]
  },
  {
   "cell_type": "markdown",
   "metadata": {},
   "source": [
    "**SVD**"
   ]
  },
  {
   "cell_type": "code",
   "execution_count": 29,
   "metadata": {
    "collapsed": false
   },
   "outputs": [
    {
     "data": {
      "text/plain": [
       "(array([[-0.40455358, -0.9145143 ],\n",
       "        [-0.9145143 ,  0.40455358]]),\n",
       " array([ 5.4649857 ,  0.36596619]),\n",
       " array([[-0.57604844, -0.81741556],\n",
       "        [ 0.81741556, -0.57604844]]))"
      ]
     },
     "execution_count": 29,
     "metadata": {},
     "output_type": "execute_result"
    }
   ],
   "source": [
    "A = np.array([[1, 2], [3, 4]])\n",
    "U, S, V = np.linalg.svd(A)\n",
    "U, S, V"
   ]
  },
  {
   "cell_type": "markdown",
   "metadata": {},
   "source": [
    "**Diagonalisation**"
   ]
  },
  {
   "cell_type": "code",
   "execution_count": 30,
   "metadata": {
    "collapsed": false
   },
   "outputs": [
    {
     "data": {
      "text/plain": [
       "(array([-0.37228132,  5.37228132]), array([[-0.82456484, -0.41597356],\n",
       "        [ 0.56576746, -0.90937671]]))"
      ]
     },
     "execution_count": 30,
     "metadata": {},
     "output_type": "execute_result"
    }
   ],
   "source": [
    "A = np.array([[1, 2], [3, 4]])\n",
    "Eigs = np.linalg.eig(A)\n",
    "Eigs\n",
    "#print(A.dot(Eigs[1]) - Eigs[0]*Eigs[1])"
   ]
  },
  {
   "cell_type": "markdown",
   "metadata": {},
   "source": [
    "## 2.6 numpy.matrix"
   ]
  },
  {
   "cell_type": "markdown",
   "metadata": {},
   "source": [
    "If we are interested in matrices (numpy-array of **ndim** 2 only), we can use **numpy.matrix**. **numpy.matrix** is a subclass of **numpy.array**, hence inherits attributes and methods of numpy-arrays.\n",
    "\n",
    "Using **numpy.matrix** the **\\*** operation performs matrix multiplication (not elementwise multiplication). "
   ]
  },
  {
   "cell_type": "code",
   "execution_count": 31,
   "metadata": {
    "collapsed": false
   },
   "outputs": [
    {
     "name": "stdout",
     "output_type": "stream",
     "text": [
      "[[ 1.   2.5]\n",
      " [ 3.   0.5]]\n",
      "[[-1  2]\n",
      " [ 0 -1]]\n",
      "(<class 'numpy.matrixlib.defmatrix.matrix'>, <class 'numpy.matrixlib.defmatrix.matrix'>)\n",
      "[[-1.  -0.5]\n",
      " [-3.   5.5]]\n",
      "[[ 2.  5.]\n",
      " [ 6.  1.]]\n"
     ]
    }
   ],
   "source": [
    "M = np.matrix(\"1 2.5; 3 0.5\")\n",
    "N = np.matrix([[-1, 2], [0, -1]])\n",
    "print(M)\n",
    "print(N)\n",
    "print(type(M), type(N))\n",
    "print(M*N)\n",
    "print(2*M)"
   ]
  },
  {
   "cell_type": "markdown",
   "metadata": {},
   "source": [
    "Operations between a matrix and an array return a matrix."
   ]
  },
  {
   "cell_type": "code",
   "execution_count": 32,
   "metadata": {
    "collapsed": false
   },
   "outputs": [
    {
     "name": "stdout",
     "output_type": "stream",
     "text": [
      "(<class 'numpy.matrixlib.defmatrix.matrix'>, <class 'numpy.matrixlib.defmatrix.matrix'>)\n",
      "[[-1.  -0.5]\n",
      " [-3.   5.5]]\n",
      "<class 'numpy.matrixlib.defmatrix.matrix'>\n"
     ]
    }
   ],
   "source": [
    "M = np.matrix(\"1 2.5; 3 0.5\")\n",
    "N = np.matrix([[-1, 2], [0, -1]])\n",
    "print(type(M), type(N))\n",
    "print(M*N)\n",
    "print(type(M*N))"
   ]
  },
  {
   "cell_type": "markdown",
   "metadata": {},
   "source": [
    "**Operations on matrices**"
   ]
  },
  {
   "cell_type": "code",
   "execution_count": 33,
   "metadata": {
    "collapsed": false
   },
   "outputs": [
    {
     "name": "stdout",
     "output_type": "stream",
     "text": [
      "Inverse\n",
      "[[-0.07142857  0.35714286]\n",
      " [ 0.42857143 -0.14285714]]\n",
      "SVD\n",
      "(matrix([[-0.62087063, -0.78391305],\n",
      "        [-0.78391305,  0.62087063]]), array([ 3.55190967,  1.97077084]), matrix([[-0.83690466, -0.54734869],\n",
      "        [ 0.54734869, -0.83690466]]))\n",
      "Diagonalization\n",
      "(array([ 3.5, -2. ]), matrix([[ 0.70710678, -0.6401844 ],\n",
      "        [ 0.70710678,  0.76822128]]))\n"
     ]
    }
   ],
   "source": [
    "M = np.matrix(\"1 2.5; 3 0.5\")\n",
    "print(\"Inverse\")\n",
    "print(np.linalg.inv(M))\n",
    "print(\"SVD\")\n",
    "print(np.linalg.svd(M))\n",
    "print(\"Diagonalization\")\n",
    "print(np.linalg.eig(M))"
   ]
  },
  {
   "cell_type": "markdown",
   "metadata": {},
   "source": [
    "**Attention:** If we want to multiply a numpy.matrix with a vector, the vector must be represented as a matrix or must be reshaped. The result is a numpy.matrix."
   ]
  },
  {
   "cell_type": "code",
   "execution_count": 34,
   "metadata": {
    "collapsed": false
   },
   "outputs": [
    {
     "name": "stdout",
     "output_type": "stream",
     "text": [
      "[[ 6.]\n",
      " [ 4.]]\n"
     ]
    }
   ],
   "source": [
    "M = np.matrix(\"1 2.5; 3 0.5\")\n",
    "v = np.array([1, 2])\n",
    "v = v.reshape(2, 1)\n",
    "print(M*v)"
   ]
  },
  {
   "cell_type": "markdown",
   "metadata": {},
   "source": [
    "## 2.7 Other options"
   ]
  },
  {
   "cell_type": "markdown",
   "metadata": {},
   "source": [
    "We can get a uniform partition on any $[a, b]$ segment by using **arange** or **linspace** methods. **arange** requires the mesh  (length of each subinterval) while **linspace** requires the number of points as an argument.\n",
    "\n",
    "Attention: **arange(a, b, something)** does not contains **b**, while **linspace** does."
   ]
  },
  {
   "cell_type": "code",
   "execution_count": 35,
   "metadata": {
    "collapsed": false
   },
   "outputs": [
    {
     "name": "stdout",
     "output_type": "stream",
     "text": [
      "[ 1.   1.1  1.2  1.3  1.4  1.5  1.6  1.7  1.8  1.9  2.   2.1  2.2  2.3  2.4\n",
      "  2.5  2.6  2.7  2.8  2.9  3.   3.1  3.2  3.3  3.4  3.5  3.6  3.7  3.8  3.9\n",
      "  4.   4.1  4.2  4.3  4.4  4.5  4.6  4.7  4.8  4.9]\n"
     ]
    }
   ],
   "source": [
    "a = np.arange(1, 5, 0.1)\n",
    "print(a)"
   ]
  },
  {
   "cell_type": "code",
   "execution_count": 36,
   "metadata": {
    "collapsed": false
   },
   "outputs": [
    {
     "name": "stdout",
     "output_type": "stream",
     "text": [
      "[ 1.   1.1  1.2  1.3  1.4  1.5  1.6  1.7  1.8  1.9  2.   2.1  2.2  2.3  2.4\n",
      "  2.5  2.6  2.7  2.8  2.9  3.   3.1  3.2  3.3  3.4  3.5  3.6  3.7  3.8  3.9\n",
      "  4.   4.1  4.2  4.3  4.4  4.5  4.6  4.7  4.8  4.9  5. ]\n"
     ]
    }
   ],
   "source": [
    "b = np.linspace(1, 5, 41)\n",
    "print(b)"
   ]
  },
  {
   "cell_type": "markdown",
   "metadata": {},
   "source": [
    "We can reshape an array using **reshape** method."
   ]
  },
  {
   "cell_type": "code",
   "execution_count": 37,
   "metadata": {
    "collapsed": false
   },
   "outputs": [
    {
     "name": "stdout",
     "output_type": "stream",
     "text": [
      "Reshape to matrix 10x10\n",
      "[[  1   2   3   4   5   6   7   8   9  10]\n",
      " [ 11  12  13  14  15  16  17  18  19  20]\n",
      " [ 21  22  23  24  25  26  27  28  29  30]\n",
      " [ 31  32  33  34  35  36  37  38  39  40]\n",
      " [ 41  42  43  44  45  46  47  48  49  50]\n",
      " [ 51  52  53  54  55  56  57  58  59  60]\n",
      " [ 61  62  63  64  65  66  67  68  69  70]\n",
      " [ 71  72  73  74  75  76  77  78  79  80]\n",
      " [ 81  82  83  84  85  86  87  88  89  90]\n",
      " [ 91  92  93  94  95  96  97  98  99 100]]\n",
      "Reshape to 3d array 2x5x10\n",
      "[[[  1   2   3   4   5   6   7   8   9  10]\n",
      "  [ 11  12  13  14  15  16  17  18  19  20]\n",
      "  [ 21  22  23  24  25  26  27  28  29  30]\n",
      "  [ 31  32  33  34  35  36  37  38  39  40]\n",
      "  [ 41  42  43  44  45  46  47  48  49  50]]\n",
      "\n",
      " [[ 51  52  53  54  55  56  57  58  59  60]\n",
      "  [ 61  62  63  64  65  66  67  68  69  70]\n",
      "  [ 71  72  73  74  75  76  77  78  79  80]\n",
      "  [ 81  82  83  84  85  86  87  88  89  90]\n",
      "  [ 91  92  93  94  95  96  97  98  99 100]]]\n"
     ]
    }
   ],
   "source": [
    "A = np.array(range(1, 101))\n",
    "print(\"Reshape to matrix 10x10\")\n",
    "B = A.reshape(10, 10)\n",
    "print(B)\n",
    "print(\"Reshape to 3d array 2x5x10\")\n",
    "C = A.reshape(2, 5, 10)\n",
    "print(C)"
   ]
  },
  {
   "cell_type": "markdown",
   "metadata": {},
   "source": [
    "**flatten** is used to reshape nd-arrays to 1d-array."
   ]
  },
  {
   "cell_type": "code",
   "execution_count": 38,
   "metadata": {
    "collapsed": false
   },
   "outputs": [
    {
     "name": "stdout",
     "output_type": "stream",
     "text": [
      "[  1   2   3   4   5   6   7   8   9  10  11  12  13  14  15  16  17  18\n",
      "  19  20  21  22  23  24  25  26  27  28  29  30  31  32  33  34  35  36\n",
      "  37  38  39  40  41  42  43  44  45  46  47  48  49  50  51  52  53  54\n",
      "  55  56  57  58  59  60  61  62  63  64  65  66  67  68  69  70  71  72\n",
      "  73  74  75  76  77  78  79  80  81  82  83  84  85  86  87  88  89  90\n",
      "  91  92  93  94  95  96  97  98  99 100]\n"
     ]
    }
   ],
   "source": [
    "A = np.array(range(1, 101))\n",
    "B = A.reshape(10, 10)\n",
    "print(B.flatten())"
   ]
  },
  {
   "cell_type": "markdown",
   "metadata": {},
   "source": [
    "We can combine ndarrays horizontally or vertically by **vstack** and **hstack**."
   ]
  },
  {
   "cell_type": "code",
   "execution_count": 39,
   "metadata": {
    "collapsed": false
   },
   "outputs": [
    {
     "name": "stdout",
     "output_type": "stream",
     "text": [
      "[[1 2]\n",
      " [3 4]\n",
      " [5 6]\n",
      " [7 8]]\n",
      "[[1 2 5 6]\n",
      " [3 4 7 8]]\n"
     ]
    }
   ],
   "source": [
    "A = np.array([[1, 2], [3, 4]])\n",
    "B = np.array([[5, 6], [7, 8]])\n",
    "print(np.vstack((A, B)))\n",
    "print(np.hstack((A, B)))"
   ]
  },
  {
   "cell_type": "markdown",
   "metadata": {},
   "source": [
    "**numpy** supports basic functions in analysis and trigonometry. Instead of importing **math**, we can import **numpy**."
   ]
  },
  {
   "cell_type": "code",
   "execution_count": 40,
   "metadata": {
    "collapsed": false
   },
   "outputs": [
    {
     "data": {
      "text/plain": [
       "(1.0, 2.9957322735539909)"
      ]
     },
     "execution_count": 40,
     "metadata": {},
     "output_type": "execute_result"
    }
   ],
   "source": [
    "np.sin(np.pi/2), np.log(20)"
   ]
  },
  {
   "cell_type": "markdown",
   "metadata": {},
   "source": [
    "# 3. scipy"
   ]
  },
  {
   "cell_type": "markdown",
   "metadata": {},
   "source": [
    "## 3.1 scipy.special"
   ]
  },
  {
   "cell_type": "markdown",
   "metadata": {},
   "source": [
    "Lots of famous functions in mathematics are defined in **scipy.special**. Check <a href=\"https://docs.scipy.org/doc/scipy/reference/special.html#module-scipy.special\"> this link</a> to scan these functions.\n",
    "\n",
    "Here are some examples:\n",
    "\n",
    "**Gamma function**\n",
    "$$\n",
    "\\Gamma(z) = \\int_0^{+\\infty} t^{z-1}e^{-t} dt\n",
    "$$"
   ]
  },
  {
   "cell_type": "code",
   "execution_count": 41,
   "metadata": {
    "collapsed": true
   },
   "outputs": [],
   "source": [
    "import scipy.special as sp"
   ]
  },
  {
   "cell_type": "code",
   "execution_count": 42,
   "metadata": {
    "collapsed": false
   },
   "outputs": [
    {
     "data": {
      "text/plain": [
       "(6.0, 1.0, 120.0)"
      ]
     },
     "execution_count": 42,
     "metadata": {},
     "output_type": "execute_result"
    }
   ],
   "source": [
    "sp.gamma(4), sp.gamma(2), sp.gamma(6)"
   ]
  },
  {
   "cell_type": "markdown",
   "metadata": {},
   "source": [
    "**Beta function**\n",
    "$$\n",
    "B(x, y) = t^x(1-t)^{y-1}dt = \\frac{\\Gamma(x) \\Gamma(y)}{\\Gamma(x+y)}\n",
    "$$"
   ]
  },
  {
   "cell_type": "code",
   "execution_count": 43,
   "metadata": {
    "collapsed": false
   },
   "outputs": [
    {
     "data": {
      "text/plain": [
       "0.050000000000000003"
      ]
     },
     "execution_count": 43,
     "metadata": {},
     "output_type": "execute_result"
    }
   ],
   "source": [
    "sp.beta(2, 4)"
   ]
  },
  {
   "cell_type": "markdown",
   "metadata": {},
   "source": [
    "**Error function**\n",
    "$$\n",
    "erf(x) =\\frac2{\\sqrt{\\pi}} \\int_0^x e^{-t^2} dt\n",
    "$$"
   ]
  },
  {
   "cell_type": "code",
   "execution_count": 44,
   "metadata": {
    "collapsed": false
   },
   "outputs": [
    {
     "data": {
      "text/plain": [
       "(-1.0, 0.0, 0.84270079294971478, 1.0)"
      ]
     },
     "execution_count": 44,
     "metadata": {},
     "output_type": "execute_result"
    }
   ],
   "source": [
    "sp.erf(-1000), sp.erf(0), sp.erf(1), sp.erf(1000)"
   ]
  },
  {
   "cell_type": "markdown",
   "metadata": {},
   "source": [
    "## 3.2 scipy.integrate"
   ]
  },
  {
   "cell_type": "code",
   "execution_count": 45,
   "metadata": {
    "collapsed": false
   },
   "outputs": [],
   "source": [
    "import scipy.integrate as integrate"
   ]
  },
  {
   "cell_type": "markdown",
   "metadata": {
    "collapsed": true
   },
   "source": [
    "**scipy** supports simple, double and triple integration by **quad**, **dblquad** and **tplquad** methods.\n",
    "\n",
    "Examples:\n",
    "$$\n",
    "\\int_{0}^5 x dx\n",
    "$$"
   ]
  },
  {
   "cell_type": "code",
   "execution_count": 46,
   "metadata": {
    "collapsed": false
   },
   "outputs": [
    {
     "data": {
      "text/plain": [
       "(12.5, 1.3877787807814457e-13)"
      ]
     },
     "execution_count": 46,
     "metadata": {},
     "output_type": "execute_result"
    }
   ],
   "source": [
    "integrate.quad(lambda x: x, 0, 5)"
   ]
  },
  {
   "cell_type": "markdown",
   "metadata": {},
   "source": [
    "$$\n",
    "\\int_0^2 \\int_0^3 dy dx\n",
    "$$"
   ]
  },
  {
   "cell_type": "code",
   "execution_count": 47,
   "metadata": {
    "collapsed": false
   },
   "outputs": [
    {
     "data": {
      "text/plain": [
       "(6.0, 6.661338147750939e-14)"
      ]
     },
     "execution_count": 47,
     "metadata": {},
     "output_type": "execute_result"
    }
   ],
   "source": [
    "integrate.dblquad(lambda x, y: 1, 0, 2, lambda y: 0, lambda y: 3)"
   ]
  },
  {
   "cell_type": "markdown",
   "metadata": {},
   "source": [
    "The \"infinity\" quantity can be translated into **np.inf** in **numpy**."
   ]
  },
  {
   "cell_type": "markdown",
   "metadata": {},
   "source": [
    "$$\n",
    "\\int_0^{+\\infty} \\int_1^{+\\infty} \\frac{e^{-xt}}{t^n} dt dx = \\frac1n\n",
    "$$\n",
    "\n",
    "Attention: In function declaration: declare $t$ first. In boundary declaration: declare endpoints of $x$ first."
   ]
  },
  {
   "cell_type": "code",
   "execution_count": 48,
   "metadata": {
    "collapsed": false
   },
   "outputs": [
    {
     "data": {
      "text/plain": [
       "(0.499999999909358, 1.4640839512484866e-08)"
      ]
     },
     "execution_count": 48,
     "metadata": {},
     "output_type": "execute_result"
    }
   ],
   "source": [
    "n = 3\n",
    "integrate.dblquad(lambda t, x: np.exp(-x*t)/(t**2), 0, np.inf, lambda t: 1, lambda t: np.inf)"
   ]
  },
  {
   "cell_type": "markdown",
   "metadata": {},
   "source": [
    "$$\n",
    "\\int_0^{1/2}\\int_0^{1-2y} xy dx dy = \\frac1{96}\n",
    "$$"
   ]
  },
  {
   "cell_type": "code",
   "execution_count": 49,
   "metadata": {
    "collapsed": false
   },
   "outputs": [
    {
     "data": {
      "text/plain": [
       "(0.010416666666666668, 1.1564823173178715e-16)"
      ]
     },
     "execution_count": 49,
     "metadata": {},
     "output_type": "execute_result"
    }
   ],
   "source": [
    "integrate.dblquad(lambda x, y: x*y, 0, 0.5, lambda y:0, lambda y: 1 - 2*y)"
   ]
  },
  {
   "cell_type": "markdown",
   "metadata": {},
   "source": [
    "**Triple integration**\n",
    "$$\n",
    "\\int_0^1 \\int_0^\\pi \\int_0^{2\\pi} r^2 \\sin\\theta d\\phi d\\theta dr = \\frac43 \\pi\n",
    "$$"
   ]
  },
  {
   "cell_type": "code",
   "execution_count": 50,
   "metadata": {
    "collapsed": false
   },
   "outputs": [
    {
     "name": "stdout",
     "output_type": "stream",
     "text": [
      "(4.18879020478639, 4.650491330678174e-14)\n"
     ]
    },
    {
     "data": {
      "text/plain": [
       "1.333333333333333"
      ]
     },
     "execution_count": 50,
     "metadata": {},
     "output_type": "execute_result"
    }
   ],
   "source": [
    "V = integrate.tplquad(lambda phi, theta, r: r**2 * np.sin(theta), 0, 1, \\\n",
    "                      lambda r: 0, lambda r: np.pi, lambda r, theta: 0, lambda r, theta: 2*np.pi)\n",
    "print(V)\n",
    "V[0]/np.pi"
   ]
  },
  {
   "cell_type": "markdown",
   "metadata": {},
   "source": [
    "**n-tuple inttegration**\n",
    "\n",
    "$$\n",
    "\\int_0^4 \\int_0^3 \\int_0^2 \\int_0^1 xyzt dt dz dy dx\n",
    "$$"
   ]
  },
  {
   "cell_type": "code",
   "execution_count": 51,
   "metadata": {
    "collapsed": false
   },
   "outputs": [
    {
     "data": {
      "text/plain": [
       "(35.99999999999999, 3.9968028886505625e-13)"
      ]
     },
     "execution_count": 51,
     "metadata": {},
     "output_type": "execute_result"
    }
   ],
   "source": [
    "integrate.nquad(lambda t, z, y, x: x*y*z*t, [[0, 1], [0, 2], [0, 3], [0, 4]])"
   ]
  },
  {
   "cell_type": "markdown",
   "metadata": {},
   "source": [
    "$$\n",
    "\\int_0^4 \\int_0^3 \\int_0^2 \\int_0^z xyzt dt dz dy dx\n",
    "$$"
   ]
  },
  {
   "cell_type": "code",
   "execution_count": 52,
   "metadata": {
    "collapsed": false
   },
   "outputs": [
    {
     "data": {
      "text/plain": [
       "(288.0, 3.197442310920451e-12)"
      ]
     },
     "execution_count": 52,
     "metadata": {},
     "output_type": "execute_result"
    }
   ],
   "source": [
    "bound_x = [0, 4]\n",
    "bound_y = lambda x: [0, 3]\n",
    "bound_z = lambda x, y: [0, 2]\n",
    "bound_t = lambda x, y, z: [0, z]\n",
    "integrate.nquad(lambda t, z, y, x: x*y*z*t, [bound_t, bound_z, bound_y, bound_x])"
   ]
  },
  {
   "cell_type": "markdown",
   "metadata": {},
   "source": [
    "## 3.3 scipy.optimize"
   ]
  },
  {
   "cell_type": "markdown",
   "metadata": {},
   "source": [
    "**scipy.optimize.minimize** is implemented to solve the following problem:\n",
    "$$\n",
    "\\min f(x)\n",
    "$$\n",
    "subject to\n",
    "$$\n",
    "g_i(x) \\geq 0, i = 1, \\ldots, m\n",
    "$$\n",
    "$$\n",
    "h_j(x) = 0, j = 1, \\ldots, p\n",
    "$$"
   ]
  },
  {
   "cell_type": "markdown",
   "metadata": {},
   "source": [
    "### Unconstrained minimization problems"
   ]
  },
  {
   "cell_type": "markdown",
   "metadata": {},
   "source": [
    "Lots of algorithms have been implemented in **scipy.optimize** to help finding local extrema of functions."
   ]
  },
  {
   "cell_type": "code",
   "execution_count": 53,
   "metadata": {
    "collapsed": false
   },
   "outputs": [
    {
     "name": "stdout",
     "output_type": "stream",
     "text": [
      " final_simplex: (array([[ -2.99574681e-05,   1.00002458e+00,   1.99995674e+00],\n",
      "       [  6.10756697e-06,   1.00007518e+00,   1.99999499e+00],\n",
      "       [ -9.15711344e-06,   9.99930020e-01,   1.99996973e+00],\n",
      "       [ -7.91509640e-05,   9.99933173e-01,   2.00000977e+00]]), array([  3.37334837e-09,   5.71444736e-09,   5.89706185e-09,\n",
      "         1.08260635e-08]))\n",
      "           fun: 3.3733483697327058e-09\n",
      "       message: 'Optimization terminated successfully.'\n",
      "          nfev: 442\n",
      "           nit: 249\n",
      "        status: 0\n",
      "       success: True\n",
      "             x: array([ -2.99574681e-05,   1.00002458e+00,   1.99995674e+00])\n"
     ]
    }
   ],
   "source": [
    "from scipy.optimize import minimize\n",
    "\n",
    "def f(X):\n",
    "    x, y, z = X[0], X[1], X[2]\n",
    "    return x**2 + (y - 1)**2 + (z - 2)**2\n",
    "\n",
    "res = minimize(f, (10, 0, 0), method='nelder-mead')\n",
    "print(res)\n",
    "#print(res.x)\n",
    "#print(map(lambda x: round(x, 4), res.x))"
   ]
  },
  {
   "cell_type": "markdown",
   "metadata": {},
   "source": [
    "**Attention**: It is a local minimum only."
   ]
  },
  {
   "cell_type": "code",
   "execution_count": 54,
   "metadata": {
    "collapsed": false
   },
   "outputs": [
    {
     "name": "stdout",
     "output_type": "stream",
     "text": [
      "[-1.5708252]\n",
      "[-7.85400391]\n"
     ]
    }
   ],
   "source": [
    "def f(x):\n",
    "    return np.sin(x) \n",
    "\n",
    "res = minimize(f, 1.5, method='nelder-mead')\n",
    "print(res.x)\n",
    "res = minimize(f, -10, method='nelder-mead')\n",
    "print(res.x)\n",
    "#print(res.x)\n",
    "#print(map(lambda x: round(x, 4), res.x))"
   ]
  },
  {
   "cell_type": "markdown",
   "metadata": {},
   "source": [
    "The attributes **success** and **message** tells us if the algorithm is successful."
   ]
  },
  {
   "cell_type": "code",
   "execution_count": 55,
   "metadata": {
    "collapsed": false
   },
   "outputs": [
    {
     "name": "stdout",
     "output_type": "stream",
     "text": [
      " final_simplex: (array([[ -9.50737950e+28],\n",
      "       [ -4.75368975e+28]]), array([ -8.59374553e+86,  -1.07421819e+86]))\n",
      "           fun: -8.593745525161155e+86\n",
      "       message: 'Maximum number of function evaluations has been exceeded.'\n",
      "          nfev: 200\n",
      "           nit: 100\n",
      "        status: 1\n",
      "       success: False\n",
      "             x: array([ -9.50737950e+28])\n"
     ]
    }
   ],
   "source": [
    "def f(x):\n",
    "    return x**3\n",
    "\n",
    "res = minimize(f, 1.5, method='nelder-mead')\n",
    "#print(res.x)\n",
    "print(res)"
   ]
  },
  {
   "cell_type": "markdown",
   "metadata": {},
   "source": [
    "Compute the derivative helps the algorithms perform better."
   ]
  },
  {
   "cell_type": "code",
   "execution_count": 56,
   "metadata": {
    "collapsed": false
   },
   "outputs": [
    {
     "name": "stdout",
     "output_type": "stream",
     "text": [
      " final_simplex: (array([[ -2.99574681e-05,   1.00002458e+00,   1.99995674e+00],\n",
      "       [  6.10756697e-06,   1.00007518e+00,   1.99999499e+00],\n",
      "       [ -9.15711344e-06,   9.99930020e-01,   1.99996973e+00],\n",
      "       [ -7.91509640e-05,   9.99933173e-01,   2.00000977e+00]]), array([  3.37334837e-09,   5.71444736e-09,   5.89706185e-09,\n",
      "         1.08260635e-08]))\n",
      "           fun: 3.3733483697327058e-09\n",
      "       message: 'Optimization terminated successfully.'\n",
      "          nfev: 442\n",
      "           nit: 249\n",
      "        status: 0\n",
      "       success: True\n",
      "             x: array([ -2.99574681e-05,   1.00002458e+00,   1.99995674e+00])\n"
     ]
    }
   ],
   "source": [
    "from scipy.optimize import minimize\n",
    "\n",
    "def f(X):\n",
    "    x, y, z = X[0], X[1], X[2]\n",
    "    return x**2 + (y - 1)**2 + (z - 2)**2\n",
    "\n",
    "def df(X):\n",
    "    x, y, z = X[0], X[1], X[2]\n",
    "    return np.array([2*x, 2*(y-1), 2*(z-2)])\n",
    "    \n",
    "res = minimize(f, (10, 0, 0), method='nelder-mead')\n",
    "print(res)\n",
    "#print(res.x)\n",
    "#print(map(lambda x: round(x, 4), res.x))"
   ]
  },
  {
   "cell_type": "markdown",
   "metadata": {},
   "source": [
    "### Constrained minimization problems"
   ]
  },
  {
   "cell_type": "markdown",
   "metadata": {},
   "source": [
    "**Example:**\n",
    "$$\n",
    "\\max f(x, y) = 2xy + 2x - x^2 - 2y^2\n",
    "$$\n",
    "s.t\n",
    "$$\n",
    "x^3 - y = 0; y \\geq 1\n",
    "$$"
   ]
  },
  {
   "cell_type": "markdown",
   "metadata": {},
   "source": [
    "Constrains are represented as a tuple of dictionaries. "
   ]
  },
  {
   "cell_type": "code",
   "execution_count": 57,
   "metadata": {
    "collapsed": false
   },
   "outputs": [
    {
     "data": {
      "text/plain": [
       "     fun: -1.0000000000554907\n",
       "     jac: array([-2.,  2.,  0.])\n",
       " message: 'Optimization terminated successfully.'\n",
       "    nfev: 103\n",
       "     nit: 23\n",
       "    njev: 23\n",
       "  status: 0\n",
       " success: True\n",
       "       x: array([ 1.,  1.])"
      ]
     },
     "execution_count": 57,
     "metadata": {},
     "output_type": "execute_result"
    }
   ],
   "source": [
    "cons = ({'type': 'eq',\n",
    "         'fun' : lambda x: np.array([x[0]**3 - x[1]]),\n",
    "         'jac' : lambda x: np.array([3.0*(x[0]**2.0), -1.0])},\n",
    "        {'type': 'ineq',\n",
    "         'fun' : lambda x: np.array([x[1] - 1]),\n",
    "         'jac' : lambda x: np.array([0.0, 1.0])})\n",
    "\n",
    "def minusf(X):\n",
    "    x, y = X[0], X[1]\n",
    "    return -(2*x*y + 2*x - x**2 - 2*y**2)\n",
    "\n",
    "def dminusf(X):\n",
    "    x, y = X[0], X[1]\n",
    "    dfx = 2*x - 2*y - 2\n",
    "    dfy = -2*x + 4*y\n",
    "    return np.array([ dfx, dfy ])\n",
    "\n",
    "#res = minimize(f, [0, 0], method = \"SLSQP\")\n",
    "res = minimize(minusf, [0, 0], jac = dminusf, method = \"SLSQP\", constraints = cons)\n",
    "res"
   ]
  },
  {
   "cell_type": "markdown",
   "metadata": {},
   "source": [
    "## 3.4 scipy.misc"
   ]
  },
  {
   "cell_type": "markdown",
   "metadata": {},
   "source": [
    "**scipy.misc.derivative** can be used to compute the $n^{th} $derivative of a function "
   ]
  },
  {
   "cell_type": "code",
   "execution_count": 58,
   "metadata": {
    "collapsed": false
   },
   "outputs": [
    {
     "name": "stdout",
     "output_type": "stream",
     "text": [
      "-0.490842180556\n",
      "0.282556756546\n"
     ]
    }
   ],
   "source": [
    "import scipy.misc as misc\n",
    "\n",
    "def f(x):\n",
    "    return np.exp(-x**2)\n",
    "\n",
    "print(misc.derivative(f, 1))\n",
    "print(misc.derivative(f, 1, n = 2))"
   ]
  },
  {
   "cell_type": "markdown",
   "metadata": {},
   "source": [
    "## 3.5 scipy.stat"
   ]
  },
  {
   "cell_type": "markdown",
   "metadata": {},
   "source": [
    "### 3.5.1 Basic probability distributions\n",
    "**scipy.stat** supports lots of probability distributions:\n",
    "\n",
    "**Continuous**\n",
    "\n",
    "- **norm**\n",
    "- **uniform**\n",
    "- **expon**\n",
    "- ...\n",
    "\n",
    "**Discrete**\n",
    "- **bernoulli**\n",
    "- **binom**\n",
    "- **poisson**\n",
    "- ..."
   ]
  },
  {
   "cell_type": "code",
   "execution_count": 119,
   "metadata": {
    "collapsed": false
   },
   "outputs": [
    {
     "name": "stdout",
     "output_type": "stream",
     "text": [
      "1.0\n",
      "10.0\n",
      "100.0\n"
     ]
    },
    {
     "data": {
      "image/png": "[encoded data removed]",
      "text/plain": [
       "<matplotlib.figure.Figure at 0xb328240>"
      ]
     },
     "metadata": {},
     "output_type": "display_data"
    }
   ],
   "source": [
    "from scipy.stats import norm, uniform, expon, bernoulli, binom\n",
    "import matplotlib.pyplot as plt\n",
    "\n",
    "my_distribution = norm(1, 10)\n",
    "#my_distribution = uniform(0, 10)\n",
    "#my_distribution = expon(scale = 10)\n",
    "#my_distribution = bernoulli(0.7)\n",
    "#my_distribution = binom(10, 0.7)"
   ]
  },
  {
   "cell_type": "markdown",
   "metadata": {},
   "source": [
    "### 3.5.2 Methods"
   ]
  },
  {
   "cell_type": "markdown",
   "metadata": {},
   "source": [
    "- **rvs** Random Variates\n",
    "- **pdf** Probability Density Function\n",
    "- **cdf** Cumulative Distribution Function\n",
    "- **stats**: Return mean, variance, (Fisher’s) skew, or (Fisher’s) kurtosis\n",
    "- **mean**, **std**, **var**, **median**\n",
    "- **interval**"
   ]
  },
  {
   "cell_type": "code",
   "execution_count": 123,
   "metadata": {
    "collapsed": false
   },
   "outputs": [
    {
     "name": "stdout",
     "output_type": "stream",
     "text": [
      "1.0\n",
      "10.0\n",
      "100.0\n",
      "1.0\n",
      "(-15.448536269514729, 17.448536269514722)\n"
     ]
    },
    {
     "data": {
      "image/png": "[encoded data removed]",
      "text/plain": [
       "<matplotlib.figure.Figure at 0xad596d8>"
      ]
     },
     "metadata": {},
     "output_type": "display_data"
    }
   ],
   "source": [
    "from scipy.stats import norm, uniform, expon, bernoulli, binom\n",
    "import matplotlib.pyplot as plt\n",
    "\n",
    "my_distribution = norm(1, 10)\n",
    "#my_distribution = uniform(0, 10)\n",
    "#my_distribution = expon(scale = 10)\n",
    "#my_distribution = bernoulli(0.7)\n",
    "#my_distribution = binom(10, 0.7)\n",
    "print(my_distribution.mean())\n",
    "print(my_distribution.std())\n",
    "print(my_distribution.var())\n",
    "print(my_distribution.median())\n",
    "print(my_distribution.interval(0.9))\n",
    "\n",
    "sample = my_distribution.rvs(1000)\n",
    "plt.hist(sample, normed = 1)\n",
    "plt.plot(range(-30, 30), my_distribution.pdf(range(-30, 30)), 'r-', linewidth = 4)\n",
    "\n",
    "#plt.plot(range(-30, 30), my_distribution.cdf(range(-30, 30)), 'g-', linewidth = 4)\n",
    "plt.xlim(-30, 30)\n",
    "plt.show()"
   ]
  },
  {
   "cell_type": "markdown",
   "metadata": {},
   "source": [
    "### 3.5.3 Define one's own probability distribution"
   ]
  },
  {
   "cell_type": "markdown",
   "metadata": {},
   "source": [
    "Probability distributions can be discrete or continuous, they are subclasses of **rv_continuous** or **rv_discrete** classes.\n",
    "\n",
    "Example: we want to define a random variable with pdf:\n",
    "$$\n",
    "f(x) = \\frac{\\lambda}{2} e^{-\\lambda |x|}\n",
    "$$"
   ]
  },
  {
   "cell_type": "code",
   "execution_count": 153,
   "metadata": {
    "collapsed": false
   },
   "outputs": [
    {
     "data": {
      "text/plain": [
       "(-5, 5)"
      ]
     },
     "execution_count": 153,
     "metadata": {},
     "output_type": "execute_result"
    },
    {
     "data": {
      "image/png": "[encoded data removed]",
      "text/plain": [
       "<matplotlib.figure.Figure at 0xba109e8>"
      ]
     },
     "metadata": {},
     "output_type": "display_data"
    }
   ],
   "source": [
    "from scipy.stats import rv_continuous\n",
    "class my_distribution(rv_continuous):\n",
    "    def __init__(self, my_lambda):\n",
    "        rv_continuous.__init__(self)\n",
    "        self.my_lambda = my_lambda\n",
    "        \n",
    "    def _pdf(self, x):\n",
    "        return self.my_lambda / 2. * np.exp(-self.my_lambda * abs(x))\n",
    "\n",
    "X = my_distribution(1)\n",
    "\n",
    "sample = [X.rvs() for i in range(1000)]\n",
    "plt.hist(sample, normed = 1)\n",
    "plt.plot(np.arange(-10, 10, 0.1), X.pdf(np.arange(-10, 10, 0.1)), 'r-', linewidth = 4)\n",
    "plt.xlim(-5, 5)"
   ]
  },
  {
   "cell_type": "markdown",
   "metadata": {
    "collapsed": true
   },
   "source": [
    "# 4. matplotlib"
   ]
  },
  {
   "cell_type": "markdown",
   "metadata": {},
   "source": [
    "**matplotlib** is a plotting library in Python. Its most frequently used collection is **pyplot**."
   ]
  },
  {
   "cell_type": "code",
   "execution_count": 59,
   "metadata": {
    "collapsed": true
   },
   "outputs": [],
   "source": [
    "%matplotlib inline"
   ]
  },
  {
   "cell_type": "markdown",
   "metadata": {},
   "source": [
    "## 4.1 Plot a 2d-curve"
   ]
  },
  {
   "cell_type": "markdown",
   "metadata": {},
   "source": [
    "Plot $y = f(x)$ and $y = g(x)$ on the same graph."
   ]
  },
  {
   "cell_type": "code",
   "execution_count": 60,
   "metadata": {
    "collapsed": false
   },
   "outputs": [
    {
     "data": {
      "text/plain": [
       "[<matplotlib.lines.Line2D at 0x7fb7da0>,\n",
       " <matplotlib.lines.Line2D at 0x7fb7f60>]"
      ]
     },
     "execution_count": 60,
     "metadata": {},
     "output_type": "execute_result"
    },
    {
     "data": {
      "image/png": "[encoded data removed]",
      "text/plain": [
       "<matplotlib.figure.Figure at 0x7eb2278>"
      ]
     },
     "metadata": {},
     "output_type": "display_data"
    }
   ],
   "source": [
    "import matplotlib.pyplot as plt\n",
    "x = np.linspace(-10, 10, 101)\n",
    "y = x**2\n",
    "z = 10*abs(x)\n",
    "plt.plot(x, y, 'r-', x, z, 'b-')"
   ]
  },
  {
   "cell_type": "markdown",
   "metadata": {},
   "source": [
    "## 4.2 Customize styles"
   ]
  },
  {
   "cell_type": "markdown",
   "metadata": {},
   "source": [
    "Look at <a href=\"https://matplotlib.org/api/_as_gen/matplotlib.pyplot.plot.html#matplotlib.pyplot.plot\">this page</a> for style options."
   ]
  },
  {
   "cell_type": "code",
   "execution_count": 61,
   "metadata": {
    "collapsed": false
   },
   "outputs": [
    {
     "data": {
      "image/png": "[encoded data removed]",
      "text/plain": [
       "<matplotlib.figure.Figure at 0x7f53b70>"
      ]
     },
     "metadata": {},
     "output_type": "display_data"
    }
   ],
   "source": [
    "import matplotlib.pyplot as plt\n",
    "x = np.linspace(-10, 10, 101)\n",
    "y = x**2\n",
    "z = 10*abs(x)\n",
    "plt.plot(x, y, 'r--')\n",
    "plt.plot(x, z, color=\"green\", marker=\".\")\n",
    "plt.show()"
   ]
  },
  {
   "cell_type": "markdown",
   "metadata": {},
   "source": [
    "We can also limit axes, print labels and titles."
   ]
  },
  {
   "cell_type": "code",
   "execution_count": 62,
   "metadata": {
    "collapsed": false
   },
   "outputs": [
    {
     "data": {
      "text/plain": [
       "<matplotlib.legend.Legend at 0x8441390>"
      ]
     },
     "execution_count": 62,
     "metadata": {},
     "output_type": "execute_result"
    },
    {
     "data": {
      "image/png": "[encoded data removed]",
      "text/plain": [
       "<matplotlib.figure.Figure at 0x7ea2f98>"
      ]
     },
     "metadata": {},
     "output_type": "display_data"
    }
   ],
   "source": [
    "import matplotlib.pyplot as plt\n",
    "x = np.linspace(-10, 10, 101)\n",
    "y = x**2\n",
    "z = 10*abs(x)\n",
    "plt.plot(x, y, 'r--', label=\"f(x)\")\n",
    "plt.plot(x, z, color=\"green\", marker=\".\", label=\"g(x)\")\n",
    "plt.xlabel(\"x-coordinate\")\n",
    "plt.ylabel(\"y-coordinate\")\n",
    "plt.title(\"Two functions\")\n",
    "plt.axis([0, 5, 0, 40])\n",
    "#plt.xlim(0, 5)\n",
    "#plt.ylim(0, 40)\n",
    "plt.legend()\n",
    "#plt.legend(loc='best')"
   ]
  },
  {
   "cell_type": "markdown",
   "metadata": {},
   "source": [
    "We can also define the figure size or subplot."
   ]
  },
  {
   "cell_type": "code",
   "execution_count": 63,
   "metadata": {
    "collapsed": false
   },
   "outputs": [
    {
     "data": {
      "text/plain": [
       "<matplotlib.text.Text at 0x857d048>"
      ]
     },
     "execution_count": 63,
     "metadata": {},
     "output_type": "execute_result"
    },
    {
     "data": {
      "image/png": "[encoded data removed]",
      "text/plain": [
       "<matplotlib.figure.Figure at 0x83a1518>"
      ]
     },
     "metadata": {},
     "output_type": "display_data"
    }
   ],
   "source": [
    "import matplotlib.pyplot as plt\n",
    "\n",
    "plt.figure(figsize = (16, 4))\n",
    "\n",
    "x = np.linspace(-10, 10, 101)\n",
    "y = x**2\n",
    "z = 10*abs(x)\n",
    "\n",
    "plt.subplot(121)\n",
    "plt.plot(x, y, 'r--', label=\"f(x)\")\n",
    "plt.title(\"f(x)\")\n",
    "plt.axis([0, 5, 0, 40])\n",
    "plt.legend()\n",
    "\n",
    "plt.subplot(122)\n",
    "plt.plot(x, z, 'g-', label=\"g(x)\")\n",
    "plt.title(\"g(x)\")\n",
    "plt.axis([0, 5, 0, 40])\n",
    "plt.grid()\n",
    "plt.legend()\n",
    "\n",
    "plt.suptitle(\"$f(x)$ and $g(x)$\", size=\"14\")"
   ]
  },
  {
   "cell_type": "markdown",
   "metadata": {},
   "source": [
    "## 4.3 Scatter points"
   ]
  },
  {
   "cell_type": "markdown",
   "metadata": {},
   "source": [
    "We can represent points in the plane by **scatter**."
   ]
  },
  {
   "cell_type": "code",
   "execution_count": 64,
   "metadata": {
    "collapsed": false
   },
   "outputs": [
    {
     "data": {
      "text/plain": [
       "(0, 100)"
      ]
     },
     "execution_count": 64,
     "metadata": {},
     "output_type": "execute_result"
    },
    {
     "data": {
      "image/png": "[encoded data removed]",
      "text/plain": [
       "<matplotlib.figure.Figure at 0x84892b0>"
      ]
     },
     "metadata": {},
     "output_type": "display_data"
    }
   ],
   "source": [
    "A = [random.randint(0, 100) for i in range(100)]\n",
    "B = [random.randint(0, 100) for i in range(100)]\n",
    "plt.scatter(A, B, color=\"red\", marker=\"o\")\n",
    "plt.xlim(0, 100)\n",
    "plt.ylim(0, 100)"
   ]
  },
  {
   "cell_type": "markdown",
   "metadata": {},
   "source": [
    "## 4.4 Different graph types"
   ]
  },
  {
   "cell_type": "markdown",
   "metadata": {},
   "source": [
    "### Bar"
   ]
  },
  {
   "cell_type": "code",
   "execution_count": 65,
   "metadata": {
    "collapsed": false
   },
   "outputs": [
    {
     "data": {
      "image/png": "[encoded data removed]",
      "text/plain": [
       "<matplotlib.figure.Figure at 0x8a9f668>"
      ]
     },
     "metadata": {},
     "output_type": "display_data"
    }
   ],
   "source": [
    "categories = {'A': 1, 'B': 2, 'C': 3, 'D': 4}\n",
    "values = [20, 30, 10, 40]\n",
    "colors = [\"red\", \"green\", \"blue\", \"orange\"]\n",
    "\n",
    "plt.bar(categories.values(), values, color=colors)\n",
    "plt.xticks(categories.values(), categories.keys())\n",
    "#plt.xticks(np.array(categories.values()) + 0.5, categories.keys())\n",
    "plt.show()"
   ]
  },
  {
   "cell_type": "markdown",
   "metadata": {},
   "source": [
    "### Pie"
   ]
  },
  {
   "cell_type": "code",
   "execution_count": 66,
   "metadata": {
    "collapsed": false
   },
   "outputs": [
    {
     "data": {
      "image/png": "[encoded data removed]",
      "text/plain": [
       "<matplotlib.figure.Figure at 0x90a8ba8>"
      ]
     },
     "metadata": {},
     "output_type": "display_data"
    }
   ],
   "source": [
    "categories = {'A': 1, 'B': 2, 'C': 3, 'D': 4}\n",
    "values = [20, 30, 10, 40]\n",
    "colors = [\"red\", \"green\", \"blue\", \"orange\"]\n",
    "\n",
    "plt.pie(values, labels = categories.keys(), colors = colors, startangle = 90, counterclock = False)\n",
    "plt.show()"
   ]
  },
  {
   "cell_type": "markdown",
   "metadata": {},
   "source": [
    "### Histogram"
   ]
  },
  {
   "cell_type": "markdown",
   "metadata": {},
   "source": [
    "Histogram is useful for illustrating a random variable."
   ]
  },
  {
   "cell_type": "code",
   "execution_count": 67,
   "metadata": {
    "collapsed": false
   },
   "outputs": [
    {
     "data": {
      "image/png": "[encoded data removed]",
      "text/plain": [
       "<matplotlib.figure.Figure at 0x813a5f8>"
      ]
     },
     "metadata": {},
     "output_type": "display_data"
    }
   ],
   "source": [
    "mu = 0\n",
    "sigma = 10\n",
    "\n",
    "X = [random.gauss(mu, sigma) for i in range(1000)]\n",
    "\n",
    "plt.hist(X, facecolor='g')\n",
    "plt.ylabel('Occurence')\n",
    "#plt.hist(X, normed = 1, facecolor='r')\n",
    "#plt.ylabel('Probability')\n",
    "plt.grid()\n",
    "plt.show()"
   ]
  },
  {
   "cell_type": "markdown",
   "metadata": {},
   "source": [
    "### Contour"
   ]
  },
  {
   "cell_type": "code",
   "execution_count": 79,
   "metadata": {
    "collapsed": false
   },
   "outputs": [
    {
     "data": {
      "image/png": "[encoded data removed]",
      "text/plain": [
       "<matplotlib.figure.Figure at 0x909fb00>"
      ]
     },
     "metadata": {},
     "output_type": "display_data"
    }
   ],
   "source": [
    "import matplotlib.pyplot as plt\n",
    "import numpy as np\n",
    "\n",
    "# Make data.\n",
    "X = np.arange(-5, 5, 0.25)\n",
    "Y = np.arange(-5, 5, 0.25)\n",
    "X, Y = np.meshgrid(X, Y)\n",
    "Z = X**2 + Y**2\n",
    "\n",
    "CS = plt.contour(X, Y, Z)\n",
    "plt.clabel(CS, fontsize=10)\n",
    "plt.show()"
   ]
  },
  {
   "cell_type": "markdown",
   "metadata": {},
   "source": [
    "## 4.5 3d-plotting"
   ]
  },
  {
   "cell_type": "markdown",
   "metadata": {},
   "source": [
    "**mplot3d** toolkit can help us plotting some 3d figures. An example:"
   ]
  },
  {
   "cell_type": "code",
   "execution_count": 71,
   "metadata": {
    "collapsed": false
   },
   "outputs": [
    {
     "data": {
      "image/png": "[encoded data removed]",
      "text/plain": [
       "<matplotlib.figure.Figure at 0x943e9b0>"
      ]
     },
     "metadata": {},
     "output_type": "display_data"
    }
   ],
   "source": [
    "from mpl_toolkits.mplot3d import Axes3D\n",
    "import matplotlib.pyplot as plt\n",
    "from matplotlib import cm #For color\n",
    "import numpy as np\n",
    "\n",
    "\n",
    "fig = plt.figure()\n",
    "ax = fig.gca(projection='3d')\n",
    "\n",
    "# Make data.\n",
    "X = np.arange(-5, 5, 0.25)\n",
    "Y = np.arange(-5, 5, 0.25)\n",
    "X, Y = np.meshgrid(X, Y)\n",
    "Z = X**2 + Y**2\n",
    "\n",
    "# Plot the surface.\n",
    "surf = ax.plot_surface(X, Y, Z, cmap=cm.coolwarm,\n",
    "                       linewidth=0, antialiased=False)\n",
    "\n",
    "# Add a color bar which maps values to colors.\n",
    "fig.colorbar(surf, shrink=0.5, aspect=5)\n",
    "\n",
    "plt.show()\n"
   ]
  },
  {
   "cell_type": "markdown",
   "metadata": {},
   "source": [
    "More example can be found at <a href=\"https://matplotlib.org/tutorials/toolkits/mplot3d.html#surface-plots\"> https://matplotlib.org/tutorials/toolkits/mplot3d.html#surface-plots</a>."
   ]
  },
  {
   "cell_type": "markdown",
   "metadata": {
    "collapsed": true
   },
   "source": [
    "# 5. urllib"
   ]
  },
  {
   "cell_type": "markdown",
   "metadata": {},
   "source": [
    "**urllib** can be used to download ressources from the Internet."
   ]
  },
  {
   "cell_type": "code",
   "execution_count": 163,
   "metadata": {
    "collapsed": false
   },
   "outputs": [
    {
     "name": "stdout",
     "output_type": "stream",
     "text": [
      "------------First 100 characters: --------------\n",
      "<!DOCTYPE html>\n",
      "<html>\n",
      "<head>\n",
      "<meta http-equiv=\"X-UA-Compatible\" content=\"IE=100\"/>\n",
      "<link type=\"imag\n",
      "-------------First position of 'Việt Nam'------------\n",
      "2109\n",
      "-------------100 characters from the first position of 'Việt Nam'------------\n",
      "Việt Nam đã chơi thứ bóng đá đẹp mắt’ - VnExpress Thể Thao\">\n",
      "<meta name=\"twitter:\n"
     ]
    }
   ],
   "source": [
    "import urllib\n",
    "mylink = \"https://thethao.vnexpress.net/tin-tuc/binh-luan-u23-chau-a2018/\" \\\n",
    "    + \"hlv-uzbekistan-u23-viet-nam-da-choi-thu-bong-da-dep-mat-3704889.html\"\n",
    "\n",
    "f = urllib.urlopen(mylink)\n",
    "content = f.read()\n",
    "\n",
    "print(\"------------First 100 characters: --------------\")\n",
    "print(content[:100])\n",
    "a = content.find(\"Việt Nam\")\n",
    "print(\"-------------First position of 'Việt Nam'------------\")\n",
    "print(a)\n",
    "print(\"-------------100 characters from the first position of 'Việt Nam'------------\")\n",
    "print(content[a: a + 100])"
   ]
  },
  {
   "cell_type": "markdown",
   "metadata": {
    "collapsed": true
   },
   "source": [
    "# 6. pandas"
   ]
  },
  {
   "cell_type": "markdown",
   "metadata": {},
   "source": [
    "**pandas** provides us efficient methods to work with data in table form. **pandas**'s basic data type is DataFrame."
   ]
  },
  {
   "cell_type": "markdown",
   "metadata": {},
   "source": [
    "## 6.1 Read data from files"
   ]
  },
  {
   "cell_type": "markdown",
   "metadata": {},
   "source": [
    "If the content of some file is already in tab separated, comma separated or colon separated form, the method **read_csv** can read it efficiently."
   ]
  },
  {
   "cell_type": "code",
   "execution_count": 175,
   "metadata": {
    "collapsed": false
   },
   "outputs": [
    {
     "name": "stdout",
     "output_type": "stream",
     "text": [
      "<class 'pandas.core.frame.DataFrame'>\n"
     ]
    }
   ],
   "source": [
    "import pandas as pd\n",
    "content = pd.read_csv(\"QCM.csv\", sep = '\\t', header = None)\n",
    "print(type(content))"
   ]
  },
  {
   "cell_type": "markdown",
   "metadata": {},
   "source": [
    "**head** or **tail** help us verify the beginning and end of the file."
   ]
  },
  {
   "cell_type": "code",
   "execution_count": 176,
   "metadata": {
    "collapsed": false
   },
   "outputs": [
    {
     "data": {
      "text/html": [
       "<div>\n",
       "<table border=\"1\" class=\"dataframe\">\n",
       "  <thead>\n",
       "    <tr style=\"text-align: right;\">\n",
       "      <th></th>\n",
       "      <th>0</th>\n",
       "      <th>1</th>\n",
       "      <th>2</th>\n",
       "      <th>3</th>\n",
       "      <th>4</th>\n",
       "      <th>5</th>\n",
       "      <th>6</th>\n",
       "      <th>7</th>\n",
       "      <th>8</th>\n",
       "      <th>9</th>\n",
       "      <th>10</th>\n",
       "      <th>11</th>\n",
       "    </tr>\n",
       "  </thead>\n",
       "  <tbody>\n",
       "    <tr>\n",
       "      <th>0</th>\n",
       "      <td>TG</td>\n",
       "      <td>1</td>\n",
       "      <td>1</td>\n",
       "      <td>Người tối cổ xuất hiện trên Trái Đất vào niên ...</td>\n",
       "      <td>2.000.000.000 năm trước</td>\n",
       "      <td>80.000.000 năm trước</td>\n",
       "      <td>6.000.000 năm trước</td>\n",
       "      <td>400.000 năm trước</td>\n",
       "      <td>C</td>\n",
       "      <td>M</td>\n",
       "      <td>-</td>\n",
       "      <td>-</td>\n",
       "    </tr>\n",
       "    <tr>\n",
       "      <th>1</th>\n",
       "      <td>TG</td>\n",
       "      <td>1</td>\n",
       "      <td>2</td>\n",
       "      <td>Đâu trong các sự kiện dưới đây đánh dấu bước n...</td>\n",
       "      <td>biết chế tạo công cụ sản xuất</td>\n",
       "      <td>biết sử dụng công cụ sản xuất</td>\n",
       "      <td>biết hái lượm và săn bắt</td>\n",
       "      <td>sống thành bầy đàn theo quan hệ huyết thống</td>\n",
       "      <td>A</td>\n",
       "      <td>M</td>\n",
       "      <td>-</td>\n",
       "      <td>-</td>\n",
       "    </tr>\n",
       "    <tr>\n",
       "      <th>2</th>\n",
       "      <td>TG</td>\n",
       "      <td>1</td>\n",
       "      <td>3</td>\n",
       "      <td>Đâu trong các dòng dưới đây không phải là mục ...</td>\n",
       "      <td>sưởi ấm</td>\n",
       "      <td>nướng thức ăn</td>\n",
       "      <td>xua thú dữ</td>\n",
       "      <td>luyện kim</td>\n",
       "      <td>D</td>\n",
       "      <td>E</td>\n",
       "      <td>-</td>\n",
       "      <td>-</td>\n",
       "    </tr>\n",
       "    <tr>\n",
       "      <th>3</th>\n",
       "      <td>TG</td>\n",
       "      <td>1</td>\n",
       "      <td>4</td>\n",
       "      <td>Thành Khang chi trị là cụm từ mô tả sự thịnh v...</td>\n",
       "      <td>Thương</td>\n",
       "      <td>Chu</td>\n",
       "      <td>Đường</td>\n",
       "      <td>Tống</td>\n",
       "      <td>B</td>\n",
       "      <td>H</td>\n",
       "      <td>-</td>\n",
       "      <td>-</td>\n",
       "    </tr>\n",
       "    <tr>\n",
       "      <th>4</th>\n",
       "      <td>TG</td>\n",
       "      <td>1</td>\n",
       "      <td>5</td>\n",
       "      <td>Mâu thuẫn cơ bản về giai cấp trong thời kì cổ ...</td>\n",
       "      <td>Chủ nô và nô lệ</td>\n",
       "      <td>Lãnh chúa và nông nô</td>\n",
       "      <td>Quý tộc và bình dân</td>\n",
       "      <td>Tôn giáo và phi tôn giáo</td>\n",
       "      <td>A</td>\n",
       "      <td>E</td>\n",
       "      <td>-</td>\n",
       "      <td>-</td>\n",
       "    </tr>\n",
       "  </tbody>\n",
       "</table>\n",
       "</div>"
      ],
      "text/plain": [
       "   0   1   2                                                  3   \\\n",
       "0  TG   1   1  Người tối cổ xuất hiện trên Trái Đất vào niên ...   \n",
       "1  TG   1   2  Đâu trong các sự kiện dưới đây đánh dấu bước n...   \n",
       "2  TG   1   3  Đâu trong các dòng dưới đây không phải là mục ...   \n",
       "3  TG   1   4  Thành Khang chi trị là cụm từ mô tả sự thịnh v...   \n",
       "4  TG   1   5  Mâu thuẫn cơ bản về giai cấp trong thời kì cổ ...   \n",
       "\n",
       "                              4                              5   \\\n",
       "0        2.000.000.000 năm trước           80.000.000 năm trước   \n",
       "1  biết chế tạo công cụ sản xuất  biết sử dụng công cụ sản xuất   \n",
       "2                        sưởi ấm                  nướng thức ăn   \n",
       "3                         Thương                            Chu   \n",
       "4                Chủ nô và nô lệ           Lãnh chúa và nông nô   \n",
       "\n",
       "                         6                                            7  8   \\\n",
       "0       6.000.000 năm trước                            400.000 năm trước  C   \n",
       "1  biết hái lượm và săn bắt  sống thành bầy đàn theo quan hệ huyết thống  A   \n",
       "2                xua thú dữ                                    luyện kim  D   \n",
       "3                     Đường                                         Tống  B   \n",
       "4       Quý tộc và bình dân                     Tôn giáo và phi tôn giáo  A   \n",
       "\n",
       "  9  10 11  \n",
       "0  M  -  -  \n",
       "1  M  -  -  \n",
       "2  E  -  -  \n",
       "3  H  -  -  \n",
       "4  E  -  -  "
      ]
     },
     "execution_count": 176,
     "metadata": {},
     "output_type": "execute_result"
    }
   ],
   "source": [
    "content.head()"
   ]
  },
  {
   "cell_type": "code",
   "execution_count": 177,
   "metadata": {
    "collapsed": false
   },
   "outputs": [
    {
     "data": {
      "text/html": [
       "<div>\n",
       "<table border=\"1\" class=\"dataframe\">\n",
       "  <thead>\n",
       "    <tr style=\"text-align: right;\">\n",
       "      <th></th>\n",
       "      <th>0</th>\n",
       "      <th>1</th>\n",
       "      <th>2</th>\n",
       "      <th>3</th>\n",
       "      <th>4</th>\n",
       "      <th>5</th>\n",
       "      <th>6</th>\n",
       "      <th>7</th>\n",
       "      <th>8</th>\n",
       "      <th>9</th>\n",
       "      <th>10</th>\n",
       "      <th>11</th>\n",
       "    </tr>\n",
       "  </thead>\n",
       "  <tbody>\n",
       "    <tr>\n",
       "      <th>72</th>\n",
       "      <td>VN</td>\n",
       "      <td>2</td>\n",
       "      <td>73</td>\n",
       "      <td>Trong 4 công trình dưới đây (\"An Nam tứ đại kh...</td>\n",
       "      <td>Tượng Phật chùa Quỳnh Lâm</td>\n",
       "      <td>Vạc Phổ Minh</td>\n",
       "      <td>Tháp Báo Thiên</td>\n",
       "      <td>Chuông Quy Điền</td>\n",
       "      <td>B</td>\n",
       "      <td>H</td>\n",
       "      <td>-</td>\n",
       "      <td>-</td>\n",
       "    </tr>\n",
       "    <tr>\n",
       "      <th>73</th>\n",
       "      <td>VN</td>\n",
       "      <td>2</td>\n",
       "      <td>74</td>\n",
       "      <td>Thái sư Lê Văn Thịnh thời Lý đã dùng tài ngoại...</td>\n",
       "      <td>Hà Giang, Lào Cai</td>\n",
       "      <td>Điện Biên, Lào Cai</td>\n",
       "      <td>Cao Bằng, Lạng Sơn</td>\n",
       "      <td>Tuyên Quang, Thái Nguyên</td>\n",
       "      <td>C</td>\n",
       "      <td>H</td>\n",
       "      <td>-</td>\n",
       "      <td>-</td>\n",
       "    </tr>\n",
       "    <tr>\n",
       "      <th>74</th>\n",
       "      <td>VN</td>\n",
       "      <td>2</td>\n",
       "      <td>75</td>\n",
       "      <td>Thời Lý, Đại Việt không có chiến tranh với quố...</td>\n",
       "      <td>Trảo Oa</td>\n",
       "      <td>Chân Lạp</td>\n",
       "      <td>Đại Lý</td>\n",
       "      <td>Chiêm Thành</td>\n",
       "      <td>A</td>\n",
       "      <td>H</td>\n",
       "      <td>-</td>\n",
       "      <td>-</td>\n",
       "    </tr>\n",
       "    <tr>\n",
       "      <th>75</th>\n",
       "      <td>VN</td>\n",
       "      <td>3</td>\n",
       "      <td>76</td>\n",
       "      <td>Tứ nguyệt tam vương là cụm từ mô tả sự lên ngô...</td>\n",
       "      <td>Dục Đức, Hiệp Hoà, Kiến Phúc</td>\n",
       "      <td>Hiệp Hoà, Kiến Phúc, Hàm Nghi</td>\n",
       "      <td>Kiến Phúc, Hàm Nghi, Đồng Khánh</td>\n",
       "      <td>Hàm Nghi, Đồng Khánh, Thành Thái</td>\n",
       "      <td>A</td>\n",
       "      <td>H</td>\n",
       "      <td>-</td>\n",
       "      <td>-</td>\n",
       "    </tr>\n",
       "    <tr>\n",
       "      <th>76</th>\n",
       "      <td>VN</td>\n",
       "      <td>3</td>\n",
       "      <td>77</td>\n",
       "      <td>Năm 1866, \"không tốn một viên đạn\", thực dân P...</td>\n",
       "      <td>Gia Định, Định Tường, Biên Hoà</td>\n",
       "      <td>Nam Định, Hà Nam, Kinh Bắc</td>\n",
       "      <td>Thanh Hoá, Nghệ An, Hà Tĩnh</td>\n",
       "      <td>Vĩnh Long, An Giang, Hà Tiên</td>\n",
       "      <td>D</td>\n",
       "      <td>H</td>\n",
       "      <td>-</td>\n",
       "      <td>-</td>\n",
       "    </tr>\n",
       "  </tbody>\n",
       "</table>\n",
       "</div>"
      ],
      "text/plain": [
       "    0   1   2                                                  3   \\\n",
       "72  VN   2  73  Trong 4 công trình dưới đây (\"An Nam tứ đại kh...   \n",
       "73  VN   2  74  Thái sư Lê Văn Thịnh thời Lý đã dùng tài ngoại...   \n",
       "74  VN   2  75  Thời Lý, Đại Việt không có chiến tranh với quố...   \n",
       "75  VN   3  76  Tứ nguyệt tam vương là cụm từ mô tả sự lên ngô...   \n",
       "76  VN   3  77  Năm 1866, \"không tốn một viên đạn\", thực dân P...   \n",
       "\n",
       "                                4                              5   \\\n",
       "72       Tượng Phật chùa Quỳnh Lâm                   Vạc Phổ Minh   \n",
       "73               Hà Giang, Lào Cai             Điện Biên, Lào Cai   \n",
       "74                         Trảo Oa                       Chân Lạp   \n",
       "75    Dục Đức, Hiệp Hoà, Kiến Phúc  Hiệp Hoà, Kiến Phúc, Hàm Nghi   \n",
       "76  Gia Định, Định Tường, Biên Hoà     Nam Định, Hà Nam, Kinh Bắc   \n",
       "\n",
       "                                 6                                 7  8  9   \\\n",
       "72                   Tháp Báo Thiên                   Chuông Quy Điền  B  H   \n",
       "73               Cao Bằng, Lạng Sơn          Tuyên Quang, Thái Nguyên  C  H   \n",
       "74                           Đại Lý                       Chiêm Thành  A  H   \n",
       "75  Kiến Phúc, Hàm Nghi, Đồng Khánh  Hàm Nghi, Đồng Khánh, Thành Thái  A  H   \n",
       "76      Thanh Hoá, Nghệ An, Hà Tĩnh      Vĩnh Long, An Giang, Hà Tiên  D  H   \n",
       "\n",
       "   10 11  \n",
       "72  -  -  \n",
       "73  -  -  \n",
       "74  -  -  \n",
       "75  -  -  \n",
       "76  -  -  "
      ]
     },
     "execution_count": 177,
     "metadata": {},
     "output_type": "execute_result"
    }
   ],
   "source": [
    "content.tail()"
   ]
  },
  {
   "cell_type": "markdown",
   "metadata": {},
   "source": [
    "We can also rename the column header."
   ]
  },
  {
   "cell_type": "code",
   "execution_count": 195,
   "metadata": {
    "collapsed": false
   },
   "outputs": [
    {
     "data": {
      "text/plain": [
       "0                               2.000.000.000 năm trước\n",
       "1                         biết chế tạo công cụ sản xuất\n",
       "2                                               sưởi ấm\n",
       "3                                                Thương\n",
       "4                                       Chủ nô và nô lệ\n",
       "5                     Do Thái giáo, Kitô giáo, Hồi giáo\n",
       "6                                     Quintus Sertorius\n",
       "7                                                 César\n",
       "8                                                 César\n",
       "9               Cổ vương quốc (thế kỉ XXVII - XXII TCN)\n",
       "10                              Tề, Tấn, Tống, Tần, Ngô\n",
       "11                                     Triệu, Nguỵ, Yên\n",
       "12                                              Tây Chu\n",
       "13                        Chu (thế kỉ XI TCN - III TCN)\n",
       "14                          Thời Chu, quân Khuyển Nhung\n",
       "15                                       Thế kỉ I - III\n",
       "16                                                  Hán\n",
       "17                                            Charles I\n",
       "18                                    Phá ngục Bastille\n",
       "19                                                   13\n",
       "20                                 Thái Bình Thiên quốc\n",
       "21                                   Núi Đọ (Thanh Hoá)\n",
       "22                                             5 thế kỉ\n",
       "23                                  Phong Châu, Phú Thọ\n",
       "24                             Mê Linh, Luy Lâu, Cổ Loa\n",
       "25                   Đinh Kiến, Lý Tự Tiên (thế kỉ VII)\n",
       "26                              Hoằng Thao (Hoằng Tháo)\n",
       "27                                             Văn Lang\n",
       "28                                             Văn Lang\n",
       "29                                  Phong Châu, Phú Thọ\n",
       "                            ...                        \n",
       "47                                                   50\n",
       "48                                               Âu Lạc\n",
       "49                                              Đầm Dơi\n",
       "50                                     An Nam đô hộ phủ\n",
       "51                                      Hồ Nguyên Trừng\n",
       "52                                Lê Hoàn, Lê Long Việt\n",
       "53            Lê Nhân Tông, Lê Thánh Tông, Lê Hiến Tông\n",
       "54                                       Trần Nhân Tông\n",
       "55                                  Lý Thần Tông (1135)\n",
       "56                                           Lý Thái Tổ\n",
       "57                     Nhà Lý (do Lý Thái Tổ thành lập)\n",
       "58                                         Mạc Đĩnh Chi\n",
       "59                                             Mãn Giác\n",
       "60                                                 1009\n",
       "61                                         Lý Thái Tông\n",
       "62                            Ban hành bộ luật Hình Thư\n",
       "63                                            Bạch Đằng\n",
       "64                                         Hầu Nhân Bảo\n",
       "65                                         Lý Nhân Tông\n",
       "66    Lý Nhân Tông, Lý Thần Tông, Lý Anh Tông, Lý Ch...\n",
       "67    Nhiều người lấy cớ \"Phù Lý diệt Trần\" nổi dậy ...\n",
       "68                                              Phạm Du\n",
       "69                                             Nho giáo\n",
       "70                                              Lộ, phủ\n",
       "71                                                 Đinh\n",
       "72                            Tượng Phật chùa Quỳnh Lâm\n",
       "73                                    Hà Giang, Lào Cai\n",
       "74                                              Trảo Oa\n",
       "75                         Dục Đức, Hiệp Hoà, Kiến Phúc\n",
       "76                       Gia Định, Định Tường, Biên Hoà\n",
       "Name: Option A, dtype: object"
      ]
     },
     "execution_count": 195,
     "metadata": {},
     "output_type": "execute_result"
    }
   ],
   "source": [
    "content = pd.read_csv(\"QCM.csv\", sep = '\\t', names = [\"Zone\", \"Period\", \"Index\", \"Content\", \\\n",
    "                                                       \"Option A\", \"Option B\", \"Option C\", \"Option D\", \\\n",
    "                                                       \"Correction\", \"Level\", \"Tags\", \"Explanation\"], )\n",
    "content[\"Option A\"]"
   ]
  },
  {
   "cell_type": "markdown",
   "metadata": {},
   "source": [
    "In case column names are not specified, we can access to columns by index.\n"
   ]
  },
  {
   "cell_type": "code",
   "execution_count": 186,
   "metadata": {
    "collapsed": false
   },
   "outputs": [
    {
     "data": {
      "text/plain": [
       "0                               2.000.000.000 năm trước\n",
       "1                         biết chế tạo công cụ sản xuất\n",
       "2                                               sưởi ấm\n",
       "3                                                Thương\n",
       "4                                       Chủ nô và nô lệ\n",
       "5                     Do Thái giáo, Kitô giáo, Hồi giáo\n",
       "6                                     Quintus Sertorius\n",
       "7                                                 César\n",
       "8                                                 César\n",
       "9               Cổ vương quốc (thế kỉ XXVII - XXII TCN)\n",
       "10                              Tề, Tấn, Tống, Tần, Ngô\n",
       "11                                     Triệu, Nguỵ, Yên\n",
       "12                                              Tây Chu\n",
       "13                        Chu (thế kỉ XI TCN - III TCN)\n",
       "14                          Thời Chu, quân Khuyển Nhung\n",
       "15                                       Thế kỉ I - III\n",
       "16                                                  Hán\n",
       "17                                            Charles I\n",
       "18                                    Phá ngục Bastille\n",
       "19                                                   13\n",
       "20                                 Thái Bình Thiên quốc\n",
       "21                                   Núi Đọ (Thanh Hoá)\n",
       "22                                             5 thế kỉ\n",
       "23                                  Phong Châu, Phú Thọ\n",
       "24                             Mê Linh, Luy Lâu, Cổ Loa\n",
       "25                   Đinh Kiến, Lý Tự Tiên (thế kỉ VII)\n",
       "26                              Hoằng Thao (Hoằng Tháo)\n",
       "27                                             Văn Lang\n",
       "28                                             Văn Lang\n",
       "29                                  Phong Châu, Phú Thọ\n",
       "                            ...                        \n",
       "47                                                   50\n",
       "48                                               Âu Lạc\n",
       "49                                              Đầm Dơi\n",
       "50                                     An Nam đô hộ phủ\n",
       "51                                      Hồ Nguyên Trừng\n",
       "52                                Lê Hoàn, Lê Long Việt\n",
       "53            Lê Nhân Tông, Lê Thánh Tông, Lê Hiến Tông\n",
       "54                                       Trần Nhân Tông\n",
       "55                                  Lý Thần Tông (1135)\n",
       "56                                           Lý Thái Tổ\n",
       "57                     Nhà Lý (do Lý Thái Tổ thành lập)\n",
       "58                                         Mạc Đĩnh Chi\n",
       "59                                             Mãn Giác\n",
       "60                                                 1009\n",
       "61                                         Lý Thái Tông\n",
       "62                            Ban hành bộ luật Hình Thư\n",
       "63                                            Bạch Đằng\n",
       "64                                         Hầu Nhân Bảo\n",
       "65                                         Lý Nhân Tông\n",
       "66    Lý Nhân Tông, Lý Thần Tông, Lý Anh Tông, Lý Ch...\n",
       "67    Nhiều người lấy cớ \"Phù Lý diệt Trần\" nổi dậy ...\n",
       "68                                              Phạm Du\n",
       "69                                             Nho giáo\n",
       "70                                              Lộ, phủ\n",
       "71                                                 Đinh\n",
       "72                            Tượng Phật chùa Quỳnh Lâm\n",
       "73                                    Hà Giang, Lào Cai\n",
       "74                                              Trảo Oa\n",
       "75                         Dục Đức, Hiệp Hoà, Kiến Phúc\n",
       "76                       Gia Định, Định Tường, Biên Hoà\n",
       "Name: 4, dtype: object"
      ]
     },
     "execution_count": 186,
     "metadata": {},
     "output_type": "execute_result"
    }
   ],
   "source": [
    "content = pd.read_csv(\"QCM.csv\", sep = '\\t', header = None)\n",
    "content[4]"
   ]
  },
  {
   "cell_type": "markdown",
   "metadata": {},
   "source": [
    "Such a column is of type **Series**"
   ]
  },
  {
   "cell_type": "code",
   "execution_count": 190,
   "metadata": {
    "collapsed": false
   },
   "outputs": [
    {
     "data": {
      "text/plain": [
       "pandas.core.series.Series"
      ]
     },
     "execution_count": 190,
     "metadata": {},
     "output_type": "execute_result"
    }
   ],
   "source": [
    "type(content[4])"
   ]
  },
  {
   "cell_type": "markdown",
   "metadata": {},
   "source": [
    "## 6.2 View rows, columns, cells"
   ]
  },
  {
   "cell_type": "markdown",
   "metadata": {},
   "source": [
    "In a DataFrame, a row is called an index. We can list all rows, columns, cells:"
   ]
  },
  {
   "cell_type": "code",
   "execution_count": 197,
   "metadata": {
    "collapsed": false
   },
   "outputs": [
    {
     "name": "stdout",
     "output_type": "stream",
     "text": [
      "RangeIndex(start=0, stop=77, step=1)\n"
     ]
    }
   ],
   "source": [
    "content.index"
   ]
  },
  {
   "cell_type": "code",
   "execution_count": 198,
   "metadata": {
    "collapsed": false
   },
   "outputs": [
    {
     "data": {
      "text/plain": [
       "Index([u'Zone', u'Period', u'Index', u'Content', u'Option A', u'Option B',\n",
       "       u'Option C', u'Option D', u'Correction', u'Level', u'Tags',\n",
       "       u'Explanation'],\n",
       "      dtype='object')"
      ]
     },
     "execution_count": 198,
     "metadata": {},
     "output_type": "execute_result"
    }
   ],
   "source": [
    "content.columns"
   ]
  },
  {
   "cell_type": "code",
   "execution_count": 201,
   "metadata": {
    "collapsed": false
   },
   "outputs": [
    {
     "data": {
      "text/plain": [
       "array([['TG', 1L, 1L,\n",
       "        'Ng\\xc6\\xb0\\xe1\\xbb\\x9di t\\xe1\\xbb\\x91i c\\xe1\\xbb\\x95 xu\\xe1\\xba\\xa5t hi\\xe1\\xbb\\x87n tr\\xc3\\xaan Tr\\xc3\\xa1i \\xc4\\x90\\xe1\\xba\\xa5t v\\xc3\\xa0o ni\\xc3\\xaan \\xc4\\x91\\xe1\\xba\\xa1i n\\xc3\\xa0o?',\n",
       "        '2.000.000.000 n\\xc4\\x83m tr\\xc6\\xb0\\xe1\\xbb\\x9bc',\n",
       "        '80.000.000 n\\xc4\\x83m tr\\xc6\\xb0\\xe1\\xbb\\x9bc',\n",
       "        '6.000.000 n\\xc4\\x83m tr\\xc6\\xb0\\xe1\\xbb\\x9bc',\n",
       "        '400.000 n\\xc4\\x83m tr\\xc6\\xb0\\xe1\\xbb\\x9bc', 'C', 'M', '-', '-'],\n",
       "       ['TG', 1L, 2L,\n",
       "        '\\xc4\\x90\\xc3\\xa2u trong c\\xc3\\xa1c s\\xe1\\xbb\\xb1 ki\\xe1\\xbb\\x87n d\\xc6\\xb0\\xe1\\xbb\\x9bi \\xc4\\x91\\xc3\\xa2y \\xc4\\x91\\xc3\\xa1nh d\\xe1\\xba\\xa5u b\\xc6\\xb0\\xe1\\xbb\\x9bc ngo\\xe1\\xba\\xb7t cho th\\xe1\\xba\\xa5y lo\\xc3\\xa0i v\\xc6\\xb0\\xe1\\xbb\\xa3n \\xc4\\x91\\xc3\\xa3 ti\\xe1\\xba\\xbfn ho\\xc3\\xa1 th\\xc3\\xa0nh lo\\xc3\\xa0i ng\\xc6\\xb0\\xe1\\xbb\\x9di?',\n",
       "        'bi\\xe1\\xba\\xbft ch\\xe1\\xba\\xbf t\\xe1\\xba\\xa1o c\\xc3\\xb4ng c\\xe1\\xbb\\xa5 s\\xe1\\xba\\xa3n xu\\xe1\\xba\\xa5t',\n",
       "        'bi\\xe1\\xba\\xbft s\\xe1\\xbb\\xad d\\xe1\\xbb\\xa5ng c\\xc3\\xb4ng c\\xe1\\xbb\\xa5 s\\xe1\\xba\\xa3n xu\\xe1\\xba\\xa5t',\n",
       "        'bi\\xe1\\xba\\xbft h\\xc3\\xa1i l\\xc6\\xb0\\xe1\\xbb\\xa3m v\\xc3\\xa0 s\\xc4\\x83n b\\xe1\\xba\\xaft',\n",
       "        's\\xe1\\xbb\\x91ng th\\xc3\\xa0nh b\\xe1\\xba\\xa7y \\xc4\\x91\\xc3\\xa0n theo quan h\\xe1\\xbb\\x87 huy\\xe1\\xba\\xbft th\\xe1\\xbb\\x91ng',\n",
       "        'A', 'M', '-', '-'],\n",
       "       ['TG', 1L, 3L,\n",
       "        '\\xc4\\x90\\xc3\\xa2u trong c\\xc3\\xa1c d\\xc3\\xb2ng d\\xc6\\xb0\\xe1\\xbb\\x9bi \\xc4\\x91\\xc3\\xa2y kh\\xc3\\xb4ng ph\\xe1\\xba\\xa3i l\\xc3\\xa0 m\\xe1\\xbb\\xa5c \\xc4\\x91\\xc3\\xadch d\\xc3\\xb9ng l\\xe1\\xbb\\xada c\\xe1\\xbb\\xa7a ng\\xc6\\xb0\\xe1\\xbb\\x9di t\\xe1\\xbb\\x91i c\\xe1\\xbb\\x95?',\n",
       "        's\\xc6\\xb0\\xe1\\xbb\\x9fi \\xe1\\xba\\xa5m',\n",
       "        'n\\xc6\\xb0\\xe1\\xbb\\x9bng th\\xe1\\xbb\\xa9c \\xc4\\x83n',\n",
       "        'xua th\\xc3\\xba d\\xe1\\xbb\\xaf', 'luy\\xe1\\xbb\\x87n kim', 'D', 'E',\n",
       "        '-', '-'],\n",
       "       ['TG', 1L, 4L,\n",
       "        'Th\\xc3\\xa0nh Khang chi tr\\xe1\\xbb\\x8b l\\xc3\\xa0 c\\xe1\\xbb\\xa5m t\\xe1\\xbb\\xab m\\xc3\\xb4 t\\xe1\\xba\\xa3 s\\xe1\\xbb\\xb1 th\\xe1\\xbb\\x8bnh v\\xc6\\xb0\\xe1\\xbb\\xa3ng c\\xe1\\xbb\\xa7a Trung Qu\\xe1\\xbb\\x91c d\\xc6\\xb0\\xe1\\xbb\\x9bi s\\xe1\\xbb\\xb1 tr\\xe1\\xbb\\x8b v\\xc3\\xac c\\xe1\\xbb\\xa7a m\\xe1\\xbb\\x99t s\\xe1\\xbb\\x91 vua \\xe1\\xbb\\x9f tri\\xe1\\xbb\\x81u \\xc4\\x91\\xe1\\xba\\xa1i n\\xc3\\xa0o?',\n",
       "        'Th\\xc6\\xb0\\xc6\\xa1ng', 'Chu', '\\xc4\\x90\\xc6\\xb0\\xe1\\xbb\\x9dng',\n",
       "        'T\\xe1\\xbb\\x91ng', 'B', 'H', '-', '-'],\n",
       "       ['TG', 1L, 5L,\n",
       "        'M\\xc3\\xa2u thu\\xe1\\xba\\xabn c\\xc6\\xa1 b\\xe1\\xba\\xa3n v\\xe1\\xbb\\x81 giai c\\xe1\\xba\\xa5p trong th\\xe1\\xbb\\x9di k\\xc3\\xac c\\xe1\\xbb\\x95 \\xc4\\x91\\xe1\\xba\\xa1i \\xe1\\xbb\\x9f Hy L\\xe1\\xba\\xa1p v\\xc3\\xa0 R\\xc3\\xb4ma l\\xc3\\xa0 m\\xc3\\xa2u thu\\xe1\\xba\\xabn gi\\xe1\\xbb\\xafa c\\xc3\\xa1c giai c\\xe1\\xba\\xa5p n\\xc3\\xa0o?',\n",
       "        'Ch\\xe1\\xbb\\xa7 n\\xc3\\xb4 v\\xc3\\xa0 n\\xc3\\xb4 l\\xe1\\xbb\\x87',\n",
       "        'L\\xc3\\xa3nh ch\\xc3\\xbaa v\\xc3\\xa0 n\\xc3\\xb4ng n\\xc3\\xb4',\n",
       "        'Qu\\xc3\\xbd t\\xe1\\xbb\\x99c v\\xc3\\xa0 b\\xc3\\xacnh d\\xc3\\xa2n',\n",
       "        'T\\xc3\\xb4n gi\\xc3\\xa1o v\\xc3\\xa0 phi t\\xc3\\xb4n gi\\xc3\\xa1o', 'A',\n",
       "        'E', '-', '-'],\n",
       "       ['TG', 1L, 6L,\n",
       "        'D\\xc3\\xb2ng n\\xc3\\xa0o d\\xc6\\xb0\\xe1\\xbb\\x9bi \\xc4\\x91\\xc3\\xa2y n\\xc3\\xaau \\xc4\\x91\\xc3\\xbang th\\xe1\\xbb\\xa9 t\\xe1\\xbb\\xb1 xu\\xe1\\xba\\xa5t hi\\xe1\\xbb\\x87n c\\xe1\\xbb\\xa7a ba t\\xc3\\xb4n gi\\xc3\\xa1o \\xc4\\x91\\xe1\\xbb\\x99c th\\xe1\\xba\\xa7n theo th\\xe1\\xbb\\x9di gian?',\n",
       "        'Do Th\\xc3\\xa1i gi\\xc3\\xa1o, Kit\\xc3\\xb4 gi\\xc3\\xa1o, H\\xe1\\xbb\\x93i gi\\xc3\\xa1o',\n",
       "        'Kit\\xc3\\xb4 gi\\xc3\\xa1o, Do Th\\xc3\\xa1i gi\\xc3\\xa1o, H\\xe1\\xbb\\x93i gi\\xc3\\xa1o',\n",
       "        'Kit\\xc3\\xb4 gi\\xc3\\xa1o, H\\xe1\\xbb\\x93i gi\\xc3\\xa1o, Do Th\\xc3\\xa1i gi\\xc3\\xa1o',\n",
       "        'Do Th\\xc3\\xa1i gi\\xc3\\xa1o, H\\xe1\\xbb\\x93i gi\\xc3\\xa1o, Kit\\xc3\\xb4 gi\\xc3\\xa1o',\n",
       "        'A', 'M', '-', '-'],\n",
       "       ['TG', 1L, 7L,\n",
       "        'Chi\\xe1\\xba\\xbfn tranh n\\xc3\\xb4 l\\xe1\\xbb\\x87 l\\xe1\\xba\\xa7n th\\xe1\\xbb\\xa9 ba (73TCN - 71TCN), cu\\xe1\\xbb\\x99c chi\\xe1\\xba\\xbfn \\xc4\\x91e do\\xe1\\xba\\xa1 tr\\xe1\\xbb\\xb1c ti\\xe1\\xba\\xbfp \\xc4\\x91\\xe1\\xba\\xbfn ch\\xc3\\xadnh quy\\xe1\\xbb\\x81n Roma, b\\xc3\\xb9ng n\\xe1\\xbb\\x95 d\\xc6\\xb0\\xe1\\xbb\\x9bi s\\xe1\\xbb\\xb1 ch\\xe1\\xbb\\x89 huy c\\xe1\\xbb\\xa7a th\\xe1\\xbb\\xa7 l\\xc4\\xa9nh n\\xc3\\xa0o phe n\\xc3\\xb4 l\\xe1\\xbb\\x87',\n",
       "        'Quintus Sertorius', 'Marcus Licinius Crassus', 'Oenomaus',\n",
       "        'Spartacus', 'D', 'M', '-', '-'],\n",
       "       ['TG', 1L, 8L,\n",
       "        'N\\xe1\\xbb\\x99i chi\\xe1\\xba\\xbfn do ai ch\\xe1\\xbb\\x89 huy \\xc4\\x91\\xc3\\xa3 l\\xc3\\xa0m di\\xe1\\xbb\\x87t vong ch\\xe1\\xba\\xbf \\xc4\\x91\\xe1\\xbb\\x99 h\\xe1\\xbb\\x99i \\xc4\\x91\\xe1\\xbb\\x93ng nguy\\xc3\\xaan l\\xc3\\xa3o t\\xe1\\xba\\xa1i R\\xc3\\xb4ma v\\xc3\\xa0 b\\xe1\\xba\\xaft \\xc4\\x91\\xe1\\xba\\xa7u x\\xc3\\xa1c l\\xe1\\xba\\xadp th\\xe1\\xbb\\x9di k\\xc3\\xac \\xc4\\x91\\xe1\\xba\\xbf ch\\xe1\\xba\\xbf?',\n",
       "        'C\\xc3\\xa9sar', 'Augustus', 'Tiberus', 'Nero', 'A', 'H', '-', '-'],\n",
       "       ['TG', 1L, 9L,\n",
       "        'Ai l\\xc3\\xa0 ho\\xc3\\xa0ng \\xc4\\x91\\xe1\\xba\\xbf \\xc4\\x91\\xe1\\xba\\xa7u ti\\xc3\\xaan c\\xe1\\xbb\\xa7a \\xc4\\x91\\xe1\\xba\\xbf ch\\xe1\\xba\\xbf R\\xc3\\xb4ma?',\n",
       "        'C\\xc3\\xa9sar', 'Augustus', 'Nerva', 'Pertinax', 'B', 'H', '-', '-'],\n",
       "       ['TG', 1L, 10L,\n",
       "        'Kim t\\xe1\\xbb\\xb1 th\\xc3\\xa1p Giza \\xc4\\x91\\xc6\\xb0\\xe1\\xbb\\xa3c x\\xc3\\xa2y d\\xe1\\xbb\\xb1ng \\xe1\\xbb\\x9f th\\xe1\\xbb\\x9di k\\xc3\\xac n\\xc3\\xa0o c\\xe1\\xbb\\xa7a Ai C\\xe1\\xba\\xadp c\\xe1\\xbb\\x95 \\xc4\\x91\\xe1\\xba\\xa1i?',\n",
       "        'C\\xe1\\xbb\\x95 v\\xc6\\xb0\\xc6\\xa1ng qu\\xe1\\xbb\\x91c (th\\xe1\\xba\\xbf k\\xe1\\xbb\\x89 XXVII - XXII TCN)',\n",
       "        'Trung v\\xc6\\xb0\\xc6\\xa1ng qu\\xe1\\xbb\\x91c (th\\xe1\\xba\\xbf k\\xe1\\xbb\\x89 XXII - XVII TCN)',\n",
       "        'T\\xc3\\xa2n v\\xc6\\xb0\\xc6\\xa1ng qu\\xe1\\xbb\\x91c (Th\\xe1\\xba\\xbf k\\xe1\\xbb\\x89 XVI - XI TCN)',\n",
       "        'Thu\\xe1\\xbb\\x99c R\\xc3\\xb4ma (th\\xe1\\xba\\xbf k\\xe1\\xbb\\x89 I TCN - VII)',\n",
       "        'A', 'H', '-', '-'],\n",
       "       ['TG', 1L, 11L,\n",
       "        'Ng\\xc5\\xa9 b\\xc3\\xa1 th\\xe1\\xbb\\x9di Xu\\xc3\\xa2n Thu theo S\\xe1\\xbb\\xad k\\xc3\\xad c\\xe1\\xbb\\xa7a T\\xc6\\xb0 M\\xc3\\xa3 Thi\\xc3\\xaan l\\xc3\\xa0 vua nh\\xe1\\xbb\\xafng n\\xc6\\xb0\\xe1\\xbb\\x9bc n\\xc3\\xa0o?',\n",
       "        'T\\xe1\\xbb\\x81, T\\xe1\\xba\\xa5n, T\\xe1\\xbb\\x91ng, T\\xe1\\xba\\xa7n, Ng\\xc3\\xb4',\n",
       "        'T\\xe1\\xbb\\x81, T\\xe1\\xba\\xa5n, Ng\\xc3\\xb4, Vi\\xe1\\xbb\\x87t, S\\xe1\\xbb\\x9f',\n",
       "        'T\\xe1\\xbb\\x81, T\\xe1\\xbb\\x91ng, Ng\\xc3\\xb4, Vi\\xe1\\xbb\\x87t, S\\xe1\\xbb\\x9f',\n",
       "        'T\\xe1\\xbb\\x81, T\\xe1\\xba\\xa5n, T\\xe1\\xbb\\x91ng, T\\xe1\\xba\\xa7n, S\\xe1\\xbb\\x9f',\n",
       "        'D', 'H', '-', '-'],\n",
       "       ['TG', 1L, 12L,\n",
       "        'M\\xe1\\xbb\\x99t trong nh\\xe1\\xbb\\xafng s\\xe1\\xbb\\xb1 ki\\xe1\\xbb\\x87n \\xc4\\x91\\xc3\\xa1nh d\\xe1\\xba\\xa5u s\\xe1\\xbb\\xb1 chuy\\xe1\\xbb\\x83n th\\xe1\\xbb\\x9di \\xc4\\x91\\xe1\\xba\\xa1i t\\xe1\\xbb\\xab Xu\\xc3\\xa2n Thu sang Chi\\xe1\\xba\\xbfn Qu\\xe1\\xbb\\x91c \\xe1\\xbb\\x9f Trung Qu\\xe1\\xbb\\x91c c\\xe1\\xbb\\x95 \\xc4\\x91\\xe1\\xba\\xa1i l\\xc3\\xa0 vi\\xe1\\xbb\\x87c n\\xc6\\xb0\\xe1\\xbb\\x9bc T\\xe1\\xba\\xa5n b\\xe1\\xbb\\x8b chia th\\xc3\\xa0nh 3 n\\xc6\\xb0\\xe1\\xbb\\x9bc n\\xc3\\xa0o sau \\xc4\\x91\\xc3\\xa2y?',\n",
       "        'Tri\\xe1\\xbb\\x87u, Ngu\\xe1\\xbb\\xb5, Y\\xc3\\xaan',\n",
       "        'Y\\xc3\\xaan, Ngu\\xe1\\xbb\\xb5, H\\xc3\\xa0n',\n",
       "        'Tri\\xe1\\xbb\\x87u, Ngu\\xe1\\xbb\\xb5, H\\xc3\\xa0n',\n",
       "        'Y\\xc3\\xaan, H\\xc3\\xa0n, Tri\\xe1\\xbb\\x87u', 'C', 'H', '-', '-'],\n",
       "       ['TG', 1L, 13L,\n",
       "        'Xu\\xc3\\xa2n Thu v\\xc3\\xa0 Chi\\xe1\\xba\\xbfn Qu\\xe1\\xbb\\x91c l\\xc3\\xa0 hai giai \\xc4\\x91o\\xe1\\xba\\xa1n c\\xe1\\xbb\\xa7a th\\xe1\\xbb\\x9di k\\xc3\\xac n\\xc3\\xa0o sau \\xc4\\x91\\xc3\\xa2y c\\xe1\\xbb\\xa7a Trung Qu\\xe1\\xbb\\x91c c\\xe1\\xbb\\x95 \\xc4\\x91\\xe1\\xba\\xa1i?',\n",
       "        'T\\xc3\\xa2y Chu', '\\xc4\\x90\\xc3\\xb4ng Chu',\n",
       "        'T\\xc3\\xa2y H\\xc3\\xa1n', '\\xc4\\x90\\xc3\\xb4ng H\\xc3\\xa1n', 'B', 'M',\n",
       "        '-', '-'],\n",
       "       ['TG', 2L, 14L,\n",
       "        'V\\xc4\\x83n C\\xe1\\xba\\xa3nh chi tr\\xe1\\xbb\\x8b l\\xc3\\xa0 c\\xe1\\xbb\\xa5m t\\xe1\\xbb\\xab m\\xc3\\xb4 t\\xe1\\xba\\xa3 s\\xe1\\xbb\\xb1 cai tr\\xe1\\xbb\\x8b c\\xe1\\xbb\\xa7a m\\xe1\\xbb\\x99t s\\xe1\\xbb\\x91 vua Trung Qu\\xe1\\xbb\\x91c \\xe1\\xbb\\x9f th\\xe1\\xbb\\x9di k\\xc3\\xac n\\xc3\\xa0o?',\n",
       "        'Chu (th\\xe1\\xba\\xbf k\\xe1\\xbb\\x89 XI TCN - III TCN)',\n",
       "        'T\\xc3\\xa2y H\\xc3\\xa1n (th\\xe1\\xba\\xbf k\\xe1\\xbb\\x89 II TCN - I)',\n",
       "        '\\xc4\\x90\\xc3\\xb4ng H\\xc3\\xa1n (th\\xe1\\xba\\xbf k\\xe1\\xbb\\x89 I - III)',\n",
       "        '\\xc4\\x90\\xc6\\xb0\\xe1\\xbb\\x9dng (th\\xe1\\xba\\xbf k\\xe1\\xbb\\x89 VII - X)',\n",
       "        'B', 'H', '-', '-'],\n",
       "       ['TG', 2L, 15L,\n",
       "        'D\\xc3\\xb2ng n\\xc3\\xa0o sau \\xc4\\x91\\xc3\\xa2y kh\\xc3\\xb4ng n\\xc3\\xaau \\xc4\\x91\\xc3\\xbang hi\\xe1\\xbb\\x83m ho\\xe1\\xba\\xa1 ngo\\xe1\\xba\\xa1i x\\xc3\\xa2m c\\xe1\\xbb\\xa7a Trung Qu\\xe1\\xbb\\x91c t\\xc6\\xb0\\xc6\\xa1ng \\xe1\\xbb\\xa9ng v\\xe1\\xbb\\x9bi tri\\xe1\\xbb\\x81u \\xc4\\x91\\xe1\\xba\\xa1i tr\\xe1\\xbb\\x8b v\\xc3\\xac?',\n",
       "        'Th\\xe1\\xbb\\x9di Chu, qu\\xc3\\xa2n Khuy\\xe1\\xbb\\x83n Nhung',\n",
       "        'Th\\xe1\\xbb\\x9di H\\xc3\\xa1n, qu\\xc3\\xa2n Hung N\\xc3\\xb4',\n",
       "        'Th\\xe1\\xbb\\x9di \\xc4\\x90\\xc6\\xb0\\xe1\\xbb\\x9dng, qu\\xc3\\xa2n T\\xc3\\xa2y H\\xe1\\xba\\xa1',\n",
       "        'Th\\xe1\\xbb\\x9di B\\xe1\\xba\\xafc T\\xe1\\xbb\\x91ng, qu\\xc3\\xa2n Li\\xc3\\xaau ',\n",
       "        'C', 'H', '-', '-'],\n",
       "       ['TG', 2L, 16L,\n",
       "        'Th\\xe1\\xbb\\x9di k\\xc3\\xac Nam B\\xe1\\xba\\xafc tri\\xe1\\xbb\\x81u \\xe1\\xbb\\x9f Trung Qu\\xe1\\xbb\\x91c di\\xe1\\xbb\\x85n ra trong nh\\xe1\\xbb\\xafng th\\xe1\\xba\\xbf k\\xc3\\xac n\\xc3\\xa0o?',\n",
       "        'Th\\xe1\\xba\\xbf k\\xe1\\xbb\\x89 I - III',\n",
       "        'Th\\xe1\\xba\\xbf k\\xe1\\xbb\\x89 IV - VI',\n",
       "        'Th\\xe1\\xba\\xbf k\\xe1\\xbb\\x89 VI - VIII',\n",
       "        'Th\\xe1\\xba\\xbf k\\xe1\\xbb\\x89 X', 'B', 'M', '-', '-'],\n",
       "       ['TG', 2L, 17L,\n",
       "        'Lo\\xe1\\xba\\xa1n An S\\xe1\\xbb\\xad (An L\\xe1\\xbb\\x99c S\\xc6\\xa1n v\\xc3\\xa0 S\\xe1\\xbb\\xad T\\xc6\\xb0 Minh) di\\xe1\\xbb\\x85n ra \\xe1\\xbb\\x9f v\\xc6\\xb0\\xc6\\xa1ng tri\\xe1\\xbb\\x81u n\\xc3\\xa0o c\\xe1\\xbb\\xa7a Trung Qu\\xe1\\xbb\\x91c?',\n",
       "        'H\\xc3\\xa1n', '\\xc4\\x90\\xc6\\xb0\\xe1\\xbb\\x9dng', 'T\\xe1\\xbb\\x91ng',\n",
       "        'Minh', 'B', 'H', '-', '-'],\n",
       "       ['TG', 3L, 18L,\n",
       "        'Trong n\\xe1\\xbb\\x99i chi\\xe1\\xba\\xbfn \\xe1\\xbb\\x9f Anh 1640-1649, vua n\\xc3\\xa0o b\\xe1\\xbb\\x8b x\\xe1\\xbb\\xad t\\xe1\\xbb\\xad n\\xc4\\x83m 1649 v\\xc3\\xac b\\xe1\\xbb\\x8b k\\xe1\\xba\\xbft t\\xe1\\xbb\\x99i ph\\xe1\\xba\\xa3n qu\\xe1\\xbb\\x91c?',\n",
       "        'Charles I', 'George I', 'Harold II', 'Erward I', 'A', 'H', '-',\n",
       "        '-'],\n",
       "       ['TG', 3L, 19L,\n",
       "        'S\\xe1\\xbb\\xb1 ki\\xe1\\xbb\\x87n n\\xc3\\xa0o d\\xc6\\xb0\\xe1\\xbb\\x9bi \\xc4\\x91\\xc3\\xa2y \\xc4\\x91\\xc3\\xa1nh d\\xe1\\xba\\xa5u s\\xe1\\xbb\\xb1 b\\xc3\\xb9ng n\\xe1\\xbb\\x95 C\\xc3\\xa1ch m\\xe1\\xba\\xa1ng Ph\\xc3\\xa1p 1789 v\\xc3\\xa0 tr\\xe1\\xbb\\x9f th\\xc3\\xa0nh ng\\xc3\\xa0y Qu\\xe1\\xbb\\x91c kh\\xc3\\xa1nh n\\xc6\\xb0\\xe1\\xbb\\x9bc C\\xe1\\xbb\\x99ng ho\\xc3\\xa0 Ph\\xc3\\xa1p hi\\xe1\\xbb\\x87n nay?',\n",
       "        'Ph\\xc3\\xa1 ng\\xe1\\xbb\\xa5c Bastille',\n",
       "        'Chi\\xe1\\xba\\xbfm cung \\xc4\\x91i\\xe1\\xbb\\x87n Versailles',\n",
       "        'X\\xe1\\xbb\\xad t\\xe1\\xbb\\xad vua Louis XVI',\n",
       "        'Nh\\xc3\\xb3m Jacobin l\\xc3\\xaan n\\xe1\\xba\\xafm ch\\xc3\\xadnh quy\\xe1\\xbb\\x81n',\n",
       "        'A', 'M', '-', '-'],\n",
       "       ['TG', 3L, 20L,\n",
       "        'Khi th\\xc3\\xa0nh l\\xe1\\xba\\xadp H\\xe1\\xbb\\xa3p ch\\xc3\\xbang qu\\xe1\\xbb\\x91c M\\xe1\\xbb\\xb9 (1776), qu\\xe1\\xbb\\x91c gia n\\xc3\\xa0y c\\xc3\\xb3 bao nhi\\xc3\\xaau bang?',\n",
       "        '13', '18', '22', '27', 'A', 'H', '-', '-'],\n",
       "       ['TG', 3L, 21L,\n",
       "        '\\xc4\\x90\\xe1\\xbb\\x83 tr\\xe1\\xba\\xa5n \\xc3\\xa1p phong tr\\xc3\\xa0o n\\xc3\\xa0o sau \\xc4\\x91\\xc3\\xa2y t\\xe1\\xba\\xa1i Trung Qu\\xe1\\xbb\\x91c, li\\xc3\\xaan qu\\xc3\\xa2n 8 n\\xc6\\xb0\\xe1\\xbb\\x9bc \\xc4\\x91\\xc3\\xa3 t\\xe1\\xba\\xa5n c\\xc3\\xb4ng B\\xe1\\xba\\xafc Kinh n\\xc4\\x83m 1901?',\n",
       "        'Th\\xc3\\xa1i B\\xc3\\xacnh Thi\\xc3\\xaan qu\\xe1\\xbb\\x91c',\n",
       "        'Trung Qu\\xe1\\xbb\\x91c \\xc4\\x90\\xe1\\xbb\\x93ng Minh h\\xe1\\xbb\\x99i',\n",
       "        'Ngh\\xc4\\xa9a Ho\\xc3\\xa0 \\xc4\\x90o\\xc3\\xa0n',\n",
       "        'C\\xc3\\xa1ch m\\xe1\\xba\\xa1ng T\\xc3\\xa2n H\\xe1\\xbb\\xa3i', 'C', 'H',\n",
       "        '-', '-'],\n",
       "       ['VN', 1L, 22L,\n",
       "        'T\\xe1\\xba\\xa1i di ch\\xe1\\xbb\\x89 n\\xc3\\xa0o d\\xc6\\xb0\\xe1\\xbb\\x9bi \\xc4\\x91\\xc3\\xa2y c\\xc3\\xa1c nh\\xc3\\xa0 kh\\xe1\\xba\\xa3o c\\xe1\\xbb\\x95 \\xc4\\x91\\xc3\\xa3 t\\xc3\\xacm th\\xe1\\xba\\xa5y ho\\xc3\\xa1 th\\xe1\\xba\\xa1ch c\\xe1\\xbb\\xa7a r\\xc4\\x83ng ng\\xc6\\xb0\\xe1\\xbb\\x9di t\\xe1\\xbb\\x91i c\\xe1\\xbb\\x95 \\xe1\\xbb\\x9f Vi\\xe1\\xbb\\x87t Nam?',\n",
       "        'N\\xc3\\xbai \\xc4\\x90\\xe1\\xbb\\x8d (Thanh Ho\\xc3\\xa1)',\n",
       "        'Hang Th\\xe1\\xba\\xa9m Khuy\\xc3\\xaan, Th\\xe1\\xba\\xa9m Hai (L\\xe1\\xba\\xa1ng S\\xc6\\xa1n)',\n",
       "        'H\\xc3\\xa0ng G\\xc3\\xb2n, D\\xe1\\xba\\xa7u Gi\\xc3\\xa2y (\\xc4\\x90\\xe1\\xbb\\x93ng Nai)',\n",
       "        'D\\xe1\\xbb\\x91c M\\xc6\\xa1, V\\xc6\\xb0\\xe1\\xbb\\x9dn D\\xc5\\xa9 (S\\xc3\\xb4ng B\\xc3\\xa9)',\n",
       "        'B', 'H', '-', '-'],\n",
       "       ['VN', 1L, 23L,\n",
       "        'Theo c\\xc3\\xb4ng nh\\xe1\\xba\\xadn c\\xe1\\xbb\\xa7a s\\xe1\\xbb\\xad h\\xe1\\xbb\\x8dc ch\\xc3\\xadnh th\\xe1\\xbb\\x91ng hi\\xe1\\xbb\\x87n nay (quan \\xc4\\x91i\\xe1\\xbb\\x83m \\xc4\\x91\\xc6\\xb0\\xe1\\xbb\\xa3c gi\\xe1\\xba\\xa3ng d\\xe1\\xba\\xa1y trong s\\xc3\\xa1ch gi\\xc3\\xa1o khoa), th\\xe1\\xbb\\x9di k\\xc3\\xac H\\xc3\\xb9ng V\\xc6\\xb0\\xc6\\xa1ng k\\xc3\\xa9o d\\xc3\\xa0i bao nhi\\xc3\\xaau th\\xe1\\xba\\xbf k\\xe1\\xbb\\x89?',\n",
       "        '5 th\\xe1\\xba\\xbf k\\xe1\\xbb\\x89',\n",
       "        '11 th\\xe1\\xba\\xbf k\\xe1\\xbb\\x89',\n",
       "        '17 th\\xe1\\xba\\xbf k\\xe1\\xbb\\x89',\n",
       "        '27 th\\xe1\\xba\\xbf k\\xe1\\xbb\\x89', 'A', 'M', '-', '-'],\n",
       "       ['VN', 1L, 24L,\n",
       "        'Di t\\xc3\\xadch th\\xc3\\xa0nh C\\xe1\\xbb\\x95 Loa hi\\xe1\\xbb\\x87n n\\xe1\\xba\\xb1m \\xe1\\xbb\\x9f \\xc4\\x91\\xc3\\xa2u?',\n",
       "        'Phong Ch\\xc3\\xa2u, Ph\\xc3\\xba Th\\xe1\\xbb\\x8d',\n",
       "        'Hoa L\\xc6\\xb0, Ninh B\\xc3\\xacnh',\n",
       "        '\\xc4\\x90\\xc3\\xb4ng Anh, H\\xc3\\xa0 N\\xe1\\xbb\\x99i',\n",
       "        'Lam S\\xc6\\xa1n, Thanh Ho\\xc3\\xa1', 'C', 'E', '-', '-'],\n",
       "       ['VN', 1L, 25L,\n",
       "        '\\xc4\\x90\\xc3\\xa2u l\\xc3\\xa0 th\\xe1\\xbb\\xa9 t\\xe1\\xbb\\xb1 ti\\xe1\\xba\\xbfn c\\xc3\\xb4ng \\xc4\\x91\\xc3\\xbang c\\xe1\\xbb\\xa7a ngh\\xc4\\xa9a qu\\xc3\\xa2n Hai B\\xc3\\xa0 Tr\\xc6\\xb0ng (n\\xc4\\x83m 40) khi \\xc4\\x91\\xc3\\xa1nh \\xc4\\x91u\\xe1\\xbb\\x95i qu\\xc3\\xa2n H\\xc3\\xa1n kh\\xe1\\xbb\\x8fi Giao Ch\\xe1\\xbb\\x89?',\n",
       "        'M\\xc3\\xaa Linh, Luy L\\xc3\\xa2u, C\\xe1\\xbb\\x95 Loa',\n",
       "        'M\\xc3\\xaa Linh, C\\xe1\\xbb\\x95 Loa, Luy L\\xc3\\xa2u',\n",
       "        'M\\xc3\\xaa Linh, Luy L\\xc3\\xa2u, H\\xe1\\xbb\\xa3p Ph\\xe1\\xbb\\x91',\n",
       "        'M\\xc3\\xaa Linh, C\\xe1\\xbb\\x95 Loa, H\\xe1\\xbb\\xa3p Ph\\xe1\\xbb\\x91',\n",
       "        'B', 'H', '-', '-'],\n",
       "       ['VN', 1L, 26L,\n",
       "        'Nh\\xc3\\xa2n v\\xe1\\xba\\xadt l\\xe1\\xbb\\x8bch s\\xe1\\xbb\\xad n\\xc3\\xa0o ch\\xe1\\xbb\\x91ng l\\xe1\\xba\\xa1i qu\\xc3\\xa2n x\\xc3\\xa2m l\\xc6\\xb0\\xe1\\xbb\\xa3c Tr\\xe1\\xba\\xa7n (Trung Qu\\xe1\\xbb\\x91c), gi\\xe1\\xbb\\xaf v\\xe1\\xbb\\xafng \\xc4\\x91\\xe1\\xbb\\x99c l\\xe1\\xba\\xadp t\\xe1\\xba\\xa1m th\\xe1\\xbb\\x9di c\\xe1\\xbb\\xa7a d\\xc3\\xa2n t\\xe1\\xbb\\x99c?',\n",
       "        '\\xc4\\x90inh Ki\\xe1\\xba\\xbfn, L\\xc3\\xbd T\\xe1\\xbb\\xb1 Ti\\xc3\\xaan (th\\xe1\\xba\\xbf k\\xe1\\xbb\\x89 VII)',\n",
       "        'D\\xc6\\xb0\\xc6\\xa1ng Thanh (th\\xe1\\xba\\xbf k\\xe1\\xbb\\x89 IX)',\n",
       "        'L\\xc3\\xbd Ph\\xe1\\xba\\xadt T\\xe1\\xbb\\xad (th\\xe1\\xba\\xbf k\\xe1\\xbb\\x89 VI, VII)',\n",
       "        'Tri\\xe1\\xbb\\x87u Quang Ph\\xe1\\xbb\\xa5c (th\\xe1\\xba\\xbf k\\xe1\\xbb\\x89 VI)',\n",
       "        'D', 'H', '-', '-'],\n",
       "       ['VN', 1L, 27L,\n",
       "        'T\\xc6\\xb0\\xe1\\xbb\\x9bng gi\\xe1\\xba\\xb7c n\\xc3\\xa0o c\\xe1\\xbb\\xa7a Nam H\\xc3\\xa1n t\\xe1\\xbb\\xad tr\\xe1\\xba\\xadn tr\\xc3\\xaan s\\xc3\\xb4ng B\\xe1\\xba\\xa1ch \\xc4\\x90\\xe1\\xba\\xb1ng trong tr\\xe1\\xba\\xadn chi\\xe1\\xba\\xbfn v\\xe1\\xbb\\x9bi Ng\\xc3\\xb4 Quy\\xe1\\xbb\\x81n n\\xc4\\x83m 938?',\n",
       "        'Ho\\xe1\\xba\\xb1ng Thao (Ho\\xe1\\xba\\xb1ng Th\\xc3\\xa1o)',\n",
       "        'Tho\\xc3\\xa1t Hoan', 'Li\\xe1\\xbb\\x85u Th\\xc4\\x83ng',\n",
       "        'S\\xe1\\xba\\xa7m Nghi \\xc4\\x90\\xe1\\xbb\\x91ng', 'A', 'M', '-', '-'],\n",
       "       ['VN', 1L, 28L,\n",
       "        'Qu\\xe1\\xbb\\x91c hi\\xe1\\xbb\\x87u n\\xc6\\xb0\\xe1\\xbb\\x9bc ta trong th\\xe1\\xbb\\x9di k\\xc3\\xac H\\xc3\\xb9ng V\\xc6\\xb0\\xc6\\xa1ng l\\xc3\\xa0 g\\xc3\\xac?',\n",
       "        'V\\xc4\\x83n Lang', '\\xc3\\x82u L\\xe1\\xba\\xa1c',\n",
       "        'V\\xe1\\xba\\xa1n Xu\\xc3\\xa2n',\n",
       "        '\\xc4\\x90\\xe1\\xba\\xa1i C\\xe1\\xbb\\x93 Vi\\xe1\\xbb\\x87t', 'A', 'E',\n",
       "        '-', '-'],\n",
       "       ['VN', 1L, 29L,\n",
       "        'Qu\\xe1\\xbb\\x91c hi\\xe1\\xbb\\x87u n\\xc6\\xb0\\xe1\\xbb\\x9bc ta trong th\\xe1\\xbb\\x9di k\\xc3\\xac An D\\xc6\\xb0\\xc6\\xa1ng V\\xc6\\xb0\\xc6\\xa1ng l\\xc3\\xa0 g\\xc3\\xac?',\n",
       "        'V\\xc4\\x83n Lang', '\\xc3\\x82u L\\xe1\\xba\\xa1c',\n",
       "        'V\\xe1\\xba\\xa1n Xu\\xc3\\xa2n',\n",
       "        '\\xc4\\x90\\xe1\\xba\\xa1i C\\xe1\\xbb\\x93 Vi\\xe1\\xbb\\x87t', 'B', 'E',\n",
       "        '-', '-'],\n",
       "       ['VN', 1L, 30L,\n",
       "        'Kinh \\xc4\\x91\\xc3\\xb4 n\\xc6\\xb0\\xe1\\xbb\\x9bc ta trong th\\xe1\\xbb\\x9di k\\xc3\\xac H\\xc3\\xb9ng V\\xc6\\xb0\\xc6\\xa1ng thu\\xe1\\xbb\\x99c \\xc4\\x91\\xe1\\xbb\\x8ba ph\\xc6\\xb0\\xc6\\xa1ng n\\xc3\\xa0o hi\\xe1\\xbb\\x87n nay?',\n",
       "        'Phong Ch\\xc3\\xa2u, Ph\\xc3\\xba Th\\xe1\\xbb\\x8d',\n",
       "        '\\xc4\\x90\\xc3\\xb4ng Anh, H\\xc3\\xa0 N\\xe1\\xbb\\x99i',\n",
       "        'Hoa L\\xc6\\xb0, Ninh B\\xc3\\xacnh', 'Thanh Ho\\xc3\\xa1', 'A', 'E',\n",
       "        '-', '-'],\n",
       "       ['VN', 1L, 31L,\n",
       "        'T\\xc6\\xb0\\xc6\\xa1ng truy\\xe1\\xbb\\x81n trong l\\xe1\\xbb\\x8bch s\\xe1\\xbb\\xad v\\xc3\\xa0 truy\\xe1\\xbb\\x81n thuy\\xe1\\xba\\xbft, c\\xc3\\xb3 bao nhi\\xc3\\xaau \\xc4\\x91\\xe1\\xbb\\x9di vua H\\xc3\\xb9ng V\\xc6\\xb0\\xc6\\xa1ng?',\n",
       "        '9', '18', '27', '35', 'B', 'E', '-', '-'],\n",
       "       ['VN', 1L, 32L,\n",
       "        'Theo truy\\xe1\\xbb\\x81n thuy\\xe1\\xba\\xbft, s\\xe1\\xbb\\xb1 t\\xc3\\xadch n\\xc3\\xa0o d\\xc6\\xb0\\xe1\\xbb\\x9bi \\xc4\\x91\\xc3\\xa2y kh\\xc3\\xb4ng x\\xe1\\xba\\xa3y ra v\\xc3\\xa0o th\\xe1\\xbb\\x9di k\\xc3\\xac H\\xc3\\xb9ng V\\xc6\\xb0\\xc6\\xa1ng?',\n",
       "        'B\\xc3\\xa1nh ch\\xc6\\xb0ng b\\xc3\\xa1nh gi\\xe1\\xba\\xa7y',\n",
       "        'Tr\\xe1\\xba\\xa7u cau', 'S\\xc6\\xa1n Tinh, Thu\\xe1\\xbb\\xb7 Tinh',\n",
       "        'Th\\xe1\\xba\\xa1ch Sanh', 'D', 'E', '-', '-'],\n",
       "       ['VN', 1L, 33L,\n",
       "        'Theo truy\\xe1\\xbb\\x81n thuy\\xe1\\xba\\xbft, h\\xe1\\xbb\\x8d c\\xe1\\xbb\\xa7a c\\xc3\\xa1c vua H\\xc3\\xb9ng l\\xc3\\xa0 g\\xc3\\xac?',\n",
       "        'H\\xc3\\xb9ng', 'Tr\\xc6\\xb0ng', 'H\\xe1\\xbb\\x93ng B\\xc3\\xa0ng',\n",
       "        'Th\\xe1\\xbb\\xa5c', 'C', 'E', '-', '-'],\n",
       "       ['VN', 1L, 34L,\n",
       "        '\\xc4\\x90\\xc3\\xa2u l\\xc3\\xa0 t\\xc3\\xaan m\\xe1\\xbb\\x99t ch\\xe1\\xbb\\xa9c t\\xc6\\xb0\\xe1\\xbb\\x9bc trong b\\xe1\\xbb\\x99 m\\xc3\\xa1y nh\\xc3\\xa0 n\\xc6\\xb0\\xe1\\xbb\\x9bc th\\xe1\\xbb\\x9di H\\xc3\\xb9ng V\\xc6\\xb0\\xc6\\xa1ng?',\n",
       "        'Th\\xe1\\xbb\\xaba t\\xc6\\xb0\\xe1\\xbb\\x9bng',\n",
       "        'Th\\xe1\\xbb\\xa7 t\\xc6\\xb0\\xe1\\xbb\\x9bng',\n",
       "        '\\xc4\\x90\\xe1\\xba\\xa1i t\\xc6\\xb0\\xe1\\xbb\\x9bng',\n",
       "        'L\\xe1\\xba\\xa1c t\\xc6\\xb0\\xe1\\xbb\\x9bng', 'D', 'E', '-', '-'],\n",
       "       ['VN', 1L, 35L,\n",
       "        'Th\\xc3\\xa0nh C\\xe1\\xbb\\x95 Loa \\xc4\\x91\\xc6\\xb0\\xe1\\xbb\\xa3c x\\xc3\\xa2y h\\xc3\\xacnh xo\\xe1\\xba\\xafn \\xe1\\xbb\\x91c v\\xe1\\xbb\\x9bi bao nhi\\xc3\\xaau v\\xc3\\xb2ng th\\xc3\\xa0nh?',\n",
       "        '1', '2', '3', '4', 'C', 'M', '-', '-'],\n",
       "       ['VN', 1L, 36L,\n",
       "        'N\\xc6\\xb0\\xe1\\xbb\\x9bc ta th\\xe1\\xbb\\x9di H\\xc3\\xb9ng V\\xc6\\xb0\\xc6\\xa1ng \\xc4\\x91\\xc6\\xb0\\xe1\\xbb\\xa3c chia th\\xc3\\xa0nh bao nhi\\xc3\\xaau b\\xe1\\xbb\\x99?',\n",
       "        '8', '15', '24', '35', 'B', 'M', '-', '-'],\n",
       "       ['VN', 1L, 37L,\n",
       "        'Th\\xe1\\xbb\\x9di H\\xc3\\xb9ng V\\xc6\\xb0\\xc6\\xa1ng, con g\\xc3\\xa1i vua \\xc4\\x91\\xc6\\xb0\\xe1\\xbb\\xa3c g\\xe1\\xbb\\x8di l\\xc3\\xa0 g\\xc3\\xac?',\n",
       "        'C\\xc3\\xb4ng ch\\xc3\\xbaa', 'C\\xc3\\xb4ng n\\xc6\\xb0\\xc6\\xa1ng',\n",
       "        'Phu nh\\xc3\\xa2n', 'M\\xe1\\xbb\\x8b n\\xc6\\xb0\\xc6\\xa1ng', 'D', 'E',\n",
       "        '-', '-'],\n",
       "       ['VN', 1L, 38L,\n",
       "        'Theo truy\\xe1\\xbb\\x81n thuy\\xe1\\xba\\xbft th\\xe1\\xbb\\x9di An D\\xc6\\xb0\\xc6\\xa1ng V\\xc6\\xb0\\xc6\\xa1ng, m\\xe1\\xbb\\x99t ng\\xc6\\xb0\\xe1\\xbb\\x9di c\\xc3\\xb3 s\\xe1\\xbb\\xa9c m\\xe1\\xba\\xa1nh phi th\\xc6\\xb0\\xe1\\xbb\\x9dng \\xe1\\xbb\\x9f n\\xc6\\xb0\\xe1\\xbb\\x9bc ta \\xc4\\x91\\xc3\\xa3 b\\xe1\\xbb\\x8b n\\xe1\\xba\\xa1p sang n\\xc6\\xb0\\xe1\\xbb\\x9bc T\\xe1\\xba\\xa7n \\xc4\\x91\\xe1\\xbb\\x83 ch\\xe1\\xbb\\x89 huy ch\\xe1\\xbb\\x91ng qu\\xc3\\xa2n Hung N\\xc3\\xb4. Sau n\\xc3\\xa0y khi v\\xe1\\xbb\\x81 n\\xc6\\xb0\\xe1\\xbb\\x9bc, v\\xc3\\xac kh\\xc3\\xb4ng mu\\xe1\\xbb\\x91n tr\\xe1\\xbb\\x9f l\\xe1\\xba\\xa1i T\\xe1\\xba\\xa7n, \\xc3\\xb4ng \\xc4\\x91\\xc3\\xa3 t\\xe1\\xbb\\xb1 v\\xe1\\xba\\xabn. Ng\\xc6\\xb0\\xe1\\xbb\\x9di \\xc4\\x91\\xc3\\xb3 l\\xc3\\xa0 ai?',\n",
       "        'Cao L\\xe1\\xbb\\x97', 'L\\xc3\\xbd \\xc3\\x94ng Tr\\xe1\\xbb\\x8dng',\n",
       "        'Nguy\\xe1\\xbb\\x85n Minh Kh\\xc3\\xb4ng',\n",
       "        'L\\xc3\\xaa Ph\\xe1\\xbb\\xa5ng Hi\\xe1\\xbb\\x83u', 'B', 'M', '-', '-'],\n",
       "       ['VN', 1L, 39L,\n",
       "        'Theo truy\\xe1\\xbb\\x81n thuy\\xe1\\xba\\xbft, An D\\xc6\\xb0\\xc6\\xa1ng V\\xc6\\xb0\\xc6\\xa1ng ch\\xe1\\xba\\xbft \\xe1\\xbb\\x9f \\xc4\\x91\\xc3\\xa2u?',\n",
       "        'H\\xc3\\xa0 N\\xe1\\xbb\\x99i', 'Ngh\\xe1\\xbb\\x87 An',\n",
       "        'Ph\\xc3\\xba Th\\xe1\\xbb\\x8d', 'Thanh Ho\\xc3\\xa1', 'B', 'H', '-', '-'],\n",
       "       ['VN', 1L, 40L,\n",
       "        'Th\\xe1\\xbb\\x9di Tri\\xe1\\xbb\\x87u (Nam Vi\\xe1\\xbb\\x87t) \\xc4\\x91\\xc3\\xb4 h\\xe1\\xbb\\x99 (th\\xe1\\xba\\xbf k\\xe1\\xbb\\x89 II TCN), n\\xc6\\xb0\\xe1\\xbb\\x9bc ta \\xc4\\x91\\xc6\\xb0\\xe1\\xbb\\xa3c chia th\\xc3\\xa0nh c\\xc3\\xa1c \\xc4\\x91\\xc6\\xa1n v\\xe1\\xbb\\x8b h\\xc3\\xa0nh ch\\xc3\\xadnh n\\xc3\\xa0o?',\n",
       "        '2 qu\\xe1\\xba\\xadn: Giao Ch\\xe1\\xbb\\x89, C\\xe1\\xbb\\xadu Ch\\xc3\\xa2n',\n",
       "        '3 qu\\xe1\\xba\\xadn: Giao Ch\\xe1\\xbb\\x89, C\\xe1\\xbb\\xadu Ch\\xc3\\xa2n, Nh\\xe1\\xba\\xadt Nam',\n",
       "        '1 ch\\xc3\\xa2u: Giao Ch\\xc3\\xa2u',\n",
       "        '1 ph\\xe1\\xbb\\xa7: An Nam \\xc4\\x91\\xc3\\xb4 h\\xe1\\xbb\\x99 ph\\xe1\\xbb\\xa7',\n",
       "        'A', 'H', '-', '-'],\n",
       "       ['VN', 1L, 41L,\n",
       "        'Th\\xe1\\xbb\\x9di H\\xc3\\xa1n \\xc4\\x91\\xc3\\xb4 h\\xe1\\xbb\\x99 (th\\xe1\\xba\\xbf k\\xe1\\xbb\\x89 II TCN - III SCN), n\\xc6\\xb0\\xe1\\xbb\\x9bc ta \\xc4\\x91\\xc6\\xb0\\xe1\\xbb\\xa3c chia th\\xc3\\xa0nh c\\xc3\\xa1c \\xc4\\x91\\xc6\\xa1n v\\xe1\\xbb\\x8b h\\xc3\\xa0nh ch\\xc3\\xadnh n\\xc3\\xa0o?',\n",
       "        '2 qu\\xe1\\xba\\xadn: Giao Ch\\xe1\\xbb\\x89, C\\xe1\\xbb\\xadu Ch\\xc3\\xa2n',\n",
       "        '3 qu\\xe1\\xba\\xadn: Giao Ch\\xe1\\xbb\\x89, C\\xe1\\xbb\\xadu Ch\\xc3\\xa2n, Nh\\xe1\\xba\\xadt Nam',\n",
       "        '1 ph\\xe1\\xbb\\xa7: T\\xc4\\xa9nh H\\xe1\\xba\\xa3i ph\\xe1\\xbb\\xa7',\n",
       "        '1 ph\\xe1\\xbb\\xa7: An Nam \\xc4\\x91\\xc3\\xb4 h\\xe1\\xbb\\x99 ph\\xe1\\xbb\\xa7',\n",
       "        'B', 'H', '-', '-'],\n",
       "       ['VN', 1L, 42L,\n",
       "        'Th\\xc3\\xa1i th\\xc3\\xba nh\\xc3\\xa0 H\\xc3\\xa1n ph\\xe1\\xba\\xa3i c\\xe1\\xba\\xaft t\\xc3\\xb3c, c\\xe1\\xba\\xa1o r\\xc3\\xa2u, l\\xe1\\xba\\xa9n trong \\xc4\\x91\\xc3\\xa1m lo\\xe1\\xba\\xa1n qu\\xc3\\xa2n ch\\xe1\\xba\\xa1y v\\xe1\\xbb\\x81 n\\xc6\\xb0\\xe1\\xbb\\x9bc trong cu\\xe1\\xbb\\x99c kh\\xe1\\xbb\\x9fi ngh\\xc4\\xa9a Hai B\\xc3\\xa0 Tr\\xc6\\xb0ng l\\xc3\\xa0 ai?',\n",
       "        'T\\xc3\\xb4 \\xc4\\x90\\xe1\\xbb\\x8bnh',\n",
       "        'Ng\\xc3\\xb4 Di\\xc3\\xaan H\\xe1\\xbb\\xb1u',\n",
       "        'Quang S\\xe1\\xbb\\x9f Kh\\xc3\\xa1ch', 'M\\xc3\\xa3 Vi\\xe1\\xbb\\x87n',\n",
       "        'A', 'E', '-', '-'],\n",
       "       ['VN', 1L, 43L,\n",
       "        'N\\xc4\\x83m 42, t\\xc6\\xb0\\xe1\\xbb\\x9bng n\\xc3\\xa0o c\\xe1\\xbb\\xa7a nh\\xc3\\xa0 H\\xc3\\xa1n \\xc4\\x91\\xc6\\xb0\\xe1\\xbb\\xa3c ph\\xc3\\xa1i sang \\xc4\\x91\\xc3\\xa1nh d\\xe1\\xba\\xb9p kh\\xe1\\xbb\\x9fi ngh\\xc4\\xa9a Hai B\\xc3\\xa0 Tr\\xc6\\xb0ng?',\n",
       "        'M\\xc3\\xa3 Vi\\xe1\\xbb\\x87n',\n",
       "        'Tr\\xe1\\xba\\xa7n B\\xc3\\xa1 Ti\\xc3\\xaan',\n",
       "        'L\\xc6\\xb0u Ho\\xe1\\xba\\xb1ng Th\\xc3\\xa1o',\n",
       "        'L\\xe1\\xbb\\xa5c D\\xe1\\xba\\xadn', 'A', 'M', '-', '-'],\n",
       "       ['VN', 1L, 44L,\n",
       "        'N\\xc6\\xb0\\xe1\\xbb\\x9bc ta n\\xe1\\xba\\xb1m d\\xc6\\xb0\\xe1\\xbb\\x9bi \\xc3\\xa1ch \\xc4\\x91\\xc3\\xb4 h\\xe1\\xbb\\x99 c\\xe1\\xbb\\xa7a n\\xc6\\xb0\\xe1\\xbb\\x9bc n\\xc3\\xa0o trong ph\\xe1\\xba\\xa7n l\\xe1\\xbb\\x9bn th\\xe1\\xbb\\x9di gian th\\xe1\\xbb\\x9di Tam qu\\xe1\\xbb\\x91c \\xe1\\xbb\\x9f Trung Qu\\xe1\\xbb\\x91c?',\n",
       "        'T\\xe1\\xba\\xa5n', 'Ngu\\xe1\\xbb\\xb5', 'Th\\xe1\\xbb\\xa5c',\n",
       "        'Ng\\xc3\\xb4', 'D', 'E', '-', '-'],\n",
       "       ['VN', 1L, 45L,\n",
       "        'Cu\\xe1\\xbb\\x99c kh\\xe1\\xbb\\x9fi ngh\\xc4\\xa9a l\\xe1\\xbb\\x9bn nh\\xe1\\xba\\xa5t ch\\xe1\\xbb\\x91ng \\xc3\\xa1ch \\xc4\\x91\\xc3\\xb4 h\\xe1\\xbb\\x99 c\\xe1\\xbb\\xa7a Trung Qu\\xe1\\xbb\\x91c th\\xe1\\xbb\\x9di Tam qu\\xe1\\xbb\\x91c, di\\xe1\\xbb\\x85n ra n\\xc4\\x83m 248, b\\xc3\\xb9ng n\\xe1\\xbb\\x95 t\\xe1\\xba\\xa1i Thanh Ho\\xc3\\xa1, l\\xc3\\xa0 kh\\xe1\\xbb\\x9fi ngh\\xc4\\xa9a n\\xc3\\xa0o?',\n",
       "        'L\\xc3\\xbd B\\xc3\\xad', 'B\\xc3\\xa0 Tri\\xe1\\xbb\\x87u',\n",
       "        'Ph\\xc3\\xb9ng H\\xc6\\xb0ng', 'Mai Th\\xc3\\xbac Loan', 'B', 'E', '-',\n",
       "        '-'],\n",
       "       ['VN', 1L, 46L,\n",
       "        'Cu\\xe1\\xbb\\x91i th\\xe1\\xba\\xbf k\\xe1\\xbb\\x89 I, \\xc4\\x91\\xe1\\xba\\xa7u th\\xe1\\xba\\xbf k\\xe1\\xbb\\x89 II, th\\xc3\\xa1i th\\xc3\\xba n\\xc3\\xa0o c\\xe1\\xbb\\xa7a nh\\xc3\\xa0 H\\xc3\\xa1n \\xc4\\x91\\xc3\\xa3 th\\xe1\\xbb\\xb1c hi\\xe1\\xbb\\x87n nhi\\xe1\\xbb\\x81u ch\\xc3\\xadnh s\\xc3\\xa1ch ti\\xe1\\xba\\xbfn b\\xe1\\xbb\\x99 trong vi\\xe1\\xbb\\x87c qu\\xe1\\xba\\xa3n l\\xc3\\xad v\\xc3\\xb9ng \\xc4\\x91\\xe1\\xba\\xa5t n\\xc6\\xb0\\xe1\\xbb\\x9bc ta hi\\xe1\\xbb\\x87n nay, \\xc4\\x91\\xc6\\xb0\\xe1\\xbb\\xa3c ng\\xc6\\xb0\\xe1\\xbb\\x9di \\xc4\\x91\\xe1\\xbb\\x9di sau g\\xe1\\xbb\\x8di l\\xc3\\xa0 \"Nam Giao h\\xe1\\xbb\\x8dc t\\xe1\\xbb\\x95\"?',\n",
       "        'S\\xc4\\xa9 Nhi\\xe1\\xba\\xbfp', 'Cao Bi\\xe1\\xbb\\x81n',\n",
       "        '\\xc4\\x90\\xe1\\xbb\\x99c C\\xc3\\xb4 T\\xe1\\xbb\\x95n', 'S\\xc4\\xa9 Huy',\n",
       "        'A', 'H', '-', '-'],\n",
       "       ['VN', 1L, 47L,\n",
       "        'T\\xc6\\xb0\\xc6\\xa1ng truy\\xe1\\xbb\\x81n, Hai B\\xc3\\xa0 Tr\\xc6\\xb0ng t\\xe1\\xbb\\xb1 v\\xe1\\xba\\xabn \\xe1\\xbb\\x9f s\\xc3\\xb4ng n\\xc3\\xa0o?',\n",
       "        'S\\xc3\\xb4ng M\\xc3\\xa3', 'S\\xc3\\xb4ng \\xc4\\x90u\\xe1\\xbb\\x91ng',\n",
       "        'S\\xc3\\xb4ng Nh\\xc6\\xb0 Nguy\\xe1\\xbb\\x87t',\n",
       "        'S\\xc3\\xb4ng H\\xc3\\xa1t', 'D', 'E', '-', '-'],\n",
       "       ['VN', 1L, 48L,\n",
       "        'N\\xc6\\xb0\\xe1\\xbb\\x9bc Champa ra \\xc4\\x91\\xe1\\xbb\\x9di t\\xe1\\xbb\\xab cu\\xe1\\xbb\\x99c kh\\xe1\\xbb\\x9fi ngh\\xc4\\xa9a c\\xe1\\xbb\\xa7a Khu Li\\xc3\\xaan v\\xc3\\xa0o kho\\xe1\\xba\\xa3ng n\\xc4\\x83m n\\xc3\\xa0o?',\n",
       "        '50', '192', '677', '1011', 'B', 'E', '-', '-'],\n",
       "       ['VN', 1L, 49L,\n",
       "        'Qu\\xe1\\xbb\\x91c hi\\xe1\\xbb\\x87u n\\xc6\\xb0\\xe1\\xbb\\x9bc ta d\\xc6\\xb0\\xe1\\xbb\\x9bi th\\xe1\\xbb\\x9di L\\xc3\\xbd Nam \\xc4\\x90\\xe1\\xba\\xbf l\\xc3\\xa0 g\\xc3\\xac?',\n",
       "        '\\xc3\\x82u L\\xe1\\xba\\xa1c', 'V\\xe1\\xba\\xa1n Xu\\xc3\\xa2n',\n",
       "        '\\xc4\\x90\\xe1\\xba\\xa1i C\\xe1\\xbb\\x93 Vi\\xe1\\xbb\\x87t',\n",
       "        '\\xc4\\x90\\xe1\\xba\\xa1i Vi\\xe1\\xbb\\x87t', 'B', 'E', '-', '-'],\n",
       "       ['VN', 1L, 50L,\n",
       "        '\\xc4\\x90\\xe1\\xbb\\x8ba danh n\\xc3\\xa0o g\\xe1\\xba\\xafn v\\xe1\\xbb\\x9bi cu\\xe1\\xbb\\x99c kh\\xc3\\xa1ng chi\\xe1\\xba\\xbfn ch\\xe1\\xbb\\x91ng qu\\xc3\\xa2n Tr\\xe1\\xba\\xa7n B\\xc3\\xa1 Ti\\xc3\\xaan c\\xe1\\xbb\\xa7a Tri\\xe1\\xbb\\x87u Quang Ph\\xe1\\xbb\\xa5c?',\n",
       "        '\\xc4\\x90\\xe1\\xba\\xa7m D\\xc6\\xa1i',\n",
       "        'S\\xc3\\xb4ng B\\xe1\\xba\\xa1ch \\xc4\\x90\\xe1\\xba\\xb1ng',\n",
       "        '\\xc4\\x90\\xe1\\xba\\xa7m D\\xe1\\xba\\xa1 Tr\\xe1\\xba\\xa1ch',\n",
       "        'N\\xc3\\xbai T\\xe1\\xba\\xa3n Vi\\xc3\\xaan', 'C', 'M', '-', '-'],\n",
       "       ['VN', 1L, 51L,\n",
       "        'N\\xc4\\x83m 866, nh\\xc3\\xa0 \\xc4\\x90\\xc6\\xb0\\xe1\\xbb\\x9dng \\xc4\\x91\\xe1\\xbb\\x95i v\\xc3\\xb9ng l\\xc3\\xa3nh th\\xe1\\xbb\\x95 B\\xe1\\xba\\xafc Vi\\xe1\\xbb\\x87t Nam th\\xc3\\xa0nh \\xc4\\x91\\xc6\\xa1n v\\xe1\\xbb\\x8b h\\xc3\\xa0nh ch\\xc3\\xadnh n\\xc3\\xa0o?',\n",
       "        'An Nam \\xc4\\x91\\xc3\\xb4 h\\xe1\\xbb\\x99 ph\\xe1\\xbb\\xa7',\n",
       "        'T\\xc4\\xa9nh H\\xe1\\xba\\xa3i qu\\xc3\\xa2n', 'Giao Ch\\xc3\\xa2u',\n",
       "        'An Nam qu\\xe1\\xbb\\x91c', 'B', 'H', '-', '-'],\n",
       "       ['VN', 2L, 52L,\n",
       "        'Ng\\xc6\\xb0\\xe1\\xbb\\x9di Vi\\xe1\\xbb\\x87t Nam n\\xc3\\xa0o \\xc4\\x91\\xc3\\xa3 ph\\xc3\\xa1t minh ra s\\xc3\\xbang th\\xe1\\xba\\xa7n c\\xc3\\xb4ng?',\n",
       "        'H\\xe1\\xbb\\x93 Nguy\\xc3\\xaan Tr\\xe1\\xbb\\xabng',\n",
       "        'H\\xe1\\xbb\\x93 H\\xc3\\xa1n Th\\xc6\\xb0\\xc6\\xa1ng',\n",
       "        'L\\xc3\\xaa Qu\\xc3\\xbd \\xc4\\x90\\xc3\\xb4n',\n",
       "        'V\\xc5\\xa9 H\\xe1\\xbb\\xafu', 'A', 'M', '-', '-'],\n",
       "       ['VN', 2L, 53L,\n",
       "        'Nh\\xe1\\xbb\\xafng vua n\\xc3\\xa0o th\\xe1\\xbb\\x9di Ti\\xe1\\xbb\\x81n L\\xc3\\xaa \\xc4\\x91\\xc6\\xb0\\xe1\\xbb\\xa3c truy t\\xc3\\xb4n mi\\xe1\\xba\\xbfu hi\\xe1\\xbb\\x87u? (Mi\\xe1\\xba\\xbfu hi\\xe1\\xbb\\x87u c\\xe1\\xbb\\xa7a m\\xe1\\xbb\\x99t vua Vi\\xe1\\xbb\\x87t Nam b\\xe1\\xba\\xaft \\xc4\\x91\\xe1\\xba\\xa7u b\\xe1\\xba\\xb1ng h\\xe1\\xbb\\x8d c\\xe1\\xbb\\xa7a vua, ti\\xe1\\xba\\xbfp \\xc4\\x91\\xe1\\xba\\xbfn l\\xc3\\xa0 m\\xe1\\xbb\\x99t ch\\xe1\\xbb\\xaf v\\xc3\\xa0 cu\\xe1\\xbb\\x91i c\\xc3\\xb9ng l\\xc3\\xa0 ch\\xe1\\xbb\\xaf \"T\\xe1\\xbb\\x95\" ho\\xe1\\xba\\xb7c \"T\\xc3\\xb4ng\", v\\xc3\\xad d\\xe1\\xbb\\xa5 L\\xc3\\xad Th\\xc3\\xa1i T\\xe1\\xbb\\x95, Tr\\xe1\\xba\\xa7n Th\\xc3\\xa1i T\\xc3\\xb4ng)',\n",
       "        'L\\xc3\\xaa Ho\\xc3\\xa0n, L\\xc3\\xaa Long Vi\\xe1\\xbb\\x87t',\n",
       "        'L\\xc3\\xaa Ho\\xc3\\xa0n', 'L\\xc3\\xaa Long Vi\\xe1\\xbb\\x87t',\n",
       "        'L\\xc3\\xaa Long Vi\\xe1\\xbb\\x87t, L\\xc3\\xaa Long \\xc4\\x90\\xc4\\xa9nh',\n",
       "        'C', 'H', '-', '-'],\n",
       "       ['VN', 2L, 54L,\n",
       "        'Ba ng\\xc6\\xb0\\xe1\\xbb\\x9di con c\\xe1\\xbb\\xa7a vua L\\xc3\\xaa Th\\xc3\\xa1i T\\xc3\\xb4ng t\\xe1\\xbb\\xabng \\xe1\\xbb\\x9f ng\\xc3\\xb4i vua l\\xc3\\xa0 nh\\xe1\\xbb\\xafng ai?',\n",
       "        'L\\xc3\\xaa Nh\\xc3\\xa2n T\\xc3\\xb4ng, L\\xc3\\xaa Th\\xc3\\xa1nh T\\xc3\\xb4ng, L\\xc3\\xaa Hi\\xe1\\xba\\xbfn T\\xc3\\xb4ng',\n",
       "        'L\\xc3\\xaa Nh\\xc3\\xa2n T\\xc3\\xb4ng, L\\xc3\\xaa Th\\xc3\\xa1nh T\\xc3\\xb4ng, L\\xc3\\xaa Nghi D\\xc3\\xa2n (L\\xe1\\xba\\xa1ng S\\xc6\\xa1n V\\xc6\\xb0\\xc6\\xa1ng)',\n",
       "        'L\\xc3\\xaa Th\\xc3\\xa1nh T\\xc3\\xb4ng, L\\xc3\\xaa Hi\\xe1\\xba\\xbfn T\\xc3\\xb4ng, L\\xc3\\xaa Nghi D\\xc3\\xa2n (L\\xe1\\xba\\xa1ng S\\xc6\\xa1n V\\xc6\\xb0\\xc6\\xa1ng)',\n",
       "        'L\\xc3\\xaa Nh\\xc3\\xa2n T\\xc3\\xb4ng, L\\xc3\\xaa Hi\\xe1\\xba\\xbfn T\\xc3\\xb4ng, L\\xc3\\xaa Nghi D\\xc3\\xa2n (L\\xe1\\xba\\xa1ng S\\xc6\\xa1n V\\xc6\\xb0\\xc6\\xa1ng)',\n",
       "        'B', 'H', '-', '-'],\n",
       "       ['VN', 2L, 55L,\n",
       "        'Vua n\\xc3\\xa0o th\\xe1\\xbb\\x9di nh\\xc3\\xa0 Tr\\xe1\\xba\\xa7n c\\xc3\\xb3 5 ng\\xc6\\xb0\\xe1\\xbb\\x9di con \\xc4\\x91\\xe1\\xbb\\x81u l\\xc3\\xa0m vua?',\n",
       "        'Tr\\xe1\\xba\\xa7n Nh\\xc3\\xa2n T\\xc3\\xb4ng',\n",
       "        'Tr\\xe1\\xba\\xa7n Anh T\\xc3\\xb4ng',\n",
       "        'Tr\\xe1\\xba\\xa7n Minh T\\xc3\\xb4ng',\n",
       "        'Tr\\xe1\\xba\\xa7n Ngh\\xe1\\xbb\\x87 T\\xc3\\xb4ng', 'C', 'H', '-', '-'],\n",
       "       ['VN', 2L, 56L,\n",
       "        'V\\xc3\\xa2n \\xc4\\x90\\xe1\\xbb\\x93n, th\\xc6\\xb0\\xc6\\xa1ng c\\xe1\\xba\\xa3ng Vi\\xe1\\xbb\\x87t Nam \\xc4\\x91\\xe1\\xba\\xa7u ti\\xc3\\xaan th\\xe1\\xbb\\x9di phong ki\\xe1\\xba\\xbfn, \\xc4\\x91\\xc6\\xb0\\xe1\\xbb\\xa3c m\\xe1\\xbb\\x9f d\\xc6\\xb0\\xe1\\xbb\\x9bi th\\xe1\\xbb\\x9di vua n\\xc3\\xa0o?',\n",
       "        'L\\xc3\\xbd Th\\xe1\\xba\\xa7n T\\xc3\\xb4ng (1135)',\n",
       "        'L\\xc3\\xbd Anh T\\xc3\\xb4ng (1149)',\n",
       "        'L\\xc3\\xbd Cao T\\xc3\\xb4ng (1177)',\n",
       "        'L\\xc3\\xbd Hu\\xe1\\xbb\\x87 T\\xc3\\xb4ng (1211)', 'B', 'H', '-', '-'],\n",
       "       ['VN', 2L, 57L,\n",
       "        'Qu\\xe1\\xbb\\x91c hi\\xe1\\xbb\\x87u \\xc4\\x90\\xe1\\xba\\xa1i Vi\\xe1\\xbb\\x87t \\xc4\\x91\\xc6\\xb0\\xe1\\xbb\\xa3c s\\xe1\\xbb\\xad d\\xe1\\xbb\\xa5ng t\\xe1\\xbb\\xab th\\xe1\\xbb\\x9di vua n\\xc3\\xa0o c\\xe1\\xbb\\xa7a Vi\\xe1\\xbb\\x87t Nam?',\n",
       "        'L\\xc3\\xbd Th\\xc3\\xa1i T\\xe1\\xbb\\x95',\n",
       "        'L\\xc3\\xbd Th\\xc3\\xa1nh T\\xc3\\xb4ng',\n",
       "        'L\\xc3\\xbd Nh\\xc3\\xa2n T\\xc3\\xb4ng',\n",
       "        'L\\xc3\\xbd Th\\xe1\\xba\\xa7n T\\xc3\\xb4ng', 'B', 'H', '-', '-'],\n",
       "       ['VN', 2L, 58L,\n",
       "        'V\\xc6\\xb0\\xc6\\xa1ng tri\\xe1\\xbb\\x81u n\\xc3\\xa0o d\\xc6\\xb0\\xe1\\xbb\\x9bi \\xc4\\x91\\xc3\\xa2y c\\xc3\\xb3 th\\xe1\\xbb\\x9di gian tr\\xe1\\xbb\\x8b v\\xc3\\xac l\\xc3\\xa2u nh\\xe1\\xba\\xa5t t\\xe1\\xba\\xa1i Vi\\xe1\\xbb\\x87t Nam?',\n",
       "        'Nh\\xc3\\xa0 L\\xc3\\xbd (do L\\xc3\\xbd Th\\xc3\\xa1i T\\xe1\\xbb\\x95 th\\xc3\\xa0nh l\\xe1\\xba\\xadp)',\n",
       "        'Nh\\xc3\\xa0 Tr\\xe1\\xba\\xa7n (do Tr\\xe1\\xba\\xa7n Th\\xc3\\xa1i T\\xc3\\xb4ng th\\xc3\\xa0nh l\\xe1\\xba\\xadp)',\n",
       "        'Nh\\xc3\\xa0 H\\xe1\\xba\\xadu L\\xc3\\xaa (do L\\xc3\\xaa Th\\xc3\\xa1i T\\xe1\\xbb\\x95 th\\xc3\\xa0nh l\\xe1\\xba\\xadp)',\n",
       "        'Nh\\xc3\\xa0 Nguy\\xe1\\xbb\\x85n (do Gia Long th\\xc3\\xa0nh l\\xe1\\xba\\xadp)',\n",
       "        'C', 'M', '-', '-'],\n",
       "       ['VN', 2L, 59L,\n",
       "        'Th\\xe1\\xbb\\xa7 khoa thi \\xc4\\x91\\xc3\\xacnh \\xc4\\x91\\xe1\\xba\\xa7u ti\\xc3\\xaan trong l\\xe1\\xbb\\x8bch s\\xe1\\xbb\\xad Vi\\xe1\\xbb\\x87t Nam (th\\xe1\\xbb\\x9di L\\xc3\\xbd Nh\\xc3\\xa2n T\\xc3\\xb4ng) l\\xc3\\xa0 ai?',\n",
       "        'M\\xe1\\xba\\xa1c \\xc4\\x90\\xc4\\xa9nh Chi',\n",
       "        'Nguy\\xe1\\xbb\\x85n Hi\\xe1\\xbb\\x81n',\n",
       "        'L\\xc3\\xaa V\\xc4\\x83n Th\\xe1\\xbb\\x8bnh',\n",
       "        'L\\xc6\\xb0\\xc6\\xa1ng Th\\xe1\\xba\\xbf Vinh', 'C', 'H', '-', '-'],\n",
       "       ['VN', 2L, 60L,\n",
       "        'S\\xe1\\xbb\\xb1 th\\xc4\\x83ng ti\\xe1\\xba\\xbfn c\\xe1\\xbb\\xa7a L\\xc3\\xbd C\\xc3\\xb4ng U\\xe1\\xba\\xa9n trong tri\\xe1\\xbb\\x81u Ti\\xe1\\xbb\\x81n L\\xc3\\xaa v\\xc3\\xa0 vi\\xe1\\xbb\\x87c sau n\\xc3\\xa0y \\xc3\\xb4ng \\xc4\\x91\\xc6\\xb0\\xe1\\xbb\\xa3c suy t\\xc3\\xb4n l\\xc3\\xa0m vua c\\xc3\\xb3 s\\xe1\\xbb\\xb1 tr\\xe1\\xbb\\xa3 gi\\xc3\\xbap \\xc4\\x91\\xe1\\xba\\xafc l\\xe1\\xbb\\xb1c c\\xe1\\xbb\\xa7a thi\\xe1\\xbb\\x81n s\\xc6\\xb0 n\\xc3\\xa0o?',\n",
       "        'M\\xc3\\xa3n Gi\\xc3\\xa1c', 'V\\xe1\\xba\\xa1n H\\xe1\\xba\\xa1nh',\n",
       "        'Ph\\xc3\\xa1p Thu\\xe1\\xba\\xadn',\n",
       "        'D\\xc6\\xb0\\xc6\\xa1ng Kh\\xc3\\xb4ng L\\xe1\\xbb\\x99', 'B', 'M', '-',\n",
       "        '-'],\n",
       "       ['VN', 2L, 61L,\n",
       "        'L\\xc3\\xbd Th\\xc3\\xa1i T\\xe1\\xbb\\x95 d\\xe1\\xbb\\x9di \\xc4\\x91\\xc3\\xb4 t\\xe1\\xbb\\xab Hoa L\\xc6\\xb0 v\\xe1\\xbb\\x81 Th\\xc4\\x83ng Long v\\xc3\\xa0o n\\xc4\\x83m n\\xc3\\xa0o?',\n",
       "        '1009', '1010', '1042', '1054', 'B', 'M', '-', '-'],\n",
       "       ['VN', 2L, 62L,\n",
       "        'Vua n\\xc3\\xa0o \\xe1\\xbb\\x9f th\\xe1\\xbb\\x9di L\\xc3\\xbd khi l\\xc3\\xaan ng\\xc3\\xb4i c\\xc3\\xb3 s\\xe1\\xbb\\xb1 tranh ch\\xe1\\xba\\xa5p v\\xe1\\xbb\\x9bi em, ph\\xe1\\xba\\xa3i d\\xe1\\xba\\xb9p b\\xe1\\xba\\xb1ng binh \\xc4\\x91ao? (S\\xe1\\xbb\\xad c\\xc5\\xa9 g\\xe1\\xbb\\x8di l\\xc3\\xa0 Lo\\xe1\\xba\\xa1n Tam v\\xc6\\xb0\\xc6\\xa1ng)',\n",
       "        'L\\xc3\\xbd Th\\xc3\\xa1i T\\xc3\\xb4ng',\n",
       "        'L\\xc3\\xbd Th\\xc3\\xa1nh T\\xc3\\xb4ng',\n",
       "        'L\\xc3\\xbd Nh\\xc3\\xa2n T\\xc3\\xb4ng', 'L\\xc3\\xbd Anh T\\xc3\\xb4ng',\n",
       "        'A', 'H', '-', '-'],\n",
       "       ['VN', 2L, 63L,\n",
       "        'S\\xe1\\xbb\\xb1 ki\\xe1\\xbb\\x87n n\\xc3\\xa0o d\\xc6\\xb0\\xe1\\xbb\\x9bi \\xc4\\x91\\xc3\\xa2y kh\\xc3\\xb4ng thu\\xe1\\xbb\\x99c giai \\xc4\\x91o\\xe1\\xba\\xa1n cai tr\\xe1\\xbb\\x8b c\\xe1\\xbb\\xa7a vua L\\xc3\\xbd Th\\xc3\\xa1i T\\xc3\\xb4ng (1028-1054)?',\n",
       "        'Ban h\\xc3\\xa0nh b\\xe1\\xbb\\x99 lu\\xe1\\xba\\xadt H\\xc3\\xacnh Th\\xc6\\xb0',\n",
       "        'X\\xc3\\xa2y d\\xe1\\xbb\\xb1ng ch\\xc3\\xb9a M\\xe1\\xbb\\x99t C\\xe1\\xbb\\x99t',\n",
       "        'D\\xe1\\xba\\xb9p lo\\xe1\\xba\\xa1n N\\xc3\\xb9ng Tr\\xc3\\xad Th\\xc3\\xb4ng, N\\xc3\\xb9ng Tr\\xc3\\xad Cao',\n",
       "        'S\\xc3\\xa1p nh\\xe1\\xba\\xadp c\\xc3\\xa1c ch\\xc3\\xa2u \\xc4\\x90\\xe1\\xbb\\x8ba L\\xc3\\xbd, Ma Linh, B\\xe1\\xbb\\x91 Ch\\xc3\\xadnh (Qu\\xe1\\xba\\xa3ng B\\xc3\\xacnh) v\\xc3\\xa0o \\xc4\\x90\\xe1\\xba\\xa1i Vi\\xe1\\xbb\\x87t',\n",
       "        'D', 'H', '-', '-'],\n",
       "       ['VN', 2L, 64L,\n",
       "        'Tr\\xe1\\xba\\xadn chi\\xe1\\xba\\xbfn \\xe1\\xbb\\x9f ph\\xc3\\xb2ng tuy\\xe1\\xba\\xbfn s\\xc3\\xb4ng n\\xc3\\xa0o \\xc4\\x91\\xc3\\xa1nh d\\xe1\\xba\\xa5u k\\xe1\\xba\\xbft th\\xc3\\xbac th\\xe1\\xba\\xafng l\\xe1\\xbb\\xa3i c\\xe1\\xbb\\xa7a chi\\xe1\\xba\\xbfn tranh ch\\xe1\\xbb\\x91ng qu\\xc3\\xa2n T\\xe1\\xbb\\x91ng n\\xc4\\x83m 1077?',\n",
       "        'B\\xe1\\xba\\xa1ch \\xc4\\x90\\xe1\\xba\\xb1ng',\n",
       "        '\\xc4\\x90\\xe1\\xba\\xa3n N\\xc3\\xa3i', 'Nh\\xc6\\xb0 Nguy\\xe1\\xbb\\x87t',\n",
       "        'L\\xc3\\xa3nh Kinh', 'C', 'M', '-', '-'],\n",
       "       ['VN', 2L, 65L,\n",
       "        'T\\xc6\\xb0\\xe1\\xbb\\x9bng nh\\xc3\\xa0 T\\xe1\\xbb\\x91ng ch\\xe1\\xbb\\x89 huy qu\\xc3\\xa2n x\\xc3\\xa2m l\\xc6\\xb0\\xe1\\xbb\\xa3c \\xc4\\x90\\xe1\\xba\\xa1i Vi\\xe1\\xbb\\x87t n\\xc4\\x83m 1076-1077 l\\xc3\\xa0 ai?',\n",
       "        'H\\xe1\\xba\\xa7u Nh\\xc3\\xa2n B\\xe1\\xba\\xa3o',\n",
       "        'Qu\\xc3\\xa1ch Qu\\xe1\\xbb\\xb3', 'Toa \\xc4\\x90\\xc3\\xb4',\n",
       "        'M\\xe1\\xbb\\x99c Th\\xe1\\xba\\xa1nh', 'B', 'M', '-', '-'],\n",
       "       ['VN', 2L, 66L,\n",
       "        'V\\xe1\\xbb\\x9bi 56 n\\xc4\\x83m cai tr\\xe1\\xbb\\x8b, vua n\\xc3\\xa0o \\xe1\\xbb\\x9f ng\\xc3\\xb4i l\\xc3\\xa2u nh\\xe1\\xba\\xa5t trong l\\xe1\\xbb\\x8bch s\\xe1\\xbb\\xad Vi\\xe1\\xbb\\x87t Nam th\\xe1\\xbb\\x9di phong ki\\xe1\\xba\\xbfn?',\n",
       "        'L\\xc3\\xbd Nh\\xc3\\xa2n T\\xc3\\xb4ng',\n",
       "        'Tr\\xe1\\xba\\xa7n Nh\\xc3\\xa2n T\\xc3\\xb4ng',\n",
       "        'L\\xc3\\xaa Nh\\xc3\\xa2n T\\xc3\\xb4ng',\n",
       "        'L\\xc3\\xaa Hi\\xe1\\xbb\\x83n T\\xc3\\xb4ng', 'A', 'H', '-', '-'],\n",
       "       ['VN', 2L, 67L,\n",
       "        'D\\xc3\\xb2ng n\\xc3\\xa0o d\\xc6\\xb0\\xe1\\xbb\\x9bi \\xc4\\x91\\xc3\\xa2y li\\xe1\\xbb\\x87t k\\xc3\\xaa \\xc4\\x91\\xc3\\xbang v\\xc3\\xa0 \\xc4\\x91\\xe1\\xba\\xa7y \\xc4\\x91\\xe1\\xbb\\xa7 nh\\xe1\\xba\\xa5t c\\xc3\\xa1c vua nh\\xc3\\xa0 L\\xc3\\xbd l\\xc3\\xaan ng\\xc3\\xb4i khi tu\\xe1\\xbb\\x95i c\\xc3\\xb2n nh\\xe1\\xbb\\x8f (d\\xc6\\xb0\\xe1\\xbb\\x9bi 18 tu\\xe1\\xbb\\x95i)?',\n",
       "        'L\\xc3\\xbd Nh\\xc3\\xa2n T\\xc3\\xb4ng, L\\xc3\\xbd Th\\xe1\\xba\\xa7n T\\xc3\\xb4ng, L\\xc3\\xbd Anh T\\xc3\\xb4ng, L\\xc3\\xbd Chi\\xc3\\xaau Ho\\xc3\\xa0ng',\n",
       "        'L\\xc3\\xbd Nh\\xc3\\xa2n T\\xc3\\xb4ng, L\\xc3\\xbd Th\\xe1\\xba\\xa7n T\\xc3\\xb4ng, L\\xc3\\xbd Cao T\\xc3\\xb4ng, L\\xc3\\xbd Chi\\xc3\\xaau Ho\\xc3\\xa0ng',\n",
       "        'L\\xc3\\xbd Nh\\xc3\\xa2n T\\xc3\\xb4ng, L\\xc3\\xbd Th\\xe1\\xba\\xa7n T\\xc3\\xb4ng, L\\xc3\\xbd Anh T\\xc3\\xb4ng, L\\xc3\\xbd Cao T\\xc3\\xb4ng, L\\xc3\\xbd Chi\\xc3\\xaau Ho\\xc3\\xa0ng',\n",
       "        'L\\xc3\\xbd Nh\\xc3\\xa2n T\\xc3\\xb4ng, L\\xc3\\xbd Th\\xe1\\xba\\xa7n T\\xc3\\xb4ng, L\\xc3\\xbd Anh T\\xc3\\xb4ng, L\\xc3\\xbd Cao T\\xc3\\xb4ng, L\\xc3\\xbd Hu\\xe1\\xbb\\x87 T\\xc3\\xb4ng, L\\xc3\\xbd Chi\\xc3\\xaau Ho\\xc3\\xa0ng',\n",
       "        'D', 'H', '-', '-'],\n",
       "       ['VN', 2L, 68L,\n",
       "        '\\xc4\\x90\\xe1\\xba\\xa7u th\\xe1\\xbb\\x9di Tr\\xe1\\xba\\xa7n, tri\\xe1\\xbb\\x81u \\xc4\\x91\\xc3\\xacnh l\\xe1\\xba\\xa5y nguy\\xc3\\xaan do n\\xc3\\xa0o \\xc4\\x91\\xe1\\xbb\\x83 y\\xc3\\xaau c\\xe1\\xba\\xa7u ng\\xc6\\xb0\\xe1\\xbb\\x9di h\\xe1\\xbb\\x8d L\\xc3\\xbd trong n\\xc6\\xb0\\xe1\\xbb\\x9bc ta \\xc4\\x91\\xe1\\xbb\\x95i h\\xe1\\xbb\\x8d?',\n",
       "        'Nhi\\xe1\\xbb\\x81u ng\\xc6\\xb0\\xe1\\xbb\\x9di l\\xe1\\xba\\xa5y c\\xe1\\xbb\\x9b \"Ph\\xc3\\xb9 L\\xc3\\xbd di\\xe1\\xbb\\x87t Tr\\xe1\\xba\\xa7n\" n\\xe1\\xbb\\x95i d\\xe1\\xba\\xady ch\\xe1\\xbb\\x91ng tri\\xe1\\xbb\\x81u \\xc4\\x91\\xc3\\xacnh',\n",
       "        'C\\xe1\\xba\\xa7u an cho vua L\\xc3\\xbd Hu\\xe1\\xbb\\x87 T\\xc3\\xb4ng',\n",
       "        'Tr\\xc3\\xa1nh ph\\xe1\\xba\\xa1m hu\\xc3\\xbd v\\xe1\\xbb\\x9bi Tr\\xe1\\xba\\xa7n L\\xc3\\xbd, ng\\xc6\\xb0\\xe1\\xbb\\x9di kh\\xe1\\xbb\\x9fi \\xc4\\x91\\xe1\\xba\\xa7u c\\xc6\\xa1 nghi\\xe1\\xbb\\x87p h\\xe1\\xbb\\x8d Tr\\xe1\\xba\\xa7n',\n",
       "        'Gi\\xe1\\xbb\\xaf h\\xe1\\xbb\\x8d L\\xc3\\xbd duy nh\\xe1\\xba\\xa5t cho c\\xc3\\xa1c nh\\xc3\\xa0 s\\xc6\\xb0, t\\xc4\\x83ng l\\xe1\\xbb\\xaf c\\xc3\\xb3 vai v\\xe1\\xba\\xbf trong tri\\xe1\\xbb\\x81u',\n",
       "        'C', 'M', '-', '-'],\n",
       "       ['VN', 2L, 69L,\n",
       "        'B\\xe1\\xba\\xa1o lo\\xe1\\xba\\xa1n do ai g\\xc3\\xa2y ra th\\xe1\\xbb\\x9di L\\xc3\\xbd Cao T\\xc3\\xb4ng khi\\xe1\\xba\\xbfn L\\xc3\\xbd Cao T\\xc3\\xb4ng, ho\\xc3\\xa0ng h\\xe1\\xba\\xadu v\\xc3\\xa0 th\\xc3\\xa1i t\\xe1\\xbb\\xad L\\xc3\\xbd H\\xe1\\xba\\xa1o S\\xe1\\xba\\xa3m ph\\xe1\\xba\\xa3i b\\xe1\\xbb\\x8f kinh th\\xc3\\xa0nh \\xe1\\xba\\xa9n n\\xe1\\xba\\xa5p t\\xe1\\xba\\xa1i Quy Ho\\xc3\\xa1 v\\xc3\\xa0 H\\xe1\\xba\\xa3i \\xe1\\xba\\xa4p?',\n",
       "        'Ph\\xe1\\xba\\xa1m Du', 'Ph\\xe1\\xba\\xa1m B\\xe1\\xbb\\x89nh Di',\n",
       "        'Qu\\xc3\\xa1ch B\\xe1\\xbb\\x91c',\n",
       "        '\\xc4\\x90o\\xc3\\xa0n Th\\xc6\\xb0\\xe1\\xbb\\xa3ng', 'C', 'H', '-', '-'],\n",
       "       ['VN', 2L, 70L,\n",
       "        'Qu\\xe1\\xbb\\x91c gi\\xc3\\xa1o c\\xe1\\xbb\\xa7a Vi\\xe1\\xbb\\x87t Nam th\\xe1\\xbb\\x9di L\\xc3\\xbd l\\xc3\\xa0 t\\xc3\\xb4n gi\\xc3\\xa1o n\\xc3\\xa0o?',\n",
       "        'Nho gi\\xc3\\xa1o', 'Ph\\xe1\\xba\\xadt gi\\xc3\\xa1o',\n",
       "        '\\xc4\\x90\\xe1\\xba\\xa1o gi\\xc3\\xa1o',\n",
       "        'Thi\\xc3\\xaan Ch\\xc3\\xbaa gi\\xc3\\xa1o', 'B', 'E', '-', '-'],\n",
       "       ['VN', 2L, 71L,\n",
       "        'Nh\\xc3\\xa0 L\\xc3\\xbd chia c\\xe1\\xba\\xa3 n\\xc6\\xb0\\xe1\\xbb\\x9bc th\\xc3\\xa0nh 24 \\xc4\\x91\\xc6\\xa1n v\\xe1\\xbb\\x8b h\\xc3\\xa0nh ch\\xc3\\xadnh v\\xe1\\xbb\\x9bi t\\xc3\\xaan g\\xe1\\xbb\\x8di \\xc4\\x91\\xc6\\xa1n v\\xe1\\xbb\\x8b l\\xc3\\xa0 g\\xc3\\xac?',\n",
       "        'L\\xe1\\xbb\\x99, ph\\xe1\\xbb\\xa7', 'Ch\\xc3\\xa2u, qu\\xe1\\xba\\xadn',\n",
       "        '\\xc4\\x90\\xe1\\xba\\xa1o th\\xe1\\xbb\\xaba tuy\\xc3\\xaan',\n",
       "        'T\\xe1\\xbb\\x89nh, ph\\xe1\\xbb\\xa7', 'A', 'H', '-', '-'],\n",
       "       ['VN', 2L, 72L,\n",
       "        'Vi\\xe1\\xbb\\x87c vua \\xc4\\x91\\xc3\\xadch th\\xc3\\xa2n c\\xc3\\xa0y ru\\xe1\\xbb\\x99ng t\\xe1\\xbb\\x8bch \\xc4\\x91i\\xe1\\xbb\\x81n \\xe1\\xbb\\x9f n\\xc6\\xb0\\xe1\\xbb\\x9bc ta xu\\xe1\\xba\\xa5t hi\\xe1\\xbb\\x87n t\\xe1\\xbb\\xab tri\\xe1\\xbb\\x81u \\xc4\\x91\\xe1\\xba\\xa1i n\\xc3\\xa0o?',\n",
       "        '\\xc4\\x90inh', 'Ti\\xe1\\xbb\\x81n L\\xc3\\xaa', 'L\\xc3\\xbd',\n",
       "        'Tr\\xe1\\xba\\xa7n', 'B', 'H', '-', '-'],\n",
       "       ['VN', 2L, 73L,\n",
       "        'Trong 4 c\\xc3\\xb4ng tr\\xc3\\xacnh d\\xc6\\xb0\\xe1\\xbb\\x9bi \\xc4\\x91\\xc3\\xa2y (\"An Nam t\\xe1\\xbb\\xa9 \\xc4\\x91\\xe1\\xba\\xa1i kh\\xc3\\xad\" c\\xe1\\xbb\\xa7a \\xc4\\x90\\xe1\\xba\\xa1i Vi\\xe1\\xbb\\x87t), c\\xc3\\xb4ng tr\\xc3\\xacnh n\\xc3\\xa0o kh\\xc3\\xb4ng \\xc4\\x91\\xc6\\xb0\\xe1\\xbb\\xa3c ch\\xe1\\xba\\xbf t\\xc3\\xa1c, x\\xc3\\xa2y d\\xe1\\xbb\\xb1ng th\\xe1\\xbb\\x9di L\\xc3\\xbd?',\n",
       "        'T\\xc6\\xb0\\xe1\\xbb\\xa3ng Ph\\xe1\\xba\\xadt ch\\xc3\\xb9a Qu\\xe1\\xbb\\xb3nh L\\xc3\\xa2m',\n",
       "        'V\\xe1\\xba\\xa1c Ph\\xe1\\xbb\\x95 Minh',\n",
       "        'Th\\xc3\\xa1p B\\xc3\\xa1o Thi\\xc3\\xaan',\n",
       "        'Chu\\xc3\\xb4ng Quy \\xc4\\x90i\\xe1\\xbb\\x81n', 'B', 'H', '-', '-'],\n",
       "       ['VN', 2L, 74L,\n",
       "        'Th\\xc3\\xa1i s\\xc6\\xb0 L\\xc3\\xaa V\\xc4\\x83n Th\\xe1\\xbb\\x8bnh th\\xe1\\xbb\\x9di L\\xc3\\xbd \\xc4\\x91\\xc3\\xa3 d\\xc3\\xb9ng t\\xc3\\xa0i ngo\\xe1\\xba\\xa1i giao \\xc4\\x91\\xc3\\xb2i l\\xe1\\xba\\xa1i \\xc4\\x91\\xc6\\xb0\\xe1\\xbb\\xa3c ch\\xc3\\xa2u Qu\\xe1\\xba\\xa3ng Nguy\\xc3\\xaan do nh\\xc3\\xa0 T\\xe1\\xbb\\x91ng c\\xc6\\xb0\\xe1\\xbb\\x9bp trong chi\\xe1\\xba\\xbfn tranh 1076-1077. Ch\\xc3\\xa2u Qu\\xe1\\xba\\xa3ng Nguy\\xc3\\xaan t\\xc6\\xb0\\xc6\\xa1ng \\xe1\\xbb\\xa9ng c\\xc3\\xa1c t\\xe1\\xbb\\x89nh n\\xc3\\xa0o ng\\xc3\\xa0y nau?',\n",
       "        'H\\xc3\\xa0 Giang, L\\xc3\\xa0o Cai',\n",
       "        '\\xc4\\x90i\\xe1\\xbb\\x87n Bi\\xc3\\xaan, L\\xc3\\xa0o Cai',\n",
       "        'Cao B\\xe1\\xba\\xb1ng, L\\xe1\\xba\\xa1ng S\\xc6\\xa1n',\n",
       "        'Tuy\\xc3\\xaan Quang, Th\\xc3\\xa1i Nguy\\xc3\\xaan', 'C', 'H', '-', '-'],\n",
       "       ['VN', 2L, 75L,\n",
       "        'Th\\xe1\\xbb\\x9di L\\xc3\\xbd, \\xc4\\x90\\xe1\\xba\\xa1i Vi\\xe1\\xbb\\x87t kh\\xc3\\xb4ng c\\xc3\\xb3 chi\\xe1\\xba\\xbfn tranh v\\xe1\\xbb\\x9bi qu\\xe1\\xbb\\x91c gia n\\xc3\\xa0o sau \\xc4\\x91\\xc3\\xa2y?',\n",
       "        'Tr\\xe1\\xba\\xa3o Oa', 'Ch\\xc3\\xa2n L\\xe1\\xba\\xa1p',\n",
       "        '\\xc4\\x90\\xe1\\xba\\xa1i L\\xc3\\xbd', 'Chi\\xc3\\xaam Th\\xc3\\xa0nh',\n",
       "        'A', 'H', '-', '-'],\n",
       "       ['VN', 3L, 76L,\n",
       "        'T\\xe1\\xbb\\xa9 nguy\\xe1\\xbb\\x87t tam v\\xc6\\xb0\\xc6\\xa1ng l\\xc3\\xa0 c\\xe1\\xbb\\xa5m t\\xe1\\xbb\\xab m\\xc3\\xb4 t\\xe1\\xba\\xa3 s\\xe1\\xbb\\xb1 l\\xc3\\xaan ng\\xc3\\xb4i c\\xe1\\xbb\\xa7a 3 vua li\\xc3\\xaan ti\\xe1\\xba\\xbfp c\\xe1\\xbb\\xa7a tri\\xe1\\xbb\\x81u Nguy\\xe1\\xbb\\x85n ch\\xe1\\xbb\\x89 trong v\\xc3\\xb2ng 4 th\\xc3\\xa1ng. \\xc4\\x90\\xc3\\xb3 l\\xc3\\xa0 c\\xc3\\xa1c vua n\\xc3\\xa0o?',\n",
       "        'D\\xe1\\xbb\\xa5c \\xc4\\x90\\xe1\\xbb\\xa9c, Hi\\xe1\\xbb\\x87p Ho\\xc3\\xa0, Ki\\xe1\\xba\\xbfn Ph\\xc3\\xbac',\n",
       "        'Hi\\xe1\\xbb\\x87p Ho\\xc3\\xa0, Ki\\xe1\\xba\\xbfn Ph\\xc3\\xbac, H\\xc3\\xa0m Nghi',\n",
       "        'Ki\\xe1\\xba\\xbfn Ph\\xc3\\xbac, H\\xc3\\xa0m Nghi, \\xc4\\x90\\xe1\\xbb\\x93ng Kh\\xc3\\xa1nh',\n",
       "        'H\\xc3\\xa0m Nghi, \\xc4\\x90\\xe1\\xbb\\x93ng Kh\\xc3\\xa1nh, Th\\xc3\\xa0nh Th\\xc3\\xa1i',\n",
       "        'A', 'H', '-', '-'],\n",
       "       ['VN', 3L, 77L,\n",
       "        'N\\xc4\\x83m 1866, \"kh\\xc3\\xb4ng t\\xe1\\xbb\\x91n m\\xe1\\xbb\\x99t vi\\xc3\\xaan \\xc4\\x91\\xe1\\xba\\xa1n\", th\\xe1\\xbb\\xb1c d\\xc3\\xa2n Ph\\xc3\\xa1p \\xc4\\x91\\xc3\\xa3 l\\xe1\\xba\\xa5y \\xc4\\x91\\xc6\\xb0\\xe1\\xbb\\xa3c 3 t\\xe1\\xbb\\x89nh n\\xc3\\xa0o c\\xe1\\xbb\\xa7a n\\xc6\\xb0\\xe1\\xbb\\x9bc ta?',\n",
       "        'Gia \\xc4\\x90\\xe1\\xbb\\x8bnh, \\xc4\\x90\\xe1\\xbb\\x8bnh T\\xc6\\xb0\\xe1\\xbb\\x9dng, Bi\\xc3\\xaan Ho\\xc3\\xa0',\n",
       "        'Nam \\xc4\\x90\\xe1\\xbb\\x8bnh, H\\xc3\\xa0 Nam, Kinh B\\xe1\\xba\\xafc',\n",
       "        'Thanh Ho\\xc3\\xa1, Ngh\\xe1\\xbb\\x87 An, H\\xc3\\xa0 T\\xc4\\xa9nh',\n",
       "        'V\\xc4\\xa9nh Long, An Giang, H\\xc3\\xa0 Ti\\xc3\\xaan', 'D', 'H', '-',\n",
       "        '-']], dtype=object)"
      ]
     },
     "execution_count": 201,
     "metadata": {},
     "output_type": "execute_result"
    }
   ],
   "source": [
    "content.values"
   ]
  },
  {
   "cell_type": "markdown",
   "metadata": {},
   "source": [
    "We can also have an overview about the data, transposing the data or sort by row or column"
   ]
  },
  {
   "cell_type": "code",
   "execution_count": 202,
   "metadata": {
    "collapsed": false
   },
   "outputs": [
    {
     "data": {
      "text/html": [
       "<div>\n",
       "<table border=\"1\" class=\"dataframe\">\n",
       "  <thead>\n",
       "    <tr style=\"text-align: right;\">\n",
       "      <th></th>\n",
       "      <th>Period</th>\n",
       "      <th>Index</th>\n",
       "    </tr>\n",
       "  </thead>\n",
       "  <tbody>\n",
       "    <tr>\n",
       "      <th>count</th>\n",
       "      <td>77.000000</td>\n",
       "      <td>77.000000</td>\n",
       "    </tr>\n",
       "    <tr>\n",
       "      <th>mean</th>\n",
       "      <td>1.519481</td>\n",
       "      <td>39.000000</td>\n",
       "    </tr>\n",
       "    <tr>\n",
       "      <th>std</th>\n",
       "      <td>0.640937</td>\n",
       "      <td>22.371857</td>\n",
       "    </tr>\n",
       "    <tr>\n",
       "      <th>min</th>\n",
       "      <td>1.000000</td>\n",
       "      <td>1.000000</td>\n",
       "    </tr>\n",
       "    <tr>\n",
       "      <th>25%</th>\n",
       "      <td>1.000000</td>\n",
       "      <td>20.000000</td>\n",
       "    </tr>\n",
       "    <tr>\n",
       "      <th>50%</th>\n",
       "      <td>1.000000</td>\n",
       "      <td>39.000000</td>\n",
       "    </tr>\n",
       "    <tr>\n",
       "      <th>75%</th>\n",
       "      <td>2.000000</td>\n",
       "      <td>58.000000</td>\n",
       "    </tr>\n",
       "    <tr>\n",
       "      <th>max</th>\n",
       "      <td>3.000000</td>\n",
       "      <td>77.000000</td>\n",
       "    </tr>\n",
       "  </tbody>\n",
       "</table>\n",
       "</div>"
      ],
      "text/plain": [
       "          Period      Index\n",
       "count  77.000000  77.000000\n",
       "mean    1.519481  39.000000\n",
       "std     0.640937  22.371857\n",
       "min     1.000000   1.000000\n",
       "25%     1.000000  20.000000\n",
       "50%     1.000000  39.000000\n",
       "75%     2.000000  58.000000\n",
       "max     3.000000  77.000000"
      ]
     },
     "execution_count": 202,
     "metadata": {},
     "output_type": "execute_result"
    }
   ],
   "source": [
    "content.describe()"
   ]
  },
  {
   "cell_type": "code",
   "execution_count": 209,
   "metadata": {
    "collapsed": false
   },
   "outputs": [
    {
     "data": {
      "text/html": [
       "<div>\n",
       "<table border=\"1\" class=\"dataframe\">\n",
       "  <thead>\n",
       "    <tr style=\"text-align: right;\">\n",
       "      <th></th>\n",
       "      <th>0</th>\n",
       "      <th>1</th>\n",
       "      <th>2</th>\n",
       "      <th>3</th>\n",
       "      <th>4</th>\n",
       "      <th>5</th>\n",
       "      <th>6</th>\n",
       "      <th>7</th>\n",
       "      <th>8</th>\n",
       "      <th>9</th>\n",
       "      <th>...</th>\n",
       "      <th>67</th>\n",
       "      <th>68</th>\n",
       "      <th>69</th>\n",
       "      <th>70</th>\n",
       "      <th>71</th>\n",
       "      <th>72</th>\n",
       "      <th>73</th>\n",
       "      <th>74</th>\n",
       "      <th>75</th>\n",
       "      <th>76</th>\n",
       "    </tr>\n",
       "  </thead>\n",
       "  <tbody>\n",
       "    <tr>\n",
       "      <th>Zone</th>\n",
       "      <td>TG</td>\n",
       "      <td>TG</td>\n",
       "      <td>TG</td>\n",
       "      <td>TG</td>\n",
       "      <td>TG</td>\n",
       "      <td>TG</td>\n",
       "      <td>TG</td>\n",
       "      <td>TG</td>\n",
       "      <td>TG</td>\n",
       "      <td>TG</td>\n",
       "      <td>...</td>\n",
       "      <td>VN</td>\n",
       "      <td>VN</td>\n",
       "      <td>VN</td>\n",
       "      <td>VN</td>\n",
       "      <td>VN</td>\n",
       "      <td>VN</td>\n",
       "      <td>VN</td>\n",
       "      <td>VN</td>\n",
       "      <td>VN</td>\n",
       "      <td>VN</td>\n",
       "    </tr>\n",
       "    <tr>\n",
       "      <th>Period</th>\n",
       "      <td>1</td>\n",
       "      <td>1</td>\n",
       "      <td>1</td>\n",
       "      <td>1</td>\n",
       "      <td>1</td>\n",
       "      <td>1</td>\n",
       "      <td>1</td>\n",
       "      <td>1</td>\n",
       "      <td>1</td>\n",
       "      <td>1</td>\n",
       "      <td>...</td>\n",
       "      <td>2</td>\n",
       "      <td>2</td>\n",
       "      <td>2</td>\n",
       "      <td>2</td>\n",
       "      <td>2</td>\n",
       "      <td>2</td>\n",
       "      <td>2</td>\n",
       "      <td>2</td>\n",
       "      <td>3</td>\n",
       "      <td>3</td>\n",
       "    </tr>\n",
       "    <tr>\n",
       "      <th>Index</th>\n",
       "      <td>1</td>\n",
       "      <td>2</td>\n",
       "      <td>3</td>\n",
       "      <td>4</td>\n",
       "      <td>5</td>\n",
       "      <td>6</td>\n",
       "      <td>7</td>\n",
       "      <td>8</td>\n",
       "      <td>9</td>\n",
       "      <td>10</td>\n",
       "      <td>...</td>\n",
       "      <td>68</td>\n",
       "      <td>69</td>\n",
       "      <td>70</td>\n",
       "      <td>71</td>\n",
       "      <td>72</td>\n",
       "      <td>73</td>\n",
       "      <td>74</td>\n",
       "      <td>75</td>\n",
       "      <td>76</td>\n",
       "      <td>77</td>\n",
       "    </tr>\n",
       "    <tr>\n",
       "      <th>Content</th>\n",
       "      <td>Người tối cổ xuất hiện trên Trái Đất vào niên ...</td>\n",
       "      <td>Đâu trong các sự kiện dưới đây đánh dấu bước n...</td>\n",
       "      <td>Đâu trong các dòng dưới đây không phải là mục ...</td>\n",
       "      <td>Thành Khang chi trị là cụm từ mô tả sự thịnh v...</td>\n",
       "      <td>Mâu thuẫn cơ bản về giai cấp trong thời kì cổ ...</td>\n",
       "      <td>Dòng nào dưới đây nêu đúng thứ tự xuất hiện củ...</td>\n",
       "      <td>Chiến tranh nô lệ lần thứ ba (73TCN - 71TCN), ...</td>\n",
       "      <td>Nội chiến do ai chỉ huy đã làm diệt vong chế đ...</td>\n",
       "      <td>Ai là hoàng đế đầu tiên của đế chế Rôma?</td>\n",
       "      <td>Kim tự tháp Giza được xây dựng ở thời kì nào c...</td>\n",
       "      <td>...</td>\n",
       "      <td>Đầu thời Trần, triều đình lấy nguyên do nào để...</td>\n",
       "      <td>Bạo loạn do ai gây ra thời Lý Cao Tông khiến L...</td>\n",
       "      <td>Quốc giáo của Việt Nam thời Lý là tôn giáo nào?</td>\n",
       "      <td>Nhà Lý chia cả nước thành 24 đơn vị hành chính...</td>\n",
       "      <td>Việc vua đích thân cày ruộng tịch điền ở nước ...</td>\n",
       "      <td>Trong 4 công trình dưới đây (\"An Nam tứ đại kh...</td>\n",
       "      <td>Thái sư Lê Văn Thịnh thời Lý đã dùng tài ngoại...</td>\n",
       "      <td>Thời Lý, Đại Việt không có chiến tranh với quố...</td>\n",
       "      <td>Tứ nguyệt tam vương là cụm từ mô tả sự lên ngô...</td>\n",
       "      <td>Năm 1866, \"không tốn một viên đạn\", thực dân P...</td>\n",
       "    </tr>\n",
       "    <tr>\n",
       "      <th>Option A</th>\n",
       "      <td>2.000.000.000 năm trước</td>\n",
       "      <td>biết chế tạo công cụ sản xuất</td>\n",
       "      <td>sưởi ấm</td>\n",
       "      <td>Thương</td>\n",
       "      <td>Chủ nô và nô lệ</td>\n",
       "      <td>Do Thái giáo, Kitô giáo, Hồi giáo</td>\n",
       "      <td>Quintus Sertorius</td>\n",
       "      <td>César</td>\n",
       "      <td>César</td>\n",
       "      <td>Cổ vương quốc (thế kỉ XXVII - XXII TCN)</td>\n",
       "      <td>...</td>\n",
       "      <td>Nhiều người lấy cớ \"Phù Lý diệt Trần\" nổi dậy ...</td>\n",
       "      <td>Phạm Du</td>\n",
       "      <td>Nho giáo</td>\n",
       "      <td>Lộ, phủ</td>\n",
       "      <td>Đinh</td>\n",
       "      <td>Tượng Phật chùa Quỳnh Lâm</td>\n",
       "      <td>Hà Giang, Lào Cai</td>\n",
       "      <td>Trảo Oa</td>\n",
       "      <td>Dục Đức, Hiệp Hoà, Kiến Phúc</td>\n",
       "      <td>Gia Định, Định Tường, Biên Hoà</td>\n",
       "    </tr>\n",
       "  </tbody>\n",
       "</table>\n",
       "<p>5 rows × 77 columns</p>\n",
       "</div>"
      ],
      "text/plain": [
       "                                                         0   \\\n",
       "Zone                                                     TG   \n",
       "Period                                                    1   \n",
       "Index                                                     1   \n",
       "Content   Người tối cổ xuất hiện trên Trái Đất vào niên ...   \n",
       "Option A                            2.000.000.000 năm trước   \n",
       "\n",
       "                                                         1   \\\n",
       "Zone                                                     TG   \n",
       "Period                                                    1   \n",
       "Index                                                     2   \n",
       "Content   Đâu trong các sự kiện dưới đây đánh dấu bước n...   \n",
       "Option A                      biết chế tạo công cụ sản xuất   \n",
       "\n",
       "                                                         2   \\\n",
       "Zone                                                     TG   \n",
       "Period                                                    1   \n",
       "Index                                                     3   \n",
       "Content   Đâu trong các dòng dưới đây không phải là mục ...   \n",
       "Option A                                            sưởi ấm   \n",
       "\n",
       "                                                         3   \\\n",
       "Zone                                                     TG   \n",
       "Period                                                    1   \n",
       "Index                                                     4   \n",
       "Content   Thành Khang chi trị là cụm từ mô tả sự thịnh v...   \n",
       "Option A                                             Thương   \n",
       "\n",
       "                                                         4   \\\n",
       "Zone                                                     TG   \n",
       "Period                                                    1   \n",
       "Index                                                     5   \n",
       "Content   Mâu thuẫn cơ bản về giai cấp trong thời kì cổ ...   \n",
       "Option A                                    Chủ nô và nô lệ   \n",
       "\n",
       "                                                         5   \\\n",
       "Zone                                                     TG   \n",
       "Period                                                    1   \n",
       "Index                                                     6   \n",
       "Content   Dòng nào dưới đây nêu đúng thứ tự xuất hiện củ...   \n",
       "Option A                  Do Thái giáo, Kitô giáo, Hồi giáo   \n",
       "\n",
       "                                                         6   \\\n",
       "Zone                                                     TG   \n",
       "Period                                                    1   \n",
       "Index                                                     7   \n",
       "Content   Chiến tranh nô lệ lần thứ ba (73TCN - 71TCN), ...   \n",
       "Option A                                  Quintus Sertorius   \n",
       "\n",
       "                                                         7   \\\n",
       "Zone                                                     TG   \n",
       "Period                                                    1   \n",
       "Index                                                     8   \n",
       "Content   Nội chiến do ai chỉ huy đã làm diệt vong chế đ...   \n",
       "Option A                                              César   \n",
       "\n",
       "                                                8   \\\n",
       "Zone                                            TG   \n",
       "Period                                           1   \n",
       "Index                                            9   \n",
       "Content   Ai là hoàng đế đầu tiên của đế chế Rôma?   \n",
       "Option A                                     César   \n",
       "\n",
       "                                                         9   \\\n",
       "Zone                                                     TG   \n",
       "Period                                                    1   \n",
       "Index                                                    10   \n",
       "Content   Kim tự tháp Giza được xây dựng ở thời kì nào c...   \n",
       "Option A            Cổ vương quốc (thế kỉ XXVII - XXII TCN)   \n",
       "\n",
       "                                ...                          \\\n",
       "Zone                            ...                           \n",
       "Period                          ...                           \n",
       "Index                           ...                           \n",
       "Content                         ...                           \n",
       "Option A                        ...                           \n",
       "\n",
       "                                                         67  \\\n",
       "Zone                                                     VN   \n",
       "Period                                                    2   \n",
       "Index                                                    68   \n",
       "Content   Đầu thời Trần, triều đình lấy nguyên do nào để...   \n",
       "Option A  Nhiều người lấy cớ \"Phù Lý diệt Trần\" nổi dậy ...   \n",
       "\n",
       "                                                         68  \\\n",
       "Zone                                                     VN   \n",
       "Period                                                    2   \n",
       "Index                                                    69   \n",
       "Content   Bạo loạn do ai gây ra thời Lý Cao Tông khiến L...   \n",
       "Option A                                            Phạm Du   \n",
       "\n",
       "                                                       69  \\\n",
       "Zone                                                   VN   \n",
       "Period                                                  2   \n",
       "Index                                                  70   \n",
       "Content   Quốc giáo của Việt Nam thời Lý là tôn giáo nào?   \n",
       "Option A                                         Nho giáo   \n",
       "\n",
       "                                                         70  \\\n",
       "Zone                                                     VN   \n",
       "Period                                                    2   \n",
       "Index                                                    71   \n",
       "Content   Nhà Lý chia cả nước thành 24 đơn vị hành chính...   \n",
       "Option A                                            Lộ, phủ   \n",
       "\n",
       "                                                         71  \\\n",
       "Zone                                                     VN   \n",
       "Period                                                    2   \n",
       "Index                                                    72   \n",
       "Content   Việc vua đích thân cày ruộng tịch điền ở nước ...   \n",
       "Option A                                               Đinh   \n",
       "\n",
       "                                                         72  \\\n",
       "Zone                                                     VN   \n",
       "Period                                                    2   \n",
       "Index                                                    73   \n",
       "Content   Trong 4 công trình dưới đây (\"An Nam tứ đại kh...   \n",
       "Option A                          Tượng Phật chùa Quỳnh Lâm   \n",
       "\n",
       "                                                         73  \\\n",
       "Zone                                                     VN   \n",
       "Period                                                    2   \n",
       "Index                                                    74   \n",
       "Content   Thái sư Lê Văn Thịnh thời Lý đã dùng tài ngoại...   \n",
       "Option A                                  Hà Giang, Lào Cai   \n",
       "\n",
       "                                                         74  \\\n",
       "Zone                                                     VN   \n",
       "Period                                                    2   \n",
       "Index                                                    75   \n",
       "Content   Thời Lý, Đại Việt không có chiến tranh với quố...   \n",
       "Option A                                            Trảo Oa   \n",
       "\n",
       "                                                         75  \\\n",
       "Zone                                                     VN   \n",
       "Period                                                    3   \n",
       "Index                                                    76   \n",
       "Content   Tứ nguyệt tam vương là cụm từ mô tả sự lên ngô...   \n",
       "Option A                       Dục Đức, Hiệp Hoà, Kiến Phúc   \n",
       "\n",
       "                                                         76  \n",
       "Zone                                                     VN  \n",
       "Period                                                    3  \n",
       "Index                                                    77  \n",
       "Content   Năm 1866, \"không tốn một viên đạn\", thực dân P...  \n",
       "Option A                     Gia Định, Định Tường, Biên Hoà  \n",
       "\n",
       "[5 rows x 77 columns]"
      ]
     },
     "execution_count": 209,
     "metadata": {},
     "output_type": "execute_result"
    }
   ],
   "source": [
    "A = content.T\n",
    "A.head()"
   ]
  },
  {
   "cell_type": "code",
   "execution_count": 208,
   "metadata": {
    "collapsed": false
   },
   "outputs": [
    {
     "data": {
      "text/html": [
       "<div>\n",
       "<table border=\"1\" class=\"dataframe\">\n",
       "  <thead>\n",
       "    <tr style=\"text-align: right;\">\n",
       "      <th></th>\n",
       "      <th>Content</th>\n",
       "      <th>Correction</th>\n",
       "      <th>Explanation</th>\n",
       "      <th>Index</th>\n",
       "      <th>Level</th>\n",
       "      <th>Option A</th>\n",
       "      <th>Option B</th>\n",
       "      <th>Option C</th>\n",
       "      <th>Option D</th>\n",
       "      <th>Period</th>\n",
       "      <th>Tags</th>\n",
       "      <th>Zone</th>\n",
       "    </tr>\n",
       "  </thead>\n",
       "  <tbody>\n",
       "    <tr>\n",
       "      <th>0</th>\n",
       "      <td>Người tối cổ xuất hiện trên Trái Đất vào niên ...</td>\n",
       "      <td>C</td>\n",
       "      <td>-</td>\n",
       "      <td>1</td>\n",
       "      <td>M</td>\n",
       "      <td>2.000.000.000 năm trước</td>\n",
       "      <td>80.000.000 năm trước</td>\n",
       "      <td>6.000.000 năm trước</td>\n",
       "      <td>400.000 năm trước</td>\n",
       "      <td>1</td>\n",
       "      <td>-</td>\n",
       "      <td>TG</td>\n",
       "    </tr>\n",
       "    <tr>\n",
       "      <th>1</th>\n",
       "      <td>Đâu trong các sự kiện dưới đây đánh dấu bước n...</td>\n",
       "      <td>A</td>\n",
       "      <td>-</td>\n",
       "      <td>2</td>\n",
       "      <td>M</td>\n",
       "      <td>biết chế tạo công cụ sản xuất</td>\n",
       "      <td>biết sử dụng công cụ sản xuất</td>\n",
       "      <td>biết hái lượm và săn bắt</td>\n",
       "      <td>sống thành bầy đàn theo quan hệ huyết thống</td>\n",
       "      <td>1</td>\n",
       "      <td>-</td>\n",
       "      <td>TG</td>\n",
       "    </tr>\n",
       "    <tr>\n",
       "      <th>2</th>\n",
       "      <td>Đâu trong các dòng dưới đây không phải là mục ...</td>\n",
       "      <td>D</td>\n",
       "      <td>-</td>\n",
       "      <td>3</td>\n",
       "      <td>E</td>\n",
       "      <td>sưởi ấm</td>\n",
       "      <td>nướng thức ăn</td>\n",
       "      <td>xua thú dữ</td>\n",
       "      <td>luyện kim</td>\n",
       "      <td>1</td>\n",
       "      <td>-</td>\n",
       "      <td>TG</td>\n",
       "    </tr>\n",
       "    <tr>\n",
       "      <th>3</th>\n",
       "      <td>Thành Khang chi trị là cụm từ mô tả sự thịnh v...</td>\n",
       "      <td>B</td>\n",
       "      <td>-</td>\n",
       "      <td>4</td>\n",
       "      <td>H</td>\n",
       "      <td>Thương</td>\n",
       "      <td>Chu</td>\n",
       "      <td>Đường</td>\n",
       "      <td>Tống</td>\n",
       "      <td>1</td>\n",
       "      <td>-</td>\n",
       "      <td>TG</td>\n",
       "    </tr>\n",
       "    <tr>\n",
       "      <th>4</th>\n",
       "      <td>Mâu thuẫn cơ bản về giai cấp trong thời kì cổ ...</td>\n",
       "      <td>A</td>\n",
       "      <td>-</td>\n",
       "      <td>5</td>\n",
       "      <td>E</td>\n",
       "      <td>Chủ nô và nô lệ</td>\n",
       "      <td>Lãnh chúa và nông nô</td>\n",
       "      <td>Quý tộc và bình dân</td>\n",
       "      <td>Tôn giáo và phi tôn giáo</td>\n",
       "      <td>1</td>\n",
       "      <td>-</td>\n",
       "      <td>TG</td>\n",
       "    </tr>\n",
       "  </tbody>\n",
       "</table>\n",
       "</div>"
      ],
      "text/plain": [
       "                                             Content Correction Explanation  \\\n",
       "0  Người tối cổ xuất hiện trên Trái Đất vào niên ...          C           -   \n",
       "1  Đâu trong các sự kiện dưới đây đánh dấu bước n...          A           -   \n",
       "2  Đâu trong các dòng dưới đây không phải là mục ...          D           -   \n",
       "3  Thành Khang chi trị là cụm từ mô tả sự thịnh v...          B           -   \n",
       "4  Mâu thuẫn cơ bản về giai cấp trong thời kì cổ ...          A           -   \n",
       "\n",
       "   Index Level                       Option A                       Option B  \\\n",
       "0      1     M        2.000.000.000 năm trước           80.000.000 năm trước   \n",
       "1      2     M  biết chế tạo công cụ sản xuất  biết sử dụng công cụ sản xuất   \n",
       "2      3     E                        sưởi ấm                  nướng thức ăn   \n",
       "3      4     H                         Thương                            Chu   \n",
       "4      5     E                Chủ nô và nô lệ           Lãnh chúa và nông nô   \n",
       "\n",
       "                   Option C                                     Option D  \\\n",
       "0       6.000.000 năm trước                            400.000 năm trước   \n",
       "1  biết hái lượm và săn bắt  sống thành bầy đàn theo quan hệ huyết thống   \n",
       "2                xua thú dữ                                    luyện kim   \n",
       "3                     Đường                                         Tống   \n",
       "4       Quý tộc và bình dân                     Tôn giáo và phi tôn giáo   \n",
       "\n",
       "   Period Tags Zone  \n",
       "0       1    -   TG  \n",
       "1       1    -   TG  \n",
       "2       1    -   TG  \n",
       "3       1    -   TG  \n",
       "4       1    -   TG  "
      ]
     },
     "execution_count": 208,
     "metadata": {},
     "output_type": "execute_result"
    }
   ],
   "source": [
    "A = content.sort_index(axis = 1)\n",
    "A.head()"
   ]
  },
  {
   "cell_type": "code",
   "execution_count": 207,
   "metadata": {
    "collapsed": false
   },
   "outputs": [
    {
     "data": {
      "text/html": [
       "<div>\n",
       "<table border=\"1\" class=\"dataframe\">\n",
       "  <thead>\n",
       "    <tr style=\"text-align: right;\">\n",
       "      <th></th>\n",
       "      <th>Zone</th>\n",
       "      <th>Period</th>\n",
       "      <th>Index</th>\n",
       "      <th>Content</th>\n",
       "      <th>Option A</th>\n",
       "      <th>Option B</th>\n",
       "      <th>Option C</th>\n",
       "      <th>Option D</th>\n",
       "      <th>Correction</th>\n",
       "      <th>Level</th>\n",
       "      <th>Tags</th>\n",
       "      <th>Explanation</th>\n",
       "    </tr>\n",
       "  </thead>\n",
       "  <tbody>\n",
       "    <tr>\n",
       "      <th>31</th>\n",
       "      <td>VN</td>\n",
       "      <td>1</td>\n",
       "      <td>32</td>\n",
       "      <td>Theo truyền thuyết, sự tích nào dưới đây không...</td>\n",
       "      <td>Bánh chưng bánh giầy</td>\n",
       "      <td>Trầu cau</td>\n",
       "      <td>Sơn Tinh, Thuỷ Tinh</td>\n",
       "      <td>Thạch Sanh</td>\n",
       "      <td>D</td>\n",
       "      <td>E</td>\n",
       "      <td>-</td>\n",
       "      <td>-</td>\n",
       "    </tr>\n",
       "    <tr>\n",
       "      <th>23</th>\n",
       "      <td>VN</td>\n",
       "      <td>1</td>\n",
       "      <td>24</td>\n",
       "      <td>Di tích thành Cổ Loa hiện nằm ở đâu?</td>\n",
       "      <td>Phong Châu, Phú Thọ</td>\n",
       "      <td>Hoa Lư, Ninh Bình</td>\n",
       "      <td>Đông Anh, Hà Nội</td>\n",
       "      <td>Lam Sơn, Thanh Hoá</td>\n",
       "      <td>C</td>\n",
       "      <td>E</td>\n",
       "      <td>-</td>\n",
       "      <td>-</td>\n",
       "    </tr>\n",
       "    <tr>\n",
       "      <th>46</th>\n",
       "      <td>VN</td>\n",
       "      <td>1</td>\n",
       "      <td>47</td>\n",
       "      <td>Tương truyền, Hai Bà Trưng tự vẫn ở sông nào?</td>\n",
       "      <td>Sông Mã</td>\n",
       "      <td>Sông Đuống</td>\n",
       "      <td>Sông Như Nguyệt</td>\n",
       "      <td>Sông Hát</td>\n",
       "      <td>D</td>\n",
       "      <td>E</td>\n",
       "      <td>-</td>\n",
       "      <td>-</td>\n",
       "    </tr>\n",
       "    <tr>\n",
       "      <th>44</th>\n",
       "      <td>VN</td>\n",
       "      <td>1</td>\n",
       "      <td>45</td>\n",
       "      <td>Cuộc khởi nghĩa lớn nhất chống ách đô hộ của T...</td>\n",
       "      <td>Lý Bí</td>\n",
       "      <td>Bà Triệu</td>\n",
       "      <td>Phùng Hưng</td>\n",
       "      <td>Mai Thúc Loan</td>\n",
       "      <td>B</td>\n",
       "      <td>E</td>\n",
       "      <td>-</td>\n",
       "      <td>-</td>\n",
       "    </tr>\n",
       "    <tr>\n",
       "      <th>27</th>\n",
       "      <td>VN</td>\n",
       "      <td>1</td>\n",
       "      <td>28</td>\n",
       "      <td>Quốc hiệu nước ta trong thời kì Hùng Vương là gì?</td>\n",
       "      <td>Văn Lang</td>\n",
       "      <td>Âu Lạc</td>\n",
       "      <td>Vạn Xuân</td>\n",
       "      <td>Đại Cồ Việt</td>\n",
       "      <td>A</td>\n",
       "      <td>E</td>\n",
       "      <td>-</td>\n",
       "      <td>-</td>\n",
       "    </tr>\n",
       "  </tbody>\n",
       "</table>\n",
       "</div>"
      ],
      "text/plain": [
       "   Zone  Period  Index                                            Content  \\\n",
       "31   VN       1     32  Theo truyền thuyết, sự tích nào dưới đây không...   \n",
       "23   VN       1     24               Di tích thành Cổ Loa hiện nằm ở đâu?   \n",
       "46   VN       1     47      Tương truyền, Hai Bà Trưng tự vẫn ở sông nào?   \n",
       "44   VN       1     45  Cuộc khởi nghĩa lớn nhất chống ách đô hộ của T...   \n",
       "27   VN       1     28  Quốc hiệu nước ta trong thời kì Hùng Vương là gì?   \n",
       "\n",
       "                Option A           Option B             Option C  \\\n",
       "31  Bánh chưng bánh giầy           Trầu cau  Sơn Tinh, Thuỷ Tinh   \n",
       "23   Phong Châu, Phú Thọ  Hoa Lư, Ninh Bình     Đông Anh, Hà Nội   \n",
       "46               Sông Mã         Sông Đuống      Sông Như Nguyệt   \n",
       "44                 Lý Bí           Bà Triệu           Phùng Hưng   \n",
       "27              Văn Lang             Âu Lạc             Vạn Xuân   \n",
       "\n",
       "              Option D Correction Level Tags Explanation  \n",
       "31          Thạch Sanh          D     E    -           -  \n",
       "23  Lam Sơn, Thanh Hoá          C     E    -           -  \n",
       "46            Sông Hát          D     E    -           -  \n",
       "44       Mai Thúc Loan          B     E    -           -  \n",
       "27         Đại Cồ Việt          A     E    -           -  "
      ]
     },
     "execution_count": 207,
     "metadata": {},
     "output_type": "execute_result"
    }
   ],
   "source": [
    "A = content.sort_values(by='Level')\n",
    "A.head()"
   ]
  },
  {
   "cell_type": "markdown",
   "metadata": {},
   "source": [
    "## 6.3 Get several columns, rows"
   ]
  },
  {
   "cell_type": "markdown",
   "metadata": {},
   "source": [
    "We can get a sub DataFrame composed of some columns or some rows by using column names and/or index number."
   ]
  },
  {
   "cell_type": "code",
   "execution_count": 215,
   "metadata": {
    "collapsed": false
   },
   "outputs": [
    {
     "name": "stdout",
     "output_type": "stream",
     "text": [
      "<class 'pandas.core.frame.DataFrame'>\n"
     ]
    },
    {
     "data": {
      "text/html": [
       "<div>\n",
       "<table border=\"1\" class=\"dataframe\">\n",
       "  <thead>\n",
       "    <tr style=\"text-align: right;\">\n",
       "      <th></th>\n",
       "      <th>Option A</th>\n",
       "      <th>Option B</th>\n",
       "      <th>Option C</th>\n",
       "      <th>Option D</th>\n",
       "    </tr>\n",
       "  </thead>\n",
       "  <tbody>\n",
       "    <tr>\n",
       "      <th>0</th>\n",
       "      <td>2.000.000.000 năm trước</td>\n",
       "      <td>80.000.000 năm trước</td>\n",
       "      <td>6.000.000 năm trước</td>\n",
       "      <td>400.000 năm trước</td>\n",
       "    </tr>\n",
       "    <tr>\n",
       "      <th>1</th>\n",
       "      <td>biết chế tạo công cụ sản xuất</td>\n",
       "      <td>biết sử dụng công cụ sản xuất</td>\n",
       "      <td>biết hái lượm và săn bắt</td>\n",
       "      <td>sống thành bầy đàn theo quan hệ huyết thống</td>\n",
       "    </tr>\n",
       "    <tr>\n",
       "      <th>2</th>\n",
       "      <td>sưởi ấm</td>\n",
       "      <td>nướng thức ăn</td>\n",
       "      <td>xua thú dữ</td>\n",
       "      <td>luyện kim</td>\n",
       "    </tr>\n",
       "    <tr>\n",
       "      <th>3</th>\n",
       "      <td>Thương</td>\n",
       "      <td>Chu</td>\n",
       "      <td>Đường</td>\n",
       "      <td>Tống</td>\n",
       "    </tr>\n",
       "    <tr>\n",
       "      <th>4</th>\n",
       "      <td>Chủ nô và nô lệ</td>\n",
       "      <td>Lãnh chúa và nông nô</td>\n",
       "      <td>Quý tộc và bình dân</td>\n",
       "      <td>Tôn giáo và phi tôn giáo</td>\n",
       "    </tr>\n",
       "  </tbody>\n",
       "</table>\n",
       "</div>"
      ],
      "text/plain": [
       "                        Option A                       Option B  \\\n",
       "0        2.000.000.000 năm trước           80.000.000 năm trước   \n",
       "1  biết chế tạo công cụ sản xuất  biết sử dụng công cụ sản xuất   \n",
       "2                        sưởi ấm                  nướng thức ăn   \n",
       "3                         Thương                            Chu   \n",
       "4                Chủ nô và nô lệ           Lãnh chúa và nông nô   \n",
       "\n",
       "                   Option C                                     Option D  \n",
       "0       6.000.000 năm trước                            400.000 năm trước  \n",
       "1  biết hái lượm và săn bắt  sống thành bầy đàn theo quan hệ huyết thống  \n",
       "2                xua thú dữ                                    luyện kim  \n",
       "3                     Đường                                         Tống  \n",
       "4       Quý tộc và bình dân                     Tôn giáo và phi tôn giáo  "
      ]
     },
     "execution_count": 215,
     "metadata": {},
     "output_type": "execute_result"
    }
   ],
   "source": [
    "A = content[[\"Option A\", \"Option B\", \"Option C\", \"Option D\"]]\n",
    "print(type(A))\n",
    "A.head()"
   ]
  },
  {
   "cell_type": "code",
   "execution_count": 216,
   "metadata": {
    "collapsed": false
   },
   "outputs": [
    {
     "data": {
      "text/html": [
       "<div>\n",
       "<table border=\"1\" class=\"dataframe\">\n",
       "  <thead>\n",
       "    <tr style=\"text-align: right;\">\n",
       "      <th></th>\n",
       "      <th>Zone</th>\n",
       "      <th>Period</th>\n",
       "      <th>Index</th>\n",
       "      <th>Content</th>\n",
       "      <th>Option A</th>\n",
       "      <th>Option B</th>\n",
       "      <th>Option C</th>\n",
       "      <th>Option D</th>\n",
       "      <th>Correction</th>\n",
       "      <th>Level</th>\n",
       "      <th>Tags</th>\n",
       "      <th>Explanation</th>\n",
       "    </tr>\n",
       "  </thead>\n",
       "  <tbody>\n",
       "    <tr>\n",
       "      <th>10</th>\n",
       "      <td>TG</td>\n",
       "      <td>1</td>\n",
       "      <td>11</td>\n",
       "      <td>Ngũ bá thời Xuân Thu theo Sử kí của Tư Mã Thiê...</td>\n",
       "      <td>Tề, Tấn, Tống, Tần, Ngô</td>\n",
       "      <td>Tề, Tấn, Ngô, Việt, Sở</td>\n",
       "      <td>Tề, Tống, Ngô, Việt, Sở</td>\n",
       "      <td>Tề, Tấn, Tống, Tần, Sở</td>\n",
       "      <td>D</td>\n",
       "      <td>H</td>\n",
       "      <td>-</td>\n",
       "      <td>-</td>\n",
       "    </tr>\n",
       "    <tr>\n",
       "      <th>11</th>\n",
       "      <td>TG</td>\n",
       "      <td>1</td>\n",
       "      <td>12</td>\n",
       "      <td>Một trong những sự kiện đánh dấu sự chuyển thờ...</td>\n",
       "      <td>Triệu, Nguỵ, Yên</td>\n",
       "      <td>Yên, Nguỵ, Hàn</td>\n",
       "      <td>Triệu, Nguỵ, Hàn</td>\n",
       "      <td>Yên, Hàn, Triệu</td>\n",
       "      <td>C</td>\n",
       "      <td>H</td>\n",
       "      <td>-</td>\n",
       "      <td>-</td>\n",
       "    </tr>\n",
       "    <tr>\n",
       "      <th>12</th>\n",
       "      <td>TG</td>\n",
       "      <td>1</td>\n",
       "      <td>13</td>\n",
       "      <td>Xuân Thu và Chiến Quốc là hai giai đoạn của th...</td>\n",
       "      <td>Tây Chu</td>\n",
       "      <td>Đông Chu</td>\n",
       "      <td>Tây Hán</td>\n",
       "      <td>Đông Hán</td>\n",
       "      <td>B</td>\n",
       "      <td>M</td>\n",
       "      <td>-</td>\n",
       "      <td>-</td>\n",
       "    </tr>\n",
       "    <tr>\n",
       "      <th>13</th>\n",
       "      <td>TG</td>\n",
       "      <td>2</td>\n",
       "      <td>14</td>\n",
       "      <td>Văn Cảnh chi trị là cụm từ mô tả sự cai trị củ...</td>\n",
       "      <td>Chu (thế kỉ XI TCN - III TCN)</td>\n",
       "      <td>Tây Hán (thế kỉ II TCN - I)</td>\n",
       "      <td>Đông Hán (thế kỉ I - III)</td>\n",
       "      <td>Đường (thế kỉ VII - X)</td>\n",
       "      <td>B</td>\n",
       "      <td>H</td>\n",
       "      <td>-</td>\n",
       "      <td>-</td>\n",
       "    </tr>\n",
       "  </tbody>\n",
       "</table>\n",
       "</div>"
      ],
      "text/plain": [
       "   Zone  Period  Index                                            Content  \\\n",
       "10   TG       1     11  Ngũ bá thời Xuân Thu theo Sử kí của Tư Mã Thiê...   \n",
       "11   TG       1     12  Một trong những sự kiện đánh dấu sự chuyển thờ...   \n",
       "12   TG       1     13  Xuân Thu và Chiến Quốc là hai giai đoạn của th...   \n",
       "13   TG       2     14  Văn Cảnh chi trị là cụm từ mô tả sự cai trị củ...   \n",
       "\n",
       "                         Option A                     Option B  \\\n",
       "10        Tề, Tấn, Tống, Tần, Ngô       Tề, Tấn, Ngô, Việt, Sở   \n",
       "11               Triệu, Nguỵ, Yên               Yên, Nguỵ, Hàn   \n",
       "12                        Tây Chu                     Đông Chu   \n",
       "13  Chu (thế kỉ XI TCN - III TCN)  Tây Hán (thế kỉ II TCN - I)   \n",
       "\n",
       "                     Option C                Option D Correction Level Tags  \\\n",
       "10    Tề, Tống, Ngô, Việt, Sở  Tề, Tấn, Tống, Tần, Sở          D     H    -   \n",
       "11           Triệu, Nguỵ, Hàn         Yên, Hàn, Triệu          C     H    -   \n",
       "12                    Tây Hán                Đông Hán          B     M    -   \n",
       "13  Đông Hán (thế kỉ I - III)  Đường (thế kỉ VII - X)          B     H    -   \n",
       "\n",
       "   Explanation  \n",
       "10           -  \n",
       "11           -  \n",
       "12           -  \n",
       "13           -  "
      ]
     },
     "execution_count": 216,
     "metadata": {},
     "output_type": "execute_result"
    }
   ],
   "source": [
    "A = content[10: 14]\n",
    "A"
   ]
  },
  {
   "cell_type": "code",
   "execution_count": 217,
   "metadata": {
    "collapsed": false
   },
   "outputs": [
    {
     "data": {
      "text/html": [
       "<div>\n",
       "<table border=\"1\" class=\"dataframe\">\n",
       "  <thead>\n",
       "    <tr style=\"text-align: right;\">\n",
       "      <th></th>\n",
       "      <th>Option A</th>\n",
       "      <th>Option B</th>\n",
       "      <th>Option C</th>\n",
       "      <th>Option D</th>\n",
       "    </tr>\n",
       "  </thead>\n",
       "  <tbody>\n",
       "    <tr>\n",
       "      <th>10</th>\n",
       "      <td>Tề, Tấn, Tống, Tần, Ngô</td>\n",
       "      <td>Tề, Tấn, Ngô, Việt, Sở</td>\n",
       "      <td>Tề, Tống, Ngô, Việt, Sở</td>\n",
       "      <td>Tề, Tấn, Tống, Tần, Sở</td>\n",
       "    </tr>\n",
       "    <tr>\n",
       "      <th>11</th>\n",
       "      <td>Triệu, Nguỵ, Yên</td>\n",
       "      <td>Yên, Nguỵ, Hàn</td>\n",
       "      <td>Triệu, Nguỵ, Hàn</td>\n",
       "      <td>Yên, Hàn, Triệu</td>\n",
       "    </tr>\n",
       "    <tr>\n",
       "      <th>12</th>\n",
       "      <td>Tây Chu</td>\n",
       "      <td>Đông Chu</td>\n",
       "      <td>Tây Hán</td>\n",
       "      <td>Đông Hán</td>\n",
       "    </tr>\n",
       "    <tr>\n",
       "      <th>13</th>\n",
       "      <td>Chu (thế kỉ XI TCN - III TCN)</td>\n",
       "      <td>Tây Hán (thế kỉ II TCN - I)</td>\n",
       "      <td>Đông Hán (thế kỉ I - III)</td>\n",
       "      <td>Đường (thế kỉ VII - X)</td>\n",
       "    </tr>\n",
       "  </tbody>\n",
       "</table>\n",
       "</div>"
      ],
      "text/plain": [
       "                         Option A                     Option B  \\\n",
       "10        Tề, Tấn, Tống, Tần, Ngô       Tề, Tấn, Ngô, Việt, Sở   \n",
       "11               Triệu, Nguỵ, Yên               Yên, Nguỵ, Hàn   \n",
       "12                        Tây Chu                     Đông Chu   \n",
       "13  Chu (thế kỉ XI TCN - III TCN)  Tây Hán (thế kỉ II TCN - I)   \n",
       "\n",
       "                     Option C                Option D  \n",
       "10    Tề, Tống, Ngô, Việt, Sở  Tề, Tấn, Tống, Tần, Sở  \n",
       "11           Triệu, Nguỵ, Hàn         Yên, Hàn, Triệu  \n",
       "12                    Tây Hán                Đông Hán  \n",
       "13  Đông Hán (thế kỉ I - III)  Đường (thế kỉ VII - X)  "
      ]
     },
     "execution_count": 217,
     "metadata": {},
     "output_type": "execute_result"
    }
   ],
   "source": [
    "A = content[[\"Option A\", \"Option B\", \"Option C\", \"Option D\"]][10:14]\n",
    "A"
   ]
  },
  {
   "cell_type": "markdown",
   "metadata": {},
   "source": [
    "An equivalent way:"
   ]
  },
  {
   "cell_type": "code",
   "execution_count": 223,
   "metadata": {
    "collapsed": false
   },
   "outputs": [
    {
     "data": {
      "text/html": [
       "<div>\n",
       "<table border=\"1\" class=\"dataframe\">\n",
       "  <thead>\n",
       "    <tr style=\"text-align: right;\">\n",
       "      <th></th>\n",
       "      <th>Option A</th>\n",
       "      <th>Option B</th>\n",
       "      <th>Option C</th>\n",
       "      <th>Option D</th>\n",
       "    </tr>\n",
       "  </thead>\n",
       "  <tbody>\n",
       "    <tr>\n",
       "      <th>10</th>\n",
       "      <td>Tề, Tấn, Tống, Tần, Ngô</td>\n",
       "      <td>Tề, Tấn, Ngô, Việt, Sở</td>\n",
       "      <td>Tề, Tống, Ngô, Việt, Sở</td>\n",
       "      <td>Tề, Tấn, Tống, Tần, Sở</td>\n",
       "    </tr>\n",
       "    <tr>\n",
       "      <th>11</th>\n",
       "      <td>Triệu, Nguỵ, Yên</td>\n",
       "      <td>Yên, Nguỵ, Hàn</td>\n",
       "      <td>Triệu, Nguỵ, Hàn</td>\n",
       "      <td>Yên, Hàn, Triệu</td>\n",
       "    </tr>\n",
       "    <tr>\n",
       "      <th>12</th>\n",
       "      <td>Tây Chu</td>\n",
       "      <td>Đông Chu</td>\n",
       "      <td>Tây Hán</td>\n",
       "      <td>Đông Hán</td>\n",
       "    </tr>\n",
       "    <tr>\n",
       "      <th>13</th>\n",
       "      <td>Chu (thế kỉ XI TCN - III TCN)</td>\n",
       "      <td>Tây Hán (thế kỉ II TCN - I)</td>\n",
       "      <td>Đông Hán (thế kỉ I - III)</td>\n",
       "      <td>Đường (thế kỉ VII - X)</td>\n",
       "    </tr>\n",
       "    <tr>\n",
       "      <th>14</th>\n",
       "      <td>Thời Chu, quân Khuyển Nhung</td>\n",
       "      <td>Thời Hán, quân Hung Nô</td>\n",
       "      <td>Thời Đường, quân Tây Hạ</td>\n",
       "      <td>Thời Bắc Tống, quân Liêu</td>\n",
       "    </tr>\n",
       "  </tbody>\n",
       "</table>\n",
       "</div>"
      ],
      "text/plain": [
       "                         Option A                     Option B  \\\n",
       "10        Tề, Tấn, Tống, Tần, Ngô       Tề, Tấn, Ngô, Việt, Sở   \n",
       "11               Triệu, Nguỵ, Yên               Yên, Nguỵ, Hàn   \n",
       "12                        Tây Chu                     Đông Chu   \n",
       "13  Chu (thế kỉ XI TCN - III TCN)  Tây Hán (thế kỉ II TCN - I)   \n",
       "14    Thời Chu, quân Khuyển Nhung       Thời Hán, quân Hung Nô   \n",
       "\n",
       "                     Option C                   Option D  \n",
       "10    Tề, Tống, Ngô, Việt, Sở     Tề, Tấn, Tống, Tần, Sở  \n",
       "11           Triệu, Nguỵ, Hàn            Yên, Hàn, Triệu  \n",
       "12                    Tây Hán                   Đông Hán  \n",
       "13  Đông Hán (thế kỉ I - III)     Đường (thế kỉ VII - X)  \n",
       "14    Thời Đường, quân Tây Hạ  Thời Bắc Tống, quân Liêu   "
      ]
     },
     "execution_count": 223,
     "metadata": {},
     "output_type": "execute_result"
    }
   ],
   "source": [
    "A = content.loc[10: 14, [\"Option A\", \"Option B\", \"Option C\", \"Option D\"]]\n",
    "A"
   ]
  },
  {
   "cell_type": "markdown",
   "metadata": {},
   "source": [
    "Or using position of columns"
   ]
  },
  {
   "cell_type": "code",
   "execution_count": 225,
   "metadata": {
    "collapsed": false
   },
   "outputs": [
    {
     "data": {
      "text/html": [
       "<div>\n",
       "<table border=\"1\" class=\"dataframe\">\n",
       "  <thead>\n",
       "    <tr style=\"text-align: right;\">\n",
       "      <th></th>\n",
       "      <th>Option A</th>\n",
       "      <th>Option B</th>\n",
       "      <th>Option C</th>\n",
       "      <th>Option D</th>\n",
       "    </tr>\n",
       "  </thead>\n",
       "  <tbody>\n",
       "    <tr>\n",
       "      <th>10</th>\n",
       "      <td>Tề, Tấn, Tống, Tần, Ngô</td>\n",
       "      <td>Tề, Tấn, Ngô, Việt, Sở</td>\n",
       "      <td>Tề, Tống, Ngô, Việt, Sở</td>\n",
       "      <td>Tề, Tấn, Tống, Tần, Sở</td>\n",
       "    </tr>\n",
       "    <tr>\n",
       "      <th>11</th>\n",
       "      <td>Triệu, Nguỵ, Yên</td>\n",
       "      <td>Yên, Nguỵ, Hàn</td>\n",
       "      <td>Triệu, Nguỵ, Hàn</td>\n",
       "      <td>Yên, Hàn, Triệu</td>\n",
       "    </tr>\n",
       "    <tr>\n",
       "      <th>12</th>\n",
       "      <td>Tây Chu</td>\n",
       "      <td>Đông Chu</td>\n",
       "      <td>Tây Hán</td>\n",
       "      <td>Đông Hán</td>\n",
       "    </tr>\n",
       "    <tr>\n",
       "      <th>13</th>\n",
       "      <td>Chu (thế kỉ XI TCN - III TCN)</td>\n",
       "      <td>Tây Hán (thế kỉ II TCN - I)</td>\n",
       "      <td>Đông Hán (thế kỉ I - III)</td>\n",
       "      <td>Đường (thế kỉ VII - X)</td>\n",
       "    </tr>\n",
       "  </tbody>\n",
       "</table>\n",
       "</div>"
      ],
      "text/plain": [
       "                         Option A                     Option B  \\\n",
       "10        Tề, Tấn, Tống, Tần, Ngô       Tề, Tấn, Ngô, Việt, Sở   \n",
       "11               Triệu, Nguỵ, Yên               Yên, Nguỵ, Hàn   \n",
       "12                        Tây Chu                     Đông Chu   \n",
       "13  Chu (thế kỉ XI TCN - III TCN)  Tây Hán (thế kỉ II TCN - I)   \n",
       "\n",
       "                     Option C                Option D  \n",
       "10    Tề, Tống, Ngô, Việt, Sở  Tề, Tấn, Tống, Tần, Sở  \n",
       "11           Triệu, Nguỵ, Hàn         Yên, Hàn, Triệu  \n",
       "12                    Tây Hán                Đông Hán  \n",
       "13  Đông Hán (thế kỉ I - III)  Đường (thế kỉ VII - X)  "
      ]
     },
     "execution_count": 225,
     "metadata": {},
     "output_type": "execute_result"
    }
   ],
   "source": [
    "A = content.iloc[10: 14, 4: 8]\n",
    "A"
   ]
  },
  {
   "cell_type": "markdown",
   "metadata": {},
   "source": [
    "We can also filter rows satisfying some condition (on number only)."
   ]
  },
  {
   "cell_type": "code",
   "execution_count": 234,
   "metadata": {
    "collapsed": false
   },
   "outputs": [
    {
     "data": {
      "text/html": [
       "<div>\n",
       "<table border=\"1\" class=\"dataframe\">\n",
       "  <thead>\n",
       "    <tr style=\"text-align: right;\">\n",
       "      <th></th>\n",
       "      <th>Zone</th>\n",
       "      <th>Period</th>\n",
       "      <th>Index</th>\n",
       "      <th>Content</th>\n",
       "      <th>Option A</th>\n",
       "      <th>Option B</th>\n",
       "      <th>Option C</th>\n",
       "      <th>Option D</th>\n",
       "      <th>Correction</th>\n",
       "      <th>Level</th>\n",
       "      <th>Tags</th>\n",
       "      <th>Explanation</th>\n",
       "    </tr>\n",
       "  </thead>\n",
       "  <tbody>\n",
       "    <tr>\n",
       "      <th>17</th>\n",
       "      <td>TG</td>\n",
       "      <td>3</td>\n",
       "      <td>18</td>\n",
       "      <td>Trong nội chiến ở Anh 1640-1649, vua nào bị xử...</td>\n",
       "      <td>Charles I</td>\n",
       "      <td>George I</td>\n",
       "      <td>Harold II</td>\n",
       "      <td>Erward I</td>\n",
       "      <td>A</td>\n",
       "      <td>H</td>\n",
       "      <td>-</td>\n",
       "      <td>-</td>\n",
       "    </tr>\n",
       "    <tr>\n",
       "      <th>18</th>\n",
       "      <td>TG</td>\n",
       "      <td>3</td>\n",
       "      <td>19</td>\n",
       "      <td>Sự kiện nào dưới đây đánh dấu sự bùng nổ Cách ...</td>\n",
       "      <td>Phá ngục Bastille</td>\n",
       "      <td>Chiếm cung điện Versailles</td>\n",
       "      <td>Xử tử vua Louis XVI</td>\n",
       "      <td>Nhóm Jacobin lên nắm chính quyền</td>\n",
       "      <td>A</td>\n",
       "      <td>M</td>\n",
       "      <td>-</td>\n",
       "      <td>-</td>\n",
       "    </tr>\n",
       "    <tr>\n",
       "      <th>19</th>\n",
       "      <td>TG</td>\n",
       "      <td>3</td>\n",
       "      <td>20</td>\n",
       "      <td>Khi thành lập Hợp chúng quốc Mỹ (1776), quốc g...</td>\n",
       "      <td>13</td>\n",
       "      <td>18</td>\n",
       "      <td>22</td>\n",
       "      <td>27</td>\n",
       "      <td>A</td>\n",
       "      <td>H</td>\n",
       "      <td>-</td>\n",
       "      <td>-</td>\n",
       "    </tr>\n",
       "    <tr>\n",
       "      <th>20</th>\n",
       "      <td>TG</td>\n",
       "      <td>3</td>\n",
       "      <td>21</td>\n",
       "      <td>Để trấn áp phong trào nào sau đây tại Trung Qu...</td>\n",
       "      <td>Thái Bình Thiên quốc</td>\n",
       "      <td>Trung Quốc Đồng Minh hội</td>\n",
       "      <td>Nghĩa Hoà Đoàn</td>\n",
       "      <td>Cách mạng Tân Hợi</td>\n",
       "      <td>C</td>\n",
       "      <td>H</td>\n",
       "      <td>-</td>\n",
       "      <td>-</td>\n",
       "    </tr>\n",
       "    <tr>\n",
       "      <th>75</th>\n",
       "      <td>VN</td>\n",
       "      <td>3</td>\n",
       "      <td>76</td>\n",
       "      <td>Tứ nguyệt tam vương là cụm từ mô tả sự lên ngô...</td>\n",
       "      <td>Dục Đức, Hiệp Hoà, Kiến Phúc</td>\n",
       "      <td>Hiệp Hoà, Kiến Phúc, Hàm Nghi</td>\n",
       "      <td>Kiến Phúc, Hàm Nghi, Đồng Khánh</td>\n",
       "      <td>Hàm Nghi, Đồng Khánh, Thành Thái</td>\n",
       "      <td>A</td>\n",
       "      <td>H</td>\n",
       "      <td>-</td>\n",
       "      <td>-</td>\n",
       "    </tr>\n",
       "    <tr>\n",
       "      <th>76</th>\n",
       "      <td>VN</td>\n",
       "      <td>3</td>\n",
       "      <td>77</td>\n",
       "      <td>Năm 1866, \"không tốn một viên đạn\", thực dân P...</td>\n",
       "      <td>Gia Định, Định Tường, Biên Hoà</td>\n",
       "      <td>Nam Định, Hà Nam, Kinh Bắc</td>\n",
       "      <td>Thanh Hoá, Nghệ An, Hà Tĩnh</td>\n",
       "      <td>Vĩnh Long, An Giang, Hà Tiên</td>\n",
       "      <td>D</td>\n",
       "      <td>H</td>\n",
       "      <td>-</td>\n",
       "      <td>-</td>\n",
       "    </tr>\n",
       "  </tbody>\n",
       "</table>\n",
       "</div>"
      ],
      "text/plain": [
       "   Zone  Period  Index                                            Content  \\\n",
       "17   TG       3     18  Trong nội chiến ở Anh 1640-1649, vua nào bị xử...   \n",
       "18   TG       3     19  Sự kiện nào dưới đây đánh dấu sự bùng nổ Cách ...   \n",
       "19   TG       3     20  Khi thành lập Hợp chúng quốc Mỹ (1776), quốc g...   \n",
       "20   TG       3     21  Để trấn áp phong trào nào sau đây tại Trung Qu...   \n",
       "75   VN       3     76  Tứ nguyệt tam vương là cụm từ mô tả sự lên ngô...   \n",
       "76   VN       3     77  Năm 1866, \"không tốn một viên đạn\", thực dân P...   \n",
       "\n",
       "                          Option A                       Option B  \\\n",
       "17                       Charles I                       George I   \n",
       "18               Phá ngục Bastille     Chiếm cung điện Versailles   \n",
       "19                              13                             18   \n",
       "20            Thái Bình Thiên quốc       Trung Quốc Đồng Minh hội   \n",
       "75    Dục Đức, Hiệp Hoà, Kiến Phúc  Hiệp Hoà, Kiến Phúc, Hàm Nghi   \n",
       "76  Gia Định, Định Tường, Biên Hoà     Nam Định, Hà Nam, Kinh Bắc   \n",
       "\n",
       "                           Option C                          Option D  \\\n",
       "17                        Harold II                          Erward I   \n",
       "18              Xử tử vua Louis XVI  Nhóm Jacobin lên nắm chính quyền   \n",
       "19                               22                                27   \n",
       "20                   Nghĩa Hoà Đoàn                 Cách mạng Tân Hợi   \n",
       "75  Kiến Phúc, Hàm Nghi, Đồng Khánh  Hàm Nghi, Đồng Khánh, Thành Thái   \n",
       "76      Thanh Hoá, Nghệ An, Hà Tĩnh      Vĩnh Long, An Giang, Hà Tiên   \n",
       "\n",
       "   Correction Level Tags Explanation  \n",
       "17          A     H    -           -  \n",
       "18          A     M    -           -  \n",
       "19          A     H    -           -  \n",
       "20          C     H    -           -  \n",
       "75          A     H    -           -  \n",
       "76          D     H    -           -  "
      ]
     },
     "execution_count": 234,
     "metadata": {},
     "output_type": "execute_result"
    }
   ],
   "source": [
    "content[content[\"Period\"] == 3]"
   ]
  },
  {
   "cell_type": "markdown",
   "metadata": {},
   "source": [
    "## 6.4 Override data"
   ]
  },
  {
   "cell_type": "markdown",
   "metadata": {},
   "source": [
    "By the same way, we can override data."
   ]
  },
  {
   "cell_type": "code",
   "execution_count": 245,
   "metadata": {
    "collapsed": false
   },
   "outputs": [
    {
     "data": {
      "text/html": [
       "<div>\n",
       "<table border=\"1\" class=\"dataframe\">\n",
       "  <thead>\n",
       "    <tr style=\"text-align: right;\">\n",
       "      <th></th>\n",
       "      <th>Zone</th>\n",
       "      <th>Period</th>\n",
       "      <th>Index</th>\n",
       "      <th>Content</th>\n",
       "      <th>Option A</th>\n",
       "      <th>Option B</th>\n",
       "      <th>Option C</th>\n",
       "      <th>Option D</th>\n",
       "      <th>Correction</th>\n",
       "      <th>Level</th>\n",
       "      <th>Tags</th>\n",
       "      <th>Explanation</th>\n",
       "    </tr>\n",
       "  </thead>\n",
       "  <tbody>\n",
       "    <tr>\n",
       "      <th>0</th>\n",
       "      <td>TG</td>\n",
       "      <td>1</td>\n",
       "      <td>1</td>\n",
       "      <td>Người tối cổ xuất hiện trên Trái Đất vào niên ...</td>\n",
       "      <td>2.000.000.000 năm trước</td>\n",
       "      <td>80.000.000 năm trước</td>\n",
       "      <td>6.000.000 năm trước</td>\n",
       "      <td>400.000 năm trước</td>\n",
       "      <td>C</td>\n",
       "      <td>M</td>\n",
       "      <td>+</td>\n",
       "      <td>-</td>\n",
       "    </tr>\n",
       "    <tr>\n",
       "      <th>1</th>\n",
       "      <td>TG</td>\n",
       "      <td>1</td>\n",
       "      <td>2</td>\n",
       "      <td>Đâu trong các sự kiện dưới đây đánh dấu bước n...</td>\n",
       "      <td>biết chế tạo công cụ sản xuất</td>\n",
       "      <td>biết sử dụng công cụ sản xuất</td>\n",
       "      <td>biết hái lượm và săn bắt</td>\n",
       "      <td>sống thành bầy đàn theo quan hệ huyết thống</td>\n",
       "      <td>A</td>\n",
       "      <td>M</td>\n",
       "      <td>+</td>\n",
       "      <td>-</td>\n",
       "    </tr>\n",
       "    <tr>\n",
       "      <th>2</th>\n",
       "      <td>TG</td>\n",
       "      <td>1</td>\n",
       "      <td>3</td>\n",
       "      <td>Đâu trong các dòng dưới đây không phải là mục ...</td>\n",
       "      <td>sưởi ấm</td>\n",
       "      <td>nướng thức ăn</td>\n",
       "      <td>xua thú dữ</td>\n",
       "      <td>luyện kim</td>\n",
       "      <td>D</td>\n",
       "      <td>E</td>\n",
       "      <td>+</td>\n",
       "      <td>-</td>\n",
       "    </tr>\n",
       "    <tr>\n",
       "      <th>3</th>\n",
       "      <td>TG</td>\n",
       "      <td>1</td>\n",
       "      <td>4</td>\n",
       "      <td>Thành Khang chi trị là cụm từ mô tả sự thịnh v...</td>\n",
       "      <td>Thương</td>\n",
       "      <td>Chu</td>\n",
       "      <td>Đường</td>\n",
       "      <td>Tống</td>\n",
       "      <td>B</td>\n",
       "      <td>H</td>\n",
       "      <td>+</td>\n",
       "      <td>-</td>\n",
       "    </tr>\n",
       "    <tr>\n",
       "      <th>4</th>\n",
       "      <td>TG</td>\n",
       "      <td>1</td>\n",
       "      <td>5</td>\n",
       "      <td>Mâu thuẫn cơ bản về giai cấp trong thời kì cổ ...</td>\n",
       "      <td>Chủ nô và nô lệ</td>\n",
       "      <td>Lãnh chúa và nông nô</td>\n",
       "      <td>Quý tộc và bình dân</td>\n",
       "      <td>Tôn giáo và phi tôn giáo</td>\n",
       "      <td>A</td>\n",
       "      <td>E</td>\n",
       "      <td>+</td>\n",
       "      <td>-</td>\n",
       "    </tr>\n",
       "  </tbody>\n",
       "</table>\n",
       "</div>"
      ],
      "text/plain": [
       "  Zone  Period  Index                                            Content  \\\n",
       "0   TG       1      1  Người tối cổ xuất hiện trên Trái Đất vào niên ...   \n",
       "1   TG       1      2  Đâu trong các sự kiện dưới đây đánh dấu bước n...   \n",
       "2   TG       1      3  Đâu trong các dòng dưới đây không phải là mục ...   \n",
       "3   TG       1      4  Thành Khang chi trị là cụm từ mô tả sự thịnh v...   \n",
       "4   TG       1      5  Mâu thuẫn cơ bản về giai cấp trong thời kì cổ ...   \n",
       "\n",
       "                        Option A                       Option B  \\\n",
       "0        2.000.000.000 năm trước           80.000.000 năm trước   \n",
       "1  biết chế tạo công cụ sản xuất  biết sử dụng công cụ sản xuất   \n",
       "2                        sưởi ấm                  nướng thức ăn   \n",
       "3                         Thương                            Chu   \n",
       "4                Chủ nô và nô lệ           Lãnh chúa và nông nô   \n",
       "\n",
       "                   Option C                                     Option D  \\\n",
       "0       6.000.000 năm trước                            400.000 năm trước   \n",
       "1  biết hái lượm và săn bắt  sống thành bầy đàn theo quan hệ huyết thống   \n",
       "2                xua thú dữ                                    luyện kim   \n",
       "3                     Đường                                         Tống   \n",
       "4       Quý tộc và bình dân                     Tôn giáo và phi tôn giáo   \n",
       "\n",
       "  Correction Level Tags Explanation  \n",
       "0          C     M    +           -  \n",
       "1          A     M    +           -  \n",
       "2          D     E    +           -  \n",
       "3          B     H    +           -  \n",
       "4          A     E    +           -  "
      ]
     },
     "execution_count": 245,
     "metadata": {},
     "output_type": "execute_result"
    }
   ],
   "source": [
    "content_copy = pd.read_csv(\"QCM.csv\", sep = '\\t', names = [\"Zone\", \"Period\", \"Index\", \"Content\", \\\n",
    "                                                       \"Option A\", \"Option B\", \"Option C\", \"Option D\", \\\n",
    "                                                       \"Correction\", \"Level\", \"Tags\", \"Explanation\"], )\n",
    "content_copy[\"Tags\"] = ['+' for i in range(len(content_copy))]\n",
    "content_copy.head()"
   ]
  },
  {
   "cell_type": "code",
   "execution_count": 246,
   "metadata": {
    "collapsed": false
   },
   "outputs": [
    {
     "data": {
      "text/html": [
       "<div>\n",
       "<table border=\"1\" class=\"dataframe\">\n",
       "  <thead>\n",
       "    <tr style=\"text-align: right;\">\n",
       "      <th></th>\n",
       "      <th>Zone</th>\n",
       "      <th>Period</th>\n",
       "      <th>Index</th>\n",
       "      <th>Content</th>\n",
       "      <th>Option A</th>\n",
       "      <th>Option B</th>\n",
       "      <th>Option C</th>\n",
       "      <th>Option D</th>\n",
       "      <th>Correction</th>\n",
       "      <th>Level</th>\n",
       "      <th>Tags</th>\n",
       "      <th>Explanation</th>\n",
       "    </tr>\n",
       "  </thead>\n",
       "  <tbody>\n",
       "    <tr>\n",
       "      <th>0</th>\n",
       "      <td>TG</td>\n",
       "      <td>1</td>\n",
       "      <td>1</td>\n",
       "      <td>Người tối cổ xuất hiện trên Trái Đất vào niên ...</td>\n",
       "      <td>2.000.000.000 năm trước</td>\n",
       "      <td>80.000.000 năm trước</td>\n",
       "      <td>6.000.000 năm trước</td>\n",
       "      <td>400.000 năm trước</td>\n",
       "      <td>C</td>\n",
       "      <td>M</td>\n",
       "      <td>+</td>\n",
       "      <td>-</td>\n",
       "    </tr>\n",
       "    <tr>\n",
       "      <th>1</th>\n",
       "      <td>TG</td>\n",
       "      <td>1</td>\n",
       "      <td>2</td>\n",
       "      <td>Đâu trong các sự kiện dưới đây đánh dấu bước n...</td>\n",
       "      <td></td>\n",
       "      <td></td>\n",
       "      <td></td>\n",
       "      <td></td>\n",
       "      <td>A</td>\n",
       "      <td>M</td>\n",
       "      <td>+</td>\n",
       "      <td>-</td>\n",
       "    </tr>\n",
       "    <tr>\n",
       "      <th>2</th>\n",
       "      <td>TG</td>\n",
       "      <td>1</td>\n",
       "      <td>3</td>\n",
       "      <td>Đâu trong các dòng dưới đây không phải là mục ...</td>\n",
       "      <td></td>\n",
       "      <td></td>\n",
       "      <td></td>\n",
       "      <td></td>\n",
       "      <td>D</td>\n",
       "      <td>E</td>\n",
       "      <td>+</td>\n",
       "      <td>-</td>\n",
       "    </tr>\n",
       "    <tr>\n",
       "      <th>3</th>\n",
       "      <td>TG</td>\n",
       "      <td>1</td>\n",
       "      <td>4</td>\n",
       "      <td>Thành Khang chi trị là cụm từ mô tả sự thịnh v...</td>\n",
       "      <td>Thương</td>\n",
       "      <td>Chu</td>\n",
       "      <td>Đường</td>\n",
       "      <td>Tống</td>\n",
       "      <td>B</td>\n",
       "      <td>H</td>\n",
       "      <td>+</td>\n",
       "      <td>-</td>\n",
       "    </tr>\n",
       "    <tr>\n",
       "      <th>4</th>\n",
       "      <td>TG</td>\n",
       "      <td>1</td>\n",
       "      <td>5</td>\n",
       "      <td>Mâu thuẫn cơ bản về giai cấp trong thời kì cổ ...</td>\n",
       "      <td>Chủ nô và nô lệ</td>\n",
       "      <td>Lãnh chúa và nông nô</td>\n",
       "      <td>Quý tộc và bình dân</td>\n",
       "      <td>Tôn giáo và phi tôn giáo</td>\n",
       "      <td>A</td>\n",
       "      <td>E</td>\n",
       "      <td>+</td>\n",
       "      <td>-</td>\n",
       "    </tr>\n",
       "  </tbody>\n",
       "</table>\n",
       "</div>"
      ],
      "text/plain": [
       "  Zone  Period  Index                                            Content  \\\n",
       "0   TG       1      1  Người tối cổ xuất hiện trên Trái Đất vào niên ...   \n",
       "1   TG       1      2  Đâu trong các sự kiện dưới đây đánh dấu bước n...   \n",
       "2   TG       1      3  Đâu trong các dòng dưới đây không phải là mục ...   \n",
       "3   TG       1      4  Thành Khang chi trị là cụm từ mô tả sự thịnh v...   \n",
       "4   TG       1      5  Mâu thuẫn cơ bản về giai cấp trong thời kì cổ ...   \n",
       "\n",
       "                  Option A              Option B             Option C  \\\n",
       "0  2.000.000.000 năm trước  80.000.000 năm trước  6.000.000 năm trước   \n",
       "1                                                                       \n",
       "2                                                                       \n",
       "3                   Thương                   Chu                Đường   \n",
       "4          Chủ nô và nô lệ  Lãnh chúa và nông nô  Quý tộc và bình dân   \n",
       "\n",
       "                   Option D Correction Level Tags Explanation  \n",
       "0         400.000 năm trước          C     M    +           -  \n",
       "1                                    A     M    +           -  \n",
       "2                                    D     E    +           -  \n",
       "3                      Tống          B     H    +           -  \n",
       "4  Tôn giáo và phi tôn giáo          A     E    +           -  "
      ]
     },
     "execution_count": 246,
     "metadata": {},
     "output_type": "execute_result"
    }
   ],
   "source": [
    "content_copy.iloc[1:3, 4:8] = \"\"\n",
    "content_copy.head()"
   ]
  },
  {
   "cell_type": "markdown",
   "metadata": {},
   "source": [
    "Insert a new column"
   ]
  },
  {
   "cell_type": "code",
   "execution_count": 279,
   "metadata": {
    "collapsed": false
   },
   "outputs": [
    {
     "data": {
      "text/html": [
       "<div>\n",
       "<table border=\"1\" class=\"dataframe\">\n",
       "  <thead>\n",
       "    <tr style=\"text-align: right;\">\n",
       "      <th></th>\n",
       "      <th>Zone</th>\n",
       "      <th>Period</th>\n",
       "      <th>Index</th>\n",
       "      <th>Content</th>\n",
       "      <th>Option A</th>\n",
       "      <th>Option B</th>\n",
       "      <th>Option C</th>\n",
       "      <th>Option D</th>\n",
       "      <th>Correction</th>\n",
       "      <th>New column</th>\n",
       "      <th>Level</th>\n",
       "      <th>Tags</th>\n",
       "      <th>Explanation</th>\n",
       "    </tr>\n",
       "  </thead>\n",
       "  <tbody>\n",
       "    <tr>\n",
       "      <th>0</th>\n",
       "      <td>TG</td>\n",
       "      <td>1</td>\n",
       "      <td>1</td>\n",
       "      <td>Người tối cổ xuất hiện trên Trái Đất vào niên ...</td>\n",
       "      <td>2.000.000.000 năm trước</td>\n",
       "      <td>80.000.000 năm trước</td>\n",
       "      <td>6.000.000 năm trước</td>\n",
       "      <td>400.000 năm trước</td>\n",
       "      <td>C</td>\n",
       "      <td>-</td>\n",
       "      <td>M</td>\n",
       "      <td>-</td>\n",
       "      <td>-</td>\n",
       "    </tr>\n",
       "    <tr>\n",
       "      <th>1</th>\n",
       "      <td>TG</td>\n",
       "      <td>1</td>\n",
       "      <td>2</td>\n",
       "      <td>Đâu trong các sự kiện dưới đây đánh dấu bước n...</td>\n",
       "      <td>biết chế tạo công cụ sản xuất</td>\n",
       "      <td>biết sử dụng công cụ sản xuất</td>\n",
       "      <td>biết hái lượm và săn bắt</td>\n",
       "      <td>sống thành bầy đàn theo quan hệ huyết thống</td>\n",
       "      <td>A</td>\n",
       "      <td>-</td>\n",
       "      <td>M</td>\n",
       "      <td>-</td>\n",
       "      <td>-</td>\n",
       "    </tr>\n",
       "    <tr>\n",
       "      <th>2</th>\n",
       "      <td>TG</td>\n",
       "      <td>1</td>\n",
       "      <td>3</td>\n",
       "      <td>Đâu trong các dòng dưới đây không phải là mục ...</td>\n",
       "      <td>sưởi ấm</td>\n",
       "      <td>nướng thức ăn</td>\n",
       "      <td>xua thú dữ</td>\n",
       "      <td>luyện kim</td>\n",
       "      <td>D</td>\n",
       "      <td>-</td>\n",
       "      <td>E</td>\n",
       "      <td>-</td>\n",
       "      <td>-</td>\n",
       "    </tr>\n",
       "    <tr>\n",
       "      <th>3</th>\n",
       "      <td>TG</td>\n",
       "      <td>1</td>\n",
       "      <td>4</td>\n",
       "      <td>Thành Khang chi trị là cụm từ mô tả sự thịnh v...</td>\n",
       "      <td>Thương</td>\n",
       "      <td>Chu</td>\n",
       "      <td>Đường</td>\n",
       "      <td>Tống</td>\n",
       "      <td>B</td>\n",
       "      <td>-</td>\n",
       "      <td>H</td>\n",
       "      <td>-</td>\n",
       "      <td>-</td>\n",
       "    </tr>\n",
       "    <tr>\n",
       "      <th>4</th>\n",
       "      <td>TG</td>\n",
       "      <td>1</td>\n",
       "      <td>5</td>\n",
       "      <td>Mâu thuẫn cơ bản về giai cấp trong thời kì cổ ...</td>\n",
       "      <td>Chủ nô và nô lệ</td>\n",
       "      <td>Lãnh chúa và nông nô</td>\n",
       "      <td>Quý tộc và bình dân</td>\n",
       "      <td>Tôn giáo và phi tôn giáo</td>\n",
       "      <td>A</td>\n",
       "      <td>-</td>\n",
       "      <td>E</td>\n",
       "      <td>-</td>\n",
       "      <td>-</td>\n",
       "    </tr>\n",
       "  </tbody>\n",
       "</table>\n",
       "</div>"
      ],
      "text/plain": [
       "  Zone  Period  Index                                            Content  \\\n",
       "0   TG       1      1  Người tối cổ xuất hiện trên Trái Đất vào niên ...   \n",
       "1   TG       1      2  Đâu trong các sự kiện dưới đây đánh dấu bước n...   \n",
       "2   TG       1      3  Đâu trong các dòng dưới đây không phải là mục ...   \n",
       "3   TG       1      4  Thành Khang chi trị là cụm từ mô tả sự thịnh v...   \n",
       "4   TG       1      5  Mâu thuẫn cơ bản về giai cấp trong thời kì cổ ...   \n",
       "\n",
       "                        Option A                       Option B  \\\n",
       "0        2.000.000.000 năm trước           80.000.000 năm trước   \n",
       "1  biết chế tạo công cụ sản xuất  biết sử dụng công cụ sản xuất   \n",
       "2                        sưởi ấm                  nướng thức ăn   \n",
       "3                         Thương                            Chu   \n",
       "4                Chủ nô và nô lệ           Lãnh chúa và nông nô   \n",
       "\n",
       "                   Option C                                     Option D  \\\n",
       "0       6.000.000 năm trước                            400.000 năm trước   \n",
       "1  biết hái lượm và săn bắt  sống thành bầy đàn theo quan hệ huyết thống   \n",
       "2                xua thú dữ                                    luyện kim   \n",
       "3                     Đường                                         Tống   \n",
       "4       Quý tộc và bình dân                     Tôn giáo và phi tôn giáo   \n",
       "\n",
       "  Correction New column Level Tags Explanation  \n",
       "0          C          -     M    -           -  \n",
       "1          A          -     M    -           -  \n",
       "2          D          -     E    -           -  \n",
       "3          B          -     H    -           -  \n",
       "4          A          -     E    -           -  "
      ]
     },
     "execution_count": 279,
     "metadata": {},
     "output_type": "execute_result"
    }
   ],
   "source": [
    "content_copy = pd.read_csv(\"QCM.csv\", sep = '\\t', names = [\"Zone\", \"Period\", \"Index\", \"Content\", \\\n",
    "                                                       \"Option A\", \"Option B\", \"Option C\", \"Option D\", \\\n",
    "                                                       \"Correction\", \"Level\", \"Tags\", \"Explanation\"], )\n",
    "content_copy.insert(9, \"New column\", \"-\")\n",
    "content_copy.head()"
   ]
  },
  {
   "cell_type": "markdown",
   "metadata": {},
   "source": [
    "Insert a new row"
   ]
  },
  {
   "cell_type": "code",
   "execution_count": 283,
   "metadata": {
    "collapsed": false
   },
   "outputs": [
    {
     "data": {
      "text/html": [
       "<div>\n",
       "<table border=\"1\" class=\"dataframe\">\n",
       "  <thead>\n",
       "    <tr style=\"text-align: right;\">\n",
       "      <th></th>\n",
       "      <th>Zone</th>\n",
       "      <th>Period</th>\n",
       "      <th>Index</th>\n",
       "      <th>Content</th>\n",
       "      <th>Option A</th>\n",
       "      <th>Option B</th>\n",
       "      <th>Option C</th>\n",
       "      <th>Option D</th>\n",
       "      <th>Correction</th>\n",
       "      <th>Level</th>\n",
       "      <th>Tags</th>\n",
       "      <th>Explanation</th>\n",
       "    </tr>\n",
       "  </thead>\n",
       "  <tbody>\n",
       "    <tr>\n",
       "      <th>72</th>\n",
       "      <td>VN</td>\n",
       "      <td>2</td>\n",
       "      <td>73</td>\n",
       "      <td>Trong 4 công trình dưới đây (\"An Nam tứ đại kh...</td>\n",
       "      <td>Tượng Phật chùa Quỳnh Lâm</td>\n",
       "      <td>Vạc Phổ Minh</td>\n",
       "      <td>Tháp Báo Thiên</td>\n",
       "      <td>Chuông Quy Điền</td>\n",
       "      <td>B</td>\n",
       "      <td>H</td>\n",
       "      <td>-</td>\n",
       "      <td>-</td>\n",
       "    </tr>\n",
       "    <tr>\n",
       "      <th>73</th>\n",
       "      <td>VN</td>\n",
       "      <td>2</td>\n",
       "      <td>74</td>\n",
       "      <td>Thái sư Lê Văn Thịnh thời Lý đã dùng tài ngoại...</td>\n",
       "      <td>Hà Giang, Lào Cai</td>\n",
       "      <td>Điện Biên, Lào Cai</td>\n",
       "      <td>Cao Bằng, Lạng Sơn</td>\n",
       "      <td>Tuyên Quang, Thái Nguyên</td>\n",
       "      <td>C</td>\n",
       "      <td>H</td>\n",
       "      <td>-</td>\n",
       "      <td>-</td>\n",
       "    </tr>\n",
       "    <tr>\n",
       "      <th>74</th>\n",
       "      <td>VN</td>\n",
       "      <td>2</td>\n",
       "      <td>75</td>\n",
       "      <td>Thời Lý, Đại Việt không có chiến tranh với quố...</td>\n",
       "      <td>Trảo Oa</td>\n",
       "      <td>Chân Lạp</td>\n",
       "      <td>Đại Lý</td>\n",
       "      <td>Chiêm Thành</td>\n",
       "      <td>A</td>\n",
       "      <td>H</td>\n",
       "      <td>-</td>\n",
       "      <td>-</td>\n",
       "    </tr>\n",
       "    <tr>\n",
       "      <th>75</th>\n",
       "      <td>VN</td>\n",
       "      <td>3</td>\n",
       "      <td>76</td>\n",
       "      <td>Tứ nguyệt tam vương là cụm từ mô tả sự lên ngô...</td>\n",
       "      <td>Dục Đức, Hiệp Hoà, Kiến Phúc</td>\n",
       "      <td>Hiệp Hoà, Kiến Phúc, Hàm Nghi</td>\n",
       "      <td>Kiến Phúc, Hàm Nghi, Đồng Khánh</td>\n",
       "      <td>Hàm Nghi, Đồng Khánh, Thành Thái</td>\n",
       "      <td>A</td>\n",
       "      <td>H</td>\n",
       "      <td>-</td>\n",
       "      <td>-</td>\n",
       "    </tr>\n",
       "    <tr>\n",
       "      <th>76</th>\n",
       "      <td>VN</td>\n",
       "      <td>3</td>\n",
       "      <td>77</td>\n",
       "      <td>Năm 1866, \"không tốn một viên đạn\", thực dân P...</td>\n",
       "      <td>Gia Định, Định Tường, Biên Hoà</td>\n",
       "      <td>Nam Định, Hà Nam, Kinh Bắc</td>\n",
       "      <td>Thanh Hoá, Nghệ An, Hà Tĩnh</td>\n",
       "      <td>Vĩnh Long, An Giang, Hà Tiên</td>\n",
       "      <td>D</td>\n",
       "      <td>H</td>\n",
       "      <td>-</td>\n",
       "      <td>-</td>\n",
       "    </tr>\n",
       "  </tbody>\n",
       "</table>\n",
       "</div>"
      ],
      "text/plain": [
       "   Zone  Period  Index                                            Content  \\\n",
       "72   VN       2     73  Trong 4 công trình dưới đây (\"An Nam tứ đại kh...   \n",
       "73   VN       2     74  Thái sư Lê Văn Thịnh thời Lý đã dùng tài ngoại...   \n",
       "74   VN       2     75  Thời Lý, Đại Việt không có chiến tranh với quố...   \n",
       "75   VN       3     76  Tứ nguyệt tam vương là cụm từ mô tả sự lên ngô...   \n",
       "76   VN       3     77  Năm 1866, \"không tốn một viên đạn\", thực dân P...   \n",
       "\n",
       "                          Option A                       Option B  \\\n",
       "72       Tượng Phật chùa Quỳnh Lâm                   Vạc Phổ Minh   \n",
       "73               Hà Giang, Lào Cai             Điện Biên, Lào Cai   \n",
       "74                         Trảo Oa                       Chân Lạp   \n",
       "75    Dục Đức, Hiệp Hoà, Kiến Phúc  Hiệp Hoà, Kiến Phúc, Hàm Nghi   \n",
       "76  Gia Định, Định Tường, Biên Hoà     Nam Định, Hà Nam, Kinh Bắc   \n",
       "\n",
       "                           Option C                          Option D  \\\n",
       "72                   Tháp Báo Thiên                   Chuông Quy Điền   \n",
       "73               Cao Bằng, Lạng Sơn          Tuyên Quang, Thái Nguyên   \n",
       "74                           Đại Lý                       Chiêm Thành   \n",
       "75  Kiến Phúc, Hàm Nghi, Đồng Khánh  Hàm Nghi, Đồng Khánh, Thành Thái   \n",
       "76      Thanh Hoá, Nghệ An, Hà Tĩnh      Vĩnh Long, An Giang, Hà Tiên   \n",
       "\n",
       "   Correction Level Tags Explanation  \n",
       "72          B     H    -           -  \n",
       "73          C     H    -           -  \n",
       "74          A     H    -           -  \n",
       "75          A     H    -           -  \n",
       "76          D     H    -           -  "
      ]
     },
     "execution_count": 283,
     "metadata": {},
     "output_type": "execute_result"
    }
   ],
   "source": [
    "content_copy = pd.read_csv(\"QCM.csv\", sep = '\\t', names = [\"Zone\", \"Period\", \"Index\", \"Content\", \\\n",
    "                                                       \"Option A\", \"Option B\", \"Option C\", \"Option D\", \\\n",
    "                                                       \"Correction\", \"Level\", \"Tags\", \"Explanation\"], )\n",
    "content_copy.append(content_copy.iloc[0])\n",
    "content_copy.tail()"
   ]
  },
  {
   "cell_type": "markdown",
   "metadata": {},
   "source": [
    "Delete a column\n"
   ]
  },
  {
   "cell_type": "code",
   "execution_count": 271,
   "metadata": {
    "collapsed": false
   },
   "outputs": [
    {
     "data": {
      "text/html": [
       "<div>\n",
       "<table border=\"1\" class=\"dataframe\">\n",
       "  <thead>\n",
       "    <tr style=\"text-align: right;\">\n",
       "      <th></th>\n",
       "      <th>Zone</th>\n",
       "      <th>Period</th>\n",
       "      <th>Index</th>\n",
       "      <th>Content</th>\n",
       "      <th>Option A</th>\n",
       "      <th>Option B</th>\n",
       "      <th>Option C</th>\n",
       "      <th>Option D</th>\n",
       "      <th>Correction</th>\n",
       "      <th>Explanation</th>\n",
       "    </tr>\n",
       "  </thead>\n",
       "  <tbody>\n",
       "    <tr>\n",
       "      <th>0</th>\n",
       "      <td>TG</td>\n",
       "      <td>1</td>\n",
       "      <td>1</td>\n",
       "      <td>Người tối cổ xuất hiện trên Trái Đất vào niên ...</td>\n",
       "      <td>2.000.000.000 năm trước</td>\n",
       "      <td>80.000.000 năm trước</td>\n",
       "      <td>6.000.000 năm trước</td>\n",
       "      <td>400.000 năm trước</td>\n",
       "      <td>C</td>\n",
       "      <td>-</td>\n",
       "    </tr>\n",
       "    <tr>\n",
       "      <th>1</th>\n",
       "      <td>TG</td>\n",
       "      <td>1</td>\n",
       "      <td>2</td>\n",
       "      <td>Đâu trong các sự kiện dưới đây đánh dấu bước n...</td>\n",
       "      <td>biết chế tạo công cụ sản xuất</td>\n",
       "      <td>biết sử dụng công cụ sản xuất</td>\n",
       "      <td>biết hái lượm và săn bắt</td>\n",
       "      <td>sống thành bầy đàn theo quan hệ huyết thống</td>\n",
       "      <td>A</td>\n",
       "      <td>-</td>\n",
       "    </tr>\n",
       "    <tr>\n",
       "      <th>2</th>\n",
       "      <td>TG</td>\n",
       "      <td>1</td>\n",
       "      <td>3</td>\n",
       "      <td>Đâu trong các dòng dưới đây không phải là mục ...</td>\n",
       "      <td>sưởi ấm</td>\n",
       "      <td>nướng thức ăn</td>\n",
       "      <td>xua thú dữ</td>\n",
       "      <td>luyện kim</td>\n",
       "      <td>D</td>\n",
       "      <td>-</td>\n",
       "    </tr>\n",
       "    <tr>\n",
       "      <th>3</th>\n",
       "      <td>TG</td>\n",
       "      <td>1</td>\n",
       "      <td>4</td>\n",
       "      <td>Thành Khang chi trị là cụm từ mô tả sự thịnh v...</td>\n",
       "      <td>Thương</td>\n",
       "      <td>Chu</td>\n",
       "      <td>Đường</td>\n",
       "      <td>Tống</td>\n",
       "      <td>B</td>\n",
       "      <td>-</td>\n",
       "    </tr>\n",
       "    <tr>\n",
       "      <th>4</th>\n",
       "      <td>TG</td>\n",
       "      <td>1</td>\n",
       "      <td>5</td>\n",
       "      <td>Mâu thuẫn cơ bản về giai cấp trong thời kì cổ ...</td>\n",
       "      <td>Chủ nô và nô lệ</td>\n",
       "      <td>Lãnh chúa và nông nô</td>\n",
       "      <td>Quý tộc và bình dân</td>\n",
       "      <td>Tôn giáo và phi tôn giáo</td>\n",
       "      <td>A</td>\n",
       "      <td>-</td>\n",
       "    </tr>\n",
       "  </tbody>\n",
       "</table>\n",
       "</div>"
      ],
      "text/plain": [
       "  Zone  Period  Index                                            Content  \\\n",
       "0   TG       1      1  Người tối cổ xuất hiện trên Trái Đất vào niên ...   \n",
       "1   TG       1      2  Đâu trong các sự kiện dưới đây đánh dấu bước n...   \n",
       "2   TG       1      3  Đâu trong các dòng dưới đây không phải là mục ...   \n",
       "3   TG       1      4  Thành Khang chi trị là cụm từ mô tả sự thịnh v...   \n",
       "4   TG       1      5  Mâu thuẫn cơ bản về giai cấp trong thời kì cổ ...   \n",
       "\n",
       "                        Option A                       Option B  \\\n",
       "0        2.000.000.000 năm trước           80.000.000 năm trước   \n",
       "1  biết chế tạo công cụ sản xuất  biết sử dụng công cụ sản xuất   \n",
       "2                        sưởi ấm                  nướng thức ăn   \n",
       "3                         Thương                            Chu   \n",
       "4                Chủ nô và nô lệ           Lãnh chúa và nông nô   \n",
       "\n",
       "                   Option C                                     Option D  \\\n",
       "0       6.000.000 năm trước                            400.000 năm trước   \n",
       "1  biết hái lượm và săn bắt  sống thành bầy đàn theo quan hệ huyết thống   \n",
       "2                xua thú dữ                                    luyện kim   \n",
       "3                     Đường                                         Tống   \n",
       "4       Quý tộc và bình dân                     Tôn giáo và phi tôn giáo   \n",
       "\n",
       "  Correction Explanation  \n",
       "0          C           -  \n",
       "1          A           -  \n",
       "2          D           -  \n",
       "3          B           -  \n",
       "4          A           -  "
      ]
     },
     "execution_count": 271,
     "metadata": {},
     "output_type": "execute_result"
    }
   ],
   "source": [
    "content_copy = pd.read_csv(\"QCM.csv\", sep = '\\t', names = [\"Zone\", \"Period\", \"Index\", \"Content\", \\\n",
    "                                                       \"Option A\", \"Option B\", \"Option C\", \"Option D\", \\\n",
    "                                                       \"Correction\", \"Level\", \"Tags\", \"Explanation\"], )\n",
    "A = content_copy.drop([\"Tags\", \"Level\"], axis=1)\n",
    "A.head()"
   ]
  },
  {
   "cell_type": "markdown",
   "metadata": {},
   "source": [
    "Delete a row"
   ]
  },
  {
   "cell_type": "code",
   "execution_count": 278,
   "metadata": {
    "collapsed": false
   },
   "outputs": [
    {
     "data": {
      "text/html": [
       "<div>\n",
       "<table border=\"1\" class=\"dataframe\">\n",
       "  <thead>\n",
       "    <tr style=\"text-align: right;\">\n",
       "      <th></th>\n",
       "      <th>Zone</th>\n",
       "      <th>Period</th>\n",
       "      <th>Index</th>\n",
       "      <th>Content</th>\n",
       "      <th>Option A</th>\n",
       "      <th>Option B</th>\n",
       "      <th>Option C</th>\n",
       "      <th>Option D</th>\n",
       "      <th>Correction</th>\n",
       "      <th>Level</th>\n",
       "      <th>Tags</th>\n",
       "      <th>Explanation</th>\n",
       "    </tr>\n",
       "  </thead>\n",
       "  <tbody>\n",
       "    <tr>\n",
       "      <th>3</th>\n",
       "      <td>TG</td>\n",
       "      <td>1</td>\n",
       "      <td>4</td>\n",
       "      <td>Thành Khang chi trị là cụm từ mô tả sự thịnh v...</td>\n",
       "      <td>Thương</td>\n",
       "      <td>Chu</td>\n",
       "      <td>Đường</td>\n",
       "      <td>Tống</td>\n",
       "      <td>B</td>\n",
       "      <td>H</td>\n",
       "      <td>-</td>\n",
       "      <td>-</td>\n",
       "    </tr>\n",
       "    <tr>\n",
       "      <th>4</th>\n",
       "      <td>TG</td>\n",
       "      <td>1</td>\n",
       "      <td>5</td>\n",
       "      <td>Mâu thuẫn cơ bản về giai cấp trong thời kì cổ ...</td>\n",
       "      <td>Chủ nô và nô lệ</td>\n",
       "      <td>Lãnh chúa và nông nô</td>\n",
       "      <td>Quý tộc và bình dân</td>\n",
       "      <td>Tôn giáo và phi tôn giáo</td>\n",
       "      <td>A</td>\n",
       "      <td>E</td>\n",
       "      <td>-</td>\n",
       "      <td>-</td>\n",
       "    </tr>\n",
       "    <tr>\n",
       "      <th>5</th>\n",
       "      <td>TG</td>\n",
       "      <td>1</td>\n",
       "      <td>6</td>\n",
       "      <td>Dòng nào dưới đây nêu đúng thứ tự xuất hiện củ...</td>\n",
       "      <td>Do Thái giáo, Kitô giáo, Hồi giáo</td>\n",
       "      <td>Kitô giáo, Do Thái giáo, Hồi giáo</td>\n",
       "      <td>Kitô giáo, Hồi giáo, Do Thái giáo</td>\n",
       "      <td>Do Thái giáo, Hồi giáo, Kitô giáo</td>\n",
       "      <td>A</td>\n",
       "      <td>M</td>\n",
       "      <td>-</td>\n",
       "      <td>-</td>\n",
       "    </tr>\n",
       "    <tr>\n",
       "      <th>6</th>\n",
       "      <td>TG</td>\n",
       "      <td>1</td>\n",
       "      <td>7</td>\n",
       "      <td>Chiến tranh nô lệ lần thứ ba (73TCN - 71TCN), ...</td>\n",
       "      <td>Quintus Sertorius</td>\n",
       "      <td>Marcus Licinius Crassus</td>\n",
       "      <td>Oenomaus</td>\n",
       "      <td>Spartacus</td>\n",
       "      <td>D</td>\n",
       "      <td>M</td>\n",
       "      <td>-</td>\n",
       "      <td>-</td>\n",
       "    </tr>\n",
       "    <tr>\n",
       "      <th>7</th>\n",
       "      <td>TG</td>\n",
       "      <td>1</td>\n",
       "      <td>8</td>\n",
       "      <td>Nội chiến do ai chỉ huy đã làm diệt vong chế đ...</td>\n",
       "      <td>César</td>\n",
       "      <td>Augustus</td>\n",
       "      <td>Tiberus</td>\n",
       "      <td>Nero</td>\n",
       "      <td>A</td>\n",
       "      <td>H</td>\n",
       "      <td>-</td>\n",
       "      <td>-</td>\n",
       "    </tr>\n",
       "  </tbody>\n",
       "</table>\n",
       "</div>"
      ],
      "text/plain": [
       "  Zone  Period  Index                                            Content  \\\n",
       "3   TG       1      4  Thành Khang chi trị là cụm từ mô tả sự thịnh v...   \n",
       "4   TG       1      5  Mâu thuẫn cơ bản về giai cấp trong thời kì cổ ...   \n",
       "5   TG       1      6  Dòng nào dưới đây nêu đúng thứ tự xuất hiện củ...   \n",
       "6   TG       1      7  Chiến tranh nô lệ lần thứ ba (73TCN - 71TCN), ...   \n",
       "7   TG       1      8  Nội chiến do ai chỉ huy đã làm diệt vong chế đ...   \n",
       "\n",
       "                            Option A                           Option B  \\\n",
       "3                             Thương                                Chu   \n",
       "4                    Chủ nô và nô lệ               Lãnh chúa và nông nô   \n",
       "5  Do Thái giáo, Kitô giáo, Hồi giáo  Kitô giáo, Do Thái giáo, Hồi giáo   \n",
       "6                  Quintus Sertorius            Marcus Licinius Crassus   \n",
       "7                              César                           Augustus   \n",
       "\n",
       "                            Option C                           Option D  \\\n",
       "3                              Đường                               Tống   \n",
       "4                Quý tộc và bình dân           Tôn giáo và phi tôn giáo   \n",
       "5  Kitô giáo, Hồi giáo, Do Thái giáo  Do Thái giáo, Hồi giáo, Kitô giáo   \n",
       "6                           Oenomaus                          Spartacus   \n",
       "7                            Tiberus                               Nero   \n",
       "\n",
       "  Correction Level Tags Explanation  \n",
       "3          B     H    -           -  \n",
       "4          A     E    -           -  \n",
       "5          A     M    -           -  \n",
       "6          D     M    -           -  \n",
       "7          A     H    -           -  "
      ]
     },
     "execution_count": 278,
     "metadata": {},
     "output_type": "execute_result"
    }
   ],
   "source": [
    "content_copy = pd.read_csv(\"QCM.csv\", sep = '\\t', names = [\"Zone\", \"Period\", \"Index\", \"Content\", \\\n",
    "                                                       \"Option A\", \"Option B\", \"Option C\", \"Option D\", \\\n",
    "                                                       \"Correction\", \"Level\", \"Tags\", \"Explanation\"], )\n",
    "A = content_copy.drop(range(0, 3), axis=0)\n",
    "A.head()"
   ]
  },
  {
   "cell_type": "markdown",
   "metadata": {},
   "source": [
    "Concatenate rows"
   ]
  },
  {
   "cell_type": "code",
   "execution_count": 288,
   "metadata": {
    "collapsed": false
   },
   "outputs": [
    {
     "data": {
      "text/html": [
       "<div>\n",
       "<table border=\"1\" class=\"dataframe\">\n",
       "  <thead>\n",
       "    <tr style=\"text-align: right;\">\n",
       "      <th></th>\n",
       "      <th>Zone</th>\n",
       "      <th>Period</th>\n",
       "      <th>Index</th>\n",
       "      <th>Content</th>\n",
       "      <th>Option A</th>\n",
       "      <th>Option B</th>\n",
       "      <th>Option C</th>\n",
       "      <th>Option D</th>\n",
       "      <th>Correction</th>\n",
       "      <th>Level</th>\n",
       "      <th>Tags</th>\n",
       "      <th>Explanation</th>\n",
       "    </tr>\n",
       "  </thead>\n",
       "  <tbody>\n",
       "    <tr>\n",
       "      <th>1</th>\n",
       "      <td>TG</td>\n",
       "      <td>1</td>\n",
       "      <td>2</td>\n",
       "      <td>Đâu trong các sự kiện dưới đây đánh dấu bước n...</td>\n",
       "      <td>biết chế tạo công cụ sản xuất</td>\n",
       "      <td>biết sử dụng công cụ sản xuất</td>\n",
       "      <td>biết hái lượm và săn bắt</td>\n",
       "      <td>sống thành bầy đàn theo quan hệ huyết thống</td>\n",
       "      <td>A</td>\n",
       "      <td>M</td>\n",
       "      <td>-</td>\n",
       "      <td>-</td>\n",
       "    </tr>\n",
       "    <tr>\n",
       "      <th>2</th>\n",
       "      <td>TG</td>\n",
       "      <td>1</td>\n",
       "      <td>3</td>\n",
       "      <td>Đâu trong các dòng dưới đây không phải là mục ...</td>\n",
       "      <td>sưởi ấm</td>\n",
       "      <td>nướng thức ăn</td>\n",
       "      <td>xua thú dữ</td>\n",
       "      <td>luyện kim</td>\n",
       "      <td>D</td>\n",
       "      <td>E</td>\n",
       "      <td>-</td>\n",
       "      <td>-</td>\n",
       "    </tr>\n",
       "    <tr>\n",
       "      <th>20</th>\n",
       "      <td>TG</td>\n",
       "      <td>3</td>\n",
       "      <td>21</td>\n",
       "      <td>Để trấn áp phong trào nào sau đây tại Trung Qu...</td>\n",
       "      <td>Thái Bình Thiên quốc</td>\n",
       "      <td>Trung Quốc Đồng Minh hội</td>\n",
       "      <td>Nghĩa Hoà Đoàn</td>\n",
       "      <td>Cách mạng Tân Hợi</td>\n",
       "      <td>C</td>\n",
       "      <td>H</td>\n",
       "      <td>-</td>\n",
       "      <td>-</td>\n",
       "    </tr>\n",
       "    <tr>\n",
       "      <th>21</th>\n",
       "      <td>VN</td>\n",
       "      <td>1</td>\n",
       "      <td>22</td>\n",
       "      <td>Tại di chỉ nào dưới đây các nhà khảo cổ đã tìm...</td>\n",
       "      <td>Núi Đọ (Thanh Hoá)</td>\n",
       "      <td>Hang Thẩm Khuyên, Thẩm Hai (Lạng Sơn)</td>\n",
       "      <td>Hàng Gòn, Dầu Giây (Đồng Nai)</td>\n",
       "      <td>Dốc Mơ, Vườn Dũ (Sông Bé)</td>\n",
       "      <td>B</td>\n",
       "      <td>H</td>\n",
       "      <td>-</td>\n",
       "      <td>-</td>\n",
       "    </tr>\n",
       "  </tbody>\n",
       "</table>\n",
       "</div>"
      ],
      "text/plain": [
       "   Zone  Period  Index                                            Content  \\\n",
       "1    TG       1      2  Đâu trong các sự kiện dưới đây đánh dấu bước n...   \n",
       "2    TG       1      3  Đâu trong các dòng dưới đây không phải là mục ...   \n",
       "20   TG       3     21  Để trấn áp phong trào nào sau đây tại Trung Qu...   \n",
       "21   VN       1     22  Tại di chỉ nào dưới đây các nhà khảo cổ đã tìm...   \n",
       "\n",
       "                         Option A                               Option B  \\\n",
       "1   biết chế tạo công cụ sản xuất          biết sử dụng công cụ sản xuất   \n",
       "2                         sưởi ấm                          nướng thức ăn   \n",
       "20           Thái Bình Thiên quốc               Trung Quốc Đồng Minh hội   \n",
       "21             Núi Đọ (Thanh Hoá)  Hang Thẩm Khuyên, Thẩm Hai (Lạng Sơn)   \n",
       "\n",
       "                         Option C  \\\n",
       "1        biết hái lượm và săn bắt   \n",
       "2                      xua thú dữ   \n",
       "20                 Nghĩa Hoà Đoàn   \n",
       "21  Hàng Gòn, Dầu Giây (Đồng Nai)   \n",
       "\n",
       "                                       Option D Correction Level Tags  \\\n",
       "1   sống thành bầy đàn theo quan hệ huyết thống          A     M    -   \n",
       "2                                     luyện kim          D     E    -   \n",
       "20                            Cách mạng Tân Hợi          C     H    -   \n",
       "21                    Dốc Mơ, Vườn Dũ (Sông Bé)          B     H    -   \n",
       "\n",
       "   Explanation  \n",
       "1            -  \n",
       "2            -  \n",
       "20           -  \n",
       "21           -  "
      ]
     },
     "execution_count": 288,
     "metadata": {},
     "output_type": "execute_result"
    }
   ],
   "source": [
    "pieces = [content_copy[1:3], content_copy[20:22]]\n",
    "pd.concat(pieces)"
   ]
  },
  {
   "cell_type": "markdown",
   "metadata": {},
   "source": [
    "## 6.5 Categorical data"
   ]
  },
  {
   "cell_type": "markdown",
   "metadata": {},
   "source": [
    "We can convert some columns to categorical data."
   ]
  },
  {
   "cell_type": "code",
   "execution_count": 296,
   "metadata": {
    "collapsed": false
   },
   "outputs": [
    {
     "data": {
      "text/plain": [
       "0     TG\n",
       "1     TG\n",
       "2     TG\n",
       "3     TG\n",
       "4     TG\n",
       "5     TG\n",
       "6     TG\n",
       "7     TG\n",
       "8     TG\n",
       "9     TG\n",
       "10    TG\n",
       "11    TG\n",
       "12    TG\n",
       "13    TG\n",
       "14    TG\n",
       "15    TG\n",
       "16    TG\n",
       "17    TG\n",
       "18    TG\n",
       "19    TG\n",
       "20    TG\n",
       "21    VN\n",
       "22    VN\n",
       "23    VN\n",
       "24    VN\n",
       "25    VN\n",
       "26    VN\n",
       "27    VN\n",
       "28    VN\n",
       "29    VN\n",
       "      ..\n",
       "47    VN\n",
       "48    VN\n",
       "49    VN\n",
       "50    VN\n",
       "51    VN\n",
       "52    VN\n",
       "53    VN\n",
       "54    VN\n",
       "55    VN\n",
       "56    VN\n",
       "57    VN\n",
       "58    VN\n",
       "59    VN\n",
       "60    VN\n",
       "61    VN\n",
       "62    VN\n",
       "63    VN\n",
       "64    VN\n",
       "65    VN\n",
       "66    VN\n",
       "67    VN\n",
       "68    VN\n",
       "69    VN\n",
       "70    VN\n",
       "71    VN\n",
       "72    VN\n",
       "73    VN\n",
       "74    VN\n",
       "75    VN\n",
       "76    VN\n",
       "Name: Zone, dtype: category\n",
       "Categories (2, object): [TG, VN]"
      ]
     },
     "execution_count": 296,
     "metadata": {},
     "output_type": "execute_result"
    }
   ],
   "source": [
    "content_copy[\"Zone\"] = content_copy[\"Zone\"].astype(\"category\")\n",
    "content_copy[\"Zone\"]"
   ]
  },
  {
   "cell_type": "markdown",
   "metadata": {},
   "source": [
    "Then we can rename the category."
   ]
  },
  {
   "cell_type": "code",
   "execution_count": 297,
   "metadata": {
    "collapsed": false
   },
   "outputs": [
    {
     "data": {
      "text/plain": [
       "0       World\n",
       "1       World\n",
       "2       World\n",
       "3       World\n",
       "4       World\n",
       "5       World\n",
       "6       World\n",
       "7       World\n",
       "8       World\n",
       "9       World\n",
       "10      World\n",
       "11      World\n",
       "12      World\n",
       "13      World\n",
       "14      World\n",
       "15      World\n",
       "16      World\n",
       "17      World\n",
       "18      World\n",
       "19      World\n",
       "20      World\n",
       "21    Vietnam\n",
       "22    Vietnam\n",
       "23    Vietnam\n",
       "24    Vietnam\n",
       "25    Vietnam\n",
       "26    Vietnam\n",
       "27    Vietnam\n",
       "28    Vietnam\n",
       "29    Vietnam\n",
       "       ...   \n",
       "47    Vietnam\n",
       "48    Vietnam\n",
       "49    Vietnam\n",
       "50    Vietnam\n",
       "51    Vietnam\n",
       "52    Vietnam\n",
       "53    Vietnam\n",
       "54    Vietnam\n",
       "55    Vietnam\n",
       "56    Vietnam\n",
       "57    Vietnam\n",
       "58    Vietnam\n",
       "59    Vietnam\n",
       "60    Vietnam\n",
       "61    Vietnam\n",
       "62    Vietnam\n",
       "63    Vietnam\n",
       "64    Vietnam\n",
       "65    Vietnam\n",
       "66    Vietnam\n",
       "67    Vietnam\n",
       "68    Vietnam\n",
       "69    Vietnam\n",
       "70    Vietnam\n",
       "71    Vietnam\n",
       "72    Vietnam\n",
       "73    Vietnam\n",
       "74    Vietnam\n",
       "75    Vietnam\n",
       "76    Vietnam\n",
       "Name: Zone, dtype: category\n",
       "Categories (2, object): [World, Vietnam]"
      ]
     },
     "execution_count": 297,
     "metadata": {},
     "output_type": "execute_result"
    }
   ],
   "source": [
    "content_copy[\"Zone\"].cat.categories = [\"World\", \"Vietnam\"]\n",
    "content_copy[\"Zone\"]"
   ]
  },
  {
   "cell_type": "markdown",
   "metadata": {},
   "source": [
    "## 6.6 Export to a file"
   ]
  },
  {
   "cell_type": "code",
   "execution_count": 299,
   "metadata": {
    "collapsed": true
   },
   "outputs": [],
   "source": [
    "content_copy = pd.read_csv(\"QCM.csv\", sep = '\\t', names = [\"Zone\", \"Period\", \"Index\", \"Content\", \\\n",
    "                                                       \"Option A\", \"Option B\", \"Option C\", \"Option D\", \\\n",
    "                                                       \"Correction\", \"Level\", \"Tags\", \"Explanation\"], )\n",
    "content_copy[\"Zone\"] = content_copy[\"Zone\"].astype(\"category\")\n",
    "content_copy[\"Zone\"].cat.categories = [\"World\", \"Vietnam\"]\n",
    "content_copy.to_csv(\"NewQCM.csv\", sep = \"\\t\")"
   ]
  },
  {
   "cell_type": "markdown",
   "metadata": {
    "collapsed": true
   },
   "source": [
    "# 7. os"
   ]
  },
  {
   "cell_type": "markdown",
   "metadata": {},
   "source": [
    "**os** can be used to run operating system commands inside a Python program. For example:\n",
    "\n",
    "**Print the current working directory**"
   ]
  },
  {
   "cell_type": "code",
   "execution_count": 302,
   "metadata": {
    "collapsed": false
   },
   "outputs": [
    {
     "data": {
      "text/plain": [
       "'d:\\\\Userfiles\\\\ndoannguyen\\\\Documents\\\\Projects\\\\DSC101\\\\Lesson3\\\\Amphi'"
      ]
     },
     "execution_count": 302,
     "metadata": {},
     "output_type": "execute_result"
    }
   ],
   "source": [
    "import os\n",
    "os.getcwd()"
   ]
  },
  {
   "cell_type": "markdown",
   "metadata": {},
   "source": [
    "**Show contents of some directory**"
   ]
  },
  {
   "cell_type": "code",
   "execution_count": 306,
   "metadata": {
    "collapsed": false
   },
   "outputs": [
    {
     "data": {
      "text/plain": [
       "['.ipynb_checkpoints', 'Amphi', 'TD']"
      ]
     },
     "execution_count": 306,
     "metadata": {},
     "output_type": "execute_result"
    }
   ],
   "source": [
    "os.listdir('d:\\\\Userfiles\\\\ndoannguyen\\\\Documents\\\\Projects\\\\DSC101\\\\Lesson3')"
   ]
  },
  {
   "cell_type": "markdown",
   "metadata": {},
   "source": [
    "**Make a new directory**"
   ]
  },
  {
   "cell_type": "code",
   "execution_count": 319,
   "metadata": {
    "collapsed": false
   },
   "outputs": [
    {
     "data": {
      "text/plain": [
       "['.ipynb_checkpoints', 'Amphi', 'Data', 'TD']"
      ]
     },
     "execution_count": 319,
     "metadata": {},
     "output_type": "execute_result"
    }
   ],
   "source": [
    "os.mkdir(\"..\\\\Data\")\n",
    "os.listdir('d:\\\\Userfiles\\\\ndoannguyen\\\\Documents\\\\Projects\\\\DSC101\\\\Lesson3')"
   ]
  },
  {
   "cell_type": "markdown",
   "metadata": {},
   "source": [
    "**Remove an empty directory**"
   ]
  },
  {
   "cell_type": "code",
   "execution_count": 313,
   "metadata": {
    "collapsed": false
   },
   "outputs": [
    {
     "data": {
      "text/plain": [
       "['.ipynb_checkpoints', 'Amphi', 'TD']"
      ]
     },
     "execution_count": 313,
     "metadata": {},
     "output_type": "execute_result"
    }
   ],
   "source": [
    "os.rmdir(\"..\\\\Data\")\n",
    "os.listdir('d:\\\\Userfiles\\\\ndoannguyen\\\\Documents\\\\Projects\\\\DSC101\\\\Lesson3')"
   ]
  },
  {
   "cell_type": "markdown",
   "metadata": {},
   "source": [
    "**Check if a file/directory exists**"
   ]
  },
  {
   "cell_type": "code",
   "execution_count": 315,
   "metadata": {
    "collapsed": false
   },
   "outputs": [
    {
     "data": {
      "text/plain": [
       "False"
      ]
     },
     "execution_count": 315,
     "metadata": {},
     "output_type": "execute_result"
    }
   ],
   "source": [
    "os.path.isfile(\"..\\\\Data\\\\file.txt\")"
   ]
  },
  {
   "cell_type": "code",
   "execution_count": 321,
   "metadata": {
    "collapsed": false
   },
   "outputs": [
    {
     "data": {
      "text/plain": [
       "True"
      ]
     },
     "execution_count": 321,
     "metadata": {},
     "output_type": "execute_result"
    }
   ],
   "source": [
    "os.path.isdir(\"..\\\\Data\")"
   ]
  },
  {
   "cell_type": "code",
   "execution_count": 322,
   "metadata": {
    "collapsed": false
   },
   "outputs": [
    {
     "data": {
      "text/plain": [
       "True"
      ]
     },
     "execution_count": 322,
     "metadata": {},
     "output_type": "execute_result"
    }
   ],
   "source": [
    "os.path.exists(\"..\\\\Data\")"
   ]
  },
  {
   "cell_type": "markdown",
   "metadata": {},
   "source": [
    "**Remove files**"
   ]
  },
  {
   "cell_type": "code",
   "execution_count": 323,
   "metadata": {
    "collapsed": false
   },
   "outputs": [],
   "source": [
    "if os.path.isfile(\"..\\\\Data\\\\file.txt\"):\n",
    "    os.remove(\"..\\\\Data\\\\file.txt\")"
   ]
  },
  {
   "cell_type": "markdown",
   "metadata": {},
   "source": [
    "**Rename files, folders**"
   ]
  },
  {
   "cell_type": "code",
   "execution_count": 325,
   "metadata": {
    "collapsed": false
   },
   "outputs": [
    {
     "data": {
      "text/plain": [
       "['.ipynb_checkpoints', 'Amphi', 'Data2', 'TD']"
      ]
     },
     "execution_count": 325,
     "metadata": {},
     "output_type": "execute_result"
    }
   ],
   "source": [
    "if os.path.exists(\"..\\\\Data\"):\n",
    "    os.rename(\"..\\\\Data\", \"..\\\\Data2\")\n",
    "os.listdir('d:\\\\Userfiles\\\\ndoannguyen\\\\Documents\\\\Projects\\\\DSC101\\\\Lesson3')"
   ]
  },
  {
   "cell_type": "markdown",
   "metadata": {},
   "source": [
    "# 8. sys"
   ]
  },
  {
   "cell_type": "markdown",
   "metadata": {
    "collapsed": true
   },
   "source": [
    "A Python file can be run from the environment. It interacts with the arguments from the environment by **sys.argv**, used in the main function."
   ]
  },
  {
   "cell_type": "code",
   "execution_count": 327,
   "metadata": {
    "collapsed": false
   },
   "outputs": [
    {
     "name": "stdout",
     "output_type": "stream",
     "text": [
      "Hello -f!\n"
     ]
    }
   ],
   "source": [
    "#Write this in file Hello.py\n",
    "import sys\n",
    "\n",
    "if __name__ == \"__main__\":\n",
    "    user = sys.argv[1]\n",
    "    print(\"Hello %s!\" % user)"
   ]
  },
  {
   "cell_type": "raw",
   "metadata": {},
   "source": [
    "$ python Hello.py Peter\n",
    "Hello Peter!"
   ]
  }
 ],
 "metadata": {
  "kernelspec": {
   "display_name": "Python 2",
   "language": "python",
   "name": "python2"
  },
  "language_info": {
   "codemirror_mode": {
    "name": "ipython",
    "version": 2
   },
   "file_extension": ".py",
   "mimetype": "text/x-python",
   "name": "python",
   "nbconvert_exporter": "python",
   "pygments_lexer": "ipython2",
   "version": "2.7.13"
  }
 },
 "nbformat": 4,
 "nbformat_minor": 0
}
