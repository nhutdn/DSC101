{
 "cells": [
  {
   "cell_type": "markdown",
   "metadata": {},
   "source": [
    "# TD3 - Làm việc với các thư viện Python"
   ]
  },
  {
   "cell_type": "markdown",
   "metadata": {},
   "source": [
    "Khác với các TD trước, TD3 gồm 2 phần độc lập.\n",
    "\n",
    "- Phần thứ nhất: Sử dụng các thư viện của Python để thực hiện một số tính toán về đại số tuyến tính, giải tích và lí thuyết xác suất. Ở phần này chỉ có các câu hỏi, không có yêu cầu viết code với dạng input và output quy định sẵn và không có file test. Bạn viết code tuỳ ý cho phép tính ra kết quả bài toán.\n",
    "\n",
    "- Phần thứ hai: Mục đích của phần này là minh hoạ việc lấy dữ liệu từ Internet và xử lí bước đầu (preprocess) nó để có dữ liệu \"sạch\" để sử dụng cho các bài toán data science về sau. Ta sẽ lấy dữ liệu bằng cách download một số bài báo mạng và chuyển mỗi bài báo thành các \"vector từ\". Phần này yêu cầu viết hàm với kiểu input, output quy định trước như ở các TD trước."
   ]
  },
  {
   "cell_type": "markdown",
   "metadata": {},
   "source": [
    "# Phần 1 - Dùng Python để tính toán"
   ]
  },
  {
   "cell_type": "markdown",
   "metadata": {},
   "source": [
    "## A. Đại số tuyến tính"
   ]
  },
  {
   "cell_type": "markdown",
   "metadata": {},
   "source": [
    "Cho các ma trận\n",
    "$$\n",
    "A = \n",
    "\\begin{pmatrix}\n",
    "0 & 1 & 0 & 0 \\\\\n",
    "1 & 2 & -2 & 0 \\\\\n",
    "1 & 0 & 1 & -1 \\\\\n",
    "-1 & 2 & -1 & 1\n",
    "\\end{pmatrix},\n",
    "B =\n",
    "\\begin{pmatrix}\n",
    "-1 & 2 & 2 & -1 \\\\\n",
    "0 & 1 & -1 & 0 \\\\\n",
    "2 & -2 & -1 & 1 \\\\\n",
    "0 & 0 & 1 & 1\n",
    "\\end{pmatrix}, \n",
    "\\mathbf v = (2 \\qquad 3 \\qquad 1 \\qquad 3)^t\n",
    "$$\n",
    "### Câu hỏi 1: (Nhân và luỹ thừa ma trận)\n",
    "Tính $(AB)^5$\n",
    "\n",
    "**Kết quả:**\n",
    "$$\n",
    "(AB)^5 = \n",
    "\\begin{pmatrix}\n",
    "-1284 & 2072 & 1328 & -1436 \\\\\n",
    "-7337 & 12017 & 8073 & -8735 \\\\\n",
    "259 & -403 & -227 &  245 \\\\\n",
    "-2827 & 4547 & 2883 & -3117\\\\\n",
    "\\end{pmatrix}\n",
    "$$\n"
   ]
  },
  {
   "cell_type": "markdown",
   "metadata": {},
   "source": [
    "### Câu hỏi 2: (Tích giữa ma trận và vector)\n",
    "Tính $A\\mathbf v, B^t \\mathbf v, \\mathbf v^t A \\mathbf v $.\n",
    "\n",
    "**Kết quả:**\n",
    "$$\n",
    "A\\mathbf v =\n",
    "\\begin{pmatrix}\n",
    "3\\\\\n",
    "6\\\\\n",
    "0\\\\\n",
    "6\n",
    "\\end{pmatrix},\n",
    "B^t\\mathbf v =\n",
    "\\begin{pmatrix}\n",
    "0\\\\\n",
    "5\\\\\n",
    "3\\\\\n",
    "2\\\\\n",
    "\\end{pmatrix},\n",
    "\\mathbf v^t A \\mathbf v = 42\n",
    "$$"
   ]
  },
  {
   "cell_type": "markdown",
   "metadata": {},
   "source": [
    "### Câu hỏi 3: (Nghịch đảo ma trận)\n",
    "Tính $(A+I_4)^{-1}$, trong đó $I_4$ là ma trận đơn vị cấp 4\n",
    "\n",
    "**Kết quả:**\n",
    "$$\n",
    "\\begin{pmatrix}\n",
    "1.625 & -0.375 & -0.5 & -0.25 \\\\\n",
    "-0.625 & 0.375 & 0.5 & 0.25 \\\\\n",
    "-0.125 & -0.125 & 0.5 & 0.25 \\\\\n",
    "1.375 & -0.625 & -0.5 & 0.25\n",
    "\\end{pmatrix}\n",
    "$$"
   ]
  },
  {
   "cell_type": "markdown",
   "metadata": {},
   "source": [
    "### Câu hỏi 4: (SVD)\n",
    "Gọi $C$ là ma trận 3x4 được tạo bởi 3 hàng đầu của ma trận $A$. Tìm một ma trận trực giao $U$ cấp 3x3, một ma trận $\\Sigma$ cấp 3x4 có dạng \"đường chéo\" (tức có phần tử $a_{ij}=0$ nếu $i \\neq j$) và một ma trận trực giao $V$ cấp 4x4 sao cho $C = U\\Sigma V^t$. (Singular value decomposition)\n",
    "\n",
    "**Một kết quả:**\n",
    "$$\n",
    "\\begin{pmatrix}\n",
    " 0 & 1 & 0 & 0 \\\\\n",
    " 1 & 2 & -2 & 0 \\\\\n",
    " 1 & 0 & 1 & -1 \\\\\n",
    "\\end{pmatrix} \n",
    "= \n",
    "\\begin{pmatrix}\n",
    "-0.223716    & 0.12705277 & -0.9663378  \\\\\n",
    "-0.96370632  & 0.11935282 &  0.23879913 \\\\\n",
    " 0.14567523  & 0.98468904 &  0.09574042\n",
    "\\end{pmatrix}\n",
    "\\begin{pmatrix}\n",
    "3.10087793 & 0.         & 0.        &  0.     \\\\\n",
    "0.         & 1.69670014 & 0.        &  0.     \\\\\n",
    "0.         & 0.         & 0.71117135&  0.     \n",
    "\\end{pmatrix}\n",
    "\\begin{pmatrix}\n",
    "-0.26380629  & 0.65069946 &  0.47040639 & 0.53452248 \\\\\n",
    "-0.693716    & 0.21557044 & -0.68723176 & 0.         \\\\\n",
    " 0.66854869  & 0.4396672  & -0.53694211 & 0.26726124 \\\\\n",
    "-0.04697871  &-0.58035537 & -0.13462356 & 0.80178373 \n",
    "\\end{pmatrix}^t\n",
    "$$"
   ]
  },
  {
   "cell_type": "markdown",
   "metadata": {},
   "source": [
    "### Câu hỏi 5: (Chéo hoá ma trận)\n",
    "Tìm một ma trận $Q$ cấp $4 \\times 4$ và một ma trận đường chéo $D$ cấp 4 sao cho $Q^{-1}AQ = D$. Từ đó suy ra các giá trị riêng và một cơ sở gồm các vector riêng của $A$. Suy ra hạng của $A$.\n",
    "\n",
    "**Một kết quả:**\n",
    "$$\n",
    "Q = \\begin{pmatrix}\n",
    "-0.5 & -0.5 & 0.5 & 0.2236 \\\\\n",
    "0 & 0 & 0.5 & 0.6708 \\\\\n",
    "-0.2673 & -0.2673 & 0.5 & -0.2236 \\\\\n",
    "-0.8018 & -0.8018 & 0.5 & 0.6708\n",
    "\\end{pmatrix},\n",
    "D = \\begin{pmatrix}\n",
    "0 & 0 & 0 & 0 \\\\\n",
    "0 & 0 & 0 & 0 \\\\\n",
    "0 & 0 & 1 & 0 \\\\\n",
    "0 & 0 & 0 & 3 \\\\\n",
    "\\end{pmatrix}\n",
    "$$"
   ]
  },
  {
   "cell_type": "markdown",
   "metadata": {},
   "source": [
    "### Câu hỏi 6: (Tìm đa thức đặc trưng)\n",
    "Tìm đa thức đặc trưng của $A$. Suy ra định thức và trace của $A$. Thử tìm định thức và trace trực tiếp bằng hàm trong numpy.\n",
    "\n",
    "**Kết quả**\n",
    "$$P_A(X) = X^4 - 4X^3 + 3X^2$$"
   ]
  },
  {
   "cell_type": "markdown",
   "metadata": {},
   "source": [
    "### Câu hỏi 7: (Giải hệ phương trình).\n",
    "Tìm $\\mathbf x \\in \\mathbf R^4$ sao cho $(A + I_4)\\mathbf x = \\mathbf v$.\n",
    "\n",
    "**Kết quả**\n",
    "$$\\mathbf x =  (0.875 \\qquad 1.125 \\qquad 0.625 \\qquad 1.125)^t. $$"
   ]
  },
  {
   "cell_type": "markdown",
   "metadata": {},
   "source": [
    "## B. Giải tích thực"
   ]
  },
  {
   "cell_type": "markdown",
   "metadata": {},
   "source": [
    "Cho\n",
    "$$\n",
    "f(x) = 4\\sin x - \\cos x + 2e^{-3x^2} + \\frac1 x \n",
    "$$\n",
    "$$\n",
    "F(x, y) = \\frac{(x-y)^2}{x^2 + y^2}\n",
    "$$"
   ]
  },
  {
   "cell_type": "markdown",
   "metadata": {},
   "source": [
    "### Câu hỏi 8: (Đạo hàm)\n",
    "Tính đạo hàm cấp 1, 2, 3, 4 của $f(x)$ tại $x = 3$.\n",
    "\n",
    "**Kết quả**\n",
    "$$\n",
    "-3.92996109022, -1.47992729183, 3413.93580072, -3774758283.73\n",
    "$$"
   ]
  },
  {
   "cell_type": "markdown",
   "metadata": {},
   "source": [
    "### Câu hỏi 9: (Đạo hàm hàm nhiều biến)\n",
    "Tính gradient của $F$ tại $(x, y) = (1, -2)$.\n",
    "\n",
    "**Kết quả:**\n",
    "$$\n",
    "(0.48, 0.24)^t\n",
    "$$"
   ]
  },
  {
   "cell_type": "code",
   "execution_count": null,
   "metadata": {
    "collapsed": true
   },
   "outputs": [],
   "source": []
  },
  {
   "cell_type": "code",
   "execution_count": null,
   "metadata": {
    "collapsed": true
   },
   "outputs": [],
   "source": [
    "Ch"
   ]
  },
  {
   "cell_type": "markdown",
   "metadata": {},
   "source": [
    "7. Tìm giới hạn\n",
    "8. Tính đạo hàm\n",
    "9. Tính tích phân\n",
    "10. Tìm cực trị địa phương\n",
    "11. Tìm giá trị lớn nhất và nhỏ nhất của hàm\n",
    "12. Tính gradient\n",
    "13. Tính tích phân\n",
    "14. Hàm Beta và Gamma\n",
    "15. Phân phối Bernoulli\n",
    "16. Phân phối chuẩn tắc\n",
    "17. Phân phối Poisson\n",
    "18. Phân phối hàm mũ\n",
    "19. Monte-Carlo"
   ]
  },
  {
   "cell_type": "markdown",
   "metadata": {},
   "source": [
    "# Phần 2 - Vnexpress"
   ]
  },
  {
   "cell_type": "code",
   "execution_count": null,
   "metadata": {
    "collapsed": true
   },
   "outputs": [],
   "source": []
  }
 ],
 "metadata": {
  "kernelspec": {
   "display_name": "Python 2",
   "language": "python",
   "name": "python2"
  },
  "language_info": {
   "codemirror_mode": {
    "name": "ipython",
    "version": 2
   },
   "file_extension": ".py",
   "mimetype": "text/x-python",
   "name": "python",
   "nbconvert_exporter": "python",
   "pygments_lexer": "ipython2",
   "version": "2.7.13"
  }
 },
 "nbformat": 4,
 "nbformat_minor": 0
}
