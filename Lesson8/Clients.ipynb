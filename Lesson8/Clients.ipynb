{
 "cells": [
  {
   "cell_type": "code",
   "execution_count": 57,
   "metadata": {
    "collapsed": true
   },
   "outputs": [],
   "source": [
    "f = open(\"CLIENTS.csv\")\n",
    "s = f.read()\n",
    "s = s.replace(\";.\", \";\")\n",
    "g = open(\"NEW_CLIENTS.csv\", \"w\")\n",
    "g.write(s)\n",
    "g.close()"
   ]
  },
  {
   "cell_type": "code",
   "execution_count": 58,
   "metadata": {
    "collapsed": false
   },
   "outputs": [
    {
     "name": "stdout",
     "output_type": "stream",
     "text": [
      "[1, 3, 6, 8, 28, 29, 40]\n"
     ]
    },
    {
     "data": {
      "text/plain": [
       "1        GOOD\n",
       "2        GOOD\n",
       "3        GOOD\n",
       "4        GOOD\n",
       "5        GOOD\n",
       "6        GOOD\n",
       "7        GOOD\n",
       "8        GOOD\n",
       "9        GOOD\n",
       "10       GOOD\n",
       "11       GOOD\n",
       "12       GOOD\n",
       "13       GOOD\n",
       "14        BAD\n",
       "15       GOOD\n",
       "16       GOOD\n",
       "17       GOOD\n",
       "18       GOOD\n",
       "19       GOOD\n",
       "20       GOOD\n",
       "21       GOOD\n",
       "22       GOOD\n",
       "23       GOOD\n",
       "24       GOOD\n",
       "25       GOOD\n",
       "26       GOOD\n",
       "27       GOOD\n",
       "28       GOOD\n",
       "30       GOOD\n",
       "31       GOOD\n",
       "         ... \n",
       "20118    GOOD\n",
       "20119    GOOD\n",
       "20121    GOOD\n",
       "20122    GOOD\n",
       "20124    GOOD\n",
       "20125    GOOD\n",
       "20126    GOOD\n",
       "20127    GOOD\n",
       "20128    GOOD\n",
       "20129    GOOD\n",
       "20130    GOOD\n",
       "20131    GOOD\n",
       "20132    GOOD\n",
       "20133    GOOD\n",
       "20135    GOOD\n",
       "20136    GOOD\n",
       "20137    GOOD\n",
       "20138    GOOD\n",
       "20139    GOOD\n",
       "20140    GOOD\n",
       "20141    GOOD\n",
       "20142    GOOD\n",
       "20143    GOOD\n",
       "20144    GOOD\n",
       "20145    GOOD\n",
       "20146    GOOD\n",
       "20147    GOOD\n",
       "20149    GOOD\n",
       "20151    GOOD\n",
       "20152    GOOD\n",
       "Name: PERF_class, dtype: object"
      ]
     },
     "execution_count": 58,
     "metadata": {},
     "output_type": "execute_result"
    }
   ],
   "source": [
    "import pandas as pd\n",
    "import numpy as np\n",
    "\n",
    "X = pd.read_csv(\"NEW_CLIENTS.csv\", sep=\";\")\n",
    "X = X[X[\"PERF_class\"] != \"EXCL\"]\n",
    "y = X[\"PERF_class\"]\n",
    "X = X.drop([\"ID\", \"PERF_class\", \"PERF_situation\"], axis = 1)\n",
    "to_drop = []\n",
    "\n",
    "for i in range(len(X.columns)):\n",
    "    if ((X.iloc[:, i].count() - list(X.iloc[:, i]).count(\".\")) / float(len(X))) < 0.9:\n",
    "        to_drop.append(i)\n",
    "\n",
    "\n",
    "print to_drop\n",
    "\n",
    "for i in reversed(to_drop):\n",
    "    X = X.drop(X.columns[i], axis = 1)\n",
    "\n",
    "\n",
    "for i in range(len(X.columns)):\n",
    "    if np.issubdtype(X.iloc[:, i].dtype, np.number):\n",
    "        X.iloc[:,i] = X.iloc[:, i].fillna(X.iloc[:, i].mean())\n",
    "    else:\n",
    "        X.iloc[:,i] = X.iloc[:, i].fillna(X.iloc[:, i].value_counts().index[0])\n",
    "        \n",
    "        \n",
    "from sklearn.preprocessing import LabelBinarizer\n",
    "lb = LabelBinarizer()\n",
    "\n",
    "for column in X.columns:\n",
    "    if ( not np.issubdtype(X.loc[:, column].dtype, np.number)):\n",
    "        lb_results = lb.fit_transform(X.loc[:, column])\n",
    "        for i in range(len(lb_results[0])):\n",
    "            X.insert(len(X.columns), column + str(i), lb_results[:, i])\n",
    "        X = X.drop(column, axis = 1)\n",
    "\n",
    "#print(X.iloc[20130, :])\n",
    "\n",
    "#X.head()\n",
    "#X.iloc[:, 5].value_counts()\n",
    "y"
   ]
  },
  {
   "cell_type": "code",
   "execution_count": 77,
   "metadata": {
    "collapsed": false
   },
   "outputs": [
    {
     "name": "stdout",
     "output_type": "stream",
     "text": [
      "[1, 532]\n",
      "[18045, 532]\n"
     ]
    }
   ],
   "source": [
    "from sklearn.linear_model import LogisticRegression\n",
    "\n",
    "my_model = LogisticRegression()\n",
    "my_model.fit(X, y)\n",
    "\n",
    "#print(my_model.coef_[0])\n",
    "#print(my_model.intercept_[0])\n",
    "\n",
    "prediction = my_model.predict( X )\n",
    "\n",
    "error = [0, 0]\n",
    "total = [0, 0]\n",
    "for i in range(len(X)):\n",
    "    if y.iloc[i] == \"GOOD\":\n",
    "        total[0] += 1\n",
    "        if prediction[i] == \"BAD\":\n",
    "            error[0] += 1\n",
    "    else:\n",
    "        total[1] += 1\n",
    "        if prediction[i] == \"GOOD\":\n",
    "            error[1] += 1\n",
    "\n",
    "print(error)\n",
    "print(total)"
   ]
  },
  {
   "cell_type": "code",
   "execution_count": null,
   "metadata": {
    "collapsed": true
   },
   "outputs": [],
   "source": []
  }
 ],
 "metadata": {
  "kernelspec": {
   "display_name": "Python 2",
   "language": "python",
   "name": "python2"
  },
  "language_info": {
   "codemirror_mode": {
    "name": "ipython",
    "version": 2
   },
   "file_extension": ".py",
   "mimetype": "text/x-python",
   "name": "python",
   "nbconvert_exporter": "python",
   "pygments_lexer": "ipython2",
   "version": "2.7.13"
  }
 },
 "nbformat": 4,
 "nbformat_minor": 0
}
