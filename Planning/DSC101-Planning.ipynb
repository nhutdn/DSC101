{
 "cells": [
  {
   "cell_type": "markdown",
   "metadata": {},
   "source": [
    "# DSC101"
   ]
  },
  {
   "cell_type": "markdown",
   "metadata": {},
   "source": [
    "## Requirements"
   ]
  },
  {
   "cell_type": "markdown",
   "metadata": {},
   "source": [
    "- Have background in Mathematics (Linear Algebra, Analysis, Probability Theory)\n",
    "- Have Anaconda/Spyder installed\n",
    "- People with strong skills in programming, especially Python can skip amphi 1, 2, 3."
   ]
  },
  {
   "cell_type": "markdown",
   "metadata": {},
   "source": [
    "## Goal"
   ]
  },
  {
   "cell_type": "markdown",
   "metadata": {},
   "source": [
    "- Get familiar with basic programming in Python\n",
    "- Discover some basic problems and algorithms for supervised learning (regression, classification) and non-supervised learning (clustering, density estimation)\n",
    "- Know how to implement solutions for some (pseudo-)real machine learning problem."
   ]
  },
  {
   "cell_type": "markdown",
   "metadata": {},
   "source": [
    "## Organisation"
   ]
  },
  {
   "cell_type": "markdown",
   "metadata": {},
   "source": [
    "- 9 units (9 is the holly number of Ecole Polytechnique)\n",
    "- 1 unit = 1 amphi (lecture) + 0 or 1 PC (exercises) + 1 TD (pratical session, working with machines)\n",
    "- 1 TD is like a miniproject (200 - 500 code lines, 1/3 have already written)\n",
    "- No idea how long an unit should take, depending on the students.\n",
    "- Course repository: https://github.com/riduan91/DSC101/ (Solutions of PC exercises and TD problems may be available, but don't study them at the first visit)"
   ]
  },
  {
   "cell_type": "markdown",
   "metadata": {},
   "source": [
    "\n",
    "|    Unit    |    Amphi                                                                                                                                                                                                                                                                                                                                                    |    PC                                   |    TD                                                                              |\n",
    "|------------|-------------------------------------------------------------------------------------------------------------------------------------------------------------------------------------------------------------------------------------------------------------------------------------------------------------------------------------------------------------|-----------------------------------------|------------------------------------------------------------------------------------|\n",
    "|    1       |    **Introduction to   programming in Python**   <br>-          Type in Python: int, float,   string, list, tuple, dictionary   <br>-          Functions, lambda   <br>-          if   <br>-          for, while   <br>-          read and write to file   <br>-          csv, tsv, special characters                                                                                  |    No PC                                |    TD1 – History MCQ                                                               |\n",
    "|    2       |   **Class and   Instance in Python**   <br>-          Class and instance   <br>-          Attribute and methods   <br>-          Public vs private   <br>-          Compare attribute, mutability   <br>-          Class method, instant method,   static method                                                                                                                   |    No PC                                |    TD2 – Polynomial                                                                |\n",
    "|    3       |    **Useful libraries   in Python**   <br>-          numpy   <br>-          scipy   <br>-          pandas: read csv   <br>-          matplotlib   <br>-          url   <br>-          BeautifulSoup, xmlparser   <br>-          sys                                                                                                                                                         |    No PC                                |    TD3 – Vnexpress [1] – Retrieve article, paragraphs,   sentences, words          |\n",
    "|    4       |    **Algorithms and   complexity**   <br>-          Basic operations’ complexity for   number and for matrix   <br>-          Recurrence   <br>-          Divide and conquest. The master   theorem   <br>-          Monte Carlo method   <br>-          Exception handling   <br>-          Short introduction to concurrence   programming                                            |    PC4 – Algorithms and   complexity    |    TD4 – Noughts and Crosses                                                       |\n",
    "|    5       |    **Clustering [1] –   K-mean**   <br>-          Machine learning, what is it?   <br>-          Supervised vs unsupervised   <br>-          Applications   <br>-          Parameters vs non-parameters   <br>-          Unsupervised problems –   Clustering   <br>-          K-mean   <br>-          Introduction to text mining                                                          |    PC5 (to be   announced)              |    TD5 – Vnexpress [2] – Vocabulary fields                                         |\n",
    "|    6       |    **Regression [1] –   Linear Regression**   <br>-          Linear Regression problem   <br>-          Differentiation on matrices   <br>-          Closed form   <br>-          Gradient descent   <br>-          Learning and prediction   <br>-          Feature scaling, feature   selection                                                                                       |    PC6                                  |    TD6 – VNIndex                                                                   |\n",
    "|    7       |    **Regression [2] –   From Linear Regression to Polynomial Regressio**n   <br>-          Probabilistic model for Linear   Regression. Maximum   likelihood   <br>-          Bayesian view   <br>-          Other function forms   <br>-          Polynomial regressions, new   features creations   <br>-          Overfitting   <br>-          Solve overfitting: Ridge and Lasso    |    PC7                                  |    TD7 – To be announced                                                                          |\n",
    "|    8       |    **Classification [1]   – Logistic Regression**   <br>-          Maximum likelihood   <br>-          Loss function in classification   <br>-          Logistic regression   <br>-          Newton’s method   <br>-          Second order method   <br>-          Feature selection   <br>-          Categorical feature                                                                   |    PC8                                  |    TD8 – Vnexpress [3]: Social news or Sport news?                                 |\n",
    "|    9       |    **Classification [2]   – More models**   <br>-          K-nearest neighbors   <br>-          Naïve Bayesian   <br>-          LDA   <br>-          QDA   <br>-          Terminologies   <br>-          ROC   <br>-          Overfitting   <br>-          Cross validation                                                                                                                     |    PC9                                  |    TD9 – Candidate evaluation in DongHanh Association (1)   – Digit recognition    |"
   ]
  },
  {
   "cell_type": "code",
   "execution_count": null,
   "metadata": {
    "collapsed": true
   },
   "outputs": [],
   "source": []
  }
 ],
 "metadata": {
  "kernelspec": {
   "display_name": "Python 2",
   "language": "python",
   "name": "python2"
  },
  "language_info": {
   "codemirror_mode": {
    "name": "ipython",
    "version": 2
   },
   "file_extension": ".py",
   "mimetype": "text/x-python",
   "name": "python",
   "nbconvert_exporter": "python",
   "pygments_lexer": "ipython2",
   "version": "2.7.13"
  }
 },
 "nbformat": 4,
 "nbformat_minor": 0
}
