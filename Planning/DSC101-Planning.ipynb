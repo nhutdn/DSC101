{
 "cells": [
  {
   "cell_type": "markdown",
   "metadata": {},
   "source": [
    "# DSC101"
   ]
  },
  {
   "cell_type": "markdown",
   "metadata": {},
   "source": [
    "## Requirements"
   ]
  },
  {
   "cell_type": "markdown",
   "metadata": {},
   "source": [
    "- Have background in Mathematics (Linear Algebra, Analysis, Probability Theory)\n",
    "- Have Anaconda/Spyder installed\n",
    "- People with strong skills in programming, especially Python can skip amphi 1, 2, 3."
   ]
  },
  {
   "cell_type": "markdown",
   "metadata": {},
   "source": [
    "## Goal"
   ]
  },
  {
   "cell_type": "markdown",
   "metadata": {},
   "source": [
    "- Get familiar with basic programming in Python\n",
    "- Discover some basic problems and algorithms for supervised learning (regression, classification) and non-supervised learning (clustering, density estimation)\n",
    "- Know how to implement solutions for some (pseudo-)real machine learning problem."
   ]
  },
  {
   "cell_type": "markdown",
   "metadata": {},
   "source": [
    "## Organisation"
   ]
  },
  {
   "cell_type": "markdown",
   "metadata": {},
   "source": [
    "- 9 units (9 is the holly number of Ecole Polytechnique)\n",
    "- 1 unit = 1 amphi (lecture) + 0 or 1 PC (exercises) + 1 TD (pratical session, working with machines)\n",
    "- 1 TD is like a miniproject (200 - 500 code lines, 1/3 have already been written)\n",
    "- No idea how long an unit should take, depending on the students.\n",
    "- Course repository: https://github.com/riduan91/DSC101/\n",
    "- Solutions of PC exercises and TD problems may be available, but don't study them at the first visit."
   ]
  },
  {
   "cell_type": "markdown",
   "metadata": {},
   "source": [
    "<style>\n",
    "    table, tr, th, td {\n",
    "        text-align: left;\n",
    "    }\n",
    "</style>\n",
    "\n",
    "| Unit \t| Amphi                                                                                                                                                                                                                                                                                                                                                                                                                        \t| TD                                                                     \t|\n",
    "| :----\t| :----------------------------------------------------------------------------------------------------------------------------------------------------------------------------------------------------------------------------------------------------------------------------------------------------------------------------------------------------------------------------------------------------------------------------\t| :----------------------------------------------------------------------\t|\n",
    "| 1    \t| **Introduction to programming in Python**  <br> - Types: Numbers, string, interable(tuple, list, set, dictionary) <br> - Functions <br> - Decision, Looping <br> - Module                                                                                                                                                                                                                                                        \t| TD1 – Trắc nghiệm lịch sử                                              \t|\n",
    "| 2    \t| **Classes and Instances** <br> - Classes, Instances <br> - Class attributes and instance attributes <br> - Class methods, instance methods, static methods <br> - Inheritance <br> - Exception Handling                                                                                                                                                                                                                          \t| TD2 – Đa thức một biến                                                 \t|\n",
    "| 3    \t| **Useful libraries in Python**  <br> - math <br> - random <br> - numpy <br> - scipy <br> - matplotlib <br> - BeautifulSoup <br> - urllib <br> - pandas <br> - os <br> - sys                                                                                                                                                                                                                                                      \t| TD3 – Làm việc với các thư viện Python                                 \t|\n",
    "| 4    \t| **Algorithms and complexity** <br> - Complexity Notions <br> - Recursion. The master theorem <br> - Arithmetic Operations <br> - Matrix Operations <br> - Abstract data type: Referential array, dynamic array, hash map, heap <br> - Sorting <br> - Operations on str, list, tuple, set, dict in Python <br> - Useful libraries in Python (cont'd): multiprocessing, copy, re (regular expression)                              \t| TD4 – Carô                                                             \t|\n",
    "| 5    \t| **Clustering [1] - K-Means and Hierarchical Clustering** <br> - Introduction to Machine Learning: Application, (Rough) Definition, Problems <br> - Clustering: An optimization approach <br> - K-Means and K-Means++: Algorithm, Implementation <br> - Agglomerative Hierarchical Clustering: Strategy, Metrics, Linkage, Dendogram <br> - Libraries in Python (cont'd): sklearn, scipy.sparse, unicode                          \t| TD5 – Chia nhóm các bài báo thời sự - xã hội (thể thao) trên VNExpress \t|\n",
    "| 6    \t| **Regression [1] – Linear Regression, Polynomial Regression, Ridge and Lasso** <br> - Linear Regression: ERM and Probability Representation, Closed Form Solution, Maximum Likelihood <br> - Training and Prediction Phase, Cross validation <br> - Polynomial Regression- The Bias-Variance Trade-off: Underfitting and Overfitting <br> - Feature Selection: Backward Elimination <br> - Regularization: Ridge and Lasso       \t| TD6 – Dự đoán giá Bitcoin                                              \t|\n",
    "| 7    \t| **Classification [1] - Basic Models for Binary Classification** <br> - The Statistical Learning Framework for Supervised Learning. Empirical Risk Minimization <br> - Fisher's Linear Discriminant. Example: 1D LDA <br> - Perceptron <br> - Probabilistic (Generic) Models: LDA, QDA, Gaussian Naive Bayes, Logistic Regression <br> - K-Nearest Neighbors                                                                      \t| TD7 – Đọc phiếu chấm học bổng Đồng Hành (1)                            \t|\n",
    "| 8    \t| **Classification [2]  <br> - From Binary to Multiclass Classification. Regularization. Evaluation** <br> - Strategies for Multiclass Classification: OVR, OVO, Hierarchical, Multinomial Distribution <br> - Regularization for Logistic Regression <br> - Evaluation criteria: Confusion Matrix, Accuray, TPR/TNR, Precision, Recall, F1, ROC AUC <br> - Criteria for multiclass classification: micro&macro-precison/recall/F1 \t| TD8 – Đọc phiếu chấm học bổng Đồng Hành (2)                            \t|\n",
    "| 9    \t| **Regression[2] and Classification [3] – Support Vector Machine. Introduction to Kernel Methods** <br> - SVM for Classification: Margin, Binary linearly separable problems, non-separable problems (soft margin) <br> - CSP problems for SVC, Lagrange duality problem, solution <br> - Support vectors <br> - SVM for Regression <br> - Kernel methods: Idea and mostly used kernels                                           \t| TD9 – Nhận diện gương mặt một số ca sĩ Việt Nam                        \t|"
   ]
  },
  {
   "cell_type": "markdown",
   "metadata": {},
   "source": [
    "## Attention: Difference between Python 2 and 3"
   ]
  },
  {
   "cell_type": "markdown",
   "metadata": {},
   "source": [
    "http://apprendre-python.com/page-syntaxe-differente-python2-python3-python-differences"
   ]
  }
 ],
 "metadata": {
  "kernelspec": {
   "display_name": "Python 3",
   "language": "python",
   "name": "python3"
  },
  "language_info": {
   "codemirror_mode": {
    "name": "ipython",
    "version": 3
   },
   "file_extension": ".py",
   "mimetype": "text/x-python",
   "name": "python",
   "nbconvert_exporter": "python",
   "pygments_lexer": "ipython3",
   "version": "3.6.4"
  }
 },
 "nbformat": 4,
 "nbformat_minor": 1
}
