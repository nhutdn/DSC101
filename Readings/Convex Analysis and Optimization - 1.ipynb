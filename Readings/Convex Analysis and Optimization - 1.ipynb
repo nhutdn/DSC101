{
 "cells": [
  {
   "cell_type": "markdown",
   "metadata": {},
   "source": [
    "# Amphi 1 - Convex Sets and Convex Functions"
   ]
  },
  {
   "cell_type": "markdown",
   "metadata": {},
   "source": [
    "# 1. Convex Sets"
   ]
  },
  {
   "cell_type": "markdown",
   "metadata": {},
   "source": [
    "**Definition 1.**\n",
    "\n",
    "*A subset $K$ of $\\mathbf R^n$ is called a convex set if*\n",
    "$$\n",
    "\\forall x, y \\in K, \\forall \\alpha \\in [0,1] : \\alpha  x + (1 - \\alpha) y \\in K\n",
    "$$"
   ]
  },
  {
   "cell_type": "markdown",
   "metadata": {},
   "source": [
    "# 2. Convex Functions\n",
    "\n",
    "## 2.1 Convex Functions\n",
    "\n",
    "**Definition 1.2a**\n",
    "\n",
    "*Let $K \\subset \\mathbf R^n$ be a convex set, a function $f: \\mathbf K \\to [-\\infty, +\\infty]$ is called **convex** if*\n",
    "\n",
    "$$\n",
    "\\forall x, y \\in K, \\forall \\alpha \\in [0,1]: f(\\alpha x + (1-\\alpha) y) \\leq \\alpha f(x) + (1-\\alpha) f(y)\n",
    "$$\n",
    "\n",
    "**Definition 1.2b**\n",
    "\n",
    "*Let $K \\subset \\mathbf R^n$ be a convex set, a function $f: \\mathbf K \\to [-\\infty, +\\infty]$ is called **strictly convex** * if\n",
    "$$\n",
    "\\forall x\\neq y \\in K, \\forall \\alpha \\in (0,1): f(\\alpha x + (1-\\alpha) y) < \\alpha f(x) + (1-\\alpha) f(y)\n",
    "$$"
   ]
  },
  {
   "cell_type": "code",
   "execution_count": 2,
   "metadata": {},
   "outputs": [
    {
     "data": {
      "text/plain": [
       "[<matplotlib.lines.Line2D at 0x8b9c9b0>]"
      ]
     },
     "execution_count": 2,
     "metadata": {},
     "output_type": "execute_result"
    }
   ],
   "source": [
    "import numpy as np\n",
    "import matplotlib.pyplot as plt\n",
    "\n",
    "def scatter_and_annotate(plt, X, Y, names, size = 12, deltaX = 0.1, deltaY = 0.1):\n",
    "    \"\"\"\n",
    "        deltaX, deltaY: move the annotation to the right and up\n",
    "    \"\"\"\n",
    "    plt.scatter(X, Y)\n",
    "    for x, y, n in zip(X, Y, names):\n",
    "        plt.annotate(n, (x + deltaX, y + deltaY), size=size)\n",
    "\n",
    "def f(x):\n",
    "    return x**2\n",
    "\n",
    "A = np.linspace(-1, 2, 20)\n",
    "x = -1\n",
    "y = 1.5\n",
    "alpha = 0.4\n",
    "beta = 1 - alpha\n",
    "z = alpha * x + beta * y\n",
    "\n",
    "plt.plot(A, f(A), \"r\")\n",
    "plt.plot([x, y], [f(x), f(y),], \"g\")\n",
    "scatter_and_annotate(plt, [x, y, z, z], [f(x), f(y), f(z), alpha * f(x) + beta * f(y)], [r\"$f(x)$\", r\"$f(y)$\", r\"$f(\\alpha x + (1-\\alpha) y)$\", r\"$\\alpha f(x) + (1-\\alpha) f(y)$\"])\n",
    "plt.plot([z, z], [f(z), alpha * f(x) + beta * f(y)], '--')"
   ]
  },
  {
   "cell_type": "markdown",
   "metadata": {},
   "source": [
    "## 2.2 Epigraph\n",
    "\n",
    "**Definition 1.3**\n",
    "*Let $K \\subset \\mathbf R^n$ be convex. The **epigraph** of a function $f: K \\to [-\\infty, +\\infty]$ is defined by the following subset of $\\mathbf R^n \\times \\mathbf R$ *\n",
    "\n",
    "$$\n",
    "\\mathrm{epi}(f) = \\{ (x, y) \\in \\mathbf R^n \\times \\mathbf R: y \\geq f(x) \\}\n",
    "$$"
   ]
  },
  {
   "cell_type": "code",
   "execution_count": 3,
   "metadata": {},
   "outputs": [
    {
     "data": {
      "text/plain": [
       "<matplotlib.legend.Legend at 0x8e50860>"
      ]
     },
     "execution_count": 3,
     "metadata": {},
     "output_type": "execute_result"
    },
    {
     "data": {
      "image/png": "[encoded data removed]",
      "text/plain": [
       "<matplotlib.figure.Figure at 0x8d81198>"
      ]
     },
     "metadata": {},
     "output_type": "display_data"
    }
   ],
   "source": [
    "Y = f(A)\n",
    "plt.plot(A, f(A), \"b\", label=r\"f\")\n",
    "plt.fill_between(A, Y, 4, where=Y <= 4, facecolor='skyblue')\n",
    "plt.annotate(r\"$epi(f)$\", (0, 2.5), size = 20, color=\"blue\")\n",
    "plt.legend()"
   ]
  },
  {
   "cell_type": "markdown",
   "metadata": {},
   "source": [
    "**Proposition 1.4**\n",
    "\n",
    "*Let $K \\subset \\mathbf R^n$ be a convex set and $f: K \\to [-\\infty, +\\infty]$ be a function. Then $f$ is a convex set iff $\\mathrm{epi} (f)$ is a convex subset of $\\mathbf R^{n+1}$.*\n",
    "\n",
    "**Proof**\n",
    "\n",
    "($\\Rightarrow$)\n",
    "\n",
    "$f$ is convex. Let $X_1 = (x_1, y_1), X_2 = (x_2, y_2)$ in $\\mathrm{epi} (f)$ and $\\alpha \\in [0,1]$, let \n",
    "$$\n",
    "X = (x, y) := \\alpha X_1 + (1-\\alpha) X_2 = (\\alpha x_1 + (1-\\alpha) x_2, (\\alpha y_1 + (1-\\alpha) y_2)\n",
    "$$ \n",
    "Then\n",
    "$$\n",
    "y = \\alpha y_1 + (1-\\alpha) y_2 \\geq \\alpha f(x_1) + (1-\\alpha) f(x_2) \\geq f(\\alpha x_1 + (1-\\alpha x_2) = f(x). \n",
    "$$\n",
    "Hence $X \\in \\mathrm{epi} (f)$.\n",
    "\n",
    "($\\Leftarrow$)\n",
    "\n",
    "$\\mathrm{epi} (f)$ is convex. Let $x_1, x_2 \\in K$, $x = \\alpha x_1 + (1-\\alpha) x_2$. If $f(x_1), f(x_2) < +\\infty$ then $(x_1, f(x_1)), (x_2, f(x_2))$ belong to $\\mathrm{epi} (f)$, hence $(x, \\alpha f(x_1) + (1-\\alpha) f(x_2))$ to $\\mathrm{epi} (f)$ by convexity of this graph, which means \n",
    "\n",
    "$$\n",
    "\\alpha f(x_1) + (1-\\alpha) f(x_2) \\geq f(x)\n",
    "$$\n",
    "\n",
    "If $f(x_1)$ or $f(x_2) = +\\infty$, the above inequality is evident.\n",
    "This means $f$ is convex."
   ]
  },
  {
   "cell_type": "code",
   "execution_count": 4,
   "metadata": {},
   "outputs": [
    {
     "data": {
      "text/plain": [
       "<matplotlib.legend.Legend at 0x8ed99e8>"
      ]
     },
     "execution_count": 4,
     "metadata": {},
     "output_type": "execute_result"
    },
    {
     "data": {
      "image/png": "[encoded data removed]",
      "text/plain": [
       "<matplotlib.figure.Figure at 0x8d81940>"
      ]
     },
     "metadata": {},
     "output_type": "display_data"
    }
   ],
   "source": [
    "Y = f(A)\n",
    "plt.plot(A, f(A), \"b\", label=r\"f\")\n",
    "plt.fill_between(A, Y, 4, where=Y <= 4, facecolor='skyblue')\n",
    "scatter_and_annotate(plt, [-0.5, 1.5, 0], [2, 3, 2.25], [r\"$y_1$\", r\"$y_2$\", r\"$y = \\alpha y_1 + (1-\\alpha) y_2$\"])\n",
    "plt.plot([-0.5, 1.5, 0], [2, 3, 2.25])\n",
    "scatter_and_annotate(plt, [-0.5, 1.5, 0], [f(-0.5), f(1.5), 0.75 * f(-0.5) + 0.25 * f(1.5)], [r\"$f(x_1)$\", r\"$f(x_2)$\", r\"$\\alpha f(x_1) + (1-\\alpha) f(x_2)$\"])\n",
    "plt.plot([-0.5, 1.5, 0], [f(-0.5), f(1.5), 0.75 * f(-0.5) + 0.25 * f(1.5)])\n",
    "scatter_and_annotate(plt, [0], [f(0)], [r\"$f(\\alpha x_1 + (1-\\alpha) x_2)$\"])\n",
    "plt.plot([0, 0], [f(0), 2.25], 'g--')\n",
    "plt.legend()"
   ]
  },
  {
   "cell_type": "markdown",
   "metadata": {},
   "source": [
    "## 2.3 Effective Domain\n",
    "\n",
    "**Definition 1.5**\n",
    "\n",
    "*The effective domain of a function $f: X\\subset \\mathbf R^n \\to [-\\infty, +\\infty]$ is $\\mathrm dom (f) = \\{x \\in X : f(x) < +\\infty \\}$.*\n",
    "\n",
    "\n",
    "For example, the function \n",
    "$$\\mathbf I_{S} = \\begin{cases} 0, \\qquad if x \\in S \\\\ +\\infty, \\qquad elsewhere \\end{cases}\n",
    "$$\n",
    "has $\\mathrm{dom} (\\mathbf I_S) = S$."
   ]
  },
  {
   "cell_type": "markdown",
   "metadata": {},
   "source": [
    "## 2.4 Lower Semi-continuity\n",
    "\n",
    "**Definition 1.6**\n",
    "*A function  $f: X\\subset \\mathbf R^n \\to [-\\infty, +\\infty]$ is called lower semi-continuous (lsc) at $x$ in X iff for all sequence $\\{x_n\\} \\subset X \\to x$,*\n",
    "$$\n",
    "f(x) \\leq \\lim\\inf \\limits_{n \\to +\\infty} f(x_n) \n",
    "$$"
   ]
  },
  {
   "cell_type": "code",
   "execution_count": 5,
   "metadata": {},
   "outputs": [
    {
     "data": {
      "text/plain": [
       "<matplotlib.legend.Legend at 0x8f624e0>"
      ]
     },
     "execution_count": 5,
     "metadata": {},
     "output_type": "execute_result"
    },
    {
     "data": {
      "image/png": "[encoded data removed]",
      "text/plain": [
       "<matplotlib.figure.Figure at 0x8f885c0>"
      ]
     },
     "metadata": {},
     "output_type": "display_data"
    }
   ],
   "source": [
    "def g(x):\n",
    "    \"\"\"\n",
    "    x^2 if x>=1, 0.5 elsewhere\n",
    "    \"\"\"\n",
    "    return x**2 * (x >= 0) - 1 * (x < 0)\n",
    "\n",
    "A_1 = np.linspace(-1, -0.01, 10)\n",
    "A_2 = np.linspace(0, 2, 21)\n",
    "Y_1 = g(A_1)\n",
    "Y_2 = g(A_2)\n",
    "A_all = list(A_1) + list(A_2)\n",
    "Y_all = list(Y_1) + list(Y_2)\n",
    "plt.plot(A_1, Y_1, \"b\", label=r\"$g(x) = x^2 if x\\geq 0, -1 if x < 0$\")\n",
    "plt.plot(A_2, Y_2, \"b\")\n",
    "plt.fill_between(A_all, Y_all, 4, where=np.array(Y_all) <= 4, facecolor='skyblue')\n",
    "plt.scatter(0, g(0))\n",
    "plt.annotate(r\"$epi(g)$\", (0, 2.5), size = 20, color=\"blue\")\n",
    "plt.title(\"This is not a lsc function\", color = 'red')\n",
    "plt.legend()"
   ]
  },
  {
   "cell_type": "code",
   "execution_count": 7,
   "metadata": {},
   "outputs": [
    {
     "data": {
      "text/plain": [
       "<matplotlib.legend.Legend at 0xa032b00>"
      ]
     },
     "execution_count": 7,
     "metadata": {},
     "output_type": "execute_result"
    },
    {
     "data": {
      "image/png": "[encoded data removed]",
      "text/plain": [
       "<matplotlib.figure.Figure at 0x903dfd0>"
      ]
     },
     "metadata": {},
     "output_type": "display_data"
    }
   ],
   "source": [
    "def h(x):\n",
    "    \"\"\"\n",
    "    x^2 if x>0, -1 elsewhere\n",
    "    \"\"\"\n",
    "    return x**2 * (x > 0) - 1 * (x <= 0)\n",
    "\n",
    "A_1 = np.linspace(-1, 0, 11)\n",
    "A_2 = np.linspace(0.01, 2, 200)\n",
    "Y_1 = h(A_1)\n",
    "Y_2 = h(A_2)\n",
    "A_all = list(A_1) + list(A_2)\n",
    "Y_all = list(Y_1) + list(Y_2)\n",
    "plt.plot(A_1, Y_1, \"b\", label=r\"$h(x) = x^2 if x> 0, -1 if x \\leq 0$\")\n",
    "plt.plot(A_2, Y_2, \"b\")\n",
    "plt.plot([0, 0], [-1, 0], \"b\")\n",
    "plt.fill_between(A_all, Y_all, 4, where=np.array(Y_all) <= 4, facecolor='skyblue')\n",
    "plt.scatter(0, h(0))\n",
    "plt.annotate(r\"$epi(h)$\", (0, 2.5), size = 20, color=\"blue\")\n",
    "plt.title(\"This is a lsc function\", color = 'red')\n",
    "plt.legend()"
   ]
  },
  {
   "cell_type": "markdown",
   "metadata": {},
   "source": [
    "**Proposition 1.7. Closeness of epigraph for functions defined on $\\mathbf R^n$ **\n",
    "\n",
    "*Let $f$ be a function $\\mathbf R^n \\to [-\\infty, \\infty]$. Then $f$ is lsc iff $\\mathrm{epi} (f)$ is closed.*\n",
    "\n",
    "**Proof**\n",
    "Exercise.\n",
    "\n",
    "**Proposition 1.8. Closeness of epigraph for functions defined on a closed subset of $\\mathbf R^n$ **\n",
    "\n",
    "*Let $f$ be a function $\\mathbf X \\subset R^n \\to [-\\infty, \\infty]$. If $f$ is lsc and $\\mathrm{dom} (f)$ is closed (in $\\mathbf R^n$), then $\\mathrm{epi} (f)$ is closed (in $\\mathbf R^{n+1})$.*\n",
    "\n",
    "**Proof**\n",
    "Exercise."
   ]
  },
  {
   "cell_type": "markdown",
   "metadata": {},
   "source": [
    "## 2.5 Proper Functions\n",
    "\n",
    "**Definition 1.7. **\n",
    "\n",
    "*A function $f: X \\subset \\mathbf R^n \\to [-\\infty, +\\infty]$. $f$ is called **proper** if $f(x) > -\\infty$ for all $x \\in X$ and $f(x) < +\\infty$ for at least one point. In other words, if $\\mathrm {epi} (f)$ is not empty and contains no vertical line. *"
   ]
  },
  {
   "cell_type": "markdown",
   "metadata": {},
   "source": [
    "## 2.6 Properties\n",
    "\n",
    "**Proposition 1.9**\n",
    "\t\n",
    "Let $f, g: \\mathbf R^n \\to (-\\infty, +\\infty]$ be convex (resp., closed) functions, $A: \\mathbf R^m \\to \\mathbf R^m$ a linear transformation, $a, b > 0$. Then:\n",
    "- $af + bg$ is a convex (resp., closed) function $\\mathbf R^n \\to (-\\infty, +\\infty]$\n",
    "- $x \\mapsto f(Ax)$ is a convex (resp., closed) function $\\mathbf R^m \\to (-\\infty, +\\infty]$\n",
    "\t\n",
    "Let $f_i (i \\in I)$ ($I$ is a set of index) be a family of convex (resp., closed) functions $\\mathbf R^n \\to (-\\infty, +\\infty]$. Then $f(x) = \\sup_i f_i(x)$ is a convex (resp., closed) function."
   ]
  },
  {
   "cell_type": "markdown",
   "metadata": {},
   "source": [
    "# 3 Convexity and Differentiability\n",
    "\n",
    "## 3.1 Differentiability of First Order\n",
    "\n",
    "**Proposition 1.10**\n",
    "\n",
    "*Let $K$ be a convex subset of $\\mathbf R^n$ and let $f$ be differentiable over $\\mathbf R^n$. Then $f$ is convex (resp., strictly convex) on $K$ iff*\n",
    "$$\n",
    "\\forall x, z \\in K: f(z) - f(x) \\geq f'(x) (z-x)\n",
    "$$\n",
    "\n",
    "*If the inequality in strict when $z\\neq x$, then $f$ is strictly convex.*\n",
    "\t\n",
    "**Proof**\n",
    "\n",
    "($\\Rightarrow$)\n",
    "\n",
    "Choose $x, z$ arbitrarily in $K$.\n",
    "\t\t\n",
    "Let $g(t) = f(x + t(z-x))$, then $g(0) = f(x), g(1) = f(z)$, $x + t(z-x) = tz + (1-t)x \\in K$ \n",
    "\n",
    "If $f$ is convex on $K$ \n",
    "\n",
    "$g(t) = f(tz + (1-t)x) \\leq tf(z) + (1-t)f(x) = g(1) + (g(1)- g(0))t$ for all $t \\in [0,1]$.\n",
    "That means\n",
    "$$\n",
    "\\forall t \\in (0,1): g(1) - g(0) \\geq \\frac{g(t) - g(0)}{t}\n",
    "$$\n",
    "Taking limits when $t \\to 0$ ($g$ is differentiable at 0 because $f$ is at $x$), we get\n",
    "$$\n",
    "g(1) - g(0) \\geq g'(0)\n",
    "$$\n",
    "Note that $g'(t) = (z-x)f'(x + t(z-x))$, hence $g'(0) = (z-x) f'(x)$. The above inequality becomes:\n",
    "$$\n",
    "f(z) - f(x) \\geq (z-x)f'(x)\n",
    "$$\n",
    "\t\n",
    "($\\Leftarrow$)\n",
    "\n",
    "Let $x, y \\in K$, $\\alpha \\in (0,1)$ and $z = \\alpha x + (1-\\alpha) y$. We have $z\\in K$ Then\n",
    "$$\n",
    "\\alpha f(x) + (1-\\alpha) f(y) - f(z) = \\alpha (f(x) - f(z)) + (1-\\alpha) (f(y) - f(z))\n",
    "$$\n",
    "\n",
    "$$\n",
    "\\geq \\alpha (x - z)f'(z) + (1-\\alpha)(y - z)f'(z) = 0\n",
    "$$\n",
    "\n",
    "This means \n",
    "$$\n",
    "\\alpha f(x) + (1-\\alpha) f(y) \\geq f(\\alpha x + (1-\\alpha) y)\n",
    "$$\n",
    "\n",
    "Hence $f$ is convex on $K$.\n",
    "For strict convexity, just repeat the argument with $x\\neq y$ and $>$ instead of $\\geq$. "
   ]
  },
  {
   "cell_type": "code",
   "execution_count": 8,
   "metadata": {},
   "outputs": [
    {
     "data": {
      "image/png": "[encoded data removed]",
      "text/plain": [
       "<matplotlib.figure.Figure at 0xa0a3080>"
      ]
     },
     "metadata": {},
     "output_type": "display_data"
    }
   ],
   "source": [
    "def f(x):\n",
    "    return x**2\n",
    "\n",
    "def tangent(x):\n",
    "    return 2*x - 1\n",
    "\n",
    "A = np.linspace(-1, 4, 30)\n",
    "\n",
    "plt.plot(A, f(A), \"r\", A, tangent(A), \"b\")\n",
    "scatter_and_annotate(plt, [1, 2.5, 2.5, 2.5], [tangent(1), tangent(2.5), f(2.5), 1], [\"$f(x)$\", \"$f'(x)(z-x) + f(x)$\", \"$f(z)$\", \"$f(x)$\"], deltaY = -1)\n",
    "plt.plot([1, 2.5, 2.5], [1, 1, f(2.5)], \"g--\")\n",
    "plt.title(r\"Illustration $f(z)-f(x) \\geq f'(x)(z-x)$, case $z > x$\")\n",
    "plt.show()"
   ]
  },
  {
   "cell_type": "markdown",
   "metadata": {},
   "source": [
    "This is equivalent to saying that the tangent is always beneath the graph."
   ]
  },
  {
   "cell_type": "markdown",
   "metadata": {},
   "source": [
    "**Proposition 1.11**\n",
    "\t\n",
    "*Let $K \\in \\mathbf R^n$ be a convex set, $f$ be a convex function differentiable over an open set containing $K$, then $x^\\star \\in K$ is a minimizer of $f$ on $K$ iff*\n",
    "\n",
    "$$\n",
    "\\forall x \\in K, f'(x^\\star) (x - x^\\star) \\geq 0\n",
    "$$\n",
    "\t\n",
    "**Proof**\n",
    "\n",
    "$(\\Rightarrow)$\n",
    "\t\n",
    "If \n",
    "$$\n",
    "f'(x^\\star) (x - x^\\star) < 0\n",
    "$$\n",
    "for some $x \\in K$. We have\n",
    "$$\n",
    "f'(x^\\star) (x - x^\\star) = \\lim_{t \\to 0+} \\frac{f(x^\\star + \\alpha (x - x^\\star)) - f(x^\\star)}{\\alpha} < 0\n",
    "$$\n",
    "Hence $f(x^\\star + \\alpha (x - x^\\star)) - f(x^\\star) < 0$ in a sufficiently small neighborhood of $x^\\star$ in $K$, contradicts the minimality of $x^\\star$.\n",
    "\t\n",
    "$ (\\Leftarrow)$\n",
    "\n",
    "If \n",
    "$$\n",
    "\\forall x \\in K, f'(x^\\star) (x - x^\\star) \\geq 0\n",
    "$$\n",
    "then \n",
    "$$\n",
    "f(x^\\star) \\leq f(x^\\star) + f'(x^\\star) (x - x^\\star) \\leq f(x) \n",
    "$$\n",
    "(by proposition 1.8)\n",
    "Hence $x^\\star$ is a minimizer of $f$ on $K$.\n",
    "\t"
   ]
  },
  {
   "cell_type": "markdown",
   "metadata": {},
   "source": [
    "## 3.2 Projection\n",
    "\n",
    "**Proposition 1.12**\n",
    "\n",
    "*Let $K$ be a convex, closed subset of $\\mathbf R^n$. For any $z \\in \\mathbf R^n$, there exists a unique $x^\\star \\in K$ that minimizes $\\Vert x - z\\Vert^2$. $x^\\star$ is called the projection of $z$ on $K$ (we write $x = p_K(z)$. It is the only point  $x$ that satisfies*\n",
    "$$\n",
    "\\forall y \\in K : (z - x)\\cdot (y - x) \\leq 0\n",
    "$$ \n",
    "\n",
    "**Proof**\n",
    "\n",
    "As $K$ is closed, there exists $x^\\star \\in K$ that minimizes $f(x) = \\Vert x - z \\Vert^2$. By proposition 1.11\n",
    "$$\n",
    "\\forall x \\in K: f'(x^\\star) \\cdot (x -x^\\star) \\geq 0\n",
    "$$\n",
    "i.e\n",
    "$$\n",
    "\\forall x \\in K: (x^\\star - z)\\cdot(x - x^\\star) \\geq 0\n",
    "$$\n",
    "For the uniqueness, if $x^{\\star\\star}$ is also a projection of $z$, choose $x = x^\\star$ and then $x=x^{\\star \\star}$\n",
    "$$\n",
    " (z - x^\\star)\\cdot (x^{\\star\\star} - x^\\star) \\leq 0, (z - x^{\\star\\star})\\cdot (x^\\star - x^{\\star\\star}) \\leq 0\n",
    "$$\n",
    "Adding side by side\n",
    "$$\n",
    "\\Vert x^\\star - x^{\\star\\star}\\Vert^2 \\leq 0\n",
    "$$\n",
    "Donc, $x^\\star = x^{\\star\\star}$"
   ]
  },
  {
   "cell_type": "markdown",
   "metadata": {},
   "source": [
    "## 3.3 Twice Differentiability\n",
    "\n",
    "**Proposition 1.13**"
   ]
  },
  {
   "cell_type": "markdown",
   "metadata": {},
   "source": [
    "# 4. Separation"
   ]
  },
  {
   "cell_type": "markdown",
   "metadata": {},
   "source": [
    "## 4.1 Proper Separation and Strong Separation\n",
    "\n",
    "**Definition 1.14**\n",
    "\n",
    "*Let $A, B \\subset \\mathbf R^n$*\n",
    "\n",
    "* A hyperplane $H : \\{ x\\in \\mathbf R^n : w \\cdot x = b\\}$ is said to **properly separate** $A$ and $B$ if*\n",
    "\n",
    "$$\n",
    "\\forall x \\in A: w \\cdot x \\geq b\n",
    "$$\n",
    "\n",
    "$$\n",
    "\\forall x \\in B: w \\cdot x \\leq b\n",
    "$$\n",
    "\n",
    "(or vice versa)\n",
    "* A hyperplane $H : \\{ x\\in \\mathbf R^n : w \\cdot x = b\\}$ is said to **strongly separate** $A$ and $B$ if there exists a $delta > 0$ such that*\n",
    "\n",
    "$$\n",
    "\\forall x \\in A: w \\cdot x \\geq b + \\delta\n",
    "$$\n",
    "\n",
    "$$\n",
    "\\forall x \\in B: w \\cdot x \\leq b - \\delta\n",
    "$$\n",
    "\n",
    "(or vice versa)"
   ]
  },
  {
   "cell_type": "markdown",
   "metadata": {},
   "source": [
    "## 4.2 Strong Separation Between a Point and a Closed, Convex Set\n",
    "\n",
    "**Proposition 1.15**\n",
    "\n",
    "*Let $K \\subset \\mathbf R^n$ be a non-empty closed, convex set and $z$ be a point that lies outside of $K$. Then there exists a hyperplane $H$ that strongly separates $\\{z\\}$ and $K$.*\n",
    "\n",
    "**Proof**\n",
    "\n",
    "Let $p = p_K(z)$, $w = z - p$\n",
    "\n",
    "Then for $y \\in K$, by proposition 1.12, we have\n",
    "$$\n",
    "(z - p)\\cdot (y - p) \\leq 0\n",
    "$$\n",
    "\n",
    "or\n",
    "$$\n",
    "w \\cdot y \\leq w \\cdot p\n",
    "$$\n",
    "\n",
    "while\n",
    "$$\n",
    "w \\cdot z = w \\cdot p + w \\cdot (z - p) = w \\cdot p + \\Vert w \\Vert^2\n",
    "$$\n",
    "\n",
    "Choose $b = w \\cdot p + \\frac12 \\Vert w \\Vert^2$ and $\\delta = \\frac12 \\Vert w \\Vert^2$, $w \\cdot x = b$ strongly separates $\\{z\\}$ and $K$ by definition."
   ]
  },
  {
   "cell_type": "markdown",
   "metadata": {},
   "source": [
    "**Corollary 1.16**\n",
    "\n",
    "*Let $K \\subset \\mathbf R^n$ be a non-empty convex set and $z$ be a point that lies outside of $K$, then there exists $w \\in \\mathbf R^n$ such that*\n",
    "$$\n",
    "\\forall y \\in K: w \\cdot y < w \\cdot z\n",
    "$$\n",
    "\n",
    "(Just choose $w = z - p_K(z)$)"
   ]
  },
  {
   "cell_type": "markdown",
   "metadata": {},
   "source": [
    "## 4.3 Supporting Hyperplane\n",
    "\n",
    "**Proposition 1.17**\n",
    "\n",
    "*Let $K \\subset \\mathbf R^n$ be a non-empty convex set and $z$ be a point that lies on the **boundary** of $K$. Then there exists a hyperplane $H$ that properly separates $z$ and $K$.*\n",
    "\n",
    "**Proof**\n",
    "\n",
    "Let $y$ be some point of $K$.\n",
    "\n",
    "Let $(z_n)$ be a sequence of points that lie outside of $K$ and tends to $z$. As $z_n$ lies outside of $K$, there exists $w_n \\in \\mathbf R^n$ such that \n",
    "\n",
    "$$\n",
    "w_n \\cdot y < w_n \\cdot z_n\n",
    "$$\n",
    "\n",
    "Let $u_n = w_n / \\Vert w_n \\Vert$. Divide both side by $\\Vert w_n \\Vert$ we have\n",
    "$$\n",
    "u_n \\cdot y < u_n \\cdot z_n \n",
    "$$\n",
    "\n",
    "As $(u_n)$ is a sequence of points in the compact set $S_1 = \\Vert x \\Vert = 1$, there exists a subsequence of $(u_n)$ that tends to $u \\in S_1$. Taking limits on this subsequence, we have\n",
    "\n",
    "$$\n",
    "u \\cdot y \\leq u \\cdot z\n",
    "$$\n",
    "\n",
    "Choose $w = u$, $b = u \\cdot z$, we have\n",
    "$$\n",
    "w \\cdot y \\leq b \n",
    "$$\n",
    "\n",
    "and\n",
    "$$\n",
    "w \\cdot z = b\n",
    "$$\n",
    "\n",
    "As $y$ is chosen arbitrarily, by definition, $w \\cdot x = b$ properly separates $K$ and $\\{ z \\}$."
   ]
  },
  {
   "cell_type": "markdown",
   "metadata": {},
   "source": [
    "# 5. Subdifferential\n",
    "\n",
    "## 5.1 Subdifferential\n",
    "\n",
    "**Definition 1.18**\n",
    "\n",
    "*Let $f: \\mathbf R^n \\to [-\\infty, +\\infty]$, $x \\in \\mathrm{dom}(f)$. A vector $\\phi \\in \\mathbf R^n$ is called a subgradient of $f$ at $x$ if*\n",
    "\n",
    "$$\n",
    "\\forall y \\in \\mathbf R^n, f(y) - f(x) \\geq (y - x) \\cdot \\phi \n",
    "$$\n",
    "\n",
    "*The **subdifferential** of $f$ at $x$, denoted by $\\partial f(x)$, is the set of all subgradient of $f$ at $x$.*\n",
    "\n",
    "*By convention, if $x \\notin \\mathrm{dom} (f)$, $\\partial f(x) = \\emptyset$.*\n",
    "\n",
    "**Examples**\n",
    "\n",
    "Let $f(x) = |x|$ ($\\mathbf R \\to \\mathbf R$) then $\\phi \\in \\partial f(x)$ iff\n",
    "$$\n",
    "\\forall y \\in \\mathbf R, |y| - |x| \\geq (y - x) \\phi\n",
    "$$\n",
    "\n",
    "If $x \\neq 0$, let $k = y/x - 1$, the above equality is equivalent to\n",
    "$$\n",
    "\\forall k \\in \\mathbf R, k|x| \\geq k\\phi x\n",
    "$$\n",
    "\n",
    "If $x > 0$, we have $kx (1-\\phi) \\geq 0$ for all $k \\in \\mathbf R$. This is true iff $\\phi = 1$. \n",
    "If $x < 0$, we have $kx (1+\\phi) \\geq 0$ for all $k \\in \\mathbf R$. This is true iff $\\phi = -1$.\n",
    "If $x = 0$, $\\phi \\in \\partial f(x)$ iff\n",
    "$$\n",
    "\\forall y \\in \\mathbf R, |y| \\geq y \\phi\n",
    "$$\n",
    "This is true iff $\\phi \\in [-1, 1]$.\n",
    "\n",
    "Hence\n",
    "\n",
    "$$\n",
    "\\partial f(x) = \\begin{cases}\n",
    "\\{1\\},  x > 0 \\\\\n",
    "\\{-1\\}, x < 0 \\\\\n",
    "[-1, 1], x = 0 \\\\\n",
    "\\end{cases}\n",
    "$$\n",
    "\n",
    "\n"
   ]
  },
  {
   "cell_type": "code",
   "execution_count": 10,
   "metadata": {},
   "outputs": [
    {
     "data": {
      "text/plain": [
       "[<matplotlib.lines.Line2D at 0x7d4f4e0>]"
      ]
     },
     "execution_count": 10,
     "metadata": {},
     "output_type": "execute_result"
    },
    {
     "data": {
      "image/png": "[encoded data removed]",
      "text/plain": [
       "<matplotlib.figure.Figure at 0xa1204a8>"
      ]
     },
     "metadata": {},
     "output_type": "display_data"
    }
   ],
   "source": [
    "def f(x):\n",
    "    return abs(x)\n",
    "\n",
    "A = np.linspace(-2, 2, 41)\n",
    "plt.plot(A, f(A))\n",
    "scatter_and_annotate(plt, [-1, 0, 1], [f(-1), f(0), f(1)], [\"x<0\", \"x=0\", \"x>0\"])\n",
    "plt.plot([-1, -1.5], [f(-1), f(-1.5)], 'r->')\n",
    "plt.plot([1, 1.5], [f(1), f(1.5)], 'g-<')\n",
    "plt.plot([0, -0.5], [f(0), 1 * f(-0.5)], 'b-<')\n",
    "plt.plot([0, -0.5], [f(0), 0.5 * f(-0.5)], 'b-<')\n",
    "plt.plot([0, -0.5], [f(0), 0 * f(-0.5)], 'b-<')\n",
    "plt.plot([0, -0.5], [f(0), -0.5 * f(-0.5)], 'b-<')\n",
    "plt.plot([0, -0.5], [f(0), -1 *f(-0.5)], 'b-<')\n",
    "plt.plot([0, 0.5], [f(0), -1 * f(0.5)], 'b->')\n",
    "plt.plot([0, 0.5], [f(0), -0.5 * f(0.5)], 'b->')\n",
    "plt.plot([0, 0.5], [f(0), 0 * f(0.5)], 'b->')\n",
    "plt.plot([0, 0.5], [f(0), 0.5 * f(0.5)], 'b->')\n",
    "plt.plot([0, 0.5], [f(0), 1 * f(0.5)], 'b->')"
   ]
  },
  {
   "cell_type": "markdown",
   "metadata": {},
   "source": [
    "## 5.2 Relative Interior\n",
    "\n",
    "**Definition 1.19**\n",
    "\n",
    "*Let $X \\in \\mathbf R^n$. The relative interior of $C$, denoted by $\\mathrm{relint} X$, is the interior of $X$ with respect to the smallest affine space that contains $X$.*\n",
    "\n",
    "**Proposition 1.20**\n",
    "\n",
    "*If $K \\in \\mathbf R^n$ is a non-empty convex set, then $\\mathrm{relint} X \\neq \\emptyset$*\n",
    "\n",
    "**Proof**\n",
    "Exercise."
   ]
  },
  {
   "cell_type": "markdown",
   "metadata": {},
   "source": [
    "## 5.3 Non-emptyness of Subdifferential of Convex Function\n",
    "\n",
    "**Proposition 1.21**\n",
    "\n",
    "*Let $f: \\mathbf R^n \\to [-\\infty, +\\infty]$ be a convex function and $x \\in \\mathrm{relint} (\\mathrm {dom} (f))$. Then $\\partial f (x)$ is non-empty.*\n",
    "\n",
    "**Proof**\n",
    "\n",
    "Let $x_0 \\mathrm{relint}(\\mathrm{dom} (f))$. If $f(x_0) = -\\infty$, we have\n",
    "\n",
    "$$\n",
    "\\forall \\phi \\in \\mathbf R^n, \\forall y \\in \\mathbf R^n:  f(y) - f(x) = +\\infty \\geq \\phi \\cdot (y - x)\n",
    "$$\n",
    "\n",
    "Hence $\\partial f(x_0) = \\mathbf R^n$.\n",
    "\n",
    "If $f(x_0) > -\\infty$, by replacing $f$ by $x \\mapsto f(x + x_0) - f(x_0)$, we can suppose that $x_0 = 0$ and $f(x_0) = 0$. For all $\\phi \\in \\mathbf R^n$, we have\n",
    "\n",
    "$$\n",
    "\\phi \\in \\partial f(0) \\Leftrightarrow \\forall x \\in \\mathbf R^n, \\phi \\cdot x \\leq f(x) \n",
    "$$\n",
    "\n",
    "$$\n",
    "\\Leftrightarrow \\forall x \\in \\mathrm {dom}(f), \\phi \\cdot x \\leq f(x)\n",
    "$$\n",
    "\n",
    "Let $\\mathcal A$ be the smallest affine space containing $\\mathrm{dom}(f)$. Then $\\mathcal A$ contains the origin, so it is an Euclidean vector space. Let $C$ be the closure of $\\mathrm{epi}(f) \\cap (\\mathcal A \\times \\mathbf R)$. The set $C$ is a convex closed set in $\\mathcal A \\in \\mathbf R$, endowed with the scalar product $(x, u) \\cdot (x', u') = x\\cdot x' + uu'$. The pair $(0, 0) = (x_0, f(x_0))$ belongs to the boundary of $C$, so by proposition 1.17 in $\\mathcal A \\times \\mathbf R$, there is a vector $w \\in \\mathcal A \\times \\mathbf R$ such that\n",
    "\n",
    "$$\n",
    "\\forall z \\in C, w \\cdot z \\leq 0\n",
    "$$\n",
    "\n",
    "Write $w = (\\phi, u) \\in \\mathcal A \\in \\mathbf R$. For $z = (x, t) \\in C$, we have\n",
    "$$\n",
    "\\phi \\cdot x + ut \\leq 0\n",
    "$$\n",
    "\n",
    "Let $x \\in \\mathrm {dom} (f)$ (that means $f(x) < \\infty$) and for all $t \\geq f(x)$, $(x, t) \\in C$. Thus,\n",
    "$$\n",
    "\\forall x\\in \\mathrm{dom} (f), \\forall t \\geq f(x), \\phi \\cdot x + ut \\leq 0.\n",
    "$$\n",
    "\n",
    "Let $t$ tend to $+\\infty$, we obtain $u \\leq 0$ \n",
    "\n",
    "Suppose by contradiction that $u = 0$, then $\\phi \\cdot x \\leq 0$ for all $x \\in \\mathrm{dom}(f)$. As $0 \\in \\mathrm{relint}(\\mathrm{dom}(f))$, there is a set $V$ open in $\\mathcal A$ such that $0 \\in V \\subset \\mathrm{dom}(f)$. For $x\\in \\mathcal A$, there is an $\\epsilon > 0$ such that $\\epsilon x \\in V$. As $\\phi \\cdot x + ut \\leq 0 \\forall x\\in \\mathrm{dom}(f), \\forall t \\geq f(x)$, we have $\\phi \\cdot \\epsilon x \\leq 0$, so $\\phi \\cdot x \\leq 0$. Similarly $\\phi \\cdot -x \\leq 0$. Therefore $\\phi \\cdot x \\equiv 0$ on $\\mathcal A$. Since $\\phi \\in \\mathcal A$, $\\phi = 0$ as well, so $w = 0$, contradiction !\n",
    "\n",
    "Therefore, $u < 0$. Dividing by $-u$, we have\n",
    "\n",
    "$$\n",
    "\\forall x \\in \\mathrm{dom}(f), \\forall t \\geq f(x), \\frac{-1}u \\phi \\cdot x \\leq f(x)\n",
    "$$\n",
    "\n",
    "So $\\frac{-1}u \\phi \\in \\partial f(0)$."
   ]
  },
  {
   "cell_type": "markdown",
   "metadata": {},
   "source": [
    "## 5.4 Differentiable Case\n",
    "\n",
    "**Proposition 1.22**\n",
    "\n",
    "*Let $f: \\mathbf R^n \\to (-\\infty, +\\infty]$ be a convex function, differentiable at $x$. Then $\\partial f(x) = \\{ f'(x) \\}$.*\n",
    "\n",
    "**Proof**\n",
    "\n",
    "If $f$ is differentiable at $x$ then $x$ belongs to $\\mathrm{int}(\\mathrm{dom} (f))$. Let $\\phi \\in \\partial f(x)$ and $t \\neq 0$. Then for all $y \\in \\mathrm{dom}(f), f(y) - f(x) \\geq \\phi \\cdot (y - x)$. Choose $y = x + t(\\phi - f'(x))$ which belongs to $\\mathrm{dom}(f)$ for $t$ small enough, we have\n",
    "\n",
    "$$\n",
    "\\frac {f(x + t(\\phi - f'(x)) - f(x)}t \\geq \\phi \\cdot (\\phi - f'(x))\n",
    "$$\n",
    "\n",
    "The left term converges to \n",
    "$$\n",
    "(f'(x) - \\phi) \\cdot (\\phi - f'(x)) \\geq 0\n",
    "$$\n",
    "\n",
    "So $\\phi = f'(x)$."
   ]
  },
  {
   "cell_type": "markdown",
   "metadata": {},
   "source": [
    "## 5.5 Fermat's Rule\n",
    "\n",
    "A point $x$ is called a minimizer of $f$ if $f(x) \\leq f(y)$ for all $y \\in \\mathbf R^n$. The set of minimizers of $f$ is denoted by $\\arg \\min (f)$ \n",
    "\n",
    "**Proposition 1.23**\n",
    "\n",
    "*Let $f: \\mathbf R^n \\to (-\\infty, +\\infty]$. $x \\in \\arg\\min f \\Leftrightarrow 0 \\in \\partial f(x)$.*\n",
    "\n",
    "**Proof**\n",
    "$$\n",
    "x\\in \\arg\\min f \\Leftrightarrow \\forall y \\in \\mathbf R^n, f(y) \\geq f(x) \\Leftrightarrow \\forall y \\in \\mathbf R^n, f(y) - f(x) \\geq 0 \\cdot (y - x) \\Leftrightarrow 0 \\in \\arg\\min f \n",
    "$$"
   ]
  },
  {
   "cell_type": "markdown",
   "metadata": {},
   "source": [
    "**Corollary 1.24**\n",
    "\n",
    "Let $f: \\mathbf R^n \\to (-\\infty, +\\infty]$ be a convex function, differential at $x$. Then $x \\in \\arg\\min f \\Leftrightarrow f'(x) = 0.$*"
   ]
  },
  {
   "cell_type": "markdown",
   "metadata": {},
   "source": [
    "**Proposition 1.25**\n",
    "\n",
    "*Let x be a local minimum of a convex function $f$, then $x$ is a global minimizer.*\n",
    "\n",
    "**Proof**\n",
    "\n",
    "By hypothesis, there exists an open ball $V \\subset \\mathbf R^n$ such that $x \\in V$ and for $u \\in V$, $f(x) \\leq f(u)$.\n",
    "\n",
    "Let $t$ small such that $u = x + t(y-x) \\in V$, then\n",
    "\n",
    "$$\n",
    "f(u) \\leq tf(y)+(1-t)f(x)\n",
    "$$\n",
    "\n",
    "That means\n",
    "$$\n",
    "f(y) \\geq \\frac1t f(u) - \\frac{1-t}t f(x) \\geq f(x)\n",
    "$$.\n",
    "\n",
    "So $x$ is a global minimizer."
   ]
  }
 ],
 "metadata": {
  "kernelspec": {
   "display_name": "Python 3",
   "language": "python",
   "name": "python3"
  },
  "language_info": {
   "codemirror_mode": {
    "name": "ipython",
    "version": 3
   },
   "file_extension": ".py",
   "mimetype": "text/x-python",
   "name": "python",
   "nbconvert_exporter": "python",
   "pygments_lexer": "ipython3",
   "version": "3.6.4"
  }
 },
 "nbformat": 4,
 "nbformat_minor": 2
}
