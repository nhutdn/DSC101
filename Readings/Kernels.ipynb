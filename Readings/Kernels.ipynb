{
 "cells": [
  {
   "cell_type": "markdown",
   "metadata": {},
   "source": [
    "# Kernel Methods"
   ]
  },
  {
   "cell_type": "markdown",
   "metadata": {},
   "source": [
    "## Idea\n",
    "\n",
    "The idea of kernel method is to define a comparison function from some set $\\mathcal X \\times\\mathcal X \\to \\mathbf R$ and represent a set of data points by the $n \\times n$ matrix\n",
    "\n",
    "$$\n",
    "[\\mathbf K]_{ij} = K(\\mathbf x_i, \\mathbf x_j)\n",
    "$$\n",
    "\n",
    "then by using $K$, we don't need $\\mathcal X$ to be a set of vectors, it can be string, images, etc"
   ]
  },
  {
   "cell_type": "markdown",
   "metadata": {},
   "source": [
    "# 1. Kernels and RKHS\n",
    "## 1.1 Positive Definite Kernels\n",
    "\n",
    "**Definition 1.1 - Positive Definite Kernels**\n",
    "\n",
    "*A **positive definite (p.d.) kernel** on a set $\\mathcal X$ is a function $K: \\mathcal X \\times\\mathcal X \\to \\mathbf R$ that is symmetric and satisfying *\n",
    "\n",
    "$$\\forall N \\in \\mathbf N, \\forall (\\mathbf x_1, \\ldots, \\mathbf x_N) \\in \\mathcal X^N, \\forall (a_1, \\ldots, a_N) \\in \\mathbf R^N:\\\\ \\sum_{i=1}^N\\sum_{j=1}^N a_i a_j K(\\mathbf x_i, \\mathbf x_j)\\geq 0$$\n",
    "\n",
    "*Equivalently, a p.d kernel is a function $K$ such that for any $N \\in \\mathbf N$, $(\\mathbf x_1, \\ldots, \\mathbf x_N)\\in \\mathcal X^N$, the **similarity matrix** (or **Gram matrix**)*\n",
    "$$\n",
    "[\\mathbf K]_{ij} = K(\\mathbf x_i, \\mathbf x_j)\n",
    "$$\n",
    "*is positive semidefinite*.\n",
    "\n",
    "**Convention**\n",
    "\n",
    "***Kernel methods** are algorithms taking such matrices as input.*"
   ]
  },
  {
   "cell_type": "markdown",
   "metadata": {},
   "source": [
    "## 1.2 Simplest Kernels\n",
    "\n",
    "**Lemma 1.2 - Dot-product kernels**\n",
    "\n",
    "*Let $\\mathcal X = \\mathbf R^d$. The function $K: \\mathcal X \\times \\mathcal X\\to \\mathbf R$ defined by *\n",
    "$$\n",
    "K(\\mathbf x, \\mathbf x') = \\mathbf x \\cdot \\mathbf x'\n",
    "$$\n",
    "*is p.d.*\n",
    "\n",
    "**Proof** (Linear Algebra)\n",
    "\n",
    "**Lemma 1.3 - Dot-product preceded by a mapping**\n",
    "\n",
    "*Let $\\mathcal X$ be any set, $\\Phi: \\mathcal X \\to \\mathbf R^d$, then the function $K: \\mathcal X\\times \\mathcal X \\to \\mathbf R$ defined by*\n",
    "$$\n",
    "K(\\mathbf x, \\mathbf x') = \\langle \\Phi(\\mathbf x), \\Phi(\\mathbf x')\\rangle_{\\mathbf R^d}\n",
    "$$\n",
    "*is a p.d kernel.*\n",
    "\n",
    "**Proof**\n",
    "\n",
    "Symmetry is obvious. \n",
    "$$\\sum_{i=1}^N \\sum_{j=1}^N a_i a_j \\langle \\Phi(\\mathbf x_i), \\Phi(\\mathbf x_j) \\rangle_{\\mathbf R^d} = \\Vert \\sum_{i=1}^N a_i \\Phi(x_i)\\Vert^2_{\\mathbf R^d} \\geq 0$$\n",
    "\n",
    "**Example - Polynomial kernels**\n",
    "\n",
    "We know that $K(\\mathbf x, \\mathbf x') = \\mathbf x\\cdot \\mathbf x'$ ($\\mathbf R^2 \\times \\mathbf R^2 \\to \\mathbf R$) is a kernel. Is $L = K^2$ a kernel? Suppose $\\mathbf x = (x_1, x_2)$, $\\mathbf x' = (x'_1, x'_2)$, we have\n",
    "$$\n",
    "L(\\mathbf x, \\mathbf x') = (x_1 x'_1 + x_2 x'_2)^2 = (x_1)^2 (x'_1)^2 + (x_2)^2 (x'_2)^2 + 2 x_1 x_2 x'_1 x'_2\n",
    "$$\n",
    "Choose $\\Phi(\\mathbf x) = (x_1^2, x_2^2, \\sqrt2 x_1 x_2)$ ($\\mathbf R^2 \\to \\mathbf R^3$), we have $L(\\mathbf x, \\mathbf x') = \\langle \\Phi(\\mathbf x), \\Phi(\\mathbf x')\\rangle_{\\mathbf R^3} $. By lemma 1.3, $L$ is a kernel.\n",
    "\n",
    "<img src=\"Kernel1.png\" width=400></img>"
   ]
  },
  {
   "cell_type": "markdown",
   "metadata": {},
   "source": [
    "## 1.3 Kernels are Inner Products\n",
    "\n",
    "**Theorem 1.4 (Aronszajn, 1950) - Kernels are Inner Products**\n",
    "\n",
    "*Let $X$ be any set. $K: \\mathcal X \\times \\mathcal X \\to \\mathbf R$ is a p.d kernel on $\\mathcal X$ iff there exists a Hilbert space $\\mathcal H$ and a mapping $\\Phi: \\mathcal X \\to \\mathcal H$ s.t. for any $\\mathbf x, \\mathbf x' \\in \\mathcal X$*\n",
    "\n",
    "$$\n",
    "K(\\mathbf x, \\mathbf x') = \\langle \\Phi(\\mathbf x), \\Phi(\\mathbf x')\\rangle_{\\mathcal H}\n",
    "$$\n",
    "\n",
    "**Proof** (Aronszajn (1944, 1950)"
   ]
  },
  {
   "cell_type": "markdown",
   "metadata": {},
   "source": [
    "## 1.4 Reproducting Kernel Hilbert Space (RKHS)\n",
    "\n",
    "**Definition 1.5 - RKHS**\n",
    "\n",
    "*Let $\\mathcal X$ be a set and $\\mathcal H \\subset \\mathbf R^\\mathcal X$ be a class of functions forming a (real) Hilbert space with inner product $\\langle \\cdot, \\cdot\\rangle_\\mathcal H$. The function $K: \\mathcal X^2 \\to \\mathbf R$ is called a reproducing kernel of $H$ if*\n",
    "\n",
    "- *$\\mathcal H$ contains all functions of the form $K_x = K(x, \\cdot)$.*\n",
    "- *For every $\\mathbf x \\in \\mathcal X$ and $f \\in \\mathcal H$, the **reproducing property** holds:*\n",
    "$$\n",
    "f(\\mathbf x) = \\langle f, K_x\\rangle_{\\mathbf H}\n",
    "$$\n",
    "\n",
    "*If a r.k. $K$ exists then $\\mathcal H$ is called the **reproducing kernel Hilbert space** (RKHS) of $K$.*\n",
    "\n",
    "**Theorem 1.6 - An equivalent definition of RKHS**\n",
    "\n",
    "*The Hilbert space $\\mathcal H \\subset \\mathbf R^\\mathcal X$ is a RKHS iff for any $\\mathbf x \\in \\mathcal X$, the mapping*\n",
    "$$\n",
    "\\mathbf F: \\mathcal H \\to \\mathbf R\\\\\n",
    "f \\mapsto f(\\mathbf x)\n",
    "$$\n",
    "\n",
    "*is continuous.*\n",
    "\n",
    "**Proof** (TODO)\n",
    "\n",
    "**Corollary 1.7 - Convergence in RKHS implies pointwise convergence**\n",
    "\n",
    "*Let $(f_n)_{n \\in \\mathbf N}$ be a sequence of elements of $\\mathcal H$ that converges to $f\\in \\mathcal H$, then $(f_n(\\mathbf x))_{n \\in \\mathbf N}$ converges to $(f(\\mathbf x))$ in $\\mathbf R$ for any $\\mathbf x \\in \\mathcal X$.*"
   ]
  },
  {
   "cell_type": "markdown",
   "metadata": {},
   "source": [
    "**Theorem 1.8 - Uniqueness of RKHS and r.k.**\n",
    "\n",
    "- *If $\\mathcal H$ is a RKHS, then it has a unique r.k.*\n",
    "- *A function $K$ in $\\mathcal H$ can be the r.k. of at most one RKHS.*\n",
    "\n",
    "(So we can talk about the kernel of a RKHS, or the RKHS of a kernel)\n",
    "\n",
    "** Proof (TODO)**\n"
   ]
  },
  {
   "cell_type": "markdown",
   "metadata": {},
   "source": [
    "**Theorem 1.9**\n",
    "\n",
    "*A function $K: \\mathcal X \\times \\mathcal X \\to \\mathbf R$ is positive definite iff it is a r.k. of some RKHS $\\mathcal H \\subset \\mathbf R^\\mathcal X$.*"
   ]
  },
  {
   "cell_type": "markdown",
   "metadata": {},
   "source": [
    "## 1.5 Proof of Aronzsajn's Theorem\n",
    "\n",
    "**Proof**"
   ]
  },
  {
   "cell_type": "markdown",
   "metadata": {},
   "source": [
    "## 1.6 RKHS of Some Kernels\n",
    "\n",
    "**Theorem 1.10 - RKHS of Linear Kernel**\n",
    "\n",
    "*Let $\\mathcal X = \\mathbf R^d$ and the linear kernel $K(\\mathbf x, \\mathbf y) = \\langle \\mathbf x, \\mathbf y \\rangle_{\\mathbf R^d}$. The RKHS of the linear kernel is the set of linear functions of the form:*\n",
    "\n",
    "$$\n",
    "f_{\\mathbf w}(\\mathbf x) = \\langle \\mathbf w, \\mathbf x \\rangle : \\mathbf w \\in \\mathbf R^d\n",
    "$$\n",
    "\n",
    "*endowed with the inner product*\n",
    "\n",
    "$$\n",
    "\\langle \\mathbf w, \\mathbf v \\rangle_{\\mathcal H} = \\langle \\mathbf w, \\mathbf v \\rangle_{\\mathbf R^d}\n",
    "$$\n",
    "\n",
    "*so that the corresponding norm is*\n",
    "$$\n",
    "\\Vert f_\\mathbf w\\Vert_{\\mathcal H} = \\Vert \\mathbf w \\Vert_{\\mathbf R^d}\n",
    "$$"
   ]
  },
  {
   "cell_type": "markdown",
   "metadata": {},
   "source": [
    "**Example 1.11 - RKHS of Polynomial Kernel**\n",
    "\n",
    "*Let $\\mathcal X = \\mathbf R^d$ and the quadratic polynomial kernel $K(\\mathbf x, \\mathbf y)=\\langle x, y\\rangle_{\\mathbf R^d}^2$. The RKHS of $K$ is the set of quadratic functions*\n",
    "\n",
    "$$\n",
    "f_{\\mathbf S}(\\mathbf x) = \\langle \\mathbf S, \\mathbf x\\mathbf x^T \\rangle_{F} = \\mathbf x^T \\mathbf S \\mathbf x: \\mathbf S \\in \\mathcal S^{d\\times d} \n",
    "$$\n",
    "\n",
    "*where $\\mathcal S$ is the set of symmetric matrices in $\\mathbf R^{d\\times d}$, endowed with the inner-product $\\langle f_{\\mathbf S_1}, f_{\\mathbf S_2}\\rangle_{\\mathcal H} = \\langle\\mathbf S_1, \\mathbf S_2\\rangle_F.$ and $\\Vert \\cdot \\Vert_F$ is the Frobenius norm of matrices in $\\mathbf R^{d\\times d}$*\n",
    "\n",
    "$$\n",
    "\\Vert [M]_{ij} \\Vert_F^2 = \\sum_{i=1}^d\\sum_{j=1}^d |M_{ij}|^2\n",
    "$$\n",
    "\n",
    "**Theorem 1.12 - Operations on Kernels**\n",
    "\n",
    "1. *If $K_1, K_2$ are p.d. kernels, then*\n",
    "$$\n",
    "K_1 + K_2, \\\\\n",
    "K_1K_2, \\\\\n",
    "cK_1 (c \\geq 0)\n",
    "$$\n",
    "\n",
    " *are also p.d. kernels.*\n",
    " \n",
    "2. *If $(K_i)_{i \\geq 1}$ is a sequence of p.d. kernels that converges pointwisely to a function $K$, i.e.*\n",
    "$$\n",
    "\\forall (\\mathbf x, \\mathbf y) \\in \\mathcal X^2, K(\\mathbf x, x') = \\lim_{n \\to +\\infty} K_i(\\mathbf x, \\mathbf x')\n",
    "$$\n",
    " *then K is also a p.d. kernel.*\n",
    " \n",
    "3. *If $K$ is a p.d. kernel, then $\\exp(K)$ is also a p.d. kernel.*"
   ]
  },
  {
   "cell_type": "markdown",
   "metadata": {},
   "source": [
    "## 1.7 Remarks about Smoothness\n",
    "\n",
    "By B.C.S, we have\n",
    "$$\n",
    "\\forall f \\in \\mathcal H, \\forall \\mathbf x, \\mathbf x' \\in \\mathcal X: \n",
    "$$\n",
    "$$\n",
    "|f(x) - f'(x)| = |\\langle f, K_{\\mathbf x} - K_{\\mathbf x'}\\rangle_{\\mathcal H}| \\leq \\Vert f \\Vert_{\\mathcal H} \\Vert K_{\\mathbf x} - K_{\\mathbf x'}\\Vert_{\\mathcal H} =: \\Vert f \\Vert_{\\mathcal H} d_K(\\mathbf x, \\mathbf x')\n",
    "$$\n",
    "\n",
    "So the norm of a function in the RKHS controls the variation over $\\mathcal X$ of $f$ w.r.t the geometry defined by the kernel.\n",
    "A small norm gives a slow variation."
   ]
  },
  {
   "cell_type": "markdown",
   "metadata": {},
   "source": [
    "# 2. The Kernel Trick"
   ]
  },
  {
   "cell_type": "markdown",
   "metadata": {},
   "source": [
    "## 2.1 Idea\n",
    "\n",
    "*Any algorithm to process finite-dimensional vectors that can be expressed only in term of pairwise inner products can be applied to potentially infinite-dimensional vectors in the feature space of a p.d. kernel by rplacing each inner product evaluation by a kernel evaluation.*\n",
    "\n",
    "## 2.2 Applications\n",
    "\n",
    "**Example 2.1 - Compute Distances in the Feature Space**\n",
    "\n",
    "We can define:\n",
    "$$\n",
    "d_K(\\mathbf x_1, \\mathbf x_2) = \\Vert \\Phi(\\mathbf x_1) - \\Phi(\\mathbf x_2) \\Vert_{\\mathcal H}^2\n",
    "$$\n",
    "\n",
    "donc:\n",
    "$$\n",
    "d_K(\\mathbf x_1, \\mathbf x_2)^2 = K(\\mathbf x_1, \\mathbf x_1) + K(\\mathbf x_2, \\mathbf x_2) - 2K(\\mathbf x_1, \\mathbf x_2)\n",
    "$$\n",
    "\n",
    "$d_K(\\mathbf x_1, \\mathbf x_2)$ can be seen of the distance between $\\mathbf x_1, \\mathbf x_2$.\n",
    "\n",
    "Illustration for distance in feature space with Gaussian Kernel between image of $z$ and $0$."
   ]
  },
  {
   "cell_type": "code",
   "execution_count": 3,
   "metadata": {},
   "outputs": [
    {
     "data": {
      "text/plain": [
       "[<matplotlib.lines.Line2D at 0x88a9400>]"
      ]
     },
     "execution_count": 3,
     "metadata": {},
     "output_type": "execute_result"
    },
    {
     "data": {
      "image/png": "[encoded data removed]",
      "text/plain": [
       "<matplotlib.figure.Figure at 0x5685fd0>"
      ]
     },
     "metadata": {},
     "output_type": "display_data"
    }
   ],
   "source": [
    "import matplotlib.pyplot as plt\n",
    "%matplotlib inline\n",
    "import numpy as np\n",
    "\n",
    "sigma = 0.5\n",
    "\n",
    "def gaussian_kernel(x, y):\n",
    "    return np.exp(-(x-y)**2/sigma**2)\n",
    "\n",
    "def gaussian_distance(z):\n",
    "    return np.sqrt(gaussian_kernel(0, 0) + gaussian_kernel(z, z) - gaussian_kernel(z, 0))\n",
    "\n",
    "interval = np.linspace(-3, 3, 100)\n",
    "plt.plot(interval, gaussian_distance(interval))"
   ]
  },
  {
   "cell_type": "code",
   "execution_count": null,
   "metadata": {},
   "outputs": [],
   "source": []
  }
 ],
 "metadata": {
  "kernelspec": {
   "display_name": "Python 3",
   "language": "python",
   "name": "python3"
  },
  "language_info": {
   "codemirror_mode": {
    "name": "ipython",
    "version": 3
   },
   "file_extension": ".py",
   "mimetype": "text/x-python",
   "name": "python",
   "nbconvert_exporter": "python",
   "pygments_lexer": "ipython3",
   "version": "3.6.4"
  }
 },
 "nbformat": 4,
 "nbformat_minor": 2
}
