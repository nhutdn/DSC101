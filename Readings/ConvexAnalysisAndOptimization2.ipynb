{
 "cells": [
  {
   "cell_type": "markdown",
   "metadata": {},
   "source": [
    "# Amphi 2 - Fenchel-Legendre Conjugate"
   ]
  },
  {
   "cell_type": "markdown",
   "metadata": {},
   "source": [
    "# 1. Fenchel-Legendre Conjugate\n",
    "\n",
    "**Definition 2.1**\n",
    "\n",
    "*Let $f: \\mathbf R^n \\to [-\\infty, +\\infty]$. The **Fenchel-Legendre conjugate** of $f$ is defined by*\n",
    "$$\n",
    "f^\\star(\\phi) = \\sup_{x \\in \\mathbf R^n} \\phi \\cdot x - f(x)\n",
    "$$\n",
    "\n",
    "**Example**\n",
    "1. $f(x) = ax + b$\n",
    "\n",
    " $$\\sup_{x \\in \\mathbf R^n} \\left[ \\phi \\cdot x - ax - b \\right] = +\\infty$$.\n",
    " So, $f^\\star(\\phi) = +\\infty$.\n",
    "\n",
    "2. $f(x) = \\frac12(x - b)^2 + d$\n",
    " $$\n",
    " \\phi \\cdot x - d - \\frac12(x - b)^2 = -\\frac12(x - b - \\phi)^2 - b\\phi + \\phi^2/2 - d \\leq \\frac12 (\\phi - b)^2 - b^2/2 - d\n",
    " $$\n",
    " Hence $f^\\star$ is also quadratic."
   ]
  },
  {
   "cell_type": "code",
   "execution_count": null,
   "metadata": {},
   "outputs": [],
   "source": [
    "import matplotlib.pyplot as plt\n",
    "%matplotlib inline\n",
    "\n"
   ]
  },
  {
   "cell_type": "markdown",
   "metadata": {},
   "source": [
    "**Proposition 2.2**\n",
    "\n",
    "Let $f: \\mathbf R^n \\to [-\\infty, +\\infty]$. Then \n",
    "1. $f^\\star$ is convex, lsc.\n",
    "2. If $\\mathrm{dom} (f)$ is non-empty, then $\\forall \\phi \\in \\mathbf R^n: f^\\star (\\phi)> -\\infty$ \n",
    "3. If $f$ is convex, proper, then $f^\\star$ is convex, closed, proper.\n",
    "\n",
    "**Proof**\n",
    "\n",
    "1. As $f^\\star = \\sup \\left[ \\phi \\cdot x - f(x) \\right]$ is the upper hull of a family of affine functions which are convex and lsc, it is convex and lsc.\n",
    "\n",
    "2. Trivial \n",
    "\n",
    "3. Convexity and closeness shown in 1. $f^\\star(\\phi) > -\\infty \\forall \\phi \\in \\mathbf R^n$ shown in 2. Need to show $f(x) \\not\\equiv +\\infty.$. Let $x_0 \\in \\mathrm{relint}(\\mathrm{dom})(f)$ (not empty) then $\\partial f(x_0)$ is not empty. Let $\\phi_0 \\in \\partial f(x_0)$. Hence, \n",
    "$$\n",
    "\\forall x \\in \\mathbf R^n: f(x) - f(x_0) \\geq \\phi_0 (x - x_0)\n",
    "$$\n",
    "\n",
    "$$\n",
    "\\Leftrightarrow  \\forall x \\in \\mathbf R^n: \\phi_0 \\cdot x - f(x) \\leq \\phi_0 \\cdot x_0 - f(x_0)\n",
    "$$\n",
    "\n",
    "$$\n",
    "\\Leftrightarrow  \\sup_x \\left[\\phi_0 \\cdot x - f(x) \\right] \\leq \\phi_0 \\cdot x_0 - f(x_0)\n",
    "$$\t\n",
    "\n",
    "As $\\phi_0 \\cdot x_0 - f(x_0) < +\\infty$ because $f$ is proper, $f^\\star(\\phi_0) < +\\infty$. So $f^\\star$ is proper."
   ]
  },
  {
   "cell_type": "markdown",
   "metadata": {},
   "source": [
    "**Proposition 2.3 - Fenchel-Young's inequality**\n",
    "\n",
    "*Let $f: \\mathbf R^n \\to [-\\infty, +\\infty]$ and $x, \\phi \\in \\mathbf R^n$. Then $f(x) + f^\\star(\\phi) \\geq x \\cdot \\phi. The equality occurs iff \\phi \\in \\partial f(x)$.*\n",
    "\n",
    "**Proof**\n",
    "\n",
    "$$\n",
    "f(x) + f^\\star(\\phi) = f(x) + \\sup_y \\left[ \\phi \\cdot y - f(y) \\right] \\geq f(x) + \\phi \\cdot x - f(x) = \\phi \\cdot x \n",
    "$$\n",
    "\n",
    "and\n",
    "$$\n",
    "\\phi \\in \\partial f(x) \\Leftrightarrow \\forall y\\in \\mathbf R^n: f(y) - \\phi \\cdot y \\geq f(x) - \\phi \\cdot x  \\Leftrightarrow f^\\star(\\phi) \\leq \\phi \\cdot x - f(x)   \\Leftrightarrow f(x) + f^\\star(\\phi) \\leq x \\cdot \\phi\n",
    "$$"
   ]
  },
  {
   "cell_type": "markdown",
   "metadata": {},
   "source": [
    "# 2. Affine minorants and Convex Functions\n",
    "\n",
    "**Definition 2.3**\n",
    "\n",
    "*Let $f:\\mathbf R^n \\to [-\\infty,+\\infty]$ be a function. Any affine function $h$ such that $h(x) \\leq f(x) \\forall x \\in \\mathbf R^n$ is called an affine minorant of $f$. The family of affine minorants of $f$ is denoted by $\\mathcal {AM}(f)$.*\n",
    "\n",
    "**Proposition 2.4**\n",
    "\n",
    "*If $f: \\mathbf R^n \\to [-\\infty, +\\infty]$ is a convex, proper, lsc function, then it is the upper hull of the family of its minorants.*"
   ]
  },
  {
   "cell_type": "code",
   "execution_count": null,
   "metadata": {},
   "outputs": [],
   "source": []
  }
 ],
 "metadata": {
  "kernelspec": {
   "display_name": "Python 3",
   "language": "python",
   "name": "python3"
  },
  "language_info": {
   "codemirror_mode": {
    "name": "ipython",
    "version": 3
   },
   "file_extension": ".py",
   "mimetype": "text/x-python",
   "name": "python",
   "nbconvert_exporter": "python",
   "pygments_lexer": "ipython3",
   "version": "3.6.4"
  }
 },
 "nbformat": 4,
 "nbformat_minor": 2
}
