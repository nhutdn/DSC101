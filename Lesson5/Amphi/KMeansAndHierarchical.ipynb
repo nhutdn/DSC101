{
 "cells": [
  {
   "cell_type": "markdown",
   "metadata": {},
   "source": [
    "# Amphi 5 - Unsupervised Learning [1] - K-Means and Hierarchical Clustering "
   ]
  },
  {
   "cell_type": "markdown",
   "metadata": {},
   "source": [
    "# 1. Introduction to Machine Learning\n",
    "\n",
    "## 1.1 Some Applications of Machine Learning\n",
    "\n",
    "These are some applications of machine learning, mentioned in the courses [1] and [2]:\n",
    "\n",
    "- Email spam classification system\n",
    "- Photo recognition\n",
    "- Voice recognition\n",
    "- Automatical translation\n",
    "- Robots\n",
    "- Recommendation system on Amazon, Netflix\n",
    "- Bioinformatics\n",
    "- Space exploration\n",
    "- etc.\n",
    "\n",
    "## 1.2 A Definition\n",
    "\n",
    "**Definition of Arthur Samuel (1959)**\n",
    "\n",
    "*Machine Learning is the field of study the gives computers the ability to learn without being explicitly programmed*\n",
    "\n",
    "**Definition by Tom Mitchell (1998)**\n",
    "\n",
    "*A computer program is said to learn from experience $E$ with respect to some task $T$ and some performance measure $P$ if its performance on $T$, as measured by P, improves with experience $E$.*\n",
    "\n",
    "**Example:**\n",
    "\n",
    "**Digit recognition**\n",
    "\n",
    "<img src=\"https://raw.githubusercontent.com/riduan91/DSC101/master/Lesson5/Amphi/F1.png\"></img>\n",
    "\n",
    "- Task $T$: Classification of images into 10 categories associated with the digits 0, 1, ..., 9\n",
    "\n",
    "- Measure $P$: Number of correct classifications (or some other measure)\n",
    "\n",
    "- Experience $E$: Use some set of images that have been already classified and discover patterns from them\n",
    "\n",
    "## 1.3 Why Machine Learning is the Future?\n",
    "\n",
    "**Simple explanation by course [2]**\n",
    "\n",
    "- Data amount become very huge: Until 2005, data on the world are estimated to be 130 EB of data ($\\approx 1.3 \\times 10^{20} $ bytes. ). Until 2010, 1200 EB. 2015: 7900 EB, 2020: 40900 EB etc.\n",
    "\n",
    "<img src=\"https://raw.githubusercontent.com/riduan91/DSC101/master/Lesson5/Amphi/F2.png\" width=600></img>\n",
    "\n",
    "- The number of data scientists are not growing as fast as data. The number of machines are not, either.\n",
    "\n",
    "- So if we want to handle efficiently large amounts of data, the remaining role belongs to machine learning.\n",
    "\n",
    "<img src=\"https://raw.githubusercontent.com/riduan91/DSC101/master/Lesson5/Amphi/F4.png\" width=600></img>\n",
    "\n",
    "## 1.4 Main Machine Learning Problems\n",
    "\n",
    "### 1.4.1 Supervised vs Unsupervised Learning\n",
    "\n",
    "Their are two main classes of machine learning problems: **supervised learning** and **unsupervised learning**. \n",
    "\n",
    "**Supervised learning** is the machine learning task of learning a function that maps an input to an output based on example input-output pairs (labeled example). E.g.:\n",
    "\n",
    "- Prediction of house price: We know that for any house, the expected outcome should be a reasonable positive number. We also have a set of real houses and their price in the market. These data can be used for training, so the machine will be able to predict new cases in the future.\n",
    "\n",
    "- Classification of spam/non-spam emails: We know that the expected outcome should be a label: spam/non-spam. We already have a set of emails that were correctly classified.\n",
    "\n",
    "Supervised learning problems, in its turn, can be classified into two main subclasses: **Regression** (when the outcome is a continuous variable) and **Classification** (when the outcome is a discrete variable).\n",
    "\n",
    "**Unsupervised machine learning** is the machine learning task of inferring a function to describe hidden structure from \"unlabeled\" data. Since the examples given to the learner are unlabeled, there is no evaluation of the accuracy of the structure that is output by the relevant algorithm.\n",
    "\n",
    "- Clustering: We have data corresponding to genes of lots of species, and would like to cluster them into groups. Data are not labeled, so we cannot explicitly evaluate the accuracy of our algorithm.\n",
    "\n",
    "In other words, in those problems, for some new data $X$, we would like to predict the outcome $y$ via a function $f$ such that $f(X) \\approx y$. In supervised learning, we have example data under the form $(X, y)$, while in unsupervised learning, we just have $(X)$.\n",
    "\n",
    "### 1.4.2 Some other Problem Classes\n",
    "\n",
    "- **Semi-supervised learning**: Example data are provided under both of the forms: $(X, y)$ and $(X)$.\n",
    "\n",
    "- **Reinforcement learning**: Which actions should be take to maximize some notion of cumulative reward (Example: game, stock market...)\n",
    "\n",
    "- **Recommendation systems**: predict the \"rating\" or \"preference\" a user would give to an item\n",
    "\n",
    "- etc.\n",
    "\n",
    "\n",
    "\n",
    "\n"
   ]
  },
  {
   "cell_type": "markdown",
   "metadata": {},
   "source": [
    "## 1.5 Model Representation\n",
    "\n",
    "To solve a machine learning problems, the general procedure is like this\n",
    "\n",
    "<img src=\"https://raw.githubusercontent.com/riduan91/DSC101/master/Lesson5/Amphi/F5.png\" width=600></img>\n",
    "<center>(Figure from course [1])</center>\n",
    "\n",
    "In the figure:\n",
    "\n",
    "- **Training set** is the example data. They can be under the form $(X, y)$ or $(X)$.\n",
    "- **learning algorithm** or **learning model**\n",
    "- **h**: After learning, the machine have built a **hypothesis**, or a **predictive model** to predict the outcome $y$ from a new data $x$.\n",
    "- We often call **y** the **output/target/outcome**; we call **x** the **data/input/vector**. Coordinates of **x** are called **features**.\n",
    "\n",
    "We discuss about **learning algorithm**. Usually, it can be described as an optimization problem. So it contains a cost function together with its the parameters. We need to find the best values of parameters that optimize the cost functions. So, we need an algorithm to solve this optimization problem. Please distinguish the two notions **learning algorithm** and **optimization algorithm**. \n",
    "\n",
    "**Example of learning algorithms**: Linear Regression, Logistic Regression, Naive Bayes Classification, etc.\n",
    "\n",
    "**Example of optimization algorithms**: Gradient Descent, Newton Methods, etc."
   ]
  },
  {
   "cell_type": "markdown",
   "metadata": {},
   "source": [
    "# 2. Clustering"
   ]
  },
  {
   "cell_type": "markdown",
   "metadata": {},
   "source": [
    "Considering the example: provided data corresponding to genes of lots of species. We would like to cluster them into groups.\n",
    "\n",
    "We do not know have a clear what are we looking for: should the genes of similar species are grouped into a group? Which species are considered similar? As data are not labeled, so we cannot explicitly evaluate the accuracy of what we do.\n",
    "\n",
    "So such a task is aim to **discover** some patterns, structures that can be use for further studying.\n",
    "\n",
    "Clustering is an **unsupervised learning** subclass that aims to divide data into smaller groups based on some predefined criterion, for example, based on similarity.\n",
    "\n",
    "**Formal Expression**\n",
    "\n",
    "Let $\\mathbf X_1, \\ldots, \\mathbf X_N$ be $N$ points in an Euclidean space $\\mathbf R^d$. Let  $K$ be a positive integer. We want cluster those points into $K$ groups.\n",
    "\n",
    "Let $d: \\mathbf R^N \\times \\mathbf R^N : \\mathbf R^+$ be a function of any pair of points, that we considered as a distance of them. \n",
    "\n",
    "To cluster those points, we want to find a function\n",
    "\n",
    "$$\n",
    "f : \\{\\mathbf X_1 , \\ldots, \\mathbf X_N\\} \\to \\{0, 1, \\ldots, k-1 \\}\n",
    "$$\n",
    "\n",
    "minimizing the cost function (or the potential function/potential/inertia):\n",
    "\n",
    "$$\n",
    "\\sum_{k=0}^{K-1} g(k, f)\\sum_{f(\\mathbf X_i)=k, f(\\mathbf X_j)=k, i > j} d(\\mathbf X_i, \\mathbf X_j)\n",
    "$$\n",
    "\n",
    "where $g(k, f)$ is a function depends on the group $k$ and the choice of $f$. \n",
    "\n",
    "This can be considered as a general optimization problem of clustering a set into $K$ groups using some notion of distance as similarity."
   ]
  },
  {
   "cell_type": "markdown",
   "metadata": {},
   "source": [
    "# 3. K-Means Clustering"
   ]
  },
  {
   "cell_type": "markdown",
   "metadata": {},
   "source": [
    "## 3.1 The Optimization Problem\n",
    "\n",
    "In the formal expression in part 2, if we choose:\n",
    "\n",
    "$$\n",
    "d(\\mathbf X_i, \\mathbf X_j) = \\Vert \\mathbf X_i - \\mathbf X_j \\Vert^2\n",
    "$$\n",
    "\n",
    "(the square Euclidean distance)\n",
    "\n",
    "and\n",
    "\n",
    "$$\n",
    "g(k, f) = |G_k(f)|^{-1} = \\frac{1}{|\\{i: f(X_i) = k\\}|}\n",
    "$$\n",
    "\n",
    "(the number of points in cluster $k$, here $G_k(f)$ denote the cluster $k$)\n",
    "\n",
    "then we have the following cost function:\n",
    "\n",
    "$$\n",
    "\\sum_{k=0}^{K-1} \\frac{1}{|G_k(f)|} \\sum_{X_i, X_j \\in G_k(f), i>j}  \\Vert \\mathbf X_i - \\mathbf X_j \\Vert^2\n",
    "$$\n",
    "\n",
    "Let $C_0(f), C_1(f), \\ldots, C_{k-1}(f)$ denote the center of each cluster $G_0(f), G_1(f), \\ldots, G_{k-1}(f)$, we can see that the optimization problem is equivalent to finding $f$ that minimizes:\n",
    "\n",
    "$$\n",
    "\\sum_{k=0}^{K-1} \\sum_{X_i \\in G_k(f)}  \\Vert \\mathbf X_i - C_k(f) \\Vert^2 \\qquad \\qquad \\qquad (1)\n",
    "$$\n",
    "\n",
    "The learning algorithm solving the optimization problem above is called **K-Means**. Its name comes directly from the expression: group those points into $K$ clusters such that the sum of square distance of each point to its cluster's center is smallest. Each element of the sum is also known as the **within-cluster sum of squares** (WCSS) or simply the **with-in cluster variance**.\n",
    "\n",
    "<img src=\"https://raw.githubusercontent.com/riduan91/DSC101/master/Lesson5/Amphi/F6.png\" width=400></img>"
   ]
  },
  {
   "cell_type": "markdown",
   "metadata": {},
   "source": [
    "## 3.2 Lloyd's algorithm\n",
    "\n",
    "Mathematical results show that finding the optimal solution to the $K-Means$ clustering problem in $d$ dimension is\n",
    "\n",
    "- NP-hard in general Euclidean space $d$ for 2 clusters.\n",
    "- NP-hard for a general number of clusters $K$ for $d = 2$.\n",
    "- If $K, d$ are fixed, the problem can be solved in $O(N^{Kd+1})$\n",
    "\n",
    "So we should find an approximated algorithm rather than finding an exact solution. Lloyd's algorithm is the simplest one.\n",
    "\n",
    "**Lloyd's algorithm (or K-Means algorithm)**\n",
    "1. Arbitrarily choose $K$ initial centers $\\mathcal C = \\{C_0, . . . , C_{K-1}\\}.$\n",
    "2. For each $k \\in \\{1, . . . , K-1\\}$, set the cluster $C_k$ to be the set of points that are closer to $C_k$ than they are to $C_j$ for all $j \\neq k$.\n",
    "3. For each $k \\in \\{1, . . . , K-1\\}$, set $C_k$ to be the center of mass of all points in cluster $G_k$: $C_k = \\frac1{|G_k|}\\sum_{x\\in G_k} x$\n",
    "4. Repeat Steps 2 and 3 until $\\mathcal C$ no longer changes.\n",
    "\n",
    "**Notes**\n",
    "\n",
    "- Lloyd's algorithm will stop after a finite number of iterations (the cost function decreases or remains after each step 2 and 3, its value belongs to a finite set)\n",
    "\n",
    "- Lloyd's algorithm offers no accuracy guarantees. Let $\\Phi$ denote the cost function at the convergence of the algorithm and let $\\Phi_{opt}$ denote the optimal cost function. Then $\\frac{\\Phi}{\\Phi_{opt}}$ is unbounded even when $N$ and $K$ are fixed.\n",
    "\n",
    "- The running time of Lloyd's algorithm is $O(NKdi)$ where $i$ demote the number of iterations needed until convergence. On data that does have a clustering structure, the number of iterations until convergence is usually small. Lloyd's algorithm is hence considered to be \"linear\" complexity.\n",
    "\n",
    "- In the worst-case, Lloyd's algorithm needs ${\\displaystyle i=2^{\\Omega ({\\sqrt {n}})}}$ iterations.\n",
    "\n",
    "\n",
    "\n",
    "**Illustration** (from course [2])\n",
    "\n",
    "<img src=\"https://raw.githubusercontent.com/riduan91/DSC101/master/Lesson5/Amphi/F7.png\" width=1000></img>"
   ]
  },
  {
   "cell_type": "markdown",
   "metadata": {},
   "source": [
    "## 3.3 K-Means++\n",
    "\n",
    "As mentioned in 3.2, Lloyd's algorithm offers no accuracy guarantees. In fact, if we initialize the $K$ centers randomly, there may be some bad choices that impact the algorithm.\n",
    "\n",
    "<img src=\"https://raw.githubusercontent.com/riduan91/DSC101/master/Lesson5/Amphi/F8.png\" width=600></img>\n",
    "\n",
    "**K-Means++** is an initialization methods that help us guarantee a more stable result:\n",
    "\n",
    "**K-Means++**\n",
    "\n",
    "At any given time, $let D(x)$ denote the shortest distance from a data point x to the closest center we have already chosen. Then, we choose the centers like this:\n",
    "\n",
    "1a. Choose an initial center $C_1$ uniformly at random from the whole set $\\mathcal X$.\n",
    "\n",
    "1b. Choose the next center $C_i$, selecting $C_i = x' \\in \\mathcal X$ with probability $\\frac{D(x')^2}{\\sum_{x \\in \\mathcal X} D(x)^2}$.\n",
    "\n",
    "1c. Repeat Step 1b until we have chosen a total of $K$ centers.\n",
    "\n",
    "2-4. Proceed as with the standard K-Means algorithm.\n",
    "\n",
    "**K-Means++** is guaranteed by the following theorem:\n",
    "\n",
    "Let $\\Phi$ denote the cost function at the convergence of K-Means++ algorithm and let $\\Phi_{opt}$ denote the optimal cost function. Then over any data set, \n",
    "$$\n",
    "E[\\Phi] \\leq 8(\\ln K + 2)\\Phi_{opt}.\n",
    "$$"
   ]
  },
  {
   "cell_type": "markdown",
   "metadata": {},
   "source": [
    "## 3.4 Choose Optimal K\n",
    "\n",
    "The cost function/inertia can gives us information about which $K$ should be a possible choice.\n",
    "\n",
    "Suppose the cost function decreases like this:\n",
    "\n",
    "<img src=\"https://raw.githubusercontent.com/riduan91/DSC101/master/Lesson5/Amphi/F11.png\" width=600></img>\n",
    "\n",
    "We can choose $K=3$, as that means for each cluster, the average distance of any point to the center is considerably reduced in comparison with the case $K=2$, whereas if we choose $K=4$ there are not as much as gain. This is the idea of **Elbow method** choose $K$ with the greatest gain of inertia.\n",
    "\n",
    "This is just a theoretical suggestion. In practice, sometimes we need to use knowledge on the domain as well as intuition to choose $K$. "
   ]
  },
  {
   "cell_type": "markdown",
   "metadata": {},
   "source": [
    "## 3.5 K-Means with scikit-learn\n",
    "\n",
    "KMeans class in scikit-learn: http://scikit-learn.org/stable/modules/generated/sklearn.cluster.KMeans.html\n",
    "\n",
    "In this section we use data downloaded from [6] and used in course [2], stored in the `Mall_Customers.csv` file. This contains data about customers of a big mall. Each line corresponds to a customer together with the genre, age, annual income and a spending score (in function of how much money they have spent in the mall). We will cluster those data into groups to explore what are the different segments of customers the mall has. We will only use annual income and spending score for illustration."
   ]
  },
  {
   "cell_type": "markdown",
   "metadata": {},
   "source": [
    "**Understanding data**"
   ]
  },
  {
   "cell_type": "code",
   "execution_count": 4,
   "metadata": {
    "collapsed": false
   },
   "outputs": [
    {
     "data": {
      "text/html": [
       "<div>\n",
       "<table border=\"1\" class=\"dataframe\">\n",
       "  <thead>\n",
       "    <tr style=\"text-align: right;\">\n",
       "      <th></th>\n",
       "      <th>CustomerID</th>\n",
       "      <th>Genre</th>\n",
       "      <th>Age</th>\n",
       "      <th>Annual Income (k$)</th>\n",
       "      <th>Spending Score (1-100)</th>\n",
       "    </tr>\n",
       "  </thead>\n",
       "  <tbody>\n",
       "    <tr>\n",
       "      <th>0</th>\n",
       "      <td>1</td>\n",
       "      <td>Male</td>\n",
       "      <td>19</td>\n",
       "      <td>15</td>\n",
       "      <td>39</td>\n",
       "    </tr>\n",
       "    <tr>\n",
       "      <th>1</th>\n",
       "      <td>2</td>\n",
       "      <td>Male</td>\n",
       "      <td>21</td>\n",
       "      <td>15</td>\n",
       "      <td>81</td>\n",
       "    </tr>\n",
       "    <tr>\n",
       "      <th>2</th>\n",
       "      <td>3</td>\n",
       "      <td>Female</td>\n",
       "      <td>20</td>\n",
       "      <td>16</td>\n",
       "      <td>6</td>\n",
       "    </tr>\n",
       "    <tr>\n",
       "      <th>3</th>\n",
       "      <td>4</td>\n",
       "      <td>Female</td>\n",
       "      <td>23</td>\n",
       "      <td>16</td>\n",
       "      <td>77</td>\n",
       "    </tr>\n",
       "    <tr>\n",
       "      <th>4</th>\n",
       "      <td>5</td>\n",
       "      <td>Female</td>\n",
       "      <td>31</td>\n",
       "      <td>17</td>\n",
       "      <td>40</td>\n",
       "    </tr>\n",
       "    <tr>\n",
       "      <th>5</th>\n",
       "      <td>6</td>\n",
       "      <td>Female</td>\n",
       "      <td>22</td>\n",
       "      <td>17</td>\n",
       "      <td>76</td>\n",
       "    </tr>\n",
       "    <tr>\n",
       "      <th>6</th>\n",
       "      <td>7</td>\n",
       "      <td>Female</td>\n",
       "      <td>35</td>\n",
       "      <td>18</td>\n",
       "      <td>6</td>\n",
       "    </tr>\n",
       "    <tr>\n",
       "      <th>7</th>\n",
       "      <td>8</td>\n",
       "      <td>Female</td>\n",
       "      <td>23</td>\n",
       "      <td>18</td>\n",
       "      <td>94</td>\n",
       "    </tr>\n",
       "    <tr>\n",
       "      <th>8</th>\n",
       "      <td>9</td>\n",
       "      <td>Male</td>\n",
       "      <td>64</td>\n",
       "      <td>19</td>\n",
       "      <td>3</td>\n",
       "    </tr>\n",
       "    <tr>\n",
       "      <th>9</th>\n",
       "      <td>10</td>\n",
       "      <td>Female</td>\n",
       "      <td>30</td>\n",
       "      <td>19</td>\n",
       "      <td>72</td>\n",
       "    </tr>\n",
       "  </tbody>\n",
       "</table>\n",
       "</div>"
      ],
      "text/plain": [
       "   CustomerID   Genre  Age  Annual Income (k$)  Spending Score (1-100)\n",
       "0           1    Male   19                  15                      39\n",
       "1           2    Male   21                  15                      81\n",
       "2           3  Female   20                  16                       6\n",
       "3           4  Female   23                  16                      77\n",
       "4           5  Female   31                  17                      40\n",
       "5           6  Female   22                  17                      76\n",
       "6           7  Female   35                  18                       6\n",
       "7           8  Female   23                  18                      94\n",
       "8           9    Male   64                  19                       3\n",
       "9          10  Female   30                  19                      72"
      ]
     },
     "execution_count": 4,
     "metadata": {},
     "output_type": "execute_result"
    }
   ],
   "source": [
    "import pandas as pd\n",
    "data = pd.read_csv(\"Mall_Customers.csv\")\n",
    "data.head(10)"
   ]
  },
  {
   "cell_type": "markdown",
   "metadata": {},
   "source": [
    "**Feature extraction**"
   ]
  },
  {
   "cell_type": "code",
   "execution_count": 7,
   "metadata": {
    "collapsed": false
   },
   "outputs": [
    {
     "data": {
      "text/html": [
       "<div>\n",
       "<table border=\"1\" class=\"dataframe\">\n",
       "  <thead>\n",
       "    <tr style=\"text-align: right;\">\n",
       "      <th></th>\n",
       "      <th>Annual Income (k$)</th>\n",
       "      <th>Spending Score (1-100)</th>\n",
       "    </tr>\n",
       "  </thead>\n",
       "  <tbody>\n",
       "    <tr>\n",
       "      <th>0</th>\n",
       "      <td>15</td>\n",
       "      <td>39</td>\n",
       "    </tr>\n",
       "    <tr>\n",
       "      <th>1</th>\n",
       "      <td>15</td>\n",
       "      <td>81</td>\n",
       "    </tr>\n",
       "    <tr>\n",
       "      <th>2</th>\n",
       "      <td>16</td>\n",
       "      <td>6</td>\n",
       "    </tr>\n",
       "    <tr>\n",
       "      <th>3</th>\n",
       "      <td>16</td>\n",
       "      <td>77</td>\n",
       "    </tr>\n",
       "    <tr>\n",
       "      <th>4</th>\n",
       "      <td>17</td>\n",
       "      <td>40</td>\n",
       "    </tr>\n",
       "  </tbody>\n",
       "</table>\n",
       "</div>"
      ],
      "text/plain": [
       "   Annual Income (k$)  Spending Score (1-100)\n",
       "0                  15                      39\n",
       "1                  15                      81\n",
       "2                  16                       6\n",
       "3                  16                      77\n",
       "4                  17                      40"
      ]
     },
     "execution_count": 7,
     "metadata": {},
     "output_type": "execute_result"
    }
   ],
   "source": [
    "X = data.iloc[:, 3:5]\n",
    "X.head()"
   ]
  },
  {
   "cell_type": "markdown",
   "metadata": {},
   "source": [
    "**Try with some $K$**"
   ]
  },
  {
   "cell_type": "code",
   "execution_count": 9,
   "metadata": {
    "collapsed": false
   },
   "outputs": [
    {
     "data": {
      "text/plain": [
       "array([1, 1, 1, 1, 1, 1, 1, 1, 1, 1, 1, 1, 1, 1, 1, 1, 1, 1, 1, 1, 1, 1, 1,\n",
       "       1, 1, 1, 1, 1, 1, 1, 1, 1, 1, 1, 1, 1, 1, 1, 1, 1, 1, 1, 1, 1, 1, 1,\n",
       "       1, 1, 1, 1, 1, 1, 1, 1, 1, 1, 1, 1, 1, 1, 1, 1, 1, 1, 1, 1, 1, 1, 1,\n",
       "       1, 1, 1, 1, 1, 1, 1, 1, 1, 1, 1, 1, 1, 1, 1, 1, 1, 1, 1, 1, 1, 1, 1,\n",
       "       1, 1, 1, 1, 1, 1, 1, 1, 1, 1, 1, 1, 1, 1, 1, 1, 1, 1, 1, 1, 1, 1, 1,\n",
       "       1, 1, 1, 1, 1, 1, 1, 1, 2, 0, 2, 0, 2, 0, 2, 0, 2, 0, 2, 0, 2, 0, 2,\n",
       "       0, 2, 0, 2, 0, 2, 0, 2, 0, 2, 0, 2, 0, 2, 0, 2, 0, 2, 0, 2, 0, 2, 0,\n",
       "       2, 0, 2, 0, 2, 0, 2, 0, 2, 0, 2, 0, 2, 0, 2, 0, 2, 0, 2, 0, 2, 0, 2,\n",
       "       0, 2, 0, 2, 0, 2, 0, 2, 0, 2, 0, 2, 0, 2, 0, 2])"
      ]
     },
     "execution_count": 9,
     "metadata": {},
     "output_type": "execute_result"
    }
   ],
   "source": [
    "from sklearn.cluster import KMeans\n",
    "import matplotlib.pyplot as plt\n",
    "%matplotlib inline \n",
    "\n",
    "model = KMeans(n_clusters = 3, init = 'k-means++', max_iter = 300, n_init = 10, random_state = 0)\n",
    "model.fit(X)\n",
    "model.predict(X)"
   ]
  },
  {
   "cell_type": "markdown",
   "metadata": {},
   "source": [
    "**Try more $K$**"
   ]
  },
  {
   "cell_type": "code",
   "execution_count": 10,
   "metadata": {
    "collapsed": false
   },
   "outputs": [
    {
     "data": {
      "image/png": "[encoded data removed]",
      "text/plain": [
       "<matplotlib.figure.Figure at 0xc84a240>"
      ]
     },
     "metadata": {},
     "output_type": "display_data"
    }
   ],
   "source": [
    "import matplotlib.pyplot as plt\n",
    "\n",
    "potential = []\n",
    "for i  in range(1, 11):\n",
    "    model = KMeans(n_clusters = i)\n",
    "    model.fit(X)\n",
    "    potential.append(model.inertia_)\n",
    "plt.plot(range(1, 11), potential)\n",
    "plt.title(\"Potential graph\")\n",
    "plt.xlabel(\"k\")\n",
    "plt.ylabel(\"Potential\")\n",
    "plt.show()"
   ]
  },
  {
   "cell_type": "markdown",
   "metadata": {},
   "source": [
    "**Now we prefer a 5-cluster solutions**"
   ]
  },
  {
   "cell_type": "code",
   "execution_count": 12,
   "metadata": {
    "collapsed": false
   },
   "outputs": [
    {
     "data": {
      "text/plain": [
       "array([1, 3, 1, 3, 1, 3, 1, 3, 1, 3, 1, 3, 1, 3, 1, 3, 1, 3, 1, 3, 1, 3, 1,\n",
       "       3, 1, 3, 1, 3, 1, 3, 1, 3, 1, 3, 1, 3, 1, 3, 1, 3, 1, 3, 1, 4, 1, 3,\n",
       "       4, 4, 4, 4, 4, 4, 4, 4, 4, 4, 4, 4, 4, 4, 4, 4, 4, 4, 4, 4, 4, 4, 4,\n",
       "       4, 4, 4, 4, 4, 4, 4, 4, 4, 4, 4, 4, 4, 4, 4, 4, 4, 4, 4, 4, 4, 4, 4,\n",
       "       4, 4, 4, 4, 4, 4, 4, 4, 4, 4, 4, 4, 4, 4, 4, 4, 4, 4, 4, 4, 4, 4, 4,\n",
       "       4, 4, 4, 4, 4, 4, 4, 4, 2, 0, 2, 4, 2, 0, 2, 0, 2, 4, 2, 0, 2, 0, 2,\n",
       "       0, 2, 0, 2, 4, 2, 0, 2, 0, 2, 0, 2, 0, 2, 0, 2, 0, 2, 0, 2, 0, 2, 0,\n",
       "       2, 0, 2, 0, 2, 0, 2, 0, 2, 0, 2, 0, 2, 0, 2, 0, 2, 0, 2, 0, 2, 0, 2,\n",
       "       0, 2, 0, 2, 0, 2, 0, 2, 0, 2, 0, 2, 0, 2, 0, 2])"
      ]
     },
     "execution_count": 12,
     "metadata": {},
     "output_type": "execute_result"
    }
   ],
   "source": [
    "model = KMeans(n_clusters = 5)\n",
    "y = model.fit_predict(X)\n",
    "y"
   ]
  },
  {
   "cell_type": "markdown",
   "metadata": {},
   "source": [
    "**Visualization**"
   ]
  },
  {
   "cell_type": "code",
   "execution_count": 24,
   "metadata": {
    "collapsed": false
   },
   "outputs": [
    {
     "data": {
      "text/plain": [
       "<matplotlib.legend.Legend at 0xf0937f0>"
      ]
     },
     "execution_count": 24,
     "metadata": {},
     "output_type": "execute_result"
    },
    {
     "data": {
      "image/png": "[encoded data removed]",
      "text/plain": [
       "<matplotlib.figure.Figure at 0xf0933c8>"
      ]
     },
     "metadata": {},
     "output_type": "display_data"
    }
   ],
   "source": [
    "COLORS = ['red', 'blue', 'green', 'cyan', 'magenta']\n",
    "for i in range(5):\n",
    "    plt.scatter(X.values[y == i, 0], X.values[y == i, 1], c = COLORS[i], label = 'Cluster %d' % i)\n",
    "    plt.scatter(model.cluster_centers_[:, 0], model.cluster_centers_[:, 1], s=100, c = 'yellow')\n",
    "\n",
    "plt.xlabel('Annual income')\n",
    "plt.ylabel('Spending score')\n",
    "plt.legend()"
   ]
  },
  {
   "cell_type": "markdown",
   "metadata": {},
   "source": [
    "We can know see that there are 5 segments of customers of the mall. They can be described as \"careful\", \"careless\", \"sensible\", \"target\", \"standard\". (This is, however, a fake and not realistic example.)"
   ]
  },
  {
   "cell_type": "markdown",
   "metadata": {},
   "source": [
    "## 3.6 Metrics for K-Means\n",
    "\n",
    "At the beginning of the section, we have used \n",
    "\n",
    "$$\n",
    "d(\\mathbf X_i, \\mathbf X_j) = \\Vert \\mathbf X_i - \\mathbf X_j \\Vert^2\n",
    "$$\n",
    "\n",
    "(the square Euclidean distance)\n",
    "\n",
    "as the metric to measure dissimilarity between two points. That leads to the fact that the point minimizing the WCSS (within-cluster sum of squares) is the centroid of the cluster.\n",
    "\n",
    "If we try other metrics like:\n",
    "\n",
    "- **L1**: $d(\\mathbf X_i, \\mathbf X_j) = \\Vert \\mathbf X_i - \\mathbf X_j \\Vert_1$\n",
    "- **Cosine**: $d(\\mathbf X_i, \\mathbf X_j) = 1 - \\cos(\\mathbf X_i, \\mathbf X_j)$ (Note that it is not a distance in metric-space sense)\n",
    "\n",
    "Then by the same way, we also have new versions of $K-Means$, in which the centroid would be replaced by another special point in the cluster."
   ]
  },
  {
   "cell_type": "markdown",
   "metadata": {},
   "source": [
    "# 4. Agglomerative Hierarchical Clustering"
   ]
  },
  {
   "cell_type": "markdown",
   "metadata": {},
   "source": [
    "## 4.1 Intuition\n",
    "\n",
    "Like K-Means, Hierarchical Clustering (HC) are based on the idea that two close points should belong two one cluster. We process by beginning with $N$ clusters, then repeatedly group them until we arrive at $K$ clusters.\n",
    "\n",
    "Step 1: Make each data point a single-point cluster. In this step we have $N$ cluster.\n",
    "\n",
    "Step 2: Take the two closest data points and make them one cluster. So we have $N-1$ cluster.\n",
    "\n",
    "Repeat: Take the two closest clusters and make them one cluster. \n",
    "\n",
    "Until: Remaining $K$ clusters.\n",
    "\n",
    "**Illustration**\n",
    "\n",
    "<img src=\"https://raw.githubusercontent.com/riduan91/DSC101/master/Lesson5/Amphi/F12.png\" width=400></img>\n",
    "\n",
    "**Some question**\n",
    "\n",
    "- What kind of distance can we use here? -> notion of **metrics** (like K-Means)\n",
    "\n",
    "- What are closest clusters? Or how to measure distance between clusters? -> notion of **linkage**.\n",
    "\n",
    "## 4.2 Metrics\n",
    "\n",
    "Unlike **K-Means**, we do not have to calculate a centroid or some point that minimize any sum of distance within a cluster, so it is free to choose any distance type we want. For example:\n",
    "\n",
    "- Euclidean distance ($L2$): $\\|a-b\\|_{2}={\\sqrt  {\\sum _{i}(a_{i}-b_{i})^{2}}}$\n",
    "\n",
    "- Manhattan distance ($L1$): $\\|a-b\\|_{1}=\\sum _{i}|a_{i}-b_{i}|$\n",
    "\n",
    "- Maximum distance ($L_\\infty$): $\\|a-b\\|_{\\infty }=\\max _{i}|a_{i}-b_{i}|$\n",
    "\n",
    "- Mahalanobis distance: ${\\sqrt  {(a-b)^{{\\top }}S^{{-1}}(a-b)}}$ where S is the Covariance matrix\n",
    "\n",
    "- Cosine distance: $L_{\\cos}(a, b) = 1 - \\cos(a, b)$"
   ]
  },
  {
   "cell_type": "markdown",
   "metadata": {},
   "source": [
    "## 4.3 Linkage\n",
    "\n",
    "Link 2 closest cluster can be done by one of the following method:\n",
    "\n",
    "- **Complete-linkage**: Link 2 cluster $A$, $B$ such that $\\max \\,\\{\\,d(a,b):a\\in A,\\,b\\in B\\,\\}$ is smallest\n",
    "\n",
    "- **Single-linkage**: Link 2 cluster $A$, $B$ such that $\\min \\,\\{\\,d(a,b):a\\in A,\\,b\\in B\\,\\}$ is smallest\n",
    "\n",
    "- **Average-linkage**: Link 2 cluster $A$, $B$ such that ${\\displaystyle {\\frac {1}{|A||B|}}\\sum _{a\\in A}\\sum _{b\\in B}d(a,b)}$ is smallest.\n",
    "\n",
    "- **Centroid-linkage** or **UPGMC**: Link 2 cluster $A$, $B$ such that the centroids of $A$ and $B$ have smallest distance.\n",
    "\n",
    "- **Minimum energy**: Link 2 cluster $A$, $B$ that minimizes $\t{\\displaystyle {\\frac {2}{nm}}\\sum _{i,j=1}^{n,m}\\|a_{i}-b_{j}\\|_{2}-{\\frac {1}{n^{2}}}\\sum _{i,j=1}^{n}\\|a_{i}-a_{j}\\|_{2}-{\\frac {1}{m^{2}}}\\sum _{i,j=1}^{m}\\|b_{i}-b_{j}\\|_{2}}.$\n",
    "\n",
    "- **Ward's criterion**: The increase in variance for the cluster being merged is smallest.\n",
    "\n",
    "Some of those methods, like UPGMC, Minimum energy or Ward cannot be applied for every type of distance (cosine metric for example)\n",
    "\n",
    "Because of those different linkage, we cannot state a common optimization problem for the model. "
   ]
  },
  {
   "cell_type": "markdown",
   "metadata": {},
   "source": [
    "## 4.4 Dendrograms"
   ]
  },
  {
   "cell_type": "markdown",
   "metadata": {},
   "source": [
    "A dendrogram is a tree diagram frequently used to illustrate the arrangement of the clusters produced by hierarchical clustering. The bottom row of nodes represents data and the remaining nodes represent the clusters to which the data belong, with the arrows representing the distance (dissimilarity).\n",
    "\n",
    "<img src=\"https://raw.githubusercontent.com/riduan91/DSC101/master/Lesson5/Amphi/F13.png\" width=1000></img>\n",
    "\n",
    "The dendogram may help us choose the best $K$ (as in this case we do not have the inertia as for K-Means). For example, from the dendogram\n",
    "\n",
    "<img src=\"https://raw.githubusercontent.com/riduan91/DSC101/master/Lesson5/Amphi/F14.png\" width=800></img>\n",
    "\n",
    "we can see that $K=2$ is a reasonable choice. Or in the following example:\n",
    "\n",
    "<img src=\"https://raw.githubusercontent.com/riduan91/DSC101/master/Lesson5/Amphi/F15.png\" width=400></img>\n",
    "\n",
    "$K = 3$ is the best choise, corresponding to largest distance of a not-extended vertical segment. Indeed, it corresponds to the following case:\n",
    "\n",
    "<img src=\"https://raw.githubusercontent.com/riduan91/DSC101/master/Lesson5/Amphi/F16.png\" width=400></img>\n",
    "\n",
    "Again, this is just a suggested criterion. In your real problem, sometimes you need to use intuition and knowledge on domain to choose the most suitable $K$."
   ]
  },
  {
   "cell_type": "markdown",
   "metadata": {},
   "source": [
    "## 4.5 Comments\n",
    "\n",
    "The standard algorithm for hierarchical agglomerative clustering has a time complexity of ${\\displaystyle {\\mathcal {O}}(N^{3})} $ and requires ${\\displaystyle {\\mathcal {O}}(N^{2})} $ memory.\n",
    "\n",
    "The following in a comparison between K-Means and HC, taken from course [2]:\n",
    "\n",
    "| Clustering Model        | Pros                                                                                                            | Cons                                  |\n",
    "|-------------------------|-----------------------------------------------------------------------------------------------------------------|---------------------------------------|\n",
    "| K-Means                 | Simple to understand, easily adaptable, works well on small or large datasets, fast, efficient and performant   | Need to choose the number of clusters |\n",
    "| Hierarchical Clustering | The optimal number of clusters can be obtained by the model itself, practical visualisation with the dendrogram | Not appropriate for large datasets    |"
   ]
  },
  {
   "cell_type": "markdown",
   "metadata": {},
   "source": [
    "## 4.6 Agglomerative HC with scikit-learn\n",
    "\n",
    "We use the same example as in K-Means section."
   ]
  },
  {
   "cell_type": "markdown",
   "metadata": {},
   "source": [
    "**Use dendrogram to choose $K$**"
   ]
  },
  {
   "cell_type": "code",
   "execution_count": 74,
   "metadata": {
    "collapsed": false
   },
   "outputs": [
    {
     "data": {
      "image/png": "[encoded data removed]",
      "text/plain": [
       "<matplotlib.figure.Figure at 0xf424358>"
      ]
     },
     "metadata": {},
     "output_type": "display_data"
    }
   ],
   "source": [
    "import scipy.cluster.hierarchy as sch\n",
    "dendrogram = sch.dendrogram(sch.linkage(X, method='ward'))\n",
    "plt.title('Dendogram')\n",
    "plt.xlabel('Customers')\n",
    "plt.ylabel('Distance')\n",
    "plt.show()"
   ]
  },
  {
   "cell_type": "markdown",
   "metadata": {},
   "source": [
    "So $K=3$ or 5 can be reasonable choices. (We can try both, here we choose $K=5$)."
   ]
  },
  {
   "cell_type": "markdown",
   "metadata": {},
   "source": [
    "**Agglomerative Hierarchical Clustering with $K=5$**."
   ]
  },
  {
   "cell_type": "code",
   "execution_count": 28,
   "metadata": {
    "collapsed": false
   },
   "outputs": [
    {
     "data": {
      "text/plain": [
       "array([4, 3, 4, 3, 4, 3, 4, 3, 4, 3, 4, 3, 4, 3, 4, 3, 4, 3, 4, 3, 4, 3, 4,\n",
       "       3, 4, 3, 4, 3, 4, 3, 4, 3, 4, 3, 4, 3, 4, 3, 4, 3, 4, 3, 4, 1, 4, 1,\n",
       "       1, 1, 1, 1, 1, 1, 1, 1, 1, 1, 1, 1, 1, 1, 1, 1, 1, 1, 1, 1, 1, 1, 1,\n",
       "       1, 1, 1, 1, 1, 1, 1, 1, 1, 1, 1, 1, 1, 1, 1, 1, 1, 1, 1, 1, 1, 1, 1,\n",
       "       1, 1, 1, 1, 1, 1, 1, 1, 1, 1, 1, 1, 1, 1, 1, 1, 1, 1, 1, 1, 1, 1, 1,\n",
       "       1, 1, 1, 1, 1, 1, 1, 1, 2, 1, 2, 1, 2, 0, 2, 0, 2, 1, 2, 0, 2, 0, 2,\n",
       "       0, 2, 0, 2, 1, 2, 0, 2, 1, 2, 0, 2, 0, 2, 0, 2, 0, 2, 0, 2, 0, 2, 1,\n",
       "       2, 0, 2, 0, 2, 0, 2, 0, 2, 0, 2, 0, 2, 0, 2, 0, 2, 0, 2, 0, 2, 0, 2,\n",
       "       0, 2, 0, 2, 0, 2, 0, 2, 0, 2, 0, 2, 0, 2, 0, 2], dtype=int64)"
      ]
     },
     "execution_count": 28,
     "metadata": {},
     "output_type": "execute_result"
    }
   ],
   "source": [
    "from sklearn.cluster import AgglomerativeClustering\n",
    "model = AgglomerativeClustering(n_clusters = 5, affinity = 'euclidean', linkage = 'ward')\n",
    "y = model.fit_predict(X)\n",
    "y"
   ]
  },
  {
   "cell_type": "markdown",
   "metadata": {},
   "source": [
    "**Visualization**"
   ]
  },
  {
   "cell_type": "code",
   "execution_count": 30,
   "metadata": {
    "collapsed": false
   },
   "outputs": [
    {
     "data": {
      "text/plain": [
       "<matplotlib.legend.Legend at 0xfb5a470>"
      ]
     },
     "execution_count": 30,
     "metadata": {},
     "output_type": "execute_result"
    },
    {
     "data": {
      "image/png": "[encoded data removed]",
      "text/plain": [
       "<matplotlib.figure.Figure at 0xfb5af60>"
      ]
     },
     "metadata": {},
     "output_type": "display_data"
    }
   ],
   "source": [
    "COLORS = ['red', 'blue', 'green', 'cyan', 'magenta']\n",
    "for i in range(5):\n",
    "    plt.scatter(X.values[y == i, 0], X.values[y == i, 1], c = COLORS[i], label = 'Cluster %d' % i)\n",
    "    #plt.scatter(model.cluster_centers_[:, 0], model.cluster_centers_[:, 1], s=100, c = 'yellow')\n",
    "\n",
    "plt.xlabel('Annual income')\n",
    "plt.ylabel('Spending score')\n",
    "plt.legend()"
   ]
  },
  {
   "cell_type": "markdown",
   "metadata": {},
   "source": [
    "# 5. Libraries in Python (cont'd)"
   ]
  },
  {
   "cell_type": "markdown",
   "metadata": {},
   "source": [
    "## 5.1 scipy.sparse\n",
    "\n",
    "It works faster than np.array for sparse matrices.\n",
    "\n",
    "Example:"
   ]
  },
  {
   "cell_type": "code",
   "execution_count": 32,
   "metadata": {
    "collapsed": false
   },
   "outputs": [
    {
     "data": {
      "text/plain": [
       "<4x4 sparse matrix of type '<type 'numpy.int32'>'\n",
       "\twith 4 stored elements in COOrdinate format>"
      ]
     },
     "execution_count": 32,
     "metadata": {},
     "output_type": "execute_result"
    }
   ],
   "source": [
    "from scipy import sparse\n",
    "from numpy import array\n",
    "I = array([0,3,1,0])\n",
    "J = array([0,3,1,2])\n",
    "V = array([4,5,7,9])\n",
    "A = sparse.coo_matrix((V,(I,J)),shape=(4,4))\n",
    "A"
   ]
  },
  {
   "cell_type": "code",
   "execution_count": 34,
   "metadata": {
    "collapsed": false
   },
   "outputs": [
    {
     "data": {
      "text/plain": [
       "array([[4, 0, 9, 0],\n",
       "       [0, 7, 0, 0],\n",
       "       [0, 0, 0, 0],\n",
       "       [0, 0, 0, 5]])"
      ]
     },
     "execution_count": 34,
     "metadata": {},
     "output_type": "execute_result"
    }
   ],
   "source": [
    "A.toarray()"
   ]
  },
  {
   "cell_type": "code",
   "execution_count": 35,
   "metadata": {
    "collapsed": false
   },
   "outputs": [
    {
     "data": {
      "text/plain": [
       "<4x4 sparse matrix of type '<type 'numpy.int32'>'\n",
       "\twith 4 stored elements in Compressed Sparse Row format>"
      ]
     },
     "execution_count": 35,
     "metadata": {},
     "output_type": "execute_result"
    }
   ],
   "source": [
    "A.dot(A)"
   ]
  },
  {
   "cell_type": "code",
   "execution_count": 36,
   "metadata": {
    "collapsed": false
   },
   "outputs": [
    {
     "data": {
      "text/plain": [
       "array([[16,  0, 36,  0],\n",
       "       [ 0, 49,  0,  0],\n",
       "       [ 0,  0,  0,  0],\n",
       "       [ 0,  0,  0, 25]])"
      ]
     },
     "execution_count": 36,
     "metadata": {},
     "output_type": "execute_result"
    }
   ],
   "source": [
    "A.dot(A).toarray()"
   ]
  },
  {
   "cell_type": "code",
   "execution_count": 45,
   "metadata": {
    "collapsed": false
   },
   "outputs": [
    {
     "name": "stdout",
     "output_type": "stream",
     "text": [
      "Numpy array worked in 0.178000 seconds\n"
     ]
    }
   ],
   "source": [
    "import numpy as np\n",
    "A = np.zeros((2000, 2000))\n",
    "A[0,0] = 4\n",
    "A[3,3] = 5\n",
    "A[1,1] = 7\n",
    "A[0,2] = 9\n",
    "\n",
    "import time\n",
    "begin = time.time()\n",
    "B = A.dot(A)\n",
    "end = time.time()\n",
    "print(\"Numpy array worked in %f seconds\" % (end - begin))"
   ]
  },
  {
   "cell_type": "code",
   "execution_count": 46,
   "metadata": {
    "collapsed": false
   },
   "outputs": [
    {
     "name": "stdout",
     "output_type": "stream",
     "text": [
      "Numpy array worked in 0.001000 seconds\n"
     ]
    }
   ],
   "source": [
    "import numpy as np\n",
    "I = array([0,3,1,0])\n",
    "J = array([0,3,1,2])\n",
    "V = array([4,5,7,9])\n",
    "A2 = sparse.coo_matrix((V,(I,J)),shape=(2000,2000))\n",
    "\n",
    "import time\n",
    "begin = time.time()\n",
    "B2 = A2.dot(A2)\n",
    "end = time.time()\n",
    "print(\"Numpy array worked in %f seconds\" % (end - begin))"
   ]
  },
  {
   "cell_type": "markdown",
   "metadata": {},
   "source": [
    "## 5.2 Unicode"
   ]
  },
  {
   "cell_type": "markdown",
   "metadata": {},
   "source": [
    "To check if a word in another language than English is capitalized/upper/lower, we need to decode it using some encoding method. The default encoding method used in Spyder is \"utf-8\". For example, the method **isupper** of **str** cannot recognize if a \"strange\" character is capitalized or not."
   ]
  },
  {
   "cell_type": "code",
   "execution_count": 55,
   "metadata": {
    "collapsed": false
   },
   "outputs": [
    {
     "data": {
      "text/plain": [
       "False"
      ]
     },
     "execution_count": 55,
     "metadata": {},
     "output_type": "execute_result"
    }
   ],
   "source": [
    "\"Ư\".isupper()"
   ]
  },
  {
   "cell_type": "markdown",
   "metadata": {},
   "source": [
    "We need to decode the string to the basic unicode form. After decoding, the string become a **unicode** chain. If we re-encode the **unicode**, it becomes a **str** again."
   ]
  },
  {
   "cell_type": "code",
   "execution_count": 70,
   "metadata": {
    "collapsed": false
   },
   "outputs": [
    {
     "name": "stdout",
     "output_type": "stream",
     "text": [
      "<type 'str'>\n",
      "<type 'unicode'>\n",
      "<type 'str'>\n"
     ]
    }
   ],
   "source": [
    "a = \"ư\"\n",
    "print(type(a))\n",
    "b = \"ư\".decode(\"utf-8\")\n",
    "print(type(b))\n",
    "c = b.encode(\"utf-8\")\n",
    "print(type(c))"
   ]
  },
  {
   "cell_type": "markdown",
   "metadata": {},
   "source": [
    "By this way, we can check if a word is capitalized, eventually capitalize it"
   ]
  },
  {
   "cell_type": "code",
   "execution_count": 56,
   "metadata": {
    "collapsed": false
   },
   "outputs": [
    {
     "data": {
      "text/plain": [
       "True"
      ]
     },
     "execution_count": 56,
     "metadata": {},
     "output_type": "execute_result"
    }
   ],
   "source": [
    "\"Ư\".decode(\"utf-8\").isupper()"
   ]
  },
  {
   "cell_type": "code",
   "execution_count": 58,
   "metadata": {
    "collapsed": false
   },
   "outputs": [
    {
     "name": "stdout",
     "output_type": "stream",
     "text": [
      "ư\n"
     ]
    }
   ],
   "source": [
    "print(\"ư\".upper())"
   ]
  },
  {
   "cell_type": "code",
   "execution_count": 63,
   "metadata": {
    "collapsed": false
   },
   "outputs": [
    {
     "name": "stdout",
     "output_type": "stream",
     "text": [
      "Ư\n"
     ]
    }
   ],
   "source": [
    "print(\"ư\".decode(\"utf-8\").upper().encode(\"utf-8\"))"
   ]
  },
  {
   "cell_type": "markdown",
   "metadata": {},
   "source": [
    "An equivalent way is putting **u** before the **str** to decode it."
   ]
  },
  {
   "cell_type": "code",
   "execution_count": 78,
   "metadata": {
    "collapsed": false
   },
   "outputs": [
    {
     "data": {
      "text/plain": [
       "unicode"
      ]
     },
     "execution_count": 78,
     "metadata": {},
     "output_type": "execute_result"
    }
   ],
   "source": [
    "type(u\"Ư\")"
   ]
  },
  {
   "cell_type": "code",
   "execution_count": 71,
   "metadata": {
    "collapsed": false
   },
   "outputs": [
    {
     "data": {
      "text/plain": [
       "True"
      ]
     },
     "execution_count": 71,
     "metadata": {},
     "output_type": "execute_result"
    }
   ],
   "source": [
    "u\"Ư\".isupper()"
   ]
  },
  {
   "cell_type": "code",
   "execution_count": 72,
   "metadata": {
    "collapsed": false
   },
   "outputs": [
    {
     "data": {
      "text/plain": [
       "u'\\u01af'"
      ]
     },
     "execution_count": 72,
     "metadata": {},
     "output_type": "execute_result"
    }
   ],
   "source": [
    "u\"ư\".upper()"
   ]
  },
  {
   "cell_type": "code",
   "execution_count": 82,
   "metadata": {
    "collapsed": false
   },
   "outputs": [
    {
     "name": "stdout",
     "output_type": "stream",
     "text": [
      "Ư\n"
     ]
    }
   ],
   "source": [
    "print(u\"ư\".upper())"
   ]
  },
  {
   "cell_type": "markdown",
   "metadata": {},
   "source": [
    "# References\n",
    "\n",
    "[1] Andrew Ng, *Machine Learning*, Course on <a href=\"http://coursera.org\">coursera.org</a>\n",
    "\n",
    "[2] Kirill Eremenko, *Machine Learning A-Z$^{TM}$: Hands-On Python & R in Data Science*, course on <a href=\"http://udemy.com\">udemy.com</a>\n",
    "\n",
    "[3] https://codefellows.github.io/sea-python-401d5/lectures/k_means.html\n",
    "\n",
    "[4] Garey, M.; Johnson, D.; Witsenhausen, H. *The complexity of the generalized Lloyd - Max problem (Corresp.)*\n",
    "\n",
    "[5] David Arthur; Sergei Vassilvitskii, *k-means++: The Advantages of Careful Seeding*\n",
    "\n",
    "[6] https://www.superdatascience.com/machine-learning/\n",
    "\n",
    "[7] Vincent Cohen-Addad, Varun Kanade, Frederik Mallmann-Trenn, and Claire Mathieu, *Hierarchical Clustering: Objective Functions and Algorithms*\n",
    "\n",
    "[8] http://scikit-learn.org/stable/modules/generated/sklearn.cluster.KMeans.html\n",
    "\n"
   ]
  }
 ],
 "metadata": {
  "kernelspec": {
   "display_name": "Python 2",
   "language": "python",
   "name": "python2"
  },
  "language_info": {
   "codemirror_mode": {
    "name": "ipython",
    "version": 2
   },
   "file_extension": ".py",
   "mimetype": "text/x-python",
   "name": "python",
   "nbconvert_exporter": "python",
   "pygments_lexer": "ipython2",
   "version": "2.7.13"
  }
 },
 "nbformat": 4,
 "nbformat_minor": 0
}
