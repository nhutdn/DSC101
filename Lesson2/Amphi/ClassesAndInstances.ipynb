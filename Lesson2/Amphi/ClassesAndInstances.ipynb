{
 "cells": [
  {
   "cell_type": "markdown",
   "metadata": {},
   "source": [
    "# Amphi 2 - Classes and Instances"
   ]
  },
  {
   "cell_type": "markdown",
   "metadata": {},
   "source": [
    "# 1. Introduction"
   ]
  },
  {
   "cell_type": "markdown",
   "metadata": {},
   "source": [
    "Basic types in Python are numbers, string, iterable (list, tuple, set, dictionary). They can be used to describe a variety of objects in reality.\n",
    "\n",
    "Classes in Python allow users to define their own type.\n",
    "\n",
    "For example, we would like to describe some apartments with their properties: area, type, rooms, location, construction year. We can use dictionary in Python like this:"
   ]
  },
  {
   "cell_type": "code",
   "execution_count": 3,
   "metadata": {
    "collapsed": true
   },
   "outputs": [],
   "source": [
    "apart1 = {\"area\": 45, \"type\": \"T2\", \"rooms\": [\"living room\", \"bedroom1\"], \"location\": \"91120\", \"construction year\": 2001}\n",
    "apart2 = {\"area\": 24, \"type\": \"studio\", \"rooms\": [\"living room\"], \"location\": \"31300\", \"construction year\": 1976}"
   ]
  },
  {
   "cell_type": "markdown",
   "metadata": {},
   "source": [
    "In code edition, using basic type to describe complex objects may be inconvenient (to be considered in the following parts). For example, we cannot distinguish a dict of type \"apartment\" with other types."
   ]
  },
  {
   "cell_type": "code",
   "execution_count": 4,
   "metadata": {
    "collapsed": false
   },
   "outputs": [
    {
     "data": {
      "text/plain": [
       "dict"
      ]
     },
     "execution_count": 4,
     "metadata": {},
     "output_type": "execute_result"
    }
   ],
   "source": [
    "type(apart1)"
   ]
  },
  {
   "cell_type": "markdown",
   "metadata": {},
   "source": [
    "We may need to create a function \"manually\" to check if some object is of type appartment, like this:"
   ]
  },
  {
   "cell_type": "code",
   "execution_count": 6,
   "metadata": {
    "collapsed": false
   },
   "outputs": [
    {
     "data": {
      "text/plain": [
       "True"
      ]
     },
     "execution_count": 6,
     "metadata": {},
     "output_type": "execute_result"
    }
   ],
   "source": [
    "def isApartment(obj):\n",
    "    return set(obj.keys()) == {\"area\", \"type\", \"rooms\", \"location\", \"construction year\"}\n",
    "isApartment(apart1)"
   ]
  },
  {
   "cell_type": "markdown",
   "metadata": {},
   "source": [
    "In Python, we can use **class** to describe a new type. For the same problem, we can create a class **Apartment** like this."
   ]
  },
  {
   "cell_type": "code",
   "execution_count": 9,
   "metadata": {
    "collapsed": false
   },
   "outputs": [
    {
     "name": "stdout",
     "output_type": "stream",
     "text": [
      "Appartment(45, T2, ['living room, bedroom1'], 91120, 2001)\n",
      "Appartment(24, studio, ['living room'], 31300, 1976)\n"
     ]
    }
   ],
   "source": [
    "class Apartment:\n",
    "    def __init__(self, area, apart_type, rooms, location, construction_year):\n",
    "        self.area = area\n",
    "        self.apart_type = apart_type\n",
    "        self.rooms = rooms\n",
    "        self.location = location\n",
    "        self.construction_year = construction_year\n",
    "    \n",
    "    def __str__(self):\n",
    "        return \"Appartment(%d, %s, %s, %s, %d)\" % (self.area, self.apart_type, self.rooms, self.location, self.construction_year)\n",
    "\n",
    "Apart1 = Apartment(45, \"T2\", [\"living room, bedroom1\"], \"91120\", 2001)\n",
    "Apart2 = Apartment(24, \"studio\", [\"living room\"], \"31300\", 1976)\n",
    "print(Apart1)\n",
    "print(Apart2)"
   ]
  },
  {
   "cell_type": "markdown",
   "metadata": {},
   "source": [
    "In the above example:\n",
    "- We have created the class Apartment to describe objects of type apartment.\n",
    "- We have specified (in the \\__init\\__ function) that properties we are interested in are area, type of apartment, rooms, location and year of construction.\n",
    "- We have specified (in the \\__str\\__ function) how the objects of this class **Apartment** should be printed.\n",
    "\n",
    "\n",
    "- Then, we have defined two objects **Apart1** and **Apart2** of type **Apartment**."
   ]
  },
  {
   "cell_type": "markdown",
   "metadata": {},
   "source": [
    "## 1.1 Classes and instances"
   ]
  },
  {
   "cell_type": "markdown",
   "metadata": {},
   "source": [
    "The above example have shown us how to define a class. Syntax for class definition is as follows:"
   ]
  },
  {
   "cell_type": "raw",
   "metadata": {},
   "source": [
    "class ClassName:\n",
    "    <statement-1>\n",
    "    .\n",
    "    .\n",
    "    .\n",
    "    <statement-N>"
   ]
  },
  {
   "cell_type": "markdown",
   "metadata": {},
   "source": [
    "A class can be seen as a new type defined by users. Objects of a class are called **instances** of the class.\n",
    "\n",
    "For example, **Apart1** and **Apart2** are two instances of the class **Apart**. To check an object is an instance of some class, use **\\__class\\__** or **isInstance**."
   ]
  },
  {
   "cell_type": "code",
   "execution_count": 11,
   "metadata": {
    "collapsed": false
   },
   "outputs": [
    {
     "name": "stdout",
     "output_type": "stream",
     "text": [
      "<type 'instance'>\n",
      "__main__.Apartment\n",
      "True\n"
     ]
    }
   ],
   "source": [
    "print(type(Apart1)) #In Python 2, type 'instance'; in Python 3, __main__.Apartment\n",
    "print(Apart1.__class__)\n",
    "print(isinstance(Apart1, Apartment))"
   ]
  },
  {
   "cell_type": "markdown",
   "metadata": {},
   "source": [
    "## 1.2 Instantiation"
   ]
  },
  {
   "cell_type": "markdown",
   "metadata": {},
   "source": [
    "The function **\\__init\\__** defined inside the class definition is used to construct new instances of a class. In the above example, we want to specify that an instance of class **Apartment**, the so-call \"**self**\" here, will be defined by 5 arguments: area, apart_type, rooms, location and construction_year. \n",
    "\n",
    "At instance's creation, the **\\__init\\__** function will be called and assign values of these 5 arguments **in correct order** to the 5 corresponding attributes of **self**."
   ]
  },
  {
   "cell_type": "code",
   "execution_count": 20,
   "metadata": {
    "collapsed": true
   },
   "outputs": [],
   "source": [
    "class Apartment:\n",
    "    def __init__(self, area, apart_type, rooms, location, construction_year):\n",
    "        self.area = area\n",
    "        self.apart_type = apart_type\n",
    "        self.rooms = rooms\n",
    "        self.location = location\n",
    "        self.construction_year = construction_year\n",
    "\n",
    "Apart1 = Apartment(45, \"T2\", [\"living room, bedroom1\"], \"91120\", 2001)"
   ]
  },
  {
   "cell_type": "markdown",
   "metadata": {},
   "source": [
    "We can now refind attributes of the instance."
   ]
  },
  {
   "cell_type": "code",
   "execution_count": 21,
   "metadata": {
    "collapsed": false
   },
   "outputs": [
    {
     "name": "stdout",
     "output_type": "stream",
     "text": [
      "45\n"
     ]
    }
   ],
   "source": [
    "print(Apart1.area)"
   ]
  },
  {
   "cell_type": "markdown",
   "metadata": {},
   "source": [
    "We can also specify the keyword of parameter in instance creation to make the code clear."
   ]
  },
  {
   "cell_type": "code",
   "execution_count": 22,
   "metadata": {
    "collapsed": false
   },
   "outputs": [
    {
     "name": "stdout",
     "output_type": "stream",
     "text": [
      "45\n"
     ]
    }
   ],
   "source": [
    "Apart1 = Apartment(apart_type = \"T2\", rooms = [\"living room, bedroom1\"], construction_year = 2001, location = \"91120\", area = 45)\n",
    "print(Apart1.area)"
   ]
  },
  {
   "cell_type": "markdown",
   "metadata": {},
   "source": [
    "We can also define a default value for all instances of a class by specifying it in the parameters of **\\__init\\__**. Attention, in this case, in **\\__init__** function, \"default\" arguments must follow \"non default\" arguments."
   ]
  },
  {
   "cell_type": "code",
   "execution_count": 24,
   "metadata": {
    "collapsed": false
   },
   "outputs": [
    {
     "name": "stdout",
     "output_type": "stream",
     "text": [
      "(45, 'T2', 2000)\n"
     ]
    }
   ],
   "source": [
    "class Apartment:\n",
    "    # The following syntax should raise an error.\n",
    "    # def __init__(self, area = 20, apart_type, rooms, location, construction_year = 2000):\n",
    "    \n",
    "    def __init__(self, apart_type, rooms, location, area = 20, construction_year = 2000):\n",
    "        self.area = area\n",
    "        self.apart_type = apart_type\n",
    "        self.rooms = rooms\n",
    "        self.location = location\n",
    "        self.construction_year = construction_year\n",
    "\n",
    "Apart1 = Apartment(apart_type = \"T2\", rooms = [\"living room, bedroom1\"], location = \"91120\", area = 45)\n",
    "print(Apart1.area, Apart1.apart_type, Apart1.construction_year)"
   ]
  },
  {
   "cell_type": "markdown",
   "metadata": {},
   "source": [
    "## 1.3 Instance attributes"
   ]
  },
  {
   "cell_type": "markdown",
   "metadata": {},
   "source": [
    "In the above example, **self.area**, **self.apart_type**, ... are **instance variables** or **instance attributes**. It is properties of an instance and not the whole class. It is in general different for different instances of the class."
   ]
  },
  {
   "cell_type": "code",
   "execution_count": 25,
   "metadata": {
    "collapsed": false
   },
   "outputs": [
    {
     "name": "stdout",
     "output_type": "stream",
     "text": [
      "(45, 24)\n"
     ]
    }
   ],
   "source": [
    "Apart1 = Apartment(apart_type = \"T2\", rooms = [\"living room, bedroom1\"], location = \"91120\", area = 45)\n",
    "Apart2 = Apartment(apart_type = \"studio\", rooms = [\"living room\"], location = \"31300\", area = 24, construction_year = 1976)\n",
    "print(Apart1.area, Apart2.area)"
   ]
  },
  {
   "cell_type": "markdown",
   "metadata": {},
   "source": [
    "## 1.4 Instance methods"
   ]
  },
  {
   "cell_type": "markdown",
   "metadata": {},
   "source": [
    "In Python 2, any function defined in the body of a class definition is by default an instance method, that means, the method can be called by instances of the class. However, in order that an instance is able to call that method, the keyword **self** must be specified as the first argument of a function.\n",
    "\n",
    "In Python 3, any function defined in the body of a class definition that has **self** as the first argument is considered as an instance method."
   ]
  },
  {
   "cell_type": "code",
   "execution_count": 52,
   "metadata": {
    "collapsed": false
   },
   "outputs": [
    {
     "name": "stdout",
     "output_type": "stream",
     "text": [
      "<type 'instancemethod'>\n",
      "<type 'instancemethod'>\n",
      "Hello!\n",
      "Hello!\n"
     ]
    }
   ],
   "source": [
    "class Apartment:    \n",
    "    def __init__(self, apart_type, rooms, location, area = 20, construction_year = 2000):\n",
    "        self.area = area\n",
    "        self.apart_type = apart_type\n",
    "        self.rooms = rooms\n",
    "        self.location = location\n",
    "        self.construction_year = construction_year\n",
    "    \n",
    "    def sayHello():\n",
    "        #An instance method in Python2, not an instance method in Python 3.\n",
    "        print(\"Hello!\")\n",
    "    \n",
    "    def sayHello2(self):\n",
    "        print(\"Hello!\")\n",
    "\n",
    "Apart1 = Apartment(\"T2\", [\"living room, bedroom1\"], \"91120\", 45)\n",
    "        \n",
    "print(type(Apartment.sayHello)) #class function in Python 3\n",
    "#Apart1.sayHello() #Should raise error\n",
    "#Apartment.sayHello(Apart1) #Should raise error\n",
    "#Apartment.sayHello() #OK in Python 3 but raise error in Python 2.\n",
    "\n",
    "print(type(Apartment.sayHello2)) #class function in Python 3\n",
    "Apartment.sayHello2(Apart1)\n",
    "# This way is more popular\n",
    "Apart1.sayHello2()\n"
   ]
  },
  {
   "cell_type": "markdown",
   "metadata": {},
   "source": [
    "Instance methods are very useful to access and handle attributes of instances."
   ]
  },
  {
   "cell_type": "code",
   "execution_count": 34,
   "metadata": {
    "collapsed": false
   },
   "outputs": [
    {
     "name": "stdout",
     "output_type": "stream",
     "text": [
      "1\n"
     ]
    }
   ],
   "source": [
    "class Apartment:    \n",
    "    def __init__(self, apart_type, rooms, location, area = 20, construction_year = 2000):\n",
    "        self.area = area\n",
    "        self.apart_type = apart_type\n",
    "        self.rooms = rooms\n",
    "        self.location = location\n",
    "        self.construction_year = construction_year\n",
    "    \n",
    "    def getNumberOfRooms(self):\n",
    "        return len(self.rooms)\n",
    "\n",
    "Apart2 = Apartment(apart_type = \"studio\", rooms = [\"living room\"], location = \"31300\", area = 24, construction_year = 1976)\n",
    "print(Apart2.getNumberOfRooms())"
   ]
  },
  {
   "cell_type": "markdown",
   "metadata": {},
   "source": [
    "## 1.5 Convention for \"private\" attributes"
   ]
  },
  {
   "cell_type": "markdown",
   "metadata": {},
   "source": [
    "In Python, if an attribute of an instance of a class has the name beginning with **\\_\\_** (underscore), its value cannot be accessed outside the class by calling instance.attribute."
   ]
  },
  {
   "cell_type": "code",
   "execution_count": 46,
   "metadata": {
    "collapsed": false
   },
   "outputs": [
    {
     "name": "stdout",
     "output_type": "stream",
     "text": [
      "91120\n",
      "100000\n"
     ]
    }
   ],
   "source": [
    "class Apartment:    \n",
    "    def __init__(self, apart_type, rooms, location, area = 20, construction_year = 2000, price = 100000):\n",
    "        self.area = area\n",
    "        self.apart_type = apart_type\n",
    "        self.rooms = rooms\n",
    "        self.location = location\n",
    "        self.construction_year = construction_year\n",
    "        self.__price = price\n",
    "\n",
    "Apart1 = Apartment(\"T2\", [\"living room, bedroom1\"], \"91120\", 45)\n",
    "#print(Apart1.__price) #Should raise an error\n",
    "print(Apart1.location)\n",
    "#But\n",
    "print(Apart1._Apartment__price)"
   ]
  },
  {
   "cell_type": "markdown",
   "metadata": {},
   "source": [
    "This can be used to restrain manipulation of stable variables and does not mean the variable is totally private. In Python, privacy is a compiler level concept."
   ]
  },
  {
   "cell_type": "markdown",
   "metadata": {},
   "source": [
    "## 1.6 Getters and setters"
   ]
  },
  {
   "cell_type": "markdown",
   "metadata": {},
   "source": [
    "Usually people declare all attributes of instances of class as \"private\", then write getters and setters to allow other programs/users access or modify attributes. In general, we use the term **getters** to describe instance methods that get values of one or some attributes of instances (and do nothing else). We use **setters** to describe instance methods that modify values of one or some attributes."
   ]
  },
  {
   "cell_type": "code",
   "execution_count": 47,
   "metadata": {
    "collapsed": false
   },
   "outputs": [
    {
     "name": "stdout",
     "output_type": "stream",
     "text": [
      "75\n",
      "80\n",
      "96\n"
     ]
    }
   ],
   "source": [
    "class RectangleApartment:\n",
    "    def __init__(self, length, width):\n",
    "        self.__length = length\n",
    "        self.__width = width\n",
    "        self.__area = length * width\n",
    "    \n",
    "    def getLength(self):\n",
    "        return self.__length\n",
    "\n",
    "    def getWidth(self):\n",
    "        return self.__width\n",
    "    \n",
    "    def getArea(self):\n",
    "        return self.__area\n",
    "    \n",
    "    def setLength(self, newlength):\n",
    "        self.__length = newlength\n",
    "        self.__area = self.__length * self.__width\n",
    "    \n",
    "    def setWidth(self, newwidth):\n",
    "        self.__width = newwidth\n",
    "        self.__area = self.__length * self.__width\n",
    "\n",
    "A = RectangleApartment(15, 5)\n",
    "print(A.getArea())\n",
    "A.setLength(16)\n",
    "print(A.getArea())\n",
    "A.setWidth(6)\n",
    "print(A.getArea())"
   ]
  },
  {
   "cell_type": "markdown",
   "metadata": {},
   "source": [
    "## 1.7 String representation of an instance"
   ]
  },
  {
   "cell_type": "markdown",
   "metadata": {},
   "source": [
    "Without a declaration of the **\\_\\_str\\_\\_** method, printing an instance gives a result like this:"
   ]
  },
  {
   "cell_type": "code",
   "execution_count": 48,
   "metadata": {
    "collapsed": false
   },
   "outputs": [
    {
     "name": "stdout",
     "output_type": "stream",
     "text": [
      "<__main__.RectangleApartment instance at 0x000000000354D948>\n"
     ]
    }
   ],
   "source": [
    "class RectangleApartment:\n",
    "    def __init__(self, length, width):\n",
    "        self.__length = length\n",
    "        self.__width = width\n",
    "        self.__area = length * width\n",
    "\n",
    "A = RectangleApartment(15, 5)\n",
    "print(A)"
   ]
  },
  {
   "cell_type": "markdown",
   "metadata": {},
   "source": [
    "We can define how such an instance would be printed. An instance where a **\\_\\_str\\_\\_** method has been defined can be converted into **str**."
   ]
  },
  {
   "cell_type": "code",
   "execution_count": 57,
   "metadata": {
    "collapsed": false
   },
   "outputs": [
    {
     "name": "stdout",
     "output_type": "stream",
     "text": [
      "RectangleAppartment(length = 15, width = 5, area = 75)\n"
     ]
    },
    {
     "data": {
      "text/plain": [
       "'RectangleAppartment(length = 15, width = 5, area = 75)'"
      ]
     },
     "execution_count": 57,
     "metadata": {},
     "output_type": "execute_result"
    }
   ],
   "source": [
    "class RectangleApartment:\n",
    "    def __init__(self, length, width):\n",
    "        self.__length = length\n",
    "        self.__width = width\n",
    "        self.__area = length * width\n",
    "    \n",
    "    def __str__(self):\n",
    "        return \"RectangleAppartment(length = %d, width = %d, area = %d)\" % (self.__length, self.__width, self.__area)\n",
    "\n",
    "A = RectangleApartment(15, 5)\n",
    "print(A)\n",
    "str(A)"
   ]
  },
  {
   "cell_type": "markdown",
   "metadata": {},
   "source": [
    "## 1.8 Make an instance iterable"
   ]
  },
  {
   "cell_type": "markdown",
   "metadata": {},
   "source": [
    "Like **str**, **list**, **tuple**, **set**, **dict**, we can define a customized iteration for an instance by using **\\_\\_iter\\_\\_** and **\\_\\_next\\_\\_**/**next**. With these methods, we can convert an instance into **list**, **tuple**, **set**."
   ]
  },
  {
   "cell_type": "code",
   "execution_count": 65,
   "metadata": {
    "collapsed": false
   },
   "outputs": [
    {
     "name": "stdout",
     "output_type": "stream",
     "text": [
      "5\n",
      "6\n",
      "7\n",
      "8\n",
      "9\n",
      "10\n",
      "[5, 6, 7, 8, 9, 10]\n",
      "set([5, 6, 7, 8, 9, 10])\n"
     ]
    }
   ],
   "source": [
    "class Counter:\n",
    "    def __init__(self, low, high):\n",
    "        self.current = low\n",
    "        self.high = high\n",
    "\n",
    "    def __iter__(self):\n",
    "        return self\n",
    "\n",
    "    def next(self): # Python 2\n",
    "#   def __next__(self): #Python 3\n",
    "        if self.current > self.high:\n",
    "            raise StopIteration\n",
    "        else:\n",
    "            self.current += 1\n",
    "            return self.current - 1\n",
    "        \n",
    "C = Counter(5, 10)\n",
    "for c in C:\n",
    "    print c\n",
    "    \n",
    "C = Counter(5, 10)\n",
    "print(list(C))\n",
    "\n",
    "C = Counter(5, 10)\n",
    "print(set(C))"
   ]
  },
  {
   "cell_type": "markdown",
   "metadata": {},
   "source": [
    "# 2. Class attributes, class methods, static methods"
   ]
  },
  {
   "cell_type": "markdown",
   "metadata": {},
   "source": [
    "## 2.1 Class attributes"
   ]
  },
  {
   "cell_type": "markdown",
   "metadata": {},
   "source": [
    "A class attribute is a variable of the class itself. If it is public (the name does not begin with **\\_\\_**), it can be accessed from all instances of the class."
   ]
  },
  {
   "cell_type": "code",
   "execution_count": 8,
   "metadata": {
    "collapsed": false
   },
   "outputs": [
    {
     "name": "stdout",
     "output_type": "stream",
     "text": [
      "1\n",
      "1\n",
      "2\n",
      "2\n",
      "2\n"
     ]
    }
   ],
   "source": [
    "class RectangleApartment:\n",
    "    number_apartments = 0\n",
    "    \n",
    "    def __init__(self, length, width):\n",
    "        self.__length = length\n",
    "        self.__width = width\n",
    "        self.__area = length * width\n",
    "        RectangleApartment.number_apartments += 1\n",
    "\n",
    "A1 = RectangleApartment(18, 5)\n",
    "print(RectangleApartment.number_apartments)\n",
    "print(A1.number_apartments)\n",
    "A2 = RectangleApartment(20, 4)\n",
    "print(RectangleApartment.number_apartments)\n",
    "print(A1.number_apartments)\n",
    "print(A2.number_apartments)"
   ]
  },
  {
   "cell_type": "markdown",
   "metadata": {},
   "source": [
    "It can be modified as a class variable"
   ]
  },
  {
   "cell_type": "code",
   "execution_count": 9,
   "metadata": {
    "collapsed": false
   },
   "outputs": [
    {
     "name": "stdout",
     "output_type": "stream",
     "text": [
      "5\n",
      "7\n"
     ]
    }
   ],
   "source": [
    "class RectangleApartment:\n",
    "    number_apartments = 0\n",
    "    \n",
    "    def __init__(self, length, width):\n",
    "        self.__length = length\n",
    "        self.__width = width\n",
    "        self.__area = length * width\n",
    "        RectangleApartment.number_apartments += 1\n",
    "\n",
    "RectangleApartment.number_apartments = 5\n",
    "print(RectangleApartment.number_apartments)\n",
    "A1 = RectangleApartment(18, 5)\n",
    "A2 = RectangleApartment(20, 4)\n",
    "print(A1.number_apartments)"
   ]
  },
  {
   "cell_type": "markdown",
   "metadata": {},
   "source": [
    "Attention: an attempt **instance.class_attribute = some_value** will create an instance attribute having the same name, but not modify the class attribute."
   ]
  },
  {
   "cell_type": "code",
   "execution_count": 11,
   "metadata": {
    "collapsed": false
   },
   "outputs": [
    {
     "name": "stdout",
     "output_type": "stream",
     "text": [
      "2\n",
      "2\n",
      "2\n",
      "2\n",
      "10\n",
      "2\n"
     ]
    }
   ],
   "source": [
    "class RectangleApartment:\n",
    "    number_apartments = 0\n",
    "    \n",
    "    def __init__(self, length, width):\n",
    "        self.__length = length\n",
    "        self.__width = width\n",
    "        self.__area = length * width\n",
    "        RectangleApartment.number_apartments += 1\n",
    "\n",
    "A1 = RectangleApartment(18, 5)\n",
    "A2 = RectangleApartment(20, 4)\n",
    "print(RectangleApartment.number_apartments)\n",
    "print(A1.number_apartments)\n",
    "print(A2.number_apartments)\n",
    "\n",
    "A1.number_apartments = 10\n",
    "print(RectangleApartment.number_apartments)\n",
    "print(A1.number_apartments)\n",
    "print(A2.number_apartments)"
   ]
  },
  {
   "cell_type": "markdown",
   "metadata": {},
   "source": [
    "Therefore, if an instance attribute and a class attribute has the same name, calling that name from an instance will return the instance variable."
   ]
  },
  {
   "cell_type": "markdown",
   "metadata": {},
   "source": [
    "## 2.2 Class methods"
   ]
  },
  {
   "cell_type": "markdown",
   "metadata": {},
   "source": [
    "By default, a function defined inside a class definition is considered as an instance method in Python 2 and a static method in Python 3.\n",
    "\n",
    "A class method can be specified with\n",
    "@classmethod\n",
    "\n",
    "It can modified attributes of a class. The first argument of the class method will be the classname."
   ]
  },
  {
   "cell_type": "code",
   "execution_count": 7,
   "metadata": {
    "collapsed": false
   },
   "outputs": [
    {
     "name": "stdout",
     "output_type": "stream",
     "text": [
      "('Begin: ', 5)\n",
      "('After defining 2 instances: ', 7)\n",
      "('After reset: ', 0)\n"
     ]
    }
   ],
   "source": [
    "class RectangleApartment:\n",
    "    number_apartments = 0\n",
    "    \n",
    "    def __init__(self, length, width):\n",
    "        self.__length = length\n",
    "        self.__width = width\n",
    "        self.__area = length * width\n",
    "        RectangleApartment.number_apartments += 1\n",
    "    \n",
    "    @classmethod\n",
    "    def reset_number_apartments(cls):\n",
    "        cls.number_apartments = 0\n",
    "\n",
    "RectangleApartment.number_apartments = 5\n",
    "print(\"Begin: \", RectangleApartment.number_apartments)\n",
    "A1 = RectangleApartment(18, 5)\n",
    "A2 = RectangleApartment(20, 4)\n",
    "print(\"After defining 2 instances: \", RectangleApartment.number_apartments)\n",
    "RectangleApartment.reset_number_apartments()\n",
    "print(\"After reset: \", RectangleApartment.number_apartments)"
   ]
  },
  {
   "cell_type": "markdown",
   "metadata": {},
   "source": [
    "**Attention:** Calling a class function from an instance will modify class attributes, and not only instance attributes."
   ]
  },
  {
   "cell_type": "code",
   "execution_count": 12,
   "metadata": {
    "collapsed": false
   },
   "outputs": [
    {
     "name": "stdout",
     "output_type": "stream",
     "text": [
      "('Begin: ', 0)\n",
      "('After defining 2 instances: ', 2)\n",
      "('After reset, class attribute: ', 0)\n",
      "('After reset, instance attribute: ', 3)\n"
     ]
    }
   ],
   "source": [
    "class RectangleApartment:\n",
    "    number_apartments = 0\n",
    "    \n",
    "    def __init__(self, length, width):\n",
    "        self.__length = length\n",
    "        self.__width = width\n",
    "        self.__area = length * width\n",
    "        RectangleApartment.number_apartments += 1\n",
    "    \n",
    "    @classmethod\n",
    "    def reset_number_apartments(cls):\n",
    "        cls.number_apartments = 0\n",
    "\n",
    "print(\"Begin: \", RectangleApartment.number_apartments)\n",
    "A1 = RectangleApartment(18, 5)\n",
    "A1.number_apartments = 3\n",
    "A2 = RectangleApartment(20, 4)\n",
    "print(\"After defining 2 instances: \", RectangleApartment.number_apartments)\n",
    "A1.reset_number_apartments()\n",
    "print(\"After reset, class attribute: \", RectangleApartment.number_apartments)\n",
    "print(\"After reset, instance attribute: \", A1.number_apartments)"
   ]
  },
  {
   "cell_type": "markdown",
   "metadata": {},
   "source": [
    "## 2.3 Static methods"
   ]
  },
  {
   "cell_type": "markdown",
   "metadata": {},
   "source": [
    "We can also define static methods in a class. Static methods are functions that acts neither on attributes of the current class nor on attributes of the current instance. We can specify a static method by specifying **@staticmethod** before the function definition in Python 2, or nothing in Python 3."
   ]
  },
  {
   "cell_type": "code",
   "execution_count": 16,
   "metadata": {
    "collapsed": false
   },
   "outputs": [
    {
     "name": "stdout",
     "output_type": "stream",
     "text": [
      "5\n"
     ]
    }
   ],
   "source": [
    "class RectangleApartment:\n",
    "    number_apartments = 0\n",
    "    \n",
    "    def __init__(self, length, width):\n",
    "        self.__length = length\n",
    "        self.__width = width\n",
    "        self.__area = length * width\n",
    "        RectangleApartment.number_apartments += 1\n",
    "    \n",
    "    @staticmethod\n",
    "    def add(a, b):\n",
    "        return a + b\n",
    "\n",
    "print(RectangleApartment.add(2, 3))"
   ]
  },
  {
   "cell_type": "markdown",
   "metadata": {},
   "source": [
    "In Python 3, we CANNOT call a static method from an instance.\n",
    "In Python 2, we CAN call a static method from an instance. It does not modify instance nor class attributes."
   ]
  },
  {
   "cell_type": "code",
   "execution_count": 27,
   "metadata": {
    "collapsed": false
   },
   "outputs": [
    {
     "name": "stdout",
     "output_type": "stream",
     "text": [
      "5\n"
     ]
    }
   ],
   "source": [
    "class RectangleApartment:\n",
    "    number_apartments = 0\n",
    "    \n",
    "    def __init__(self, length, width):\n",
    "        self.__length = length\n",
    "        self.__width = width\n",
    "        self.__area = length * width\n",
    "        RectangleApartment.number_apartments += 1\n",
    "    \n",
    "    @staticmethod\n",
    "    def add(a, b):\n",
    "        return a + b\n",
    "\n",
    "a = RectangleApartment(10, 5) \n",
    "print(a.add(2, 3)) #Should raise error in Python 3, use RectangleApartment.add(2, 3) instead."
   ]
  },
  {
   "cell_type": "markdown",
   "metadata": {},
   "source": [
    "If a static method is not related to a class itself, we should define it outside a class definition."
   ]
  },
  {
   "cell_type": "code",
   "execution_count": 29,
   "metadata": {
    "collapsed": true
   },
   "outputs": [],
   "source": [
    "def add(a, b):\n",
    "    return a + b"
   ]
  },
  {
   "cell_type": "markdown",
   "metadata": {},
   "source": [
    "In this way, While importing a static function from a module, it suffices to use **from mymodule import add** instead of **from mymodule import SomeClass**."
   ]
  },
  {
   "cell_type": "markdown",
   "metadata": {},
   "source": [
    "# 3. Inheritance"
   ]
  },
  {
   "cell_type": "markdown",
   "metadata": {},
   "source": [
    "## 3.1 Inheritance"
   ]
  },
  {
   "cell_type": "markdown",
   "metadata": {},
   "source": [
    "Suppose we have two class **A** and **B**, and relation that every instance of class **B** is also an instance of class **A**. We say that **B** is derived from **A**. Instead of copy all attributes and methods from **A**'s definition to **B**, we can use **class B(A)**."
   ]
  },
  {
   "cell_type": "markdown",
   "metadata": {},
   "source": [
    "To init a derived class, we can first derive its parent and then add updates. We can also rewrite methods in derived class by modifying methods in parent's class."
   ]
  },
  {
   "cell_type": "code",
   "execution_count": 35,
   "metadata": {
    "collapsed": false
   },
   "outputs": [
    {
     "name": "stdout",
     "output_type": "stream",
     "text": [
      "100\n",
      "Appartment(100, T2, ['Living room', 'Bedroom1'], 91120, 2001, 20, 5)\n"
     ]
    }
   ],
   "source": [
    "class Apartment:\n",
    "    def __init__(self, area, apart_type, rooms, location, construction_year):\n",
    "        self.area = area\n",
    "        self.apart_type = apart_type\n",
    "        self.rooms = rooms\n",
    "        self.location = location\n",
    "        self.construction_year = construction_year\n",
    "    \n",
    "    def __str__(self):\n",
    "        return \"Appartment(%d, %s, %s, %s, %d)\" % (self.area, self.apart_type, self.rooms, self.location, self.construction_year)\n",
    "\n",
    "class RectangleApartment(Apartment):    \n",
    "    def __init__(self, apart_type, rooms, location, construction_year, length, width):\n",
    "        Apartment.__init__(self, length*width, apart_type, rooms, location, construction_year)\n",
    "        self.length = length\n",
    "        self.width = width\n",
    "    \n",
    "    def __str__(self):\n",
    "        return \"Appartment(%d, %s, %s, %s, %d, %d, %d)\" % (self.area, self.apart_type, self.rooms, \\\n",
    "                                                           self.location, self.construction_year, self.length, self.width)\n",
    "\n",
    "A = RectangleApartment(\"T2\", [\"Living room\", \"Bedroom1\"], \"91120\", 2001, 20, 5)\n",
    "print(A.area)\n",
    "print(A)"
   ]
  },
  {
   "cell_type": "markdown",
   "metadata": {},
   "source": [
    "If a method was not defined in the derived class, the method in parent class will be called."
   ]
  },
  {
   "cell_type": "code",
   "execution_count": 36,
   "metadata": {
    "collapsed": false
   },
   "outputs": [
    {
     "name": "stdout",
     "output_type": "stream",
     "text": [
      "100\n",
      "Appartment(100, T2, ['Living room', 'Bedroom1'], 91120, 2001)\n"
     ]
    }
   ],
   "source": [
    "class Apartment:\n",
    "    def __init__(self, area, apart_type, rooms, location, construction_year):\n",
    "        self.area = area\n",
    "        self.apart_type = apart_type\n",
    "        self.rooms = rooms\n",
    "        self.location = location\n",
    "        self.construction_year = construction_year\n",
    "    \n",
    "    def __str__(self):\n",
    "        return \"Appartment(%d, %s, %s, %s, %d)\" % (self.area, self.apart_type, self.rooms, self.location, self.construction_year)\n",
    "\n",
    "class RectangleApartment(Apartment):    \n",
    "    def __init__(self, apart_type, rooms, location, construction_year, length, width):\n",
    "        Apartment.__init__(self, length*width, apart_type, rooms, location, construction_year)\n",
    "        self.length = length\n",
    "        self.width = width\n",
    "\n",
    "A = RectangleApartment(\"T2\", [\"Living room\", \"Bedroom1\"], \"91120\", 2001, 20, 5)\n",
    "print(A.area)\n",
    "print(A)"
   ]
  },
  {
   "cell_type": "markdown",
   "metadata": {},
   "source": [
    "## 3.2 Multiple inheritance"
   ]
  },
  {
   "cell_type": "markdown",
   "metadata": {},
   "source": [
    "A class can be derived from multiple parent classes, using **class B(A1, A2, ..., An)**. If a method is called and is not defined in **B**, then the method in **A1** will be called if it exists, then **A2**, **A3**, ..."
   ]
  },
  {
   "cell_type": "code",
   "execution_count": 50,
   "metadata": {
    "collapsed": false
   },
   "outputs": [
    {
     "name": "stdout",
     "output_type": "stream",
     "text": [
      "True\n",
      "True\n",
      "True\n",
      "True\n",
      "(10, 10)\n",
      "Parallelogram(10, 10, 90)\n"
     ]
    }
   ],
   "source": [
    "class Parallelogram():\n",
    "    def __init__(self, side1, side2, angle):\n",
    "        self.side1 = side1\n",
    "        self.side2 = side2\n",
    "        self.angle = angle\n",
    "    def __str__(self):\n",
    "        return \"Parallelogram(%d, %d, %d)\" % (self.side1, self.side2, self.angle)\n",
    "    def getsides(self):\n",
    "        return (self.side1, self.side2)\n",
    "\n",
    "class Rectangle(Parallelogram):\n",
    "    def __init__(self, side1, side2):\n",
    "        Parallelogram.__init__(self, side1, side2, 90)\n",
    "    def __str__(self):\n",
    "        return \"Rectangle(%d, %d)\" % (self.side1, self.side2)\n",
    "\n",
    "class Rhombus(Parallelogram):\n",
    "    def __init__(self, side1, angle):\n",
    "        Parallelogram.__init__(self, side1, side1, angle)\n",
    "\n",
    "class Square(Rhombus, Rectangle):\n",
    "    def __init__(self, side):\n",
    "        Rhombus.__init__(self, side, 90)\n",
    "\n",
    "A = Square(10)\n",
    "print(isinstance(A, Square))\n",
    "print(isinstance(A, Rectangle))\n",
    "print(isinstance(A, Rhombus))\n",
    "print(isinstance(A, Parallelogram))\n",
    "print(A.getsides())\n",
    "print(A)  #Should be rectangle if we comment out the __str__ method in Parallelogram."
   ]
  },
  {
   "cell_type": "markdown",
   "metadata": {},
   "source": [
    "# 4. Exception"
   ]
  },
  {
   "cell_type": "markdown",
   "metadata": {
    "collapsed": true
   },
   "source": [
    "# 5. An example: R^2 geometry"
   ]
  },
  {
   "cell_type": "markdown",
   "metadata": {},
   "source": [
    "In this section we will look at some examples and understand how classes let us write clean codes to solve high school math exercises.\n",
    "\n",
    "**Question 1:** Find the distance between 2 points: A(1, 5) and B(-4, 1)"
   ]
  },
  {
   "cell_type": "code",
   "execution_count": 88,
   "metadata": {
    "collapsed": false
   },
   "outputs": [
    {
     "name": "stdout",
     "output_type": "stream",
     "text": [
      "(1.000000, 5.000000)\n",
      "(6.000000, 1.000000)\n",
      "6.40312423743\n",
      "6.40312423743\n"
     ]
    }
   ],
   "source": [
    "import math\n",
    "\n",
    "class Point:\n",
    "    def __init__(self, x, y):\n",
    "        self.x = x\n",
    "        self.y = y\n",
    "            \n",
    "    def __str__(self):\n",
    "        return \"(%f, %f)\" % (self.x, self.y)\n",
    "    \n",
    "    def getDistance(self, Point2):\n",
    "        return math.sqrt((self.x - Point2.x)**2 + (self.y - Point2.y)**2)\n",
    "\n",
    "    #Another way to write the above function: use static method\n",
    "    @staticmethod #No need in Python 3\n",
    "    def distance(Point1, Point2):\n",
    "        return math.sqrt((Point1.x - Point2.x)**2 + (Point1.y - Point2.y)**2)\n",
    "\n",
    "A = Point(1, 5)\n",
    "B = Point(6, 1)\n",
    "print(A)\n",
    "print(B)\n",
    "AB = A.getDistance(B)\n",
    "print(AB)\n",
    "AB = Point.getDistance(A, B)\n",
    "print(AB)"
   ]
  },
  {
   "cell_type": "markdown",
   "metadata": {},
   "source": [
    "**Question 2**: Let A(1, 5) and B(-4, 1). Find the equation of the line AB in form $ax + by + c = 0$ where $a^2 + b^2 + c^2 > 0.$"
   ]
  },
  {
   "cell_type": "code",
   "execution_count": 89,
   "metadata": {
    "collapsed": false
   },
   "outputs": [
    {
     "name": "stdout",
     "output_type": "stream",
     "text": [
      "(-4.000000) * x + (-5.000000) * y + (29.000000) = 0\n"
     ]
    }
   ],
   "source": [
    "class Line:\n",
    "    # Equation of a line: ax + by + c = 0\n",
    "    def __init__(self, Point1, Point2):\n",
    "        if Point1.x == Point2.x and Point1.y == Point2.y:\n",
    "            raise Error(\"Impossible to construct the line\")\n",
    "        else:\n",
    "            self.a = Point2.y - Point1.y\n",
    "            self.b = Point1.x - Point2.x\n",
    "            self.c = Point1.y*Point2.x - Point1.x*Point2.y\n",
    "    \n",
    "    def __str__(self):\n",
    "        return \"(%f) * x + (%f) * y + (%f) = 0\" % (self.a, self.b, self.c)\n",
    "\n",
    "A = Point(1, 5)\n",
    "B = Point(6, 1)\n",
    "d = Line(A, B)\n",
    "print(d)"
   ]
  },
  {
   "cell_type": "markdown",
   "metadata": {},
   "source": [
    "**Question 3:** Let A(0, 0), B(1, 2), C(3, -1), D(1, -5). Is $AB \\parallel CD$? (Convention: a line is parallel to itself.)"
   ]
  },
  {
   "cell_type": "code",
   "execution_count": 90,
   "metadata": {
    "collapsed": false
   },
   "outputs": [
    {
     "name": "stdout",
     "output_type": "stream",
     "text": [
      "(2.000000) * x + (-1.000000) * y + (0.000000) = 0\n",
      "(-4.000000) * x + (2.000000) * y + (14.000000) = 0\n",
      "True\n"
     ]
    }
   ],
   "source": [
    "class Line:\n",
    "    # Equation of a line: ax + by + c = 0\n",
    "    def __init__(self, Point1, Point2):\n",
    "        if Point1.x == Point2.x and Point1.y == Point2.y:\n",
    "            raise Error(\"Impossible to construct the line\")\n",
    "        else:\n",
    "            self.a = Point2.y - Point1.y\n",
    "            self.b = Point1.x - Point2.x\n",
    "            self.c = Point1.y*Point2.x - Point1.x*Point2.y\n",
    "    \n",
    "    def __str__(self):\n",
    "        return \"(%f) * x + (%f) * y + (%f) = 0\" % (self.a, self.b, self.c)\n",
    "    \n",
    "    def isParallel(self, Line2):\n",
    "        return self.a * Line2.b - self.b * Line2.a == 0\n",
    "        \n",
    "A = Point(0, 0)\n",
    "B = Point(1, 2)\n",
    "C = Point(3, -1)\n",
    "D = Point(1, -5)\n",
    "d1 = Line(A, B)\n",
    "d2 = Line(C, D)\n",
    "print(d1)\n",
    "print(d2)\n",
    "print(d1.isParallel(d2))"
   ]
  },
  {
   "cell_type": "markdown",
   "metadata": {},
   "source": [
    "**Question 4:** Let A(0, 0), B(4, 4), C(3, -3), D(1, -1). Is $AB\\perp CD$?"
   ]
  },
  {
   "cell_type": "code",
   "execution_count": 91,
   "metadata": {
    "collapsed": false
   },
   "outputs": [
    {
     "name": "stdout",
     "output_type": "stream",
     "text": [
      "(4.000000) * x + (-4.000000) * y + (0.000000) = 0\n",
      "(2.000000) * x + (2.000000) * y + (2.000000) = 0\n",
      "False\n",
      "True\n"
     ]
    }
   ],
   "source": [
    "class Line:\n",
    "    # Equation of a line: ax + by + c = 0\n",
    "    def __init__(self, Point1, Point2):\n",
    "        if Point1.x == Point2.x and Point1.y == Point2.y:\n",
    "            raise Error(\"Impossible to construct the line\")\n",
    "        else:\n",
    "            self.a = Point2.y - Point1.y\n",
    "            self.b = Point1.x - Point2.x\n",
    "            self.c = Point1.y*Point2.x - Point1.x*Point2.y\n",
    "    \n",
    "    def __str__(self):\n",
    "        return \"(%f) * x + (%f) * y + (%f) = 0\" % (self.a, self.b, self.c)\n",
    "    \n",
    "    def isParallel(self, Line2):\n",
    "        return self.a * Line2.b - self.b * Line2.a == 0\n",
    "    \n",
    "    def isPerpendicular(self, Line2):\n",
    "        return self.a * Line2.a + self.b * Line2.b == 0\n",
    "\n",
    "A = Point(0, 0)\n",
    "B = Point(4, 4)\n",
    "C = Point(3, -4)\n",
    "D = Point(1, -2)\n",
    "d1 = Line(A, B)\n",
    "d2 = Line(C, D)\n",
    "print(d1)\n",
    "print(d2)\n",
    "print(d1.isParallel(d2))\n",
    "print(d1.isPerpendicular(d2))"
   ]
  },
  {
   "cell_type": "markdown",
   "metadata": {},
   "source": [
    "**Question 5:** Let A(0, 0), B(4, 4), C(3, -3), D(1, -1). Find the point of intersection of $AB$ and $CD$."
   ]
  },
  {
   "cell_type": "code",
   "execution_count": 95,
   "metadata": {
    "collapsed": false
   },
   "outputs": [
    {
     "name": "stdout",
     "output_type": "stream",
     "text": [
      "(4.000000) * x + (-4.000000) * y + (0.000000) = 0\n",
      "(2.000000) * x + (2.000000) * y + (2.000000) = 0\n",
      "(-0.500000, -0.500000)\n"
     ]
    }
   ],
   "source": [
    "class Line:\n",
    "    # Equation of a line: ax + by + c = 0\n",
    "    def __init__(self, Point1, Point2):\n",
    "        if Point1.x == Point2.x and Point1.y == Point2.y:\n",
    "            raise Error(\"Impossible to construct the line\")\n",
    "        else:\n",
    "            self.a = Point2.y - Point1.y\n",
    "            self.b = Point1.x - Point2.x\n",
    "            self.c = Point1.y*Point2.x - Point1.x*Point2.y\n",
    "    \n",
    "    def __str__(self):\n",
    "        return \"(%f) * x + (%f) * y + (%f) = 0\" % (self.a, self.b, self.c)\n",
    "    \n",
    "    def isParallel(self, Line2):\n",
    "        return self.a * Line2.b - self.b * Line2.a == 0\n",
    "    \n",
    "    def isPerpendicular(self, Line2):\n",
    "        return self.a * Line2.a + self.b * Line2.b == 0\n",
    "    \n",
    "    def getIntersection(self, Line2):\n",
    "        if self.isParallel(Line2):\n",
    "            return None\n",
    "        det1 = self.a * Line2.c - self.c * Line2.a\n",
    "        det2 = self.c * Line2.b - self.b * Line2.c\n",
    "        det3 = self.a * Line2.b - self.b * Line2.a\n",
    "        return Point(-float(det1)/det3, -float(det2)/det3) #No need float in Python 3\n",
    "\n",
    "A = Point(0, 0)\n",
    "B = Point(4, 4)\n",
    "C = Point(3, -4)\n",
    "D = Point(1, -2)\n",
    "d1 = Line(A, B)\n",
    "d2 = Line(C, D)\n",
    "print(d1)\n",
    "print(d2)\n",
    "print(d1.getIntersection(d2))"
   ]
  },
  {
   "cell_type": "markdown",
   "metadata": {},
   "source": [
    "**Question 6:** Let A(0, 4), B(1, 7), C(-2, -2). Are they aligned?"
   ]
  },
  {
   "cell_type": "code",
   "execution_count": 97,
   "metadata": {
    "collapsed": false
   },
   "outputs": [
    {
     "name": "stdout",
     "output_type": "stream",
     "text": [
      "True\n"
     ]
    }
   ],
   "source": [
    "A = Point(0, 4)\n",
    "B = Point(1, 7)\n",
    "C = Point(-2, -2)\n",
    "print(Line(A, B).isParallel(Line(A, C)))"
   ]
  },
  {
   "cell_type": "markdown",
   "metadata": {},
   "source": [
    "**Question 7:** Let A(0, 4), B(3, 3), C(-2, -2). Write the equation of the line pass through $A$ and perpendicular to $BC$."
   ]
  },
  {
   "cell_type": "code",
   "execution_count": 100,
   "metadata": {
    "collapsed": false
   },
   "outputs": [
    {
     "name": "stdout",
     "output_type": "stream",
     "text": [
      "(-5.000000) * x + (5.000000) * y + (0.000000) = 0\n",
      "(-5.000000) * x + (-5.000000) * y + (20.000000) = 0\n"
     ]
    }
   ],
   "source": [
    "class Point:\n",
    "    def __init__(self, x, y):\n",
    "        self.x = x\n",
    "        self.y = y\n",
    "            \n",
    "    def __str__(self):\n",
    "        return \"(%f, %f)\" % (self.x, self.y)\n",
    "    \n",
    "    def getDistance(self, Point2):\n",
    "        return math.sqrt((self.x - Point2.x)**2 + (self.y - Point2.y)**2)\n",
    "    \n",
    "    def getPerpendicularLineToLine(self, Line2):\n",
    "        result = Line(Point(0, 0), Point(1, 1)) #Default value, not important.\n",
    "        result.a = -Line2.b\n",
    "        result.b = Line2.a\n",
    "        result.c = -(result.a * self.x + result.b * self.y)\n",
    "        return result\n",
    "\n",
    "A = Point(0, 4)\n",
    "BC = Line(Point(3, 3), Point(-2, -2))\n",
    "print(BC)\n",
    "print(A.getPerpendicularLineToLine(BC))"
   ]
  },
  {
   "cell_type": "markdown",
   "metadata": {},
   "source": [
    "**Question 8:** Let A(0, 4), B(3, 3), C(-2, -2). Find the height $AH$ of the triangle $ABC$."
   ]
  },
  {
   "cell_type": "code",
   "execution_count": 103,
   "metadata": {
    "collapsed": false
   },
   "outputs": [
    {
     "name": "stdout",
     "output_type": "stream",
     "text": [
      "2.82842712475\n"
     ]
    }
   ],
   "source": [
    "A = Point(0, 4)\n",
    "BC = Line(Point(3, 3), Point(-2, -2))\n",
    "d = A.getPerpendicularLineToLine(BC)\n",
    "H = d.getIntersection(BC)\n",
    "print(A.getDistance(H))"
   ]
  },
  {
   "cell_type": "markdown",
   "metadata": {},
   "source": [
    "**Question 9:** Let A(0, 4), B(3, 3), C(-2, -2). Find the height AH of the triangle ABC."
   ]
  },
  {
   "cell_type": "code",
   "execution_count": 107,
   "metadata": {
    "collapsed": false
   },
   "outputs": [
    {
     "name": "stdout",
     "output_type": "stream",
     "text": [
      "13.416407865\n"
     ]
    }
   ],
   "source": [
    "class Triangle:\n",
    "    def __init__(self, A, B, C):\n",
    "        self.A = A\n",
    "        self.B = B\n",
    "        self.C = C\n",
    "        self.BC = Line(B, C)\n",
    "        self.CA = Line(C, A)\n",
    "        self.AB = Line(A, B)\n",
    "    \n",
    "    def getArea(self):\n",
    "        d = (self.A).getPerpendicularLineToLine(self.BC)\n",
    "        H = d.getIntersection(self.BC)\n",
    "        length_AH = A.getDistance(H)\n",
    "        length_BC = B.getDistance(C)\n",
    "        return 1./2 * length_AH * length_BC\n",
    "\n",
    "ABC = Triangle(Point(0, 4), Point(3, 3), Point(-2, -2))\n",
    "print(ABC.getArea())"
   ]
  },
  {
   "cell_type": "markdown",
   "metadata": {},
   "source": [
    "**Question 10:** Let A(0, 4), B(3, 3), C(-2, -2). Find the equation of the circle pass through $A, B, C$."
   ]
  },
  {
   "cell_type": "markdown",
   "metadata": {},
   "source": [
    "<img src=\"Circle.png\"></img>\n",
    "\n",
    "http://www.wolframalpha.com/widgets/view.jsp?id=b0d28dd78e48b231c995d69b91666803"
   ]
  },
  {
   "cell_type": "code",
   "execution_count": 117,
   "metadata": {
    "collapsed": false
   },
   "outputs": [
    {
     "name": "stdout",
     "output_type": "stream",
     "text": [
      "(0.625000, 0.875000)\n",
      "(3.1868871959954905, 3.1868871959954905, 3.1868871959954905)\n",
      "((x - (0.625000))^2 + (y - (0.875000))^2 = 10.156250)\n"
     ]
    }
   ],
   "source": [
    "class Point:\n",
    "    def __init__(self, x, y):\n",
    "        self.x = x\n",
    "        self.y = y\n",
    "            \n",
    "    def __str__(self):\n",
    "        return \"(%f, %f)\" % (self.x, self.y)\n",
    "    \n",
    "    def getDistance(self, Point2):\n",
    "        return math.sqrt((self.x - Point2.x)**2 + (self.y - Point2.y)**2)\n",
    "    \n",
    "    def getPerpendicularLineToLine(self, Line2):\n",
    "        result = Line(Point(0, 0), Point(1, 1)) #Default value, not important.\n",
    "        result.a = -Line2.b\n",
    "        result.b = Line2.a\n",
    "        result.c = -(result.a * self.x + result.b * self.y)\n",
    "        return result\n",
    "\n",
    "    def getMidPoint(self, Point2):\n",
    "        return Point((self.x + Point2.x)/2., (self.y + Point2.y)/2.)\n",
    "\n",
    "class Line:\n",
    "    # Equation of a line: ax + by + c = 0\n",
    "    def __init__(self, Point1, Point2):\n",
    "        if Point1.x == Point2.x and Point1.y == Point2.y:\n",
    "            raise Error(\"Impossible to construct the line\")\n",
    "        else:\n",
    "            self.a = Point2.y - Point1.y\n",
    "            self.b = Point1.x - Point2.x\n",
    "            self.c = Point1.y*Point2.x - Point1.x*Point2.y\n",
    "    \n",
    "    def __str__(self):\n",
    "        return \"(%f) * x + (%f) * y + (%f) = 0\" % (self.a, self.b, self.c)\n",
    "    \n",
    "    def isParallel(self, Line2):\n",
    "        return self.a * Line2.b - self.b * Line2.a == 0\n",
    "    \n",
    "    def isPerpendicular(self, Line2):\n",
    "        return self.a * Line2.a + self.b * Line2.b == 0\n",
    "    \n",
    "    def getIntersection(self, Line2):\n",
    "        if self.isParallel(Line2):\n",
    "            return None\n",
    "        det1 = self.a * Line2.c - self.c * Line2.a\n",
    "        det2 = self.c * Line2.b - self.b * Line2.c\n",
    "        det3 = self.a * Line2.b - self.b * Line2.a\n",
    "        return Point(-float(det2)/det3, -float(det1)/det3) #No need float in Python 3\n",
    "\n",
    "class Circle:\n",
    "    #Equation: (x - a)^2 + (y - b)^2 = r^2\n",
    "    def __init__(self, center, radius):\n",
    "        self.center = center\n",
    "        self.radius = radius\n",
    "        \n",
    "    def __str__(self):\n",
    "        return \"((x - (%f))^2 + (y - (%f))^2 = %f)\" % (self.center.x, self.center.y, self.radius ** 2)\n",
    "\n",
    "A = Point(0, 4)\n",
    "B = Point(3, 3)\n",
    "C = Point(2, -2)\n",
    "BC = Line(B, C)\n",
    "AB = Line(A, B)\n",
    "AB_midpoint = A.getMidPoint(B)\n",
    "BC_midperpend = BC_midpoint.getPerpendicularLineToLine(BC)\n",
    "AB_midperpend = AB_midpoint.getPerpendicularLineToLine(AB)\n",
    "O = BC_midperpend.getIntersection(AB_midperpend)\n",
    "print O\n",
    "distance_OA = O.getDistance(A)\n",
    "distance_OB = O.getDistance(B)\n",
    "distance_OC = O.getDistance(C)\n",
    "print(distance_OA, distance_OB, distance_OC)\n",
    "Outcircle = Circle(O, distance_OA)\n",
    "print(Outcircle)"
   ]
  },
  {
   "cell_type": "code",
   "execution_count": null,
   "metadata": {
    "collapsed": true
   },
   "outputs": [],
   "source": []
  }
 ],
 "metadata": {
  "kernelspec": {
   "display_name": "Python 2",
   "language": "python",
   "name": "python2"
  },
  "language_info": {
   "codemirror_mode": {
    "name": "ipython",
    "version": 2
   },
   "file_extension": ".py",
   "mimetype": "text/x-python",
   "name": "python",
   "nbconvert_exporter": "python",
   "pygments_lexer": "ipython2",
   "version": "2.7.13"
  }
 },
 "nbformat": 4,
 "nbformat_minor": 0
}
