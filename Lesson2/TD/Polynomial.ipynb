{
 "cells": [
  {
   "cell_type": "markdown",
   "metadata": {},
   "source": [
    "# TD2 - Univariate Polynomials - Đa thức một biến\n"
   ]
  },
  {
   "cell_type": "markdown",
   "metadata": {},
   "source": [
    "## Mô tả"
   ]
  },
  {
   "cell_type": "markdown",
   "metadata": {},
   "source": [
    "Đa thức một biến được biểu diễn dưới dạng \n",
    "$a_0+a_1 X+a_2 X^2+⋯+a_n X^n$\n",
    "trong đó $a_n \\neq 0$.\n",
    "\n",
    "Trong TD này ta làm việc với các đa thức với hệ số **thực**, tức $a_0, a_1, \\ldots, a_n \\in \\mathbf R$.\n",
    "\n",
    "Ta muốn xây dựng một class Polynomial trong Python thực hiện những phép toán cơ bản trên đa thức như cộng, trừ, nhân, chia, luỹ thừa, tìm ước chung lớn nhất và bội chung nhỏ nhất, tìm nghiệm của đa thức và tìm cực trị của đa thức.\n"
   ]
  },
  {
   "cell_type": "markdown",
   "metadata": {},
   "source": [
    "## Yêu cầu"
   ]
  },
  {
   "cell_type": "markdown",
   "metadata": {},
   "source": [
    "Bạn cần viết code trong file <a href=\"Polynomial.py\">Polynomial.py</a> và chạy các test trong <a href=\"TestPolynomial.py\">TestPolynomial.py</a>. Trong file Polynomial.py, bạn cần hoàn thành các method trong class **Polynomial**, **LinearPolynomial**, **QuadraticPolynomial** và **CubicPolynomial**. Ngoài ra đã có một class **PolynomialError** được viết sẵn mà bạn có thể sử dụng. Bạn có thể viết các hàm phụ khác ngoài các hàm đã yêu cầu trong đề.\n",
    "\n",
    "Bạn có thể sử dụng các hàm từ thư viện khác miễn là hàm đó không trực tiếp trả lời câu hỏi trong bài \n",
    "\n",
    "Việc sử dụng file **TestPolynomial.py** để test được thực hiện như bài 1. (trong Spyder, Run -> Configure và gõ tên test tương ứng với bài tập (test_1, test_2, test_3, …, test_13)"
   ]
  },
  {
   "cell_type": "markdown",
   "metadata": {},
   "source": [
    "Bạn cũng có thể tự copy các đoạn test phía dưới vào một file Python để chạy, nhớ import module **Polynomial.py** với các hàm hoàn chỉnh."
   ]
  },
  {
   "cell_type": "code",
   "execution_count": 30,
   "metadata": {
    "collapsed": false
   },
   "outputs": [],
   "source": [
    "from Polynomial_Solutions import *"
   ]
  },
  {
   "cell_type": "markdown",
   "metadata": {},
   "source": [
    "### Bài 1. Khởi tạo đa thức."
   ]
  },
  {
   "cell_type": "markdown",
   "metadata": {},
   "source": [
    "Ta biết rằng một đa thức hoàn toàn được xác định nếu các hệ số của nó được xác định. Giả sử ta biết các hệ số của nó và biểu diễn nó trong một list của Python.\n",
    "\n",
    "Ví dụ, với đa thức $1+2X+3X^2+4X^5$, list hệ số tương ứng là **[1, 2, 3, 0, 0, 4]**. \n",
    "\n",
    "*1. Hãy viết instance method **\\_\\_init\\_\\_(self, coefficients)** trong class **Polynomial** để khởi tạo đa thức từ đối số **coefficients** là list các hệ số. Việc chọn attribute cho các instance của class **Polynomial** hoàn toàn do bạn quyết định.*\n",
    "\n",
    "*2. Hãy viết instance method **getCoefficients(self)** trong class Polynomial để trả lại list các hệ số của đa thức **self** ở dạng đơn giản nhất, tức là hệ số cao nhất (phần tử cuối cùng của list trả lại) phải khác 0. (Theo quy ước này, đa thức không sẽ trả lại list rỗng [])*\n",
    "    \n",
    "Sau khi viết các instance method ở câu 1, 2, đoạn code dưới đây giúp test các hàm của bạn."
   ]
  },
  {
   "cell_type": "code",
   "execution_count": 2,
   "metadata": {
    "collapsed": false
   },
   "outputs": [
    {
     "name": "stdout",
     "output_type": "stream",
     "text": [
      "Coefficients of P: \n",
      "[1, -2, 3, 0, 1, 4]\n",
      "Coefficients of Q: \n",
      "[]\n"
     ]
    }
   ],
   "source": [
    "P = Polynomial([1, -2, 3, 0, 1, 4, 0, 0])\n",
    "print(\"Coefficients of P: \")\n",
    "print(P.getCoefficients())\n",
    "Q = Polynomial([0, 0, 0])\n",
    "print(\"Coefficients of Q: \")\n",
    "print(Q.getCoefficients())"
   ]
  },
  {
   "cell_type": "markdown",
   "metadata": {},
   "source": [
    "*3. Hãy viết instance method **\\_\\_str\\_\\_(self)** để in ra **self** một cách \"đẹp mắt.\" Cách biểu diễn do bạn tuỳ ý quyết định (ví dụ biểu diễn đa thức theo các số hạng có bậc giảm dần hoặc tăng dần, sử dụng biến \"X\" hay \"x\" cho biến số). Hàm này không cần được test và không có ảnh hưởng đến các bài tập sau.*"
   ]
  },
  {
   "cell_type": "markdown",
   "metadata": {},
   "source": [
    "Dưới đây là một lời giải về một hàm (method) như vậy. Bạn có thể sử dụng hàm này hoặc tự viết hàm cho mình."
   ]
  },
  {
   "cell_type": "code",
   "execution_count": 3,
   "metadata": {
    "collapsed": false
   },
   "outputs": [
    {
     "name": "stdout",
     "output_type": "stream",
     "text": [
      "1 - X + X^2 + 2*X^3 + 3.5*X^6 + X^7 \n"
     ]
    }
   ],
   "source": [
    "def __str__(self):\n",
    "        \"\"\"\n",
    "            Exercise 1:\n",
    "            Print a polynomial\n",
    "        \"\"\"\n",
    "        if self.__coefficients == []:\n",
    "            return \"0\"\n",
    "        \n",
    "        expression = \"\"\n",
    "        for i, coef in enumerate(self.__coefficients):\n",
    "            if coef > 0:\n",
    "                expression += \"+ \"\n",
    "                if i == 0:\n",
    "                    expression += str(coef)\n",
    "                elif coef != 1:\n",
    "                    expression += str(coef) + \"*\"\n",
    "                if i > 0:\n",
    "                    expression += \"X\"\n",
    "                    if i > 1:\n",
    "                        expression += \"^\" + str(i) \n",
    "                expression += \" \"\n",
    "            if coef < 0:\n",
    "                expression += \"- \"\n",
    "                if i == 0:\n",
    "                    expression += str(-coef)\n",
    "                elif coef != -1:\n",
    "                    expression += str(-coef) + \"*\"\n",
    "                if i > 0:\n",
    "                    expression += \"X\"\n",
    "                    if i > 1:\n",
    "                        expression += \"^\" + str(i) \n",
    "                expression += \" \"\n",
    "                \n",
    "        if expression[0] == \"+\":\n",
    "            expression = expression[2:] #Remove \"+ \" if the first coefficient is >0\n",
    "        \n",
    "        return expression\n",
    "\n",
    "P = Polynomial([1, -1, 1, 2, 0, 0, 3.5, 1])\n",
    "print(P) #Print a human-readable form of P"
   ]
  },
  {
   "cell_type": "markdown",
   "metadata": {},
   "source": [
    "### Bài 2. Bậc của đa thức"
   ]
  },
  {
   "cell_type": "markdown",
   "metadata": {},
   "source": [
    "*Viết instance method **getDegree(self)** trong class **Polynomial** trả lại bậc của **self** dưới dạng một số nguyên.*\n",
    "\n",
    "*Ta quy ước bậc của đa thức không là -1.*\n",
    "\n",
    "Đoạn code dưới đây giúp test hàm của bạn."
   ]
  },
  {
   "cell_type": "code",
   "execution_count": 4,
   "metadata": {
    "collapsed": false
   },
   "outputs": [
    {
     "name": "stdout",
     "output_type": "stream",
     "text": [
      "(7, 0, -1)\n"
     ]
    }
   ],
   "source": [
    "P = Polynomial([1, -1, 1, 2, 0, 0, 3.5, 1])\n",
    "Q = Polynomial([1, 0, 0])\n",
    "R = Polynomial([0])\n",
    "print(P.getDegree(), Q.getDegree(), R.getDegree())"
   ]
  },
  {
   "cell_type": "markdown",
   "metadata": {},
   "source": [
    "### Bài 3. Cộng đa thức"
   ]
  },
  {
   "cell_type": "markdown",
   "metadata": {},
   "source": [
    "*Viết instance method **add(self, P)** trong class **Polynomial** nhận đối số **P** là một đa thức khác (tức một instance của class **Polynomial**), và trả lại kết quả là một đa thức (tức một instance thuộc class **Polynomial**) bằng tổng của **self** và **P**.*\n",
    "\n",
    "Đoạn code dưới đây giúp test hàm của bạn."
   ]
  },
  {
   "cell_type": "code",
   "execution_count": 5,
   "metadata": {
    "collapsed": false
   },
   "outputs": [
    {
     "name": "stdout",
     "output_type": "stream",
     "text": [
      "1 + 2*X + 2*X^2 + 2*X^4 + X^5 \n",
      "- 1 + 2*X + X^2 - X^4 - X^5 \n",
      "Their sum: \n",
      "4*X + 3*X^2 + X^4 \n"
     ]
    }
   ],
   "source": [
    "P = Polynomial([1, 2, 2, 0, 2, 1])\n",
    "print(P)\n",
    "Q = Polynomial([-1, 2, 1, 0, -1, -1])\n",
    "print(Q)\n",
    "R = P.add(Q)\n",
    "print(\"Their sum: \")\n",
    "print(R)"
   ]
  },
  {
   "cell_type": "markdown",
   "metadata": {},
   "source": [
    "### Bài 4. Trừ đa thức"
   ]
  },
  {
   "cell_type": "markdown",
   "metadata": {},
   "source": [
    "*Viết instance method **substract(self, P)** trong class **Polynomial** nhận đối số **P** là một đa thức khác (tức một instance của class **Polynomial**), và trả lại kết quả là một đa thức (tức một instance thuộc class **Polynomial**) bằng **self - P**. *\n",
    "\n",
    "Đoạn code dưới đây giúp test hàm của bạn."
   ]
  },
  {
   "cell_type": "code",
   "execution_count": 6,
   "metadata": {
    "collapsed": false
   },
   "outputs": [
    {
     "name": "stdout",
     "output_type": "stream",
     "text": [
      "1 + 2*X + 2*X^2 + 2*X^4 + X^5 \n",
      "- 1 + 2*X + X^2 - X^4 + X^5 \n",
      "Their difference: \n",
      "2 + X^2 + 3*X^4 \n"
     ]
    }
   ],
   "source": [
    "P = Polynomial([1, 2, 2, 0, 2, 1])\n",
    "print(P)\n",
    "Q = Polynomial([-1, 2, 1, 0, -1, 1])\n",
    "print(Q)\n",
    "R = P.substract(Q)\n",
    "print(\"Their difference: \")\n",
    "print(R)"
   ]
  },
  {
   "cell_type": "markdown",
   "metadata": {},
   "source": [
    "### Bài 5. Nhân đa thức"
   ]
  },
  {
   "cell_type": "markdown",
   "metadata": {},
   "source": [
    "*Viết instance method **multiply(self, P)** trong class **Polynomial** nhận đối số **P** là một đa thức khác (tức một instance của class **Polynomial**), và trả lại kết quả là một đa thức (tức một instance thuộc class **Polynomial**) bằng tích của **self** và **P**. *\n",
    "\n",
    "Đoạn code dưới đây giúp test hàm của bạn."
   ]
  },
  {
   "cell_type": "code",
   "execution_count": 7,
   "metadata": {
    "collapsed": false
   },
   "outputs": [
    {
     "name": "stdout",
     "output_type": "stream",
     "text": [
      "P = 1 + X \n",
      "Q = 1 + 2*X \n",
      "P * Q = 1 + 3*X + 2*X^2 \n",
      "P * P * P * P * P = 1 + 5*X + 10*X^2 + 10*X^3 + 5*X^4 + X^5 \n",
      "P * 0 = 0\n"
     ]
    }
   ],
   "source": [
    "P = Polynomial([1, 1])\n",
    "print(\"P = \" + str(P))\n",
    "Q = Polynomial([1, 2])\n",
    "print(\"Q = \" + str(Q))\n",
    "R = P.multiply(Q)\n",
    "print(\"P * Q = \" + str(R))\n",
    "print(\"P * P * P * P * P = \" + str(P.multiply(P).multiply(P).multiply(P).multiply(P)))\n",
    "S = Polynomial([0])\n",
    "print(\"P * 0 = \" + str(P.multiply(S)))"
   ]
  },
  {
   "cell_type": "markdown",
   "metadata": {},
   "source": [
    "### Bài 6. Luỹ thừa một đa thức"
   ]
  },
  {
   "cell_type": "markdown",
   "metadata": {},
   "source": [
    "*Viết instance method **power(self, a)** trong class **Polynomial** nhận đối số **a** là một số nguyên không âm (type **int**) và trả lại kết quả là một đa thức bằng luỹ thừa bậc **a** của **self**. Lưu ý: $P^0=1$ với mọi đa thức khác không $P$. Với trường hợp $0^0$, bạn có thể quy ước kết quả bằng 0 hoặc báo lỗi.*\n",
    "\n",
    "Đoạn code dưới đây giúp test hàm của bạn."
   ]
  },
  {
   "cell_type": "code",
   "execution_count": 8,
   "metadata": {
    "collapsed": false
   },
   "outputs": [
    {
     "name": "stdout",
     "output_type": "stream",
     "text": [
      "P = 1 + X \n",
      "P^10 = 1 + 10*X + 45*X^2 + 120*X^3 + 210*X^4 + 252*X^5 + 210*X^6 + 120*X^7 + 45*X^8 + 10*X^9 + X^10 \n"
     ]
    }
   ],
   "source": [
    "P = Polynomial([1, 1])\n",
    "print(\"P = \" + str(P))\n",
    "Q = P.power(10)\n",
    "print(\"P^10 = \" + str(Q))"
   ]
  },
  {
   "cell_type": "markdown",
   "metadata": {},
   "source": [
    "Ngoài ra, bạn có thể tự test bằng cách tính $(X+1)^{1000}$. Nếu xảy ra lỗi **RuntimeError: maximum recursion depth exceeded**, hay thử implement bằng một thuật toán khác có số bước lặp ít hơn."
   ]
  },
  {
   "cell_type": "markdown",
   "metadata": {},
   "source": [
    "### Bài 7. Chia đa thức"
   ]
  },
  {
   "cell_type": "markdown",
   "metadata": {},
   "source": [
    "*Viết instance method **divide(self, P)** trong class **Polynomial** nhận đối số là một đa thức **P**, và trả lại kết quả là một tuple **(Q, R)**, trong đó **Q** là đa thức thương và **R** là đa thức dư trong phép chia. Nếu **P** bằng 0, raise một Exception thuộc type PolynomialError.*\n",
    "\n",
    "Đoạn code dưới đây giúp test hàm của bạn."
   ]
  },
  {
   "cell_type": "code",
   "execution_count": 9,
   "metadata": {
    "collapsed": false
   },
   "outputs": [
    {
     "name": "stdout",
     "output_type": "stream",
     "text": [
      "P = 1 + X^2 + 2*X^4 + X^5 \n",
      "Q = 1 - 3*X + X^2 \n",
      "P/Q = 38.0 + 14.0*X + 5.0*X^2 + X^3 \n",
      "P mod Q = - 37.0 + 100.0*X \n",
      "Verification: R * Q + S = 1.0 + X^2 + 2.0*X^4 + X^5 \n",
      "----------\n",
      "'Impossible to divide by 0'\n"
     ]
    }
   ],
   "source": [
    "P = Polynomial([1, 0, 1, 0, 2, 1])\n",
    "print(\"P = \" + str(P))\n",
    "Q = Polynomial([1, -3, 1])\n",
    "print(\"Q = \" + str(Q))\n",
    "\n",
    "Division = P.divide(Q)\n",
    "R = Division[0]\n",
    "S = Division[1]\n",
    "\n",
    "print(\"P/Q = \" + str(R))\n",
    "print(\"P mod Q = \" + str(S))\n",
    "\n",
    "print(\"Verification: R * Q + S = \" + str(R.multiply(Q).add(S)))\n",
    "\n",
    "print(\"----------\")\n",
    "\n",
    "try:\n",
    "    P.divide(Polynomial([0]))\n",
    "except PolynomialError as e:\n",
    "    print(e)"
   ]
  },
  {
   "cell_type": "markdown",
   "metadata": {},
   "source": [
    "### Bài 8. Tính chia hết của đa thức"
   ]
  },
  {
   "cell_type": "markdown",
   "metadata": {},
   "source": [
    "*Viết instance method **isDivisor(self, P)** trong class **Polynomial** nhận đối số là đa thức **P** và trả lại kết quả **True** nếu **self** là ước của **P**, False nếu không. Nếu **self** là đa thức không, quy ước kết quả là **False**.*\n",
    "\n",
    "Đoạn code dưới đây giúp test hàm của bạn."
   ]
  },
  {
   "cell_type": "code",
   "execution_count": 10,
   "metadata": {
    "collapsed": false
   },
   "outputs": [
    {
     "name": "stdout",
     "output_type": "stream",
     "text": [
      "True\n",
      "False\n"
     ]
    }
   ],
   "source": [
    "P = Polynomial([1, 1])\n",
    "Q = Polynomial([1, 0, 0, 0, 0, 0, -1])\n",
    "R = Polynomial([1, 0, 0, 0, 0, 0, 1])\n",
    "print(P.isDivisor(Q))\n",
    "print(P.isDivisor(R))"
   ]
  },
  {
   "cell_type": "markdown",
   "metadata": {},
   "source": [
    "### Bài 9. Ước chung lớn nhất"
   ]
  },
  {
   "cell_type": "markdown",
   "metadata": {},
   "source": [
    "*Viết instance method **getGcd(self, P**) trong class **Polynomial** nhận đối số là đa thức P và trả lại kết quả là đa thức ước chung lớn nhất của chúng. (Nhắc lại rằng ước chung lớn nhất có hệ số cao nhất là 1).*\n",
    "\n",
    "Đoạn code dưới đây giúp test hàm của bạn."
   ]
  },
  {
   "cell_type": "code",
   "execution_count": 11,
   "metadata": {
    "collapsed": false
   },
   "outputs": [
    {
     "name": "stdout",
     "output_type": "stream",
     "text": [
      "gcd(1 - X^2 , 1 - X^3 ) = - 1.0 + X \n"
     ]
    }
   ],
   "source": [
    "P = Polynomial([1, 0, -1])\n",
    "Q = Polynomial([1, 0, 0, -1])\n",
    "R = P.getGcd(Q)\n",
    "print(\"gcd(\" + str(P) + \", \" + str(Q) + \") = \" + str(R))"
   ]
  },
  {
   "cell_type": "markdown",
   "metadata": {},
   "source": [
    "### Bài 10. Đa thức bậc nhất, bậc hai và bậc ba"
   ]
  },
  {
   "cell_type": "markdown",
   "metadata": {},
   "source": [
    "Bây giờ ta làm việc với các đa thức đơn giản nhất: bậc nhất, bậc hai và bậc ba thông qua các class **LinearPolynomial, QuadraticPolynomial, CubicPolynomial**.\n",
    "\n",
    "*Hãy hoàn thiện instance method **\\_\\_init\\_\\_** trong các class **LinearPolynomial, QuadraticPolynomial, CubicPolynomial** thừa kế class Polynomial, sao cho nếu nó khởi tạo một đa thức không phải bậc nhất, bậc hai, bậc ba tương ứng thì chương trình sẽ báo lỗi.*\n",
    "\n",
    "Đoạn code dưới đây giúp test hàm của bạn."
   ]
  },
  {
   "cell_type": "code",
   "execution_count": 12,
   "metadata": {
    "collapsed": false
   },
   "outputs": [
    {
     "name": "stdout",
     "output_type": "stream",
     "text": [
      "1 + 2*X \n",
      "1 + 2*X - X^2 \n",
      "Error: 'Not a cubic polynomial.'\n"
     ]
    }
   ],
   "source": [
    "try:\n",
    "    P = LinearPolynomial([1, 2])\n",
    "    print(P)\n",
    "    Q = QuadraticPolynomial([1, 2, -1])\n",
    "    print(Q)\n",
    "    R = CubicPolynomial([1, 2, 3, -1, 2])\n",
    "    print(R)\n",
    "except PolynomialError as e:\n",
    "    print(\"Error: \" + str(e))\n"
   ]
  },
  {
   "cell_type": "markdown",
   "metadata": {},
   "source": [
    "### Bài 11. Nghiệm của đa thức bậc nhất và bậc hai"
   ]
  },
  {
   "cell_type": "markdown",
   "metadata": {},
   "source": [
    "Bài toán tiếp theo là tìm nghiệm của mọi đa thức.\n",
    "\n",
    "*Viết instance method **getRoots()** trong class **Polynomial** trả lại list rỗng [] (by default) cho mọi đa thức.*\n",
    "\n",
    "*Sau đó, trong các class kế thừa **LinearPolynomial, QuadraticPolynomial**, viết lại method **getRoots()** trả lại một list gồm tất cả các nghiệm **phức** của các đa thức bậc nhất và bậc hai.* \n",
    "\n",
    "Lưu ý, list trả về cần được sắp xếp phần thực tăng dần. Nếu phần thực bằng nhau thì xếp phần ảo tăng dần.\n",
    "\n",
    "Đoạn code dưới đây giúp test hàm của bạn."
   ]
  },
  {
   "cell_type": "code",
   "execution_count": 13,
   "metadata": {
    "collapsed": false
   },
   "outputs": [
    {
     "name": "stdout",
     "output_type": "stream",
     "text": [
      "[-0.5]\n",
      "[-1j, 1j]\n"
     ]
    }
   ],
   "source": [
    "P = LinearPolynomial([1, 2])\n",
    "Q = QuadraticPolynomial([1, 0, 1])\n",
    "R = CubicPolynomial([1, 2, 3, -1])\n",
    "print(P.getRoots())\n",
    "print(Q.getRoots())\n",
    "#print(R.getRoots()) #should print []"
   ]
  },
  {
   "cell_type": "markdown",
   "metadata": {},
   "source": [
    "### Bài 12. Nghiệm phức của đa thức"
   ]
  },
  {
   "cell_type": "markdown",
   "metadata": {},
   "source": [
    "*Viết lại hàm **getRoots()** cho class **Polynomial** bằng cách implement thuật toán Muller, giúp tìm tất cả các nghiệm phức của mọi đa thức với hệ số thực.*\n",
    "\n",
    "Bạn có thể tham khảo trang 42, 43 của tài liệu sau: http://www.math.niu.edu/~dattab/MATH435.2013/ROOT_FINDING.pdf\n",
    "\n",
    "Cũng như trên, list nghiệm của bạn cần được sắp xếp phần thực tăng dần. Nếu phần thực bằng nhau thì xếp phần ảo tăng dần.\n",
    "\n",
    "Đoạn code dưới đây giúp test hàm của bạn."
   ]
  },
  {
   "cell_type": "code",
   "execution_count": 28,
   "metadata": {
    "collapsed": false
   },
   "outputs": [
    {
     "name": "stdout",
     "output_type": "stream",
     "text": [
      "Roots of - 16 + X^8 : \n",
      "-1.4142 + 0.0000j\n",
      "-1.0000 + -1.0000j\n",
      "-1.0000 + 1.0000j\n",
      "-0.0000 + -1.4142j\n",
      "-0.0000 + 1.4142j\n",
      "1.0000 + -1.0000j\n",
      "1.0000 + 1.0000j\n",
      "1.4142 + 0.0000j\n"
     ]
    }
   ],
   "source": [
    "P = Polynomial([-16, 0, 0, 0, 0, 0, 0, 0, 1]) #x^8 – 16 = 0\n",
    "Roots = P.getRoots()\n",
    "print(\"Roots of \" + str(P) + \": \")\n",
    "for root in Roots:\n",
    "    print(\"%.4f + %.4fj\" % (root.real, root.imag))"
   ]
  },
  {
   "cell_type": "markdown",
   "metadata": {},
   "source": [
    "### Bài 13. Cực trị của đa thức"
   ]
  },
  {
   "cell_type": "markdown",
   "metadata": {},
   "source": [
    "*Từ kết quả của bài 12, hãy viết instance method **getLocalMin()** và **getLocalMax()** trong class **Polynomial** để trả về list tất cả các số thực là điểm cực tiểu (tương ứng, cực đại) của một đa thức, xếp theo thứ tự tăng dần. *\n",
    "\n",
    "Bạn có thể viết một hàm phụ **getDerivative()** để tính đạo hàm (và đạo hàm cấp cao, nếu cần) của đa thức.\n",
    "\n",
    "Đoạn code dưới đây giúp test hàm của bạn."
   ]
  },
  {
   "cell_type": "code",
   "execution_count": 22,
   "metadata": {
    "collapsed": false
   },
   "outputs": [
    {
     "name": "stdout",
     "output_type": "stream",
     "text": [
      "[0]\n",
      "[]\n",
      "[-3.0000000000000373, -0.99999999999993672, 0.99999999999995959, 2.0000000000000289, 4.999999999999986]\n",
      "[-0.15059909416438733, 4.114969050072768]\n",
      "[-2.304711819773494, 1.5403418638656496]\n"
     ]
    }
   ],
   "source": [
    "P = Polynomial([-16, 0, 0, 0, 0, 0, 0, 0, 1]) \n",
    "print(P.getLocalMin())\n",
    "print(P.getLocalMax())\n",
    "Q = Polynomial([-30, 11, 34, -12, -4, 1]) #x^5 - 4 x^4 - 12 x^3 + 34 x^2 + 11 x - 30\n",
    "print(Q.getRoots())\n",
    "print(Q.getLocalMin())\n",
    "print(Q.getLocalMax())"
   ]
  },
  {
   "cell_type": "markdown",
   "metadata": {},
   "source": [
    "<img src=\"Illustration.png\"/>"
   ]
  }
 ],
 "metadata": {
  "kernelspec": {
   "display_name": "Python 2",
   "language": "python",
   "name": "python2"
  },
  "language_info": {
   "codemirror_mode": {
    "name": "ipython",
    "version": 2
   },
   "file_extension": ".py",
   "mimetype": "text/x-python",
   "name": "python",
   "nbconvert_exporter": "python",
   "pygments_lexer": "ipython2",
   "version": "2.7.13"
  }
 },
 "nbformat": 4,
 "nbformat_minor": 0
}
