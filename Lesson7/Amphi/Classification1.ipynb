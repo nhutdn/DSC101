{
 "cells": [
  {
   "cell_type": "markdown",
   "metadata": {},
   "source": [
    "# Amphi 7 - Classification [1] - Basic Models for Binary Classification"
   ]
  },
  {
   "cell_type": "markdown",
   "metadata": {},
   "source": [
    "# 1. The Statistical Learning Framework for Supervised Learning\n",
    "\n",
    "In last amphi, we access the first supervised learning problem (regression) in an informal way. In this section, we want to use probability and statistical language to describe the previously introduced notions on supervised learning.\n",
    "\n",
    "## 1.1 The Statistical Learning Framework\n",
    "\n",
    "Suppose that we have a framework with the following elements:\n",
    "\n",
    "1. An arbitrary set $\\mathcal X$, typically $\\mathbf R^D$, called the **domain set**. The elements of $\\mathcal X$ are called **vectors** or **instances**, their coordinates (components) are called **features**.\n",
    "\n",
    "2. An arbitrary set $\\mathcal Y$, typically an interval of $\\mathbf R$ or sum finite subset of $\\mathbf N$. $\\mathcal Y$ is called the **label set** or **target set**; its elements are **labels** or **targets**.\n",
    "\n",
    "3. A finite sequence $S = \\{(x_1, y_1), \\ldots (x_N, y_N)\\} \\in (\\mathcal X \\times \\mathcal Y)^D$. This set is called the **training set**, its points are called **training data**.\n",
    "\n",
    "4. A distance function $l: \\mathcal Y \\times \\mathcal Y \\to \\mathbf R$ or $l: \\mathcal Y' \\times \\mathcal Y' \\to \\mathbf R$ where $\\mathcal Y \\subset \\mathcal Y'$. \n",
    "\n",
    "5. A class $\\mathcal H$ of functions $h : \\mathcal X \\to \\mathcal Y$ or a set including $\\mathcal Y$. $\\mathcal H$ is called the hypothesis class, its elements are called **predictive model** or **hypothesis**.\n",
    "\n",
    "We suppose in addition the following condition:\n",
    "<ol start=\"6\">\n",
    "<li> There exists a probability distribution $\\mathcal D$ of generating data sample $(x, y) \\in (\\mathcal X \\times \\mathcal Y)$.</li>\n",
    "</ol>\n",
    "Theoretically we would like to find a function $f \\in \\mathcal H$ minimizing the following **true error** (or **generalized error**, or **true risk**)\n",
    "\n",
    "$$\n",
    "\\mathcal L_{\\mathcal D}(f) = \\mathbf E_{\\mathcal D} [l(f(x), y)] = \\int_{\\mathcal X \\times \\mathcal Y} l(f(x), y) p(x, y) dxdy\n",
    "$$\n",
    "\n",
    "## 1.2 Empirical Risk Minimization\n",
    "\n",
    "In reality, we have not much knowledge about $\\mathcal D$ (indeed if we know $\\mathcal D$, it is easy to choose the best $f(x) = \\mathbf E[y|x]$). So, impossible to establish the function $L_{\\mathcal D}$. One approach is to approximate $\\mathcal L_{\\mathcal D}(f)$ by $\\mathcal L_S (f)$:\n",
    "\n",
    "$$\n",
    "\\mathcal L_S(f) = \\frac1N \\sum_{(x_i, y_i) \\in S}l(f(x_i), y_i)\n",
    "$$\n",
    "\n",
    "and minimize $\\mathcal L_S$ instead of $\\mathcal L_{\\mathcal D}$. The problem of finding $f \\in \\mathcal H$ minimizing $\\mathcal L_S$ is called **Empirical Risk Minimization** (ERM).\n",
    "\n",
    "## 1.3 Examples:\n",
    "\n",
    "### 1.3.1 Linear Regression\n",
    "\n",
    "In regression problems, $\\mathcal Y = \\mathbf R$ or an interval of $\\mathbf R$.\n",
    "\n",
    "If we choose, $l(y, y')$ is $l(y, y') = |y - y'|^2$.\n",
    "\n",
    "An example of $\\mathcal H$ is $\\mathcal H = \\{ x \\mapsto w \\cdot x + b; w, b \\in \\mathbf R \\}$. This leads to linear regression model (previous amphi).\n",
    "\n",
    "### 1.3.2 Binary classification\n",
    "\n",
    "In binary classification, $\\mathcal Y = \\{0, 1\\}$. We can choose $l(y, y') = \\mathbf 1_{y' \\neq y}$. However, this is not a convenient choice for computation ($\\mathbf 1_{y' \\neq y}$ is not differentiable). This function can be converted to a smoother one. For example, use $l(y, y') = - y\\log y' - (1-y)\\log(1-y')$ and  $\\mathcal H = \\{ x \\mapsto \\frac 1 {1 + \\exp(-w \\cdot x - b)}; w, b \\in \\mathbf R \\}$, we have logistic regression model.\n"
   ]
  },
  {
   "cell_type": "markdown",
   "metadata": {},
   "source": [
    "# 2. Some Probabilistic and Non-probabilistic Strategies for Classification Problems"
   ]
  },
  {
   "cell_type": "markdown",
   "metadata": {},
   "source": [
    "The goal of clasification is to take an input vector $\\mathbf x \\in \\mathcal X$ and find a function $f: \\mathcal X \\to \\mathcal Y = \\{0, 1, \\ldots, K-1\\}$ to assign any $\\mathbf x$ to a class. The classes are supposed to be disjoint, i.e, each element of $\\mathcal X$ belongs to only one class.\n",
    "\n",
    "We begin with binary classification problems where $\\mathcal Y = \\{0, 1\\}$. The problems become to divide $\\mathcal X$ into 2 domains, one is labeled 0, the other labeled 1. An equivalent way is to determine the boundary of the two zones corresponding to those classes.\n",
    "\n",
    "We can introduce some groups of learning algorithms to solve classification problem:\n",
    "\n",
    "- Construct a **discriminant function** to directly assign each $\\mathbf x \\in \\mathcal X$ to $\\{0, 1\\}$.\n",
    "\n",
    "- Modelize the **conditional probability distribution** $p(y = 0|\\mathbf x)$, $p(y = 1| \\mathbf x)$, then make decision based on those values.\n",
    "\n",
    "- Modelize the **joint probability distribution** $p(y=0,\\mathbf x)$, $p(y=1|\\mathbf x)$, then deduce  $p(y = 0|\\mathbf x)$, $p(y = 1| \\mathbf x)$ and make decision.\n",
    "\n",
    "In this lecture we study algorithms representing those 3 groups. \n",
    "\n",
    "**Linear Models**\n",
    "\n",
    "Linear models for binary classification are hypothesis classes that predict the boundary as a $D-1$ dimensional hyperplan of $\\mathcal X = \\mathbf R^D$. The hyperplan's is $\\mathbf w \\cdot \\mathbf x + b = 0$. "
   ]
  },
  {
   "cell_type": "markdown",
   "metadata": {},
   "source": [
    "# 3. Fisher's Linear Discriminant (Linear Discriminant Analysis)"
   ]
  },
  {
   "cell_type": "markdown",
   "metadata": {},
   "source": [
    "## 3.1 Intuition\n",
    "\n",
    "One idea of classification using linear model is to define a direction in which the projections of data can be separated in 2 half-lines.\n",
    "\n",
    "Let $\\mathbf m_0, \\mathbf m_1$ be the centroids of 2 classes:\n",
    "\n",
    "$$\n",
    "\\mathbf m_0 = \\frac1{N_0}\\sum_{\\mathbf x \\in \\mathcal C_0} \\mathbf x\n",
    "$$\n",
    "\n",
    "$$\n",
    "\\mathbf m_1 = \\frac1{N_1}\\sum_{\\mathbf x \\in \\mathcal C_1} \\mathbf x\n",
    "$$\n",
    "\n",
    "The first intuition is to find a unit vector $\\mathbf w$ such that $|m_0 - m_1| = | \\mathbf w \\cdot (\\mathbf m_0 - \\mathbf m_1) |$ is largest, i.e, the distance of projections of these 2 centroids is largest.\n",
    "\n",
    "This leads to $\\mathbf w \\sim \\mathbf m_0 - \\mathbf m_1$ (the $\\sim$ notation means \"same direction\").\n",
    "\n",
    "<img src=\"F1.png\">\n",
    "<center>Figure 1: Illustration: left - solution of the maximization of $|m_1 - m_0|$ problem; right: a better solution.</center>\n",
    "\n",
    "This choice is not appropriate, as it does not take into account the distance of points inside each class."
   ]
  },
  {
   "cell_type": "markdown",
   "metadata": {},
   "source": [
    "## 3.2 The optimization problem\n",
    "\n",
    "We would need another solution, not only maximize the projection distance between different classes, but also minimize projection distance inside a class.\n",
    "\n",
    "We introduce\n",
    "\n",
    "$$\n",
    "J(\\mathbf w) = \\frac{(m_0 - m_1)^2}{s_0^2 + s_1^2}\n",
    "$$\n",
    "\n",
    "where $(m_0-m_1)^2$ represents projected distance of 2 classes, and\n",
    "$$\n",
    "s_0 = \\sum_{\\mathcal C_0} (\\mathbf w \\cdot \\mathbf x - \\mathbf w \\cdot \\mathbf m_0)^2 \n",
    "$$\n",
    "\n",
    "$$\n",
    "s_1 = \\sum_{\\mathcal C_1} (\\mathbf w \\cdot \\mathbf x - \\mathbf w \\cdot \\mathbf m_1)^2 \n",
    "$$\n",
    "\n",
    "$J(\\mathbf w)$ can be rewritten as\n",
    "$$\n",
    "J(\\mathbf w) = \\frac{\\mathbf w^t \\mathbf S_B \\mathbf w}{\\mathbf w^t \\mathbf S_W \\mathbf w}\n",
    "$$\n",
    "\n",
    "where\n",
    "\n",
    "$$\n",
    "\\mathbf S_B = (\\mathbf m_0 - \\mathbf m_1)(\\mathbf m_0 - \\mathbf m_1)^t\n",
    "$$\n",
    "\n",
    "and\n",
    "\n",
    "$$\n",
    "\\mathbf S_W = \\sum_{\\mathcal C_0} (\\mathbf x - \\mathbf m_0)(\\mathbf x - \\mathbf m_0)^t + \\sum_{\\mathcal C_1} (\\mathbf x - \\mathbf m_1)(\\mathbf x - \\mathbf m_1)^t\n",
    "$$\n",
    "\n",
    "We want to find the unit vector $\\mathbf w$ that maximizes $J$."
   ]
  },
  {
   "cell_type": "markdown",
   "metadata": {},
   "source": [
    "## 3.3 The optimized direction\n",
    "\n",
    "\n",
    "By derivation, the solution satisfies:\n",
    "$$\n",
    "(\\mathbf w^t \\mathbf S_B \\mathbf w)\\mathbf S_W  \\mathbf w = (\\mathbf w^t \\mathbf S_W \\mathbf w)\\mathbf S_B \\mathbf w\n",
    "$$\n",
    "\n",
    "We have $\\mathbf S_B \\mathbf w \\sim \\mathbf m_0 - \\mathbf m_1$, and $\\mathbf S_W  \\mathbf w \\sim \\mathbf S_B \\mathbf w$, hence\n",
    "$$\n",
    "\\mathbf w \\sim \\mathbf S_W^{-1} (\\mathbf m_0 - \\mathbf m_1)\n",
    "$$\n",
    "\n",
    "This gives us the direction on which we should project the data."
   ]
  },
  {
   "cell_type": "markdown",
   "metadata": {},
   "source": [
    "## 3.4 Classification on One Dimension\n",
    "\n"
   ]
  },
  {
   "cell_type": "markdown",
   "metadata": {},
   "source": [
    "One method is to modelize data of class 0 and 1 as followed (iid) from Gaussian distributions with means $\\mu_0$, $\\mu_1$ and variance $\\sigma_0^2$, $\\sigma_1^2$.\n",
    "\n",
    "We have then\n",
    "$$\n",
    "p(x_{0,1}, \\ldots, x_{0, c_0} \\in \\mathcal C_0) = \\frac1{(2\\pi)^{N/2}\\sigma_0^N}\\exp(-\\frac{\\sum_{\\mathcal C_0} |\\mathbf x - \\mathbf \\mu_0|^2}{2\\sigma_0^2})\n",
    "$$\n",
    "\n",
    "$$\n",
    "p(x_{1,1}, \\ldots, x_{1, c_1} \\in \\mathcal C_1) = \\frac1{(2\\pi)^{N/2}\\sigma_1^N}\\exp(-\\frac{\\sum_{\\mathcal C_1} |\\mathbf x - \\mathbf \\mu_1|^2}{2\\sigma_1^2})\n",
    "$$\n",
    "\n",
    "(where $c_0 + c_1 = N$)"
   ]
  },
  {
   "cell_type": "markdown",
   "metadata": {},
   "source": [
    "We maximize $p(x_{0,1}, \\ldots, x_{0, c_0} \\in \\mathcal C_0)$ and $p(x_{1,1}, \\ldots, x_{1, c_1} \\in \\mathcal C_1)$. The solution is:\n",
    "$$\n",
    "\\mu_0 = \\frac1{|\\mathcal C_0|}\\sum_{\\mathcal C_0} \\mathbf x\n",
    "$$\n",
    "$$\n",
    "\\mu_1 = \\frac1{|\\mathcal C_1|}\\sum_{\\mathcal C_1} \\mathbf x\n",
    "$$\n",
    "$$\n",
    "\\sigma_0^2 = \\frac1{|\\mathcal C_0|}\\sum_{\\mathcal C_0} (\\mathbf x - \\mu_0)^2\n",
    "$$\n",
    "$$\n",
    "\\sigma_1^2 = \\frac1{|\\mathcal C_1|}\\sum_{\\mathcal C_1} (\\mathbf x - \\mu_1)^2\n",
    "$$"
   ]
  },
  {
   "cell_type": "markdown",
   "metadata": {},
   "source": [
    "Finally, with found parameters $\\mu_0, \\mu_1, \\sigma_0^2, \\sigma_1^2$. We can classify a point as class 0 if $p(\\mathcal C_0| \\mathbf x) > p(\\mathcal C_1 | \\mathbf x)$ and class 1 otherwise."
   ]
  },
  {
   "cell_type": "markdown",
   "metadata": {},
   "source": [
    "## 3.5 Implementation"
   ]
  },
  {
   "cell_type": "markdown",
   "metadata": {},
   "source": [
    "This Fisher's linear discriminant is  a special case of LDA (Linear Discriminant Analysis) method, where we project data on 1 dimension and classify the projected data instead of the original data."
   ]
  },
  {
   "cell_type": "code",
   "execution_count": 2,
   "metadata": {},
   "outputs": [
    {
     "data": {
      "text/html": [
       "<div>\n",
       "<style scoped>\n",
       "    .dataframe tbody tr th:only-of-type {\n",
       "        vertical-align: middle;\n",
       "    }\n",
       "\n",
       "    .dataframe tbody tr th {\n",
       "        vertical-align: top;\n",
       "    }\n",
       "\n",
       "    .dataframe thead th {\n",
       "        text-align: right;\n",
       "    }\n",
       "</style>\n",
       "<table border=\"1\" class=\"dataframe\">\n",
       "  <thead>\n",
       "    <tr style=\"text-align: right;\">\n",
       "      <th></th>\n",
       "      <th>0</th>\n",
       "      <th>1</th>\n",
       "      <th>2</th>\n",
       "    </tr>\n",
       "  </thead>\n",
       "  <tbody>\n",
       "    <tr>\n",
       "      <th>0</th>\n",
       "      <td>1.5764</td>\n",
       "      <td>0.8957</td>\n",
       "      <td>0</td>\n",
       "    </tr>\n",
       "    <tr>\n",
       "      <th>1</th>\n",
       "      <td>1.8989</td>\n",
       "      <td>-0.3023</td>\n",
       "      <td>0</td>\n",
       "    </tr>\n",
       "    <tr>\n",
       "      <th>2</th>\n",
       "      <td>-0.8673</td>\n",
       "      <td>-1.6042</td>\n",
       "      <td>0</td>\n",
       "    </tr>\n",
       "    <tr>\n",
       "      <th>3</th>\n",
       "      <td>-2.5291</td>\n",
       "      <td>-1.2843</td>\n",
       "      <td>0</td>\n",
       "    </tr>\n",
       "    <tr>\n",
       "      <th>4</th>\n",
       "      <td>-3.1843</td>\n",
       "      <td>-2.1514</td>\n",
       "      <td>0</td>\n",
       "    </tr>\n",
       "  </tbody>\n",
       "</table>\n",
       "</div>"
      ],
      "text/plain": [
       "        0       1  2\n",
       "0  1.5764  0.8957  0\n",
       "1  1.8989 -0.3023  0\n",
       "2 -0.8673 -1.6042  0\n",
       "3 -2.5291 -1.2843  0\n",
       "4 -3.1843 -2.1514  0"
      ]
     },
     "execution_count": 2,
     "metadata": {},
     "output_type": "execute_result"
    }
   ],
   "source": [
    "%matplotlib inline\n",
    "import pandas as pd\n",
    "import matplotlib.pyplot as plt\n",
    "import numpy as np\n",
    "data = pd.read_csv(\"Example1.txt\", sep=\";\", header=None)\n",
    "data.head()"
   ]
  },
  {
   "cell_type": "code",
   "execution_count": 3,
   "metadata": {},
   "outputs": [
    {
     "data": {
      "text/html": [
       "<div>\n",
       "<style scoped>\n",
       "    .dataframe tbody tr th:only-of-type {\n",
       "        vertical-align: middle;\n",
       "    }\n",
       "\n",
       "    .dataframe tbody tr th {\n",
       "        vertical-align: top;\n",
       "    }\n",
       "\n",
       "    .dataframe thead th {\n",
       "        text-align: right;\n",
       "    }\n",
       "</style>\n",
       "<table border=\"1\" class=\"dataframe\">\n",
       "  <thead>\n",
       "    <tr style=\"text-align: right;\">\n",
       "      <th></th>\n",
       "      <th>0</th>\n",
       "      <th>1</th>\n",
       "      <th>2</th>\n",
       "    </tr>\n",
       "  </thead>\n",
       "  <tbody>\n",
       "    <tr>\n",
       "      <th>195</th>\n",
       "      <td>0.6856</td>\n",
       "      <td>2.7489</td>\n",
       "      <td>1</td>\n",
       "    </tr>\n",
       "    <tr>\n",
       "      <th>196</th>\n",
       "      <td>-0.1152</td>\n",
       "      <td>-0.0617</td>\n",
       "      <td>1</td>\n",
       "    </tr>\n",
       "    <tr>\n",
       "      <th>197</th>\n",
       "      <td>-1.7258</td>\n",
       "      <td>1.1421</td>\n",
       "      <td>1</td>\n",
       "    </tr>\n",
       "    <tr>\n",
       "      <th>198</th>\n",
       "      <td>0.8575</td>\n",
       "      <td>-0.6382</td>\n",
       "      <td>1</td>\n",
       "    </tr>\n",
       "    <tr>\n",
       "      <th>199</th>\n",
       "      <td>3.4940</td>\n",
       "      <td>2.0075</td>\n",
       "      <td>1</td>\n",
       "    </tr>\n",
       "  </tbody>\n",
       "</table>\n",
       "</div>"
      ],
      "text/plain": [
       "          0       1  2\n",
       "195  0.6856  2.7489  1\n",
       "196 -0.1152 -0.0617  1\n",
       "197 -1.7258  1.1421  1\n",
       "198  0.8575 -0.6382  1\n",
       "199  3.4940  2.0075  1"
      ]
     },
     "execution_count": 3,
     "metadata": {},
     "output_type": "execute_result"
    }
   ],
   "source": [
    "data.tail()"
   ]
  },
  {
   "cell_type": "code",
   "execution_count": 4,
   "metadata": {},
   "outputs": [
    {
     "data": {
      "text/plain": [
       "<matplotlib.collections.PathCollection at 0xb094908>"
      ]
     },
     "execution_count": 4,
     "metadata": {},
     "output_type": "execute_result"
    },
    {
     "data": {
      "image/png": "[encoded data removed]",
      "text/plain": [
       "<matplotlib.figure.Figure at 0xafe05c0>"
      ]
     },
     "metadata": {},
     "output_type": "display_data"
    }
   ],
   "source": [
    "red_data = data[data[2] == 0]\n",
    "blue_data = data[data[2] == 1]\n",
    "\n",
    "plt.scatter(red_data[0], red_data[1], color='red', marker='o')\n",
    "plt.scatter(blue_data[0], blue_data[1], color='blue', marker='x')"
   ]
  },
  {
   "cell_type": "code",
   "execution_count": 5,
   "metadata": {},
   "outputs": [
    {
     "data": {
      "text/plain": [
       "(array([0.78128854, 1.44511796]), array([-0.19717582]))"
      ]
     },
     "execution_count": 5,
     "metadata": {},
     "output_type": "execute_result"
    }
   ],
   "source": [
    "from sklearn.discriminant_analysis import LinearDiscriminantAnalysis\n",
    "X = data.iloc[:, 0:2]\n",
    "y = data.iloc[:, 2]\n",
    "clf = LinearDiscriminantAnalysis(n_components = 1)\n",
    "clf.fit(X, y)\n",
    "w = clf.coef_[0]\n",
    "b = clf.intercept_\n",
    "w, b"
   ]
  },
  {
   "cell_type": "code",
   "execution_count": 6,
   "metadata": {},
   "outputs": [
    {
     "data": {
      "image/png": "[encoded data removed]",
      "text/plain": [
       "<matplotlib.figure.Figure at 0xb4b1550>"
      ]
     },
     "metadata": {},
     "output_type": "display_data"
    }
   ],
   "source": [
    "plt.figure(figsize = (10, 6))\n",
    "\n",
    "plt.scatter(red_data[0], red_data[1], color='red', marker='o', label = 'red')\n",
    "plt.scatter(blue_data[0], blue_data[1], color='blue', marker='x', label = 'blue')\n",
    "\n",
    "X_range = np.arange(-8, 8, 0.1)\n",
    "plt.plot(X_range, -X_range*w[0]/w[1] - b/w[1], 'g--', label = \"%.4f x + %.4f y - %.4f = 0\" % (w[0], w[1], -b))\n",
    "\n",
    "plt.legend(loc=\"best\")\n",
    "plt.show()"
   ]
  },
  {
   "cell_type": "code",
   "execution_count": 7,
   "metadata": {},
   "outputs": [
    {
     "data": {
      "text/plain": [
       "array([0.775, 0.875, 0.875, 0.875, 0.85 ])"
      ]
     },
     "execution_count": 7,
     "metadata": {},
     "output_type": "execute_result"
    }
   ],
   "source": [
    "from sklearn.model_selection import cross_val_score\n",
    "clf = LinearDiscriminantAnalysis(n_components = 1)\n",
    "scores = cross_val_score(clf, X, y, cv=5)\n",
    "scores"
   ]
  },
  {
   "cell_type": "markdown",
   "metadata": {},
   "source": [
    "# 4. Perceptron"
   ]
  },
  {
   "cell_type": "markdown",
   "metadata": {},
   "source": [
    "## 4.1 The optimization problem"
   ]
  },
  {
   "cell_type": "markdown",
   "metadata": {},
   "source": [
    "Suppose that $\\mathbf x$ contains a dummy column 1 and $\\mathcal Y = \\{\\pm 1\\}$.\n",
    "\n",
    "The method in this section aims to find a function of the following form\n",
    "$$\n",
    "h(x) = f(\\mathbf w \\cdot \\mathbf x)\n",
    "$$\n",
    "\n",
    "where $f(a) = 1$ if $a \\geq 0$ and $-1$ if $a < 0$ such that it minimizes\n",
    "$$\n",
    "E(\\mathbf w) = -\\sum_{n \\in \\mathcal M} (\\mathbf w \\cdot \\mathbf x_n)y_n\n",
    "$$\n",
    "\n",
    "subject to $|w| = C$ (some positive constant), where $\\mathcal M = \\mathcal M(\\mathbf w)$ is the set of indices $n$ where $\\mathbf x_n$ is mis-classified.\n",
    "\n",
    "Here, $\\mathbf w \\cdot \\mathbf x = 0$ separates the space into 2 half-spaces of class 1 and -1; $E(\\mathbf w)$ is the sum of projected distance of mis-classified data. "
   ]
  },
  {
   "cell_type": "markdown",
   "metadata": {},
   "source": [
    "## 4.2 The Perceptron Algorithm\n",
    "\n",
    "The negative gradient of $E(\\mathbf w)$ is\n",
    "$$\n",
    "-\\nabla E(\\mathbf w) = \\sum_{n \\in \\mathcal M} y_n \\mathbf x_n\n",
    "$$\n",
    "\n",
    "This leads to a gradient descend algorithm with the following update step:\n",
    "\n",
    "$$\n",
    "\\mathbf w^{(r+1)} = \\mathbf w^{(r)} + \\alpha \\sum_{n \\in \\mathcal M(\\mathbf w^{(r)} ) } y_n \\mathbf x_n\n",
    "$$\n",
    "($r$ is the iteration step)\n",
    "\n",
    "A stochastic version of this step (known as stochastic gradient descence) is not considering all  $\\sum_{n \\in \\mathcal M(\\mathbf w^{(r)})} y_n \\mathbf x_n$, but choose randomly an $n \\in \\mathcal M(\\mathbf w^{(r)})$ and do the following update\n",
    "\n",
    "$$\n",
    "\\mathbf w^{(r+1)} = \\mathbf w^{(r+1)} + \\eta y_n \\mathbf x_n\n",
    "$$\n",
    "\n",
    "As we can choose $C$ arbitrarily, we can choose $\\beta$ instead, for example $\\eta = 1$, we have the following algorithm.\n",
    "\n",
    "**Perceptron**\n",
    "\n",
    "1. Initial $\\mathbf w$ randomly\n",
    "2. Repeat:\n",
    "\t- Choose $n$ randomly in $\\mathcal M(\\mathbf w)$\n",
    "        - If $y_n (\\mathbf w \\cdot \\mathbf x) \\leq 0$: $\\mathbf w = \\mathbf w + \\eta y_n \\mathbf x_n$\n",
    "3. Until convergence ($E(\\mathbf w)$ unchanged or changed very little)\n",
    "\n",
    "**Illustration** (from [2])\n",
    "<img src=\"F2.png\" width=600 >"
   ]
  },
  {
   "cell_type": "markdown",
   "metadata": {},
   "source": [
    "## 4.3 Perceptron and Linear Separability\n",
    "\n",
    "- If the data set is linearly separable, the algorithm is guaranteed to find out a line separating the two classes.  there may be many solutions, depending on the order of data points and initialization. \n",
    "\n",
    "- If the data set is not linearly separable, no guarantee that the algorithm will converge."
   ]
  },
  {
   "cell_type": "code",
   "execution_count": 8,
   "metadata": {},
   "outputs": [
    {
     "data": {
      "text/plain": [
       "<matplotlib.collections.PathCollection at 0xb800080>"
      ]
     },
     "execution_count": 8,
     "metadata": {},
     "output_type": "execute_result"
    },
    {
     "data": {
      "image/png": "[encoded data removed]",
      "text/plain": [
       "<matplotlib.figure.Figure at 0x7fd1940>"
      ]
     },
     "metadata": {},
     "output_type": "display_data"
    }
   ],
   "source": [
    "%matplotlib inline\n",
    "import pandas as pd\n",
    "import matplotlib.pyplot as plt\n",
    "import numpy as np\n",
    "data = pd.read_csv(\"Example2.txt\", sep=\";\", header=None)\n",
    "red_data = data[data[2] == 0]\n",
    "blue_data = data[data[2] == 1]\n",
    "\n",
    "plt.scatter(red_data[0], red_data[1], color='red', marker='o')\n",
    "plt.scatter(blue_data[0], blue_data[1], color='blue', marker='x')"
   ]
  },
  {
   "cell_type": "markdown",
   "metadata": {},
   "source": [
    "**Using LDA**"
   ]
  },
  {
   "cell_type": "code",
   "execution_count": 9,
   "metadata": {},
   "outputs": [
    {
     "data": {
      "image/png": "[encoded data removed]",
      "text/plain": [
       "<matplotlib.figure.Figure at 0xafbed30>"
      ]
     },
     "metadata": {},
     "output_type": "display_data"
    }
   ],
   "source": [
    "from sklearn.discriminant_analysis import LinearDiscriminantAnalysis\n",
    "X = data.iloc[:, 0:2]\n",
    "y = data.iloc[:, 2]\n",
    "clf = LinearDiscriminantAnalysis(n_components = 1)\n",
    "clf.fit(X, y)\n",
    "w = clf.coef_[0]\n",
    "b = clf.intercept_\n",
    "plt.scatter(red_data[0], red_data[1], color='red', marker='o', label = 'red')\n",
    "plt.scatter(blue_data[0], blue_data[1], color='blue', marker='x', label = 'blue')\n",
    "\n",
    "X_range = np.arange(-2, 2, 0.1)\n",
    "plt.plot(X_range, -X_range*w[0]/w[1] - b/w[1], 'g--', label = \"%.4f x + %.4f y - %.4f = 0\" % (w[0], w[1], -b))\n",
    "\n",
    "plt.legend(loc=\"best\")\n",
    "plt.show()"
   ]
  },
  {
   "cell_type": "markdown",
   "metadata": {},
   "source": [
    "**Using Perceptron**"
   ]
  },
  {
   "cell_type": "code",
   "execution_count": 24,
   "metadata": {},
   "outputs": [
    {
     "data": {
      "image/png": "[encoded data removed]",
      "text/plain": [
       "<matplotlib.figure.Figure at 0xde92a58>"
      ]
     },
     "metadata": {},
     "output_type": "display_data"
    }
   ],
   "source": [
    "from sklearn.linear_model import Perceptron\n",
    "X = data.iloc[:, 0:2]\n",
    "y = data.iloc[:, 2]\n",
    "clf = Perceptron(eta0 = 1, random_state = 1)\n",
    "clf.fit(X, y)\n",
    "w = clf.coef_[0]\n",
    "b = clf.intercept_\n",
    "plt.scatter(red_data[0], red_data[1], color='red', marker='o', label = 'red')\n",
    "plt.scatter(blue_data[0], blue_data[1], color='blue', marker='x', label = 'blue')\n",
    "\n",
    "X_range = np.arange(-2, 2, 0.1)\n",
    "plt.plot(X_range, -X_range*w[0]/w[1] - b/w[1], 'g--', label = \"%.4f x + %.4f y - %.4f = 0\" % (w[0], w[1], -b))\n",
    "\n",
    "plt.legend(loc=\"best\")\n",
    "plt.show()"
   ]
  },
  {
   "cell_type": "markdown",
   "metadata": {},
   "source": [
    "**For Non-linear-separability Case**"
   ]
  },
  {
   "cell_type": "code",
   "execution_count": 11,
   "metadata": {},
   "outputs": [
    {
     "data": {
      "image/png": "[encoded data removed]",
      "text/plain": [
       "<matplotlib.figure.Figure at 0xb7f3eb8>"
      ]
     },
     "metadata": {},
     "output_type": "display_data"
    }
   ],
   "source": [
    "data = pd.read_csv(\"Example1.txt\", sep=\";\", header=None)\n",
    "red_data = data[data[2] == 0]\n",
    "blue_data = data[data[2] == 1]\n",
    "\n",
    "X = data.iloc[:, 0:2]\n",
    "y = data.iloc[:, 2]\n",
    "clf = Perceptron(eta0 = 1, random_state = 0)\n",
    "clf.fit(X, y)\n",
    "w = clf.coef_[0]\n",
    "b = clf.intercept_\n",
    "plt.scatter(red_data[0], red_data[1], color='red', marker='o', label = 'red')\n",
    "plt.scatter(blue_data[0], blue_data[1], color='blue', marker='x', label = 'blue')\n",
    "\n",
    "X_range = np.arange(-7, 7, 0.1)\n",
    "plt.plot(X_range, -X_range*w[0]/w[1] - b/w[1], 'g--', label = \"%.4f x + %.4f y - %.4f = 0\" % (w[0], w[1], -b))\n",
    "\n",
    "plt.legend(loc=\"best\")\n",
    "plt.show()"
   ]
  },
  {
   "cell_type": "code",
   "execution_count": 12,
   "metadata": {},
   "outputs": [
    {
     "data": {
      "text/plain": [
       "array([0.8  , 0.85 , 0.775, 0.95 , 0.825])"
      ]
     },
     "execution_count": 12,
     "metadata": {},
     "output_type": "execute_result"
    }
   ],
   "source": [
    "from sklearn.model_selection import cross_val_score\n",
    "clf = Perceptron(eta0 = 1)\n",
    "scores = cross_val_score(clf, X, y, cv=5)\n",
    "scores"
   ]
  },
  {
   "cell_type": "markdown",
   "metadata": {},
   "source": [
    "# 5. Probabilistic Model for Linear Discriminant Analysis (LDA)"
   ]
  },
  {
   "cell_type": "markdown",
   "metadata": {},
   "source": [
    "## 5.1 The Optimization Problem\n",
    "\n",
    "This method modelize the joint distribution $p(\\mathbf x, y)$ via $p(y)$ and $p(\\mathbf x|y)$\n",
    "\n",
    "We suppose\n",
    "$$\n",
    "\\mathbf P(\\mathcal C_1) = \\mathbf P(y = 1) = \\pi\n",
    "$$\n",
    "or\n",
    "$$\n",
    "\\mathbf P(\\mathcal C_0) = \\mathbf P(y = 0) = 1-\\pi\n",
    "$$\n",
    "(equivalently, $y$ follows a Bernoulli distribution of parameter $\\pi$).\n",
    "\n",
    "and\n",
    "$$\n",
    "p(\\mathbf x | y) = \\mathcal N(\\mathbf x | \\mu_y, \\Sigma) = (2\\pi |\\Sigma|)^{-D/2}\\exp \\left( -\\frac{(\\mathbf x - \\mathbf \\mu_y)^t \\Sigma^{-1} (\\mathbf x - \\mathbf \\mu_y)}{2}\\right)\n",
    "$$\n",
    "\n",
    "The distribution of the 2 classes have the same variance.\n",
    "\n",
    "Suppose $(\\mathbf x_1, y_1), \\ldots, (\\mathbf x_N, y_N)$ are iid samples; we have\n",
    "$$\n",
    "p(\\mathbf x_1, \\ldots, \\mathbf x_N, y_1, \\ldots, y_N) = \\prod_{i=1}^{N} \\left[ \\pi \\delta_1 \\mathcal N (\\mathbf x_i | \\mu_1, \\Sigma)\\right]^{y_i} \\left[ (1-\\pi) \\delta_0 \\mathcal N (\\mathbf x_i | \\mu_0, \\Sigma)\\right]^{1-y_i} \n",
    "$$\n",
    "\n",
    "Ignoring the Dirac distribution, we want to maximize the joint distribution:\n",
    "\n",
    "$$\n",
    "\\prod_{i=1}^{N} \\left[ \\pi \\mathcal N (\\mathbf x_i | \\mu_1, \\Sigma)\\right]^{y_i} \\left[ (1-\\pi) \\mathcal N (\\mathbf x_i | \\mu_0, \\Sigma)\\right]^{1-y_i} \n",
    "$$\n",
    "\n",
    "or minimize its negative log likelihood\n",
    "$$\n",
    "L(\\pi, \\mu_0, \\mu_1, \\Sigma) = -\\sum_{i=1}^N \\left( y_i \\log \\pi + y_i \\log \\mathcal N(\\mathbf x_i | \\mu_1, \\Sigma) + (1 - y_i)\\log(1-\\pi) + (1-y_i) \\log \\mathcal N(\\mathbf x_i | \\mu_0, \\Sigma) \\right)\n",
    "$$\n",
    "\n",
    "## 5.2 Solution\n",
    "\n",
    "### 5.2.1 $\\pi$\n",
    "\n",
    "Consider the parts containing $\\pi$, we have\n",
    "$$\n",
    "-\\sum_{i=1}^N \\left( y_i \\log \\pi + (1 - y_i)\\log(1-\\pi) \\right)\n",
    "$$\n",
    "\n",
    "Take derivative over $\\pi$, we have:\n",
    "$$\n",
    "\\frac1\\pi \\sum_{i=1}^N y_i - \\frac1{1-\\pi} \\sum_{i=1}^N (1-y_i)\n",
    "$$\n",
    "\n",
    "Let this quantity be 0, then the estimator $\\hat \\pi$ of $\\pi$ is\n",
    "$$\n",
    "\\hat \\pi = \\frac{\\sum_{i=1}^N y_i}N\n",
    "$$\n",
    "\n",
    "Donc\n",
    "$$\n",
    "\\hat \\pi = \\frac{N_1}N\n",
    "$$\n",
    "\n",
    "where $N_1 = \\sum_{i=1}^N y_i$ is the number of points in class $\\mathcal C_1$;  $N_0 = \\sum_{i=1}^N (1 - y_i)$ is the number of points in class $\\mathcal C_0$.\n",
    "\n",
    "### 5.2.2 $\\mu_1, \\mu_0$\n",
    "\n",
    "The only part of $L$ containing $\\mu_1$ is\n",
    "$$\n",
    "\\sum_{i=1}^N \\log \\mathcal N (\\mathbf x_i | \\mu_1, \\Sigma) = \\sum_{y_i = 1} \\frac{-(\\mathbf x_i - \\mu_1)^t \\Sigma^{-1}(\\mathbf x_i - \\mu_1)}{2} + const\n",
    "$$\n",
    "\n",
    "Taking derivative ovef $\\mu_1$ and let it be zero:\n",
    "$$\n",
    "\\sum_{y_i = 1} \\Sigma^{-1}(\\mathbf x_i - \\mu_1) = 0\n",
    "$$\n",
    "\n",
    "we have\n",
    "$$\n",
    "\\hat \\mu_1 = \\frac1{N_1} \\sum_{y_i =1} \\mathbf x_i\n",
    "$$\n",
    "\n",
    "$$\n",
    "\\hat \\mu_0 = \\frac1{N_2} \\sum_{y_i=0} \\mathbf x_i\n",
    "$$\n",
    "\n",
    "### 5.2.3 $\\Sigma$\n",
    "\n",
    "The part containing $\\Sigma$.\n",
    "\n",
    "$$\n",
    "-\\frac{N_1}2 \\log |\\Sigma| - \\frac12 \\sum_{i=1}^N y_i (\\mathbf x_i -\\mu_1)^t \\Sigma^{-1} (\\mathbf x_i - \\mu_1) - \\frac{N_0}2 \n",
    "\\log |\\Sigma| - \\frac12 \\sum_{i=1}^N (1-y_i) (\\mathbf x_i -\\mu_0)^t \\Sigma^{-1} (\\mathbf x_i - \\mu_0)\n",
    "$$\n",
    "\n",
    "$$\n",
    "=: -\\frac{N}2 \\log |\\Sigma| - \\frac{N_1}2 Tr(\\Sigma^{-1}S_1) - \\frac{N_0}2 Tr(\\Sigma^{-1}S_0)\n",
    "$$\n",
    "\n",
    "$$\n",
    "=: -\\frac{N}2 \\log |\\Sigma| - \\frac{N}{2} Tr |\\Sigma^{-1}S|\n",
    "$$\n",
    "\n",
    "where \n",
    "$$\n",
    "S = \\frac{N_1}N S_1 + \\frac{N_0}N S_0\n",
    "$$\n",
    "\n",
    "$$\n",
    "S_1 = \\frac1{N_1}\\sum_{y_i = 1}(\\mathbf x_i - \\mu_1)(\\mathbf x_i - \\mu_1)^t\n",
    "$$\n",
    "$$\n",
    "S_0 = \\frac1{N_0} \\sum_{y_i = 1}(\\mathbf x_i - \\mu_0)(\\mathbf x_i - \\mu_0)^t\n",
    "$$\n",
    "\n",
    "Let the above part be zero and solve it:\n",
    "$$\n",
    "\\hat \\Sigma = S\n",
    "$$"
   ]
  },
  {
   "cell_type": "markdown",
   "metadata": {},
   "source": [
    "## 5.3 Decision Boundary\n",
    "\n",
    "The rule is to predict $y$ under probability form, as $\\mathbf P(y=1|\\mathbf x) = \\frac{p(y=1, \\mathbf x)}{p(\\mathbf x)} $.\n",
    "\n",
    "We decide a data point belongs to class 0 or 1 if the ratio\n",
    "$$\n",
    "\\frac {p( y=1|\\mathbf x)}{p(y = 0|\\mathbf x)} = \\frac {p( \\mathbf x, y=1)}{p(\\mathbf x, y = 0)}\n",
    "$$\n",
    "less or greater than 1, or\n",
    "$$\n",
    "\\log \\frac {p( \\mathbf x, y=1)}{p(\\mathbf x, y = 0)}\n",
    "$$\n",
    "less or greater than 0.\n",
    "\n",
    "We have\n",
    "$$\n",
    "\\log \\frac {p( \\mathbf x, y=1)}{p(\\mathbf x, y = 0)} = \\log \\frac{\\hat \\pi}{1 - \\hat \\pi} - \\frac12 (\\mathbf x - \\hat \\mu_1)^t \\hat \\Sigma^{-1} (\\mathbf x - \\hat \\mu_1) + \\frac12 (\\mathbf x - \\hat \\mu_0)^t \\hat \\Sigma^{-1} (\\mathbf x -\\hat \\mu_0)\n",
    "$$\n",
    "\n",
    "$$\n",
    "= (\\hat \\mu_1 - \\hat \\mu_0)^t \\Sigma^{-1} \\mathbf x - \\frac12 \\hat \\mu_1^t \\Sigma^{-1} \\hat \\mu_1 + \\frac12 \\hat \\mu_0^t \\Sigma^{-1} \\hat \\mu_0 + \\log\\frac{\\hat \\pi}{1-\\hat \\pi}\n",
    "$$\n",
    "\n",
    "$$\n",
    "= \\mathbf w^t \\mathbf x + w_0\n",
    "$$\n",
    "\n",
    "where\n",
    "$$\n",
    "\\mathbf w = \\hat \\Sigma^{-1}(\\hat \\mu_1 - \\hat \\mu_0) = S^{-1} (\\hat \\mu_1 - \\hat \\mu_0)\n",
    "$$\n",
    "$$\n",
    "w_0 = -\\frac12 \\hat\\mu_1^t \\hat\\Sigma^{-1} \\hat\\mu_1 + \\frac12 \\hat\\mu_0^t\\Sigma^{-1}\\hat\\mu_0 + \\log\\frac{\\hat \\pi}{1-\\hat \\pi}\n",
    "$$\n",
    "\n",
    "We find the same direction of $\\mathbf w$ as in Fisher's linear discriminant approach."
   ]
  },
  {
   "cell_type": "markdown",
   "metadata": {},
   "source": [
    "## 5.4 Implementation (with Gaussian Distribution Plotting)"
   ]
  },
  {
   "cell_type": "code",
   "execution_count": 13,
   "metadata": {},
   "outputs": [
    {
     "data": {
      "image/png": "[encoded data removed]",
      "text/plain": [
       "<matplotlib.figure.Figure at 0xd2a1240>"
      ]
     },
     "metadata": {},
     "output_type": "display_data"
    }
   ],
   "source": [
    "#From http://scikit-learn.org/0.16/auto_examples/classification/plot_lda_qda.html\n",
    "import matplotlib as mpl\n",
    "from numpy import linalg\n",
    "\n",
    "def plot_ellipse(ax, mean, cov, color):\n",
    "    v, w = linalg.eigh(cov)\n",
    "    u = w[0] / linalg.norm(w[0])\n",
    "    angle = np.arctan(u[1] / u[0])\n",
    "    angle = 180 * angle / np.pi  # convert to degrees\n",
    "    # filled Gaussian at 2 standard deviation\n",
    "    ell = mpl.patches.Ellipse(mean, 2 * v[0] ** 0.5, 2 * v[1] ** 0.5,\n",
    "                              180 + angle, color=color)\n",
    "    ell.set_alpha(0.5)\n",
    "    ax.add_artist(ell)\n",
    "    \n",
    "def plot_lda_cov(ax, lda):\n",
    "    plot_ellipse(ax, lda.means_[0], lda.covariance_, 'red')\n",
    "    plot_ellipse(ax, lda.means_[1], lda.covariance_, 'blue')\n",
    "    \n",
    "data = pd.read_csv(\"Example4.txt\", sep=\";\", header=None)\n",
    "red_data = data[data[2] == 0]\n",
    "blue_data = data[data[2] == 1]\n",
    "\n",
    "X = data.iloc[:, 0:2]\n",
    "y = data.iloc[:, 2]\n",
    "clf = LinearDiscriminantAnalysis(n_components = 1, store_covariance=True)\n",
    "clf.fit(X, y)\n",
    "w = clf.coef_[0]\n",
    "b = clf.intercept_\n",
    "fig = plt.figure()\n",
    "ax = fig.add_subplot(111)\n",
    "plt.scatter(red_data[0], red_data[1], color='red', marker='o', label = 'red')\n",
    "plt.scatter(blue_data[0], blue_data[1], color='blue', marker='x', label = 'blue')\n",
    "plot_lda_cov(ax, clf)\n",
    "\n",
    "X_range = np.arange(-10, 6, 0.1)\n",
    "plt.plot(X_range, -X_range*w[0]/w[1] - b/w[1], 'g--', label = \"%.4f x + %.4f y - %.4f = 0\" % (w[0], w[1], -b))\n",
    "\n",
    "plt.legend(loc=\"best\")\n",
    "plt.show()"
   ]
  },
  {
   "cell_type": "markdown",
   "metadata": {},
   "source": [
    "# 6. Quadratic Discriminant Analysis (QDA)"
   ]
  },
  {
   "cell_type": "markdown",
   "metadata": {},
   "source": [
    "## 6.1 The Optimization Problem\n",
    "\n",
    "We modelize the same way as LDA, but the two classes have different variance:\n",
    "\n",
    "We suppose\n",
    "$$\n",
    "\\mathbf P(\\mathcal C_1) = \\mathbf P(y = 1) = 1 - \\pi\n",
    "$$\n",
    "or\n",
    "$$\n",
    "\\mathbf P(\\mathcal C_0) = \\mathbf P(y = 0) = \\pi\n",
    "$$\n",
    "(equivalently, $y$ follows a Bernoulli distribution of parameter $\\pi$).\n",
    "\n",
    "and\n",
    "$$\n",
    "p(\\mathbf x | y) = \\mathcal N(\\mathbf \\mu_y | \\sigma_y, \\Sigma_y) = (2\\pi |\\Sigma_y|)^{-D/2}\\exp \\left( -\\frac{(\\mathbf x - \\mathbf \\mu_y)^t \\Sigma_y^{-1} (\\mathbf x - \\mathbf \\mu_y)}{2}\\right)\n",
    "$$\n",
    "\n",
    "Hence, we minimize its negative log likelihood\n",
    "$$\n",
    "L(\\pi, \\mu_0, \\mu_1, \\Sigma) = -\\sum_{i=1}^N \\left( y_i \\log \\pi + y_i \\log \\mathcal N(\\mathbf x_i | \\mu_1, \\Sigma_1) + (1 - y_i)\\log(1-\\pi) + (1-y_i) \\log \\mathcal N(\\mathbf x_i | \\mu_0, \\Sigma_0) \\right)\n",
    "$$"
   ]
  },
  {
   "cell_type": "markdown",
   "metadata": {},
   "source": [
    "## 6.2 Solution\n",
    "\n",
    "$$\n",
    "\\hat \\pi = \\frac{N_1}N\n",
    "$$\n",
    "\n",
    "$$\n",
    "\\hat \\mu_1 = \\frac1{N_1} \\sum_{y_i =1} \\mathbf x_i\n",
    "$$\n",
    "\n",
    "$$\n",
    "\\hat \\mu_0 = \\frac1{N_2} \\sum_{y_i=0} \\mathbf x_i\n",
    "$$\n",
    "\n",
    "$$\n",
    "\\hat \\Sigma_1 =  \\frac1{N_1} \\sum_{y_i = 1}(\\mathbf x_i - \\mu_1)(\\mathbf x_i - \\mu_1)^t\n",
    "$$\n",
    "\n",
    "$$\n",
    "\\hat \\Sigma_0 =  \\frac1{N_0} \\sum_{y_i = 1}(\\mathbf x_i - \\mu_0)(\\mathbf x_i - \\mu_0)^t\n",
    "$$"
   ]
  },
  {
   "cell_type": "markdown",
   "metadata": {},
   "source": [
    "## 6.3 Decision Boundary\n",
    "\n",
    "We decide a data point belongs to class 0 or 1 if the ratio\n",
    "$$\n",
    "\\frac {p( y=1|\\mathbf x)}{p(y = 0|\\mathbf x)} = \\frac {p( \\mathbf x, y=1)}{p(\\mathbf x, y = 0)}\n",
    "$$\n",
    "less or greater than 1, or\n",
    "$$\n",
    "\\log \\frac {p( \\mathbf x, y=1)}{p(\\mathbf x, y = 0)}\n",
    "$$\n",
    "less or greater than 0.\n",
    "\n",
    "We have\n",
    "$$\n",
    "\\log \\frac {p( \\mathbf x, y=1)}{p(\\mathbf x, y = 0)} = \\log \\frac{\\hat \\pi}{1 - \\hat \\pi} - \\frac12 (\\mathbf x - \\hat \\mu_1)^t \\hat \\Sigma^{-1} (\\mathbf x - \\hat \\mu_1) + \\frac12 (\\mathbf x - \\hat \\mu_0)^t \\hat \\Sigma^{-1} (\\mathbf x -\\hat \\mu_0)\n",
    "$$\n",
    "\n",
    "It has quadratic form (hyperbol, or product of 2 lines, ...)."
   ]
  },
  {
   "cell_type": "markdown",
   "metadata": {},
   "source": [
    "## 6.4 Implementation"
   ]
  },
  {
   "cell_type": "code",
   "execution_count": 14,
   "metadata": {},
   "outputs": [
    {
     "data": {
      "image/png": "[encoded data removed]",
      "text/plain": [
       "<matplotlib.figure.Figure at 0xd66d780>"
      ]
     },
     "metadata": {},
     "output_type": "display_data"
    },
    {
     "name": "stdout",
     "output_type": "stream",
     "text": [
      "[array([[14.2585626 , -0.17451731],\n",
      "       [-0.17451731,  0.24430579]]), array([[ 3.72895279, -0.14161675],\n",
      "       [-0.14161675,  0.73483217]])]\n"
     ]
    }
   ],
   "source": [
    "#From http://scikit-learn.org/0.16/auto_examples/classification/plot_lda_qda.html\n",
    "import matplotlib as mpl\n",
    "from numpy import linalg\n",
    "from sklearn.discriminant_analysis import QuadraticDiscriminantAnalysis\n",
    "\n",
    "def plot_ellipse(ax, mean, cov, color):\n",
    "    v, w = linalg.eigh(cov)\n",
    "    u = w[0] / linalg.norm(w[0])\n",
    "    angle = np.arctan(u[1] / u[0])\n",
    "    angle = 180 * angle / np.pi  # convert to degrees\n",
    "    # filled Gaussian at 2 standard deviation\n",
    "    ell = mpl.patches.Ellipse(mean, 2 * v[0] ** 0.5, 2 * v[1] ** 0.5,\n",
    "                              180 + angle, color=color)\n",
    "    ell.set_alpha(0.5)\n",
    "    ax.add_artist(ell)\n",
    "    \n",
    "def plot_qda_cov(ax, qda):\n",
    "    plot_ellipse(ax, qda.means_[0], qda.covariance_[0], 'red')\n",
    "    plot_ellipse(ax, qda.means_[1], qda.covariance_[1], 'blue')\n",
    "    \n",
    "data = pd.read_csv(\"Example4.txt\", sep=\";\", header=None)\n",
    "red_data = data[data[2] == 0]\n",
    "blue_data = data[data[2] == 1]\n",
    "\n",
    "X = data.iloc[:, 0:2]\n",
    "y = data.iloc[:, 2]\n",
    "clf = QuadraticDiscriminantAnalysis(store_covariance=True)\n",
    "clf.fit(X, y)\n",
    "fig = plt.figure()\n",
    "ax = fig.add_subplot(111)\n",
    "plt.scatter(red_data[0], red_data[1], color='red', marker='o', label = 'red')\n",
    "plt.scatter(blue_data[0], blue_data[1], color='blue', marker='x', label = 'blue')\n",
    "plot_qda_cov(ax, clf)\n",
    "\n",
    "X = np.arange(-12, 8, 0.1)\n",
    "Y = np.arange(-3,  3, 0.1)\n",
    "X, Y = np.meshgrid(X, Y)\n",
    "\n",
    "def boundary(qda, X, Y):\n",
    "    res = np.zeros(X.shape)\n",
    "    for i in range(X.shape[0]):\n",
    "        for j in range(X.shape[1]):\n",
    "            z = np.array([X[i,j], Y[i,j]])\n",
    "            res[i, j] = np.log(qda.priors_[1]/qda.priors_[0]) - 0.5 * np.dot(np.dot(np.linalg.inv(qda.covariance_[1]) , z - qda.means_[1]), z - qda.means_[1]) + 0.5 * np.dot(np.dot(np.linalg.inv(qda.covariance_[0]) , z-qda.means_[0]), z - qda.means_[0])\n",
    "    return res\n",
    "\n",
    "boundary(clf, X, Y)\n",
    "CS = plt.contour(X, Y, boundary(clf, X, Y), levels=[0])\n",
    "plt.clabel(CS, fontsize=10)\n",
    "plt.show()\n",
    "\n",
    "print clf.covariance_"
   ]
  },
  {
   "cell_type": "markdown",
   "metadata": {},
   "source": [
    "# 7. Logistic Regression"
   ]
  },
  {
   "cell_type": "markdown",
   "metadata": {},
   "source": [
    "## 7.1 The Optimization Problem\n",
    "\n",
    "This time we find another metric distance between the true $y$ and the predicted $y'$. We want to predict $y'$ in term of a value of $(0, 1)$ instead of \\{0, 1\\}.\n",
    "\n",
    "Suppose that we have found a good separating line. For a prediction $y$ by $f(\\mathbf x) = \\mathbf w\\cdot \\mathbf x + b$. Suppose $\\mathbf x$ contains a dummy coordinate 1, we can use $f(\\mathbf x) = \\mathbf w\\cdot \\mathbf x$ instead, we want to find a function $L\\geq 0$ such that:\n",
    "\n",
    "- $L$ is 0 or small if $\\mathbf w \\cdot \\mathbf x \\geq 0$ and $y = 1$, or if $\\mathbf w \\cdot \\mathbf x \\leq 0$ and $y = 0$\n",
    "- $L$ is large if $\\mathbf w \\cdot \\mathbf x \\geq 0$ and $y = 0$, or if $\\mathbf w \\cdot \\mathbf x \\leq 0$ and $y = 1$\n",
    "\n",
    "Let\n",
    "$$\n",
    "\\sigma(z) = logit(z) = \\frac{1}{1 + \\exp(-z)}\n",
    "$$\n",
    "\n",
    "Then, \n",
    "$$\n",
    "L(\\mathbf x, y; \\mathbf w) =- y \\cdot \\log(\\sigma(\\mathbf w \\cdot \\mathbf x) - (1 - y) \\cdot \\log(\\sigma(-\\mathbf w \\cdot \\mathbf x))\n",
    "$$\n",
    "$$\n",
    "=- y \\cdot \\log\\left(\\frac1{1 + \\exp(-\\mathbf w \\cdot \\mathbf x)}\\right) - (1 - y) \\cdot \\log\\left(\\frac1{1 + \\exp(\\mathbf w \\cdot \\mathbf x)}\\right)\n",
    "$$\n",
    "\n",
    "is a function corresponding to our expectation.\n",
    "\n",
    "This function is called the logit function.\n",
    "\n",
    "We will predict $y$ as $\\frac{1}{1 + exp(-\\mathbf w \\cdot \\mathbf x)}$. Its value is always in (0, 1). Furthermore it is near 1 if $\\mathbf w \\cdot \\mathbf x)$ is large positive, i.e the data point is clearly on the first class (far from the boundary) and near 0 if $\\mathbf w \\cdot \\mathbf x)$ is large negative. It is 1/2 if $\\mathbf x$ is on the boundary ($\\mathbf w\\cdot \\mathbf x = 0$).\n",
    "\n"
   ]
  },
  {
   "cell_type": "markdown",
   "metadata": {},
   "source": [
    "### The logit function"
   ]
  },
  {
   "cell_type": "code",
   "execution_count": 15,
   "metadata": {},
   "outputs": [
    {
     "data": {
      "text/plain": [
       "[<matplotlib.lines.Line2D at 0xd4d8dd8>]"
      ]
     },
     "execution_count": 15,
     "metadata": {},
     "output_type": "execute_result"
    },
    {
     "data": {
      "image/png": "[encoded data removed]",
      "text/plain": [
       "<matplotlib.figure.Figure at 0xb498b70>"
      ]
     },
     "metadata": {},
     "output_type": "display_data"
    }
   ],
   "source": [
    "def logit(z):\n",
    "    return 1./(1 + np.exp(-z))\n",
    "\n",
    "X = np.linspace(-10, 10, 100)\n",
    "plt.plot(X, logit(X), 'r')"
   ]
  },
  {
   "cell_type": "markdown",
   "metadata": {},
   "source": [
    "### The negative log of logit function"
   ]
  },
  {
   "cell_type": "code",
   "execution_count": 16,
   "metadata": {
    "scrolled": true
   },
   "outputs": [
    {
     "data": {
      "text/plain": [
       "[<matplotlib.lines.Line2D at 0xdd5cb70>]"
      ]
     },
     "execution_count": 16,
     "metadata": {},
     "output_type": "execute_result"
    },
    {
     "data": {
      "image/png": "[encoded data removed]",
      "text/plain": [
       "<matplotlib.figure.Figure at 0xd4894e0>"
      ]
     },
     "metadata": {},
     "output_type": "display_data"
    }
   ],
   "source": [
    "def minusloglogit(z):\n",
    "    return -np.log(1./(1 + np.exp(-z)))\n",
    "\n",
    "X = np.linspace(-10, 10, 100)\n",
    "plt.plot(X, minusloglogit(X), 'r')"
   ]
  },
  {
   "cell_type": "code",
   "execution_count": 17,
   "metadata": {},
   "outputs": [
    {
     "data": {
      "text/plain": [
       "[<matplotlib.lines.Line2D at 0xdcc40b8>]"
      ]
     },
     "execution_count": 17,
     "metadata": {},
     "output_type": "execute_result"
    },
    {
     "data": {
      "image/png": "[encoded data removed]",
      "text/plain": [
       "<matplotlib.figure.Figure at 0xd7bdeb8>"
      ]
     },
     "metadata": {},
     "output_type": "display_data"
    }
   ],
   "source": [
    "def loss(y, predicted_y):\n",
    "    return - y * np.log(1./(1 + np.exp(-predicted_y))) - (1 - y) * np.log(1 - 1./(1 + np.exp(-predicted_y)))\n",
    "\n",
    "X = np.linspace(-10, 10, 100)\n",
    "plt.plot(X, loss(1, X), 'r', label=\"Loss for class 1\")\n",
    "plt.plot(X, loss(0, X), 'b', label=\"Loss for class 0\")"
   ]
  },
  {
   "cell_type": "markdown",
   "metadata": {},
   "source": [
    "The logistic regression algorithm finds $\\mathbf w$  that maximizes\n",
    "$$\n",
    "\\sum_{i=1}^N L(\\mathbf x_i, y_i)\n",
    "$$\n",
    "where $\\mathbf x_i, y_i$ are observed data in the training set."
   ]
  },
  {
   "cell_type": "markdown",
   "metadata": {},
   "source": [
    "## 7.2 An Iterative Algorithm: Iterative Reweighted Least Square (IRLS)\n",
    "\n",
    "An iterative algorithm works like this:\n",
    "\n",
    "- Initialize **w** arbitrarily\n",
    "- Then repeat\n",
    "    - Update **w**\n",
    "- Until a convergence criterion is met.\n",
    "\n",
    "For IRLS, the repetition is described as:\n",
    "$$\n",
    "\\mathbf w_{new} = \\mathbf w - \\mathbf H^{-1} \\nabla L(\\mathbf w)\n",
    "$$\n",
    "\n",
    "Let $\\Phi$ be the matrix $N \\times D$ representing data points $\\mathbf x_1, \\ldots \\mathbf x_N$, $\\mathbf y$ be the vector $(y_1, \\ldots, y_N)^t$\n",
    "\n",
    "Then\n",
    "$$\n",
    "\\nabla L(\\mathbf w) = \\Phi^t (\\sigma(\\Phi \\mathbf w))  - \\Phi^t \\mathbf y\n",
    "$$\n",
    "\n",
    "($\\sigma$ on a vector is a vector of $\\sigma$ on features.)\n",
    "\n",
    "$$\n",
    "H = \\sum_{i=1}^N \\sigma(\\mathbf x_i \\cdot \\mathbf w)(1-\\sigma(\\mathbf x_i \\cdot \\mathbf w))\\Phi \\Phi^t = \\Phi^t R \\Phi\n",
    "$$\n",
    "where $R$ is the diagonal matrix $diag(\\sigma(\\mathbf x_i \\cdot \\mathbf w)(1-\\sigma(\\mathbf x_i \\cdot \\mathbf w)))$\n",
    "\n",
    "\n",
    "In practice,\n",
    "$$\n",
    "\\mathbf w_{new} = \\mathbf w - (\\mathbf \\Phi^t R \\mathbf \\Phi)^{-1} \\Phi^t (\\sigma(\\mathbf w \\cdot \\mathbf x)-\\mathbf y)\n",
    "$$\n",
    "$$\n",
    " =  (\\mathbf \\Phi^t R \\mathbf \\Phi)^{-1} \\mathbf \\Phi^t R \\mathbf z\n",
    "$$\n",
    "\n",
    "where $\\mathbf z$ is a N-dimensional vector: \n",
    "$$\n",
    "\\mathbf z = \\mathbf \\Phi \\mathbf w - R^{-1}(\\sigma(\\mathbf w \\cdot \\mathbf x)- \\mathbf y)\n",
    "$$\n"
   ]
  },
  {
   "cell_type": "markdown",
   "metadata": {},
   "source": [
    "## 7.3 Implementation"
   ]
  },
  {
   "cell_type": "code",
   "execution_count": 38,
   "metadata": {},
   "outputs": [
    {
     "name": "stdout",
     "output_type": "stream",
     "text": [
      "[0.79091164 1.47098009]\n"
     ]
    },
    {
     "data": {
      "image/png": "[encoded data removed]",
      "text/plain": [
       "<matplotlib.figure.Figure at 0xb5052e8>"
      ]
     },
     "metadata": {},
     "output_type": "display_data"
    }
   ],
   "source": [
    "from sklearn.linear_model import LogisticRegression\n",
    "data = pd.read_csv(\"Example1.txt\", sep=\";\", header=None)\n",
    "red_data = data[data[2] == 0]\n",
    "blue_data = data[data[2] == 1]\n",
    "\n",
    "X = data.iloc[:, 0:2]\n",
    "y = data.iloc[:, 2]\n",
    "clf = LogisticRegression(C = 10, solver='lbfgs')\n",
    "clf.fit(X, y)\n",
    "w = clf.coef_[0]\n",
    "print w\n",
    "b = clf.intercept_\n",
    "fig = plt.figure()\n",
    "ax = fig.add_subplot(111)\n",
    "plt.scatter(red_data[0], red_data[1], color='red', marker='o', label = 'red')\n",
    "plt.scatter(blue_data[0], blue_data[1], color='blue', marker='x', label = 'blue')\n",
    "\n",
    "X_range = np.arange(-10, 6, 0.1)\n",
    "plt.plot(X_range, -X_range*w[0]/w[1] - b/w[1], 'g--', label = \"%.4f x + %.4f y - %.4f = 0\" % (w[0], w[1], -b))\n",
    "\n",
    "plt.legend(loc=\"best\")\n",
    "plt.show()\n"
   ]
  },
  {
   "cell_type": "markdown",
   "metadata": {},
   "source": [
    "# 8. K Nearest Neighbors"
   ]
  },
  {
   "cell_type": "markdown",
   "metadata": {},
   "source": [
    "## 8.1 A Simple Density Estimator\n",
    "\n",
    "(This section uses the explanation in [2])\n",
    "\n",
    "Suppose we want to re-establish some unknown estimation of the density $p(\\mathbf x)$ of $\\mathbf x$ (we also use $\\mathbf x$ to denote the random variable) in $\\mathbf R^D$. Consider a small zone $\\mathcal R$ containing $\\mathbf x$, then probability of this zone is:\n",
    "\n",
    "$$\n",
    "P = \\int_{\\mathcal R} p(\\mathbf x) d\\mathbf x\n",
    "$$\n",
    "\n",
    "Suppose we have a data set of $N$ observations drawn from $p(\\mathbf x)$. Each data point has a probability of falling in $\\mathbf R$, the probability that there are $K$ points lying inside $\\mathcal R$ is $\\textrm{Bin}(K|N, P) = \\frac{N !}{K!(N-K)!} P^K (1-P)^{(N-K)}$ . The mean fraction of points falling inside the region is $\\mathbf E[K/N] = P$, and $\\mathbf {Var} [K/N] = P(1-P)/N$. For large $N$, the distribution will be sharply peaked around the mean, so\n",
    "$$\n",
    "K \\approx NP\n",
    "$$\n",
    "If $\\mathcal R$ is small enough so that $p(\\mathbf x)$ is quite the same in this region, we have\n",
    "$$\n",
    "P \\approx p(\\mathbf x) |\\mathcal R|\n",
    "$$\n",
    "\n",
    "where $|\\mathcal R|$ denotes the volume of $\\mathbf R$.\n",
    "\n",
    "Therefore, we have the following density estimator for $p(\\mathbf x)$:\n",
    "$$\n",
    "p(\\mathbf x) = \\frac K{N|\\mathcal R|}\n",
    "$$\n",
    "\n",
    "This is just a density estimator and depends on 2 contradictory assumptions: $\\mathcal R$ is sufficiently small and the number $K$ of points falling inside the region is sufficient for the binomial distribution to be sharply peaked. In fact if one of the two assumptions does not hold, improvement on one assumption will make the other to be worse:\n",
    "\n",
    "- If we keep $K$ large, then $|\\mathcal R|$ must be large such that the region contains $K$ points.\n",
    "- If we keep $|\\mathcal R|$ small, then the number $K$ of points in the region may be small. "
   ]
  },
  {
   "cell_type": "markdown",
   "metadata": {},
   "source": [
    "## 8.2 The Algorithm"
   ]
  },
  {
   "cell_type": "markdown",
   "metadata": {},
   "source": [
    "Return to the classification problem with 2 classes $\\mathcal C_1, \\mathcal C_0$. Using the above density estimation, one method is to keep $K$ and variate $\\mathcal R$. For a set of data point $S =\\{\\mathbf x_1, \\ldots \\mathbf x_N\\}$, and for let $\\mathcal R(\\mathbf x)$ denote the smallest sphere centered at $\\mathbf x$ containing exactly $K$ points. Let $V$ denote $|\\mathcal R(\\mathbf x)|$. Let $N_0, N_1$ be the total number of points in classes $\\mathcal C_0, \\mathcal C_1$, and $K_0(\\mathbf x), K_1(\\mathbf x)$ denote the number of points in the sphere $\\mathcal R(\\mathbf x)$.\n",
    "\n",
    "We want to predict which class $\\mathbf x$ belongs to. The problem becomes modelizing $P(\\mathbf C_k|\\mathbf x)$ ($k = 0, 1$). We have the estimators\n",
    "\n",
    "$$\n",
    "p(\\mathbf x|\\mathbf C_k) = \\frac{K_k}{N_k V}\n",
    "$$\n",
    "\n",
    "$$\n",
    "p(\\mathbf x) = \\frac K {NV}\n",
    "$$\n",
    "\n",
    "and \n",
    "$$\n",
    "P(\\mathbf C_k) = N_k/N \n",
    "$$\n",
    "\n",
    "Hence\n",
    "$$\n",
    "P(\\mathbf C_k|\\mathbf x) = \\frac{K_k}{K}\n",
    "$$\n",
    "\n",
    "We choose $k$ that maximizes $P(\\mathbf C_k|\\mathbf x)$, so $k$ with maximum $K_k$ is chosen.\n",
    "\n",
    "The algorithm suggests the class where the majority of the nearest k neighbors belong to. "
   ]
  },
  {
   "cell_type": "markdown",
   "metadata": {},
   "source": [
    "## 8.3 Implementation"
   ]
  },
  {
   "cell_type": "code",
   "execution_count": 20,
   "metadata": {},
   "outputs": [
    {
     "name": "stdout",
     "output_type": "stream",
     "text": [
      "[1 1]\n",
      "[[0.4 0.6]\n",
      " [0.  1. ]]\n"
     ]
    }
   ],
   "source": [
    "from sklearn.neighbors import KNeighborsClassifier\n",
    "data = pd.read_csv(\"Example1.txt\", sep=\";\", header=None)\n",
    "red_data = data[data[2] == 0]\n",
    "blue_data = data[data[2] == 1]\n",
    "\n",
    "K = 5\n",
    "\n",
    "X = data.iloc[:, 0:2]\n",
    "y = data.iloc[:, 2]\n",
    "clf = KNeighborsClassifier(n_neighbors=K, weights ='uniform')\n",
    "clf.fit(X, y)\n",
    "print clf.predict([[0,1], [2, 3]])\n",
    "print clf.predict_proba([[0,1], [2, 3]])\n"
   ]
  },
  {
   "cell_type": "code",
   "execution_count": 21,
   "metadata": {},
   "outputs": [
    {
     "data": {
      "text/plain": [
       "<matplotlib.collections.PathCollection at 0xe770748>"
      ]
     },
     "execution_count": 21,
     "metadata": {},
     "output_type": "execute_result"
    },
    {
     "data": {
      "image/png": "[encoded data removed]",
      "text/plain": [
       "<matplotlib.figure.Figure at 0xdbde7f0>"
      ]
     },
     "metadata": {},
     "output_type": "display_data"
    }
   ],
   "source": [
    "X_range = np.arange(-7, 6, 0.1)\n",
    "Y_range = np.arange(-5, 5, 0.1)\n",
    "X_range, Y_range = np.meshgrid(X_range, Y_range)\n",
    "\n",
    "def classify(clf, X, Y):\n",
    "    res = np.zeros(X.shape)\n",
    "    for i in range(X.shape[0]):\n",
    "        for j in range(X.shape[1]):\n",
    "            z = np.array([[X[i,j], Y[i,j]]])\n",
    "            res[i, j] = clf.predict(z)[0]\n",
    "    return res\n",
    "\n",
    "Z = classify(clf, X_range, Y_range).flatten()\n",
    "COLOR = ['pink', 'skyblue']\n",
    "plt.scatter(X_range, Y_range, color=[COLOR[int(Z[i])] for i in range(len(Z))], marker='.')\n",
    "plt.scatter(red_data[0], red_data[1], color='red', marker='o', label = 'red')\n",
    "plt.scatter(blue_data[0], blue_data[1], color='blue', marker='x', label = 'blue')"
   ]
  },
  {
   "cell_type": "markdown",
   "metadata": {},
   "source": [
    "# 9. Naive Bayes"
   ]
  },
  {
   "cell_type": "markdown",
   "metadata": {},
   "source": [
    "## 9.1 Naive Bayes. The Optimization Problem\n",
    "Suppose $\\mathbf x = (x^{(1)}, \\ldots, x^{(D)})$ (contains $D$ features). We would like to modelize:\n",
    "\n",
    "$$\n",
    "p(y \\mid x^{(1)}, \\dots, x^{(D)}) = \\frac{p(y) p(x^{(1)}, \\dots, x^{(D)} \\mid y)}{p(x^{(1)}, \\dots, x^{(D)})}\n",
    "$$\n",
    "\n",
    "Suppose for each $i$\n",
    "$$\n",
    "P(x^{(i)} | y, x^{(1)}, \\dots, x^{({i-1})}, x^{({i+1})}, \\dots, x^{(D)}) = P(x^{(i)} | y),\n",
    "$$\n",
    "\n",
    "This means the features are mutually independent.\n",
    "\n",
    "Then\n",
    "$$\n",
    "p(y \\mid x^{(1)}, \\dots, x^{(D)} ) = \\frac{p(y) \\prod_{i=1}^{D} p(x^{(i)} \\mid y)}\n",
    "                                 {p(x^{(1)}, \\dots, x^{(D)}) }\n",
    "$$\n",
    "\n",
    "Since $p(x^{(1)}, \\dots, x^{(D)})$ is constant given the input:\n",
    "\n",
    "$$\n",
    "P(y \\mid x^{(1)}, \\dots, x^{(D)}) \\propto p(y) \\prod_{i=1}^{D} p(x^{(i)} \\mid y)\n",
    "$$\n",
    "\n",
    "We can then assume some probability distributions on $p(y)$ and $p(x^{(i)} \\mid y)$ depending on some unknown parameters $W$ and solve the maximization problem:\n",
    "\n",
    "$$\n",
    "\\arg\\max_{W} \\prod_{n=1}^N p(y_n) \\prod_{i=1}^{D} p(x_n^{(i)} \\mid y_n),\n",
    "$$ "
   ]
  },
  {
   "cell_type": "markdown",
   "metadata": {},
   "source": [
    "## 9.2 Gaussian Naive Bayes\n",
    "\n",
    "If $y$ follows Bernoulli law, $p(x_i \\mid y)$ follows normal distribution, we have QDA model but with a diagonal covariance matrix. This model is called Gaussian Naive Bayes.\n",
    "\n",
    "$$\n",
    "p(x^{(i)} \\mid y) = \\frac{1}{\\sqrt{2\\pi\\sigma^2_y}} \\exp\\left(-\\frac{(x^{(i)} - \\mu_y)^2}{2\\sigma^2_y}\\right)\n",
    "$$\n",
    "\n",
    "Using maximum likelihood, we retrieve the same solution as for QDA case:\n",
    "\n",
    "$$ \n",
    "\\mu_k ={\\frac {1}{|\\mathcal C_k|}}\\sum _{y_n = k} x_n\n",
    "$$\n",
    "($k=0,1$)\n",
    "\n",
    "The variance of feature $x_i$:\n",
    "\n",
    "$$\n",
    "(\\sigma_k^{(i)}) ^{2}= \\frac {1}{|\\mathcal C_k|} \\sum _{y_n = k}\\left( x_n^{(i)} -\\mu_k^{(i)} \\right)^2 \n",
    "$$"
   ]
  },
  {
   "cell_type": "markdown",
   "metadata": {},
   "source": [
    "### Implementation"
   ]
  },
  {
   "cell_type": "code",
   "execution_count": 56,
   "metadata": {},
   "outputs": [
    {
     "name": "stderr",
     "output_type": "stream",
     "text": [
      "D:\\Users\\ndoannguyen\\AppData\\Local\\Continuum\\anaconda2\\lib\\site-packages\\ipykernel_launcher.py:9: RuntimeWarning: divide by zero encountered in double_scalars\n",
      "  if __name__ == '__main__':\n"
     ]
    },
    {
     "data": {
      "image/png": "[encoded data removed]",
      "text/plain": [
       "<matplotlib.figure.Figure at 0x10cfc240>"
      ]
     },
     "metadata": {},
     "output_type": "display_data"
    },
    {
     "name": "stdout",
     "output_type": "stream",
     "text": [
      "[[14.11597698  0.24186274]\n",
      " [ 3.69166327  0.72748386]]\n"
     ]
    }
   ],
   "source": [
    "from sklearn.naive_bayes import GaussianNB\n",
    "\n",
    "data = pd.read_csv(\"Example4.txt\", sep=\";\", header=None)\n",
    "red_data = data[data[2] == 0]\n",
    "blue_data = data[data[2] == 1]\n",
    "\n",
    "def plot_gnb_cov(ax, gnb):\n",
    "    plot_ellipse(ax, gnb.theta_[0], np.diag(gnb.sigma_[0]), 'red')\n",
    "    plot_ellipse(ax, gnb.theta_[1], np.diag(gnb.sigma_[1]), 'blue')\n",
    "\n",
    "X = data.iloc[:, 0:2]\n",
    "y = data.iloc[:, 2]\n",
    "clf = GaussianNB()\n",
    "clf.fit(X, y)\n",
    "fig = plt.figure()\n",
    "ax = fig.add_subplot(111)\n",
    "plt.scatter(red_data[0], red_data[1], color='red', marker='o', label = 'red')\n",
    "plt.scatter(blue_data[0], blue_data[1], color='blue', marker='x', label = 'blue')\n",
    "plot_gnb_cov(ax, clf)\n",
    "\n",
    "X = np.arange(-12, 8, 0.1)\n",
    "Y = np.arange(-3,  3, 0.1)\n",
    "X, Y = np.meshgrid(X, Y)\n",
    "\n",
    "def boundary(gnb, X, Y):\n",
    "    res = np.zeros(X.shape)\n",
    "    for i in range(X.shape[0]):\n",
    "        for j in range(X.shape[1]):\n",
    "            z = np.array([X[i,j], Y[i,j]])\n",
    "            res[i, j] = np.log(gnb.class_prior_[1]/gnb.class_prior_[0]) - 0.5 * np.dot(np.dot(np.linalg.inv(np.diag(gnb.sigma_[1])) , z - gnb.theta_[1]), z - gnb.theta_[1]) + 0.5 * np.dot(np.dot(np.linalg.inv(np.diag(gnb.sigma_[0])) , z-gnb.theta_[0]), z - gnb.theta_[0])\n",
    "    return res\n",
    "\n",
    "boundary(clf, X, Y)\n",
    "CS = plt.contour(X, Y, boundary(clf, X, Y), levels=[0])\n",
    "plt.clabel(CS, fontsize=10)\n",
    "plt.show()\n",
    "\n",
    "print clf.sigma_\n"
   ]
  },
  {
   "cell_type": "markdown",
   "metadata": {},
   "source": [
    "# 10. A Short Recap"
   ]
  },
  {
   "cell_type": "markdown",
   "metadata": {},
   "source": [
    "| Model                 | Probabilistic Model   Representation                                                                                                                                                         |                                 |                                                   | ERM Representation                    |                                                          |                                      | Solution                         |                                        | Other Representation                                               |\n",
    "|-----------------------|----------------------------------------------------------------------------------------------------------------------------------------------------------------------------------------------|---------------------------------|---------------------------------------------------|---------------------------------------|----------------------------------------------------------|--------------------------------------|----------------------------------|----------------------------------------|--------------------------------------------------------------------|\n",
    "|                       | Probability Distribution                                                                                                                                                                     | Parameters                      | Optimization Problem                              | Loss function                         | Hypothesis class                                         | Regularization                       | Solution                         | Decision Rule                          | Other representation                                               |\n",
    "| Linear Regression     | $p(y|x)$ follows Gaussian   distribution mean $w\\cdot x + b$,      $y_i$ independent conditionned on $x_i$                                                                                   | $w, b$                          | ML     $p(x_1, \\ldots, x_N| y_1, \\ldots, y_N)$    | $l(y, y') = |y -y'|^2$                | $\\{ x: x \\mapsto w\\cdot x + b ; w, b\\}$                     |                                    | Closed form     (amphi 6)        | $w\\cdot x + b$                                       |                                                                    |\n",
    "| Polynomial Regression | $p(y|x)$ follows Gaussian   distribution mean $R(x)$, $R$ is a polynomial,      $y_i$ independent conditionned on $x_i$                                                                        | $R$                          | ML     $p(x_1, \\ldots, x_N| y_1, \\ldots, y_N)$    | $l(y, y') = |y -y'|^2$                | $\\{ x: x \\mapsto R(x) ; w\\}$, $R$ is a polynomial          |                                 |Closed form (amphi 6)                                     |$R(x)$                                        |                                                                    |\n",
    "| Ridge                 | $p(w)$ follows Gaussian mean 0,   variance $\\alpha I_D$ ($\\alpha$ known),      $p(y|x, w)$ follows Gaussian distribution mean $w\\cdot x + b$,      $y_i$ independent conditionned on $w, x_i$  | $w, b$                             | MAP     $p(w|x_1, \\ldots, x_N, y_1, \\ldots, y_N)$ | $l(y, y') = |y -y'|^2$                | $\\{ x: x \\mapsto w\\cdot x + b ; w, b\\}$                     | $\\Vert x\\Vert_1$                     | Closed form     (amphi 6)        |$w\\cdot x + b   $                                     |                                                                    |\n",
    "| Lasso                 | $p(w)$ follows   $\\left(\\frac{\\lambda}{2}\\right)^D exp(-\\lambda\\Vert x\\Vert_1)$ ($\\lambda$ know),      $p(y|x, w)$ follows Gaussian distribution mean $w\\cdot x + b$,      $y_i$ independent conditionned on $w, x_i$ | $w, b$                             | MAP     $p(w|x_1, \\ldots, x_N, y_1, \\ldots, y_N)$ | $l(y, y') = |y -y'|^2$                | $\\{ x: x \\mapsto w\\cdot x + b ; w, b\\}$                     | $\\Vert x\\Vert_1^2$                   | Iterative method     (amphi 6)   |$w\\cdot x + b $                                         |                                                                    |\n",
    "| Perceptron            | Not a probabilistic method                                                                                                                                                                   | Not a probabilistic method      | Not a probabilistic method                        | $l(y, y') = y'.1_{yy' < 0}$              | $\\{ x: x \\mapsto w\\cdot x ; w\\}$                         |                                    | Iterative method     (section 4) | $sign(w \\cdot x)$                      | Maximize     $$     \\frac{w^t S_B w}{w^t S_W w}     $$ (section 3) |\n",
    "| LDA                   | $p(y)$ follow Bernoulli$(\\pi)$,        $p(x|y)$ follow Gaussian$(\\mu_y, \\Sigma)$,      $(x_i, y_i)$ independent                                                                              | $\\pi, \\mu_y, \\Sigma$            | ML     $p(x_1, \\ldots, x_N, y_1, \\ldots, y_N)$    |                                       |                                                          |                                      |      (section 5)                 | argmax_y $P(y|x)$                      |                                                                    |\n",
    "| QDA                   | $p(y)$ follow Bernoulli$(\\pi)$,        $p(x|y)$ follow Gaussian$(\\mu_y, \\Sigma_y)$,      $(x_i, y_i)$ independent                                                                            | $\\pi, \\mu_y, \\Sigma_y$          | ML     $p(x_1, \\ldots, x_N, y_1, \\ldots, y_N)$    |                                       |                                                          |                                      |      (section 6)                 | argmax_y $P(y|x)$                      |                                                                    |\n",
    "| Logistic Regression   | $p(y|x) = exp(\\frac1{1 +   \\exp(-w\\cdot x - b})$,      $y_i$ independent conditionned on $x_i$                                                                                               | $w, b$                          | ML     $p(y_1, \\ldots, y_N| x_1, \\ldots, x_N)$    | $l(y,y') = ylog y' + (1-y)log (1-y')$ | $\\{ x: x \\mapsto \\frac{1}{1+\\exp(-w\\cdot x-b)} ; w, b\\}$ | Possible to add $L_1$, $L_2$ penalty (in that case ML becomes MAP) | Iterative methods                | $1_{w \\cdot x + b > 0}$, $P(y|x)$                      |                                                                    |\n",
    "| Naïve Bayes (general) | $p(y)$ follows some   distribution,      The features $x^{(i)}$ of $x$ are independent,      $p(x^{(i)}|y) $ follows some distribution,     $(x_i, y_i)$ independent,                         | Parameters of the distributions | ML     $p(x_1, \\ldots, x_N, y_1, \\ldots, y_N)$    |                                       |                                                          |                                      |      (section 9)                 | argmax_y $P(y|x)$                      |                                                                    |\n",
    "| Gaussian Naïve Bayes  | $p(y)$ follows Bernoulli$(\\pi)$,        The features $x^{(i)}$ of $x$ are independent,      $p(x^{(i)}|y) $ follows Gaussian$(\\mu_y^{(i)}, \\Sigma_y^{(i)})$                                  | $\\pi, \\mu_y^{i}, \\sigma_y^{i}$  | ML     $p(x_1, \\ldots, x_N, y_1, \\ldots, y_N)$    |                                       |                                                          |                                      |      (section 9)                 | argmax_y $P(y|x)$                      |                                                                    |\n",
    "| K Nearest Neighbors   | $P(y) = \\frac{N_y}{N}$,      $P(x|y) = \\frac{K_y}{N_y}|\\mathcal R|$ where $\\mathcal R$ a ball containing   $K$ points                                                                        | Not a parametric model.         |  No optimization problem                          |  No optimization problem              | Not a parametric model.                                  |                                      |  No optimization problem         | Majority vote     (as $P(y|x) = K_y/K$ |                                                                    |"
   ]
  },
  {
   "cell_type": "markdown",
   "metadata": {},
   "source": [
    "## References\n",
    "\n",
    "[1] Shai Shalev-Shwartz and Shai Ben-David, *Understanding Machine Learning, from Theory to Algorithms*\n",
    "\n",
    "[2] C. M. Bishop, Pattern Recognition And Machine Learning, Springer 2006\n",
    "\n",
    "[3] http://www-connex.lip6.fr/~denoyer/wordpress/wp-content/uploads/2016/01/coursml2.pdf\n",
    "\n",
    "[4] Andrew Ng, Machine Learning, Course on coursera.org\n",
    "\n",
    "[5] Kirill Eremenko, Machine Learning A-Z TMTM : Hands-On Python & R in Data Science, course on udemy.com\n",
    "\n",
    "[6] http://web.engr.oregonstate.edu/~xfern/classes/cs534/notes/LDA.pdf\n",
    "\n",
    "[7] http://www.cedar.buffalo.edu/~srihari/CSE574/Chap4/4.3.3-IRLS.pdf"
   ]
  }
 ],
 "metadata": {
  "kernelspec": {
   "display_name": "Python 2",
   "language": "python",
   "name": "python2"
  },
  "language_info": {
   "codemirror_mode": {
    "name": "ipython",
    "version": 2
   },
   "file_extension": ".py",
   "mimetype": "text/x-python",
   "name": "python",
   "nbconvert_exporter": "python",
   "pygments_lexer": "ipython2",
   "version": "2.7.14"
  }
 },
 "nbformat": 4,
 "nbformat_minor": 2
}
