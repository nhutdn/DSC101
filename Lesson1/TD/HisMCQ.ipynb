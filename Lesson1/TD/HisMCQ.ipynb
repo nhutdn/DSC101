{
 "cells": [
  {
   "cell_type": "markdown",
   "metadata": {},
   "source": [
    "# TD1 - Multiple Choice Questions on History"
   ]
  },
  {
   "cell_type": "markdown",
   "metadata": {},
   "source": [
    "Trong TD đầu tiên này, ta sẽ thực hiện các thao tác lập trình cơ bản với Python thông qua việc thiết kế hai \"ứng dụng\" cơ bản làm việc với dữ liệu là bộ câu hỏi trắc nghiệm về chủ đề lịch sử."
   ]
  },
  {
   "cell_type": "markdown",
   "metadata": {},
   "source": [
    "## Mô tả"
   ]
  },
  {
   "cell_type": "markdown",
   "metadata": {},
   "source": [
    "Tập tin <a href=\"QCM.csv\">QCM.csv</a> chứa dữ liệu gồm 77 câu hỏi về lịch sử. Bạn có thể mở file với spyder (đừng thử với Excel, sẽ gặp vấn đề về font chữ). Dữ liệu trong tập tin có cấu trúc như sau:\n",
    "- Mỗi câu hỏi tương ứng với một hàng (kết thúc bởi \"\\n\")\n",
    "- Mỗi hàng gồm 12 thông tin cách nhau bởi \"\\t\" (do vậy luôn có 11 \"\\t\"). 12 thông tin đó là: \n",
    "    - (0) Phạm vi: một str 2 kí tự (\"TG\" = Lịch sử thế giới, \"VN\" = Lịch sử Việt Nam)\n",
    "    - (1) Thời đại: một số nguyên (1: Nguyên thuỷ và cổ đại, 2: Trung đại, 3: Cận đại, 4: Hiện đại)\n",
    "    - (2) Số thứ tự câu hỏi trong file: một số nguyên\n",
    "    - (3) Nội dung câu hỏi: một str\n",
    "    - (4), (5), (6), (7) Phương án A, B, C, D: các str\n",
    "    - (8) Đáp án: một str 1 kí tự (\"A\", \"B\", \"C\" hoặc \"D\")\n",
    "    - (9) Độ khó: một str 1 kí tự (\"E\": dễ, \"M\": trung bình, \"H\": khó)\n",
    "    - (10) Các hashtags: Hiện tại chưa có thông tin nên được kí hiệu bằng một str \"-\", nhưng có thể được cập nhật trong tương lai dưới dạng một str gồm các hashtag ngăn cách nhau bằng dấu \"|\"\n",
    "    - (11) Giải thích: Hiện tại chưa có thông tin nên được kí hiệu bằng một str \"-\", có thể được cập nhật trong tương lai. \n",
    "    "
   ]
  },
  {
   "cell_type": "markdown",
   "metadata": {},
   "source": [
    "Ta sẽ tìm cách lưu dữ liệu bằng một type thích hợp của Python trong bộ nhớ máy tính, sau đó tạo hai ứng dụng sau:\n",
    "- Ứng dụng 1: Tạo ra một bộ *N* câu hỏi ngẫu nhiên từ dữ liệu, cho người chơi nhập câu trả lời mỗi câu hỏi và đánh giá độ chính xác câu trả lời của người chơi.\n",
    "- Ứng dụng 2: Lọc ra tất cả các câu hỏi mà trong nội dung có từ khoá *S* (ví dụ \"Lý\"), sau đó thêm hashtag *R* (ví dụ \"nhà Lý\") vào cột (10) của dữ liệu, rồi lưu lại bản cập nhật này của dữ liệu."
   ]
  },
  {
   "cell_type": "markdown",
   "metadata": {},
   "source": [
    "File <a href=\"HisMCQ.py\">HisMCQ.py</a> là nơi bạn cần viết code. Tập tin <a href=\"TestHisMCQ.py\">TestHisMCQ.py</a> chứa các test cần chạy để kiểm tra code bạn viết trong HisMCQ.py có chạy tốt không. Hãy download các file vừa đề cập về cùng một thư mục. Bạn không cần sửa chữa gì trong TestHisMCQ.py trừ điều chỉnh các syntax trong Python 2 thành Python 3."
   ]
  },
  {
   "cell_type": "markdown",
   "metadata": {},
   "source": [
    "## Yêu cầu"
   ]
  },
  {
   "cell_type": "markdown",
   "metadata": {},
   "source": [
    "Trong <a href=\"HisMCQ.py\">HisMCQ.py</a>, bạn cần hoàn thành tất cả các hàm có chú thích #TODO ứng với mỗi bài tập. Một số đoạn code đã được viết sẵn, ví dụ các hằng số nêu rõ ý nghĩa các cột."
   ]
  },
  {
   "cell_type": "code",
   "execution_count": 1,
   "metadata": {
    "collapsed": true
   },
   "outputs": [],
   "source": [
    "ZONE = 0\n",
    "PERIOD = 1\n",
    "INDEX = 2\n",
    "CONTENT = 3\n",
    "OPTION_A = 4\n",
    "OPTION_B = 5\n",
    "OPTION_C = 6\n",
    "OPTION_D = 7\n",
    "CORRECTION = 8\n",
    "LEVEL = 9\n",
    "TAGS = 10\n",
    "EXPLANATION = 11\n",
    "\n",
    "DATAFILE = \"QCM.csv\"\n",
    "NEWDATAFILE = \"NewQCM.csv\"\n",
    "TAG_DELIMITOR = \"|\""
   ]
  },
  {
   "cell_type": "markdown",
   "metadata": {},
   "source": [
    "Sau khi hoàn thành xong mỗi bài tập, bạn có thể chạy test trong TestHisMCQ.py để kiểm tra.\n",
    "\n",
    "Để chạy từng test, trong Spyder, bạn chọn Run -> Configure và gõ tên test tương ứng với bài tập (test_1, test_2, test_3, …)\n",
    "\n",
    "<img src=\"TestConfig.png\"/>"
   ]
  },
  {
   "cell_type": "markdown",
   "metadata": {},
   "source": [
    "Nếu code viết đúng, khi chạy code bạn sẽ nhìn thấy dòng “Test … OK”. Nếu sai, lỗi của Python hoặc kết quả test sẽ giúp bạn xác định code đang gặp vấn đề gì.\n",
    "\n",
    "Bạn được tuỳ ý sử dụng các thư viện của Python, viết thêm các hàm phụ trong HisMCQ.py nếu thấy cần thiết. Bạn cũng có thể tự test các hàm đang viết bằng cách tạo một file mới, import HisMCQ và thử các phép test của chính bạn. (Ví dụ, dưới đây sẽ import History_Solution là lời giải hoàn chỉnh của TD. Bạn chưa nên đọc lời giải lúc này)."
   ]
  },
  {
   "cell_type": "code",
   "execution_count": 2,
   "metadata": {
    "collapsed": true
   },
   "outputs": [],
   "source": [
    "from HisMCQ_Solution import *"
   ]
  },
  {
   "cell_type": "markdown",
   "metadata": {},
   "source": [
    "## Phần 1 - Đọc và biểu diễn dữ liệu"
   ]
  },
  {
   "cell_type": "markdown",
   "metadata": {},
   "source": [
    "### Bài 1 - Đọc dữ liệu\n",
    "*(1) Hãy viết hàm **readQuestionFileAsString(filename)** nhận đối số **filename** là tên (đường dẫn) của file dữ liệu, và trả lại toàn bộ nội dung của file dưới dạng một **str**.*\n",
    "\n",
    "Gợi ý: Sau khi viết, bạn có thể thử bằng test sau. Độ dài của **str** cần là 16812."
   ]
  },
  {
   "cell_type": "code",
   "execution_count": 3,
   "metadata": {
    "collapsed": false
   },
   "outputs": [
    {
     "name": "stdout",
     "output_type": "stream",
     "text": [
      "16812\n"
     ]
    }
   ],
   "source": [
    "text = readQuestionFileAsString(\"QCM.csv\")\n",
    "print(len(text))"
   ]
  },
  {
   "cell_type": "markdown",
   "metadata": {},
   "source": [
    "*(2) Hãy viết tiếp hàm **readQuestionFileAsLines(filename)** nhận đối số **filename** là tên (đường dẫn) của file dữ liệu, và trả lại một **list** các **str**, mỗi **str** là một hàng trong file dữ liệu, chứa cả kí tự chuyển hàng \"\\n\" nếu có.\n",
    "\n",
    "Gợi ý: Sau khi viết, tự test bằng đoạn code dưới đây.*"
   ]
  },
  {
   "cell_type": "code",
   "execution_count": 4,
   "metadata": {
    "collapsed": false
   },
   "outputs": [
    {
     "name": "stdout",
     "output_type": "stream",
     "text": [
      "TG\t1\t1\tNgười tối cổ xuất hiện trên Trái Đất vào niên đại nào?\t2.000.000.000 năm trước\t80.000.000 năm trước\t6.000.000 năm trước\t400.000 năm trước\tC\tM\t-\t-\n",
      "\n",
      "VN\t3\t77\tNăm 1866, \"không tốn một viên đạn\", thực dân Pháp đã lấy được 3 tỉnh nào của nước ta?\tGia Định, Định Tường, Biên Hoà\tNam Định, Hà Nam, Kinh Bắc\tThanh Hoá, Nghệ An, Hà Tĩnh\tVĩnh Long, An Giang, Hà Tiên\tD\tH\t-\t-\n",
      "True\n"
     ]
    }
   ],
   "source": [
    "lines = readQuestionFileAsLines(\"QCM.csv\")\n",
    "print(lines[0])\n",
    "print(lines[76])\n",
    "print(\"\\n\" in lines[0]) #Should be True"
   ]
  },
  {
   "cell_type": "markdown",
   "metadata": {},
   "source": [
    "*(3) Hãy viết tiếp hàm **readQuestionFileAsCleanLines(filename)** nhận đối số **filename** là tên (đường dẫn) của file dữ liệu, và trả lại một **list** các **str**, mỗi **str** là một hàng trong file dữ liệu, nhưng lần này xoá bỏ tất cả các kí tự chuyển hàng \"\\n\" nếu có.*\n",
    "\n",
    "Gợi ý: Sau khi viết, tự test bằng đoạn code dưới đây."
   ]
  },
  {
   "cell_type": "code",
   "execution_count": 5,
   "metadata": {
    "collapsed": false
   },
   "outputs": [
    {
     "name": "stdout",
     "output_type": "stream",
     "text": [
      "TG\t1\t1\tNgười tối cổ xuất hiện trên Trái Đất vào niên đại nào?\t2.000.000.000 năm trước\t80.000.000 năm trước\t6.000.000 năm trước\t400.000 năm trước\tC\tM\t-\t-\n",
      "VN\t3\t77\tNăm 1866, \"không tốn một viên đạn\", thực dân Pháp đã lấy được 3 tỉnh nào của nước ta?\tGia Định, Định Tường, Biên Hoà\tNam Định, Hà Nam, Kinh Bắc\tThanh Hoá, Nghệ An, Hà Tĩnh\tVĩnh Long, An Giang, Hà Tiên\tD\tH\t-\t-\n",
      "False\n"
     ]
    }
   ],
   "source": [
    "lines = readQuestionFileAsCleanLines(\"QCM.csv\")\n",
    "print(lines[0])\n",
    "print(lines[76])\n",
    "print(\"\\n\" in lines[0]) #Should be False"
   ]
  },
  {
   "cell_type": "markdown",
   "metadata": {},
   "source": [
    "### Bài 2 - Biểu diễn dữ liệu bằng list của list\n",
    "Sau khi hoàn thành bài 1.(3), ta đã có một **list** các **str**, mỗi **str** tương ứng với một câu hỏi. Biểu diễn này chưa tốt vì chưa cho phép ta làm việc với từng thành phần của mỗi câu hỏi. Để tiếp cận mỗi thành phần, ta sẽ biểu diễn các **str** này thành các list có độ dài 12.\n",
    "\n",
    "*Hãy viết hàm **parseQuestionsAsListOfList(lines)** nhận đối số **lines** là một **list** các **str** có dạng như output của bài 1.(3), và trả lại kết quả là một **list** các **list** các **str**, mỗi **str** tương ứng với một thành phần (như phạm vi, nội dung, phương án A, hashtags...) của một câu hỏi, xuất hiện theo đúng thứ tự như trong file.*\n",
    "\n",
    "Bạn có thể dùng đoạn code sau để test."
   ]
  },
  {
   "cell_type": "code",
   "execution_count": 6,
   "metadata": {
    "collapsed": false
   },
   "outputs": [
    {
     "name": "stdout",
     "output_type": "stream",
     "text": [
      "Quốc hiệu nước ta dưới thời Lý Nam Đế là gì?\n",
      "Vạn Xuân\n"
     ]
    }
   ],
   "source": [
    "lines = readQuestionFileAsCleanLines(\"QCM.csv\")\n",
    "questions = parseQuestionsAsListOfList(lines)\n",
    "print(questions[48][3])\n",
    "print(questions[48][5])"
   ]
  },
  {
   "cell_type": "markdown",
   "metadata": {},
   "source": [
    "### Bài 3 - Tìm đáp án của câu hỏi"
   ]
  },
  {
   "cell_type": "markdown",
   "metadata": {},
   "source": [
    "Giả sử ta có tình huống như sau: biết nội dung của câu hỏi và cần tìm đáp án của nó dưới dạng tự luận (tức là đáp án hiển thị một cách rõ ràng chứ không chỉ là một kí tự A, B, C, D).\n",
    "\n",
    "*Hãy viết hàm **answer(questions_list, question_content)** nhận đối số **questions_list** là một **list** các **list** như output của bài 2, và một đối số **question_content** là một **str** nội dung của câu hỏi, rồi trả lại đáp án đúng dưới dạng một **str**.*\n",
    "\n",
    "Ví dụ, đoạn code để test dưới đây cần ra đúng kết quả \"Vạn Xuân\""
   ]
  },
  {
   "cell_type": "code",
   "execution_count": 7,
   "metadata": {
    "collapsed": false
   },
   "outputs": [
    {
     "name": "stdout",
     "output_type": "stream",
     "text": [
      "Vạn Xuân\n"
     ]
    }
   ],
   "source": [
    "lines = readQuestionFileAsCleanLines(\"QCM.csv\")\n",
    "questions = parseQuestionsAsListOfList(lines)\n",
    "print(answer(questions, \"Quốc hiệu nước ta dưới thời Lý Nam Đế là gì?\"))"
   ]
  },
  {
   "cell_type": "markdown",
   "metadata": {},
   "source": [
    "**Hiểu thêm: ** Ta có thể tìm tốc độ tìm kiếm bằng cách cho hàm chạy 10000 lần và xem thời gian cần thiết để đưa ra kết quả trung bình là bao nhiêu."
   ]
  },
  {
   "cell_type": "code",
   "execution_count": 8,
   "metadata": {
    "collapsed": false
   },
   "outputs": [
    {
     "name": "stdout",
     "output_type": "stream",
     "text": [
      "('Find the answer using list of list took ', 0.07500004768371582, ' seconds')\n"
     ]
    }
   ],
   "source": [
    "import time\n",
    "lines = readQuestionFileAsCleanLines(\"QCM.csv\")\n",
    "questions = parseQuestionsAsListOfList(lines)\n",
    "begin = time.time() #Get current time\n",
    "for i in range(10000):\n",
    "    a = answer(questions, \"Quốc hiệu nước ta dưới thời Lý Nam Đế là gì?\")\n",
    "end = time.time() #Get current time\n",
    "print(\"Find the answer using list of list took \", end - begin, \" seconds\")"
   ]
  },
  {
   "cell_type": "markdown",
   "metadata": {},
   "source": [
    "### Bài 4 - Thử một cách biểu diễn dữ liệu khác, dùng từ điển"
   ]
  },
  {
   "cell_type": "markdown",
   "metadata": {},
   "source": [
    "Giả sử tình huống của bài 3 có xuất hiện trong thực tế và ta cần biểu diễn dữ liệu để thời gian tìm kiếm đáp án theo nội dung của câu hỏi được tối ưu. Ta sẽ thử biểu diễn dữ liệu theo một **dict** các **list**, trong đó các key trong từ điển do ta tuỳ chọn. Ta thử dùng **hash(nội dung câu hỏi)** làm key và list 12 thành phần của câu hỏi làm value.\n",
    "\n",
    "*Hãy viết hàm **parseQuestionsAsDictionary(lines)**  nhận đối số **lines** là một **list** các **str** có dạng như output của bài 1.(3), và trả lại kết quả là một **dict** với các **key** là **hash** của nội dung câu hỏi, và **value** là list 12 thành phần của câu hỏi.*\n",
    "\n",
    "Đoạn code dưới đây giúp test hàm của bạn."
   ]
  },
  {
   "cell_type": "code",
   "execution_count": 9,
   "metadata": {
    "collapsed": false
   },
   "outputs": [
    {
     "name": "stdout",
     "output_type": "stream",
     "text": [
      "-520583810\n",
      "['VN', '1', '49', 'Qu\\xe1\\xbb\\x91c hi\\xe1\\xbb\\x87u n\\xc6\\xb0\\xe1\\xbb\\x9bc ta d\\xc6\\xb0\\xe1\\xbb\\x9bi th\\xe1\\xbb\\x9di L\\xc3\\xbd Nam \\xc4\\x90\\xe1\\xba\\xbf l\\xc3\\xa0 g\\xc3\\xac?', '\\xc3\\x82u L\\xe1\\xba\\xa1c', 'V\\xe1\\xba\\xa1n Xu\\xc3\\xa2n', '\\xc4\\x90\\xe1\\xba\\xa1i C\\xe1\\xbb\\x93 Vi\\xe1\\xbb\\x87t', '\\xc4\\x90\\xe1\\xba\\xa1i Vi\\xe1\\xbb\\x87t', 'B', 'E', '-', '-']\n"
     ]
    }
   ],
   "source": [
    "lines = readQuestionFileAsCleanLines(\"QCM.csv\")\n",
    "questions = parseQuestionsAsDictionary(lines)\n",
    "A = hash(\"Quốc hiệu nước ta dưới thời Lý Nam Đế là gì?\")\n",
    "print(A)\n",
    "print(questions[hash(A)])"
   ]
  },
  {
   "cell_type": "markdown",
   "metadata": {},
   "source": [
    "### Bài 5 - Tìm đáp án với biểu diễn dữ liệu bằng từ điển"
   ]
  },
  {
   "cell_type": "markdown",
   "metadata": {},
   "source": [
    "Cùng một tình huống với bài 3, ta muốn tìm câu trả lời cho một câu hỏi bằng cách dùng từ điển đã viết ở bài 4.\n",
    "\n",
    "*Hãy viết hàm **answer_2(questions_dictionary, question_content)** nhận đối số **questions_dictionary** là một **dict** các **list** như output của bài 4, và một đối số **question_content** là một **str** nội dung của câu hỏi, rồi trả lại đáp án đúng dưới dạng một **str**.*\n",
    "\n",
    "Đoạn code dưới đây giúp test hàm của bạn."
   ]
  },
  {
   "cell_type": "code",
   "execution_count": 10,
   "metadata": {
    "collapsed": false
   },
   "outputs": [
    {
     "name": "stdout",
     "output_type": "stream",
     "text": [
      "Vạn Xuân\n"
     ]
    }
   ],
   "source": [
    "lines = readQuestionFileAsCleanLines(\"QCM.csv\")\n",
    "questions = parseQuestionsAsDictionary(lines)\n",
    "print(answer_2(questions, \"Quốc hiệu nước ta dưới thời Lý Nam Đế là gì?\"))"
   ]
  },
  {
   "cell_type": "markdown",
   "metadata": {},
   "source": [
    "**Hiểu thêm**: Ta thử tìm kiếm 10000 lần bằng phương pháp dùng từ điển."
   ]
  },
  {
   "cell_type": "code",
   "execution_count": 11,
   "metadata": {
    "collapsed": false
   },
   "outputs": [
    {
     "name": "stdout",
     "output_type": "stream",
     "text": [
      "('Find the answer using list of list took ', 0.012000083923339844, ' seconds')\n"
     ]
    }
   ],
   "source": [
    "import time\n",
    "lines = readQuestionFileAsCleanLines(\"QCM.csv\")\n",
    "questions = parseQuestionsAsDictionary(lines)\n",
    "begin = time.time() #Get current time\n",
    "for i in range(10000):\n",
    "    a = answer_2(questions, \"Quốc hiệu nước ta dưới thời Lý Nam Đế là gì?\")\n",
    "end = time.time() #Get current time\n",
    "print(\"Find the answer using list of list took \", end - begin, \" seconds\")"
   ]
  },
  {
   "cell_type": "markdown",
   "metadata": {},
   "source": [
    "So sánh với phương pháp dùng **list**, kết quả như thế nào? Sự bất cẩn của phương pháp thứ hai này là gì?"
   ]
  },
  {
   "cell_type": "markdown",
   "metadata": {},
   "source": [
    "## Phần 2 - Một số hàm phụ chuẩn bị cho ứng dụng"
   ]
  },
  {
   "cell_type": "markdown",
   "metadata": {},
   "source": [
    "### Bài 6 - Tìm câu hỏi chứa một từ"
   ]
  },
  {
   "cell_type": "markdown",
   "metadata": {},
   "source": [
    "Đọc lại về hai ứng dụng ta muốn tạo ra ban đầu, ta thấy tình huống \"tìm kết quả của câu hỏi\" không thực sự liên quan đến 2 trường hợp cần giải quyết, do đó cách biểu diễn ở bài 4, 5 không phát huy được . Vì vậy, ta sẽ chọn phương pháp biểu diễn bằng **list** các **list** như bài 2, 3.\n",
    "\n",
    "Bây giờ, quay lại với hai ứng dụng, ta thấy có một số hàm cần viết. Ở ứng dụng 2, đó là việc tìm ra tất cả các câu hỏi chứa 1 từ khoá tuỳ ý.\n",
    "\n",
    "*Hãy viết hàm **searchQuestionsContainingWord(questions_list, keyword)** nhận đối số **questions_list** là **list** các **list** như output của bài 2, và đối số **keyword** là từ khoá có thể xuất hiện trong nội dung của câu hỏi, và trả lại một list con của **questions_list** chứa tất cả các câu hỏi mà nội dung chứa từ khoá đó.*\n",
    "\n",
    "Bạn có thể dùng **filter** để làm gọn code của mình. Đoạn code dưới đây giúp test hàm của bạn."
   ]
  },
  {
   "cell_type": "code",
   "execution_count": 12,
   "metadata": {
    "collapsed": false
   },
   "outputs": [
    {
     "name": "stdout",
     "output_type": "stream",
     "text": [
      "5\n",
      "['VN', '1', '26', 'Nh\\xc3\\xa2n v\\xe1\\xba\\xadt l\\xe1\\xbb\\x8bch s\\xe1\\xbb\\xad n\\xc3\\xa0o ch\\xe1\\xbb\\x91ng l\\xe1\\xba\\xa1i qu\\xc3\\xa2n x\\xc3\\xa2m l\\xc6\\xb0\\xe1\\xbb\\xa3c Tr\\xe1\\xba\\xa7n (Trung Qu\\xe1\\xbb\\x91c), gi\\xe1\\xbb\\xaf v\\xe1\\xbb\\xafng \\xc4\\x91\\xe1\\xbb\\x99c l\\xe1\\xba\\xadp t\\xe1\\xba\\xa1m th\\xe1\\xbb\\x9di c\\xe1\\xbb\\xa7a d\\xc3\\xa2n t\\xe1\\xbb\\x99c?', '\\xc4\\x90inh Ki\\xe1\\xba\\xbfn, L\\xc3\\xbd T\\xe1\\xbb\\xb1 Ti\\xc3\\xaan (th\\xe1\\xba\\xbf k\\xe1\\xbb\\x89 VII)', 'D\\xc6\\xb0\\xc6\\xa1ng Thanh (th\\xe1\\xba\\xbf k\\xe1\\xbb\\x89 IX)', 'L\\xc3\\xbd Ph\\xe1\\xba\\xadt T\\xe1\\xbb\\xad (th\\xe1\\xba\\xbf k\\xe1\\xbb\\x89 VI, VII)', 'Tri\\xe1\\xbb\\x87u Quang Ph\\xe1\\xbb\\xa5c (th\\xe1\\xba\\xbf k\\xe1\\xbb\\x89 VI)', 'D', 'H', '-', '-']\n",
      "Nhân vật lịch sử nào chống lại quân xâm lược Trần (Trung Quốc), giữ vững độc lập tạm thời của dân tộc?\n"
     ]
    }
   ],
   "source": [
    "lines = readQuestionFileAsCleanLines(\"QCM.csv\")\n",
    "questions = parseQuestionsAsListOfList(lines)\n",
    "S = searchQuestionsContainingWord(questions, \"Trần\")\n",
    "print(len(S))\n",
    "print(S[0])\n",
    "print(S[0][CONTENT]) #CONTENT = 3"
   ]
  },
  {
   "cell_type": "markdown",
   "metadata": {},
   "source": [
    "### Bài 7 - Cập nhật một thành phần của câu hỏi"
   ]
  },
  {
   "cell_type": "markdown",
   "metadata": {},
   "source": [
    "Cũng trong ứng dụng 2, ta cần sửa chữa một câu hỏi (ví dụ: thêm hashtag ở cột 10).\n",
    "\n",
    "*Hãy viết hàm **modify(question, column_index, text)** nhận đối số **question** là một câu hỏi (tức một **list** 12 thành phần),  **column_index** là chỉ số của thành phần cần thay đổi (ví dụ, thành phần \"Thời đại\" có chỉ số cột là PERIOD = 1), **text** là nội dung cần ghi đè vào cột đó; và thực hiện sự ghi đè. Hàm này không cần return gì cả.*\n",
    "\n",
    "Đoạn code dưới đây giúp test hàm của bạn."
   ]
  },
  {
   "cell_type": "code",
   "execution_count": 13,
   "metadata": {
    "collapsed": false
   },
   "outputs": [
    {
     "name": "stdout",
     "output_type": "stream",
     "text": [
      "Xuân Thu và Chiến Quốc là hai giai đoạn của thời kì nào sau đây của Trung Quốc cổ đại?\n",
      "Updated!\n",
      "Thời nào của Trung Quốc cổ đại được chia thành Xuân Thu và Chiến Quốc?\n"
     ]
    }
   ],
   "source": [
    "lines = readQuestionFileAsCleanLines(\"QCM.csv\")\n",
    "questions = parseQuestionsAsListOfList(lines)\n",
    "print(questions[12][CONTENT]) #CONTENT = 3\n",
    "modify(questions[12], CONTENT, \"Thời nào của Trung Quốc cổ đại được chia thành Xuân Thu và Chiến Quốc?\")\n",
    "print(\"Updated!\")\n",
    "print(questions[12][CONTENT])"
   ]
  },
  {
   "cell_type": "markdown",
   "metadata": {},
   "source": [
    "*Hãy viết hàm **addTag(question, newtag)** nhận đối số **question** là một câu hỏi (tức một **list** 12 thành phần) và **newtag** là một hashtag mới cần thêm vào ở cột có chỉ số 10, và thực hiện việc thêm hashtag này. Yêu cầu: nếu chưa có hashtag nào, tức nội dung của thành phần HASHTAG đó đang có giá trị \"-\", ta xoá \"-\" và ghi đè **newtag** vào đó. Nếu đã có các hashtag và **newtag** chưa xuất hiện trong các hashtag cũ, ta thêm \"|\" và **newtag** vào bên phải.*\n",
    "\n",
    "Đoạn code dưới đây giúp test hàm của bạn."
   ]
  },
  {
   "cell_type": "code",
   "execution_count": 14,
   "metadata": {
    "collapsed": false
   },
   "outputs": [
    {
     "name": "stdout",
     "output_type": "stream",
     "text": [
      "-\n",
      "Vua\n",
      "Vua|Bắc thuộc\n",
      "Vua|Bắc thuộc\n",
      "Vua|Bắc thuộc|Khởi nghĩa\n"
     ]
    }
   ],
   "source": [
    "lines = readQuestionFileAsCleanLines(\"QCM.csv\")\n",
    "questions = parseQuestionsAsListOfList(lines)\n",
    "print(questions[48][TAGS])\n",
    "addTag(questions[48], \"Vua\")\n",
    "print(questions[48][TAGS])\n",
    "addTag(questions[48], \"Bắc thuộc\")\n",
    "print(questions[48][TAGS])\n",
    "addTag(questions[48], \"Bắc thuộc\")\n",
    "print(questions[48][TAGS])\n",
    "addTag(questions[48], \"Khởi nghĩa\")\n",
    "print(questions[48][TAGS])"
   ]
  },
  {
   "cell_type": "markdown",
   "metadata": {},
   "source": [
    "### Bài 8 - Xuất dữ liệu ra file"
   ]
  },
  {
   "cell_type": "markdown",
   "metadata": {},
   "source": [
    "Giả sử dữ liệu đã được thay đổi và đang được lưu trong một **list** các **list**. Ta muốn lưu nó vào một file mới.\n",
    "\n",
    "*Hãy viết hàm **saveDatabaseToFile(questions_list, newfilename)** nhận đối số **questions_list** là **list** các **list** (có dạng như output của bài 2) và lưu nó vào **newfilename** với định dạng như file hệt như file gốc (mỗi hàng là một câu hỏi, các câu hỏi cách nhau bởi tab)*\n",
    "\n",
    "Đoạn code dưới đây giúp test hàm của bạn."
   ]
  },
  {
   "cell_type": "code",
   "execution_count": 15,
   "metadata": {
    "collapsed": false
   },
   "outputs": [
    {
     "name": "stdout",
     "output_type": "stream",
     "text": [
      "Vua|Bắc thuộc|Khởi nghĩa\n"
     ]
    }
   ],
   "source": [
    "lines = readQuestionFileAsCleanLines(\"QCM.csv\")\n",
    "questions = parseQuestionsAsListOfList(lines)\n",
    "addTag(questions[48], \"Vua\")\n",
    "addTag(questions[48], \"Bắc thuộc\")\n",
    "addTag(questions[48], \"Khởi nghĩa\")\n",
    "saveDatabaseToFile(questions, \"QCM2.csv\")\n",
    "newquestions = parseQuestionsAsListOfList(readQuestionFileAsCleanLines(\"QCM2.csv\"))\n",
    "print(newquestions[48][TAGS])"
   ]
  },
  {
   "cell_type": "markdown",
   "metadata": {},
   "source": [
    "### Bài 9 - Phát sinh một câu hỏi ngẫu nhiên"
   ]
  },
  {
   "cell_type": "markdown",
   "metadata": {},
   "source": [
    "Ta xem như đã viết xong các hàm con cho ứng dụng 2. Quay lại với ứng dụng 1, đầu tiên cần tạo ra các câu hỏi ngẫu nhiên.\n",
    "\n",
    "*Hãy viết hàm **generateRandomQuestion(questions_list)** nhận đối số là **questions_list** (có dạng như output của bài 2) trả lại một câu hỏi ngẫu nhiên trong đó (tức một **list** 12 thành phần).*\n",
    "\n",
    "Đề bài không yêu cầu, nhưng bạn có thể để các câu hỏi được chọn ngẫu nhiên với xác suất như nhau.\n",
    "\n",
    "Thư viện **random** với hàm **randint** có thể giúp bạn. Đoạn code dưới đây giúp test hàm của bạn. (Khi chạy nó nhiều lần sẽ ra các kết quả khác nhau)."
   ]
  },
  {
   "cell_type": "code",
   "execution_count": 16,
   "metadata": {
    "collapsed": false
   },
   "outputs": [
    {
     "name": "stdout",
     "output_type": "stream",
     "text": [
      "Thời Hán đô hộ (thế kỉ II TCN - III SCN), nước ta được chia thành các đơn vị hành chính nào?\n"
     ]
    }
   ],
   "source": [
    "lines = readQuestionFileAsCleanLines(\"QCM.csv\")\n",
    "questions = parseQuestionsAsListOfList(lines)\n",
    "print(generateRandomQuestion(questions)[3])"
   ]
  },
  {
   "cell_type": "markdown",
   "metadata": {},
   "source": [
    "### Bài10 - Phát sinh *N* câu hỏi ngẫu nhiên"
   ]
  },
  {
   "cell_type": "markdown",
   "metadata": {},
   "source": [
    "*Hãy viết hàm **generateRandomQuestionList(questions_list, nb_questions)** nhận đối số là **questions_list** (có dạng như output của bài 2) và trả lại một **tuple** gồm hai phần tử, *\n",
    "- *Phần tử thứ nhất là list chỉ số của các câu hỏi được chọn.*\n",
    "- *Phần tử thứ hai là list con của **questiosn_list** gồm N câu hỏi khác nhau một cách ngẫu nhiên. Nếu N lớn hơn số lượng câu hỏi N' có trong **question_list**, trả lại N' câu hỏi.*\n",
    "\n",
    "Thư viện **random** với hàm **shuffle** có thể giúp bạn. Đoạn code dưới đây giúp test hàm của bạn. (Khi chạy nhiều lần sẽ ra kết quả khác nhau)"
   ]
  },
  {
   "cell_type": "code",
   "execution_count": 17,
   "metadata": {
    "collapsed": false
   },
   "outputs": [
    {
     "name": "stdout",
     "output_type": "stream",
     "text": [
      "<type 'tuple'>\n",
      "[54, 32, 28, 25, 47]\n",
      "Vua nào thời nhà Trần có 5 người con đều làm vua?\n",
      "\n",
      "Nước Champa ra đời từ cuộc khởi nghĩa của Khu Liên vào khoảng năm nào?\n"
     ]
    }
   ],
   "source": [
    "lines = readQuestionFileAsCleanLines(\"QCM.csv\")\n",
    "questions = parseQuestionsAsListOfList(lines)\n",
    "L = generateRandomQuestionList(questions, 5)\n",
    "print(type(L))\n",
    "print(L[0]) #Should return a random list of 5 elements, each of which is a random number between 0 and 76\n",
    "print(L[1][0][CONTENT])\n",
    "print(\"\")\n",
    "print(L[1][4][CONTENT])"
   ]
  },
  {
   "cell_type": "markdown",
   "metadata": {},
   "source": [
    "### Bài 11 - Kiểm tra kết quả"
   ]
  },
  {
   "cell_type": "markdown",
   "metadata": {
    "collapsed": true
   },
   "source": [
    "*Hãy viết hàm **isCorrectAnswer(question, answer)** nhận đối số **question** là một câu hỏi (tức một **list** 12 thành phần) và đối số **answer** là một trong 4 **str** \"A\", \"B\", \"C\" hoặc \"D\", và trả lại **True** hoặc **False** tuỳ theo đó có phải là câu trả lời đúng cho câu hỏi không.*\n",
    "\n",
    "Đoạn code dưới đây giúp test hàm của bạn."
   ]
  },
  {
   "cell_type": "code",
   "execution_count": 21,
   "metadata": {
    "collapsed": false
   },
   "outputs": [
    {
     "name": "stdout",
     "output_type": "stream",
     "text": [
      "True\n"
     ]
    }
   ],
   "source": [
    "lines = readQuestionFileAsCleanLines(\"QCM.csv\")\n",
    "questions = parseQuestionsAsListOfList(lines)\n",
    "print(isCorrectAnswer(questions[12], \"B\"))"
   ]
  },
  {
   "cell_type": "markdown",
   "metadata": {},
   "source": [
    "## Phần 3 - Ứng dụng thứ nhất - Trắc nghiệm"
   ]
  },
  {
   "cell_type": "markdown",
   "metadata": {},
   "source": [
    "Ta xây dựng một hàm có tương tác với người sử dụng thực hiện các thao tác sau:\n",
    "- Hỏi người chơi muốn trả lời một bộ gồm bao nhiêu câu hỏi.\n",
    "- Đợi người dùng nhập một số nguyên dương *N*\n",
    "- Tạo một bộ câu hỏi ngẫu nhiên với *N* câu hoặc với số câu trong dữ liệu (nếu *N* quá lớn)\n",
    "- In ra câu hỏi 1, đợi đáp án của người chơi, người chơi nhập vào một trong các kí tự 'A', 'B', 'C', 'D'\n",
    "- In ra câu hỏi 2, đợi đáp án của người chơi, người chơi nhập vào một trong các kí tự 'A', 'B', 'C', 'D'\n",
    "- ...\n",
    "- In ra câu hỏi *N* (hoặc cuối cùng), đợi đáp án của người chơi, người chơi nhập vào một trong các kí tự 'A', 'B', 'C', 'D'\n",
    "- Tính số câu trả lời đúng người chơi đã đạt được, in ra số câu trả lời đúng và kết thúc chương trình.\n",
    "\n",
    "*Hãy chạy hàm **generateHistoryTest()** trong iPython console, nếu các hàm trước đó đã hoàn thiện, chương trình sẽ chạy kiểu như sau*"
   ]
  },
  {
   "cell_type": "code",
   "execution_count": 19,
   "metadata": {
    "collapsed": false
   },
   "outputs": [
    {
     "name": "stdout",
     "output_type": "stream",
     "text": [
      "Please choose the number of question: 5\n",
      "Năm 42, tướng nào của nhà Hán được phái sang đánh dẹp khởi nghĩa Hai Bà Trưng?\n",
      "A. Mã Viện\n",
      "B. Trần Bá Tiên\n",
      "C. Lưu Hoằng Tháo\n",
      "D. Lục Dận\n",
      "Please answer by typing A, B, C or D: A\n",
      "Đâu là thứ tự tiến công đúng của nghĩa quân Hai Bà Trưng (năm 40) khi đánh đuổi quân Hán khỏi Giao Chỉ?\n",
      "A. Mê Linh, Luy Lâu, Cổ Loa\n",
      "B. Mê Linh, Cổ Loa, Luy Lâu\n",
      "C. Mê Linh, Luy Lâu, Hợp Phố\n",
      "D. Mê Linh, Cổ Loa, Hợp Phố\n",
      "Please answer by typing A, B, C or D: A\n",
      "Di tích thành Cổ Loa hiện nằm ở đâu?\n",
      "A. Phong Châu, Phú Thọ\n",
      "B. Hoa Lư, Ninh Bình\n",
      "C. Đông Anh, Hà Nội\n",
      "D. Lam Sơn, Thanh Hoá\n",
      "Please answer by typing A, B, C or D: B\n",
      "Người tối cổ xuất hiện trên Trái Đất vào niên đại nào?\n",
      "A. 2.000.000.000 năm trước\n",
      "B. 80.000.000 năm trước\n",
      "C. 6.000.000 năm trước\n",
      "D. 400.000 năm trước\n",
      "Please answer by typing A, B, C or D: C\n",
      "Thời Hán đô hộ (thế kỉ II TCN - III SCN), nước ta được chia thành các đơn vị hành chính nào?\n",
      "A. 2 quận: Giao Chỉ, Cửu Chân\n",
      "B. 3 quận: Giao Chỉ, Cửu Chân, Nhật Nam\n",
      "C. 1 phủ: Tĩnh Hải phủ\n",
      "D. 1 phủ: An Nam đô hộ phủ\n",
      "Please answer by typing A, B, C or D: A\n",
      "Your score is 2 / 5\n",
      "Game finished.\n"
     ]
    }
   ],
   "source": [
    "generateHistoryTest()"
   ]
  },
  {
   "cell_type": "markdown",
   "metadata": {},
   "source": [
    "### Cải tiến trò chơi"
   ]
  },
  {
   "cell_type": "markdown",
   "metadata": {},
   "source": [
    "Bây giờ, ta muốn cải tiến hàm này. Sau khi người chơi trả lời xong *N* câu (*N* $\\leq$ 50), chương trình sẽ hỏi người chơi có muốn tiếp tục hay không. Nếu người chơi nhấn \"Y\" (in hoa), chương trình sẽ tạo lại ngẫu nhiên *N* câu hỏi sao cho\" không quá *N/3* đã được sử dụng trước đó\" (ta gọi đây là **điều kiện 1**. Nếu điều kiện 1 không thoả mãn, chương trình sẽ lặp lại việc tạo ngẫu nhiên cho đến khi hoặc điều kiện 1 được thoả mãn, hoặc đã thực hiện đến bước lặp thứ 50. \n",
    "- Nếu đã thực hiện bước lặp 50 mà điều kiện 1 vẫn không được thoả mãn. Chương trình thông báo không còn câu hỏi, in số câu trả lời đúng của người chơi và kết thúc.\n",
    "- Nếu chọn được bộ câu hỏi thoả mãn điều kiện 1, trò chơi tiếp tục y hệt lượt đầu tiên. Chương trình in từng câu hỏi cho người chơi và nhận đáp án như cũ, và cũng hỏi người chơi có muốn tiếp tục một bộ câu hỏi nữa hay không.\n",
    "\n",
    "Chương trình tiếp tục như vậy cho đến khi người chơi gõ một kí tự khác 'Y' cho câu hỏi có muốn tiếp tục không, hoặc khi không còn câu hỏi.\n",
    "\n",
    "Lấy ý tưởng từ hàm **generateHistoryTest()**, bạn có thể viết hàm **generateRepeatedHistoryTest()** cho kịch bản trên. Ta viết một hàm phụ trước."
   ]
  },
  {
   "cell_type": "markdown",
   "metadata": {},
   "source": [
    "### Bài 12. Làm việc với set"
   ]
  },
  {
   "cell_type": "markdown",
   "metadata": {},
   "source": [
    "*Hãy viết hàm **isGoodChoice(indices_1, indices_2, ceil)** nhận các đối số **indices_1, indices_2** là 2 **list** các phần tử phân biệt cùng với một số nguyên khồng âm **ceil**, và trả lại **True** nếu số phần tử chung của **indices_1, indices_2** không lớn hơn **ceil**, và **False** nếu ngược lại.*\n",
    "\n",
    "Đoạn code dưới đây giúp test hàm của bạn."
   ]
  },
  {
   "cell_type": "code",
   "execution_count": 23,
   "metadata": {
    "collapsed": false
   },
   "outputs": [
    {
     "name": "stdout",
     "output_type": "stream",
     "text": [
      "True\n",
      "False\n"
     ]
    }
   ],
   "source": [
    "A = [1, 2, 3, 4, 5, 6]\n",
    "B = [10, 8, 6, 4, 2, 0]\n",
    "print(isGoodChoice(A, B, 3))\n",
    "print(isGoodChoice(B, A, 2))"
   ]
  },
  {
   "cell_type": "markdown",
   "metadata": {},
   "source": [
    "### Bài 13. Cải tiến trò chơi"
   ]
  },
  {
   "cell_type": "markdown",
   "metadata": {},
   "source": [
    "*Hãy viết hàm **generateRepeatedHistoryTest()** cho kịch bản cải tiến trên*.\n",
    "\n",
    "Lưu ý rằng trong file TestHisMCQ.py không có test13. Bạn sẽ tự chạy hàm đã viết trong iPython console để kiểm tra hàm. Dưới đây là một ví dụ."
   ]
  },
  {
   "cell_type": "code",
   "execution_count": 21,
   "metadata": {
    "collapsed": false
   },
   "outputs": [
    {
     "name": "stdout",
     "output_type": "stream",
     "text": [
      "Please choose the number of question: 2\n",
      "Thành Cổ Loa được xây hình xoắn ốc với bao nhiêu vòng thành?\n",
      "A. 1\n",
      "B. 2\n",
      "C. 3\n",
      "D. 4\n",
      "Please answer by typing A, B, C or D: A\n",
      "Nội chiến do ai chỉ huy đã làm diệt vong chế độ hội đồng nguyên lão tại Rôma và bắt đầu xác lập thời kì đế chế?\n",
      "A. César\n",
      "B. Augustus\n",
      "C. Tiberus\n",
      "D. Nero\n",
      "Please answer by typing A, B, C or D: A\n",
      "Your score this time is 1 / 2\n",
      "Number of questions has been used in the database: 2.\n",
      "Do you want to replay? Press 'Y' if yes, any other key if no: Y\n",
      "Khi thành lập Hợp chúng quốc Mỹ (1776), quốc gia này có bao nhiêu bang?\n",
      "A. 13\n",
      "B. 18\n",
      "C. 22\n",
      "D. 27\n",
      "Please answer by typing A, B, C or D: A\n",
      "Quốc hiệu nước ta dưới thời Lý Nam Đế là gì?\n",
      "A. Âu Lạc\n",
      "B. Vạn Xuân\n",
      "C. Đại Cồ Việt\n",
      "D. Đại Việt\n",
      "Please answer by typing A, B, C or D: A\n",
      "Your score this time is 1 / 2\n",
      "Number of questions has been used in the database: 4.\n",
      "Do you want to replay? Press 'Y' if yes, any other key if no: Y\n",
      "Tương truyền, Hai Bà Trưng tự vẫn ở sông nào?\n",
      "A. Sông Mã\n",
      "B. Sông Đuống\n",
      "C. Sông Như Nguyệt\n",
      "D. Sông Hát\n",
      "Please answer by typing A, B, C or D: A\n",
      "Kinh đô nước ta trong thời kì Hùng Vương thuộc địa phương nào hiện nay?\n",
      "A. Phong Châu, Phú Thọ\n",
      "B. Đông Anh, Hà Nội\n",
      "C. Hoa Lư, Ninh Bình\n",
      "D. Thanh Hoá\n",
      "Please answer by typing A, B, C or D: C\n",
      "Your score this time is 0 / 2\n",
      "Number of questions has been used in the database: 6.\n",
      "Do you want to replay? Press 'Y' if yes, any other key if no: N\n",
      "Your highest score in an attempt is 1 / 2\n",
      "Game finished.\n"
     ]
    }
   ],
   "source": [
    "generateRepeatedHistoryTest()"
   ]
  },
  {
   "cell_type": "markdown",
   "metadata": {},
   "source": [
    "## Phần 4 - Ứng dụng thứ hai - Cập nhật tag bằng tìm kiếm từ khoá"
   ]
  },
  {
   "cell_type": "markdown",
   "metadata": {},
   "source": [
    "Kịch bản cho ứng dụng thứ hai như sau.\n",
    "\n",
    "- Chương trình hỏi người dùng cần tìm từ khoá nào, người dùng nhập vào một từ\n",
    "- Chương trình hỏi người dùng cần nhập hashtag nào, người dùng nhập hashtag\n",
    "- Sau đó chương trình in ra từng câu hỏi chứa từ khoá, người dùng ấn 'Y' để quyết định thêm hashtag vào câu hỏi đó, và phím khác nếu không.\n",
    "- Chương trình cập nhật dữ liệu vào một file mới có tên \"NewQCM.csv\",\n",
    "\n",
    "*Hãy chạy hàm **generateTagUpdateApplication()** trong iPython console, lưu ý chỉ dùng các hashtag không dấu như \"vua\", \"Nam\"( do iPython console không xử lí tốt tiếng Việt). Nếu các hàm trước viết đúng, chương trình sẽ chạy như mẫu sau*"
   ]
  },
  {
   "cell_type": "code",
   "execution_count": 22,
   "metadata": {
    "collapsed": false
   },
   "outputs": [
    {
     "name": "stdout",
     "output_type": "stream",
     "text": [
      "Which keyword do you want to search? Please type in Vietnamese without accent: vua\n",
      "18 questions found.\n",
      "What is the hashtag you would like to use?: king\n",
      "Thành Khang chi trị là cụm từ mô tả sự thịnh vượng của Trung Quốc dưới sự trị vì của một số vua ở triều đại nào?\n",
      "Do you want to tag this question with the hashtag king? Press 'Y' if yes, any other key if no: Y\n",
      "Ngũ bá thời Xuân Thu theo Sử kí của Tư Mã Thiên là vua những nước nào?\n",
      "Do you want to tag this question with the hashtag king? Press 'Y' if yes, any other key if no: Y\n",
      "Văn Cảnh chi trị là cụm từ mô tả sự cai trị của một số vua Trung Quốc ở thời kì nào?\n",
      "Do you want to tag this question with the hashtag king? Press 'Y' if yes, any other key if no: Y\n",
      "Trong nội chiến ở Anh 1640-1649, vua nào bị xử tử năm 1649 vì bị kết tội phản quốc?\n",
      "Do you want to tag this question with the hashtag king? Press 'Y' if yes, any other key if no: Y\n",
      "Tương truyền trong lịch sử và truyền thuyết, có bao nhiêu đời vua Hùng Vương?\n",
      "Do you want to tag this question with the hashtag king? Press 'Y' if yes, any other key if no: Y\n",
      "Theo truyền thuyết, họ của các vua Hùng là gì?\n",
      "Do you want to tag this question with the hashtag king? Press 'Y' if yes, any other key if no: Y\n",
      "Thời Hùng Vương, con gái vua được gọi là gì?\n",
      "Do you want to tag this question with the hashtag king? Press 'Y' if yes, any other key if no: Y\n",
      "Những vua nào thời Tiền Lê được truy tôn miếu hiệu? (Miếu hiệu của một vua Việt Nam bắt đầu bằng họ của vua, tiếp đến là một chữ và cuối cùng là chữ \"Tổ\" hoặc \"Tông\", ví dụ Lí Thái Tổ, Trần Thái Tông)\n",
      "Do you want to tag this question with the hashtag king? Press 'Y' if yes, any other key if no: Y\n",
      "Ba người con của vua Lê Thái Tông từng ở ngôi vua là những ai?\n",
      "Do you want to tag this question with the hashtag king? Press 'Y' if yes, any other key if no: Y\n",
      "Vua nào thời nhà Trần có 5 người con đều làm vua?\n",
      "Do you want to tag this question with the hashtag king? Press 'Y' if yes, any other key if no: Y\n",
      "Vân Đồn, thương cảng Việt Nam đầu tiên thời phong kiến, được mở dưới thời vua nào?\n",
      "Do you want to tag this question with the hashtag king? Press 'Y' if yes, any other key if no: N\n",
      "Next question: \n",
      "Quốc hiệu Đại Việt được sử dụng từ thời vua nào của Việt Nam?\n",
      "Do you want to tag this question with the hashtag king? Press 'Y' if yes, any other key if no: N\n",
      "Next question: \n",
      "Sự thăng tiến của Lý Công Uẩn trong triều Tiền Lê và việc sau này ông được suy tôn làm vua có sự trợ giúp đắc lực của thiền sư nào?\n",
      "Do you want to tag this question with the hashtag king? Press 'Y' if yes, any other key if no: N\n",
      "Next question: \n",
      "Sự kiện nào dưới đây không thuộc giai đoạn cai trị của vua Lý Thái Tông (1028-1054)?\n",
      "Do you want to tag this question with the hashtag king? Press 'Y' if yes, any other key if no: N\n",
      "Next question: \n",
      "Với 56 năm cai trị, vua nào ở ngôi lâu nhất trong lịch sử Việt Nam thời phong kiến?\n",
      "Do you want to tag this question with the hashtag king? Press 'Y' if yes, any other key if no: N\n",
      "Next question: \n",
      "Dòng nào dưới đây liệt kê đúng và đầy đủ nhất các vua nhà Lý lên ngôi khi tuổi còn nhỏ (dưới 18 tuổi)?\n",
      "Do you want to tag this question with the hashtag king? Press 'Y' if yes, any other key if no: N\n",
      "Next question: \n",
      "Việc vua đích thân cày ruộng tịch điền ở nước ta xuất hiện từ triều đại nào?\n",
      "Do you want to tag this question with the hashtag king? Press 'Y' if yes, any other key if no: N\n",
      "Next question: \n",
      "Tứ nguyệt tam vương là cụm từ mô tả sự lên ngôi của 3 vua liên tiếp của triều Nguyễn chỉ trong vòng 4 tháng. Đó là các vua nào?\n",
      "Do you want to tag this question with the hashtag king? Press 'Y' if yes, any other key if no: N\n",
      "Next question: \n",
      "No more question!\n",
      "Process finished!\n"
     ]
    }
   ],
   "source": [
    "generateTagUpdateApplication()"
   ]
  },
  {
   "cell_type": "markdown",
   "metadata": {},
   "source": [
    "*Kiểm tra lại file <a href=\"NewQCM.csv\">NewQCM.csv</a>. Hashtag \"king\" sẽ xuất hiện trong các câu hỏi được chọn.*"
   ]
  },
  {
   "cell_type": "markdown",
   "metadata": {},
   "source": [
    "<center>Hết</center>"
   ]
  }
 ],
 "metadata": {
  "kernelspec": {
   "display_name": "Python 2",
   "language": "python",
   "name": "python2"
  },
  "language_info": {
   "codemirror_mode": {
    "name": "ipython",
    "version": 2
   },
   "file_extension": ".py",
   "mimetype": "text/x-python",
   "name": "python",
   "nbconvert_exporter": "python",
   "pygments_lexer": "ipython2",
   "version": "2.7.13"
  }
 },
 "nbformat": 4,
 "nbformat_minor": 0
}
